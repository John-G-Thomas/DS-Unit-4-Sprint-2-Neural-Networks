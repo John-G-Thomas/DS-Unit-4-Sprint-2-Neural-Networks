{
  "nbformat": 4,
  "nbformat_minor": 0,
  "metadata": {
    "colab": {
      "name": "LS_DS_432_Train_Assignment.ipynb",
      "provenance": [],
      "collapsed_sections": [],
      "include_colab_link": true
    },
    "kernelspec": {
      "display_name": "U4-S1-NLP (Python3)",
      "language": "python",
      "name": "u4-s1-nlp"
    },
    "language_info": {
      "codemirror_mode": {
        "name": "ipython",
        "version": 3
      },
      "file_extension": ".py",
      "mimetype": "text/x-python",
      "name": "python",
      "nbconvert_exporter": "python",
      "pygments_lexer": "ipython3",
      "version": "3.7.0"
    },
    "nteract": {
      "version": "0.22.4"
    },
    "accelerator": "GPU"
  },
  "cells": [
    {
      "cell_type": "markdown",
      "metadata": {
        "id": "view-in-github",
        "colab_type": "text"
      },
      "source": [
        "<a href=\"https://colab.research.google.com/github/John-G-Thomas/DS-Unit-4-Sprint-2-Neural-Networks/blob/main/module2-Train/LS_DS_432_Train_Assignment.ipynb\" target=\"_parent\"><img src=\"https://colab.research.google.com/assets/colab-badge.svg\" alt=\"Open In Colab\"/></a>"
      ]
    },
    {
      "cell_type": "markdown",
      "metadata": {
        "colab_type": "text",
        "id": "NGGrt9EYlCqY"
      },
      "source": [
        "<img align=\"left\" src=\"https://lever-client-logos.s3.amazonaws.com/864372b1-534c-480e-acd5-9711f850815c-1524247202159.png\" width=200>\n",
        "<br></br>\n",
        "<br></br>\n",
        "\n",
        "# Train Practice\n",
        "\n",
        "## *Data Science Unit 4 Sprint 2 Assignment 2*\n",
        "\n",
        "Continue to use TensorFlow Keras & a sample of the [Quickdraw dataset](https://github.com/googlecreativelab/quickdraw-dataset) to build a sketch classification model. The dataset has been sampled to only 10 classes and 10000 observations per class. Please build a baseline classification model then run a few experiments with different optimizers and learning rates. \n",
        "\n",
        "*Don't forgot to switch to GPU on Colab!*"
      ]
    },
    {
      "cell_type": "markdown",
      "metadata": {
        "colab_type": "text",
        "id": "ptJ2b3wk62Ud"
      },
      "source": [
        "### Write a function to load your data\n",
        "\n",
        "Wrap yesterday's preprocessing steps into a function that returns four items:\n",
        "* X_train\n",
        "* y_train\n",
        "* X_test\n",
        "* y_test\n",
        "\n",
        "Your function should accept a `path` to the data as a argument."
      ]
    },
    {
      "cell_type": "code",
      "metadata": {
        "id": "8XKBMO6qQBKm",
        "colab_type": "code",
        "colab": {}
      },
      "source": [
        "# import cell\n",
        "import numpy as np\n",
        "import seaborn as sns\n",
        "import pandas as pd\n",
        "import tensorflow as tf \n",
        "from tensorflow import keras\n",
        "from tensorflow.keras import layers\n",
        "import sklearn.model_selection as model_selection\n",
        "from sklearn.model_selection import train_test_split\n",
        "import sklearn.linear_model\n",
        "import matplotlib.pyplot as plt\n",
        "import tempfile\n",
        "from sklearn.utils import shuffle\n",
        "import os\n",
        "# Our Model\n",
        "from tensorflow.keras import Sequential\n",
        "from tensorflow.keras.layers import Dense\n",
        "from tensorflow.keras.optimizers import SGD\n",
        "from tensorflow.keras.datasets import mnist"
      ],
      "execution_count": 24,
      "outputs": []
    },
    {
      "cell_type": "code",
      "metadata": {
        "id": "bPA1fZchUjZo",
        "colab_type": "code",
        "colab": {}
      },
      "source": [
        "data2 = np.load('quickdraw10.npz')"
      ],
      "execution_count": 7,
      "outputs": []
    },
    {
      "cell_type": "code",
      "metadata": {
        "id": "eyXJNNIiYvtu",
        "colab_type": "code",
        "colab": {}
      },
      "source": [
        "def load_quickdraw10npz(path):\n",
        "    X = path['arr_0']\n",
        "    y = path['arr_1']\n",
        "    X, y = shuffle(X, y)\n",
        "    X_train, X_test, y_train, y_test = train_test_split(X,y, train_size = 0.8, test_size = 0.2, random_state=42)\n",
        "    return X_train, X_test, y_train, y_test"
      ],
      "execution_count": 11,
      "outputs": []
    },
    {
      "cell_type": "code",
      "metadata": {
        "id": "LNI_sVBOUNtk",
        "colab_type": "code",
        "colab": {}
      },
      "source": [
        "X_train, X_test, y_train, y_test = load_quickdraw10npz(path=data2)"
      ],
      "execution_count": 12,
      "outputs": []
    },
    {
      "cell_type": "code",
      "metadata": {
        "id": "wkSYu8s2ZL1E",
        "colab_type": "code",
        "colab": {
          "base_uri": "https://localhost:8080/",
          "height": 35
        },
        "outputId": "10e0d4be-9bf8-46cc-8ee5-a6a45e2b1614"
      },
      "source": [
        "len(X_train), len(X_test), len(y_train), len(y_test)"
      ],
      "execution_count": 25,
      "outputs": [
        {
          "output_type": "execute_result",
          "data": {
            "text/plain": [
              "(80000, 20000, 80000, 20000)"
            ]
          },
          "metadata": {
            "tags": []
          },
          "execution_count": 25
        }
      ]
    },
    {
      "cell_type": "code",
      "metadata": {
        "id": "88SS7EkSf0gD",
        "colab_type": "code",
        "colab": {
          "base_uri": "https://localhost:8080/",
          "height": 35
        },
        "outputId": "e6783a2d-4f6b-46c1-9049-77d46482a318"
      },
      "source": [
        "X_train.shape"
      ],
      "execution_count": 26,
      "outputs": [
        {
          "output_type": "execute_result",
          "data": {
            "text/plain": [
              "(80000, 784)"
            ]
          },
          "metadata": {
            "tags": []
          },
          "execution_count": 26
        }
      ]
    },
    {
      "cell_type": "markdown",
      "metadata": {
        "colab_type": "text",
        "id": "l-6PxI6H5__2"
      },
      "source": [
        "### Write a Model Function\n",
        "Using your model from yesterday, write a function called `create_model` which returns a compiled TensorFlow Keras Sequential Model suitable for classifying the QuickDraw-10 dataset. Include parameters for the following: \n",
        "* Learning Rate\n",
        "* Optimizer"
      ]
    },
    {
      "cell_type": "code",
      "metadata": {
        "id": "7fLxQAiRqa2c",
        "colab_type": "code",
        "colab": {}
      },
      "source": [
        "def create_model(lr=.01):\n",
        "  opt = SGD(learning_rate=lr)\n",
        "\n",
        "  model = Sequential(\n",
        "      [\n",
        "       Dense(50, activation='relu', input_dim=784),\n",
        "       Dense(50, activation='relu')\n",
        "]\n",
        ")\n",
        "  model.compile(optimizer=opt, loss='sparse_categorical_crossentropy',\n",
        "                metrics=['accuracy'])\n",
        "  return model"
      ],
      "execution_count": 29,
      "outputs": []
    },
    {
      "cell_type": "code",
      "metadata": {
        "id": "qQai3OHfhMdh",
        "colab_type": "code",
        "colab": {}
      },
      "source": [
        "mnist_model = create_model()\n",
        "dir(mnist_model)"
      ],
      "execution_count": null,
      "outputs": []
    },
    {
      "cell_type": "code",
      "metadata": {
        "id": "MeLM--NdhJo-",
        "colab_type": "code",
        "colab": {
          "base_uri": "https://localhost:8080/",
          "height": 272
        },
        "outputId": "2199eb32-1240-4fe6-9ab9-45d45802f91e"
      },
      "source": [
        "mnist_model.summary()"
      ],
      "execution_count": 17,
      "outputs": [
        {
          "output_type": "stream",
          "text": [
            "Model: \"sequential\"\n",
            "_________________________________________________________________\n",
            "Layer (type)                 Output Shape              Param #   \n",
            "=================================================================\n",
            "dense (Dense)                (None, 32)                25120     \n",
            "_________________________________________________________________\n",
            "dense_1 (Dense)              (None, 32)                1056      \n",
            "_________________________________________________________________\n",
            "dense_2 (Dense)              (None, 10)                330       \n",
            "=================================================================\n",
            "Total params: 26,506\n",
            "Trainable params: 26,506\n",
            "Non-trainable params: 0\n",
            "_________________________________________________________________\n"
          ],
          "name": "stdout"
        }
      ]
    },
    {
      "cell_type": "code",
      "metadata": {
        "id": "y5Ys2iBirEYS",
        "colab_type": "code",
        "colab": {}
      },
      "source": [
        "\"\"\"model = keras.Sequential([\n",
        "    keras.layers.InputLayer(input_shape=(28, 28)),\n",
        "    keras.layers.Reshape(target_shape=(28, 28, 1)),\n",
        "    keras.layers.Conv2D(filters=12, kernel_size=(3, 3), activation=tf.nn.relu),\n",
        "    keras.layers.MaxPooling2D(pool_size=(2, 2)),\n",
        "    keras.layers.Flatten(),\n",
        "    keras.layers.Dense(10)\n",
        "])\n",
        "\n",
        "# Train the digit classification model\n",
        "model.compile(optimizer='adam',\n",
        "              loss=tf.keras.losses.SparseCategoricalCrossentropy(from_logits=True),\n",
        "              metrics=['accuracy'])\"\"\""
      ],
      "execution_count": null,
      "outputs": []
    },
    {
      "cell_type": "markdown",
      "metadata": {
        "colab_type": "text",
        "id": "f0pCkh8C7eGL"
      },
      "source": [
        "### Experiment with Batch Size\n",
        "* Run 5 experiments with various batch sizes of your choice. \n",
        "* Visualize the results\n",
        "* Write up an analysis of the experiments and select the \"best\" performing model among your experiments. Make sure to compare against your model's performance yesterday. "
      ]
    },
    {
      "cell_type": "code",
      "metadata": {
        "id": "-Lxr8gGsk6WZ",
        "colab_type": "code",
        "colab": {
          "base_uri": "https://localhost:8080/",
          "height": 90
        },
        "outputId": "86b184c6-526b-4678-8e20-c6f36f30e240"
      },
      "source": [
        "mnist_model_32 = create_model()\n",
        "\n",
        " bt_32= mnist_model_32.fit(X_train, y_train,\n",
        "                                # Hyperparameters!\n",
        "                                epochs=2,\n",
        "                                batch_size=32,\n",
        "                                validation_data=(X_test, y_test))"
      ],
      "execution_count": 38,
      "outputs": [
        {
          "output_type": "stream",
          "text": [
            "Epoch 1/2\n",
            "2500/2500 [==============================] - 6s 3ms/step - loss: 10.1342 - accuracy: 0.1503 - val_loss: 10.0720 - val_accuracy: 0.1506\n",
            "Epoch 2/2\n",
            "2500/2500 [==============================] - 6s 3ms/step - loss: 9.9868 - accuracy: 0.1531 - val_loss: 10.0761 - val_accuracy: 0.1485\n"
          ],
          "name": "stdout"
        }
      ]
    },
    {
      "cell_type": "code",
      "metadata": {
        "id": "H7zoFoq_nioD",
        "colab_type": "code",
        "colab": {
          "base_uri": "https://localhost:8080/",
          "height": 90
        },
        "outputId": "bf23f7c8-e396-4e33-b025-5eb5ad1fb4f9"
      },
      "source": [
        "mnist_model_16 = create_model()\n",
        "\n",
        "bt_16 = mnist_model_16.fit(X_train, y_train,\n",
        "                                # Hyperparameters!\n",
        "                                epochs=2,\n",
        "                                batch_size=16,\n",
        "                                validation_data=(X_test, y_test))"
      ],
      "execution_count": 39,
      "outputs": [
        {
          "output_type": "stream",
          "text": [
            "Epoch 1/2\n",
            "5000/5000 [==============================] - 13s 3ms/step - loss: 14.2904 - accuracy: 0.0981 - val_loss: 14.3158 - val_accuracy: 0.0998\n",
            "Epoch 2/2\n",
            "5000/5000 [==============================] - 12s 2ms/step - loss: 14.2724 - accuracy: 0.0987 - val_loss: 14.3157 - val_accuracy: 0.0999\n"
          ],
          "name": "stdout"
        }
      ]
    },
    {
      "cell_type": "code",
      "metadata": {
        "id": "eHTb-yBznmH8",
        "colab_type": "code",
        "colab": {
          "base_uri": "https://localhost:8080/",
          "height": 90
        },
        "outputId": "ab3c11b6-6d52-4e52-d615-7fbf8cb2dc1a"
      },
      "source": [
        "mnist_model_8 = create_model()\n",
        "\n",
        "bt_8 = mnist_model_8.fit(X_train, y_train,\n",
        "                                # Hyperparameters!\n",
        "                                epochs=2,\n",
        "                                batch_size=8,\n",
        "                                validation_data=(X_test, y_test))"
      ],
      "execution_count": 40,
      "outputs": [
        {
          "output_type": "stream",
          "text": [
            "Epoch 1/2\n",
            "10000/10000 [==============================] - 25s 3ms/step - loss: 11.3154 - accuracy: 0.0998 - val_loss: 11.3468 - val_accuracy: 0.1007\n",
            "Epoch 2/2\n",
            "10000/10000 [==============================] - 25s 3ms/step - loss: 11.2633 - accuracy: 0.0998 - val_loss: 11.3473 - val_accuracy: 0.1007\n"
          ],
          "name": "stdout"
        }
      ]
    },
    {
      "cell_type": "code",
      "metadata": {
        "id": "XEO3Mxasn5bk",
        "colab_type": "code",
        "colab": {
          "base_uri": "https://localhost:8080/",
          "height": 90
        },
        "outputId": "493bb7bf-0849-4989-9778-b145b4aa6e6e"
      },
      "source": [
        "mnist_model_64 = create_model()\n",
        "\n",
        "bt_64 = mnist_model_64.fit(X_train, y_train,\n",
        "                                # Hyperparameters!\n",
        "                                epochs=2,\n",
        "                                batch_size=64,\n",
        "                                validation_data=(X_test, y_test))"
      ],
      "execution_count": 41,
      "outputs": [
        {
          "output_type": "stream",
          "text": [
            "Epoch 1/2\n",
            "1250/1250 [==============================] - 3s 3ms/step - loss: 8.6843 - accuracy: 0.0983 - val_loss: 8.5432 - val_accuracy: 0.1041\n",
            "Epoch 2/2\n",
            "1250/1250 [==============================] - 3s 3ms/step - loss: 8.6697 - accuracy: 0.0990 - val_loss: 8.5432 - val_accuracy: 0.1041\n"
          ],
          "name": "stdout"
        }
      ]
    },
    {
      "cell_type": "code",
      "metadata": {
        "id": "8OxyXtAZn941",
        "colab_type": "code",
        "colab": {
          "base_uri": "https://localhost:8080/",
          "height": 90
        },
        "outputId": "876f14c2-6286-4f9a-fdb7-5fffd7339a73"
      },
      "source": [
        "mnist_model_128 = create_model()\n",
        "\n",
        "bt_128 = mnist_model_128.fit(X_train, y_train,\n",
        "                                # Hyperparameters!\n",
        "                                epochs=2,\n",
        "                                batch_size=128,\n",
        "                                validation_data=(X_test, y_test))"
      ],
      "execution_count": 42,
      "outputs": [
        {
          "output_type": "stream",
          "text": [
            "Epoch 1/2\n",
            "625/625 [==============================] - 2s 3ms/step - loss: 6.1112 - accuracy: 0.1495 - val_loss: 5.8897 - val_accuracy: 0.2016\n",
            "Epoch 2/2\n",
            "625/625 [==============================] - 2s 3ms/step - loss: 5.7895 - accuracy: 0.2058 - val_loss: 5.7338 - val_accuracy: 0.2050\n"
          ],
          "name": "stdout"
        }
      ]
    },
    {
      "cell_type": "code",
      "metadata": {
        "id": "tn2VPe9uoXKt",
        "colab_type": "code",
        "colab": {
          "base_uri": "https://localhost:8080/",
          "height": 198
        },
        "outputId": "18ea6abb-bd9d-4c0c-8443-b24d831e500c"
      },
      "source": [
        "# Viz Results\n",
        "import pandas as pd\n",
        "\n",
        "batch_sizes = []\n",
        "\n",
        "for exp, result in zip([bt_32, bt_16, bt_8, bt_64, bt_128], [\"32_\",\"16_\",\"8_\",\"64_\",\"128_\"]):\n",
        "\n",
        "  df = pd.DataFrame.from_dict(exp.history)\n",
        "  df['epoch'] = df.index.values\n",
        "  df['Batch Size'] = result\n",
        "\n",
        "  batch_sizes.append(df)\n",
        "\n",
        "df = pd.concat(batch_sizes)\n",
        "df['Batch Size'] = df['Batch Size'].astype('str')\n",
        "df.head()"
      ],
      "execution_count": 44,
      "outputs": [
        {
          "output_type": "execute_result",
          "data": {
            "text/html": [
              "<div>\n",
              "<style scoped>\n",
              "    .dataframe tbody tr th:only-of-type {\n",
              "        vertical-align: middle;\n",
              "    }\n",
              "\n",
              "    .dataframe tbody tr th {\n",
              "        vertical-align: top;\n",
              "    }\n",
              "\n",
              "    .dataframe thead th {\n",
              "        text-align: right;\n",
              "    }\n",
              "</style>\n",
              "<table border=\"1\" class=\"dataframe\">\n",
              "  <thead>\n",
              "    <tr style=\"text-align: right;\">\n",
              "      <th></th>\n",
              "      <th>loss</th>\n",
              "      <th>accuracy</th>\n",
              "      <th>val_loss</th>\n",
              "      <th>val_accuracy</th>\n",
              "      <th>epoch</th>\n",
              "      <th>Batch Size</th>\n",
              "    </tr>\n",
              "  </thead>\n",
              "  <tbody>\n",
              "    <tr>\n",
              "      <th>0</th>\n",
              "      <td>10.134218</td>\n",
              "      <td>0.150287</td>\n",
              "      <td>10.071999</td>\n",
              "      <td>0.15065</td>\n",
              "      <td>0</td>\n",
              "      <td>32_</td>\n",
              "    </tr>\n",
              "    <tr>\n",
              "      <th>1</th>\n",
              "      <td>9.986779</td>\n",
              "      <td>0.153138</td>\n",
              "      <td>10.076128</td>\n",
              "      <td>0.14850</td>\n",
              "      <td>1</td>\n",
              "      <td>32_</td>\n",
              "    </tr>\n",
              "    <tr>\n",
              "      <th>0</th>\n",
              "      <td>14.290396</td>\n",
              "      <td>0.098075</td>\n",
              "      <td>14.315772</td>\n",
              "      <td>0.09985</td>\n",
              "      <td>0</td>\n",
              "      <td>16_</td>\n",
              "    </tr>\n",
              "    <tr>\n",
              "      <th>1</th>\n",
              "      <td>14.272408</td>\n",
              "      <td>0.098738</td>\n",
              "      <td>14.315711</td>\n",
              "      <td>0.09990</td>\n",
              "      <td>1</td>\n",
              "      <td>16_</td>\n",
              "    </tr>\n",
              "    <tr>\n",
              "      <th>0</th>\n",
              "      <td>11.315432</td>\n",
              "      <td>0.099825</td>\n",
              "      <td>11.346798</td>\n",
              "      <td>0.10075</td>\n",
              "      <td>0</td>\n",
              "      <td>8_</td>\n",
              "    </tr>\n",
              "  </tbody>\n",
              "</table>\n",
              "</div>"
            ],
            "text/plain": [
              "        loss  accuracy   val_loss  val_accuracy  epoch Batch Size\n",
              "0  10.134218  0.150287  10.071999       0.15065      0        32_\n",
              "1   9.986779  0.153138  10.076128       0.14850      1        32_\n",
              "0  14.290396  0.098075  14.315772       0.09985      0        16_\n",
              "1  14.272408  0.098738  14.315711       0.09990      1        16_\n",
              "0  11.315432  0.099825  11.346798       0.10075      0         8_"
            ]
          },
          "metadata": {
            "tags": []
          },
          "execution_count": 44
        }
      ]
    },
    {
      "cell_type": "code",
      "metadata": {
        "id": "Lglgom5l7-zU",
        "colab_type": "code",
        "colab": {
          "base_uri": "https://localhost:8080/",
          "height": 279
        },
        "outputId": "8fe95b30-7850-40da-813a-8017b4bbef1b"
      },
      "source": [
        "sns.lineplot(x='epoch', y='val_accuracy', hue='Batch Size', data=df);"
      ],
      "execution_count": 45,
      "outputs": [
        {
          "output_type": "display_data",
          "data": {
            "image/png": "[encoded data removed]",
            "text/plain": [
              "<Figure size 432x288 with 1 Axes>"
            ]
          },
          "metadata": {
            "tags": [],
            "needs_background": "light"
          }
        }
      ]
    },
    {
      "cell_type": "code",
      "metadata": {
        "id": "8qs1Hcy18BSa",
        "colab_type": "code",
        "colab": {
          "base_uri": "https://localhost:8080/",
          "height": 279
        },
        "outputId": "65255797-a0b2-4b1f-8b6a-93ee9e4417d1"
      },
      "source": [
        "sns.lineplot(x='epoch', y='val_loss', hue='Batch Size', data=df);"
      ],
      "execution_count": 46,
      "outputs": [
        {
          "output_type": "display_data",
          "data": {
            "image/png": "[encoded data removed]",
            "text/plain": [
              "<Figure size 432x288 with 1 Axes>"
            ]
          },
          "metadata": {
            "tags": [],
            "needs_background": "light"
          }
        }
      ]
    },
    {
      "cell_type": "markdown",
      "metadata": {
        "colab_type": "text",
        "id": "8b-r70o8p2Dm"
      },
      "source": [
        "### Experiment with Learning Rate\n",
        "* Run 5 experiments with various learning rate magnitudes: 1, .1, .01, .001, .0001.\n",
        "* Use the \"best\" batch size from the previous experiment\n",
        "* Visualize the results\n",
        "* Write up an analysis of the experiments and select the \"best\" performing model among your experiments. Make sure to compare against the previous experiments and your model's performance yesterday. "
      ]
    },
    {
      "cell_type": "code",
      "metadata": {
        "colab_type": "code",
        "id": "_SA144xx8Luf",
        "colab": {
          "base_uri": "https://localhost:8080/",
          "height": 90
        },
        "outputId": "ee12f8e8-a99b-44b0-ded0-3fa0fc057e8c"
      },
      "source": [
        "mnist_model_1 = create_model1(lr=1)\n",
        "\n",
        "bt_1 = mnist_model_1.fit(X_train, y_train,\n",
        "                                # Hyperparameters!\n",
        "                                epochs=2,\n",
        "                                batch_size=128,\n",
        "                                validation_data=(X_test, y_test))"
      ],
      "execution_count": 52,
      "outputs": [
        {
          "output_type": "stream",
          "text": [
            "Epoch 1/2\n",
            "625/625 [==============================] - 2s 3ms/step - loss: 13.8494 - accuracy: 0.0978 - val_loss: 13.8259 - val_accuracy: 0.1006\n",
            "Epoch 2/2\n",
            "625/625 [==============================] - 2s 3ms/step - loss: 13.8530 - accuracy: 0.0999 - val_loss: 13.8259 - val_accuracy: 0.1006\n"
          ],
          "name": "stdout"
        }
      ]
    },
    {
      "cell_type": "code",
      "metadata": {
        "id": "_zQZgUdqqd2M",
        "colab_type": "code",
        "colab": {
          "base_uri": "https://localhost:8080/",
          "height": 90
        },
        "outputId": "291494ef-3e68-4d27-9804-a47b30a84a77"
      },
      "source": [
        "mnist_model_01 = create_model1(lr=.1)\n",
        "\n",
        "bt_01 = mnist_model_01.fit(X_train, y_train,\n",
        "                                # Hyperparameters!\n",
        "                                epochs=2,\n",
        "                                batch_size=128,\n",
        "                                validation_data=(X_test, y_test))"
      ],
      "execution_count": 53,
      "outputs": [
        {
          "output_type": "stream",
          "text": [
            "Epoch 1/2\n",
            "625/625 [==============================] - 2s 3ms/step - loss: 16.2364 - accuracy: 0.0993 - val_loss: 16.1041 - val_accuracy: 0.1007\n",
            "Epoch 2/2\n",
            "625/625 [==============================] - 2s 3ms/step - loss: 16.1187 - accuracy: 0.0998 - val_loss: 16.1041 - val_accuracy: 0.1007\n"
          ],
          "name": "stdout"
        }
      ]
    },
    {
      "cell_type": "code",
      "metadata": {
        "id": "TI7afghMqeK2",
        "colab_type": "code",
        "colab": {
          "base_uri": "https://localhost:8080/",
          "height": 90
        },
        "outputId": "acf2bc58-9bb0-4ac1-d070-33fae1665d71"
      },
      "source": [
        "mnist_model_001 = create_model1(lr=.01)\n",
        "\n",
        "bt_001 = mnist_model_001.fit(X_train, y_train,\n",
        "                                # Hyperparameters!\n",
        "                                epochs=2,\n",
        "                                batch_size=128,\n",
        "                                validation_data=(X_test, y_test))"
      ],
      "execution_count": 54,
      "outputs": [
        {
          "output_type": "stream",
          "text": [
            "Epoch 1/2\n",
            "625/625 [==============================] - 2s 3ms/step - loss: 5.9570 - accuracy: 0.1000 - val_loss: 5.6991 - val_accuracy: 0.1006\n",
            "Epoch 2/2\n",
            "625/625 [==============================] - 2s 3ms/step - loss: 5.6022 - accuracy: 0.0998 - val_loss: 5.7001 - val_accuracy: 0.1006\n"
          ],
          "name": "stdout"
        }
      ]
    },
    {
      "cell_type": "code",
      "metadata": {
        "id": "Bkr1XsDtqecy",
        "colab_type": "code",
        "colab": {
          "base_uri": "https://localhost:8080/",
          "height": 90
        },
        "outputId": "41b1ae6d-a47a-4ac0-ed9e-252fba84baea"
      },
      "source": [
        "mnist_model_0001 = create_model1(lr=.001)\n",
        "\n",
        "bt_0001 = mnist_model_0001.fit(X_train, y_train,\n",
        "                                # Hyperparameters!\n",
        "                                epochs=2,\n",
        "                                batch_size=128,\n",
        "                                validation_data=(X_test, y_test))"
      ],
      "execution_count": 55,
      "outputs": [
        {
          "output_type": "stream",
          "text": [
            "Epoch 1/2\n",
            "625/625 [==============================] - 2s 3ms/step - loss: 6.2892 - accuracy: 0.1076 - val_loss: 5.7729 - val_accuracy: 0.1006\n",
            "Epoch 2/2\n",
            "625/625 [==============================] - 2s 3ms/step - loss: 5.6701 - accuracy: 0.0999 - val_loss: 5.7024 - val_accuracy: 0.1006\n"
          ],
          "name": "stdout"
        }
      ]
    },
    {
      "cell_type": "code",
      "metadata": {
        "id": "3qqhbpbjqetO",
        "colab_type": "code",
        "colab": {
          "base_uri": "https://localhost:8080/",
          "height": 90
        },
        "outputId": "febaf7a9-cc7c-4d0e-815a-c04f6e6f2720"
      },
      "source": [
        "mnist_model_00001 = create_model1(lr=.0001)\n",
        "\n",
        "bt_00001 = mnist_model_00001.fit(X_train, y_train,\n",
        "                                # Hyperparameters!\n",
        "                                epochs=2,\n",
        "                                batch_size=128,\n",
        "                                validation_data=(X_test, y_test))"
      ],
      "execution_count": 51,
      "outputs": [
        {
          "output_type": "stream",
          "text": [
            "Epoch 1/2\n",
            "625/625 [==============================] - 2s 3ms/step - loss: 8.5151 - accuracy: 0.0551 - val_loss: 6.1817 - val_accuracy: 0.0778\n",
            "Epoch 2/2\n",
            "625/625 [==============================] - 2s 3ms/step - loss: 5.4923 - accuracy: 0.1061 - val_loss: 5.1244 - val_accuracy: 0.1266\n"
          ],
          "name": "stdout"
        }
      ]
    },
    {
      "cell_type": "code",
      "metadata": {
        "id": "KLO9RmdWs5Pt",
        "colab_type": "code",
        "colab": {
          "base_uri": "https://localhost:8080/",
          "height": 198
        },
        "outputId": "214a4a1c-9ded-4051-d4a4-b732a1c0181e"
      },
      "source": [
        "# Viz Results\n",
        "batch_sizes = []\n",
        "\n",
        "for exp, result in zip([bt_1 ,bt_01 ,bt_001, bt_0001, bt_00001], [\"1_\", \".1_\", \".01_\",\".001_\",\".0001_\"]):\n",
        "\n",
        "  df = pd.DataFrame.from_dict(exp.history)\n",
        "  df['epoch'] = df.index.values\n",
        "  df['Learning Rate'] = result\n",
        "\n",
        "  batch_sizes.append(df)\n",
        "\n",
        "df = pd.concat(batch_sizes)\n",
        "df['Learning Rate'] = df['Learning Rate'].astype('str')\n",
        "df.head()"
      ],
      "execution_count": 56,
      "outputs": [
        {
          "output_type": "execute_result",
          "data": {
            "text/html": [
              "<div>\n",
              "<style scoped>\n",
              "    .dataframe tbody tr th:only-of-type {\n",
              "        vertical-align: middle;\n",
              "    }\n",
              "\n",
              "    .dataframe tbody tr th {\n",
              "        vertical-align: top;\n",
              "    }\n",
              "\n",
              "    .dataframe thead th {\n",
              "        text-align: right;\n",
              "    }\n",
              "</style>\n",
              "<table border=\"1\" class=\"dataframe\">\n",
              "  <thead>\n",
              "    <tr style=\"text-align: right;\">\n",
              "      <th></th>\n",
              "      <th>loss</th>\n",
              "      <th>accuracy</th>\n",
              "      <th>val_loss</th>\n",
              "      <th>val_accuracy</th>\n",
              "      <th>epoch</th>\n",
              "      <th>Learning Rate</th>\n",
              "    </tr>\n",
              "  </thead>\n",
              "  <tbody>\n",
              "    <tr>\n",
              "      <th>0</th>\n",
              "      <td>13.849377</td>\n",
              "      <td>0.097800</td>\n",
              "      <td>13.825858</td>\n",
              "      <td>0.10055</td>\n",
              "      <td>0</td>\n",
              "      <td>1_</td>\n",
              "    </tr>\n",
              "    <tr>\n",
              "      <th>1</th>\n",
              "      <td>13.853038</td>\n",
              "      <td>0.099863</td>\n",
              "      <td>13.825858</td>\n",
              "      <td>0.10055</td>\n",
              "      <td>1</td>\n",
              "      <td>1_</td>\n",
              "    </tr>\n",
              "    <tr>\n",
              "      <th>0</th>\n",
              "      <td>16.236446</td>\n",
              "      <td>0.099312</td>\n",
              "      <td>16.104124</td>\n",
              "      <td>0.10075</td>\n",
              "      <td>0</td>\n",
              "      <td>.1_</td>\n",
              "    </tr>\n",
              "    <tr>\n",
              "      <th>1</th>\n",
              "      <td>16.118654</td>\n",
              "      <td>0.099813</td>\n",
              "      <td>16.104120</td>\n",
              "      <td>0.10075</td>\n",
              "      <td>1</td>\n",
              "      <td>.1_</td>\n",
              "    </tr>\n",
              "    <tr>\n",
              "      <th>0</th>\n",
              "      <td>5.956965</td>\n",
              "      <td>0.100038</td>\n",
              "      <td>5.699051</td>\n",
              "      <td>0.10065</td>\n",
              "      <td>0</td>\n",
              "      <td>.01_</td>\n",
              "    </tr>\n",
              "  </tbody>\n",
              "</table>\n",
              "</div>"
            ],
            "text/plain": [
              "        loss  accuracy   val_loss  val_accuracy  epoch Learning Rate\n",
              "0  13.849377  0.097800  13.825858       0.10055      0            1_\n",
              "1  13.853038  0.099863  13.825858       0.10055      1            1_\n",
              "0  16.236446  0.099312  16.104124       0.10075      0           .1_\n",
              "1  16.118654  0.099813  16.104120       0.10075      1           .1_\n",
              "0   5.956965  0.100038   5.699051       0.10065      0          .01_"
            ]
          },
          "metadata": {
            "tags": []
          },
          "execution_count": 56
        }
      ]
    },
    {
      "cell_type": "code",
      "metadata": {
        "id": "1n6P4iJk8kRU",
        "colab_type": "code",
        "colab": {
          "base_uri": "https://localhost:8080/",
          "height": 279
        },
        "outputId": "9fa11404-fd58-42c6-c0ae-f6840a6bf921"
      },
      "source": [
        "sns.lineplot(x='epoch', y='val_accuracy', hue='Learning Rate', data=df);"
      ],
      "execution_count": 59,
      "outputs": [
        {
          "output_type": "display_data",
          "data": {
            "image/png": "[encoded data removed]",
            "text/plain": [
              "<Figure size 432x288 with 1 Axes>"
            ]
          },
          "metadata": {
            "tags": [],
            "needs_background": "light"
          }
        }
      ]
    },
    {
      "cell_type": "code",
      "metadata": {
        "id": "YyBoMjaJ8xZk",
        "colab_type": "code",
        "colab": {
          "base_uri": "https://localhost:8080/",
          "height": 279
        },
        "outputId": "e6956b7c-2afe-40ca-bf80-faf6c7aeb4c9"
      },
      "source": [
        "sns.lineplot(x='epoch', y='val_loss', hue='Learning Rate', data=df);"
      ],
      "execution_count": 60,
      "outputs": [
        {
          "output_type": "display_data",
          "data": {
            "image/png": "[encoded data removed]",
            "text/plain": [
              "<Figure size 432x288 with 1 Axes>"
            ]
          },
          "metadata": {
            "tags": [],
            "needs_background": "light"
          }
        }
      ]
    },
    {
      "cell_type": "markdown",
      "metadata": {
        "colab_type": "text",
        "id": "gxMtSRhV9Q7I"
      },
      "source": [
        "### Experiment with different Optimizers\n",
        "* Run 5 experiments with various optimizers available in TensorFlow. See list [here](https://www.tensorflow.org/api_docs/python/tf/keras/optimizers)\n",
        "* Visualize the results\n",
        "* Write up an analysis of the experiments and select the \"best\" performing model among your experiments. Make sure to compare against the previous experiments and your model's performance yesterday.\n",
        "* Repeat the experiment combining Learning Rate and different optimizers. Does the best performing model change? "
      ]
    },
    {
      "cell_type": "code",
      "metadata": {
        "colab_type": "code",
        "id": "ujLuzdNA91ip",
        "colab": {}
      },
      "source": [
        ""
      ],
      "execution_count": null,
      "outputs": []
    },
    {
      "cell_type": "markdown",
      "metadata": {
        "colab_type": "text",
        "id": "ydAqeY9S8uHA"
      },
      "source": [
        "### Additional Written Tasks\n",
        "\n",
        "1. Describe the process of backpropagation in your own words: \n",
        "```\n",
        "In training feedforward neural networks for supervised learning. Generalizations of backpropagation exist for other artificial neural networks, and for functions generally – a class of algorithms referred to generically as \"backpropagation\".\n",
        "```\n",
        "\n"
      ]
    },
    {
      "cell_type": "markdown",
      "metadata": {
        "colab_type": "text",
        "id": "FwlRJSfBlCvy"
      },
      "source": [
        "## Stretch Goals: \n",
        "\n",
        "- Implement GridSearch on anyone of the experiments\n",
        "- On the learning rate experiments, implement [EarlyStopping](https://www.tensorflow.org/api_docs/python/tf/keras/callbacks/EarlyStopping)\n",
        "- Review material on the math behind gradient descent: \n",
        "\n",
        "  - Gradient Descent\n",
        "    - Gradient Descent, Step-by-Step  by StatQuest w/ Josh Starmer. This will help you understand the gradient descent based optimization that happens underneath the hood of neural networks. It uses a non-neural network example, which I believe is a gentler introduction. You will hear me refer to this technique as \"vanilla\" gradient descent. \n",
        "    - Stochastic Gradient Descent, Clearly Explained!!! by StatQuest w/ Josh Starmer. This builds on the techniques in the previous video.  This technique is the one that is actually implemented inside modern 'nets. \n",
        "These are great resources to help you understand tomorrow's material at a deeper level. I highly recommend watching these ahead of tomorrow.\n",
        "\n",
        "  - Background Math\n",
        "    - Dot products and duality by 3Blue1Brown. Explains the core linear algebra operation happening in today's perceptron.\n",
        "The paradox of the derivative by 3Blue1Brown. Does a great job explaining a derivative. \n",
        "    - Visualizing the chain rule and product rule by 3Blue1Brown. Explains the black magic that happens within Stochastic Gradient Descent. \n",
        "These math resources are very much optional. They can be very heady, but I encourage you to explore. Your understanding of neural networks will greatly increase if you understand this math background.\n",
        "\n",
        "\n"
      ]
    }
  ]
}