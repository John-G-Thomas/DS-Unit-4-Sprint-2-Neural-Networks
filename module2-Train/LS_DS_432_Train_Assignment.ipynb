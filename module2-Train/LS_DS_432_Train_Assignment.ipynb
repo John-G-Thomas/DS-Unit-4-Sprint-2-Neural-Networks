{
 "cells": [
  {
   "cell_type": "markdown",
   "metadata": {
    "colab_type": "text",
    "id": "view-in-github"
   },
   "source": [
    "<a href=\"https://colab.research.google.com/github/John-G-Thomas/DS-Unit-4-Sprint-2-Neural-Networks/blob/main/module2-Train/LS_DS_432_Train_Assignment.ipynb\" target=\"_parent\"><img src=\"https://colab.research.google.com/assets/colab-badge.svg\" alt=\"Open In Colab\"/></a>"
   ]
  },
  {
   "cell_type": "markdown",
   "metadata": {
    "colab_type": "text",
    "id": "NGGrt9EYlCqY"
   },
   "source": [
    "<img align=\"left\" src=\"https://lever-client-logos.s3.amazonaws.com/864372b1-534c-480e-acd5-9711f850815c-1524247202159.png\" width=200>\n",
    "<br></br>\n",
    "<br></br>\n",
    "\n",
    "# Train Practice\n",
    "\n",
    "## *Data Science Unit 4 Sprint 2 Assignment 2*\n",
    "\n",
    "Continue to use TensorFlow Keras & a sample of the [Quickdraw dataset](https://github.com/googlecreativelab/quickdraw-dataset) to build a sketch classification model. The dataset has been sampled to only 10 classes and 10000 observations per class. Please build a baseline classification model then run a few experiments with different optimizers and learning rates. \n",
    "\n",
    "*Don't forgot to switch to GPU on Colab!*"
   ]
  },
  {
   "cell_type": "markdown",
   "metadata": {
    "colab_type": "text",
    "id": "ptJ2b3wk62Ud"
   },
   "source": [
    "### Write a function to load your data\n",
    "\n",
    "Wrap yesterday's preprocessing steps into a function that returns four items:\n",
    "* X_train\n",
    "* y_train\n",
    "* X_test\n",
    "* y_test\n",
    "\n",
    "Your function should accept a `path` to the data as a argument."
   ]
  },
  {
   "cell_type": "code",
   "execution_count": 4,
   "metadata": {
    "colab": {
     "base_uri": "https://localhost:8080/",
     "height": 74
    },
    "colab_type": "code",
    "id": "8XKBMO6qQBKm",
    "outputId": "381c0715-1723-4999-f9d0-db545ddec5a5"
   },
   "outputs": [],
   "source": [
    "# import cell\n",
    "import numpy as np\n",
    "import seaborn as sns\n",
    "import pandas as pd\n",
    "import tensorflow as tf \n",
    "from tensorflow import keras\n",
    "from tensorflow.keras import layers\n",
    "import sklearn.model_selection as model_selection\n",
    "from sklearn.model_selection import train_test_split\n",
    "import sklearn.linear_model\n",
    "import matplotlib.pyplot as plt\n",
    "import tempfile\n",
    "from sklearn.utils import shuffle\n",
    "import os\n",
    "# Our Model\n",
    "from tensorflow.keras import Sequential\n",
    "from tensorflow.keras.layers import Dense\n",
    "from tensorflow.keras.optimizers import SGD\n",
    "from tensorflow.keras.datasets import mnist"
   ]
  },
  {
   "cell_type": "code",
   "execution_count": 6,
   "metadata": {
    "colab": {},
    "colab_type": "code",
    "id": "bPA1fZchUjZo"
   },
   "outputs": [
    {
     "ename": "FileNotFoundError",
     "evalue": "[Errno 2] No such file or directory: 'quickdraw10.npz'",
     "output_type": "error",
     "traceback": [
      "\u001b[1;31m---------------------------------------------------------------------------\u001b[0m",
      "\u001b[1;31mFileNotFoundError\u001b[0m                         Traceback (most recent call last)",
      "\u001b[1;32m<ipython-input-6-175feb3c27e3>\u001b[0m in \u001b[0;36m<module>\u001b[1;34m\u001b[0m\n\u001b[1;32m----> 1\u001b[1;33m \u001b[0mdata2\u001b[0m \u001b[1;33m=\u001b[0m \u001b[0mnp\u001b[0m\u001b[1;33m.\u001b[0m\u001b[0mload\u001b[0m\u001b[1;33m(\u001b[0m\u001b[1;34m'quickdraw10.npz'\u001b[0m\u001b[1;33m)\u001b[0m\u001b[1;33m\u001b[0m\u001b[0m\n\u001b[0m",
      "\u001b[1;32m~\\anaconda3\\envs\\U4-S1-NLP\\lib\\site-packages\\numpy\\lib\\npyio.py\u001b[0m in \u001b[0;36mload\u001b[1;34m(file, mmap_mode, allow_pickle, fix_imports, encoding)\u001b[0m\n\u001b[0;32m    414\u001b[0m             \u001b[0mown_fid\u001b[0m \u001b[1;33m=\u001b[0m \u001b[1;32mFalse\u001b[0m\u001b[1;33m\u001b[0m\u001b[0m\n\u001b[0;32m    415\u001b[0m         \u001b[1;32melse\u001b[0m\u001b[1;33m:\u001b[0m\u001b[1;33m\u001b[0m\u001b[0m\n\u001b[1;32m--> 416\u001b[1;33m             \u001b[0mfid\u001b[0m \u001b[1;33m=\u001b[0m \u001b[0mstack\u001b[0m\u001b[1;33m.\u001b[0m\u001b[0menter_context\u001b[0m\u001b[1;33m(\u001b[0m\u001b[0mopen\u001b[0m\u001b[1;33m(\u001b[0m\u001b[0mos_fspath\u001b[0m\u001b[1;33m(\u001b[0m\u001b[0mfile\u001b[0m\u001b[1;33m)\u001b[0m\u001b[1;33m,\u001b[0m \u001b[1;34m\"rb\"\u001b[0m\u001b[1;33m)\u001b[0m\u001b[1;33m)\u001b[0m\u001b[1;33m\u001b[0m\u001b[0m\n\u001b[0m\u001b[0;32m    417\u001b[0m             \u001b[0mown_fid\u001b[0m \u001b[1;33m=\u001b[0m \u001b[1;32mTrue\u001b[0m\u001b[1;33m\u001b[0m\u001b[0m\n\u001b[0;32m    418\u001b[0m \u001b[1;33m\u001b[0m\u001b[0m\n",
      "\u001b[1;31mFileNotFoundError\u001b[0m: [Errno 2] No such file or directory: 'quickdraw10.npz'"
     ]
    }
   ],
   "source": [
    "data2 = np.load('quickdraw10.npz')"
   ]
  },
  {
   "cell_type": "code",
   "execution_count": null,
   "metadata": {
    "colab": {},
    "colab_type": "code",
    "id": "eyXJNNIiYvtu"
   },
   "outputs": [],
   "source": [
    "def load_quickdraw10npz(path):\n",
    "    X = path['arr_0']\n",
    "    y = path['arr_1']\n",
    "    X, y = shuffle(X, y)\n",
    "    X_train, X_test, y_train, y_test = train_test_split(X,y, train_size = 0.8, test_size = 0.2, random_state=42)\n",
    "    return X_train, X_test, y_train, y_test"
   ]
  },
  {
   "cell_type": "code",
   "execution_count": 2,
   "metadata": {
    "colab": {},
    "colab_type": "code",
    "id": "LNI_sVBOUNtk"
   },
   "outputs": [
    {
     "ename": "NameError",
     "evalue": "name 'data2' is not defined",
     "output_type": "error",
     "traceback": [
      "\u001b[1;31m---------------------------------------------------------------------------\u001b[0m",
      "\u001b[1;31mNameError\u001b[0m                                 Traceback (most recent call last)",
      "\u001b[1;32m<ipython-input-2-866e9fd4d736>\u001b[0m in \u001b[0;36m<module>\u001b[1;34m\u001b[0m\n\u001b[1;32m----> 1\u001b[1;33m \u001b[0mX_train\u001b[0m\u001b[1;33m,\u001b[0m \u001b[0mX_test\u001b[0m\u001b[1;33m,\u001b[0m \u001b[0my_train\u001b[0m\u001b[1;33m,\u001b[0m \u001b[0my_test\u001b[0m \u001b[1;33m=\u001b[0m \u001b[0mload_quickdraw10npz\u001b[0m\u001b[1;33m(\u001b[0m\u001b[0mpath\u001b[0m\u001b[1;33m=\u001b[0m\u001b[0mdata2\u001b[0m\u001b[1;33m)\u001b[0m\u001b[1;33m\u001b[0m\u001b[0m\n\u001b[0m",
      "\u001b[1;31mNameError\u001b[0m: name 'data2' is not defined"
     ]
    }
   ],
   "source": [
    "X_train, X_test, y_train, y_test = load_quickdraw10npz(path=data2)"
   ]
  },
  {
   "cell_type": "code",
   "execution_count": 14,
   "metadata": {
    "colab": {
     "base_uri": "https://localhost:8080/",
     "height": 35
    },
    "colab_type": "code",
    "id": "wkSYu8s2ZL1E",
    "outputId": "3b3982e2-6e6d-42b5-d002-584dce0b3a6d"
   },
   "outputs": [
    {
     "data": {
      "text/plain": [
       "(80000, 20000, 80000, 20000)"
      ]
     },
     "execution_count": 14,
     "metadata": {
      "tags": []
     },
     "output_type": "execute_result"
    }
   ],
   "source": [
    "len(X_train), len(X_test), len(y_train), len(y_test)"
   ]
  },
  {
   "cell_type": "code",
   "execution_count": 15,
   "metadata": {
    "colab": {
     "base_uri": "https://localhost:8080/",
     "height": 35
    },
    "colab_type": "code",
    "id": "88SS7EkSf0gD",
    "outputId": "65eccc3a-6380-4252-b560-4843ce813a08"
   },
   "outputs": [
    {
     "data": {
      "text/plain": [
       "(80000, 784)"
      ]
     },
     "execution_count": 15,
     "metadata": {
      "tags": []
     },
     "output_type": "execute_result"
    }
   ],
   "source": [
    "X_train.shape"
   ]
  },
  {
   "cell_type": "markdown",
   "metadata": {
    "colab_type": "text",
    "id": "l-6PxI6H5__2"
   },
   "source": [
    "### Write a Model Function\n",
    "Using your model from yesterday, write a function called `create_model` which returns a compiled TensorFlow Keras Sequential Model suitable for classifying the QuickDraw-10 dataset. Include parameters for the following: \n",
    "* Learning Rate\n",
    "* Optimizer"
   ]
  },
  {
   "cell_type": "code",
   "execution_count": 69,
   "metadata": {
    "colab": {},
    "colab_type": "code",
    "id": "7fLxQAiRqa2c"
   },
   "outputs": [],
   "source": [
    "def create_model(lr=.01):\n",
    "  opt = tf.keras.optimizers.Adadelta(\n",
    "    learning_rate=0.001, rho=0.95, epsilon=1e-07, name='Adadelta')\n",
    "\n",
    "  model = Sequential(\n",
    "      [\n",
    "       Dense(50, activation='relu', input_dim=784),\n",
    "       Dense(50, activation='relu')\n",
    "]\n",
    ")\n",
    "  model.compile(optimizer=opt, loss='sparse_categorical_crossentropy',\n",
    "                metrics=['accuracy'])\n",
    "  return model"
   ]
  },
  {
   "cell_type": "code",
   "execution_count": null,
   "metadata": {
    "colab": {},
    "colab_type": "code",
    "id": "qQai3OHfhMdh"
   },
   "outputs": [],
   "source": [
    "mnist_model = create_model(lr=.01)\n",
    "dir(mnist_model)"
   ]
  },
  {
   "cell_type": "code",
   "execution_count": 54,
   "metadata": {
    "colab": {
     "base_uri": "https://localhost:8080/",
     "height": 235
    },
    "colab_type": "code",
    "id": "MeLM--NdhJo-",
    "outputId": "ee93379a-003a-4ca6-f369-14b21008274f"
   },
   "outputs": [
    {
     "name": "stdout",
     "output_type": "stream",
     "text": [
      "Model: \"sequential_3\"\n",
      "_________________________________________________________________\n",
      "Layer (type)                 Output Shape              Param #   \n",
      "=================================================================\n",
      "dense_6 (Dense)              (None, 50)                39250     \n",
      "_________________________________________________________________\n",
      "dense_7 (Dense)              (None, 50)                2550      \n",
      "=================================================================\n",
      "Total params: 41,800\n",
      "Trainable params: 41,800\n",
      "Non-trainable params: 0\n",
      "_________________________________________________________________\n"
     ]
    }
   ],
   "source": [
    "mnist_model.summary()"
   ]
  },
  {
   "cell_type": "code",
   "execution_count": null,
   "metadata": {
    "colab": {},
    "colab_type": "code",
    "id": "y5Ys2iBirEYS"
   },
   "outputs": [],
   "source": [
    "\"\"\"model = keras.Sequential([\n",
    "    keras.layers.InputLayer(input_shape=(28, 28)),\n",
    "    keras.layers.Reshape(target_shape=(28, 28, 1)),\n",
    "    keras.layers.Conv2D(filters=12, kernel_size=(3, 3), activation=tf.nn.relu),\n",
    "    keras.layers.MaxPooling2D(pool_size=(2, 2)),\n",
    "    keras.layers.Flatten(),\n",
    "    keras.layers.Dense(10)\n",
    "])\n",
    "\n",
    "# Train the digit classification model\n",
    "model.compile(optimizer='adam',\n",
    "              loss=tf.keras.losses.SparseCategoricalCrossentropy(from_logits=True),\n",
    "              metrics=['accuracy'])\"\"\""
   ]
  },
  {
   "cell_type": "markdown",
   "metadata": {
    "colab_type": "text",
    "id": "f0pCkh8C7eGL"
   },
   "source": [
    "### Experiment with Batch Size\n",
    "* Run 5 experiments with various batch sizes of your choice. \n",
    "* Visualize the results\n",
    "* Write up an analysis of the experiments and select the \"best\" performing model among your experiments. Make sure to compare against your model's performance yesterday. "
   ]
  },
  {
   "cell_type": "code",
   "execution_count": 57,
   "metadata": {
    "colab": {
     "base_uri": "https://localhost:8080/",
     "height": 110
    },
    "colab_type": "code",
    "id": "-Lxr8gGsk6WZ",
    "outputId": "19e83cab-aabf-4873-8feb-4e21292ad0af"
   },
   "outputs": [
    {
     "name": "stdout",
     "output_type": "stream",
     "text": [
      "Epoch 1/2\n",
      "2500/2500 [==============================] - 5s 2ms/step - loss: 9.4636 - accuracy: 0.0496 - val_loss: 9.4438 - val_accuracy: 0.0501\n",
      "Epoch 2/2\n",
      "2500/2500 [==============================] - 5s 2ms/step - loss: 9.4195 - accuracy: 0.0493 - val_loss: 9.4014 - val_accuracy: 0.0498\n"
     ]
    }
   ],
   "source": [
    "mnist_model_32 = create_model(lr=.01)\n",
    "\n",
    "bt_32= mnist_model_32.fit(X_train, y_train,\n",
    "                                # Hyperparameters!\n",
    "                                epochs=2,\n",
    "                                batch_size=32,\n",
    "                                validation_data=(X_test, y_test))"
   ]
  },
  {
   "cell_type": "code",
   "execution_count": 58,
   "metadata": {
    "colab": {
     "base_uri": "https://localhost:8080/",
     "height": 110
    },
    "colab_type": "code",
    "id": "H7zoFoq_nioD",
    "outputId": "2fabaad3-fbfc-4dd6-9d92-0acb81a0304b"
   },
   "outputs": [
    {
     "name": "stdout",
     "output_type": "stream",
     "text": [
      "Epoch 1/2\n",
      "5000/5000 [==============================] - 11s 2ms/step - loss: 11.6213 - accuracy: 0.0061 - val_loss: 11.5918 - val_accuracy: 0.0068\n",
      "Epoch 2/2\n",
      "5000/5000 [==============================] - 10s 2ms/step - loss: 11.5320 - accuracy: 0.0073 - val_loss: 11.5153 - val_accuracy: 0.0081\n"
     ]
    }
   ],
   "source": [
    "mnist_model_16 = create_model()\n",
    "\n",
    "bt_16 = mnist_model_16.fit(X_train, y_train,\n",
    "                                # Hyperparameters!\n",
    "                                epochs=2,\n",
    "                                batch_size=16,\n",
    "                                validation_data=(X_test, y_test))"
   ]
  },
  {
   "cell_type": "code",
   "execution_count": 59,
   "metadata": {
    "colab": {
     "base_uri": "https://localhost:8080/",
     "height": 110
    },
    "colab_type": "code",
    "id": "eHTb-yBznmH8",
    "outputId": "5178faf1-8afc-4493-85c8-906451b4dd4f"
   },
   "outputs": [
    {
     "name": "stdout",
     "output_type": "stream",
     "text": [
      "Epoch 1/2\n",
      "10000/10000 [==============================] - 21s 2ms/step - loss: 11.3006 - accuracy: 0.0140 - val_loss: 11.2066 - val_accuracy: 0.0126\n",
      "Epoch 2/2\n",
      "10000/10000 [==============================] - 21s 2ms/step - loss: 11.2319 - accuracy: 0.0136 - val_loss: 11.1498 - val_accuracy: 0.0122\n"
     ]
    }
   ],
   "source": [
    "mnist_model_8 = create_model()\n",
    "\n",
    "bt_8 = mnist_model_8.fit(X_train, y_train,\n",
    "                                # Hyperparameters!\n",
    "                                epochs=2,\n",
    "                                batch_size=8,\n",
    "                                validation_data=(X_test, y_test))"
   ]
  },
  {
   "cell_type": "code",
   "execution_count": 60,
   "metadata": {
    "colab": {
     "base_uri": "https://localhost:8080/",
     "height": 110
    },
    "colab_type": "code",
    "id": "XEO3Mxasn5bk",
    "outputId": "a46fad51-f6b9-4325-dff1-ad6e5f0ed26f"
   },
   "outputs": [
    {
     "name": "stdout",
     "output_type": "stream",
     "text": [
      "Epoch 1/2\n",
      "1250/1250 [==============================] - 3s 2ms/step - loss: 11.9915 - accuracy: 0.0216 - val_loss: 12.0094 - val_accuracy: 0.0204\n",
      "Epoch 2/2\n",
      "1250/1250 [==============================] - 3s 2ms/step - loss: 11.9110 - accuracy: 0.0218 - val_loss: 11.9389 - val_accuracy: 0.0208\n"
     ]
    }
   ],
   "source": [
    "mnist_model_64 = create_model()\n",
    "\n",
    "bt_64 = mnist_model_64.fit(X_train, y_train,\n",
    "                                # Hyperparameters!\n",
    "                                epochs=2,\n",
    "                                batch_size=64,\n",
    "                                validation_data=(X_test, y_test))"
   ]
  },
  {
   "cell_type": "code",
   "execution_count": 61,
   "metadata": {
    "colab": {
     "base_uri": "https://localhost:8080/",
     "height": 110
    },
    "colab_type": "code",
    "id": "8OxyXtAZn941",
    "outputId": "dc17a667-6cc3-49c2-dc14-5147eda08b5d"
   },
   "outputs": [
    {
     "name": "stdout",
     "output_type": "stream",
     "text": [
      "Epoch 1/2\n",
      "625/625 [==============================] - 1s 2ms/step - loss: 9.9614 - accuracy: 0.0232 - val_loss: 9.9095 - val_accuracy: 0.0226\n",
      "Epoch 2/2\n",
      "625/625 [==============================] - 1s 2ms/step - loss: 9.9144 - accuracy: 0.0234 - val_loss: 9.8705 - val_accuracy: 0.0229\n"
     ]
    }
   ],
   "source": [
    "mnist_model_128 = create_model()\n",
    "\n",
    "bt_128 = mnist_model_128.fit(X_train, y_train,\n",
    "                                # Hyperparameters!\n",
    "                                epochs=2,\n",
    "                                batch_size=128,\n",
    "                                validation_data=(X_test, y_test))"
   ]
  },
  {
   "cell_type": "code",
   "execution_count": 62,
   "metadata": {
    "colab": {
     "base_uri": "https://localhost:8080/",
     "height": 198
    },
    "colab_type": "code",
    "id": "tn2VPe9uoXKt",
    "outputId": "d07e16a5-1a03-47fc-e1d8-27d2ce734167"
   },
   "outputs": [
    {
     "data": {
      "text/html": [
       "<div>\n",
       "<style scoped>\n",
       "    .dataframe tbody tr th:only-of-type {\n",
       "        vertical-align: middle;\n",
       "    }\n",
       "\n",
       "    .dataframe tbody tr th {\n",
       "        vertical-align: top;\n",
       "    }\n",
       "\n",
       "    .dataframe thead th {\n",
       "        text-align: right;\n",
       "    }\n",
       "</style>\n",
       "<table border=\"1\" class=\"dataframe\">\n",
       "  <thead>\n",
       "    <tr style=\"text-align: right;\">\n",
       "      <th></th>\n",
       "      <th>loss</th>\n",
       "      <th>accuracy</th>\n",
       "      <th>val_loss</th>\n",
       "      <th>val_accuracy</th>\n",
       "      <th>epoch</th>\n",
       "      <th>Batch Size</th>\n",
       "    </tr>\n",
       "  </thead>\n",
       "  <tbody>\n",
       "    <tr>\n",
       "      <th>0</th>\n",
       "      <td>9.463621</td>\n",
       "      <td>0.049562</td>\n",
       "      <td>9.443810</td>\n",
       "      <td>0.05015</td>\n",
       "      <td>0</td>\n",
       "      <td>32_</td>\n",
       "    </tr>\n",
       "    <tr>\n",
       "      <th>1</th>\n",
       "      <td>9.419492</td>\n",
       "      <td>0.049300</td>\n",
       "      <td>9.401390</td>\n",
       "      <td>0.04975</td>\n",
       "      <td>1</td>\n",
       "      <td>32_</td>\n",
       "    </tr>\n",
       "    <tr>\n",
       "      <th>0</th>\n",
       "      <td>11.621302</td>\n",
       "      <td>0.006063</td>\n",
       "      <td>11.591763</td>\n",
       "      <td>0.00675</td>\n",
       "      <td>0</td>\n",
       "      <td>16_</td>\n",
       "    </tr>\n",
       "    <tr>\n",
       "      <th>1</th>\n",
       "      <td>11.532035</td>\n",
       "      <td>0.007325</td>\n",
       "      <td>11.515291</td>\n",
       "      <td>0.00810</td>\n",
       "      <td>1</td>\n",
       "      <td>16_</td>\n",
       "    </tr>\n",
       "    <tr>\n",
       "      <th>0</th>\n",
       "      <td>11.300570</td>\n",
       "      <td>0.013962</td>\n",
       "      <td>11.206576</td>\n",
       "      <td>0.01265</td>\n",
       "      <td>0</td>\n",
       "      <td>8_</td>\n",
       "    </tr>\n",
       "  </tbody>\n",
       "</table>\n",
       "</div>"
      ],
      "text/plain": [
       "        loss  accuracy   val_loss  val_accuracy  epoch Batch Size\n",
       "0   9.463621  0.049562   9.443810       0.05015      0        32_\n",
       "1   9.419492  0.049300   9.401390       0.04975      1        32_\n",
       "0  11.621302  0.006063  11.591763       0.00675      0        16_\n",
       "1  11.532035  0.007325  11.515291       0.00810      1        16_\n",
       "0  11.300570  0.013962  11.206576       0.01265      0         8_"
      ]
     },
     "execution_count": 62,
     "metadata": {
      "tags": []
     },
     "output_type": "execute_result"
    }
   ],
   "source": [
    "# Viz Results\n",
    "import pandas as pd\n",
    "\n",
    "batch_sizes = []\n",
    "\n",
    "for exp, result in zip([bt_32, bt_16, bt_8, bt_64, bt_128], [\"32_\",\"16_\",\"8_\",\"64_\",\"128_\"]):\n",
    "\n",
    "  df = pd.DataFrame.from_dict(exp.history)\n",
    "  df['epoch'] = df.index.values\n",
    "  df['Batch Size'] = result\n",
    "\n",
    "  batch_sizes.append(df)\n",
    "\n",
    "df = pd.concat(batch_sizes)\n",
    "df['Batch Size'] = df['Batch Size'].astype('str')\n",
    "df.head()"
   ]
  },
  {
   "cell_type": "code",
   "execution_count": 63,
   "metadata": {
    "colab": {
     "base_uri": "https://localhost:8080/",
     "height": 279
    },
    "colab_type": "code",
    "id": "Lglgom5l7-zU",
    "outputId": "8a329587-4249-498b-86c9-45a947ce741e"
   },
   "outputs": [
    {
     "data": {
      "image/png": "[encoded data removed]",
      "text/plain": [
       "<Figure size 432x288 with 1 Axes>"
      ]
     },
     "metadata": {
      "needs_background": "light",
      "tags": []
     },
     "output_type": "display_data"
    }
   ],
   "source": [
    "sns.lineplot(x='epoch', y='val_accuracy', hue='Batch Size', data=df);"
   ]
  },
  {
   "cell_type": "code",
   "execution_count": 64,
   "metadata": {
    "colab": {
     "base_uri": "https://localhost:8080/",
     "height": 279
    },
    "colab_type": "code",
    "id": "8qs1Hcy18BSa",
    "outputId": "55bd61b1-543b-4ea9-d480-326194783591"
   },
   "outputs": [
    {
     "data": {
      "image/png": "[encoded data removed]",
      "text/plain": [
       "<Figure size 432x288 with 1 Axes>"
      ]
     },
     "metadata": {
      "needs_background": "light",
      "tags": []
     },
     "output_type": "display_data"
    }
   ],
   "source": [
    "sns.lineplot(x='epoch', y='val_loss', hue='Batch Size', data=df);"
   ]
  },
  {
   "cell_type": "markdown",
   "metadata": {
    "colab_type": "text",
    "id": "8b-r70o8p2Dm"
   },
   "source": [
    "### Experiment with Learning Rate\n",
    "* Run 5 experiments with various learning rate magnitudes: 1, .1, .01, .001, .0001.\n",
    "* Use the \"best\" batch size from the previous experiment\n",
    "* Visualize the results\n",
    "* Write up an analysis of the experiments and select the \"best\" performing model among your experiments. Make sure to compare against the previous experiments and your model's performance yesterday. "
   ]
  },
  {
   "cell_type": "code",
   "execution_count": 70,
   "metadata": {
    "colab": {
     "base_uri": "https://localhost:8080/",
     "height": 110
    },
    "colab_type": "code",
    "id": "_SA144xx8Luf",
    "outputId": "6763b981-4d70-4b29-92ed-deb779d10e09"
   },
   "outputs": [
    {
     "name": "stdout",
     "output_type": "stream",
     "text": [
      "Epoch 1/2\n",
      "625/625 [==============================] - 1s 2ms/step - loss: 12.7498 - accuracy: 0.0229 - val_loss: 12.7443 - val_accuracy: 0.0226\n",
      "Epoch 2/2\n",
      "625/625 [==============================] - 1s 2ms/step - loss: 12.6876 - accuracy: 0.0229 - val_loss: 12.6763 - val_accuracy: 0.0227\n"
     ]
    }
   ],
   "source": [
    "mnist_model_1 = create_model(lr=1)\n",
    "\n",
    "bt_1 = mnist_model_1.fit(X_train, y_train,\n",
    "                                # Hyperparameters!\n",
    "                                epochs=2,\n",
    "                                batch_size=128,\n",
    "                                validation_data=(X_test, y_test))"
   ]
  },
  {
   "cell_type": "code",
   "execution_count": 71,
   "metadata": {
    "colab": {
     "base_uri": "https://localhost:8080/",
     "height": 110
    },
    "colab_type": "code",
    "id": "_zQZgUdqqd2M",
    "outputId": "7716d5cd-1df6-4cd0-8f2e-c6167e674d64"
   },
   "outputs": [
    {
     "name": "stdout",
     "output_type": "stream",
     "text": [
      "Epoch 1/2\n",
      "625/625 [==============================] - 1s 2ms/step - loss: 9.2398 - accuracy: 0.0202 - val_loss: 9.2733 - val_accuracy: 0.0225\n",
      "Epoch 2/2\n",
      "625/625 [==============================] - 1s 2ms/step - loss: 9.1899 - accuracy: 0.0204 - val_loss: 9.2247 - val_accuracy: 0.0227\n"
     ]
    }
   ],
   "source": [
    "mnist_model_01 = create_model(lr=.1)\n",
    "\n",
    "bt_01 = mnist_model_01.fit(X_train, y_train,\n",
    "                                # Hyperparameters!\n",
    "                                epochs=2,\n",
    "                                batch_size=128,\n",
    "                                validation_data=(X_test, y_test))"
   ]
  },
  {
   "cell_type": "code",
   "execution_count": 72,
   "metadata": {
    "colab": {
     "base_uri": "https://localhost:8080/",
     "height": 110
    },
    "colab_type": "code",
    "id": "TI7afghMqeK2",
    "outputId": "a4b6b17a-de53-4a9c-ec9b-6cb794491d11"
   },
   "outputs": [
    {
     "name": "stdout",
     "output_type": "stream",
     "text": [
      "Epoch 1/2\n",
      "625/625 [==============================] - 1s 2ms/step - loss: 10.1793 - accuracy: 0.0088 - val_loss: 10.1399 - val_accuracy: 0.0086\n",
      "Epoch 2/2\n",
      "625/625 [==============================] - 1s 2ms/step - loss: 10.0932 - accuracy: 0.0093 - val_loss: 10.0530 - val_accuracy: 0.0088\n"
     ]
    }
   ],
   "source": [
    "mnist_model_001 = create_model(lr=.01)\n",
    "\n",
    "bt_001 = mnist_model_001.fit(X_train, y_train,\n",
    "                                # Hyperparameters!\n",
    "                                epochs=2,\n",
    "                                batch_size=128,\n",
    "                                validation_data=(X_test, y_test))"
   ]
  },
  {
   "cell_type": "code",
   "execution_count": 73,
   "metadata": {
    "colab": {
     "base_uri": "https://localhost:8080/",
     "height": 110
    },
    "colab_type": "code",
    "id": "Bkr1XsDtqecy",
    "outputId": "eeaa46dd-6fcf-4b2e-9577-55ff64354031"
   },
   "outputs": [
    {
     "name": "stdout",
     "output_type": "stream",
     "text": [
      "Epoch 1/2\n",
      "625/625 [==============================] - 1s 2ms/step - loss: 9.3254 - accuracy: 0.0104 - val_loss: 9.3567 - val_accuracy: 0.0121\n",
      "Epoch 2/2\n",
      "625/625 [==============================] - 1s 2ms/step - loss: 9.2750 - accuracy: 0.0105 - val_loss: 9.3103 - val_accuracy: 0.0124\n"
     ]
    }
   ],
   "source": [
    "mnist_model_0001 = create_model(lr=.001)\n",
    "\n",
    "bt_0001 = mnist_model_0001.fit(X_train, y_train,\n",
    "                                # Hyperparameters!\n",
    "                                epochs=2,\n",
    "                                batch_size=128,\n",
    "                                validation_data=(X_test, y_test))"
   ]
  },
  {
   "cell_type": "code",
   "execution_count": 74,
   "metadata": {
    "colab": {
     "base_uri": "https://localhost:8080/",
     "height": 110
    },
    "colab_type": "code",
    "id": "3qqhbpbjqetO",
    "outputId": "d6942ec0-7e26-41d9-cfec-5c13f22334aa"
   },
   "outputs": [
    {
     "name": "stdout",
     "output_type": "stream",
     "text": [
      "Epoch 1/2\n",
      "625/625 [==============================] - 2s 3ms/step - loss: 11.3979 - accuracy: 0.0320 - val_loss: 11.3424 - val_accuracy: 0.0334\n",
      "Epoch 2/2\n",
      "625/625 [==============================] - 1s 2ms/step - loss: 11.3304 - accuracy: 0.0326 - val_loss: 11.2722 - val_accuracy: 0.0339\n"
     ]
    }
   ],
   "source": [
    "mnist_model_00001 = create_model(lr=.0001)\n",
    "\n",
    "bt_00001 = mnist_model_00001.fit(X_train, y_train,\n",
    "                                # Hyperparameters!\n",
    "                                epochs=2,\n",
    "                                batch_size=128,\n",
    "                                validation_data=(X_test, y_test))"
   ]
  },
  {
   "cell_type": "code",
   "execution_count": 75,
   "metadata": {
    "colab": {
     "base_uri": "https://localhost:8080/",
     "height": 198
    },
    "colab_type": "code",
    "id": "KLO9RmdWs5Pt",
    "outputId": "aa3839d5-bcfc-4738-91eb-6117d5734ef4"
   },
   "outputs": [
    {
     "data": {
      "text/html": [
       "<div>\n",
       "<style scoped>\n",
       "    .dataframe tbody tr th:only-of-type {\n",
       "        vertical-align: middle;\n",
       "    }\n",
       "\n",
       "    .dataframe tbody tr th {\n",
       "        vertical-align: top;\n",
       "    }\n",
       "\n",
       "    .dataframe thead th {\n",
       "        text-align: right;\n",
       "    }\n",
       "</style>\n",
       "<table border=\"1\" class=\"dataframe\">\n",
       "  <thead>\n",
       "    <tr style=\"text-align: right;\">\n",
       "      <th></th>\n",
       "      <th>loss</th>\n",
       "      <th>accuracy</th>\n",
       "      <th>val_loss</th>\n",
       "      <th>val_accuracy</th>\n",
       "      <th>epoch</th>\n",
       "      <th>Learning Rate</th>\n",
       "    </tr>\n",
       "  </thead>\n",
       "  <tbody>\n",
       "    <tr>\n",
       "      <th>0</th>\n",
       "      <td>12.749813</td>\n",
       "      <td>0.022875</td>\n",
       "      <td>12.744279</td>\n",
       "      <td>0.02260</td>\n",
       "      <td>0</td>\n",
       "      <td>1_</td>\n",
       "    </tr>\n",
       "    <tr>\n",
       "      <th>1</th>\n",
       "      <td>12.687602</td>\n",
       "      <td>0.022888</td>\n",
       "      <td>12.676325</td>\n",
       "      <td>0.02275</td>\n",
       "      <td>1</td>\n",
       "      <td>1_</td>\n",
       "    </tr>\n",
       "    <tr>\n",
       "      <th>0</th>\n",
       "      <td>9.239751</td>\n",
       "      <td>0.020225</td>\n",
       "      <td>9.273265</td>\n",
       "      <td>0.02250</td>\n",
       "      <td>0</td>\n",
       "      <td>.1_</td>\n",
       "    </tr>\n",
       "    <tr>\n",
       "      <th>1</th>\n",
       "      <td>9.189892</td>\n",
       "      <td>0.020400</td>\n",
       "      <td>9.224690</td>\n",
       "      <td>0.02275</td>\n",
       "      <td>1</td>\n",
       "      <td>.1_</td>\n",
       "    </tr>\n",
       "    <tr>\n",
       "      <th>0</th>\n",
       "      <td>10.179257</td>\n",
       "      <td>0.008850</td>\n",
       "      <td>10.139862</td>\n",
       "      <td>0.00855</td>\n",
       "      <td>0</td>\n",
       "      <td>.01_</td>\n",
       "    </tr>\n",
       "  </tbody>\n",
       "</table>\n",
       "</div>"
      ],
      "text/plain": [
       "        loss  accuracy   val_loss  val_accuracy  epoch Learning Rate\n",
       "0  12.749813  0.022875  12.744279       0.02260      0            1_\n",
       "1  12.687602  0.022888  12.676325       0.02275      1            1_\n",
       "0   9.239751  0.020225   9.273265       0.02250      0           .1_\n",
       "1   9.189892  0.020400   9.224690       0.02275      1           .1_\n",
       "0  10.179257  0.008850  10.139862       0.00855      0          .01_"
      ]
     },
     "execution_count": 75,
     "metadata": {
      "tags": []
     },
     "output_type": "execute_result"
    }
   ],
   "source": [
    "# Viz Results\n",
    "batch_sizes = []\n",
    "\n",
    "for exp, result in zip([bt_1 ,bt_01 ,bt_001, bt_0001, bt_00001], [\"1_\", \".1_\", \".01_\",\".001_\",\".0001_\"]):\n",
    "\n",
    "  df = pd.DataFrame.from_dict(exp.history)\n",
    "  df['epoch'] = df.index.values\n",
    "  df['Learning Rate'] = result\n",
    "\n",
    "  batch_sizes.append(df)\n",
    "\n",
    "df = pd.concat(batch_sizes)\n",
    "df['Learning Rate'] = df['Learning Rate'].astype('str')\n",
    "df.head()"
   ]
  },
  {
   "cell_type": "code",
   "execution_count": 76,
   "metadata": {
    "colab": {
     "base_uri": "https://localhost:8080/",
     "height": 282
    },
    "colab_type": "code",
    "id": "1n6P4iJk8kRU",
    "outputId": "ca3fa941-1b41-40d8-d4c5-c9035808c5e9"
   },
   "outputs": [
    {
     "data": {
      "image/png": "[encoded data removed]",
      "text/plain": [
       "<Figure size 432x288 with 1 Axes>"
      ]
     },
     "metadata": {
      "needs_background": "light",
      "tags": []
     },
     "output_type": "display_data"
    }
   ],
   "source": [
    "sns.lineplot(x='epoch', y='val_accuracy', hue='Learning Rate', data=df);"
   ]
  },
  {
   "cell_type": "code",
   "execution_count": 77,
   "metadata": {
    "colab": {
     "base_uri": "https://localhost:8080/",
     "height": 279
    },
    "colab_type": "code",
    "id": "YyBoMjaJ8xZk",
    "outputId": "7b15e508-dee7-4aec-e379-fd934050e06d"
   },
   "outputs": [
    {
     "data": {
      "image/png": "[encoded data removed]",
      "text/plain": [
       "<Figure size 432x288 with 1 Axes>"
      ]
     },
     "metadata": {
      "needs_background": "light",
      "tags": []
     },
     "output_type": "display_data"
    }
   ],
   "source": [
    "sns.lineplot(x='epoch', y='val_loss', hue='Learning Rate', data=df);"
   ]
  },
  {
   "cell_type": "markdown",
   "metadata": {
    "colab_type": "text",
    "id": "gxMtSRhV9Q7I"
   },
   "source": [
    "### Experiment with different Optimizers\n",
    "* Run 5 experiments with various optimizers available in TensorFlow. See list [here](https://www.tensorflow.org/api_docs/python/tf/keras/optimizers)\n",
    "* Visualize the results\n",
    "* Write up an analysis of the experiments and select the \"best\" performing model among your experiments. Make sure to compare against the previous experiments and your model's performance yesterday.\n",
    "* Repeat the experiment combining Learning Rate and different optimizers. Does the best performing model change? "
   ]
  },
  {
   "cell_type": "code",
   "execution_count": 86,
   "metadata": {
    "colab": {},
    "colab_type": "code",
    "id": "ujLuzdNA91ip"
   },
   "outputs": [],
   "source": [
    "def create_model(lr=float):\n",
    "  opt = tf.keras.optimizers.Adadelta(\n",
    "    learning_rate=0.001, rho=0.95, epsilon=1e-07, name='Adadelta')\n",
    "\n",
    "  model = Sequential(\n",
    "      [\n",
    "       Dense(50, activation='relu', input_dim=784),\n",
    "       Dense(50, activation='relu')\n",
    "]\n",
    ")\n",
    "  model.compile(optimizer=opt, loss='sparse_categorical_crossentropy',\n",
    "                metrics=['accuracy'])\n",
    "  return model"
   ]
  },
  {
   "cell_type": "code",
   "execution_count": 95,
   "metadata": {
    "colab": {
     "base_uri": "https://localhost:8080/",
     "height": 946
    },
    "colab_type": "code",
    "id": "f8onJ7Qwqdqy",
    "outputId": "b80811f3-26ce-4b7e-80ca-22f11c0011bb"
   },
   "outputs": [
    {
     "name": "stdout",
     "output_type": "stream",
     "text": [
      "Epoch 1/25\n",
      "2500/2500 [==============================] - 5s 2ms/step - loss: 9.5009 - accuracy: 0.0238 - val_loss: 9.6029 - val_accuracy: 0.0241\n",
      "Epoch 2/25\n",
      "2500/2500 [==============================] - 5s 2ms/step - loss: 9.4203 - accuracy: 0.0241 - val_loss: 9.5149 - val_accuracy: 0.0244\n",
      "Epoch 3/25\n",
      "2500/2500 [==============================] - 5s 2ms/step - loss: 9.3534 - accuracy: 0.0247 - val_loss: 9.4563 - val_accuracy: 0.0245\n",
      "Epoch 4/25\n",
      "2500/2500 [==============================] - 5s 2ms/step - loss: 9.2851 - accuracy: 0.0250 - val_loss: 9.3875 - val_accuracy: 0.0249\n",
      "Epoch 5/25\n",
      "2500/2500 [==============================] - 6s 2ms/step - loss: 9.2226 - accuracy: 0.0257 - val_loss: 9.3195 - val_accuracy: 0.0257\n",
      "Epoch 6/25\n",
      "2500/2500 [==============================] - 5s 2ms/step - loss: 9.1492 - accuracy: 0.0263 - val_loss: 9.2465 - val_accuracy: 0.0261\n",
      "Epoch 7/25\n",
      "2500/2500 [==============================] - 5s 2ms/step - loss: 9.0894 - accuracy: 0.0269 - val_loss: 9.1882 - val_accuracy: 0.0269\n",
      "Epoch 8/25\n",
      "2500/2500 [==============================] - 5s 2ms/step - loss: 9.0299 - accuracy: 0.0277 - val_loss: 9.1384 - val_accuracy: 0.0281\n",
      "Epoch 9/25\n",
      "2500/2500 [==============================] - 5s 2ms/step - loss: 8.9640 - accuracy: 0.0286 - val_loss: 9.0568 - val_accuracy: 0.0290\n",
      "Epoch 10/25\n",
      "2500/2500 [==============================] - 5s 2ms/step - loss: 8.9012 - accuracy: 0.0290 - val_loss: 8.9827 - val_accuracy: 0.0292\n",
      "Epoch 11/25\n",
      "2500/2500 [==============================] - 5s 2ms/step - loss: 8.8219 - accuracy: 0.0294 - val_loss: 8.8887 - val_accuracy: 0.0299\n",
      "Epoch 12/25\n",
      "2500/2500 [==============================] - 5s 2ms/step - loss: 8.7592 - accuracy: 0.0301 - val_loss: 8.8227 - val_accuracy: 0.0309\n",
      "Epoch 13/25\n",
      "2500/2500 [==============================] - 5s 2ms/step - loss: 8.7130 - accuracy: 0.0308 - val_loss: 8.7702 - val_accuracy: 0.0316\n",
      "Epoch 14/25\n",
      "2500/2500 [==============================] - 5s 2ms/step - loss: 8.6592 - accuracy: 0.0316 - val_loss: 8.6918 - val_accuracy: 0.0320\n",
      "Epoch 15/25\n",
      "2500/2500 [==============================] - 5s 2ms/step - loss: 8.5805 - accuracy: 0.0325 - val_loss: 8.6185 - val_accuracy: 0.0323\n",
      "Epoch 16/25\n",
      "2500/2500 [==============================] - 5s 2ms/step - loss: 8.4994 - accuracy: 0.0334 - val_loss: 8.5462 - val_accuracy: 0.0335\n",
      "Epoch 17/25\n",
      "2500/2500 [==============================] - 5s 2ms/step - loss: 8.4409 - accuracy: 0.0340 - val_loss: 8.4990 - val_accuracy: 0.0343\n",
      "Epoch 18/25\n",
      "2500/2500 [==============================] - 5s 2ms/step - loss: 8.3967 - accuracy: 0.0346 - val_loss: 8.4498 - val_accuracy: 0.0349\n",
      "Epoch 19/25\n",
      "2500/2500 [==============================] - 5s 2ms/step - loss: 8.3476 - accuracy: 0.0351 - val_loss: 8.4009 - val_accuracy: 0.0360\n",
      "Epoch 20/25\n",
      "2500/2500 [==============================] - 5s 2ms/step - loss: 8.2977 - accuracy: 0.0362 - val_loss: 8.3479 - val_accuracy: 0.0366\n",
      "Epoch 21/25\n",
      "2500/2500 [==============================] - 5s 2ms/step - loss: 8.2495 - accuracy: 0.0372 - val_loss: 8.3000 - val_accuracy: 0.0377\n",
      "Epoch 22/25\n",
      "2500/2500 [==============================] - 5s 2ms/step - loss: 8.2023 - accuracy: 0.0388 - val_loss: 8.2535 - val_accuracy: 0.0394\n",
      "Epoch 23/25\n",
      "2500/2500 [==============================] - 5s 2ms/step - loss: 8.1587 - accuracy: 0.0397 - val_loss: 8.1961 - val_accuracy: 0.0413\n",
      "Epoch 24/25\n",
      "2500/2500 [==============================] - 5s 2ms/step - loss: 8.1197 - accuracy: 0.0409 - val_loss: 8.1522 - val_accuracy: 0.0428\n",
      "Epoch 25/25\n",
      "2500/2500 [==============================] - 5s 2ms/step - loss: 8.0689 - accuracy: 0.0421 - val_loss: 8.1089 - val_accuracy: 0.0440\n"
     ]
    }
   ],
   "source": [
    "mnist_model_Adadelta = create_model(lr=.001)\n",
    "\n",
    "mnist_model_Adadelta1 = mnist_model_Adadelta.fit(X_train, y_train,\n",
    "                                # Hyperparameters!\n",
    "                                epochs=25,\n",
    "                                batch_size=32,\n",
    "                                validation_data=(X_test, y_test))"
   ]
  },
  {
   "cell_type": "code",
   "execution_count": 98,
   "metadata": {
    "colab": {},
    "colab_type": "code",
    "id": "iFmmzFZ2rKiw"
   },
   "outputs": [],
   "source": [
    "def create_model(lr=float):\n",
    "  opt = tf.keras.optimizers.Adam(\n",
    "    learning_rate=0.001, beta_1=0.9, beta_2=0.999, epsilon=1e-07, amsgrad=False,\n",
    "    name='Adam'\n",
    ")\n",
    "\n",
    "  model = Sequential(\n",
    "      [\n",
    "       Dense(50, activation='relu', input_dim=784),\n",
    "       Dense(50, activation='relu')\n",
    "]\n",
    ")\n",
    "  model.compile(optimizer=opt, loss='sparse_categorical_crossentropy',\n",
    "                metrics=['accuracy'])\n",
    "  return model"
   ]
  },
  {
   "cell_type": "code",
   "execution_count": 99,
   "metadata": {
    "colab": {
     "base_uri": "https://localhost:8080/",
     "height": 946
    },
    "colab_type": "code",
    "id": "eXsHLn0SrSLk",
    "outputId": "3981d681-79df-4d44-b6ab-e8e5d22beb6d"
   },
   "outputs": [
    {
     "name": "stdout",
     "output_type": "stream",
     "text": [
      "Epoch 1/25\n",
      "2500/2500 [==============================] - 5s 2ms/step - loss: 15.4688 - accuracy: 0.0182 - val_loss: 15.7802 - val_accuracy: 0.0041\n",
      "Epoch 2/25\n",
      "2500/2500 [==============================] - 5s 2ms/step - loss: 15.8126 - accuracy: 0.0056 - val_loss: 15.5852 - val_accuracy: 0.0143\n",
      "Epoch 3/25\n",
      "2500/2500 [==============================] - 5s 2ms/step - loss: 15.9762 - accuracy: 0.0045 - val_loss: 16.0687 - val_accuracy: 0.0010\n",
      "Epoch 4/25\n",
      "2500/2500 [==============================] - 5s 2ms/step - loss: 13.6139 - accuracy: 0.0268 - val_loss: 3.9116 - val_accuracy: 0.1041\n",
      "Epoch 5/25\n",
      "2500/2500 [==============================] - 5s 2ms/step - loss: 3.9046 - accuracy: 0.1066 - val_loss: 3.9092 - val_accuracy: 0.1042\n",
      "Epoch 6/25\n",
      "2500/2500 [==============================] - 5s 2ms/step - loss: 3.9164 - accuracy: 0.1072 - val_loss: 3.9052 - val_accuracy: 0.1049\n",
      "Epoch 7/25\n",
      "2500/2500 [==============================] - 5s 2ms/step - loss: 3.8980 - accuracy: 0.1072 - val_loss: 3.9052 - val_accuracy: 0.1049\n",
      "Epoch 8/25\n",
      "2500/2500 [==============================] - 5s 2ms/step - loss: 3.8980 - accuracy: 0.1072 - val_loss: 3.9052 - val_accuracy: 0.1049\n",
      "Epoch 9/25\n",
      "2500/2500 [==============================] - 5s 2ms/step - loss: 3.8980 - accuracy: 0.1072 - val_loss: 3.9052 - val_accuracy: 0.1049\n",
      "Epoch 10/25\n",
      "2500/2500 [==============================] - 5s 2ms/step - loss: 3.8980 - accuracy: 0.1072 - val_loss: 3.9052 - val_accuracy: 0.1049\n",
      "Epoch 11/25\n",
      "2500/2500 [==============================] - 5s 2ms/step - loss: 3.8980 - accuracy: 0.1072 - val_loss: 3.9052 - val_accuracy: 0.1049\n",
      "Epoch 12/25\n",
      "2500/2500 [==============================] - 5s 2ms/step - loss: 3.8980 - accuracy: 0.1072 - val_loss: 3.9052 - val_accuracy: 0.1049\n",
      "Epoch 13/25\n",
      "2500/2500 [==============================] - 5s 2ms/step - loss: 3.8980 - accuracy: 0.1072 - val_loss: 3.9052 - val_accuracy: 0.1049\n",
      "Epoch 14/25\n",
      "2500/2500 [==============================] - 5s 2ms/step - loss: 3.8980 - accuracy: 0.1072 - val_loss: 3.9052 - val_accuracy: 0.1049\n",
      "Epoch 15/25\n",
      "2500/2500 [==============================] - 5s 2ms/step - loss: 3.8980 - accuracy: 0.1072 - val_loss: 3.9052 - val_accuracy: 0.1049\n",
      "Epoch 16/25\n",
      "2500/2500 [==============================] - 5s 2ms/step - loss: 3.8980 - accuracy: 0.1072 - val_loss: 3.9052 - val_accuracy: 0.1049\n",
      "Epoch 17/25\n",
      "2500/2500 [==============================] - 5s 2ms/step - loss: 3.8980 - accuracy: 0.1072 - val_loss: 3.9052 - val_accuracy: 0.1049\n",
      "Epoch 18/25\n",
      "2500/2500 [==============================] - 5s 2ms/step - loss: 3.8980 - accuracy: 0.1072 - val_loss: 3.9052 - val_accuracy: 0.1049\n",
      "Epoch 19/25\n",
      "2500/2500 [==============================] - 5s 2ms/step - loss: 3.8980 - accuracy: 0.1072 - val_loss: 3.9052 - val_accuracy: 0.1049\n",
      "Epoch 20/25\n",
      "2500/2500 [==============================] - 5s 2ms/step - loss: 3.8980 - accuracy: 0.1072 - val_loss: 3.9052 - val_accuracy: 0.1049\n",
      "Epoch 21/25\n",
      "2500/2500 [==============================] - 5s 2ms/step - loss: 3.8980 - accuracy: 0.1072 - val_loss: 3.9052 - val_accuracy: 0.1049\n",
      "Epoch 22/25\n",
      "2500/2500 [==============================] - 5s 2ms/step - loss: 3.8980 - accuracy: 0.1072 - val_loss: 3.9052 - val_accuracy: 0.1049\n",
      "Epoch 23/25\n",
      "2500/2500 [==============================] - 5s 2ms/step - loss: 3.8980 - accuracy: 0.1072 - val_loss: 3.9052 - val_accuracy: 0.1049\n",
      "Epoch 24/25\n",
      "2500/2500 [==============================] - 5s 2ms/step - loss: 3.8980 - accuracy: 0.1072 - val_loss: 3.9052 - val_accuracy: 0.1049\n",
      "Epoch 25/25\n",
      "2500/2500 [==============================] - 5s 2ms/step - loss: 3.8980 - accuracy: 0.1072 - val_loss: 3.9052 - val_accuracy: 0.1049\n"
     ]
    }
   ],
   "source": [
    "mnist_model_Adam = create_model(lr=.001)\n",
    "\n",
    "mnist_model_Adam1 = mnist_model_Adam.fit(X_train, y_train,\n",
    "                                # Hyperparameters!\n",
    "                                epochs=25,\n",
    "                                batch_size=32,\n",
    "                                validation_data=(X_test, y_test))"
   ]
  },
  {
   "cell_type": "code",
   "execution_count": 100,
   "metadata": {
    "colab": {},
    "colab_type": "code",
    "id": "c1pop6uQsSHA"
   },
   "outputs": [],
   "source": [
    "def create_model(lr=float):\n",
    "  opt = tf.keras.optimizers.Adagrad(\n",
    "    learning_rate=0.001, initial_accumulator_value=0.1, epsilon=1e-07,\n",
    "    name='Adagrad'\n",
    ")\n",
    "\n",
    "  model = Sequential(\n",
    "      [\n",
    "       Dense(50, activation='relu', input_dim=784),\n",
    "       Dense(50, activation='relu')\n",
    "]\n",
    ")\n",
    "  model.compile(optimizer=opt, loss='sparse_categorical_crossentropy',\n",
    "                metrics=['accuracy'])\n",
    "  return model"
   ]
  },
  {
   "cell_type": "code",
   "execution_count": 101,
   "metadata": {
    "colab": {
     "base_uri": "https://localhost:8080/",
     "height": 946
    },
    "colab_type": "code",
    "id": "EJaAfaHTsW_Z",
    "outputId": "4fcc19f7-b6ae-4173-b9bf-209c35470cef"
   },
   "outputs": [
    {
     "name": "stdout",
     "output_type": "stream",
     "text": [
      "Epoch 1/25\n",
      "2500/2500 [==============================] - 5s 2ms/step - loss: 7.2210 - accuracy: 0.0259 - val_loss: 5.7552 - val_accuracy: 0.0362\n",
      "Epoch 2/25\n",
      "2500/2500 [==============================] - 5s 2ms/step - loss: 5.2576 - accuracy: 0.0427 - val_loss: 5.1028 - val_accuracy: 0.0457\n",
      "Epoch 3/25\n",
      "2500/2500 [==============================] - 5s 2ms/step - loss: 4.8114 - accuracy: 0.0490 - val_loss: 4.7938 - val_accuracy: 0.0524\n",
      "Epoch 4/25\n",
      "2500/2500 [==============================] - 5s 2ms/step - loss: 4.6191 - accuracy: 0.0563 - val_loss: 4.6449 - val_accuracy: 0.0600\n",
      "Epoch 5/25\n",
      "2500/2500 [==============================] - 5s 2ms/step - loss: 4.4965 - accuracy: 0.0640 - val_loss: 4.5407 - val_accuracy: 0.0677\n",
      "Epoch 6/25\n",
      "2500/2500 [==============================] - 5s 2ms/step - loss: 4.4115 - accuracy: 0.0707 - val_loss: 4.4627 - val_accuracy: 0.0725\n",
      "Epoch 7/25\n",
      "2500/2500 [==============================] - 5s 2ms/step - loss: 4.3544 - accuracy: 0.0738 - val_loss: 4.4264 - val_accuracy: 0.0754\n",
      "Epoch 8/25\n",
      "2500/2500 [==============================] - 5s 2ms/step - loss: 4.3150 - accuracy: 0.0794 - val_loss: 4.3763 - val_accuracy: 0.0817\n",
      "Epoch 9/25\n",
      "2500/2500 [==============================] - 5s 2ms/step - loss: 4.2807 - accuracy: 0.0852 - val_loss: 4.3524 - val_accuracy: 0.0899\n",
      "Epoch 10/25\n",
      "2500/2500 [==============================] - 5s 2ms/step - loss: 4.2605 - accuracy: 0.0931 - val_loss: 4.3419 - val_accuracy: 0.0970\n",
      "Epoch 11/25\n",
      "2500/2500 [==============================] - 5s 2ms/step - loss: 4.2560 - accuracy: 0.1023 - val_loss: 4.3358 - val_accuracy: 0.1076\n",
      "Epoch 12/25\n",
      "2500/2500 [==============================] - 5s 2ms/step - loss: 4.2514 - accuracy: 0.1127 - val_loss: 4.3376 - val_accuracy: 0.1194\n",
      "Epoch 13/25\n",
      "2500/2500 [==============================] - 5s 2ms/step - loss: 4.2463 - accuracy: 0.1288 - val_loss: 4.3179 - val_accuracy: 0.1399\n",
      "Epoch 14/25\n",
      "2500/2500 [==============================] - 5s 2ms/step - loss: 4.2272 - accuracy: 0.1469 - val_loss: 4.3081 - val_accuracy: 0.1576\n",
      "Epoch 15/25\n",
      "2500/2500 [==============================] - 5s 2ms/step - loss: 4.2034 - accuracy: 0.1661 - val_loss: 4.2677 - val_accuracy: 0.1765\n",
      "Epoch 16/25\n",
      "2500/2500 [==============================] - 6s 2ms/step - loss: 4.1805 - accuracy: 0.1813 - val_loss: 4.2451 - val_accuracy: 0.1881\n",
      "Epoch 17/25\n",
      "2500/2500 [==============================] - 5s 2ms/step - loss: 4.1422 - accuracy: 0.1936 - val_loss: 4.2088 - val_accuracy: 0.1972\n",
      "Epoch 18/25\n",
      "2500/2500 [==============================] - 5s 2ms/step - loss: 4.1040 - accuracy: 0.2021 - val_loss: 4.1587 - val_accuracy: 0.2077\n",
      "Epoch 19/25\n",
      "2500/2500 [==============================] - 5s 2ms/step - loss: 4.0610 - accuracy: 0.2074 - val_loss: 4.1425 - val_accuracy: 0.2087\n",
      "Epoch 20/25\n",
      "2500/2500 [==============================] - 5s 2ms/step - loss: 4.0367 - accuracy: 0.2079 - val_loss: 4.1172 - val_accuracy: 0.2089\n",
      "Epoch 21/25\n",
      "2500/2500 [==============================] - 5s 2ms/step - loss: 4.0084 - accuracy: 0.2086 - val_loss: 4.0912 - val_accuracy: 0.2094\n",
      "Epoch 22/25\n",
      "2500/2500 [==============================] - 5s 2ms/step - loss: 3.9851 - accuracy: 0.2084 - val_loss: 4.0631 - val_accuracy: 0.2089\n",
      "Epoch 23/25\n",
      "2500/2500 [==============================] - 5s 2ms/step - loss: 3.9679 - accuracy: 0.2075 - val_loss: 4.0555 - val_accuracy: 0.2063\n",
      "Epoch 24/25\n",
      "2500/2500 [==============================] - 5s 2ms/step - loss: 3.9506 - accuracy: 0.2079 - val_loss: 4.0352 - val_accuracy: 0.2101\n",
      "Epoch 25/25\n",
      "2500/2500 [==============================] - 5s 2ms/step - loss: 3.9446 - accuracy: 0.2089 - val_loss: 4.0238 - val_accuracy: 0.2115\n"
     ]
    }
   ],
   "source": [
    "mnist_model_Adagrad = create_model(lr=.001)\n",
    "\n",
    "mnist_model_Adagrad1 = mnist_model_Adagrad.fit(X_train, y_train,\n",
    "                                # Hyperparameters!\n",
    "                                epochs=25,\n",
    "                                batch_size=32,\n",
    "                                validation_data=(X_test, y_test))"
   ]
  },
  {
   "cell_type": "code",
   "execution_count": 102,
   "metadata": {
    "colab": {},
    "colab_type": "code",
    "id": "7sKrxVQFsf_X"
   },
   "outputs": [],
   "source": [
    "def create_model(lr=float):\n",
    "  opt = tf.keras.optimizers.RMSprop(\n",
    "    learning_rate=0.001, rho=0.9, momentum=0.0, epsilon=1e-07, centered=False,\n",
    "    name='RMSprop'\n",
    ")\n",
    "\n",
    "  model = Sequential(\n",
    "      [\n",
    "       Dense(50, activation='relu', input_dim=784),\n",
    "       Dense(50, activation='relu')\n",
    "]\n",
    ")\n",
    "  model.compile(optimizer=opt, loss='sparse_categorical_crossentropy',\n",
    "                metrics=['accuracy'])\n",
    "  return model"
   ]
  },
  {
   "cell_type": "code",
   "execution_count": 103,
   "metadata": {
    "colab": {
     "base_uri": "https://localhost:8080/",
     "height": 946
    },
    "colab_type": "code",
    "id": "jeSGsUy1skvT",
    "outputId": "823f8c4d-be43-4bd3-a5ce-e0012f9e113a"
   },
   "outputs": [
    {
     "name": "stdout",
     "output_type": "stream",
     "text": [
      "Epoch 1/25\n",
      "2500/2500 [==============================] - 6s 2ms/step - loss: 14.7524 - accuracy: 1.0000e-04 - val_loss: 14.5163 - val_accuracy: 0.0022\n",
      "Epoch 2/25\n",
      "2500/2500 [==============================] - 5s 2ms/step - loss: 14.6303 - accuracy: 8.7500e-05 - val_loss: 14.7851 - val_accuracy: 0.0000e+00\n",
      "Epoch 3/25\n",
      "2500/2500 [==============================] - 6s 2ms/step - loss: 14.7628 - accuracy: 2.5000e-05 - val_loss: 15.1651 - val_accuracy: 0.0000e+00\n",
      "Epoch 4/25\n",
      "2500/2500 [==============================] - 6s 2ms/step - loss: 14.3752 - accuracy: 0.0000e+00 - val_loss: 13.7427 - val_accuracy: 0.0000e+00\n",
      "Epoch 5/25\n",
      "2500/2500 [==============================] - 6s 2ms/step - loss: 13.4615 - accuracy: 0.0000e+00 - val_loss: 13.1878 - val_accuracy: 0.0000e+00\n",
      "Epoch 6/25\n",
      "2500/2500 [==============================] - 6s 2ms/step - loss: 13.3292 - accuracy: 0.0000e+00 - val_loss: 13.1814 - val_accuracy: 0.0000e+00\n",
      "Epoch 7/25\n",
      "2500/2500 [==============================] - 5s 2ms/step - loss: 13.3148 - accuracy: 0.0000e+00 - val_loss: 12.8249 - val_accuracy: 1.5000e-04\n",
      "Epoch 8/25\n",
      "2500/2500 [==============================] - 6s 2ms/step - loss: 13.1224 - accuracy: 1.2500e-05 - val_loss: 13.0549 - val_accuracy: 0.0000e+00\n",
      "Epoch 9/25\n",
      "2500/2500 [==============================] - 5s 2ms/step - loss: 12.9448 - accuracy: 2.5000e-05 - val_loss: 12.8378 - val_accuracy: 0.0000e+00\n",
      "Epoch 10/25\n",
      "2500/2500 [==============================] - 5s 2ms/step - loss: 13.1375 - accuracy: 3.7500e-05 - val_loss: 13.0813 - val_accuracy: 0.0000e+00\n",
      "Epoch 11/25\n",
      "2500/2500 [==============================] - 5s 2ms/step - loss: 13.0278 - accuracy: 7.5000e-05 - val_loss: 12.6941 - val_accuracy: 3.5000e-04\n",
      "Epoch 12/25\n",
      "2500/2500 [==============================] - 5s 2ms/step - loss: 12.8840 - accuracy: 8.7500e-05 - val_loss: 12.9945 - val_accuracy: 3.5000e-04\n",
      "Epoch 13/25\n",
      "2500/2500 [==============================] - 5s 2ms/step - loss: 12.7501 - accuracy: 1.5000e-04 - val_loss: 12.8608 - val_accuracy: 0.0000e+00\n",
      "Epoch 14/25\n",
      "2500/2500 [==============================] - 5s 2ms/step - loss: 12.9656 - accuracy: 0.0000e+00 - val_loss: 13.2421 - val_accuracy: 0.0000e+00\n",
      "Epoch 15/25\n",
      "2500/2500 [==============================] - 5s 2ms/step - loss: 12.8060 - accuracy: 5.0000e-05 - val_loss: 12.7597 - val_accuracy: 0.0000e+00\n",
      "Epoch 16/25\n",
      "2500/2500 [==============================] - 5s 2ms/step - loss: 12.7603 - accuracy: 2.5000e-05 - val_loss: 12.7623 - val_accuracy: 0.0000e+00\n",
      "Epoch 17/25\n",
      "2500/2500 [==============================] - 5s 2ms/step - loss: 13.0046 - accuracy: 2.1250e-04 - val_loss: 13.4645 - val_accuracy: 0.0000e+00\n",
      "Epoch 18/25\n",
      "2500/2500 [==============================] - 5s 2ms/step - loss: 13.0043 - accuracy: 1.2500e-05 - val_loss: 12.7278 - val_accuracy: 1.0000e-04\n",
      "Epoch 19/25\n",
      "2500/2500 [==============================] - 5s 2ms/step - loss: 12.7207 - accuracy: 2.5000e-05 - val_loss: 12.7399 - val_accuracy: 0.0000e+00\n",
      "Epoch 20/25\n",
      "2500/2500 [==============================] - 6s 2ms/step - loss: 12.7340 - accuracy: 1.7500e-04 - val_loss: 12.6866 - val_accuracy: 1.0000e-04\n",
      "Epoch 21/25\n",
      "2500/2500 [==============================] - 6s 2ms/step - loss: 12.9280 - accuracy: 0.0000e+00 - val_loss: 12.6717 - val_accuracy: 1.0000e-04\n",
      "Epoch 22/25\n",
      "2500/2500 [==============================] - 6s 2ms/step - loss: 12.8989 - accuracy: 1.2500e-05 - val_loss: 12.7905 - val_accuracy: 5.0000e-05\n",
      "Epoch 23/25\n",
      "2500/2500 [==============================] - 5s 2ms/step - loss: 12.7479 - accuracy: 1.2500e-05 - val_loss: 12.7748 - val_accuracy: 5.0000e-05\n",
      "Epoch 24/25\n",
      "2500/2500 [==============================] - 5s 2ms/step - loss: 12.7723 - accuracy: 2.5000e-05 - val_loss: 12.6448 - val_accuracy: 5.0000e-05\n",
      "Epoch 25/25\n",
      "2500/2500 [==============================] - 5s 2ms/step - loss: 12.8277 - accuracy: 3.7500e-05 - val_loss: 12.9573 - val_accuracy: 0.0000e+00\n"
     ]
    }
   ],
   "source": [
    "mnist_model_RMSprop = create_model(lr=.001)\n",
    "\n",
    "mnist_model_RMSprop1 = mnist_model_RMSprop.fit(X_train, y_train,\n",
    "                                # Hyperparameters!\n",
    "                                epochs=25,\n",
    "                                batch_size=32,\n",
    "                                validation_data=(X_test, y_test))"
   ]
  },
  {
   "cell_type": "code",
   "execution_count": 104,
   "metadata": {
    "colab": {},
    "colab_type": "code",
    "id": "Jai3vBpGsvAF"
   },
   "outputs": [],
   "source": [
    "def create_model(lr=float):\n",
    "  opt = tf.keras.optimizers.Nadam(\n",
    "    learning_rate=0.001, beta_1=0.9, beta_2=0.999, epsilon=1e-07, name='Nadam'\n",
    ")\n",
    "\n",
    "  model = Sequential(\n",
    "      [\n",
    "       Dense(50, activation='relu', input_dim=784),\n",
    "       Dense(50, activation='relu')\n",
    "]\n",
    ")\n",
    "  model.compile(optimizer=opt, loss='sparse_categorical_crossentropy',\n",
    "                metrics=['accuracy'])\n",
    "  return model"
   ]
  },
  {
   "cell_type": "code",
   "execution_count": 105,
   "metadata": {
    "colab": {
     "base_uri": "https://localhost:8080/",
     "height": 946
    },
    "colab_type": "code",
    "id": "pMcphTQdswvb",
    "outputId": "5aa53a82-03d1-42e5-d1c6-2936c547f401"
   },
   "outputs": [
    {
     "name": "stdout",
     "output_type": "stream",
     "text": [
      "Epoch 1/25\n",
      "2500/2500 [==============================] - 7s 3ms/step - loss: 15.7882 - accuracy: 0.0067 - val_loss: 15.5484 - val_accuracy: 0.0132\n",
      "Epoch 2/25\n",
      "2500/2500 [==============================] - 6s 3ms/step - loss: 15.8819 - accuracy: 0.0108 - val_loss: 15.7146 - val_accuracy: 0.0136\n",
      "Epoch 3/25\n",
      "2500/2500 [==============================] - 6s 3ms/step - loss: 15.4731 - accuracy: 0.0710 - val_loss: 15.3884 - val_accuracy: 0.0798\n",
      "Epoch 4/25\n",
      "2500/2500 [==============================] - 6s 3ms/step - loss: 15.5562 - accuracy: 0.0654 - val_loss: 16.0430 - val_accuracy: 0.0213\n",
      "Epoch 5/25\n",
      "2500/2500 [==============================] - 6s 3ms/step - loss: 15.3559 - accuracy: 0.0715 - val_loss: 14.7544 - val_accuracy: 0.0824\n",
      "Epoch 6/25\n",
      "2500/2500 [==============================] - 7s 3ms/step - loss: 14.8686 - accuracy: 0.0714 - val_loss: 14.8903 - val_accuracy: 0.0657\n",
      "Epoch 7/25\n",
      "2500/2500 [==============================] - 7s 3ms/step - loss: 14.8403 - accuracy: 0.0751 - val_loss: 14.7931 - val_accuracy: 0.0626\n",
      "Epoch 8/25\n",
      "2500/2500 [==============================] - 7s 3ms/step - loss: 14.9453 - accuracy: 0.0555 - val_loss: 14.7165 - val_accuracy: 0.0764\n",
      "Epoch 9/25\n",
      "2500/2500 [==============================] - 7s 3ms/step - loss: 14.9863 - accuracy: 0.0523 - val_loss: 14.9786 - val_accuracy: 0.0504\n",
      "Epoch 10/25\n",
      "2500/2500 [==============================] - 6s 3ms/step - loss: 15.0196 - accuracy: 0.0489 - val_loss: 14.9786 - val_accuracy: 0.0504\n",
      "Epoch 11/25\n",
      "2500/2500 [==============================] - 6s 3ms/step - loss: 15.0196 - accuracy: 0.0489 - val_loss: 14.9786 - val_accuracy: 0.0504\n",
      "Epoch 12/25\n",
      "2500/2500 [==============================] - 6s 3ms/step - loss: 15.0196 - accuracy: 0.0489 - val_loss: 14.9786 - val_accuracy: 0.0504\n",
      "Epoch 13/25\n",
      "2500/2500 [==============================] - 7s 3ms/step - loss: 15.0196 - accuracy: 0.0489 - val_loss: 14.9786 - val_accuracy: 0.0504\n",
      "Epoch 14/25\n",
      "2500/2500 [==============================] - 7s 3ms/step - loss: 15.0196 - accuracy: 0.0489 - val_loss: 14.9786 - val_accuracy: 0.0504\n",
      "Epoch 15/25\n",
      "2500/2500 [==============================] - 6s 3ms/step - loss: 15.0196 - accuracy: 0.0489 - val_loss: 14.9786 - val_accuracy: 0.0504\n",
      "Epoch 16/25\n",
      "2500/2500 [==============================] - 6s 3ms/step - loss: 15.0196 - accuracy: 0.0489 - val_loss: 14.9786 - val_accuracy: 0.0504\n",
      "Epoch 17/25\n",
      "2500/2500 [==============================] - 6s 3ms/step - loss: 15.0196 - accuracy: 0.0489 - val_loss: 14.9786 - val_accuracy: 0.0504\n",
      "Epoch 18/25\n",
      "2500/2500 [==============================] - 7s 3ms/step - loss: 15.0196 - accuracy: 0.0489 - val_loss: 14.9786 - val_accuracy: 0.0504\n",
      "Epoch 19/25\n",
      "2500/2500 [==============================] - 7s 3ms/step - loss: 15.0196 - accuracy: 0.0489 - val_loss: 14.9786 - val_accuracy: 0.0504\n",
      "Epoch 20/25\n",
      "2500/2500 [==============================] - 7s 3ms/step - loss: 15.0195 - accuracy: 0.0489 - val_loss: 14.9786 - val_accuracy: 0.0504\n",
      "Epoch 21/25\n",
      "2500/2500 [==============================] - 6s 3ms/step - loss: 15.0196 - accuracy: 0.0489 - val_loss: 14.9786 - val_accuracy: 0.0504\n",
      "Epoch 22/25\n",
      "2500/2500 [==============================] - 6s 3ms/step - loss: 15.0196 - accuracy: 0.0489 - val_loss: 14.9786 - val_accuracy: 0.0504\n",
      "Epoch 23/25\n",
      "2500/2500 [==============================] - 6s 3ms/step - loss: 15.0196 - accuracy: 0.0489 - val_loss: 14.9786 - val_accuracy: 0.0504\n",
      "Epoch 24/25\n",
      "2500/2500 [==============================] - 6s 3ms/step - loss: 15.0196 - accuracy: 0.0489 - val_loss: 14.9786 - val_accuracy: 0.0504\n",
      "Epoch 25/25\n",
      "2500/2500 [==============================] - 6s 3ms/step - loss: 15.0196 - accuracy: 0.0489 - val_loss: 14.9786 - val_accuracy: 0.0504\n"
     ]
    }
   ],
   "source": [
    "mnist_model_Nadam = create_model(lr=.001)\n",
    "\n",
    "mnist_model_Nadam1 = mnist_model_Nadam.fit(X_train, y_train,\n",
    "                                # Hyperparameters!\n",
    "                                epochs=25,\n",
    "                                batch_size=32,\n",
    "                                validation_data=(X_test, y_test))"
   ]
  },
  {
   "cell_type": "code",
   "execution_count": 106,
   "metadata": {
    "colab": {
     "base_uri": "https://localhost:8080/",
     "height": 198
    },
    "colab_type": "code",
    "id": "NDYyh8gwtKNF",
    "outputId": "77dac5ee-00f4-47c3-ad59-1d75f24869c8"
   },
   "outputs": [
    {
     "data": {
      "text/html": [
       "<div>\n",
       "<style scoped>\n",
       "    .dataframe tbody tr th:only-of-type {\n",
       "        vertical-align: middle;\n",
       "    }\n",
       "\n",
       "    .dataframe tbody tr th {\n",
       "        vertical-align: top;\n",
       "    }\n",
       "\n",
       "    .dataframe thead th {\n",
       "        text-align: right;\n",
       "    }\n",
       "</style>\n",
       "<table border=\"1\" class=\"dataframe\">\n",
       "  <thead>\n",
       "    <tr style=\"text-align: right;\">\n",
       "      <th></th>\n",
       "      <th>loss</th>\n",
       "      <th>accuracy</th>\n",
       "      <th>val_loss</th>\n",
       "      <th>val_accuracy</th>\n",
       "      <th>epoch</th>\n",
       "      <th>Optimizers</th>\n",
       "    </tr>\n",
       "  </thead>\n",
       "  <tbody>\n",
       "    <tr>\n",
       "      <th>0</th>\n",
       "      <td>9.500944</td>\n",
       "      <td>0.023800</td>\n",
       "      <td>9.602915</td>\n",
       "      <td>0.02410</td>\n",
       "      <td>0</td>\n",
       "      <td>Adadelta</td>\n",
       "    </tr>\n",
       "    <tr>\n",
       "      <th>1</th>\n",
       "      <td>9.420304</td>\n",
       "      <td>0.024138</td>\n",
       "      <td>9.514864</td>\n",
       "      <td>0.02440</td>\n",
       "      <td>1</td>\n",
       "      <td>Adadelta</td>\n",
       "    </tr>\n",
       "    <tr>\n",
       "      <th>2</th>\n",
       "      <td>9.353358</td>\n",
       "      <td>0.024663</td>\n",
       "      <td>9.456260</td>\n",
       "      <td>0.02450</td>\n",
       "      <td>2</td>\n",
       "      <td>Adadelta</td>\n",
       "    </tr>\n",
       "    <tr>\n",
       "      <th>3</th>\n",
       "      <td>9.285140</td>\n",
       "      <td>0.025037</td>\n",
       "      <td>9.387529</td>\n",
       "      <td>0.02495</td>\n",
       "      <td>3</td>\n",
       "      <td>Adadelta</td>\n",
       "    </tr>\n",
       "    <tr>\n",
       "      <th>4</th>\n",
       "      <td>9.222605</td>\n",
       "      <td>0.025675</td>\n",
       "      <td>9.319515</td>\n",
       "      <td>0.02570</td>\n",
       "      <td>4</td>\n",
       "      <td>Adadelta</td>\n",
       "    </tr>\n",
       "  </tbody>\n",
       "</table>\n",
       "</div>"
      ],
      "text/plain": [
       "       loss  accuracy  val_loss  val_accuracy  epoch Optimizers\n",
       "0  9.500944  0.023800  9.602915       0.02410      0   Adadelta\n",
       "1  9.420304  0.024138  9.514864       0.02440      1   Adadelta\n",
       "2  9.353358  0.024663  9.456260       0.02450      2   Adadelta\n",
       "3  9.285140  0.025037  9.387529       0.02495      3   Adadelta\n",
       "4  9.222605  0.025675  9.319515       0.02570      4   Adadelta"
      ]
     },
     "execution_count": 106,
     "metadata": {
      "tags": []
     },
     "output_type": "execute_result"
    }
   ],
   "source": [
    "# Viz Results\n",
    "batch_sizes = []\n",
    "\n",
    "for exp, result in zip([mnist_model_Adadelta1 ,mnist_model_Adam1 ,mnist_model_Adagrad1, \n",
    "                        mnist_model_RMSprop1, mnist_model_Nadam1], \n",
    "                       [\"Adadelta\", \"Adam\", \"Adagrad\",\"RMSprop\",\"Nadam\"]):\n",
    "\n",
    "  df = pd.DataFrame.from_dict(exp.history)\n",
    "  df['epoch'] = df.index.values\n",
    "  df['Optimizers'] = result\n",
    "\n",
    "  batch_sizes.append(df)\n",
    "\n",
    "df = pd.concat(batch_sizes)\n",
    "df['Optimizers'] = df['Optimizers'].astype('str')\n",
    "df.head()"
   ]
  },
  {
   "cell_type": "code",
   "execution_count": 107,
   "metadata": {
    "colab": {
     "base_uri": "https://localhost:8080/",
     "height": 279
    },
    "colab_type": "code",
    "id": "kQDb9iFYtwaE",
    "outputId": "ac5e74fc-0acc-4123-f708-e86bfc632ae2"
   },
   "outputs": [
    {
     "data": {
      "image/png": "[encoded data removed]",
      "text/plain": [
       "<Figure size 432x288 with 1 Axes>"
      ]
     },
     "metadata": {
      "needs_background": "light",
      "tags": []
     },
     "output_type": "display_data"
    }
   ],
   "source": [
    "sns.lineplot(x='epoch', y='val_accuracy', hue='Optimizers', data=df);"
   ]
  },
  {
   "cell_type": "code",
   "execution_count": 108,
   "metadata": {
    "colab": {
     "base_uri": "https://localhost:8080/",
     "height": 279
    },
    "colab_type": "code",
    "id": "1pt6uq5Tt07M",
    "outputId": "892c4eb8-9c17-4f0f-81b4-29397ef39b79"
   },
   "outputs": [
    {
     "data": {
      "image/png": "[encoded data removed]",
      "text/plain": [
       "<Figure size 432x288 with 1 Axes>"
      ]
     },
     "metadata": {
      "needs_background": "light",
      "tags": []
     },
     "output_type": "display_data"
    }
   ],
   "source": [
    "sns.lineplot(x='epoch', y='val_loss', hue='Optimizers', data=df);"
   ]
  },
  {
   "cell_type": "markdown",
   "metadata": {
    "colab_type": "text",
    "id": "ydAqeY9S8uHA"
   },
   "source": [
    "### Additional Written Tasks\n",
    "\n",
    "1. Describe the process of backpropagation in your own words: \n",
    "```\n",
    "In training feedforward neural networks for supervised learning. Generalizations of backpropagation exist for other artificial neural networks, and for functions generally – a class of algorithms referred to generically as \"backpropagation\".\n",
    "```\n",
    "\n"
   ]
  },
  {
   "cell_type": "markdown",
   "metadata": {
    "colab_type": "text",
    "id": "FwlRJSfBlCvy"
   },
   "source": [
    "## Stretch Goals: \n",
    "\n",
    "- Implement GridSearch on anyone of the experiments\n",
    "- On the learning rate experiments, implement [EarlyStopping](https://www.tensorflow.org/api_docs/python/tf/keras/callbacks/EarlyStopping)\n",
    "- Review material on the math behind gradient descent: \n",
    "\n",
    "  - Gradient Descent\n",
    "    - Gradient Descent, Step-by-Step  by StatQuest w/ Josh Starmer. This will help you understand the gradient descent based optimization that happens underneath the hood of neural networks. It uses a non-neural network example, which I believe is a gentler introduction. You will hear me refer to this technique as \"vanilla\" gradient descent. \n",
    "    - Stochastic Gradient Descent, Clearly Explained!!! by StatQuest w/ Josh Starmer. This builds on the techniques in the previous video.  This technique is the one that is actually implemented inside modern 'nets. \n",
    "These are great resources to help you understand tomorrow's material at a deeper level. I highly recommend watching these ahead of tomorrow.\n",
    "\n",
    "  - Background Math\n",
    "    - Dot products and duality by 3Blue1Brown. Explains the core linear algebra operation happening in today's perceptron.\n",
    "The paradox of the derivative by 3Blue1Brown. Does a great job explaining a derivative. \n",
    "    - Visualizing the chain rule and product rule by 3Blue1Brown. Explains the black magic that happens within Stochastic Gradient Descent. \n",
    "These math resources are very much optional. They can be very heady, but I encourage you to explore. Your understanding of neural networks will greatly increase if you understand this math background.\n",
    "\n",
    "\n"
   ]
  }
 ],
 "metadata": {
  "accelerator": "GPU",
  "colab": {
   "collapsed_sections": [],
   "include_colab_link": true,
   "name": "LS_DS_432_Train_Assignment.ipynb",
   "provenance": [],
   "toc_visible": true
  },
  "kernelspec": {
   "display_name": "U4-S1-NLP (Python3)",
   "language": "python",
   "name": "u4-s1-nlp"
  },
  "language_info": {
   "codemirror_mode": {
    "name": "ipython",
    "version": 3
   },
   "file_extension": ".py",
   "mimetype": "text/x-python",
   "name": "python",
   "nbconvert_exporter": "python",
   "pygments_lexer": "ipython3",
   "version": "3.7.0"
  },
  "nteract": {
   "version": "0.22.4"
  }
 },
 "nbformat": 4,
 "nbformat_minor": 4
}
