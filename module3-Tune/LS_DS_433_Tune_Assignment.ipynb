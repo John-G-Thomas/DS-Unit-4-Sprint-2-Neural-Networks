{
 "cells": [
  {
   "cell_type": "markdown",
   "metadata": {
    "colab_type": "text",
    "id": "NGGrt9EYlCqY"
   },
   "source": [
    "<img align=\"left\" src=\"https://lever-client-logos.s3.amazonaws.com/864372b1-534c-480e-acd5-9711f850815c-1524247202159.png\" width=200>\n",
    "<br></br>\n",
    "<br></br>\n",
    "\n",
    "# Train Practice\n",
    "\n",
    "## *Data Science Unit 4 Sprint 2 Assignment 3*\n",
    "\n",
    "Continue to use TensorFlow Keras & a sample of the [Quickdraw dataset](https://github.com/googlecreativelab/quickdraw-dataset) to build a sketch classification model. The dataset has been sampled to only 10 classes and 10000 observations per class. Using your baseline model from yesterday, hyperparameter tune it and report on your highest validation accuracy. Your singular goal today is to achieve the highest accuracy possible.\n",
    "\n",
    "*Don't forgot to switch to GPU on Colab!*"
   ]
  },
  {
   "cell_type": "markdown",
   "metadata": {
    "colab_type": "text",
    "id": "ptJ2b3wk62Ud"
   },
   "source": [
    "### Hyperparameters to Tune\n",
    "\n",
    "At a minimum, tune each of these hyperparameters using any strategy we discussed during lecture today: \n",
    "- Optimizer\n",
    "- Learning Rate\n",
    "- Activiation Function\n",
    "  - At least 1 subparameter within the Relu activation function\n",
    "- Number of Neurons in Hidden Layers\n",
    "- Number of Hidden Layers\n",
    "- Weight Initialization"
   ]
  },
  {
   "cell_type": "code",
   "execution_count": 1,
   "metadata": {},
   "outputs": [],
   "source": [
    "# import cell\n",
    "import numpy as np\n",
    "import seaborn as sns\n",
    "import pandas as pd\n",
    "import tensorflow as tf \n",
    "from tensorflow import keras\n",
    "from tensorflow.keras import layers\n",
    "import sklearn.model_selection as model_selection\n",
    "from sklearn.model_selection import train_test_split\n",
    "import sklearn.linear_model\n",
    "import matplotlib.pyplot as plt\n",
    "import tempfile\n",
    "from sklearn.utils import shuffle\n",
    "import os\n",
    "import datetime\n",
    "# Our Model\n",
    "from tensorflow.keras.optimizers import Adamax\n",
    "from tensorflow.keras import Sequential\n",
    "from tensorflow.keras.layers import Dense\n",
    "from tensorflow.keras.optimizers import SGD\n",
    "from tensorflow.keras.datasets import mnist\n",
    "from keras.layers import Dropout\n",
    "from sklearn.model_selection import GridSearchCV\n",
    "from tensorflow.keras.wrappers.scikit_learn import KerasClassifier\n",
    "from tensorboard.plugins.hparams import api as hp\n",
    "from keras.constraints import maxnorm\n",
    "from tensorflow.keras.optimizers import SGD, RMSprop, Adagrad, Adadelta, Adam, Adamax, Nadam"
   ]
  },
  {
   "cell_type": "code",
   "execution_count": 2,
   "metadata": {
    "colab": {},
    "colab_type": "code",
    "id": "USXjs7Hk71Hy"
   },
   "outputs": [
    {
     "data": {
      "text/plain": [
       "(80000, 10000, 80000, 10000)"
      ]
     },
     "execution_count": 2,
     "metadata": {},
     "output_type": "execute_result"
    }
   ],
   "source": [
    "# Your Code Starts Here - load in data and spilt\n",
    "data = np.load('quickdraw10.npz')\n",
    "def load_quickdraw10npz(path):\n",
    "    X = path['arr_0']\n",
    "    y = path['arr_1']\n",
    "    X_train, X_test, y_train, y_test = train_test_split(X,y, train_size = 0.8, test_size = 0.1)\n",
    "    return X_train, X_test, y_train, y_test\n",
    "X_train, X_test, y_train, y_test = load_quickdraw10npz(path=data)\n",
    "len(X_train), len(X_test), len(y_train), len(y_test)"
   ]
  },
  {
   "cell_type": "code",
   "execution_count": 3,
   "metadata": {},
   "outputs": [
    {
     "name": "stdout",
     "output_type": "stream",
     "text": [
      "shapes((80000, 784), (80000,), (10000, 784), (10000,))\n"
     ]
    }
   ],
   "source": [
    "print(f'shapes{X_train.shape,y_train.shape,X_test.shape,y_test.shape}')"
   ]
  },
  {
   "cell_type": "code",
   "execution_count": 4,
   "metadata": {
    "collapsed": true,
    "jupyter": {
     "outputs_hidden": true
    }
   },
   "outputs": [
    {
     "data": {
      "text/plain": [
       "'def create_model(activation=\\'relu\\',optimizer=\\'SDG\\',dropout_rate=0.0, weight_constraint=0,init_mode=\\'uniform\\',learn_rate=0.01, momentum=0):\\n    # create model\\n    model = Sequential()\\n    model.add(Dense(12, input_dim=784, kernel_initializer=init_mode, activation=activation, kernel_constraint=maxnorm(weight_constraint)))\\n    model.add(Dropout(dropout_rate))\\n    model.add(Dense(1, activation=\\'sigmoid\\'))\\n    # Compile model\\n    # opt = optimizer(lr=learn_rate, momentum=momentum,name=f\\'{optimizer}\\')\\n    model.compile(loss=\\'binary_crossentropy\\', optimizer=optimizer, metrics=[\\'accuracy\\'])\\n    return model\\n# fix random seed for reproducibility\\nseed = 7\\nnp.random.seed(seed)\\nmodel = KerasClassifier(build_fn=create_model, epochs=2, batch_size=1, verbose=0)\\n# define the grid search parameters\\n#learn_rate = [0.001, 0.01, 0.1, 0.2, 0.3,1]\\n#momentum = [0.0, 0.2, 0.4, 0.6, 0.8, 0.9]\\nweight_constraint = [1, 2, 3, 4, 5]\\ndropout_rate = [0.0, 0.1, 0.2, 0.3, 0.4, 0.5, 0.6, 0.7, 0.8, 0.9]\\nactivation = [\\'softmax\\', \\'softplus\\', \\'softsign\\', \\'relu\\', \\'tanh\\', \\'sigmoid\\', \\'hard_sigmoid\\', \\'linear\\']\\noptimizer = [\\'SGD\\', \\'RMSprop\\', \\'Adagrad\\', \\'Adadelta\\', \\'Adam\\', \\'Adamax\\', \\'Nadam\\']\\ninit_mode = [\\'uniform\\', \\'lecun_uniform\\', \\'normal\\', \\'zero\\', \\'glorot_normal\\', \\'glorot_uniform\\', \\'he_normal\\', \\'he_uniform\\']\\nparam_grid = dict(init_mode=init_mode,activation=activation,optimizer=optimizer,dropout_rate=dropout_rate, weight_constraint=weight_constraint)\\ngrid = GridSearchCV(estimator=model, param_grid=param_grid, n_jobs=-1, cv=3)\\ngrid_result = grid.fit(X_train, y_train)\\n# summarize results\\nprint(\"Best: %f using %s\" % (grid_result.best_score_, grid_result.best_params_))\\nmeans = grid_result.cv_results_[\\'mean_test_score\\']\\nstds = grid_result.cv_results_[\\'std_test_score\\']\\nparams = grid_result.cv_results_[\\'params\\']\\nfor mean, stdev, param in zip(means, stds, params):\\n    print(\"%f (%f) with: %r\" % (mean, stdev, param))'"
      ]
     },
     "execution_count": 4,
     "metadata": {},
     "output_type": "execute_result"
    }
   ],
   "source": [
    "# Function to create model, required for \n",
    "# KerasClassifier all at the same time takes to long\n",
    "\"\"\"def create_model(activation='relu',optimizer='SDG',dropout_rate=0.0, weight_constraint=0,init_mode='uniform',learn_rate=0.01, momentum=0):\n",
    "    # create model\n",
    "    model = Sequential()\n",
    "    model.add(Dense(12, input_dim=784, kernel_initializer=init_mode, activation=activation, kernel_constraint=maxnorm(weight_constraint)))\n",
    "    model.add(Dropout(dropout_rate))\n",
    "    model.add(Dense(1, activation='sigmoid'))\n",
    "    # Compile model\n",
    "    # opt = optimizer(lr=learn_rate, momentum=momentum,name=f'{optimizer}')\n",
    "    model.compile(loss='binary_crossentropy', optimizer=optimizer, metrics=['accuracy'])\n",
    "    return model\n",
    "# fix random seed for reproducibility\n",
    "seed = 7\n",
    "np.random.seed(seed)\n",
    "model = KerasClassifier(build_fn=create_model, epochs=2, batch_size=1, verbose=0)\n",
    "# define the grid search parameters\n",
    "#learn_rate = [0.001, 0.01, 0.1, 0.2, 0.3,1]\n",
    "#momentum = [0.0, 0.2, 0.4, 0.6, 0.8, 0.9]\n",
    "weight_constraint = [1, 2, 3, 4, 5]\n",
    "dropout_rate = [0.0, 0.1, 0.2, 0.3, 0.4, 0.5, 0.6, 0.7, 0.8, 0.9]\n",
    "activation = ['softmax', 'softplus', 'softsign', 'relu', 'tanh', 'sigmoid', 'hard_sigmoid', 'linear']\n",
    "optimizer = ['SGD', 'RMSprop', 'Adagrad', 'Adadelta', 'Adam', 'Adamax', 'Nadam']\n",
    "init_mode = ['uniform', 'lecun_uniform', 'normal', 'zero', 'glorot_normal', 'glorot_uniform', 'he_normal', 'he_uniform']\n",
    "param_grid = dict(init_mode=init_mode,activation=activation,optimizer=optimizer,dropout_rate=dropout_rate, weight_constraint=weight_constraint)\n",
    "grid = GridSearchCV(estimator=model, param_grid=param_grid, n_jobs=-1, cv=3)\n",
    "grid_result = grid.fit(X_train, y_train)\n",
    "# summarize results\n",
    "print(\"Best: %f using %s\" % (grid_result.best_score_, grid_result.best_params_))\n",
    "means = grid_result.cv_results_['mean_test_score']\n",
    "stds = grid_result.cv_results_['std_test_score']\n",
    "params = grid_result.cv_results_['params']\n",
    "for mean, stdev, param in zip(means, stds, params):\n",
    "    print(\"%f (%f) with: %r\" % (mean, stdev, param))\"\"\""
   ]
  },
  {
   "cell_type": "code",
   "execution_count": 35,
   "metadata": {},
   "outputs": [],
   "source": [
    "\"\"\"def model(opt, drop, activation, input_shape, output_size, n_layers):\n",
    "    opt = opt(lr=.001)\n",
    "    model = Sequential()\n",
    "    model.add(Dense(50, activation=activation, input_shape=input_shape))\n",
    "    model.add(Dropout(drop))\n",
    "    for _ in range(n_layers):\n",
    "        model.add(Dense(50, activation=activation))\n",
    "        model.add(Dropout(drop))\n",
    "    if output_size == 1:\n",
    "        model.add(Dense(output_size, activation='sigmoid'))\n",
    "        model.compile(loss='binary_crossentropy', metrics=['mae', 'mse'], optimizer='adam')\n",
    "    else:\n",
    "        model.add(Dense(output_size, activation='softmax'))\n",
    "        model.compile(loss='categorical_crossentropy', metrics=['accuracy'], optimizer=opt)\n",
    "    return model\"\"\""
   ]
  },
  {
   "cell_type": "code",
   "execution_count": 28,
   "metadata": {
    "collapsed": true,
    "jupyter": {
     "outputs_hidden": true
    }
   },
   "outputs": [
    {
     "name": "stdout",
     "output_type": "stream",
     "text": [
      "Epoch 1/64\n",
      "   1/2500 [..............................] - ETA: 0s - loss: 139.8634 - accuracy: 0.0312WARNING:tensorflow:Callbacks method `on_train_batch_end` is slow compared to the batch time (batch time: 0.0000s vs `on_train_batch_end` time: 0.0010s). Check your callbacks.\n",
      "2500/2500 [==============================] - 2s 732us/step - loss: 2.0529 - accuracy: 0.3029 - val_loss: 1.7527 - val_accuracy: 0.3639\n",
      "Epoch 2/64\n",
      "2500/2500 [==============================] - 2s 715us/step - loss: 1.6561 - accuracy: 0.4132 - val_loss: 1.5812 - val_accuracy: 0.4455\n",
      "Epoch 3/64\n",
      "2500/2500 [==============================] - 2s 730us/step - loss: 1.4970 - accuracy: 0.4718 - val_loss: 1.4632 - val_accuracy: 0.4864\n",
      "Epoch 4/64\n",
      "2500/2500 [==============================] - 2s 690us/step - loss: 1.3542 - accuracy: 0.4808 - val_loss: 1.3402 - val_accuracy: 0.4853\n",
      "Epoch 5/64\n",
      "2500/2500 [==============================] - 2s 690us/step - loss: 1.2652 - accuracy: 0.5345 - val_loss: 1.2557 - val_accuracy: 0.5517\n",
      "Epoch 6/64\n",
      "2500/2500 [==============================] - 2s 677us/step - loss: 1.1649 - accuracy: 0.5900 - val_loss: 1.1689 - val_accuracy: 0.5970\n",
      "Epoch 7/64\n",
      "2500/2500 [==============================] - 2s 667us/step - loss: 1.0980 - accuracy: 0.6217 - val_loss: 1.1382 - val_accuracy: 0.6287\n",
      "Epoch 8/64\n",
      "2500/2500 [==============================] - 2s 678us/step - loss: 1.0524 - accuracy: 0.6440 - val_loss: 1.0867 - val_accuracy: 0.6563\n",
      "Epoch 9/64\n",
      "2500/2500 [==============================] - 2s 677us/step - loss: 1.0103 - accuracy: 0.6615 - val_loss: 1.0389 - val_accuracy: 0.6571\n",
      "Epoch 10/64\n",
      "2500/2500 [==============================] - 2s 677us/step - loss: 0.9688 - accuracy: 0.6773 - val_loss: 0.9910 - val_accuracy: 0.6761\n",
      "Epoch 11/64\n",
      "2500/2500 [==============================] - 2s 672us/step - loss: 0.9413 - accuracy: 0.6863 - val_loss: 0.9810 - val_accuracy: 0.6930\n",
      "Epoch 12/64\n",
      "2500/2500 [==============================] - 2s 689us/step - loss: 0.9193 - accuracy: 0.6940 - val_loss: 0.9591 - val_accuracy: 0.6913\n",
      "Epoch 13/64\n",
      "2500/2500 [==============================] - 2s 686us/step - loss: 0.9013 - accuracy: 0.6992 - val_loss: 0.9522 - val_accuracy: 0.6934\n",
      "Epoch 14/64\n",
      "2500/2500 [==============================] - 2s 688us/step - loss: 0.8852 - accuracy: 0.7052 - val_loss: 0.9536 - val_accuracy: 0.6857\n",
      "Epoch 15/64\n",
      "2500/2500 [==============================] - 2s 683us/step - loss: 0.8693 - accuracy: 0.7123 - val_loss: 0.9149 - val_accuracy: 0.7046\n",
      "Epoch 16/64\n",
      "2500/2500 [==============================] - 2s 665us/step - loss: 0.8550 - accuracy: 0.7159 - val_loss: 0.9132 - val_accuracy: 0.7040\n",
      "Epoch 17/64\n",
      "2500/2500 [==============================] - 2s 674us/step - loss: 0.8441 - accuracy: 0.7214 - val_loss: 0.8971 - val_accuracy: 0.7105\n",
      "Epoch 18/64\n",
      "2500/2500 [==============================] - 2s 677us/step - loss: 0.8326 - accuracy: 0.7263 - val_loss: 0.8849 - val_accuracy: 0.7214\n",
      "Epoch 19/64\n",
      "2500/2500 [==============================] - 2s 666us/step - loss: 0.8229 - accuracy: 0.7313 - val_loss: 0.8647 - val_accuracy: 0.7214\n",
      "Epoch 20/64\n",
      "2500/2500 [==============================] - 2s 668us/step - loss: 0.8120 - accuracy: 0.7369 - val_loss: 0.8723 - val_accuracy: 0.7192\n",
      "Epoch 21/64\n",
      "2500/2500 [==============================] - 2s 665us/step - loss: 0.8028 - accuracy: 0.7418 - val_loss: 0.8662 - val_accuracy: 0.7356\n",
      "Epoch 22/64\n",
      "2500/2500 [==============================] - 2s 678us/step - loss: 0.7942 - accuracy: 0.7470 - val_loss: 0.8519 - val_accuracy: 0.7430\n",
      "Epoch 23/64\n",
      "2500/2500 [==============================] - 2s 665us/step - loss: 0.7846 - accuracy: 0.7532 - val_loss: 0.8528 - val_accuracy: 0.7432\n",
      "Epoch 24/64\n",
      "2500/2500 [==============================] - 2s 664us/step - loss: 0.7763 - accuracy: 0.7561 - val_loss: 0.8590 - val_accuracy: 0.7317\n",
      "Epoch 25/64\n",
      "2500/2500 [==============================] - 2s 674us/step - loss: 0.7665 - accuracy: 0.7619 - val_loss: 0.8420 - val_accuracy: 0.7481\n",
      "Epoch 26/64\n",
      "2500/2500 [==============================] - 2s 666us/step - loss: 0.7564 - accuracy: 0.7643 - val_loss: 0.8135 - val_accuracy: 0.7520\n",
      "Epoch 27/64\n",
      "2500/2500 [==============================] - 2s 669us/step - loss: 0.7488 - accuracy: 0.7690 - val_loss: 0.8196 - val_accuracy: 0.7543\n",
      "Epoch 28/64\n",
      "2500/2500 [==============================] - 2s 665us/step - loss: 0.7416 - accuracy: 0.7713 - val_loss: 0.8130 - val_accuracy: 0.7587\n",
      "Epoch 29/64\n",
      "2500/2500 [==============================] - 2s 673us/step - loss: 0.7360 - accuracy: 0.7738 - val_loss: 0.8172 - val_accuracy: 0.7519\n",
      "Epoch 30/64\n",
      "2500/2500 [==============================] - 2s 675us/step - loss: 0.7302 - accuracy: 0.7755 - val_loss: 0.8018 - val_accuracy: 0.7619\n",
      "Epoch 31/64\n",
      "2500/2500 [==============================] - 2s 675us/step - loss: 0.7234 - accuracy: 0.7779 - val_loss: 0.8138 - val_accuracy: 0.7581\n",
      "Epoch 32/64\n",
      "2500/2500 [==============================] - 2s 679us/step - loss: 0.7180 - accuracy: 0.7796 - val_loss: 0.8009 - val_accuracy: 0.7633\n",
      "Epoch 33/64\n",
      "2500/2500 [==============================] - 2s 678us/step - loss: 0.7128 - accuracy: 0.7818 - val_loss: 0.7942 - val_accuracy: 0.7650\n",
      "Epoch 34/64\n",
      "2500/2500 [==============================] - 2s 669us/step - loss: 0.7081 - accuracy: 0.7833 - val_loss: 0.7937 - val_accuracy: 0.7640\n",
      "Epoch 35/64\n",
      "2500/2500 [==============================] - 2s 680us/step - loss: 0.7030 - accuracy: 0.7853 - val_loss: 0.7845 - val_accuracy: 0.7704\n",
      "Epoch 36/64\n",
      "2500/2500 [==============================] - 2s 669us/step - loss: 0.6983 - accuracy: 0.7868 - val_loss: 0.7795 - val_accuracy: 0.7678\n",
      "Epoch 37/64\n",
      "2500/2500 [==============================] - 2s 670us/step - loss: 0.6936 - accuracy: 0.7876 - val_loss: 0.7887 - val_accuracy: 0.7686\n",
      "Epoch 38/64\n",
      "2500/2500 [==============================] - 2s 674us/step - loss: 0.6888 - accuracy: 0.7898 - val_loss: 0.7885 - val_accuracy: 0.7651\n",
      "Epoch 39/64\n",
      "2500/2500 [==============================] - 2s 667us/step - loss: 0.6861 - accuracy: 0.7910 - val_loss: 0.7755 - val_accuracy: 0.7741\n",
      "Epoch 40/64\n",
      "2500/2500 [==============================] - 2s 669us/step - loss: 0.6807 - accuracy: 0.7927 - val_loss: 0.7845 - val_accuracy: 0.7655\n",
      "Epoch 41/64\n",
      "2500/2500 [==============================] - 2s 671us/step - loss: 0.6780 - accuracy: 0.7940 - val_loss: 0.7748 - val_accuracy: 0.7706\n",
      "Epoch 42/64\n",
      "2500/2500 [==============================] - 2s 693us/step - loss: 0.6750 - accuracy: 0.7944 - val_loss: 0.7699 - val_accuracy: 0.7737\n",
      "Epoch 43/64\n",
      "2500/2500 [==============================] - 2s 704us/step - loss: 0.6708 - accuracy: 0.7956 - val_loss: 0.7743 - val_accuracy: 0.7713\n",
      "Epoch 44/64\n",
      "2500/2500 [==============================] - 2s 732us/step - loss: 0.6684 - accuracy: 0.7964 - val_loss: 0.7687 - val_accuracy: 0.7740\n",
      "Epoch 45/64\n",
      "2500/2500 [==============================] - 2s 676us/step - loss: 0.6641 - accuracy: 0.7982 - val_loss: 0.7631 - val_accuracy: 0.7765\n",
      "Epoch 46/64\n",
      "2500/2500 [==============================] - 2s 694us/step - loss: 0.6607 - accuracy: 0.7988 - val_loss: 0.7587 - val_accuracy: 0.7770\n",
      "Epoch 47/64\n",
      "2500/2500 [==============================] - 2s 689us/step - loss: 0.6579 - accuracy: 0.7996 - val_loss: 0.7676 - val_accuracy: 0.7756\n",
      "Epoch 48/64\n",
      "2500/2500 [==============================] - 2s 697us/step - loss: 0.6564 - accuracy: 0.7997 - val_loss: 0.7600 - val_accuracy: 0.7807\n",
      "Epoch 49/64\n",
      "2500/2500 [==============================] - 2s 687us/step - loss: 0.6533 - accuracy: 0.8014 - val_loss: 0.7642 - val_accuracy: 0.7787\n",
      "Epoch 50/64\n",
      "2500/2500 [==============================] - 2s 689us/step - loss: 0.6509 - accuracy: 0.8017 - val_loss: 0.7568 - val_accuracy: 0.7777\n",
      "Epoch 51/64\n",
      "2500/2500 [==============================] - 2s 690us/step - loss: 0.6483 - accuracy: 0.8032 - val_loss: 0.7683 - val_accuracy: 0.7754\n",
      "Epoch 52/64\n",
      "2500/2500 [==============================] - 2s 682us/step - loss: 0.6468 - accuracy: 0.8037 - val_loss: 0.7514 - val_accuracy: 0.7811\n",
      "Epoch 53/64\n",
      "2500/2500 [==============================] - 2s 684us/step - loss: 0.6446 - accuracy: 0.8035 - val_loss: 0.7563 - val_accuracy: 0.7789\n",
      "Epoch 54/64\n",
      "2500/2500 [==============================] - 2s 700us/step - loss: 0.6421 - accuracy: 0.8050 - val_loss: 0.7516 - val_accuracy: 0.7808\n",
      "Epoch 55/64\n",
      "2500/2500 [==============================] - 2s 679us/step - loss: 0.6407 - accuracy: 0.8055 - val_loss: 0.7580 - val_accuracy: 0.7760\n",
      "Epoch 56/64\n",
      "2500/2500 [==============================] - 2s 673us/step - loss: 0.6383 - accuracy: 0.8060 - val_loss: 0.7745 - val_accuracy: 0.7777\n",
      "Epoch 57/64\n",
      "2500/2500 [==============================] - 2s 674us/step - loss: 0.6362 - accuracy: 0.8064 - val_loss: 0.7682 - val_accuracy: 0.7739\n",
      "Epoch 58/64\n",
      "2500/2500 [==============================] - 2s 675us/step - loss: 0.6340 - accuracy: 0.8060 - val_loss: 0.7582 - val_accuracy: 0.7795\n",
      "Epoch 59/64\n",
      "2500/2500 [==============================] - 2s 674us/step - loss: 0.6331 - accuracy: 0.8074 - val_loss: 0.7473 - val_accuracy: 0.7808\n",
      "Epoch 60/64\n",
      "2500/2500 [==============================] - 2s 681us/step - loss: 0.6304 - accuracy: 0.8086 - val_loss: 0.7439 - val_accuracy: 0.7830\n",
      "Epoch 61/64\n",
      "2500/2500 [==============================] - 2s 675us/step - loss: 0.6284 - accuracy: 0.8090 - val_loss: 0.7489 - val_accuracy: 0.7790\n",
      "Epoch 62/64\n",
      "2500/2500 [==============================] - 2s 681us/step - loss: 0.6261 - accuracy: 0.8095 - val_loss: 0.7422 - val_accuracy: 0.7845\n",
      "Epoch 63/64\n",
      "2500/2500 [==============================] - ETA: 0s - loss: 0.6230 - accuracy: 0.81 - 2s 675us/step - loss: 0.6245 - accuracy: 0.8103 - val_loss: 0.7448 - val_accuracy: 0.7845\n",
      "Epoch 64/64\n",
      "2500/2500 [==============================] - 2s 672us/step - loss: 0.6226 - accuracy: 0.8109 - val_loss: 0.7515 - val_accuracy: 0.7809\n",
      "Best: 0.752813 using {'batch_size': 32, 'epochs': 64}\n",
      "0.710938 (0.012582) with: {'batch_size': 32, 'epochs': 32}\n",
      "0.752813 (0.004182) with: {'batch_size': 32, 'epochs': 64}\n"
     ]
    }
   ],
   "source": [
    "# Function to create model, required for KerasClassifier for batch and epocs\n",
    "def create_model(lr=.001,opt=SGD):\n",
    "    opti = opt(lr)\n",
    "    # create model\n",
    "    model = Sequential()\n",
    "    model.add(Dense(32, input_dim=784, activation='relu'))\n",
    "    model.add(Dense(32, activation='relu'))\n",
    "    model.add(Dense(10, activation=\"softmax\"))\n",
    "    # Compile model\n",
    "    model.compile(loss='sparse_categorical_crossentropy', optimizer=opti, metrics=['accuracy'])\n",
    "    return model\n",
    "# fix random seed for reproducibility\n",
    "seed = 7\n",
    "np.random.seed(seed)\n",
    "model = KerasClassifier(build_fn=create_model, verbose=1)\n",
    "# define the grid search parameters\n",
    "batch_size = [32]\n",
    "epochs = [32,64]\n",
    "param_grid = dict(batch_size=batch_size, epochs=epochs)\n",
    "grid = GridSearchCV(estimator=model, param_grid=param_grid, n_jobs=-1, cv=3)\n",
    "grid_result = grid.fit(X_train, y_train,validation_data=(X_test, y_test))\n",
    "# summarize results\n",
    "print(\"Best: %f using %s\" % (grid_result.best_score_, grid_result.best_params_))\n",
    "means = grid_result.cv_results_['mean_test_score']\n",
    "stds = grid_result.cv_results_['std_test_score']\n",
    "params = grid_result.cv_results_['params']\n",
    "for mean, stdev, param in zip(means, stds, params):\n",
    "    print(\"%f (%f) with: %r\" % (mean, stdev, param))"
   ]
  },
  {
   "cell_type": "code",
   "execution_count": 6,
   "metadata": {
    "collapsed": true,
    "jupyter": {
     "outputs_hidden": true
    }
   },
   "outputs": [
    {
     "name": "stdout",
     "output_type": "stream",
     "text": [
      "Epoch 1/32\n",
      "2500/2500 [==============================] - 2s 774us/step - loss: 3.2490 - accuracy: 0.2869 - val_loss: 1.7042 - val_accuracy: 0.3766\n",
      "Epoch 2/32\n",
      "2500/2500 [==============================] - 2s 755us/step - loss: 1.5726 - accuracy: 0.4237 - val_loss: 1.4776 - val_accuracy: 0.4629\n",
      "Epoch 3/32\n",
      "2500/2500 [==============================] - 2s 733us/step - loss: 1.4081 - accuracy: 0.4802 - val_loss: 1.3716 - val_accuracy: 0.5023\n",
      "Epoch 4/32\n",
      "2500/2500 [==============================] - 2s 735us/step - loss: 1.3102 - accuracy: 0.5218 - val_loss: 1.2937 - val_accuracy: 0.5426\n",
      "Epoch 5/32\n",
      "2500/2500 [==============================] - 2s 727us/step - loss: 1.2272 - accuracy: 0.5596 - val_loss: 1.2079 - val_accuracy: 0.5838\n",
      "Epoch 6/32\n",
      "2500/2500 [==============================] - 2s 733us/step - loss: 1.1415 - accuracy: 0.6006 - val_loss: 1.1508 - val_accuracy: 0.6125\n",
      "Epoch 7/32\n",
      "2500/2500 [==============================] - 2s 718us/step - loss: 1.0709 - accuracy: 0.6355 - val_loss: 1.0821 - val_accuracy: 0.6405\n",
      "Epoch 8/32\n",
      "2500/2500 [==============================] - 2s 723us/step - loss: 1.0247 - accuracy: 0.6580 - val_loss: 1.0554 - val_accuracy: 0.6425\n",
      "Epoch 9/32\n",
      "2500/2500 [==============================] - 2s 719us/step - loss: 0.9903 - accuracy: 0.6728 - val_loss: 1.0302 - val_accuracy: 0.6771\n",
      "Epoch 10/32\n",
      "2500/2500 [==============================] - 2s 727us/step - loss: 0.9596 - accuracy: 0.6875 - val_loss: 1.0167 - val_accuracy: 0.6844\n",
      "Epoch 11/32\n",
      "2500/2500 [==============================] - 2s 724us/step - loss: 0.9347 - accuracy: 0.6962 - val_loss: 1.0113 - val_accuracy: 0.6915\n",
      "Epoch 12/32\n",
      "2500/2500 [==============================] - 2s 739us/step - loss: 0.9169 - accuracy: 0.7046 - val_loss: 0.9887 - val_accuracy: 0.6977\n",
      "Epoch 13/32\n",
      "2500/2500 [==============================] - 2s 726us/step - loss: 0.8997 - accuracy: 0.7108 - val_loss: 0.9947 - val_accuracy: 0.6959\n",
      "Epoch 14/32\n",
      "2500/2500 [==============================] - 2s 724us/step - loss: 0.8859 - accuracy: 0.7190 - val_loss: 0.9653 - val_accuracy: 0.7078\n",
      "Epoch 15/32\n",
      "2500/2500 [==============================] - 2s 730us/step - loss: 0.8697 - accuracy: 0.7258 - val_loss: 0.9479 - val_accuracy: 0.7222\n",
      "Epoch 16/32\n",
      "2500/2500 [==============================] - 2s 729us/step - loss: 0.8562 - accuracy: 0.7333 - val_loss: 0.9349 - val_accuracy: 0.7137\n",
      "Epoch 17/32\n",
      "2500/2500 [==============================] - 2s 730us/step - loss: 0.8393 - accuracy: 0.7383 - val_loss: 0.9217 - val_accuracy: 0.7248\n",
      "Epoch 18/32\n",
      "2500/2500 [==============================] - 2s 722us/step - loss: 0.8281 - accuracy: 0.7429 - val_loss: 0.9564 - val_accuracy: 0.7189\n",
      "Epoch 19/32\n",
      "2500/2500 [==============================] - 2s 731us/step - loss: 0.8159 - accuracy: 0.7472 - val_loss: 0.9039 - val_accuracy: 0.7326\n",
      "Epoch 20/32\n",
      "2500/2500 [==============================] - 2s 749us/step - loss: 0.8073 - accuracy: 0.7527 - val_loss: 0.9081 - val_accuracy: 0.7402\n",
      "Epoch 21/32\n",
      "2500/2500 [==============================] - 2s 745us/step - loss: 0.7926 - accuracy: 0.7573 - val_loss: 0.8961 - val_accuracy: 0.7412\n",
      "Epoch 22/32\n",
      "2500/2500 [==============================] - 2s 756us/step - loss: 0.7839 - accuracy: 0.7613 - val_loss: 0.8850 - val_accuracy: 0.7369\n",
      "Epoch 23/32\n",
      "2500/2500 [==============================] - 2s 737us/step - loss: 0.7728 - accuracy: 0.7652 - val_loss: 0.8743 - val_accuracy: 0.7454\n",
      "Epoch 24/32\n",
      "2500/2500 [==============================] - 2s 722us/step - loss: 0.7632 - accuracy: 0.7692 - val_loss: 0.8755 - val_accuracy: 0.7442\n",
      "Epoch 25/32\n",
      "2500/2500 [==============================] - 2s 732us/step - loss: 0.7536 - accuracy: 0.7733 - val_loss: 0.8711 - val_accuracy: 0.7558\n",
      "Epoch 26/32\n",
      "2500/2500 [==============================] - 2s 725us/step - loss: 0.7435 - accuracy: 0.7762 - val_loss: 0.8527 - val_accuracy: 0.7610\n",
      "Epoch 27/32\n",
      "2500/2500 [==============================] - 2s 742us/step - loss: 0.7339 - accuracy: 0.7800 - val_loss: 0.8533 - val_accuracy: 0.7557\n",
      "Epoch 28/32\n",
      "2500/2500 [==============================] - 2s 730us/step - loss: 0.7251 - accuracy: 0.7828 - val_loss: 0.8419 - val_accuracy: 0.7607\n",
      "Epoch 29/32\n",
      "2500/2500 [==============================] - 2s 746us/step - loss: 0.7188 - accuracy: 0.7847 - val_loss: 0.8287 - val_accuracy: 0.7627\n",
      "Epoch 30/32\n",
      "2500/2500 [==============================] - 2s 726us/step - loss: 0.7116 - accuracy: 0.7875 - val_loss: 0.8439 - val_accuracy: 0.7648\n",
      "Epoch 31/32\n",
      "2500/2500 [==============================] - 2s 731us/step - loss: 0.7054 - accuracy: 0.7883 - val_loss: 0.8292 - val_accuracy: 0.7709\n",
      "Epoch 32/32\n",
      "2500/2500 [==============================] - 2s 727us/step - loss: 0.6986 - accuracy: 0.7912 - val_loss: 0.8251 - val_accuracy: 0.7719\n",
      "Best: 0.740575 using {'opt': <class 'tensorflow.python.keras.optimizer_v2.adamax.Adamax'>}\n",
      "0.708362 (0.016819) with: {'opt': <class 'tensorflow.python.keras.optimizer_v2.gradient_descent.SGD'>}\n",
      "0.537311 (0.177365) with: {'opt': <class 'tensorflow.python.keras.optimizer_v2.rmsprop.RMSprop'>}\n",
      "0.393788 (0.023766) with: {'opt': <class 'tensorflow.python.keras.optimizer_v2.adagrad.Adagrad'>}\n",
      "0.231125 (0.024997) with: {'opt': <class 'tensorflow.python.keras.optimizer_v2.adadelta.Adadelta'>}\n",
      "0.733925 (0.016387) with: {'opt': <class 'tensorflow.python.keras.optimizer_v2.adam.Adam'>}\n",
      "0.740575 (0.009285) with: {'opt': <class 'tensorflow.python.keras.optimizer_v2.adamax.Adamax'>}\n",
      "0.732012 (0.039056) with: {'opt': <class 'tensorflow.python.keras.optimizer_v2.nadam.Nadam'>}\n"
     ]
    }
   ],
   "source": [
    "# Function to create model, required for KerasClassifier to find best optimizer - Adamax is the best one\n",
    "def create_model(lr=.001,opt=SGD):\n",
    "    opti = opt(lr)\n",
    "    # create model\n",
    "    model = Sequential()\n",
    "    model.add(Dense(32, input_dim=784, activation='relu'))\n",
    "    model.add(Dense(32, activation='relu'))\n",
    "    model.add(Dense(10, activation=\"softmax\"))\n",
    "    # Compile model\n",
    "    model.compile(loss='sparse_categorical_crossentropy', optimizer=opti, metrics=['accuracy'])\n",
    "    return model\n",
    "# fix random seed for reproducibility\n",
    "seed = 7\n",
    "np.random.seed(seed)\n",
    "# model\n",
    "model = KerasClassifier(build_fn=create_model, epochs=32, batch_size=32, verbose=1)\n",
    "# define the grid search parameters\n",
    "opt = [SGD, RMSprop, Adagrad, Adadelta, Adam, Adamax, Nadam]\n",
    "param_grid = dict(opt=opt)\n",
    "grid = GridSearchCV(estimator=model, param_grid=param_grid, n_jobs=-1, cv=3)\n",
    "grid_result = grid.fit(X_train, y_train,validation_data=(X_test, y_test))\n",
    "# summarize results\n",
    "print(\"Best: %f using %s\" % (grid_result.best_score_, grid_result.best_params_))\n",
    "means = grid_result.cv_results_['mean_test_score']\n",
    "stds = grid_result.cv_results_['std_test_score']\n",
    "params = grid_result.cv_results_['params']\n",
    "for mean, stdev, param in zip(means, stds, params):\n",
    "    print(\"%f (%f) with: %r\" % (mean, stdev, param))"
   ]
  },
  {
   "cell_type": "code",
   "execution_count": 5,
   "metadata": {
    "collapsed": true,
    "jupyter": {
     "outputs_hidden": true
    }
   },
   "outputs": [
    {
     "name": "stdout",
     "output_type": "stream",
     "text": [
      "Epoch 1/2\n",
      "157/157 [==============================] - 1s 3ms/step - loss: 4.8222 - accuracy: 0.4311 - val_loss: 1.4558 - val_accuracy: 0.5436\n",
      "Epoch 2/2\n",
      "157/157 [==============================] - 0s 2ms/step - loss: 1.3135 - accuracy: 0.5780 - val_loss: 1.3571 - val_accuracy: 0.6125\n",
      "Best: 0.577124 using {'beta_1': 0.2, 'beta_2': 0.2, 'learn_rate': 0.001}\n",
      "0.555175 (0.017459) with: {'beta_1': 0.0, 'beta_2': 0.0, 'learn_rate': 0.001}\n",
      "0.513663 (0.043766) with: {'beta_1': 0.0, 'beta_2': 0.0, 'learn_rate': 0.01}\n",
      "0.101225 (0.002565) with: {'beta_1': 0.0, 'beta_2': 0.0, 'learn_rate': 0.1}\n",
      "0.100162 (0.001446) with: {'beta_1': 0.0, 'beta_2': 0.0, 'learn_rate': 0.2}\n",
      "0.100775 (0.002391) with: {'beta_1': 0.0, 'beta_2': 0.0, 'learn_rate': 0.3}\n",
      "0.553537 (0.019410) with: {'beta_1': 0.0, 'beta_2': 0.2, 'learn_rate': 0.001}\n",
      "0.474799 (0.043634) with: {'beta_1': 0.0, 'beta_2': 0.2, 'learn_rate': 0.01}\n",
      "0.116587 (0.022306) with: {'beta_1': 0.0, 'beta_2': 0.2, 'learn_rate': 0.1}\n",
      "0.101138 (0.002062) with: {'beta_1': 0.0, 'beta_2': 0.2, 'learn_rate': 0.2}\n",
      "0.101863 (0.000865) with: {'beta_1': 0.0, 'beta_2': 0.2, 'learn_rate': 0.3}\n",
      "0.539776 (0.032823) with: {'beta_1': 0.0, 'beta_2': 0.4, 'learn_rate': 0.001}\n",
      "0.319525 (0.058204) with: {'beta_1': 0.0, 'beta_2': 0.4, 'learn_rate': 0.01}\n",
      "0.100075 (0.001975) with: {'beta_1': 0.0, 'beta_2': 0.4, 'learn_rate': 0.1}\n",
      "0.100137 (0.000570) with: {'beta_1': 0.0, 'beta_2': 0.4, 'learn_rate': 0.2}\n",
      "0.100512 (0.000878) with: {'beta_1': 0.0, 'beta_2': 0.4, 'learn_rate': 0.3}\n",
      "0.505700 (0.026576) with: {'beta_1': 0.0, 'beta_2': 0.6, 'learn_rate': 0.001}\n",
      "0.440488 (0.075753) with: {'beta_1': 0.0, 'beta_2': 0.6, 'learn_rate': 0.01}\n",
      "0.099012 (0.001788) with: {'beta_1': 0.0, 'beta_2': 0.6, 'learn_rate': 0.1}\n",
      "0.099375 (0.001012) with: {'beta_1': 0.0, 'beta_2': 0.6, 'learn_rate': 0.2}\n",
      "0.099238 (0.000226) with: {'beta_1': 0.0, 'beta_2': 0.6, 'learn_rate': 0.3}\n",
      "0.506075 (0.024008) with: {'beta_1': 0.0, 'beta_2': 0.8, 'learn_rate': 0.001}\n",
      "0.471175 (0.012590) with: {'beta_1': 0.0, 'beta_2': 0.8, 'learn_rate': 0.01}\n",
      "0.124012 (0.034310) with: {'beta_1': 0.0, 'beta_2': 0.8, 'learn_rate': 0.1}\n",
      "0.100712 (0.001070) with: {'beta_1': 0.0, 'beta_2': 0.8, 'learn_rate': 0.2}\n",
      "0.100488 (0.001825) with: {'beta_1': 0.0, 'beta_2': 0.8, 'learn_rate': 0.3}\n",
      "0.448675 (0.036288) with: {'beta_1': 0.0, 'beta_2': 0.9, 'learn_rate': 0.001}\n",
      "0.461938 (0.038300) with: {'beta_1': 0.0, 'beta_2': 0.9, 'learn_rate': 0.01}\n",
      "0.100300 (0.000885) with: {'beta_1': 0.0, 'beta_2': 0.9, 'learn_rate': 0.1}\n",
      "0.100525 (0.000930) with: {'beta_1': 0.0, 'beta_2': 0.9, 'learn_rate': 0.2}\n",
      "0.099638 (0.001076) with: {'beta_1': 0.0, 'beta_2': 0.9, 'learn_rate': 0.3}\n",
      "0.288850 (0.068286) with: {'beta_1': 0.0, 'beta_2': 0.999, 'learn_rate': 0.001}\n",
      "0.347513 (0.059501) with: {'beta_1': 0.0, 'beta_2': 0.999, 'learn_rate': 0.01}\n",
      "0.228101 (0.086938) with: {'beta_1': 0.0, 'beta_2': 0.999, 'learn_rate': 0.1}\n",
      "0.148487 (0.031844) with: {'beta_1': 0.0, 'beta_2': 0.999, 'learn_rate': 0.2}\n",
      "0.119512 (0.027360) with: {'beta_1': 0.0, 'beta_2': 0.999, 'learn_rate': 0.3}\n",
      "0.099200 (0.000638) with: {'beta_1': 0.2, 'beta_2': 0.0, 'learn_rate': 0.001}\n",
      "0.099200 (0.000638) with: {'beta_1': 0.2, 'beta_2': 0.0, 'learn_rate': 0.01}\n",
      "0.099200 (0.000638) with: {'beta_1': 0.2, 'beta_2': 0.0, 'learn_rate': 0.1}\n",
      "0.099200 (0.000638) with: {'beta_1': 0.2, 'beta_2': 0.0, 'learn_rate': 0.2}\n",
      "0.098963 (0.000818) with: {'beta_1': 0.2, 'beta_2': 0.0, 'learn_rate': 0.3}\n",
      "0.577124 (0.034914) with: {'beta_1': 0.2, 'beta_2': 0.2, 'learn_rate': 0.001}\n",
      "0.287474 (0.055574) with: {'beta_1': 0.2, 'beta_2': 0.2, 'learn_rate': 0.01}\n",
      "0.100537 (0.001082) with: {'beta_1': 0.2, 'beta_2': 0.2, 'learn_rate': 0.1}\n",
      "0.099787 (0.000881) with: {'beta_1': 0.2, 'beta_2': 0.2, 'learn_rate': 0.2}\n",
      "0.100675 (0.000966) with: {'beta_1': 0.2, 'beta_2': 0.2, 'learn_rate': 0.3}\n",
      "0.558238 (0.048840) with: {'beta_1': 0.2, 'beta_2': 0.4, 'learn_rate': 0.001}\n",
      "0.424314 (0.107823) with: {'beta_1': 0.2, 'beta_2': 0.4, 'learn_rate': 0.01}\n",
      "0.101387 (0.000570) with: {'beta_1': 0.2, 'beta_2': 0.4, 'learn_rate': 0.1}\n",
      "0.099688 (0.000770) with: {'beta_1': 0.2, 'beta_2': 0.4, 'learn_rate': 0.2}\n",
      "0.098625 (0.000873) with: {'beta_1': 0.2, 'beta_2': 0.4, 'learn_rate': 0.3}\n",
      "0.473287 (0.032510) with: {'beta_1': 0.2, 'beta_2': 0.6, 'learn_rate': 0.001}\n",
      "0.363789 (0.132471) with: {'beta_1': 0.2, 'beta_2': 0.6, 'learn_rate': 0.01}\n",
      "0.101650 (0.001149) with: {'beta_1': 0.2, 'beta_2': 0.6, 'learn_rate': 0.1}\n",
      "0.099750 (0.000318) with: {'beta_1': 0.2, 'beta_2': 0.6, 'learn_rate': 0.2}\n",
      "0.098675 (0.000156) with: {'beta_1': 0.2, 'beta_2': 0.6, 'learn_rate': 0.3}\n",
      "0.544076 (0.051167) with: {'beta_1': 0.2, 'beta_2': 0.8, 'learn_rate': 0.001}\n",
      "0.320336 (0.084698) with: {'beta_1': 0.2, 'beta_2': 0.8, 'learn_rate': 0.01}\n",
      "0.101688 (0.000996) with: {'beta_1': 0.2, 'beta_2': 0.8, 'learn_rate': 0.1}\n",
      "0.100912 (0.000831) with: {'beta_1': 0.2, 'beta_2': 0.8, 'learn_rate': 0.2}\n",
      "0.099075 (0.000799) with: {'beta_1': 0.2, 'beta_2': 0.8, 'learn_rate': 0.3}\n",
      "0.484625 (0.016013) with: {'beta_1': 0.2, 'beta_2': 0.9, 'learn_rate': 0.001}\n",
      "0.476312 (0.025167) with: {'beta_1': 0.2, 'beta_2': 0.9, 'learn_rate': 0.01}\n",
      "0.125212 (0.034768) with: {'beta_1': 0.2, 'beta_2': 0.9, 'learn_rate': 0.1}\n",
      "0.101238 (0.001310) with: {'beta_1': 0.2, 'beta_2': 0.9, 'learn_rate': 0.2}\n",
      "0.098937 (0.000336) with: {'beta_1': 0.2, 'beta_2': 0.9, 'learn_rate': 0.3}\n",
      "0.299349 (0.063736) with: {'beta_1': 0.2, 'beta_2': 0.999, 'learn_rate': 0.001}\n",
      "0.356038 (0.019142) with: {'beta_1': 0.2, 'beta_2': 0.999, 'learn_rate': 0.01}\n",
      "0.172062 (0.096191) with: {'beta_1': 0.2, 'beta_2': 0.999, 'learn_rate': 0.1}\n",
      "0.107800 (0.010974) with: {'beta_1': 0.2, 'beta_2': 0.999, 'learn_rate': 0.2}\n",
      "0.100675 (0.000230) with: {'beta_1': 0.2, 'beta_2': 0.999, 'learn_rate': 0.3}\n",
      "0.099200 (0.000638) with: {'beta_1': 0.4, 'beta_2': 0.0, 'learn_rate': 0.001}\n",
      "0.099200 (0.000638) with: {'beta_1': 0.4, 'beta_2': 0.0, 'learn_rate': 0.01}\n",
      "0.099200 (0.000638) with: {'beta_1': 0.4, 'beta_2': 0.0, 'learn_rate': 0.1}\n",
      "0.099200 (0.000638) with: {'beta_1': 0.4, 'beta_2': 0.0, 'learn_rate': 0.2}\n",
      "0.099200 (0.000638) with: {'beta_1': 0.4, 'beta_2': 0.0, 'learn_rate': 0.3}\n",
      "0.265299 (0.087199) with: {'beta_1': 0.4, 'beta_2': 0.2, 'learn_rate': 0.001}\n",
      "0.099312 (0.001487) with: {'beta_1': 0.4, 'beta_2': 0.2, 'learn_rate': 0.01}\n",
      "0.100913 (0.002036) with: {'beta_1': 0.4, 'beta_2': 0.2, 'learn_rate': 0.1}\n",
      "0.098887 (0.000321) with: {'beta_1': 0.4, 'beta_2': 0.2, 'learn_rate': 0.2}\n",
      "0.100137 (0.001531) with: {'beta_1': 0.4, 'beta_2': 0.2, 'learn_rate': 0.3}\n",
      "0.422313 (0.037520) with: {'beta_1': 0.4, 'beta_2': 0.4, 'learn_rate': 0.001}\n",
      "0.101075 (0.001144) with: {'beta_1': 0.4, 'beta_2': 0.4, 'learn_rate': 0.01}\n",
      "0.099000 (0.000783) with: {'beta_1': 0.4, 'beta_2': 0.4, 'learn_rate': 0.1}\n",
      "0.099600 (0.000764) with: {'beta_1': 0.4, 'beta_2': 0.4, 'learn_rate': 0.2}\n",
      "0.100000 (0.000078) with: {'beta_1': 0.4, 'beta_2': 0.4, 'learn_rate': 0.3}\n",
      "0.526387 (0.025703) with: {'beta_1': 0.4, 'beta_2': 0.6, 'learn_rate': 0.001}\n",
      "0.427525 (0.013697) with: {'beta_1': 0.4, 'beta_2': 0.6, 'learn_rate': 0.01}\n",
      "0.099775 (0.000896) with: {'beta_1': 0.4, 'beta_2': 0.6, 'learn_rate': 0.1}\n",
      "0.113212 (0.019604) with: {'beta_1': 0.4, 'beta_2': 0.6, 'learn_rate': 0.2}\n",
      "0.100300 (0.000407) with: {'beta_1': 0.4, 'beta_2': 0.6, 'learn_rate': 0.3}\n",
      "0.468312 (0.012212) with: {'beta_1': 0.4, 'beta_2': 0.8, 'learn_rate': 0.001}\n",
      "0.443812 (0.052579) with: {'beta_1': 0.4, 'beta_2': 0.8, 'learn_rate': 0.01}\n",
      "0.101387 (0.001509) with: {'beta_1': 0.4, 'beta_2': 0.8, 'learn_rate': 0.1}\n",
      "0.100475 (0.001309) with: {'beta_1': 0.4, 'beta_2': 0.8, 'learn_rate': 0.2}\n",
      "0.101262 (0.001149) with: {'beta_1': 0.4, 'beta_2': 0.8, 'learn_rate': 0.3}\n",
      "0.507974 (0.046121) with: {'beta_1': 0.4, 'beta_2': 0.9, 'learn_rate': 0.001}\n",
      "0.473124 (0.090648) with: {'beta_1': 0.4, 'beta_2': 0.9, 'learn_rate': 0.01}\n",
      "0.099075 (0.000754) with: {'beta_1': 0.4, 'beta_2': 0.9, 'learn_rate': 0.1}\n",
      "0.101487 (0.001117) with: {'beta_1': 0.4, 'beta_2': 0.9, 'learn_rate': 0.2}\n",
      "0.099363 (0.000599) with: {'beta_1': 0.4, 'beta_2': 0.9, 'learn_rate': 0.3}\n",
      "0.261050 (0.037832) with: {'beta_1': 0.4, 'beta_2': 0.999, 'learn_rate': 0.001}\n",
      "0.414975 (0.017612) with: {'beta_1': 0.4, 'beta_2': 0.999, 'learn_rate': 0.01}\n",
      "0.110987 (0.014213) with: {'beta_1': 0.4, 'beta_2': 0.999, 'learn_rate': 0.1}\n",
      "0.104637 (0.004591) with: {'beta_1': 0.4, 'beta_2': 0.999, 'learn_rate': 0.2}\n",
      "0.099062 (0.001412) with: {'beta_1': 0.4, 'beta_2': 0.999, 'learn_rate': 0.3}\n",
      "0.099200 (0.000638) with: {'beta_1': 0.6, 'beta_2': 0.0, 'learn_rate': 0.001}\n",
      "0.099200 (0.000638) with: {'beta_1': 0.6, 'beta_2': 0.0, 'learn_rate': 0.01}\n",
      "0.098062 (0.000985) with: {'beta_1': 0.6, 'beta_2': 0.0, 'learn_rate': 0.1}\n",
      "0.099875 (0.000735) with: {'beta_1': 0.6, 'beta_2': 0.0, 'learn_rate': 0.2}\n",
      "0.099200 (0.000638) with: {'beta_1': 0.6, 'beta_2': 0.0, 'learn_rate': 0.3}\n",
      "0.099487 (0.000291) with: {'beta_1': 0.6, 'beta_2': 0.2, 'learn_rate': 0.001}\n",
      "0.088612 (0.014875) with: {'beta_1': 0.6, 'beta_2': 0.2, 'learn_rate': 0.01}\n",
      "0.100150 (0.001414) with: {'beta_1': 0.6, 'beta_2': 0.2, 'learn_rate': 0.1}\n",
      "0.099287 (0.001572) with: {'beta_1': 0.6, 'beta_2': 0.2, 'learn_rate': 0.2}\n",
      "0.099925 (0.001002) with: {'beta_1': 0.6, 'beta_2': 0.2, 'learn_rate': 0.3}\n",
      "0.238300 (0.024082) with: {'beta_1': 0.6, 'beta_2': 0.4, 'learn_rate': 0.001}\n",
      "0.100975 (0.001084) with: {'beta_1': 0.6, 'beta_2': 0.4, 'learn_rate': 0.01}\n",
      "0.100025 (0.000858) with: {'beta_1': 0.6, 'beta_2': 0.4, 'learn_rate': 0.1}\n",
      "0.100013 (0.000063) with: {'beta_1': 0.6, 'beta_2': 0.4, 'learn_rate': 0.2}\n",
      "0.098750 (0.000439) with: {'beta_1': 0.6, 'beta_2': 0.4, 'learn_rate': 0.3}\n",
      "0.485212 (0.014479) with: {'beta_1': 0.6, 'beta_2': 0.6, 'learn_rate': 0.001}\n",
      "0.271013 (0.120855) with: {'beta_1': 0.6, 'beta_2': 0.6, 'learn_rate': 0.01}\n",
      "0.100400 (0.000470) with: {'beta_1': 0.6, 'beta_2': 0.6, 'learn_rate': 0.1}\n",
      "0.100462 (0.000290) with: {'beta_1': 0.6, 'beta_2': 0.6, 'learn_rate': 0.2}\n",
      "0.098975 (0.001318) with: {'beta_1': 0.6, 'beta_2': 0.6, 'learn_rate': 0.3}\n",
      "0.496100 (0.038490) with: {'beta_1': 0.6, 'beta_2': 0.8, 'learn_rate': 0.001}\n",
      "0.333111 (0.092346) with: {'beta_1': 0.6, 'beta_2': 0.8, 'learn_rate': 0.01}\n",
      "0.101138 (0.000884) with: {'beta_1': 0.6, 'beta_2': 0.8, 'learn_rate': 0.1}\n",
      "0.100300 (0.000915) with: {'beta_1': 0.6, 'beta_2': 0.8, 'learn_rate': 0.2}\n",
      "0.099213 (0.000268) with: {'beta_1': 0.6, 'beta_2': 0.8, 'learn_rate': 0.3}\n",
      "0.484100 (0.022138) with: {'beta_1': 0.6, 'beta_2': 0.9, 'learn_rate': 0.001}\n",
      "0.542101 (0.067268) with: {'beta_1': 0.6, 'beta_2': 0.9, 'learn_rate': 0.01}\n",
      "0.099550 (0.001339) with: {'beta_1': 0.6, 'beta_2': 0.9, 'learn_rate': 0.1}\n",
      "0.099438 (0.001396) with: {'beta_1': 0.6, 'beta_2': 0.9, 'learn_rate': 0.2}\n",
      "0.099300 (0.000560) with: {'beta_1': 0.6, 'beta_2': 0.9, 'learn_rate': 0.3}\n",
      "0.204476 (0.042806) with: {'beta_1': 0.6, 'beta_2': 0.999, 'learn_rate': 0.001}\n",
      "0.369763 (0.128590) with: {'beta_1': 0.6, 'beta_2': 0.999, 'learn_rate': 0.01}\n",
      "0.127300 (0.023685) with: {'beta_1': 0.6, 'beta_2': 0.999, 'learn_rate': 0.1}\n",
      "0.099838 (0.000389) with: {'beta_1': 0.6, 'beta_2': 0.999, 'learn_rate': 0.2}\n",
      "0.100487 (0.001167) with: {'beta_1': 0.6, 'beta_2': 0.999, 'learn_rate': 0.3}\n",
      "0.099200 (0.000638) with: {'beta_1': 0.8, 'beta_2': 0.0, 'learn_rate': 0.001}\n",
      "0.099200 (0.000638) with: {'beta_1': 0.8, 'beta_2': 0.0, 'learn_rate': 0.01}\n",
      "0.099200 (0.000638) with: {'beta_1': 0.8, 'beta_2': 0.0, 'learn_rate': 0.1}\n",
      "0.099200 (0.000638) with: {'beta_1': 0.8, 'beta_2': 0.0, 'learn_rate': 0.2}\n",
      "0.099200 (0.000638) with: {'beta_1': 0.8, 'beta_2': 0.0, 'learn_rate': 0.3}\n",
      "0.084137 (0.022429) with: {'beta_1': 0.8, 'beta_2': 0.2, 'learn_rate': 0.001}\n",
      "0.099750 (0.000722) with: {'beta_1': 0.8, 'beta_2': 0.2, 'learn_rate': 0.01}\n",
      "0.123587 (0.034743) with: {'beta_1': 0.8, 'beta_2': 0.2, 'learn_rate': 0.1}\n",
      "0.099100 (0.000784) with: {'beta_1': 0.8, 'beta_2': 0.2, 'learn_rate': 0.2}\n",
      "0.099787 (0.000938) with: {'beta_1': 0.8, 'beta_2': 0.2, 'learn_rate': 0.3}\n",
      "0.099350 (0.000623) with: {'beta_1': 0.8, 'beta_2': 0.4, 'learn_rate': 0.001}\n",
      "0.099412 (0.000907) with: {'beta_1': 0.8, 'beta_2': 0.4, 'learn_rate': 0.01}\n",
      "0.101200 (0.001211) with: {'beta_1': 0.8, 'beta_2': 0.4, 'learn_rate': 0.1}\n",
      "0.100012 (0.001088) with: {'beta_1': 0.8, 'beta_2': 0.4, 'learn_rate': 0.2}\n",
      "0.099500 (0.001317) with: {'beta_1': 0.8, 'beta_2': 0.4, 'learn_rate': 0.3}\n",
      "0.099900 (0.000702) with: {'beta_1': 0.8, 'beta_2': 0.6, 'learn_rate': 0.001}\n",
      "0.100375 (0.000845) with: {'beta_1': 0.8, 'beta_2': 0.6, 'learn_rate': 0.01}\n",
      "0.099212 (0.001626) with: {'beta_1': 0.8, 'beta_2': 0.6, 'learn_rate': 0.1}\n",
      "0.098825 (0.000431) with: {'beta_1': 0.8, 'beta_2': 0.6, 'learn_rate': 0.2}\n",
      "0.099425 (0.000469) with: {'beta_1': 0.8, 'beta_2': 0.6, 'learn_rate': 0.3}\n",
      "0.367875 (0.057290) with: {'beta_1': 0.8, 'beta_2': 0.8, 'learn_rate': 0.001}\n",
      "0.190000 (0.011609) with: {'beta_1': 0.8, 'beta_2': 0.8, 'learn_rate': 0.01}\n",
      "0.101912 (0.000646) with: {'beta_1': 0.8, 'beta_2': 0.8, 'learn_rate': 0.1}\n",
      "0.101300 (0.001555) with: {'beta_1': 0.8, 'beta_2': 0.8, 'learn_rate': 0.2}\n",
      "0.099762 (0.000903) with: {'beta_1': 0.8, 'beta_2': 0.8, 'learn_rate': 0.3}\n",
      "0.489963 (0.029503) with: {'beta_1': 0.8, 'beta_2': 0.9, 'learn_rate': 0.001}\n",
      "0.368572 (0.152613) with: {'beta_1': 0.8, 'beta_2': 0.9, 'learn_rate': 0.01}\n",
      "0.128725 (0.041243) with: {'beta_1': 0.8, 'beta_2': 0.9, 'learn_rate': 0.1}\n",
      "0.099663 (0.000550) with: {'beta_1': 0.8, 'beta_2': 0.9, 'learn_rate': 0.2}\n",
      "0.100675 (0.001681) with: {'beta_1': 0.8, 'beta_2': 0.9, 'learn_rate': 0.3}\n",
      "0.260338 (0.007395) with: {'beta_1': 0.8, 'beta_2': 0.999, 'learn_rate': 0.001}\n",
      "0.336602 (0.152707) with: {'beta_1': 0.8, 'beta_2': 0.999, 'learn_rate': 0.01}\n",
      "0.122412 (0.025899) with: {'beta_1': 0.8, 'beta_2': 0.999, 'learn_rate': 0.1}\n",
      "0.100363 (0.001237) with: {'beta_1': 0.8, 'beta_2': 0.999, 'learn_rate': 0.2}\n",
      "0.101063 (0.000294) with: {'beta_1': 0.8, 'beta_2': 0.999, 'learn_rate': 0.3}\n",
      "0.099200 (0.000638) with: {'beta_1': 0.9, 'beta_2': 0.0, 'learn_rate': 0.001}\n",
      "0.099200 (0.000638) with: {'beta_1': 0.9, 'beta_2': 0.0, 'learn_rate': 0.01}\n",
      "0.099200 (0.000638) with: {'beta_1': 0.9, 'beta_2': 0.0, 'learn_rate': 0.1}\n",
      "0.099200 (0.000638) with: {'beta_1': 0.9, 'beta_2': 0.0, 'learn_rate': 0.2}\n",
      "0.099950 (0.000817) with: {'beta_1': 0.9, 'beta_2': 0.0, 'learn_rate': 0.3}\n",
      "0.086725 (0.017463) with: {'beta_1': 0.9, 'beta_2': 0.2, 'learn_rate': 0.001}\n",
      "0.103637 (0.003280) with: {'beta_1': 0.9, 'beta_2': 0.2, 'learn_rate': 0.01}\n",
      "0.099488 (0.000507) with: {'beta_1': 0.9, 'beta_2': 0.2, 'learn_rate': 0.1}\n",
      "0.101162 (0.001931) with: {'beta_1': 0.9, 'beta_2': 0.2, 'learn_rate': 0.2}\n",
      "0.100662 (0.000409) with: {'beta_1': 0.9, 'beta_2': 0.2, 'learn_rate': 0.3}\n",
      "0.105600 (0.008723) with: {'beta_1': 0.9, 'beta_2': 0.4, 'learn_rate': 0.001}\n",
      "0.099075 (0.000754) with: {'beta_1': 0.9, 'beta_2': 0.4, 'learn_rate': 0.01}\n",
      "0.100613 (0.000477) with: {'beta_1': 0.9, 'beta_2': 0.4, 'learn_rate': 0.1}\n",
      "0.099162 (0.001054) with: {'beta_1': 0.9, 'beta_2': 0.4, 'learn_rate': 0.2}\n",
      "0.100450 (0.001786) with: {'beta_1': 0.9, 'beta_2': 0.4, 'learn_rate': 0.3}\n",
      "0.099525 (0.001304) with: {'beta_1': 0.9, 'beta_2': 0.6, 'learn_rate': 0.001}\n",
      "0.099900 (0.001039) with: {'beta_1': 0.9, 'beta_2': 0.6, 'learn_rate': 0.01}\n",
      "0.087263 (0.010348) with: {'beta_1': 0.9, 'beta_2': 0.6, 'learn_rate': 0.1}\n",
      "0.110950 (0.015760) with: {'beta_1': 0.9, 'beta_2': 0.6, 'learn_rate': 0.2}\n",
      "0.101025 (0.000811) with: {'beta_1': 0.9, 'beta_2': 0.6, 'learn_rate': 0.3}\n",
      "0.147700 (0.020664) with: {'beta_1': 0.9, 'beta_2': 0.8, 'learn_rate': 0.001}\n",
      "0.099650 (0.000723) with: {'beta_1': 0.9, 'beta_2': 0.8, 'learn_rate': 0.01}\n",
      "0.100100 (0.000984) with: {'beta_1': 0.9, 'beta_2': 0.8, 'learn_rate': 0.1}\n",
      "0.100950 (0.001453) with: {'beta_1': 0.9, 'beta_2': 0.8, 'learn_rate': 0.2}\n",
      "0.099487 (0.001667) with: {'beta_1': 0.9, 'beta_2': 0.8, 'learn_rate': 0.3}\n",
      "0.390888 (0.043976) with: {'beta_1': 0.9, 'beta_2': 0.9, 'learn_rate': 0.001}\n",
      "0.181736 (0.057620) with: {'beta_1': 0.9, 'beta_2': 0.9, 'learn_rate': 0.01}\n",
      "0.099850 (0.000749) with: {'beta_1': 0.9, 'beta_2': 0.9, 'learn_rate': 0.1}\n",
      "0.100175 (0.001983) with: {'beta_1': 0.9, 'beta_2': 0.9, 'learn_rate': 0.2}\n",
      "0.100938 (0.001687) with: {'beta_1': 0.9, 'beta_2': 0.9, 'learn_rate': 0.3}\n",
      "0.256336 (0.093435) with: {'beta_1': 0.9, 'beta_2': 0.999, 'learn_rate': 0.001}\n",
      "0.334077 (0.117975) with: {'beta_1': 0.9, 'beta_2': 0.999, 'learn_rate': 0.01}\n",
      "0.099912 (0.000684) with: {'beta_1': 0.9, 'beta_2': 0.999, 'learn_rate': 0.1}\n",
      "0.099425 (0.000092) with: {'beta_1': 0.9, 'beta_2': 0.999, 'learn_rate': 0.2}\n",
      "0.100037 (0.000911) with: {'beta_1': 0.9, 'beta_2': 0.999, 'learn_rate': 0.3}\n"
     ]
    }
   ],
   "source": [
    "# Function to create model, required for KerasClassifier hp tuning for adamax\n",
    "def create_model(learn_rate=0.01,beta_1=0.9,beta_2=0.999):\n",
    "    # create model\n",
    "    model = Sequential()\n",
    "    model.add(Dense(32, input_dim=784, activation='relu'))\n",
    "    model.add(Dense(32, activation='relu'))\n",
    "    model.add(Dense(10, activation=\"softmax\"))\n",
    "    # Compile model\n",
    "    optimizer = Adamax(lr=learn_rate, beta_1=beta_1, beta_2=beta_2, epsilon=1e-07)\n",
    "    model.compile(loss='sparse_categorical_crossentropy', optimizer=optimizer, metrics=['accuracy'])\n",
    "    return model\n",
    "# fix random seed for reproducibility\n",
    "seed = 7\n",
    "np.random.seed(seed)\n",
    "# create model\n",
    "model = KerasClassifier(build_fn=create_model, epochs=2, batch_size=512, verbose=1)\n",
    "# define the grid search parameters\n",
    "learn_rate = [0.001, 0.01, 0.1, 0.2, 0.3]\n",
    "beta_1 = [0.0, 0.2, 0.4, 0.6, 0.8, 0.9]\n",
    "beta_2 = [0.0, 0.2, 0.4, 0.6, 0.8, 0.9,0.999]\n",
    "param_grid = dict(learn_rate=learn_rate, beta_1=beta_1,beta_2=beta_2)\n",
    "grid = GridSearchCV(estimator=model, param_grid=param_grid, n_jobs=-1, cv=3)\n",
    "grid_result = grid.fit(X_train, y_train,validation_data=(X_test, y_test))\n",
    "# summarize results\n",
    "print(\"Best: %f using %s\" % (grid_result.best_score_, grid_result.best_params_))\n",
    "means = grid_result.cv_results_['mean_test_score']\n",
    "stds = grid_result.cv_results_['std_test_score']\n",
    "params = grid_result.cv_results_['params']\n",
    "for mean, stdev, param in zip(means, stds, params):\n",
    "    print(\"%f (%f) with: %r\" % (mean, stdev, param))"
   ]
  },
  {
   "cell_type": "code",
   "execution_count": 6,
   "metadata": {
    "collapsed": true,
    "jupyter": {
     "outputs_hidden": true
    }
   },
   "outputs": [
    {
     "name": "stdout",
     "output_type": "stream",
     "text": [
      "Epoch 1/16\n",
      "800/800 [==============================] - 1s 1ms/step - loss: 2.3072 - accuracy: 0.5164 - val_loss: 1.4895 - val_accuracy: 0.6151\n",
      "Epoch 2/16\n",
      "800/800 [==============================] - 1s 965us/step - loss: 1.3522 - accuracy: 0.6288 - val_loss: 1.3952 - val_accuracy: 0.6330\n",
      "Epoch 3/16\n",
      "800/800 [==============================] - 1s 969us/step - loss: 1.3326 - accuracy: 0.6471 - val_loss: 1.3301 - val_accuracy: 0.6551\n",
      "Epoch 4/16\n",
      "800/800 [==============================] - 1s 968us/step - loss: 1.3305 - accuracy: 0.6611 - val_loss: 1.3862 - val_accuracy: 0.6694\n",
      "Epoch 5/16\n",
      "800/800 [==============================] - 1s 1ms/step - loss: 1.2956 - accuracy: 0.6684 - val_loss: 1.3822 - val_accuracy: 0.6556\n",
      "Epoch 6/16\n",
      "800/800 [==============================] - 1s 982us/step - loss: 1.2530 - accuracy: 0.7013 - val_loss: 1.3555 - val_accuracy: 0.7022\n",
      "Epoch 7/16\n",
      "800/800 [==============================] - 1s 1ms/step - loss: 1.1983 - accuracy: 0.7219 - val_loss: 1.3366 - val_accuracy: 0.7184\n",
      "Epoch 8/16\n",
      "800/800 [==============================] - 1s 1ms/step - loss: 1.1704 - accuracy: 0.7238 - val_loss: 1.2382 - val_accuracy: 0.7171\n",
      "Epoch 9/16\n",
      "800/800 [==============================] - 1s 1ms/step - loss: 1.1711 - accuracy: 0.7196 - val_loss: 1.3248 - val_accuracy: 0.6899\n",
      "Epoch 10/16\n",
      "800/800 [==============================] - 1s 1ms/step - loss: 1.2316 - accuracy: 0.6949 - val_loss: 1.4890 - val_accuracy: 0.6938\n",
      "Epoch 11/16\n",
      "800/800 [==============================] - 1s 970us/step - loss: 1.3562 - accuracy: 0.6757 - val_loss: 1.4940 - val_accuracy: 0.6524\n",
      "Epoch 12/16\n",
      "800/800 [==============================] - 1s 983us/step - loss: 1.5218 - accuracy: 0.6110 - val_loss: 1.6450 - val_accuracy: 0.5941\n",
      "Epoch 13/16\n",
      "800/800 [==============================] - 1s 971us/step - loss: 1.6853 - accuracy: 0.5921 - val_loss: 1.8256 - val_accuracy: 0.5245\n",
      "Epoch 14/16\n",
      "800/800 [==============================] - 1s 969us/step - loss: 1.7998 - accuracy: 0.5342 - val_loss: 2.2518 - val_accuracy: 0.5060\n",
      "Epoch 15/16\n",
      "800/800 [==============================] - 1s 969us/step - loss: 1.8707 - accuracy: 0.5116 - val_loss: 2.2848 - val_accuracy: 0.5293\n",
      "Epoch 16/16\n",
      "800/800 [==============================] - 1s 983us/step - loss: 1.9571 - accuracy: 0.4921 - val_loss: 2.6278 - val_accuracy: 0.5254\n",
      "Best: 0.694762 using {'init_mode': 'glorot_uniform'}\n",
      "0.405661 (0.155120) with: {'init_mode': 'uniform'}\n",
      "0.635600 (0.042588) with: {'init_mode': 'lecun_uniform'}\n",
      "0.534497 (0.208954) with: {'init_mode': 'normal'}\n",
      "0.098825 (0.000431) with: {'init_mode': 'zero'}\n",
      "0.672013 (0.067650) with: {'init_mode': 'glorot_normal'}\n",
      "0.694762 (0.024019) with: {'init_mode': 'glorot_uniform'}\n",
      "0.631775 (0.015457) with: {'init_mode': 'he_normal'}\n",
      "0.487811 (0.111932) with: {'init_mode': 'he_uniform'}\n"
     ]
    }
   ],
   "source": [
    "# Function to create model, required for KerasClassifier for Tuning \n",
    "# Network Weight Initialization\n",
    "def create_model2(init_mode='uniform'):\n",
    "    # create model\n",
    "    model = Sequential()\n",
    "    model.add(Dense(32, input_dim=784, kernel_initializer=init_mode, activation='relu'))\n",
    "    model.add(Dense(32, kernel_initializer=init_mode, activation='relu'))\n",
    "    model.add(Dense(10, activation=\"softmax\"))\n",
    "    # Compile model\n",
    "    optimizer = Adamax(lr=0.001, beta_1=0.2, beta_2=0.2, epsilon=1e-07)\n",
    "    model.compile(loss='sparse_categorical_crossentropy', optimizer=optimizer, metrics=['accuracy'])\n",
    "    return model\n",
    "# fix random seed for reproducibility\n",
    "seed = 7\n",
    "np.random.seed(seed)\n",
    "# create model\n",
    "model = KerasClassifier(build_fn=create_model2, epochs=16, batch_size=100, verbose=1)\n",
    "# define the grid search parameters\n",
    "init_mode = ['uniform', 'lecun_uniform', 'normal', 'zero',\n",
    "             'glorot_normal', 'glorot_uniform', 'he_normal', 'he_uniform']\n",
    "param_grid = dict(init_mode=init_mode)\n",
    "grid = GridSearchCV(estimator=model, param_grid=param_grid, n_jobs=-1, cv=3)\n",
    "grid_result = grid.fit(X_train, y_train,validation_data=(X_test, y_test))\n",
    "# summarize results\n",
    "print(\"Best: %f using %s\" % (grid_result.best_score_, grid_result.best_params_))\n",
    "means = grid_result.cv_results_['mean_test_score']\n",
    "stds = grid_result.cv_results_['std_test_score']\n",
    "params = grid_result.cv_results_['params']\n",
    "for mean, stdev, param in zip(means, stds, params):\n",
    "    print(\"%f (%f) with: %r\" % (mean, stdev, param))"
   ]
  },
  {
   "cell_type": "code",
   "execution_count": 7,
   "metadata": {},
   "outputs": [
    {
     "name": "stdout",
     "output_type": "stream",
     "text": [
      "Epoch 1/16\n",
      "2500/2500 [==============================] - 2s 761us/step - loss: 0.8885 - accuracy: 0.7236 - val_loss: 0.7910 - val_accuracy: 0.7606\n",
      "Epoch 2/16\n",
      "2500/2500 [==============================] - 2s 753us/step - loss: 0.7623 - accuracy: 0.7716 - val_loss: 0.7759 - val_accuracy: 0.7742\n",
      "Epoch 3/16\n",
      "2500/2500 [==============================] - 2s 755us/step - loss: 0.7465 - accuracy: 0.7807 - val_loss: 0.7696 - val_accuracy: 0.7798\n",
      "Epoch 4/16\n",
      "2500/2500 [==============================] - 2s 749us/step - loss: 0.7441 - accuracy: 0.7838 - val_loss: 0.7838 - val_accuracy: 0.7867\n",
      "Epoch 5/16\n",
      "2500/2500 [==============================] - 2s 737us/step - loss: 0.7448 - accuracy: 0.7894 - val_loss: 0.7869 - val_accuracy: 0.7780\n",
      "Epoch 6/16\n",
      "2500/2500 [==============================] - 2s 757us/step - loss: 0.7545 - accuracy: 0.7904 - val_loss: 0.8073 - val_accuracy: 0.7870\n",
      "Epoch 7/16\n",
      "2500/2500 [==============================] - 2s 731us/step - loss: 0.7709 - accuracy: 0.7926 - val_loss: 0.7910 - val_accuracy: 0.7879\n",
      "Epoch 8/16\n",
      "2500/2500 [==============================] - 2s 733us/step - loss: 0.7835 - accuracy: 0.7914 - val_loss: 0.8522 - val_accuracy: 0.7797\n",
      "Epoch 9/16\n",
      "2500/2500 [==============================] - 2s 748us/step - loss: 0.7928 - accuracy: 0.7924 - val_loss: 0.8416 - val_accuracy: 0.7744\n",
      "Epoch 10/16\n",
      "2500/2500 [==============================] - 2s 723us/step - loss: 0.8191 - accuracy: 0.7892 - val_loss: 0.9335 - val_accuracy: 0.7792\n",
      "Epoch 11/16\n",
      "2500/2500 [==============================] - 2s 733us/step - loss: 0.8431 - accuracy: 0.7884 - val_loss: 0.9448 - val_accuracy: 0.7751\n",
      "Epoch 12/16\n",
      "2500/2500 [==============================] - 2s 733us/step - loss: 0.8691 - accuracy: 0.7853 - val_loss: 0.9363 - val_accuracy: 0.7828\n",
      "Epoch 13/16\n",
      "2500/2500 [==============================] - 2s 741us/step - loss: 0.8974 - accuracy: 0.7810 - val_loss: 0.9656 - val_accuracy: 0.7629\n",
      "Epoch 14/16\n",
      "2500/2500 [==============================] - 2s 728us/step - loss: 0.9219 - accuracy: 0.7778 - val_loss: 1.0619 - val_accuracy: 0.7654\n",
      "Epoch 15/16\n",
      "2500/2500 [==============================] - 2s 759us/step - loss: 0.9537 - accuracy: 0.7762 - val_loss: 1.1191 - val_accuracy: 0.7575\n",
      "Epoch 16/16\n",
      "2500/2500 [==============================] - 2s 770us/step - loss: 0.9625 - accuracy: 0.7733 - val_loss: 1.1520 - val_accuracy: 0.7513\n",
      "Best: 0.776338 using {'activation': 'softsign'}\n",
      "0.382051 (0.040883) with: {'activation': 'softmax'}\n",
      "0.374262 (0.070484) with: {'activation': 'softplus'}\n",
      "0.776338 (0.002234) with: {'activation': 'softsign'}\n",
      "0.457602 (0.099189) with: {'activation': 'relu'}\n",
      "0.731950 (0.004190) with: {'activation': 'tanh'}\n",
      "0.723913 (0.005915) with: {'activation': 'sigmoid'}\n",
      "0.685238 (0.008161) with: {'activation': 'hard_sigmoid'}\n",
      "0.176312 (0.022371) with: {'activation': 'linear'}\n"
     ]
    }
   ],
   "source": [
    "# Function to create model, required for KerasClassifier\n",
    "# Tuning the Neuron Activation Function\n",
    "def create_model(activation='relu'):\n",
    "    # create model\n",
    "    model = Sequential()\n",
    "    model.add(Dense(32, input_dim=784, kernel_initializer='glorot_uniform', activation=activation))\n",
    "    model.add(Dense(32, kernel_initializer='glorot_uniform', activation='relu'))\n",
    "    model.add(Dense(10, activation=\"softmax\"))\n",
    "    # Compile model\n",
    "    optimizer = Adamax(lr=0.001, beta_1=0.2, beta_2=0.2, epsilon=1e-07)\n",
    "    model.compile(loss='sparse_categorical_crossentropy', optimizer=optimizer, metrics=['accuracy'])\n",
    "    return model\n",
    "# fix random seed for reproducibility\n",
    "seed = 7\n",
    "np.random.seed(seed)\n",
    "# create model\n",
    "model = KerasClassifier(build_fn=create_model, epochs=16, batch_size=32, verbose=1)\n",
    "# define the grid search parameters\n",
    "activation = ['softmax', 'softplus', 'softsign', 'relu', 'tanh', 'sigmoid', 'hard_sigmoid', 'linear']\n",
    "param_grid = dict(activation=activation)\n",
    "grid = GridSearchCV(estimator=model, param_grid=param_grid, n_jobs=-1, cv=3)\n",
    "grid_result = grid.fit(X_train, y_train,validation_data=(X_test, y_test))\n",
    "# summarize results\n",
    "print(\"Best: %f using %s\" % (grid_result.best_score_, grid_result.best_params_))\n",
    "means = grid_result.cv_results_['mean_test_score']\n",
    "stds = grid_result.cv_results_['std_test_score']\n",
    "params = grid_result.cv_results_['params']\n",
    "for mean, stdev, param in zip(means, stds, params):\n",
    "    print(\"%f (%f) with: %r\" % (mean, stdev, param))"
   ]
  },
  {
   "cell_type": "code",
   "execution_count": 8,
   "metadata": {
    "collapsed": true,
    "jupyter": {
     "outputs_hidden": true
    }
   },
   "outputs": [
    {
     "name": "stdout",
     "output_type": "stream",
     "text": [
      "Epoch 1/4\n",
      "779/800 [============================>.] - ETA: 0s - loss: 1.0403 - accuracy: 0.6889WARNING:tensorflow:Callbacks method `on_test_batch_begin` is slow compared to the batch time (batch time: 0.0000s vs `on_test_batch_begin` time: 0.0010s). Check your callbacks.\n",
      "800/800 [==============================] - 1s 1ms/step - loss: 1.0350 - accuracy: 0.6904 - val_loss: 0.8370 - val_accuracy: 0.7477\n",
      "Epoch 2/4\n",
      "800/800 [==============================] - 1s 1ms/step - loss: 0.7826 - accuracy: 0.7620 - val_loss: 0.7704 - val_accuracy: 0.7696\n",
      "Epoch 3/4\n",
      "800/800 [==============================] - 1s 1ms/step - loss: 0.7453 - accuracy: 0.7747 - val_loss: 0.7452 - val_accuracy: 0.7762\n",
      "Epoch 4/4\n",
      "800/800 [==============================] - 1s 1ms/step - loss: 0.7275 - accuracy: 0.7809 - val_loss: 0.7423 - val_accuracy: 0.7789\n",
      "Best: 0.772450 using {'dropout_rate': 0.0, 'weight_constraint': 4}\n",
      "0.754325 (0.001272) with: {'dropout_rate': 0.0, 'weight_constraint': 1}\n",
      "0.766037 (0.001450) with: {'dropout_rate': 0.0, 'weight_constraint': 2}\n",
      "0.767687 (0.000685) with: {'dropout_rate': 0.0, 'weight_constraint': 3}\n",
      "0.772450 (0.002699) with: {'dropout_rate': 0.0, 'weight_constraint': 4}\n",
      "0.772125 (0.000847) with: {'dropout_rate': 0.0, 'weight_constraint': 5}\n",
      "0.748837 (0.003335) with: {'dropout_rate': 0.1, 'weight_constraint': 1}\n",
      "0.766312 (0.000662) with: {'dropout_rate': 0.1, 'weight_constraint': 2}\n",
      "0.763625 (0.001930) with: {'dropout_rate': 0.1, 'weight_constraint': 3}\n",
      "0.759625 (0.005843) with: {'dropout_rate': 0.1, 'weight_constraint': 4}\n",
      "0.764513 (0.001856) with: {'dropout_rate': 0.1, 'weight_constraint': 5}\n",
      "0.748650 (0.006882) with: {'dropout_rate': 0.2, 'weight_constraint': 1}\n",
      "0.757812 (0.000111) with: {'dropout_rate': 0.2, 'weight_constraint': 2}\n",
      "0.760525 (0.002782) with: {'dropout_rate': 0.2, 'weight_constraint': 3}\n",
      "0.759688 (0.000347) with: {'dropout_rate': 0.2, 'weight_constraint': 4}\n",
      "0.759063 (0.003215) with: {'dropout_rate': 0.2, 'weight_constraint': 5}\n",
      "0.743975 (0.003894) with: {'dropout_rate': 0.3, 'weight_constraint': 1}\n",
      "0.754550 (0.001700) with: {'dropout_rate': 0.3, 'weight_constraint': 2}\n",
      "0.758250 (0.000742) with: {'dropout_rate': 0.3, 'weight_constraint': 3}\n",
      "0.757437 (0.001798) with: {'dropout_rate': 0.3, 'weight_constraint': 4}\n",
      "0.755750 (0.002060) with: {'dropout_rate': 0.3, 'weight_constraint': 5}\n",
      "0.741200 (0.003460) with: {'dropout_rate': 0.4, 'weight_constraint': 1}\n",
      "0.750037 (0.002657) with: {'dropout_rate': 0.4, 'weight_constraint': 2}\n",
      "0.752238 (0.000803) with: {'dropout_rate': 0.4, 'weight_constraint': 3}\n",
      "0.752900 (0.003427) with: {'dropout_rate': 0.4, 'weight_constraint': 4}\n",
      "0.752925 (0.001410) with: {'dropout_rate': 0.4, 'weight_constraint': 5}\n",
      "0.729575 (0.002031) with: {'dropout_rate': 0.5, 'weight_constraint': 1}\n",
      "0.740913 (0.002533) with: {'dropout_rate': 0.5, 'weight_constraint': 2}\n",
      "0.742700 (0.001098) with: {'dropout_rate': 0.5, 'weight_constraint': 3}\n",
      "0.746575 (0.001431) with: {'dropout_rate': 0.5, 'weight_constraint': 4}\n",
      "0.745687 (0.002308) with: {'dropout_rate': 0.5, 'weight_constraint': 5}\n",
      "0.718425 (0.002233) with: {'dropout_rate': 0.6, 'weight_constraint': 1}\n",
      "0.735487 (0.006184) with: {'dropout_rate': 0.6, 'weight_constraint': 2}\n",
      "0.735337 (0.003489) with: {'dropout_rate': 0.6, 'weight_constraint': 3}\n",
      "0.740662 (0.002587) with: {'dropout_rate': 0.6, 'weight_constraint': 4}\n",
      "0.737225 (0.006975) with: {'dropout_rate': 0.6, 'weight_constraint': 5}\n",
      "0.712225 (0.000796) with: {'dropout_rate': 0.7, 'weight_constraint': 1}\n",
      "0.723487 (0.002265) with: {'dropout_rate': 0.7, 'weight_constraint': 2}\n",
      "0.731888 (0.003663) with: {'dropout_rate': 0.7, 'weight_constraint': 3}\n",
      "0.733025 (0.005987) with: {'dropout_rate': 0.7, 'weight_constraint': 4}\n",
      "0.727075 (0.003582) with: {'dropout_rate': 0.7, 'weight_constraint': 5}\n",
      "0.697488 (0.003601) with: {'dropout_rate': 0.8, 'weight_constraint': 1}\n",
      "0.712400 (0.004952) with: {'dropout_rate': 0.8, 'weight_constraint': 2}\n",
      "0.711700 (0.004387) with: {'dropout_rate': 0.8, 'weight_constraint': 3}\n",
      "0.715050 (0.005168) with: {'dropout_rate': 0.8, 'weight_constraint': 4}\n",
      "0.711038 (0.005079) with: {'dropout_rate': 0.8, 'weight_constraint': 5}\n",
      "0.634687 (0.010878) with: {'dropout_rate': 0.9, 'weight_constraint': 1}\n",
      "0.637212 (0.012005) with: {'dropout_rate': 0.9, 'weight_constraint': 2}\n",
      "0.661900 (0.009822) with: {'dropout_rate': 0.9, 'weight_constraint': 3}\n",
      "0.664863 (0.004917) with: {'dropout_rate': 0.9, 'weight_constraint': 4}\n",
      "0.662262 (0.015834) with: {'dropout_rate': 0.9, 'weight_constraint': 5}\n"
     ]
    }
   ],
   "source": [
    "# Function to create model, required for KerasClassifier\n",
    "# Tuning Dropout Regularization and wight constrant\n",
    "def create_model(dropout_rate=0.0, weight_constraint=0):\n",
    "    # create model\n",
    "    model = Sequential()\n",
    "    model.add(Dense(32, input_dim=784, kernel_initializer='glorot_uniform', activation='softsign', kernel_constraint=maxnorm(weight_constraint)))\n",
    "    model.add(Dropout(dropout_rate))\n",
    "    model.add(Dense(32, kernel_initializer='glorot_uniform', activation='softmax'))\n",
    "    # Compile model\n",
    "    optimizer = Adamax(lr=0.001, beta_1=0.2, beta_2=0.2, epsilon=1e-07)\n",
    "    model.compile(loss='sparse_categorical_crossentropy', optimizer=optimizer, metrics=['accuracy'])\n",
    "    return model\n",
    "# fix random seed for reproducibility\n",
    "seed = 7\n",
    "np.random.seed(seed)\n",
    "# create model\n",
    "model = KerasClassifier(build_fn=create_model, epochs=4, batch_size=100, verbose=1)\n",
    "# define the grid search parameters\n",
    "weight_constraint = [1, 2, 3, 4, 5]\n",
    "dropout_rate = [0.0, 0.1, 0.2, 0.3, 0.4, 0.5, 0.6, 0.7, 0.8, 0.9]\n",
    "param_grid = dict(dropout_rate=dropout_rate, weight_constraint=weight_constraint)\n",
    "grid = GridSearchCV(estimator=model, param_grid=param_grid, n_jobs=-1, cv=3)\n",
    "grid_result = grid.fit(X_train, y_train,validation_data=(X_test, y_test))\n",
    "# summarize results\n",
    "print(\"Best: %f using %s\" % (grid_result.best_score_, grid_result.best_params_))\n",
    "means = grid_result.cv_results_['mean_test_score']\n",
    "stds = grid_result.cv_results_['std_test_score']\n",
    "params = grid_result.cv_results_['params']\n",
    "for mean, stdev, param in zip(means, stds, params):\n",
    "    print(\"%f (%f) with: %r\" % (mean, stdev, param))"
   ]
  },
  {
   "cell_type": "code",
   "execution_count": 9,
   "metadata": {
    "collapsed": true,
    "jupyter": {
     "outputs_hidden": true
    }
   },
   "outputs": [
    {
     "name": "stdout",
     "output_type": "stream",
     "text": [
      "Epoch 1/4\n",
      "800/800 [==============================] - 1s 1ms/step - loss: 1.0243 - accuracy: 0.6874 - val_loss: 0.8105 - val_accuracy: 0.7509\n",
      "Epoch 2/4\n",
      "800/800 [==============================] - 1s 1ms/step - loss: 0.7752 - accuracy: 0.7640 - val_loss: 0.7579 - val_accuracy: 0.7686\n",
      "Epoch 3/4\n",
      "800/800 [==============================] - 1s 1ms/step - loss: 0.7355 - accuracy: 0.7771 - val_loss: 0.7458 - val_accuracy: 0.7667\n",
      "Epoch 4/4\n",
      "800/800 [==============================] - 1s 1ms/step - loss: 0.7177 - accuracy: 0.7816 - val_loss: 0.7271 - val_accuracy: 0.7777\n",
      "Best: 0.769463 using {'neurons': 32}\n",
      "0.152599 (0.037246) with: {'neurons': 1}\n",
      "0.584625 (0.022839) with: {'neurons': 5}\n",
      "0.701788 (0.015427) with: {'neurons': 10}\n",
      "0.724325 (0.003184) with: {'neurons': 15}\n",
      "0.748637 (0.004353) with: {'neurons': 20}\n",
      "0.761213 (0.003397) with: {'neurons': 25}\n",
      "0.769463 (0.002767) with: {'neurons': 32}\n"
     ]
    }
   ],
   "source": [
    "# Function to create model, required for KerasClassifier\n",
    "# Number of Neurons in Hidden Layer and layers\n",
    "def create_model(neurons=1):\n",
    "    # create model\n",
    "    model = Sequential()\n",
    "    model.add(Dense(neurons, input_dim=784, kernel_initializer='glorot_uniform', activation='softsign', kernel_constraint=maxnorm(4)))\n",
    "    model.add(Dropout(0))\n",
    "    model.add(Dense(32, kernel_initializer='glorot_uniform', activation='sigmoid'))\n",
    "    # Compile model\n",
    "    optimizer = Adamax(lr=0.001, beta_1=0.2, beta_2=0.2, epsilon=1e-07)\n",
    "    model.compile(loss='sparse_categorical_crossentropy', optimizer=optimizer, metrics=['accuracy'])\n",
    "    return model\n",
    "# fix random seed for reproducibility\n",
    "seed = 7\n",
    "np.random.seed(seed)\n",
    "# create model\n",
    "model = KerasClassifier(build_fn=create_model, epochs=4, batch_size=100, verbose=1)\n",
    "# define the grid search parameters\n",
    "neurons = [1, 5, 10, 15, 20, 25, 32]\n",
    "param_grid = dict(neurons=neurons)\n",
    "grid = GridSearchCV(estimator=model, param_grid=param_grid, n_jobs=-1, cv=3)\n",
    "grid_result = grid.fit(X_train, y_train,validation_data=(X_test, y_test))\n",
    "# summarize results\n",
    "print(\"Best: %f using %s\" % (grid_result.best_score_, grid_result.best_params_))\n",
    "means = grid_result.cv_results_['mean_test_score']\n",
    "stds = grid_result.cv_results_['std_test_score']\n",
    "params = grid_result.cv_results_['params']\n",
    "for mean, stdev, param in zip(means, stds, params):\n",
    "    print(\"%f (%f) with: %r\" % (mean, stdev, param))"
   ]
  },
  {
   "cell_type": "code",
   "execution_count": 12,
   "metadata": {
    "collapsed": true,
    "jupyter": {
     "outputs_hidden": true
    }
   },
   "outputs": [
    {
     "name": "stdout",
     "output_type": "stream",
     "text": [
      "Epoch 1/64\n",
      "2500/2500 [==============================] - 3s 1ms/step - loss: 0.8295 - accuracy: 0.7480 - val_loss: 0.7453 - val_accuracy: 0.7761\n",
      "Epoch 2/64\n",
      "2500/2500 [==============================] - 3s 1ms/step - loss: 0.6993 - accuracy: 0.7897 - val_loss: 0.7003 - val_accuracy: 0.7897\n",
      "Epoch 3/64\n",
      "2500/2500 [==============================] - 3s 1ms/step - loss: 0.6759 - accuracy: 0.7973 - val_loss: 0.6849 - val_accuracy: 0.7974\n",
      "Epoch 4/64\n",
      "2500/2500 [==============================] - 3s 1ms/step - loss: 0.6621 - accuracy: 0.8013 - val_loss: 0.6830 - val_accuracy: 0.7917\n",
      "Epoch 5/64\n",
      "2500/2500 [==============================] - 3s 1ms/step - loss: 0.6591 - accuracy: 0.8025 - val_loss: 0.6661 - val_accuracy: 0.7982\n",
      "Epoch 6/64\n",
      "2500/2500 [==============================] - 3s 1ms/step - loss: 0.6586 - accuracy: 0.8030 - val_loss: 0.6752 - val_accuracy: 0.7992\n",
      "Epoch 7/64\n",
      "2500/2500 [==============================] - 3s 1ms/step - loss: 0.6556 - accuracy: 0.8033 - val_loss: 0.6736 - val_accuracy: 0.7972\n",
      "Epoch 8/64\n",
      "2500/2500 [==============================] - 3s 1ms/step - loss: 0.6482 - accuracy: 0.8059 - val_loss: 0.6685 - val_accuracy: 0.8014\n",
      "Epoch 9/64\n",
      "2500/2500 [==============================] - 3s 1ms/step - loss: 0.6457 - accuracy: 0.8070 - val_loss: 0.6695 - val_accuracy: 0.8032\n",
      "Epoch 10/64\n",
      "2500/2500 [==============================] - 3s 1ms/step - loss: 0.6463 - accuracy: 0.8066 - val_loss: 0.6687 - val_accuracy: 0.7969\n",
      "Epoch 11/64\n",
      "2500/2500 [==============================] - 3s 1ms/step - loss: 0.6451 - accuracy: 0.8082 - val_loss: 0.6755 - val_accuracy: 0.8033\n",
      "Epoch 12/64\n",
      "2500/2500 [==============================] - 3s 1ms/step - loss: 0.6445 - accuracy: 0.8088 - val_loss: 0.6709 - val_accuracy: 0.7990\n",
      "Epoch 13/64\n",
      "2500/2500 [==============================] - 3s 1ms/step - loss: 0.6434 - accuracy: 0.8087 - val_loss: 0.6799 - val_accuracy: 0.7975\n",
      "Epoch 14/64\n",
      "2500/2500 [==============================] - 3s 1ms/step - loss: 0.6420 - accuracy: 0.8087 - val_loss: 0.6802 - val_accuracy: 0.8003\n",
      "Epoch 15/64\n",
      "2500/2500 [==============================] - 3s 1ms/step - loss: 0.6413 - accuracy: 0.8097 - val_loss: 0.6726 - val_accuracy: 0.8031\n",
      "Epoch 16/64\n",
      "2500/2500 [==============================] - 3s 1ms/step - loss: 0.6459 - accuracy: 0.8086 - val_loss: 0.6676 - val_accuracy: 0.7992\n",
      "Epoch 17/64\n",
      "2500/2500 [==============================] - 3s 1ms/step - loss: 0.6452 - accuracy: 0.8095 - val_loss: 0.6840 - val_accuracy: 0.7988\n",
      "Epoch 18/64\n",
      "2500/2500 [==============================] - 3s 1ms/step - loss: 0.6488 - accuracy: 0.8060 - val_loss: 0.6820 - val_accuracy: 0.7964\n",
      "Epoch 19/64\n",
      "2500/2500 [==============================] - 3s 1ms/step - loss: 0.6495 - accuracy: 0.8064 - val_loss: 0.6914 - val_accuracy: 0.7944\n",
      "Epoch 20/64\n",
      "2500/2500 [==============================] - 3s 1ms/step - loss: 0.6502 - accuracy: 0.8062 - val_loss: 0.6782 - val_accuracy: 0.7969\n",
      "Epoch 21/64\n",
      "2500/2500 [==============================] - 3s 1ms/step - loss: 0.6482 - accuracy: 0.8065 - val_loss: 0.6796 - val_accuracy: 0.7986\n",
      "Epoch 22/64\n",
      "2500/2500 [==============================] - 2s 1000us/step - loss: 0.6520 - accuracy: 0.8048 - val_loss: 0.6703 - val_accuracy: 0.8026\n",
      "Epoch 23/64\n",
      "2500/2500 [==============================] - 3s 1ms/step - loss: 0.6525 - accuracy: 0.8058 - val_loss: 0.6687 - val_accuracy: 0.8001\n",
      "Epoch 24/64\n",
      "2500/2500 [==============================] - 3s 1ms/step - loss: 0.6499 - accuracy: 0.8063 - val_loss: 0.6674 - val_accuracy: 0.8007\n",
      "Epoch 25/64\n",
      "2500/2500 [==============================] - 3s 1ms/step - loss: 0.6455 - accuracy: 0.8078 - val_loss: 0.6686 - val_accuracy: 0.8019\n",
      "Epoch 26/64\n",
      "2500/2500 [==============================] - 3s 1ms/step - loss: 0.6398 - accuracy: 0.8091 - val_loss: 0.6561 - val_accuracy: 0.8037\n",
      "Epoch 27/64\n",
      "2500/2500 [==============================] - 3s 1ms/step - loss: 0.6403 - accuracy: 0.8090 - val_loss: 0.6728 - val_accuracy: 0.8010\n",
      "Epoch 28/64\n",
      "2500/2500 [==============================] - 3s 1ms/step - loss: 0.6409 - accuracy: 0.8098 - val_loss: 0.6689 - val_accuracy: 0.8020\n",
      "Epoch 29/64\n",
      "2500/2500 [==============================] - 3s 1ms/step - loss: 0.6441 - accuracy: 0.8074 - val_loss: 0.6728 - val_accuracy: 0.8056\n",
      "Epoch 30/64\n",
      "2500/2500 [==============================] - 3s 1ms/step - loss: 0.6487 - accuracy: 0.8066 - val_loss: 0.6676 - val_accuracy: 0.8002\n",
      "Epoch 31/64\n",
      "2500/2500 [==============================] - 3s 1ms/step - loss: 0.6449 - accuracy: 0.8073 - val_loss: 0.6808 - val_accuracy: 0.7942\n",
      "Epoch 32/64\n",
      "2500/2500 [==============================] - 3s 1ms/step - loss: 0.6458 - accuracy: 0.8079 - val_loss: 0.6659 - val_accuracy: 0.8046\n",
      "Epoch 33/64\n",
      "2500/2500 [==============================] - 3s 1ms/step - loss: 0.6448 - accuracy: 0.8081 - val_loss: 0.6823 - val_accuracy: 0.7943\n",
      "Epoch 34/64\n",
      "2500/2500 [==============================] - 3s 1ms/step - loss: 0.6409 - accuracy: 0.8096 - val_loss: 0.6618 - val_accuracy: 0.8052\n",
      "Epoch 35/64\n",
      "2500/2500 [==============================] - 3s 1ms/step - loss: 0.6392 - accuracy: 0.8104 - val_loss: 0.6722 - val_accuracy: 0.8026\n",
      "Epoch 36/64\n",
      "2500/2500 [==============================] - 3s 1ms/step - loss: 0.6381 - accuracy: 0.8106 - val_loss: 0.6608 - val_accuracy: 0.8085\n",
      "Epoch 37/64\n",
      "2500/2500 [==============================] - 3s 1ms/step - loss: 0.6394 - accuracy: 0.8098 - val_loss: 0.6573 - val_accuracy: 0.8067\n",
      "Epoch 38/64\n",
      "2500/2500 [==============================] - 3s 1ms/step - loss: 0.6350 - accuracy: 0.8102 - val_loss: 0.6645 - val_accuracy: 0.8031\n",
      "Epoch 39/64\n",
      "2500/2500 [==============================] - 3s 1ms/step - loss: 0.6367 - accuracy: 0.8113 - val_loss: 0.6699 - val_accuracy: 0.8015\n",
      "Epoch 40/64\n",
      "2500/2500 [==============================] - 3s 1ms/step - loss: 0.6354 - accuracy: 0.8108 - val_loss: 0.6587 - val_accuracy: 0.8041\n",
      "Epoch 41/64\n",
      "2500/2500 [==============================] - 3s 1ms/step - loss: 0.6347 - accuracy: 0.8102 - val_loss: 0.6600 - val_accuracy: 0.8019\n",
      "Epoch 42/64\n",
      "2500/2500 [==============================] - 3s 1ms/step - loss: 0.6390 - accuracy: 0.8097 - val_loss: 0.6665 - val_accuracy: 0.8058\n",
      "Epoch 43/64\n",
      "2500/2500 [==============================] - 3s 1ms/step - loss: 0.6386 - accuracy: 0.8105 - val_loss: 0.6768 - val_accuracy: 0.7965\n",
      "Epoch 44/64\n",
      "2500/2500 [==============================] - 3s 1ms/step - loss: 0.6371 - accuracy: 0.8104 - val_loss: 0.6683 - val_accuracy: 0.8030\n",
      "Epoch 45/64\n",
      "2500/2500 [==============================] - 3s 1ms/step - loss: 0.6335 - accuracy: 0.8103 - val_loss: 0.6517 - val_accuracy: 0.8052\n",
      "Epoch 46/64\n",
      "2500/2500 [==============================] - 3s 1ms/step - loss: 0.6338 - accuracy: 0.8104 - val_loss: 0.6540 - val_accuracy: 0.8056\n",
      "Epoch 47/64\n",
      "2500/2500 [==============================] - 3s 1ms/step - loss: 0.6346 - accuracy: 0.8107 - val_loss: 0.6523 - val_accuracy: 0.8036\n",
      "Epoch 48/64\n",
      "2500/2500 [==============================] - 3s 1ms/step - loss: 0.6415 - accuracy: 0.8104 - val_loss: 0.6758 - val_accuracy: 0.8005\n",
      "Epoch 49/64\n",
      "2500/2500 [==============================] - 3s 1ms/step - loss: 0.6427 - accuracy: 0.8087 - val_loss: 0.6691 - val_accuracy: 0.7990\n",
      "Epoch 50/64\n",
      "2500/2500 [==============================] - 3s 1ms/step - loss: 0.6396 - accuracy: 0.8095 - val_loss: 0.6618 - val_accuracy: 0.8060\n",
      "Epoch 51/64\n",
      "2500/2500 [==============================] - 3s 1ms/step - loss: 0.6389 - accuracy: 0.8095 - val_loss: 0.6661 - val_accuracy: 0.8016\n",
      "Epoch 52/64\n",
      "2500/2500 [==============================] - 3s 1ms/step - loss: 0.6391 - accuracy: 0.8105 - val_loss: 0.6633 - val_accuracy: 0.8068\n",
      "Epoch 53/64\n",
      "2500/2500 [==============================] - 3s 1ms/step - loss: 0.6355 - accuracy: 0.8111 - val_loss: 0.6524 - val_accuracy: 0.8039\n",
      "Epoch 54/64\n",
      "2500/2500 [==============================] - 3s 1ms/step - loss: 0.6348 - accuracy: 0.8117 - val_loss: 0.6664 - val_accuracy: 0.8012\n",
      "Epoch 55/64\n",
      "2500/2500 [==============================] - 3s 1ms/step - loss: 0.6352 - accuracy: 0.8109 - val_loss: 0.6560 - val_accuracy: 0.8037\n",
      "Epoch 56/64\n",
      "2500/2500 [==============================] - 3s 1ms/step - loss: 0.6386 - accuracy: 0.8100 - val_loss: 0.6656 - val_accuracy: 0.8014\n",
      "Epoch 57/64\n",
      "2500/2500 [==============================] - 3s 1ms/step - loss: 0.6351 - accuracy: 0.8116 - val_loss: 0.6563 - val_accuracy: 0.8012\n",
      "Epoch 58/64\n",
      "2500/2500 [==============================] - 3s 1ms/step - loss: 0.6347 - accuracy: 0.8115 - val_loss: 0.6601 - val_accuracy: 0.8058\n",
      "Epoch 59/64\n",
      "2500/2500 [==============================] - 3s 1ms/step - loss: 0.6353 - accuracy: 0.8120 - val_loss: 0.6609 - val_accuracy: 0.8096\n",
      "Epoch 60/64\n",
      "2500/2500 [==============================] - 3s 1ms/step - loss: 0.6370 - accuracy: 0.8107 - val_loss: 0.6608 - val_accuracy: 0.8058\n",
      "Epoch 61/64\n",
      "2500/2500 [==============================] - 3s 1ms/step - loss: 0.6372 - accuracy: 0.8119 - val_loss: 0.6639 - val_accuracy: 0.8019\n",
      "Epoch 62/64\n",
      "2500/2500 [==============================] - 3s 1ms/step - loss: 0.6349 - accuracy: 0.8120 - val_loss: 0.6798 - val_accuracy: 0.7976\n",
      "Epoch 63/64\n",
      "2500/2500 [==============================] - 3s 1ms/step - loss: 0.6355 - accuracy: 0.8108 - val_loss: 0.6701 - val_accuracy: 0.8009\n",
      "Epoch 64/64\n",
      "2500/2500 [==============================] - 3s 1ms/step - loss: 0.6356 - accuracy: 0.8110 - val_loss: 0.6796 - val_accuracy: 0.7958\n",
      "Best: 0.801738 using {'neurons': 64}\n",
      "0.749650 (0.000718) with: {'neurons': 16}\n",
      "0.759625 (0.005731) with: {'neurons': 20}\n",
      "0.767875 (0.002309) with: {'neurons': 25}\n",
      "0.780525 (0.001565) with: {'neurons': 32}\n",
      "0.801738 (0.002855) with: {'neurons': 64}\n"
     ]
    }
   ],
   "source": [
    "# Function to create model, required for KerasClassifier\n",
    "# final model\n",
    "def final_model(neurons=1):\n",
    "    # create model\n",
    "    model = Sequential()\n",
    "    model.add(Dense(neurons, input_dim=784, kernel_initializer='glorot_uniform', activation='softsign', kernel_constraint=maxnorm(4)))\n",
    "    model.add(Dropout(0))\n",
    "    model.add(Dense(32, kernel_initializer='glorot_uniform', activation='sigmoid'))\n",
    "    # Compile model\n",
    "    optimizer = Adamax(lr=0.001, beta_1=0.2, beta_2=0.2, epsilon=1e-07)\n",
    "    model.compile(loss='sparse_categorical_crossentropy', optimizer=optimizer, metrics=['accuracy'])\n",
    "    return model\n",
    "# fix random seed for reproducibility\n",
    "seed = 7\n",
    "np.random.seed(seed)\n",
    "# create model\n",
    "model = KerasClassifier(build_fn=create_model, epochs=64, batch_size=32, verbose=1)\n",
    "# define the grid search parameters\n",
    "neurons = [16, 20, 25, 32, 64]\n",
    "param_grid = dict(neurons=neurons)\n",
    "grid = GridSearchCV(estimator=model, param_grid=param_grid, n_jobs=-1, cv=3)\n",
    "grid_result = grid.fit(X_train, y_train,validation_data=(X_test, y_test))\n",
    "# summarize results\n",
    "print(\"Best: %f using %s\" % (grid_result.best_score_, grid_result.best_params_))\n",
    "means = grid_result.cv_results_['mean_test_score']\n",
    "stds = grid_result.cv_results_['std_test_score']\n",
    "params = grid_result.cv_results_['params']\n",
    "for mean, stdev, param in zip(means, stds, params):\n",
    "    print(\"%f (%f) with: %r\" % (mean, stdev, param))"
   ]
  },
  {
   "cell_type": "code",
   "execution_count": 14,
   "metadata": {},
   "outputs": [],
   "source": [
    "def final_model(neurons=64):\n",
    "    # create model\n",
    "    model = Sequential()\n",
    "    model.add(Dense(neurons, input_dim=784, kernel_initializer='glorot_uniform', activation='softsign', kernel_constraint=maxnorm(4)))\n",
    "    model.add(Dropout(0.0))\n",
    "    model.add(Dense(32, kernel_initializer='glorot_uniform', activation='sigmoid'))\n",
    "    # Compile model\n",
    "    optimizer = Adamax(lr=0.001, beta_1=0.2, beta_2=0.2, epsilon=1e-07)\n",
    "    model.compile(loss='sparse_categorical_crossentropy', optimizer=optimizer, metrics=['accuracy'])\n",
    "    return model"
   ]
  },
  {
   "cell_type": "code",
   "execution_count": 15,
   "metadata": {
    "collapsed": true,
    "jupyter": {
     "outputs_hidden": true
    }
   },
   "outputs": [
    {
     "name": "stdout",
     "output_type": "stream",
     "text": [
      "Epoch 1/64\n",
      "2500/2500 [==============================] - 3s 1ms/step - loss: 0.8861 - accuracy: 0.7350 - val_loss: 0.7320 - val_accuracy: 0.7807\n",
      "Epoch 2/64\n",
      "2500/2500 [==============================] - 3s 1ms/step - loss: 0.7073 - accuracy: 0.7888 - val_loss: 0.6996 - val_accuracy: 0.7899\n",
      "Epoch 3/64\n",
      "2500/2500 [==============================] - 3s 1ms/step - loss: 0.6892 - accuracy: 0.7952 - val_loss: 0.6954 - val_accuracy: 0.7929\n",
      "Epoch 4/64\n",
      "2500/2500 [==============================] - 3s 1ms/step - loss: 0.6772 - accuracy: 0.7992 - val_loss: 0.6887 - val_accuracy: 0.7982\n",
      "Epoch 5/64\n",
      "2500/2500 [==============================] - 3s 1ms/step - loss: 0.6733 - accuracy: 0.8008 - val_loss: 0.6910 - val_accuracy: 0.7957\n",
      "Epoch 6/64\n",
      "2500/2500 [==============================] - 3s 1ms/step - loss: 0.6760 - accuracy: 0.8021 - val_loss: 0.7048 - val_accuracy: 0.7945\n",
      "Epoch 7/64\n",
      "2500/2500 [==============================] - 3s 1ms/step - loss: 0.6750 - accuracy: 0.8027 - val_loss: 0.7052 - val_accuracy: 0.7944\n",
      "Epoch 8/64\n",
      "2500/2500 [==============================] - 3s 1ms/step - loss: 0.6712 - accuracy: 0.8037 - val_loss: 0.6964 - val_accuracy: 0.7974\n",
      "Epoch 9/64\n",
      "2500/2500 [==============================] - 3s 1ms/step - loss: 0.6735 - accuracy: 0.8036 - val_loss: 0.6862 - val_accuracy: 0.7994\n",
      "Epoch 10/64\n",
      "2500/2500 [==============================] - 3s 1ms/step - loss: 0.6723 - accuracy: 0.8047 - val_loss: 0.7065 - val_accuracy: 0.7942\n",
      "Epoch 11/64\n",
      "2500/2500 [==============================] - 3s 1ms/step - loss: 0.6731 - accuracy: 0.8040 - val_loss: 0.7008 - val_accuracy: 0.7954\n",
      "Epoch 12/64\n",
      "2500/2500 [==============================] - 3s 1ms/step - loss: 0.6699 - accuracy: 0.8054 - val_loss: 0.6996 - val_accuracy: 0.7945\n",
      "Epoch 13/64\n",
      "2500/2500 [==============================] - 3s 1ms/step - loss: 0.6722 - accuracy: 0.8059 - val_loss: 0.6987 - val_accuracy: 0.8011\n",
      "Epoch 14/64\n",
      "2500/2500 [==============================] - 3s 1ms/step - loss: 0.6709 - accuracy: 0.8048 - val_loss: 0.6959 - val_accuracy: 0.8005\n",
      "Epoch 15/64\n",
      "2500/2500 [==============================] - 3s 1ms/step - loss: 0.6688 - accuracy: 0.8070 - val_loss: 0.7130 - val_accuracy: 0.7979\n",
      "Epoch 16/64\n",
      "2500/2500 [==============================] - 3s 1ms/step - loss: 0.6699 - accuracy: 0.8068 - val_loss: 0.7055 - val_accuracy: 0.7970\n",
      "Epoch 17/64\n",
      "2500/2500 [==============================] - 3s 1ms/step - loss: 0.6712 - accuracy: 0.8056 - val_loss: 0.7146 - val_accuracy: 0.7995\n",
      "Epoch 18/64\n",
      "2500/2500 [==============================] - 3s 1ms/step - loss: 0.6772 - accuracy: 0.8058 - val_loss: 0.6945 - val_accuracy: 0.7991\n",
      "Epoch 19/64\n",
      "2500/2500 [==============================] - 3s 1ms/step - loss: 0.6770 - accuracy: 0.8074 - val_loss: 0.6989 - val_accuracy: 0.8007\n",
      "Epoch 20/64\n",
      "2500/2500 [==============================] - 3s 1ms/step - loss: 0.6763 - accuracy: 0.8062 - val_loss: 0.7183 - val_accuracy: 0.7971\n",
      "Epoch 21/64\n",
      "2500/2500 [==============================] - 3s 1ms/step - loss: 0.6727 - accuracy: 0.8059 - val_loss: 0.7073 - val_accuracy: 0.7963\n",
      "Epoch 22/64\n",
      "2500/2500 [==============================] - 3s 1ms/step - loss: 0.6677 - accuracy: 0.8072 - val_loss: 0.7000 - val_accuracy: 0.7961\n",
      "Epoch 23/64\n",
      "2500/2500 [==============================] - 3s 1ms/step - loss: 0.6705 - accuracy: 0.8079 - val_loss: 0.7016 - val_accuracy: 0.7964\n",
      "Epoch 24/64\n",
      "2500/2500 [==============================] - 3s 1ms/step - loss: 0.6691 - accuracy: 0.8080 - val_loss: 0.6971 - val_accuracy: 0.7999\n",
      "Epoch 25/64\n",
      "2500/2500 [==============================] - 3s 1ms/step - loss: 0.6656 - accuracy: 0.8083 - val_loss: 0.7109 - val_accuracy: 0.7961\n",
      "Epoch 26/64\n",
      "2500/2500 [==============================] - 3s 1ms/step - loss: 0.6717 - accuracy: 0.8077 - val_loss: 0.7096 - val_accuracy: 0.8000\n",
      "Epoch 27/64\n",
      "2500/2500 [==============================] - 3s 1ms/step - loss: 0.6772 - accuracy: 0.8056 - val_loss: 0.7096 - val_accuracy: 0.7966\n",
      "Epoch 28/64\n",
      "2500/2500 [==============================] - 3s 1ms/step - loss: 0.6769 - accuracy: 0.8062 - val_loss: 0.7066 - val_accuracy: 0.8015\n",
      "Epoch 29/64\n",
      "2500/2500 [==============================] - 3s 1ms/step - loss: 0.6795 - accuracy: 0.8061 - val_loss: 0.7149 - val_accuracy: 0.7971\n",
      "Epoch 30/64\n",
      "2500/2500 [==============================] - 3s 1ms/step - loss: 0.6740 - accuracy: 0.8075 - val_loss: 0.7078 - val_accuracy: 0.7961\n",
      "Epoch 31/64\n",
      "2500/2500 [==============================] - 3s 1ms/step - loss: 0.6720 - accuracy: 0.8066 - val_loss: 0.7041 - val_accuracy: 0.8043\n",
      "Epoch 32/64\n",
      "2500/2500 [==============================] - 3s 1ms/step - loss: 0.6626 - accuracy: 0.8105 - val_loss: 0.6866 - val_accuracy: 0.7994\n",
      "Epoch 33/64\n",
      "2500/2500 [==============================] - 3s 1ms/step - loss: 0.6639 - accuracy: 0.8078 - val_loss: 0.6974 - val_accuracy: 0.8024\n",
      "Epoch 34/64\n",
      "2500/2500 [==============================] - 3s 1ms/step - loss: 0.6706 - accuracy: 0.8077 - val_loss: 0.6874 - val_accuracy: 0.7978\n",
      "Epoch 35/64\n",
      "2500/2500 [==============================] - 3s 1ms/step - loss: 0.6702 - accuracy: 0.8068 - val_loss: 0.6838 - val_accuracy: 0.8002\n",
      "Epoch 36/64\n",
      "2500/2500 [==============================] - 3s 1ms/step - loss: 0.6671 - accuracy: 0.8088 - val_loss: 0.6916 - val_accuracy: 0.8037\n",
      "Epoch 37/64\n",
      "2500/2500 [==============================] - 3s 1ms/step - loss: 0.6682 - accuracy: 0.8069 - val_loss: 0.7037 - val_accuracy: 0.8021\n",
      "Epoch 38/64\n",
      "2500/2500 [==============================] - 3s 1ms/step - loss: 0.6674 - accuracy: 0.8072 - val_loss: 0.6988 - val_accuracy: 0.8003\n",
      "Epoch 39/64\n",
      "2500/2500 [==============================] - 3s 1ms/step - loss: 0.6658 - accuracy: 0.8080 - val_loss: 0.6946 - val_accuracy: 0.8005\n",
      "Epoch 40/64\n",
      "2500/2500 [==============================] - 3s 1ms/step - loss: 0.6638 - accuracy: 0.8081 - val_loss: 0.6965 - val_accuracy: 0.8006\n",
      "Epoch 41/64\n",
      "2500/2500 [==============================] - 3s 1ms/step - loss: 0.6676 - accuracy: 0.8073 - val_loss: 0.6894 - val_accuracy: 0.8040\n",
      "Epoch 42/64\n",
      "2500/2500 [==============================] - 3s 1ms/step - loss: 0.6652 - accuracy: 0.8086 - val_loss: 0.6802 - val_accuracy: 0.8020\n",
      "Epoch 43/64\n",
      "2500/2500 [==============================] - 3s 1ms/step - loss: 0.6616 - accuracy: 0.8089 - val_loss: 0.6890 - val_accuracy: 0.7993\n",
      "Epoch 44/64\n",
      "2500/2500 [==============================] - 3s 1ms/step - loss: 0.6586 - accuracy: 0.8091 - val_loss: 0.6963 - val_accuracy: 0.7960\n",
      "Epoch 45/64\n",
      "2500/2500 [==============================] - 3s 1ms/step - loss: 0.6581 - accuracy: 0.8101 - val_loss: 0.6936 - val_accuracy: 0.8011\n",
      "Epoch 46/64\n",
      "2500/2500 [==============================] - 3s 1ms/step - loss: 0.6622 - accuracy: 0.8095 - val_loss: 0.6835 - val_accuracy: 0.8022\n",
      "Epoch 47/64\n",
      "2500/2500 [==============================] - 3s 1ms/step - loss: 0.6601 - accuracy: 0.8084 - val_loss: 0.6795 - val_accuracy: 0.8048\n",
      "Epoch 48/64\n",
      "2500/2500 [==============================] - 3s 1ms/step - loss: 0.6608 - accuracy: 0.8090 - val_loss: 0.6685 - val_accuracy: 0.8045\n",
      "Epoch 49/64\n",
      "2500/2500 [==============================] - 3s 1ms/step - loss: 0.6565 - accuracy: 0.8091 - val_loss: 0.6690 - val_accuracy: 0.8028\n",
      "Epoch 50/64\n",
      "2500/2500 [==============================] - 3s 1ms/step - loss: 0.6585 - accuracy: 0.8083 - val_loss: 0.6828 - val_accuracy: 0.8002\n",
      "Epoch 51/64\n",
      "2500/2500 [==============================] - 3s 1ms/step - loss: 0.6536 - accuracy: 0.8093 - val_loss: 0.6740 - val_accuracy: 0.8021\n",
      "Epoch 52/64\n",
      "2500/2500 [==============================] - 3s 1ms/step - loss: 0.6547 - accuracy: 0.8103 - val_loss: 0.6930 - val_accuracy: 0.8052\n",
      "Epoch 53/64\n",
      "2500/2500 [==============================] - 3s 1ms/step - loss: 0.6547 - accuracy: 0.8100 - val_loss: 0.6992 - val_accuracy: 0.7975\n",
      "Epoch 54/64\n",
      "2500/2500 [==============================] - 3s 1ms/step - loss: 0.6556 - accuracy: 0.8102 - val_loss: 0.6924 - val_accuracy: 0.7998\n",
      "Epoch 55/64\n",
      "2500/2500 [==============================] - 3s 1ms/step - loss: 0.6561 - accuracy: 0.8097 - val_loss: 0.6793 - val_accuracy: 0.8052\n",
      "Epoch 56/64\n",
      "2500/2500 [==============================] - 3s 1ms/step - loss: 0.6558 - accuracy: 0.8092 - val_loss: 0.6817 - val_accuracy: 0.8045\n",
      "Epoch 57/64\n",
      "2500/2500 [==============================] - 3s 1ms/step - loss: 0.6619 - accuracy: 0.8081 - val_loss: 0.6910 - val_accuracy: 0.7995\n",
      "Epoch 58/64\n",
      "2500/2500 [==============================] - 3s 1ms/step - loss: 0.6663 - accuracy: 0.8073 - val_loss: 0.6976 - val_accuracy: 0.7957\n",
      "Epoch 59/64\n",
      "2500/2500 [==============================] - 3s 1ms/step - loss: 0.6686 - accuracy: 0.8053 - val_loss: 0.6918 - val_accuracy: 0.7967\n",
      "Epoch 60/64\n",
      "2500/2500 [==============================] - 3s 1ms/step - loss: 0.6633 - accuracy: 0.8076 - val_loss: 0.6895 - val_accuracy: 0.7976\n",
      "Epoch 61/64\n",
      "2500/2500 [==============================] - 3s 1ms/step - loss: 0.6631 - accuracy: 0.8083 - val_loss: 0.6921 - val_accuracy: 0.7971\n",
      "Epoch 62/64\n",
      "2500/2500 [==============================] - 3s 1ms/step - loss: 0.6670 - accuracy: 0.8059 - val_loss: 0.6919 - val_accuracy: 0.7970\n",
      "Epoch 63/64\n",
      "2500/2500 [==============================] - 3s 1ms/step - loss: 0.6692 - accuracy: 0.8048 - val_loss: 0.7046 - val_accuracy: 0.7945\n",
      "Epoch 64/64\n",
      "2500/2500 [==============================] - 3s 1ms/step - loss: 0.6677 - accuracy: 0.8061 - val_loss: 0.7007 - val_accuracy: 0.7991\n"
     ]
    }
   ],
   "source": [
    "mnist_model_trial1 = final_model(neurons=64)\n",
    "\n",
    "trial1= mnist_model_trial1.fit(X_train, y_train,\n",
    "                                # Hyperparameters!\n",
    "                                epochs=64,\n",
    "                                batch_size=32,\n",
    "                                validation_data=(X_test, y_test))"
   ]
  },
  {
   "cell_type": "code",
   "execution_count": 16,
   "metadata": {},
   "outputs": [
    {
     "name": "stdout",
     "output_type": "stream",
     "text": [
      "The tensorboard extension is already loaded. To reload it, use:\n",
      "  %reload_ext tensorboard\n"
     ]
    }
   ],
   "source": [
    "%load_ext tensorboard"
   ]
  },
  {
   "cell_type": "markdown",
   "metadata": {},
   "source": [
    "### 1. Create Experiment Configuration"
   ]
  },
  {
   "cell_type": "code",
   "execution_count": 18,
   "metadata": {},
   "outputs": [],
   "source": [
    "HP_NUM_UNITS = hp.HParam('num_units', hp.Discrete([16,32]))\n",
    "HP_LEARNING_RATE = hp.HParam('learning_rate', hp.RealInterval(0.001,.01))\n",
    "HP_OPTIMIZER = hp.HParam('optimizer', hp.Discrete(['adam', 'Adagrad']))\n",
    "\n",
    "METRIC_ACCURACY = 'accuracy'\n",
    "\n",
    "with tf.summary.create_file_writer('logs/hparam_tuning').as_default():\n",
    "  hp.hparams_config(\n",
    "      hparams=[HP_NUM_UNITS, HP_LEARNING_RATE, HP_OPTIMIZER],\n",
    "      metrics=[hp.Metric(METRIC_ACCURACY, display_name='Accuracy')]\n",
    "  )"
   ]
  },
  {
   "cell_type": "markdown",
   "metadata": {},
   "source": [
    "### 2. Adapt Model Function with HParams"
   ]
  },
  {
   "cell_type": "code",
   "execution_count": 19,
   "metadata": {},
   "outputs": [],
   "source": [
    "def train_test_model(hparams):\n",
    "  \n",
    "  model = tf.keras.Sequential(\n",
    "      [tf.keras.layers.Dense(hparams[HP_NUM_UNITS], activation='relu'),\n",
    "       tf.keras.layers.Dense(10, activation='softmax')      \n",
    "  ])\n",
    "\n",
    "  opt_name = hparams[HP_OPTIMIZER]\n",
    "  lr = hparams[HP_LEARNING_RATE]\n",
    "\n",
    "  if opt_name == 'adam':\n",
    "    opt = tf.keras.optimizers.Adam(learning_rate=lr)\n",
    "  elif opt_name == 'Adagrad':\n",
    "    opt = tf.keras.optimizers.Adagrad(learning_rate=lr, initial_accumulator_value=0.1, epsilon=1e-07)\n",
    "  else:\n",
    "    raise ValueError(f'Unexpected optimizer: {opt_name}')\n",
    "\n",
    "  model.compile(\n",
    "      optimizer=opt,\n",
    "      loss='sparse_categorical_crossentropy',\n",
    "      metrics=['accuracy']\n",
    "  )\n",
    "\n",
    "  model.fit(X_train, y_train, epochs=5)\n",
    "  _, accuracy = model.evaluate(X_test, y_test)\n",
    "\n",
    "  # Python convention: if a variable doesn't need a name, give it _\n",
    "  # ten_ones = [1 for _ in range(10)]\n",
    "\n",
    "  return accuracy"
   ]
  },
  {
   "cell_type": "code",
   "execution_count": 100,
   "metadata": {},
   "outputs": [],
   "source": [
    "def run(run_dir, hparams):\n",
    "  with tf.summary.create_file_writer(run_dir).as_default():\n",
    "    hp.hparams(hparams)  # record the values used in this trial\n",
    "    accuracy = train_test_model(hparams)\n",
    "    tf.summary.scalar(METRIC_ACCURACY, accuracy, step=1)"
   ]
  },
  {
   "cell_type": "code",
   "execution_count": 101,
   "metadata": {
    "collapsed": true,
    "jupyter": {
     "outputs_hidden": true
    }
   },
   "outputs": [
    {
     "name": "stdout",
     "output_type": "stream",
     "text": [
      "--- Starting trial: run-0\n",
      "{'num_units': 16, 'learning_rate': 0.001, 'optimizer': 'Adagrad'}\n",
      "Epoch 1/5\n",
      "2188/2188 [==============================] - ETA: 0s - loss: 2.2148 - accuracy: 0.06 - ETA: 1s - loss: 1.2655 - accuracy: 0.08 - ETA: 1s - loss: 0.9208 - accuracy: 0.09 - ETA: 1s - loss: 0.7309 - accuracy: 0.09 - ETA: 1s - loss: 0.6096 - accuracy: 0.09 - ETA: 1s - loss: 0.5236 - accuracy: 0.09 - ETA: 1s - loss: 0.4626 - accuracy: 0.09 - ETA: 1s - loss: 0.4151 - accuracy: 0.10 - ETA: 0s - loss: 0.3775 - accuracy: 0.10 - ETA: 0s - loss: 0.3461 - accuracy: 0.10 - ETA: 0s - loss: 0.3200 - accuracy: 0.09 - ETA: 0s - loss: 0.2998 - accuracy: 0.09 - ETA: 0s - loss: 0.2798 - accuracy: 0.09 - ETA: 0s - loss: 0.2641 - accuracy: 0.09 - ETA: 0s - loss: 0.2496 - accuracy: 0.10 - ETA: 0s - loss: 0.2364 - accuracy: 0.10 - ETA: 0s - loss: 0.2248 - accuracy: 0.10 - ETA: 0s - loss: 0.2140 - accuracy: 0.10 - ETA: 0s - loss: 0.2043 - accuracy: 0.09 - ETA: 0s - loss: 0.1959 - accuracy: 0.09 - ETA: 0s - loss: 0.1880 - accuracy: 0.10 - ETA: 0s - loss: 0.1805 - accuracy: 0.09 - ETA: 0s - loss: 0.1738 - accuracy: 0.09 - ETA: 0s - loss: 0.1673 - accuracy: 0.09 - ETA: 0s - loss: 0.1614 - accuracy: 0.09 - ETA: 0s - loss: 0.1562 - accuracy: 0.10 - ETA: 0s - loss: 0.1511 - accuracy: 0.09 - ETA: 0s - loss: 0.1465 - accuracy: 0.09 - 1s 624us/step - loss: 0.1458 - accuracy: 0.0997\n",
      "Epoch 2/5\n",
      "2188/2188 [==============================] - ETA: 0s - loss: 0.0127 - accuracy: 0.06 - ETA: 1s - loss: 0.0253 - accuracy: 0.10 - ETA: 1s - loss: 0.0254 - accuracy: 0.10 - ETA: 1s - loss: 0.0248 - accuracy: 0.09 - ETA: 1s - loss: 0.0246 - accuracy: 0.09 - ETA: 1s - loss: 0.0240 - accuracy: 0.09 - ETA: 1s - loss: 0.0235 - accuracy: 0.09 - ETA: 1s - loss: 0.0232 - accuracy: 0.09 - ETA: 0s - loss: 0.0230 - accuracy: 0.09 - ETA: 0s - loss: 0.0228 - accuracy: 0.10 - ETA: 0s - loss: 0.0223 - accuracy: 0.09 - ETA: 0s - loss: 0.0220 - accuracy: 0.09 - ETA: 0s - loss: 0.0216 - accuracy: 0.09 - ETA: 0s - loss: 0.0214 - accuracy: 0.09 - ETA: 0s - loss: 0.0212 - accuracy: 0.10 - ETA: 0s - loss: 0.0208 - accuracy: 0.10 - ETA: 0s - loss: 0.0206 - accuracy: 0.10 - ETA: 0s - loss: 0.0203 - accuracy: 0.10 - ETA: 0s - loss: 0.0200 - accuracy: 0.09 - ETA: 0s - loss: 0.0198 - accuracy: 0.10 - ETA: 0s - loss: 0.0195 - accuracy: 0.10 - ETA: 0s - loss: 0.0193 - accuracy: 0.09 - ETA: 0s - loss: 0.0190 - accuracy: 0.10 - ETA: 0s - loss: 0.0188 - accuracy: 0.10 - ETA: 0s - loss: 0.0186 - accuracy: 0.10 - ETA: 0s - loss: 0.0184 - accuracy: 0.10 - ETA: 0s - loss: 0.0182 - accuracy: 0.10 - ETA: 0s - loss: 0.0181 - accuracy: 0.10 - 1s 619us/step - loss: 0.0181 - accuracy: 0.1001\n",
      "Epoch 3/5\n",
      "2188/2188 [==============================] - ETA: 0s - loss: 0.0085 - accuracy: 0.03 - ETA: 1s - loss: 0.0129 - accuracy: 0.09 - ETA: 1s - loss: 0.0133 - accuracy: 0.09 - ETA: 1s - loss: 0.0132 - accuracy: 0.10 - ETA: 1s - loss: 0.0128 - accuracy: 0.10 - ETA: 1s - loss: 0.0126 - accuracy: 0.10 - ETA: 1s - loss: 0.0124 - accuracy: 0.10 - ETA: 0s - loss: 0.0123 - accuracy: 0.10 - ETA: 0s - loss: 0.0120 - accuracy: 0.10 - ETA: 0s - loss: 0.0119 - accuracy: 0.10 - ETA: 0s - loss: 0.0117 - accuracy: 0.10 - ETA: 0s - loss: 0.0116 - accuracy: 0.10 - ETA: 0s - loss: 0.0115 - accuracy: 0.10 - ETA: 0s - loss: 0.0113 - accuracy: 0.10 - ETA: 0s - loss: 0.0112 - accuracy: 0.10 - ETA: 0s - loss: 0.0112 - accuracy: 0.09 - ETA: 0s - loss: 0.0111 - accuracy: 0.09 - ETA: 0s - loss: 0.0110 - accuracy: 0.10 - ETA: 0s - loss: 0.0109 - accuracy: 0.10 - ETA: 0s - loss: 0.0108 - accuracy: 0.10 - ETA: 0s - loss: 0.0107 - accuracy: 0.10 - ETA: 0s - loss: 0.0107 - accuracy: 0.10 - ETA: 0s - loss: 0.0106 - accuracy: 0.10 - ETA: 0s - loss: 0.0105 - accuracy: 0.10 - ETA: 0s - loss: 0.0105 - accuracy: 0.10 - ETA: 0s - loss: 0.0104 - accuracy: 0.10 - ETA: 0s - loss: 0.0103 - accuracy: 0.10 - ETA: 0s - loss: 0.0103 - accuracy: 0.10 - 1s 620us/step - loss: 0.0103 - accuracy: 0.1001\n",
      "Epoch 4/5\n",
      "2188/2188 [==============================] - ETA: 0s - loss: 0.0036 - accuracy: 0.09 - ETA: 1s - loss: 0.0079 - accuracy: 0.09 - ETA: 1s - loss: 0.0087 - accuracy: 0.10 - ETA: 1s - loss: 0.0085 - accuracy: 0.10 - ETA: 1s - loss: 0.0082 - accuracy: 0.10 - ETA: 1s - loss: 0.0082 - accuracy: 0.10 - ETA: 1s - loss: 0.0081 - accuracy: 0.09 - ETA: 1s - loss: 0.0079 - accuracy: 0.10 - ETA: 0s - loss: 0.0079 - accuracy: 0.10 - ETA: 0s - loss: 0.0079 - accuracy: 0.10 - ETA: 0s - loss: 0.0079 - accuracy: 0.10 - ETA: 0s - loss: 0.0080 - accuracy: 0.10 - ETA: 0s - loss: 0.0079 - accuracy: 0.10 - ETA: 0s - loss: 0.0078 - accuracy: 0.10 - ETA: 0s - loss: 0.0077 - accuracy: 0.10 - ETA: 0s - loss: 0.0076 - accuracy: 0.10 - ETA: 0s - loss: 0.0076 - accuracy: 0.10 - ETA: 0s - loss: 0.0075 - accuracy: 0.10 - ETA: 0s - loss: 0.0075 - accuracy: 0.10 - ETA: 0s - loss: 0.0074 - accuracy: 0.10 - ETA: 0s - loss: 0.0074 - accuracy: 0.10 - ETA: 0s - loss: 0.0074 - accuracy: 0.10 - ETA: 0s - loss: 0.0074 - accuracy: 0.10 - ETA: 0s - loss: 0.0073 - accuracy: 0.09 - ETA: 0s - loss: 0.0073 - accuracy: 0.09 - ETA: 0s - loss: 0.0073 - accuracy: 0.09 - ETA: 0s - loss: 0.0072 - accuracy: 0.10 - ETA: 0s - loss: 0.0072 - accuracy: 0.10 - 1s 622us/step - loss: 0.0072 - accuracy: 0.1001\n",
      "Epoch 5/5\n",
      "2188/2188 [==============================] - ETA: 0s - loss: 0.0030 - accuracy: 0.06 - ETA: 1s - loss: 0.0052 - accuracy: 0.09 - ETA: 1s - loss: 0.0056 - accuracy: 0.10 - ETA: 1s - loss: 0.0058 - accuracy: 0.10 - ETA: 1s - loss: 0.0058 - accuracy: 0.09 - ETA: 1s - loss: 0.0059 - accuracy: 0.09 - ETA: 1s - loss: 0.0059 - accuracy: 0.09 - ETA: 1s - loss: 0.0061 - accuracy: 0.10 - ETA: 1s - loss: 0.0061 - accuracy: 0.10 - ETA: 0s - loss: 0.0061 - accuracy: 0.09 - ETA: 0s - loss: 0.0061 - accuracy: 0.09 - ETA: 0s - loss: 0.0060 - accuracy: 0.09 - ETA: 0s - loss: 0.0060 - accuracy: 0.09 - ETA: 0s - loss: 0.0059 - accuracy: 0.09 - ETA: 0s - loss: 0.0059 - accuracy: 0.09 - ETA: 0s - loss: 0.0059 - accuracy: 0.09 - ETA: 0s - loss: 0.0058 - accuracy: 0.09 - ETA: 0s - loss: 0.0058 - accuracy: 0.10 - ETA: 0s - loss: 0.0057 - accuracy: 0.10 - ETA: 0s - loss: 0.0057 - accuracy: 0.10 - ETA: 0s - loss: 0.0057 - accuracy: 0.10 - ETA: 0s - loss: 0.0057 - accuracy: 0.10 - ETA: 0s - loss: 0.0056 - accuracy: 0.10 - ETA: 0s - loss: 0.0056 - accuracy: 0.10 - ETA: 0s - loss: 0.0056 - accuracy: 0.10 - ETA: 0s - loss: 0.0056 - accuracy: 0.10 - ETA: 0s - loss: 0.0056 - accuracy: 0.10 - ETA: 0s - loss: 0.0055 - accuracy: 0.10 - 1s 625us/step - loss: 0.0055 - accuracy: 0.1001\n",
      "938/938 [==============================] - ETA: 0s - loss: 0.0020 - accuracy: 0.12 - ETA: 0s - loss: 0.0047 - accuracy: 0.09 - ETA: 0s - loss: 0.0048 - accuracy: 0.09 - ETA: 0s - loss: 0.0049 - accuracy: 0.09 - ETA: 0s - loss: 0.0048 - accuracy: 0.09 - ETA: 0s - loss: 0.0049 - accuracy: 0.09 - ETA: 0s - loss: 0.0049 - accuracy: 0.09 - ETA: 0s - loss: 0.0050 - accuracy: 0.10 - ETA: 0s - loss: 0.0050 - accuracy: 0.09 - ETA: 0s - loss: 0.0050 - accuracy: 0.09 - 0s 498us/step - loss: 0.0050 - accuracy: 0.0997\n",
      "--- Starting trial: run-1\n",
      "{'num_units': 16, 'learning_rate': 0.001, 'optimizer': 'adam'}\n",
      "Epoch 1/5\n",
      "2188/2188 [==============================] - ETA: 0s - loss: 2.2816 - accuracy: 0.03 - ETA: 1s - loss: 0.2786 - accuracy: 0.10 - ETA: 1s - loss: 0.1430 - accuracy: 0.10 - ETA: 1s - loss: 0.0934 - accuracy: 0.10 - ETA: 1s - loss: 0.0707 - accuracy: 0.09 - ETA: 1s - loss: 0.0570 - accuracy: 0.09 - ETA: 1s - loss: 0.0474 - accuracy: 0.09 - ETA: 1s - loss: 0.0407 - accuracy: 0.09 - ETA: 1s - loss: 0.0356 - accuracy: 0.09 - ETA: 1s - loss: 0.0316 - accuracy: 0.09 - ETA: 1s - loss: 0.0285 - accuracy: 0.09 - ETA: 0s - loss: 0.0260 - accuracy: 0.09 - ETA: 0s - loss: 0.0238 - accuracy: 0.09 - ETA: 0s - loss: 0.0219 - accuracy: 0.09 - ETA: 0s - loss: 0.0203 - accuracy: 0.09 - ETA: 0s - loss: 0.0190 - accuracy: 0.09 - ETA: 0s - loss: 0.0178 - accuracy: 0.09 - ETA: 0s - loss: 0.0168 - accuracy: 0.09 - ETA: 0s - loss: 0.0159 - accuracy: 0.09 - ETA: 0s - loss: 0.0150 - accuracy: 0.09 - ETA: 0s - loss: 0.0143 - accuracy: 0.09 - ETA: 0s - loss: 0.0136 - accuracy: 0.09 - ETA: 0s - loss: 0.0130 - accuracy: 0.09 - ETA: 0s - loss: 0.0125 - accuracy: 0.09 - ETA: 0s - loss: 0.0120 - accuracy: 0.09 - ETA: 0s - loss: 0.0115 - accuracy: 0.09 - ETA: 0s - loss: 0.0110 - accuracy: 0.10 - ETA: 0s - loss: 0.0106 - accuracy: 0.10 - ETA: 0s - loss: 0.0103 - accuracy: 0.09 - ETA: 0s - loss: 0.0099 - accuracy: 0.10 - ETA: 0s - loss: 0.0096 - accuracy: 0.10 - 2s 697us/step - loss: 0.0095 - accuracy: 0.1000\n",
      "Epoch 2/5\n",
      "2188/2188 [==============================] - ETA: 0s - loss: 5.4075e-05 - accuracy: 0.03 - ETA: 1s - loss: 4.1126e-05 - accuracy: 0.09 - ETA: 1s - loss: 6.5588e-05 - accuracy: 0.09 - ETA: 1s - loss: 6.8624e-05 - accuracy: 0.09 - ETA: 1s - loss: 5.7887e-05 - accuracy: 0.10 - ETA: 1s - loss: 5.0706e-05 - accuracy: 0.10 - ETA: 1s - loss: 4.6776e-05 - accuracy: 0.10 - ETA: 1s - loss: 4.4370e-05 - accuracy: 0.09 - ETA: 1s - loss: 5.9642e-05 - accuracy: 0.09 - ETA: 1s - loss: 5.7186e-05 - accuracy: 0.09 - ETA: 1s - loss: 5.5917e-05 - accuracy: 0.09 - ETA: 0s - loss: 5.3493e-05 - accuracy: 0.09 - ETA: 0s - loss: 5.0994e-05 - accuracy: 0.10 - ETA: 0s - loss: 4.8975e-05 - accuracy: 0.10 - ETA: 0s - loss: 4.9310e-05 - accuracy: 0.10 - ETA: 0s - loss: 4.7832e-05 - accuracy: 0.10 - ETA: 0s - loss: 4.5696e-05 - accuracy: 0.10 - ETA: 0s - loss: 4.4164e-05 - accuracy: 0.10 - ETA: 0s - loss: 4.2344e-05 - accuracy: 0.10 - ETA: 0s - loss: 4.0636e-05 - accuracy: 0.10 - ETA: 0s - loss: 3.9474e-05 - accuracy: 0.10 - ETA: 0s - loss: 6.6619e-05 - accuracy: 0.10 - ETA: 0s - loss: 6.4335e-05 - accuracy: 0.10 - ETA: 0s - loss: 6.2091e-05 - accuracy: 0.09 - ETA: 0s - loss: 7.7244e-05 - accuracy: 0.09 - ETA: 0s - loss: 7.4517e-05 - accuracy: 0.09 - ETA: 0s - loss: 8.9891e-05 - accuracy: 0.10 - ETA: 0s - loss: 8.6759e-05 - accuracy: 0.10 - ETA: 0s - loss: 8.3807e-05 - accuracy: 0.10 - ETA: 0s - loss: 8.1093e-05 - accuracy: 0.10 - ETA: 0s - loss: 8.4849e-05 - accuracy: 0.10 - 2s 698us/step - loss: 8.3664e-05 - accuracy: 0.1001\n",
      "Epoch 3/5\n",
      "2188/2188 [==============================] - ETA: 0s - loss: 6.3330e-08 - accuracy: 0.06 - ETA: 1s - loss: 1.3259e-05 - accuracy: 0.09 - ETA: 1s - loss: 9.7021e-06 - accuracy: 0.09 - ETA: 1s - loss: 8.7480e-06 - accuracy: 0.10 - ETA: 1s - loss: 7.5369e-06 - accuracy: 0.10 - ETA: 1s - loss: 7.2914e-06 - accuracy: 0.09 - ETA: 1s - loss: 9.9746e-06 - accuracy: 0.10 - ETA: 1s - loss: 9.0391e-06 - accuracy: 0.09 - ETA: 1s - loss: 8.1955e-06 - accuracy: 0.09 - ETA: 1s - loss: 7.6966e-06 - accuracy: 0.10 - ETA: 1s - loss: 7.2583e-06 - accuracy: 0.10 - ETA: 0s - loss: 7.1043e-06 - accuracy: 0.09 - ETA: 0s - loss: 7.4752e-06 - accuracy: 0.09 - ETA: 0s - loss: 7.8467e-06 - accuracy: 0.09 - ETA: 0s - loss: 4.4732e-05 - accuracy: 0.09 - ETA: 0s - loss: 4.1966e-05 - accuracy: 0.09 - ETA: 0s - loss: 3.9433e-05 - accuracy: 0.09 - ETA: 0s - loss: 3.7268e-05 - accuracy: 0.09 - ETA: 0s - loss: 3.5353e-05 - accuracy: 0.09 - ETA: 0s - loss: 3.3506e-05 - accuracy: 0.10 - ETA: 0s - loss: 3.1954e-05 - accuracy: 0.10 - ETA: 0s - loss: 4.8511e-05 - accuracy: 0.10 - ETA: 0s - loss: 4.8015e-05 - accuracy: 0.10 - ETA: 0s - loss: 4.5919e-05 - accuracy: 0.10 - ETA: 0s - loss: 4.4007e-05 - accuracy: 0.10 - ETA: 0s - loss: 4.2343e-05 - accuracy: 0.10 - ETA: 0s - loss: 4.0697e-05 - accuracy: 0.10 - ETA: 0s - loss: 3.9221e-05 - accuracy: 0.10 - ETA: 0s - loss: 3.9637e-05 - accuracy: 0.10 - ETA: 0s - loss: 3.8343e-05 - accuracy: 0.10 - ETA: 0s - loss: 3.7043e-05 - accuracy: 0.10 - 2s 697us/step - loss: 3.6527e-05 - accuracy: 0.1001\n",
      "Epoch 4/5\n",
      "2188/2188 [==============================] - ETA: 0s - loss: 7.4506e-09 - accuracy: 0.09 - ETA: 1s - loss: 1.5861e-06 - accuracy: 0.09 - ETA: 1s - loss: 1.2149e-04 - accuracy: 0.10 - ETA: 1s - loss: 8.7791e-05 - accuracy: 0.10 - ETA: 1s - loss: 6.6953e-05 - accuracy: 0.09 - ETA: 1s - loss: 5.3450e-05 - accuracy: 0.10 - ETA: 1s - loss: 4.4738e-05 - accuracy: 0.10 - ETA: 1s - loss: 4.8606e-05 - accuracy: 0.09 - ETA: 1s - loss: 4.2851e-05 - accuracy: 0.09 - ETA: 1s - loss: 3.8222e-05 - accuracy: 0.10 - ETA: 1s - loss: 3.4416e-05 - accuracy: 0.10 - ETA: 0s - loss: 3.1381e-05 - accuracy: 0.10 - ETA: 0s - loss: 2.8712e-05 - accuracy: 0.10 - ETA: 0s - loss: 2.6610e-05 - accuracy: 0.10 - ETA: 0s - loss: 2.4746e-05 - accuracy: 0.10 - ETA: 0s - loss: 2.3158e-05 - accuracy: 0.10 - ETA: 0s - loss: 2.2812e-05 - accuracy: 0.10 - ETA: 0s - loss: 2.1468e-05 - accuracy: 0.10 - ETA: 0s - loss: 2.0285e-05 - accuracy: 0.10 - ETA: 0s - loss: 1.9228e-05 - accuracy: 0.10 - ETA: 0s - loss: 1.8263e-05 - accuracy: 0.10 - ETA: 0s - loss: 1.7426e-05 - accuracy: 0.10 - ETA: 0s - loss: 1.6625e-05 - accuracy: 0.10 - ETA: 0s - loss: 1.5926e-05 - accuracy: 0.10 - ETA: 0s - loss: 1.5292e-05 - accuracy: 0.10 - ETA: 0s - loss: 1.4672e-05 - accuracy: 0.10 - ETA: 0s - loss: 1.4132e-05 - accuracy: 0.10 - ETA: 0s - loss: 1.3601e-05 - accuracy: 0.10 - ETA: 0s - loss: 1.3122e-05 - accuracy: 0.10 - ETA: 0s - loss: 1.2687e-05 - accuracy: 0.10 - ETA: 0s - loss: 1.6520e-05 - accuracy: 0.10 - 2s 696us/step - loss: 1.6284e-05 - accuracy: 0.1001\n",
      "Epoch 5/5\n",
      "2188/2188 [==============================] - ETA: 0s - loss: 7.4506e-09 - accuracy: 0.12 - ETA: 1s - loss: 5.5764e-06 - accuracy: 0.10 - ETA: 1s - loss: 2.7640e-06 - accuracy: 0.10 - ETA: 1s - loss: 8.6622e-06 - accuracy: 0.10 - ETA: 1s - loss: 6.5747e-06 - accuracy: 0.09 - ETA: 1s - loss: 5.2820e-06 - accuracy: 0.09 - ETA: 1s - loss: 4.4386e-06 - accuracy: 0.09 - ETA: 1s - loss: 3.8575e-06 - accuracy: 0.09 - ETA: 1s - loss: 3.4205e-06 - accuracy: 0.09 - ETA: 1s - loss: 3.0569e-06 - accuracy: 0.09 - ETA: 1s - loss: 2.7626e-06 - accuracy: 0.09 - ETA: 0s - loss: 2.5202e-06 - accuracy: 0.09 - ETA: 0s - loss: 2.3095e-06 - accuracy: 0.09 - ETA: 0s - loss: 2.1391e-06 - accuracy: 0.09 - ETA: 0s - loss: 2.0112e-06 - accuracy: 0.09 - ETA: 0s - loss: 1.9046e-06 - accuracy: 0.09 - ETA: 0s - loss: 1.8144e-06 - accuracy: 0.09 - ETA: 0s - loss: 1.7280e-06 - accuracy: 0.09 - ETA: 0s - loss: 1.6386e-06 - accuracy: 0.09 - ETA: 0s - loss: 1.5579e-06 - accuracy: 0.09 - ETA: 0s - loss: 1.5662e-06 - accuracy: 0.09 - ETA: 0s - loss: 1.4930e-06 - accuracy: 0.09 - ETA: 0s - loss: 1.4273e-06 - accuracy: 0.09 - ETA: 0s - loss: 7.8542e-06 - accuracy: 0.09 - ETA: 0s - loss: 7.5251e-06 - accuracy: 0.09 - ETA: 0s - loss: 7.2190e-06 - accuracy: 0.09 - ETA: 0s - loss: 6.9449e-06 - accuracy: 0.10 - ETA: 0s - loss: 6.7092e-06 - accuracy: 0.09 - ETA: 0s - loss: 6.4849e-06 - accuracy: 0.09 - ETA: 0s - loss: 6.3840e-06 - accuracy: 0.09 - ETA: 0s - loss: 6.1842e-06 - accuracy: 0.09 - ETA: 0s - loss: 5.9902e-06 - accuracy: 0.09 - ETA: 0s - loss: 5.7951e-06 - accuracy: 0.10 - 2s 739us/step - loss: 5.7489e-06 - accuracy: 0.1001\n",
      "938/938 [==============================] - ETA: 0s - loss: 0.0000e+00 - accuracy: 0.12 - ETA: 0s - loss: 8.4233e-07 - accuracy: 0.09 - ETA: 0s - loss: 4.3250e-07 - accuracy: 0.09 - ETA: 0s - loss: 2.9429e-07 - accuracy: 0.09 - ETA: 0s - loss: 2.2643e-07 - accuracy: 0.09 - ETA: 0s - loss: 1.9204e-07 - accuracy: 0.09 - ETA: 0s - loss: 2.4057e-07 - accuracy: 0.09 - ETA: 0s - loss: 2.0827e-07 - accuracy: 0.10 - ETA: 0s - loss: 1.4766e-05 - accuracy: 0.09 - ETA: 0s - loss: 1.9493e-05 - accuracy: 0.09 - ETA: 0s - loss: 1.7341e-05 - accuracy: 0.09 - 1s 544us/step - loss: 1.7073e-05 - accuracy: 0.0997\n",
      "--- Starting trial: run-2\n",
      "{'num_units': 16, 'learning_rate': 0.01, 'optimizer': 'Adagrad'}\n",
      "Epoch 1/5\n",
      "2188/2188 [==============================] - ETA: 0s - loss: 2.5718 - accuracy: 0.0000e+ - ETA: 1s - loss: 0.3879 - accuracy: 0.0970   - ETA: 1s - loss: 0.2018 - accuracy: 0.09 - ETA: 1s - loss: 0.1410 - accuracy: 0.10 - ETA: 1s - loss: 0.1091 - accuracy: 0.10 - ETA: 1s - loss: 0.0876 - accuracy: 0.10 - ETA: 1s - loss: 0.0741 - accuracy: 0.10 - ETA: 1s - loss: 0.0646 - accuracy: 0.10 - ETA: 0s - loss: 0.0574 - accuracy: 0.10 - ETA: 0s - loss: 0.0514 - accuracy: 0.10 - ETA: 0s - loss: 0.0465 - accuracy: 0.10 - ETA: 0s - loss: 0.0425 - accuracy: 0.10 - ETA: 0s - loss: 0.0391 - accuracy: 0.09 - ETA: 0s - loss: 0.0363 - accuracy: 0.09 - ETA: 0s - loss: 0.0339 - accuracy: 0.09 - ETA: 0s - loss: 0.0316 - accuracy: 0.09 - ETA: 0s - loss: 0.0298 - accuracy: 0.10 - ETA: 0s - loss: 0.0282 - accuracy: 0.10 - ETA: 0s - loss: 0.0267 - accuracy: 0.09 - ETA: 0s - loss: 0.0254 - accuracy: 0.09 - ETA: 0s - loss: 0.0242 - accuracy: 0.09 - ETA: 0s - loss: 0.0231 - accuracy: 0.09 - ETA: 0s - loss: 0.0222 - accuracy: 0.09 - ETA: 0s - loss: 0.0213 - accuracy: 0.09 - ETA: 0s - loss: 0.0204 - accuracy: 0.09 - ETA: 0s - loss: 0.0196 - accuracy: 0.10 - ETA: 0s - loss: 0.0189 - accuracy: 0.09 - ETA: 0s - loss: 0.0183 - accuracy: 0.09 - 1s 628us/step - loss: 0.0181 - accuracy: 0.0999\n",
      "Epoch 2/5\n",
      "2188/2188 [==============================] - ETA: 0s - loss: 3.3165e-04 - accuracy: 0.12 - ETA: 1s - loss: 8.7211e-04 - accuracy: 0.10 - ETA: 1s - loss: 0.0012 - accuracy: 0.1004   - ETA: 1s - loss: 0.0011 - accuracy: 0.10 - ETA: 1s - loss: 0.0011 - accuracy: 0.10 - ETA: 1s - loss: 0.0011 - accuracy: 0.10 - ETA: 1s - loss: 0.0010 - accuracy: 0.09 - ETA: 1s - loss: 0.0011 - accuracy: 0.09 - ETA: 0s - loss: 0.0010 - accuracy: 0.09 - ETA: 0s - loss: 0.0011 - accuracy: 0.09 - ETA: 0s - loss: 0.0011 - accuracy: 0.09 - ETA: 0s - loss: 0.0011 - accuracy: 0.09 - ETA: 0s - loss: 0.0011 - accuracy: 0.09 - ETA: 0s - loss: 0.0010 - accuracy: 0.10 - ETA: 0s - loss: 0.0010 - accuracy: 0.10 - ETA: 0s - loss: 9.9279e-04 - accuracy: 0.10 - ETA: 0s - loss: 9.6792e-04 - accuracy: 0.10 - ETA: 0s - loss: 9.5634e-04 - accuracy: 0.10 - ETA: 0s - loss: 9.7294e-04 - accuracy: 0.10 - ETA: 0s - loss: 9.6366e-04 - accuracy: 0.10 - ETA: 0s - loss: 9.4993e-04 - accuracy: 0.09 - ETA: 0s - loss: 9.3446e-04 - accuracy: 0.09 - ETA: 0s - loss: 9.4086e-04 - accuracy: 0.09 - ETA: 0s - loss: 9.3125e-04 - accuracy: 0.09 - ETA: 0s - loss: 9.2595e-04 - accuracy: 0.09 - ETA: 0s - loss: 9.1231e-04 - accuracy: 0.10 - ETA: 0s - loss: 8.9866e-04 - accuracy: 0.09 - ETA: 0s - loss: 8.8560e-04 - accuracy: 0.10 - 1s 639us/step - loss: 8.7263e-04 - accuracy: 0.1001\n",
      "Epoch 3/5\n",
      "2188/2188 [==============================] - ETA: 0s - loss: 2.9474e-04 - accuracy: 0.12 - ETA: 1s - loss: 4.5581e-04 - accuracy: 0.10 - ETA: 1s - loss: 4.9584e-04 - accuracy: 0.10 - ETA: 1s - loss: 5.0987e-04 - accuracy: 0.10 - ETA: 1s - loss: 4.8368e-04 - accuracy: 0.10 - ETA: 1s - loss: 5.4357e-04 - accuracy: 0.10 - ETA: 1s - loss: 5.3241e-04 - accuracy: 0.10 - ETA: 1s - loss: 5.2725e-04 - accuracy: 0.09 - ETA: 0s - loss: 5.1529e-04 - accuracy: 0.10 - ETA: 0s - loss: 5.1307e-04 - accuracy: 0.10 - ETA: 0s - loss: 5.0815e-04 - accuracy: 0.09 - ETA: 0s - loss: 5.5673e-04 - accuracy: 0.09 - ETA: 0s - loss: 5.3667e-04 - accuracy: 0.09 - ETA: 0s - loss: 5.3212e-04 - accuracy: 0.09 - ETA: 0s - loss: 5.2794e-04 - accuracy: 0.09 - ETA: 0s - loss: 5.4179e-04 - accuracy: 0.09 - ETA: 0s - loss: 5.3345e-04 - accuracy: 0.09 - ETA: 0s - loss: 5.5499e-04 - accuracy: 0.09 - ETA: 0s - loss: 5.8473e-04 - accuracy: 0.09 - ETA: 0s - loss: 5.7359e-04 - accuracy: 0.09 - ETA: 0s - loss: 5.6390e-04 - accuracy: 0.09 - ETA: 0s - loss: 5.5672e-04 - accuracy: 0.09 - ETA: 0s - loss: 5.5427e-04 - accuracy: 0.09 - ETA: 0s - loss: 5.4538e-04 - accuracy: 0.09 - ETA: 0s - loss: 5.3532e-04 - accuracy: 0.09 - ETA: 0s - loss: 5.7087e-04 - accuracy: 0.09 - ETA: 0s - loss: 5.5971e-04 - accuracy: 0.09 - ETA: 0s - loss: 5.5005e-04 - accuracy: 0.10 - 1s 632us/step - loss: 5.4591e-04 - accuracy: 0.1001\n",
      "Epoch 4/5\n",
      "2188/2188 [==============================] - ETA: 0s - loss: 0.0017 - accuracy: 0.12 - ETA: 1s - loss: 3.0085e-04 - accuracy: 0.10 - ETA: 1s - loss: 3.2659e-04 - accuracy: 0.09 - ETA: 1s - loss: 3.7791e-04 - accuracy: 0.09 - ETA: 1s - loss: 3.7737e-04 - accuracy: 0.09 - ETA: 1s - loss: 3.7819e-04 - accuracy: 0.09 - ETA: 1s - loss: 3.6102e-04 - accuracy: 0.09 - ETA: 1s - loss: 3.4737e-04 - accuracy: 0.10 - ETA: 0s - loss: 3.4197e-04 - accuracy: 0.09 - ETA: 0s - loss: 3.3553e-04 - accuracy: 0.10 - ETA: 0s - loss: 3.3017e-04 - accuracy: 0.10 - ETA: 0s - loss: 3.3781e-04 - accuracy: 0.10 - ETA: 0s - loss: 3.8452e-04 - accuracy: 0.10 - ETA: 0s - loss: 3.7990e-04 - accuracy: 0.10 - ETA: 0s - loss: 3.7778e-04 - accuracy: 0.10 - ETA: 0s - loss: 3.9082e-04 - accuracy: 0.10 - ETA: 0s - loss: 4.3838e-04 - accuracy: 0.10 - ETA: 0s - loss: 4.2873e-04 - accuracy: 0.10 - ETA: 0s - loss: 4.1722e-04 - accuracy: 0.10 - ETA: 0s - loss: 4.3667e-04 - accuracy: 0.10 - ETA: 0s - loss: 4.5542e-04 - accuracy: 0.10 - ETA: 0s - loss: 4.4732e-04 - accuracy: 0.10 - ETA: 0s - loss: 4.3913e-04 - accuracy: 0.10 - ETA: 0s - loss: 4.3005e-04 - accuracy: 0.10 - ETA: 0s - loss: 4.2885e-04 - accuracy: 0.10 - ETA: 0s - loss: 4.2372e-04 - accuracy: 0.10 - ETA: 0s - loss: 4.2281e-04 - accuracy: 0.10 - ETA: 0s - loss: 4.1534e-04 - accuracy: 0.10 - 1s 630us/step - loss: 4.1134e-04 - accuracy: 0.1001\n",
      "Epoch 5/5\n",
      "2188/2188 [==============================] - ETA: 0s - loss: 2.3717e-04 - accuracy: 0.18 - ETA: 1s - loss: 2.1535e-04 - accuracy: 0.10 - ETA: 1s - loss: 3.3888e-04 - accuracy: 0.09 - ETA: 1s - loss: 3.2695e-04 - accuracy: 0.09 - ETA: 1s - loss: 3.1455e-04 - accuracy: 0.09 - ETA: 1s - loss: 3.1048e-04 - accuracy: 0.09 - ETA: 1s - loss: 3.0016e-04 - accuracy: 0.09 - ETA: 1s - loss: 2.9121e-04 - accuracy: 0.09 - ETA: 0s - loss: 2.7926e-04 - accuracy: 0.09 - ETA: 0s - loss: 3.4913e-04 - accuracy: 0.09 - ETA: 0s - loss: 3.4183e-04 - accuracy: 0.09 - ETA: 0s - loss: 3.3767e-04 - accuracy: 0.09 - ETA: 0s - loss: 3.2336e-04 - accuracy: 0.09 - ETA: 0s - loss: 3.1464e-04 - accuracy: 0.09 - ETA: 0s - loss: 3.4924e-04 - accuracy: 0.09 - ETA: 0s - loss: 3.5155e-04 - accuracy: 0.09 - ETA: 0s - loss: 3.4645e-04 - accuracy: 0.09 - ETA: 0s - loss: 4.0396e-04 - accuracy: 0.09 - ETA: 0s - loss: 3.9741e-04 - accuracy: 0.09 - ETA: 0s - loss: 3.8810e-04 - accuracy: 0.09 - ETA: 0s - loss: 3.7875e-04 - accuracy: 0.09 - ETA: 0s - loss: 3.7174e-04 - accuracy: 0.09 - ETA: 0s - loss: 3.6307e-04 - accuracy: 0.09 - ETA: 0s - loss: 3.5538e-04 - accuracy: 0.09 - ETA: 0s - loss: 3.5180e-04 - accuracy: 0.09 - ETA: 0s - loss: 3.4746e-04 - accuracy: 0.09 - ETA: 0s - loss: 3.4317e-04 - accuracy: 0.09 - ETA: 0s - loss: 3.3937e-04 - accuracy: 0.10 - 1s 624us/step - loss: 3.3679e-04 - accuracy: 0.1001\n",
      "938/938 [==============================] - ETA: 0s - loss: 3.5489e-05 - accuracy: 0.12 - ETA: 0s - loss: 3.8893e-04 - accuracy: 0.09 - ETA: 0s - loss: 3.1139e-04 - accuracy: 0.10 - ETA: 0s - loss: 2.8488e-04 - accuracy: 0.09 - ETA: 0s - loss: 2.6156e-04 - accuracy: 0.09 - ETA: 0s - loss: 2.7045e-04 - accuracy: 0.09 - ETA: 0s - loss: 2.6353e-04 - accuracy: 0.09 - ETA: 0s - loss: 3.2689e-04 - accuracy: 0.09 - ETA: 0s - loss: 3.5789e-04 - accuracy: 0.10 - ETA: 0s - loss: 3.3948e-04 - accuracy: 0.09 - 0s 506us/step - loss: 3.3332e-04 - accuracy: 0.0997\n",
      "--- Starting trial: run-3\n",
      "{'num_units': 16, 'learning_rate': 0.01, 'optimizer': 'adam'}\n",
      "Epoch 1/5\n",
      "2188/2188 [==============================] - ETA: 2s - loss: 2.4312 - accuracy: 0.0000e+ - ETA: 1s - loss: 0.0434 - accuracy: 0.0967   - ETA: 1s - loss: 0.0220 - accuracy: 0.09 - ETA: 1s - loss: 0.0149 - accuracy: 0.09 - ETA: 1s - loss: 0.0111 - accuracy: 0.09 - ETA: 1s - loss: 0.0088 - accuracy: 0.10 - ETA: 1s - loss: 0.0074 - accuracy: 0.09 - ETA: 1s - loss: 0.0064 - accuracy: 0.09 - ETA: 1s - loss: 0.0056 - accuracy: 0.09 - ETA: 1s - loss: 0.0050 - accuracy: 0.09 - ETA: 1s - loss: 0.0045 - accuracy: 0.09 - ETA: 0s - loss: 0.0041 - accuracy: 0.09 - ETA: 0s - loss: 0.0038 - accuracy: 0.09 - ETA: 0s - loss: 0.0035 - accuracy: 0.09 - ETA: 0s - loss: 0.0033 - accuracy: 0.09 - ETA: 0s - loss: 0.0030 - accuracy: 0.09 - ETA: 0s - loss: 0.0029 - accuracy: 0.09 - ETA: 0s - loss: 0.0027 - accuracy: 0.09 - ETA: 0s - loss: 0.0025 - accuracy: 0.09 - ETA: 0s - loss: 0.0024 - accuracy: 0.09 - ETA: 0s - loss: 0.0023 - accuracy: 0.09 - ETA: 0s - loss: 0.0022 - accuracy: 0.09 - ETA: 0s - loss: 0.0021 - accuracy: 0.09 - ETA: 0s - loss: 0.0020 - accuracy: 0.09 - ETA: 0s - loss: 0.0019 - accuracy: 0.09 - ETA: 0s - loss: 0.0018 - accuracy: 0.09 - ETA: 0s - loss: 0.0017 - accuracy: 0.10 - ETA: 0s - loss: 0.0017 - accuracy: 0.10 - ETA: 0s - loss: 0.0016 - accuracy: 0.10 - ETA: 0s - loss: 0.0016 - accuracy: 0.10 - ETA: 0s - loss: 0.0015 - accuracy: 0.10 - 2s 690us/step - loss: 0.0015 - accuracy: 0.1001\n",
      "Epoch 2/5\n",
      "2188/2188 [==============================] - ETA: 0s - loss: 0.0000e+00 - accuracy: 0.06 - ETA: 1s - loss: 1.5557e-04 - accuracy: 0.08 - ETA: 1s - loss: 7.8865e-05 - accuracy: 0.08 - ETA: 1s - loss: 5.2833e-05 - accuracy: 0.08 - ETA: 1s - loss: 3.9211e-05 - accuracy: 0.09 - ETA: 1s - loss: 3.1332e-05 - accuracy: 0.09 - ETA: 1s - loss: 2.6164e-05 - accuracy: 0.09 - ETA: 1s - loss: 2.2418e-05 - accuracy: 0.09 - ETA: 1s - loss: 1.9657e-05 - accuracy: 0.09 - ETA: 1s - loss: 2.1329e-05 - accuracy: 0.09 - ETA: 0s - loss: 1.9199e-05 - accuracy: 0.09 - ETA: 0s - loss: 1.8744e-05 - accuracy: 0.09 - ETA: 0s - loss: 1.7193e-05 - accuracy: 0.09 - ETA: 0s - loss: 1.5862e-05 - accuracy: 0.09 - ETA: 0s - loss: 1.4723e-05 - accuracy: 0.09 - ETA: 0s - loss: 1.3748e-05 - accuracy: 0.09 - ETA: 0s - loss: 1.3464e-05 - accuracy: 0.10 - ETA: 0s - loss: 1.2677e-05 - accuracy: 0.10 - ETA: 0s - loss: 1.2006e-05 - accuracy: 0.10 - ETA: 0s - loss: 1.1385e-05 - accuracy: 0.10 - ETA: 0s - loss: 1.0810e-05 - accuracy: 0.10 - ETA: 0s - loss: 1.0304e-05 - accuracy: 0.10 - ETA: 0s - loss: 9.8368e-06 - accuracy: 0.10 - ETA: 0s - loss: 1.1757e-05 - accuracy: 0.10 - ETA: 0s - loss: 1.1268e-05 - accuracy: 0.10 - ETA: 0s - loss: 1.0825e-05 - accuracy: 0.10 - ETA: 0s - loss: 1.0410e-05 - accuracy: 0.10 - ETA: 0s - loss: 1.0019e-05 - accuracy: 0.09 - ETA: 0s - loss: 9.6623e-06 - accuracy: 0.10 - ETA: 0s - loss: 9.3325e-06 - accuracy: 0.10 - 1s 685us/step - loss: 9.0446e-06 - accuracy: 0.1001\n",
      "Epoch 3/5\n",
      "2188/2188 [==============================] - ETA: 0s - loss: 0.0000e+00 - accuracy: 0.06 - ETA: 1s - loss: 2.9978e-06 - accuracy: 0.10 - ETA: 1s - loss: 1.5107e-06 - accuracy: 0.10 - ETA: 1s - loss: 1.0009e-06 - accuracy: 0.09 - ETA: 1s - loss: 7.5150e-07 - accuracy: 0.10 - ETA: 1s - loss: 5.9855e-07 - accuracy: 0.09 - ETA: 1s - loss: 5.0351e-07 - accuracy: 0.09 - ETA: 1s - loss: 4.3126e-07 - accuracy: 0.09 - ETA: 1s - loss: 3.8031e-07 - accuracy: 0.09 - ETA: 1s - loss: 3.4024e-07 - accuracy: 0.09 - ETA: 1s - loss: 3.0653e-07 - accuracy: 0.09 - ETA: 0s - loss: 2.7883e-07 - accuracy: 0.10 - ETA: 0s - loss: 2.5621e-07 - accuracy: 0.09 - ETA: 0s - loss: 2.3636e-07 - accuracy: 0.09 - ETA: 0s - loss: 2.3597e-07 - accuracy: 0.09 - ETA: 0s - loss: 2.2494e-07 - accuracy: 0.09 - ETA: 0s - loss: 2.1137e-07 - accuracy: 0.09 - ETA: 0s - loss: 1.9922e-07 - accuracy: 0.09 - ETA: 0s - loss: 1.8782e-07 - accuracy: 0.09 - ETA: 0s - loss: 1.7805e-07 - accuracy: 0.09 - ETA: 0s - loss: 7.4257e-07 - accuracy: 0.09 - ETA: 0s - loss: 8.5716e-07 - accuracy: 0.09 - ETA: 0s - loss: 8.1774e-07 - accuracy: 0.10 - ETA: 0s - loss: 7.9213e-07 - accuracy: 0.10 - ETA: 0s - loss: 7.6188e-07 - accuracy: 0.10 - ETA: 0s - loss: 7.3199e-07 - accuracy: 0.10 - ETA: 0s - loss: 7.0383e-07 - accuracy: 0.10 - ETA: 0s - loss: 6.7704e-07 - accuracy: 0.10 - ETA: 0s - loss: 6.5320e-07 - accuracy: 0.10 - ETA: 0s - loss: 6.4847e-07 - accuracy: 0.10 - ETA: 0s - loss: 6.2661e-07 - accuracy: 0.10 - 2s 694us/step - loss: 6.1932e-07 - accuracy: 0.1001\n",
      "Epoch 4/5\n",
      "2188/2188 [==============================] - ETA: 0s - loss: 0.0000e+00 - accuracy: 0.03 - ETA: 1s - loss: 2.4190e-10 - accuracy: 0.10 - ETA: 1s - loss: 4.9671e-10 - accuracy: 0.09 - ETA: 1s - loss: 4.0093e-10 - accuracy: 0.09 - ETA: 1s - loss: 4.6090e-07 - accuracy: 0.09 - ETA: 1s - loss: 4.1796e-07 - accuracy: 0.09 - ETA: 1s - loss: 3.4984e-07 - accuracy: 0.09 - ETA: 1s - loss: 2.9900e-07 - accuracy: 0.09 - ETA: 1s - loss: 2.6362e-07 - accuracy: 0.09 - ETA: 1s - loss: 2.3451e-07 - accuracy: 0.09 - ETA: 0s - loss: 2.1120e-07 - accuracy: 0.09 - ETA: 0s - loss: 1.9210e-07 - accuracy: 0.09 - ETA: 0s - loss: 1.7640e-07 - accuracy: 0.09 - ETA: 0s - loss: 1.6272e-07 - accuracy: 0.09 - ETA: 0s - loss: 2.6775e-07 - accuracy: 0.09 - ETA: 0s - loss: 2.4997e-07 - accuracy: 0.09 - ETA: 0s - loss: 2.3401e-07 - accuracy: 0.09 - ETA: 0s - loss: 2.2068e-07 - accuracy: 0.09 - ETA: 0s - loss: 2.0911e-07 - accuracy: 0.09 - ETA: 0s - loss: 1.9826e-07 - accuracy: 0.09 - ETA: 0s - loss: 1.8821e-07 - accuracy: 0.09 - ETA: 0s - loss: 1.7949e-07 - accuracy: 0.09 - ETA: 0s - loss: 1.7111e-07 - accuracy: 0.09 - ETA: 0s - loss: 1.6357e-07 - accuracy: 0.09 - ETA: 0s - loss: 1.5678e-07 - accuracy: 0.09 - ETA: 0s - loss: 1.5062e-07 - accuracy: 0.09 - ETA: 0s - loss: 1.4491e-07 - accuracy: 0.09 - ETA: 0s - loss: 1.4322e-07 - accuracy: 0.10 - ETA: 0s - loss: 1.3819e-07 - accuracy: 0.10 - ETA: 0s - loss: 1.3343e-07 - accuracy: 0.10 - 1s 685us/step - loss: 1.2932e-07 - accuracy: 0.1001\n",
      "Epoch 5/5\n",
      "2188/2188 [==============================] - ETA: 0s - loss: 0.0000e+00 - accuracy: 0.03 - ETA: 1s - loss: 7.6288e-07 - accuracy: 0.10 - ETA: 1s - loss: 3.8154e-07 - accuracy: 0.10 - ETA: 1s - loss: 2.7327e-07 - accuracy: 0.10 - ETA: 1s - loss: 2.0426e-07 - accuracy: 0.10 - ETA: 1s - loss: 2.8377e-07 - accuracy: 0.10 - ETA: 1s - loss: 2.3648e-07 - accuracy: 0.09 - ETA: 1s - loss: 2.0349e-07 - accuracy: 0.10 - ETA: 1s - loss: 1.7827e-07 - accuracy: 0.09 - ETA: 1s - loss: 1.6066e-07 - accuracy: 0.09 - ETA: 1s - loss: 1.4481e-07 - accuracy: 0.09 - ETA: 0s - loss: 1.3157e-07 - accuracy: 0.10 - ETA: 0s - loss: 1.2068e-07 - accuracy: 0.10 - ETA: 0s - loss: 1.1122e-07 - accuracy: 0.10 - ETA: 0s - loss: 1.0334e-07 - accuracy: 0.10 - ETA: 0s - loss: 9.6412e-08 - accuracy: 0.10 - ETA: 0s - loss: 9.0433e-08 - accuracy: 0.10 - ETA: 0s - loss: 8.5291e-08 - accuracy: 0.09 - ETA: 0s - loss: 8.0516e-08 - accuracy: 0.10 - ETA: 0s - loss: 7.6401e-08 - accuracy: 0.10 - ETA: 0s - loss: 7.2707e-08 - accuracy: 0.10 - ETA: 0s - loss: 6.9307e-08 - accuracy: 0.10 - ETA: 0s - loss: 6.6188e-08 - accuracy: 0.10 - ETA: 0s - loss: 6.3334e-08 - accuracy: 0.10 - ETA: 0s - loss: 6.0671e-08 - accuracy: 0.10 - ETA: 0s - loss: 5.9623e-08 - accuracy: 0.10 - ETA: 0s - loss: 5.7371e-08 - accuracy: 0.10 - ETA: 0s - loss: 5.5229e-08 - accuracy: 0.10 - ETA: 0s - loss: 5.3212e-08 - accuracy: 0.10 - ETA: 0s - loss: 5.1338e-08 - accuracy: 0.10 - ETA: 0s - loss: 4.9614e-08 - accuracy: 0.10 - 2s 692us/step - loss: 4.9308e-08 - accuracy: 0.1001\n",
      "938/938 [==============================] - ETA: 0s - loss: 0.0000e+00 - accuracy: 0.12 - ETA: 0s - loss: 2.2130e-10 - accuracy: 0.09 - ETA: 0s - loss: 1.1120e-10 - accuracy: 0.10 - ETA: 0s - loss: 7.4012e-11 - accuracy: 0.09 - ETA: 0s - loss: 2.0286e-10 - accuracy: 0.09 - ETA: 0s - loss: 7.0453e-09 - accuracy: 0.09 - ETA: 0s - loss: 5.8827e-09 - accuracy: 0.09 - ETA: 0s - loss: 7.5922e-06 - accuracy: 0.09 - ETA: 0s - loss: 8.1924e-06 - accuracy: 0.09 - ETA: 0s - loss: 7.3024e-06 - accuracy: 0.09 - 0s 500us/step - loss: 7.0258e-06 - accuracy: 0.0997\n",
      "--- Starting trial: run-4\n",
      "{'num_units': 32, 'learning_rate': 0.001, 'optimizer': 'Adagrad'}\n",
      "Epoch 1/5\n",
      "2188/2188 [==============================] - ETA: 0s - loss: 1.7713 - accuracy: 0.03 - ETA: 1s - loss: 0.8581 - accuracy: 0.09 - ETA: 1s - loss: 0.5743 - accuracy: 0.10 - ETA: 1s - loss: 0.4333 - accuracy: 0.10 - ETA: 1s - loss: 0.3504 - accuracy: 0.09 - ETA: 1s - loss: 0.2955 - accuracy: 0.09 - ETA: 1s - loss: 0.2571 - accuracy: 0.09 - ETA: 1s - loss: 0.2286 - accuracy: 0.09 - ETA: 1s - loss: 0.2049 - accuracy: 0.09 - ETA: 1s - loss: 0.1875 - accuracy: 0.09 - ETA: 0s - loss: 0.1722 - accuracy: 0.09 - ETA: 0s - loss: 0.1600 - accuracy: 0.09 - ETA: 0s - loss: 0.1489 - accuracy: 0.09 - ETA: 0s - loss: 0.1395 - accuracy: 0.09 - ETA: 0s - loss: 0.1314 - accuracy: 0.09 - ETA: 0s - loss: 0.1241 - accuracy: 0.09 - ETA: 0s - loss: 0.1178 - accuracy: 0.10 - ETA: 0s - loss: 0.1122 - accuracy: 0.10 - ETA: 0s - loss: 0.1070 - accuracy: 0.10 - ETA: 0s - loss: 0.1025 - accuracy: 0.09 - ETA: 0s - loss: 0.0981 - accuracy: 0.09 - ETA: 0s - loss: 0.0944 - accuracy: 0.09 - ETA: 0s - loss: 0.0909 - accuracy: 0.09 - ETA: 0s - loss: 0.0875 - accuracy: 0.09 - ETA: 0s - loss: 0.0845 - accuracy: 0.09 - ETA: 0s - loss: 0.0817 - accuracy: 0.09 - ETA: 0s - loss: 0.0789 - accuracy: 0.09 - ETA: 0s - loss: 0.0764 - accuracy: 0.09 - ETA: 0s - loss: 0.0740 - accuracy: 0.09 - ETA: 0s - loss: 0.0719 - accuracy: 0.10 - 1s 668us/step - loss: 0.0715 - accuracy: 0.0999\n",
      "Epoch 2/5\n",
      "2188/2188 [==============================] - ETA: 0s - loss: 0.0176 - accuracy: 0.15 - ETA: 1s - loss: 0.0122 - accuracy: 0.09 - ETA: 1s - loss: 0.0110 - accuracy: 0.10 - ETA: 1s - loss: 0.0110 - accuracy: 0.09 - ETA: 1s - loss: 0.0104 - accuracy: 0.09 - ETA: 1s - loss: 0.0103 - accuracy: 0.10 - ETA: 1s - loss: 0.0103 - accuracy: 0.09 - ETA: 1s - loss: 0.0101 - accuracy: 0.10 - ETA: 1s - loss: 0.0100 - accuracy: 0.10 - ETA: 0s - loss: 0.0098 - accuracy: 0.10 - ETA: 0s - loss: 0.0099 - accuracy: 0.10 - ETA: 0s - loss: 0.0097 - accuracy: 0.10 - ETA: 0s - loss: 0.0095 - accuracy: 0.10 - ETA: 0s - loss: 0.0094 - accuracy: 0.10 - ETA: 0s - loss: 0.0093 - accuracy: 0.10 - ETA: 0s - loss: 0.0092 - accuracy: 0.10 - ETA: 0s - loss: 0.0090 - accuracy: 0.10 - ETA: 0s - loss: 0.0088 - accuracy: 0.10 - ETA: 0s - loss: 0.0087 - accuracy: 0.10 - ETA: 0s - loss: 0.0086 - accuracy: 0.10 - ETA: 0s - loss: 0.0085 - accuracy: 0.10 - ETA: 0s - loss: 0.0084 - accuracy: 0.10 - ETA: 0s - loss: 0.0083 - accuracy: 0.10 - ETA: 0s - loss: 0.0083 - accuracy: 0.10 - ETA: 0s - loss: 0.0082 - accuracy: 0.10 - ETA: 0s - loss: 0.0081 - accuracy: 0.10 - ETA: 0s - loss: 0.0080 - accuracy: 0.10 - ETA: 0s - loss: 0.0079 - accuracy: 0.10 - ETA: 0s - loss: 0.0078 - accuracy: 0.10 - ETA: 0s - loss: 0.0077 - accuracy: 0.10 - 1s 669us/step - loss: 0.0077 - accuracy: 0.1001\n",
      "Epoch 3/5\n",
      "2188/2188 [==============================] - ETA: 0s - loss: 0.0073 - accuracy: 0.06 - ETA: 1s - loss: 0.0057 - accuracy: 0.10 - ETA: 1s - loss: 0.0060 - accuracy: 0.10 - ETA: 1s - loss: 0.0061 - accuracy: 0.10 - ETA: 1s - loss: 0.0057 - accuracy: 0.10 - ETA: 1s - loss: 0.0056 - accuracy: 0.10 - ETA: 1s - loss: 0.0055 - accuracy: 0.10 - ETA: 1s - loss: 0.0054 - accuracy: 0.10 - ETA: 1s - loss: 0.0054 - accuracy: 0.10 - ETA: 0s - loss: 0.0054 - accuracy: 0.10 - ETA: 0s - loss: 0.0053 - accuracy: 0.10 - ETA: 0s - loss: 0.0051 - accuracy: 0.10 - ETA: 0s - loss: 0.0051 - accuracy: 0.10 - ETA: 0s - loss: 0.0050 - accuracy: 0.10 - ETA: 0s - loss: 0.0050 - accuracy: 0.10 - ETA: 0s - loss: 0.0049 - accuracy: 0.10 - ETA: 0s - loss: 0.0049 - accuracy: 0.10 - ETA: 0s - loss: 0.0049 - accuracy: 0.10 - ETA: 0s - loss: 0.0048 - accuracy: 0.09 - ETA: 0s - loss: 0.0048 - accuracy: 0.10 - ETA: 0s - loss: 0.0047 - accuracy: 0.10 - ETA: 0s - loss: 0.0047 - accuracy: 0.10 - ETA: 0s - loss: 0.0047 - accuracy: 0.10 - ETA: 0s - loss: 0.0046 - accuracy: 0.10 - ETA: 0s - loss: 0.0046 - accuracy: 0.10 - ETA: 0s - loss: 0.0045 - accuracy: 0.10 - ETA: 0s - loss: 0.0045 - accuracy: 0.09 - ETA: 0s - loss: 0.0045 - accuracy: 0.09 - ETA: 0s - loss: 0.0045 - accuracy: 0.10 - 1s 662us/step - loss: 0.0045 - accuracy: 0.1001\n",
      "Epoch 4/5\n",
      "2188/2188 [==============================] - ETA: 2s - loss: 9.8486e-04 - accuracy: 0.18 - ETA: 1s - loss: 0.0036 - accuracy: 0.1096   - ETA: 1s - loss: 0.0035 - accuracy: 0.10 - ETA: 1s - loss: 0.0036 - accuracy: 0.10 - ETA: 1s - loss: 0.0035 - accuracy: 0.10 - ETA: 1s - loss: 0.0035 - accuracy: 0.10 - ETA: 1s - loss: 0.0034 - accuracy: 0.10 - ETA: 1s - loss: 0.0034 - accuracy: 0.10 - ETA: 1s - loss: 0.0035 - accuracy: 0.10 - ETA: 0s - loss: 0.0036 - accuracy: 0.10 - ETA: 0s - loss: 0.0036 - accuracy: 0.10 - ETA: 0s - loss: 0.0035 - accuracy: 0.09 - ETA: 0s - loss: 0.0035 - accuracy: 0.09 - ETA: 0s - loss: 0.0034 - accuracy: 0.09 - ETA: 0s - loss: 0.0034 - accuracy: 0.09 - ETA: 0s - loss: 0.0034 - accuracy: 0.09 - ETA: 0s - loss: 0.0034 - accuracy: 0.10 - ETA: 0s - loss: 0.0034 - accuracy: 0.10 - ETA: 0s - loss: 0.0034 - accuracy: 0.10 - ETA: 0s - loss: 0.0033 - accuracy: 0.10 - ETA: 0s - loss: 0.0033 - accuracy: 0.10 - ETA: 0s - loss: 0.0033 - accuracy: 0.10 - ETA: 0s - loss: 0.0033 - accuracy: 0.09 - ETA: 0s - loss: 0.0033 - accuracy: 0.09 - ETA: 0s - loss: 0.0033 - accuracy: 0.09 - ETA: 0s - loss: 0.0032 - accuracy: 0.10 - ETA: 0s - loss: 0.0032 - accuracy: 0.10 - ETA: 0s - loss: 0.0032 - accuracy: 0.10 - ETA: 0s - loss: 0.0032 - accuracy: 0.09 - 1s 661us/step - loss: 0.0032 - accuracy: 0.1001\n",
      "Epoch 5/5\n",
      "2188/2188 [==============================] - ETA: 0s - loss: 0.0052 - accuracy: 0.12 - ETA: 1s - loss: 0.0032 - accuracy: 0.09 - ETA: 1s - loss: 0.0029 - accuracy: 0.09 - ETA: 1s - loss: 0.0029 - accuracy: 0.09 - ETA: 1s - loss: 0.0029 - accuracy: 0.10 - ETA: 1s - loss: 0.0027 - accuracy: 0.09 - ETA: 1s - loss: 0.0029 - accuracy: 0.09 - ETA: 1s - loss: 0.0028 - accuracy: 0.10 - ETA: 1s - loss: 0.0028 - accuracy: 0.10 - ETA: 0s - loss: 0.0027 - accuracy: 0.10 - ETA: 0s - loss: 0.0027 - accuracy: 0.09 - ETA: 0s - loss: 0.0027 - accuracy: 0.10 - ETA: 0s - loss: 0.0027 - accuracy: 0.10 - ETA: 0s - loss: 0.0026 - accuracy: 0.10 - ETA: 0s - loss: 0.0026 - accuracy: 0.10 - ETA: 0s - loss: 0.0026 - accuracy: 0.10 - ETA: 0s - loss: 0.0026 - accuracy: 0.10 - ETA: 0s - loss: 0.0026 - accuracy: 0.10 - ETA: 0s - loss: 0.0026 - accuracy: 0.10 - ETA: 0s - loss: 0.0026 - accuracy: 0.10 - ETA: 0s - loss: 0.0026 - accuracy: 0.10 - ETA: 0s - loss: 0.0026 - accuracy: 0.10 - ETA: 0s - loss: 0.0025 - accuracy: 0.10 - ETA: 0s - loss: 0.0025 - accuracy: 0.10 - ETA: 0s - loss: 0.0025 - accuracy: 0.10 - ETA: 0s - loss: 0.0025 - accuracy: 0.10 - ETA: 0s - loss: 0.0025 - accuracy: 0.10 - ETA: 0s - loss: 0.0025 - accuracy: 0.10 - ETA: 0s - loss: 0.0025 - accuracy: 0.10 - 1s 661us/step - loss: 0.0025 - accuracy: 0.1001\n",
      "  1/938 [..............................] - ETA: 0s - loss: 6.9771e-04 - accuracy: 0.1250WARNING:tensorflow:Callbacks method `on_test_batch_end` is slow compared to the batch time (batch time: 0.0000s vs `on_test_batch_end` time: 0.0010s). Check your callbacks.\n",
      "938/938 [==============================] - ETA: 0s - loss: 0.0021 - accuracy: 0.0982   - ETA: 0s - loss: 0.0022 - accuracy: 0.09 - ETA: 0s - loss: 0.0023 - accuracy: 0.09 - ETA: 0s - loss: 0.0022 - accuracy: 0.09 - ETA: 0s - loss: 0.0022 - accuracy: 0.09 - ETA: 0s - loss: 0.0022 - accuracy: 0.09 - ETA: 0s - loss: 0.0023 - accuracy: 0.09 - ETA: 0s - loss: 0.0023 - accuracy: 0.10 - ETA: 0s - loss: 0.0023 - accuracy: 0.09 - 0s 508us/step - loss: 0.0023 - accuracy: 0.0997\n",
      "--- Starting trial: run-5\n",
      "{'num_units': 32, 'learning_rate': 0.001, 'optimizer': 'adam'}\n",
      "Epoch 1/5\n",
      "2188/2188 [==============================] - ETA: 0s - loss: 2.2607 - accuracy: 0.03 - ETA: 1s - loss: 0.2032 - accuracy: 0.10 - ETA: 1s - loss: 0.1030 - accuracy: 0.10 - ETA: 1s - loss: 0.0699 - accuracy: 0.09 - ETA: 1s - loss: 0.0529 - accuracy: 0.10 - ETA: 1s - loss: 0.0425 - accuracy: 0.10 - ETA: 1s - loss: 0.0358 - accuracy: 0.10 - ETA: 1s - loss: 0.0308 - accuracy: 0.10 - ETA: 1s - loss: 0.0270 - accuracy: 0.09 - ETA: 1s - loss: 0.0240 - accuracy: 0.09 - ETA: 1s - loss: 0.0217 - accuracy: 0.09 - ETA: 1s - loss: 0.0198 - accuracy: 0.09 - ETA: 1s - loss: 0.0182 - accuracy: 0.09 - ETA: 0s - loss: 0.0168 - accuracy: 0.09 - ETA: 0s - loss: 0.0156 - accuracy: 0.09 - ETA: 0s - loss: 0.0145 - accuracy: 0.09 - ETA: 0s - loss: 0.0137 - accuracy: 0.10 - ETA: 0s - loss: 0.0129 - accuracy: 0.10 - ETA: 0s - loss: 0.0122 - accuracy: 0.10 - ETA: 0s - loss: 0.0116 - accuracy: 0.10 - ETA: 0s - loss: 0.0110 - accuracy: 0.10 - ETA: 0s - loss: 0.0105 - accuracy: 0.10 - ETA: 0s - loss: 0.0101 - accuracy: 0.10 - ETA: 0s - loss: 0.0096 - accuracy: 0.10 - ETA: 0s - loss: 0.0093 - accuracy: 0.10 - ETA: 0s - loss: 0.0089 - accuracy: 0.10 - ETA: 0s - loss: 0.0086 - accuracy: 0.10 - ETA: 0s - loss: 0.0082 - accuracy: 0.10 - ETA: 0s - loss: 0.0079 - accuracy: 0.10 - ETA: 0s - loss: 0.0077 - accuracy: 0.10 - ETA: 0s - loss: 0.0074 - accuracy: 0.10 - ETA: 0s - loss: 0.0072 - accuracy: 0.10 - ETA: 0s - loss: 0.0070 - accuracy: 0.10 - 2s 742us/step - loss: 0.0069 - accuracy: 0.1000\n",
      "Epoch 2/5\n",
      "2188/2188 [==============================] - ETA: 0s - loss: 2.2791e-05 - accuracy: 0.03 - ETA: 1s - loss: 1.8044e-05 - accuracy: 0.09 - ETA: 1s - loss: 2.9300e-05 - accuracy: 0.09 - ETA: 1s - loss: 2.6457e-05 - accuracy: 0.10 - ETA: 1s - loss: 2.3627e-05 - accuracy: 0.09 - ETA: 1s - loss: 2.1980e-05 - accuracy: 0.09 - ETA: 1s - loss: 1.1042e-04 - accuracy: 0.10 - ETA: 1s - loss: 9.6264e-05 - accuracy: 0.09 - ETA: 1s - loss: 8.5444e-05 - accuracy: 0.09 - ETA: 1s - loss: 1.0352e-04 - accuracy: 0.09 - ETA: 1s - loss: 9.3775e-05 - accuracy: 0.10 - ETA: 1s - loss: 9.4680e-05 - accuracy: 0.10 - ETA: 0s - loss: 1.3489e-04 - accuracy: 0.10 - ETA: 0s - loss: 1.2536e-04 - accuracy: 0.10 - ETA: 0s - loss: 1.1680e-04 - accuracy: 0.09 - ETA: 0s - loss: 1.0965e-04 - accuracy: 0.09 - ETA: 0s - loss: 1.0319e-04 - accuracy: 0.09 - ETA: 0s - loss: 9.7627e-05 - accuracy: 0.09 - ETA: 0s - loss: 9.2435e-05 - accuracy: 0.09 - ETA: 0s - loss: 8.7854e-05 - accuracy: 0.09 - ETA: 0s - loss: 8.3585e-05 - accuracy: 0.10 - ETA: 0s - loss: 7.9729e-05 - accuracy: 0.10 - ETA: 0s - loss: 7.6515e-05 - accuracy: 0.10 - ETA: 0s - loss: 7.3459e-05 - accuracy: 0.10 - ETA: 0s - loss: 7.1483e-05 - accuracy: 0.10 - ETA: 0s - loss: 9.0573e-05 - accuracy: 0.09 - ETA: 0s - loss: 8.7613e-05 - accuracy: 0.09 - ETA: 0s - loss: 8.4403e-05 - accuracy: 0.09 - ETA: 0s - loss: 8.1488e-05 - accuracy: 0.09 - ETA: 0s - loss: 7.8790e-05 - accuracy: 0.09 - ETA: 0s - loss: 7.6288e-05 - accuracy: 0.10 - ETA: 0s - loss: 7.3929e-05 - accuracy: 0.10 - 2s 725us/step - loss: 7.2326e-05 - accuracy: 0.1001\n",
      "Epoch 3/5\n",
      "2188/2188 [==============================] - ETA: 0s - loss: 3.7253e-09 - accuracy: 0.03 - ETA: 1s - loss: 1.7183e-06 - accuracy: 0.10 - ETA: 1s - loss: 1.9264e-06 - accuracy: 0.09 - ETA: 1s - loss: 1.6724e-06 - accuracy: 0.09 - ETA: 1s - loss: 5.0059e-06 - accuracy: 0.09 - ETA: 1s - loss: 4.6708e-06 - accuracy: 0.09 - ETA: 1s - loss: 4.2121e-06 - accuracy: 0.09 - ETA: 1s - loss: 3.8447e-06 - accuracy: 0.09 - ETA: 1s - loss: 3.7857e-06 - accuracy: 0.09 - ETA: 1s - loss: 3.6524e-06 - accuracy: 0.09 - ETA: 1s - loss: 3.5759e-06 - accuracy: 0.09 - ETA: 1s - loss: 3.3829e-06 - accuracy: 0.09 - ETA: 0s - loss: 3.2241e-06 - accuracy: 0.09 - ETA: 0s - loss: 3.3584e-06 - accuracy: 0.09 - ETA: 0s - loss: 3.2104e-06 - accuracy: 0.09 - ETA: 0s - loss: 8.4577e-06 - accuracy: 0.09 - ETA: 0s - loss: 8.0320e-06 - accuracy: 0.09 - ETA: 0s - loss: 7.5973e-06 - accuracy: 0.09 - ETA: 0s - loss: 7.1972e-06 - accuracy: 0.09 - ETA: 0s - loss: 2.8640e-05 - accuracy: 0.10 - ETA: 0s - loss: 2.7235e-05 - accuracy: 0.10 - ETA: 0s - loss: 2.5984e-05 - accuracy: 0.10 - ETA: 0s - loss: 2.4806e-05 - accuracy: 0.10 - ETA: 0s - loss: 4.0074e-05 - accuracy: 0.10 - ETA: 0s - loss: 3.8442e-05 - accuracy: 0.10 - ETA: 0s - loss: 3.6938e-05 - accuracy: 0.10 - ETA: 0s - loss: 3.5513e-05 - accuracy: 0.10 - ETA: 0s - loss: 3.9444e-05 - accuracy: 0.10 - ETA: 0s - loss: 3.8057e-05 - accuracy: 0.10 - ETA: 0s - loss: 3.6710e-05 - accuracy: 0.10 - ETA: 0s - loss: 3.5454e-05 - accuracy: 0.10 - ETA: 0s - loss: 3.4282e-05 - accuracy: 0.10 - ETA: 0s - loss: 3.3205e-05 - accuracy: 0.10 - 2s 736us/step - loss: 3.3091e-05 - accuracy: 0.1001\n",
      "Epoch 4/5\n",
      "2188/2188 [==============================] - ETA: 0s - loss: 0.0000e+00 - accuracy: 0.09 - ETA: 1s - loss: 2.4534e-08 - accuracy: 0.09 - ETA: 1s - loss: 6.7403e-08 - accuracy: 0.09 - ETA: 1s - loss: 3.1861e-06 - accuracy: 0.10 - ETA: 1s - loss: 5.1859e-05 - accuracy: 0.09 - ETA: 1s - loss: 4.1485e-05 - accuracy: 0.09 - ETA: 1s - loss: 3.4579e-05 - accuracy: 0.09 - ETA: 1s - loss: 2.9711e-05 - accuracy: 0.09 - ETA: 1s - loss: 2.5990e-05 - accuracy: 0.09 - ETA: 1s - loss: 2.3067e-05 - accuracy: 0.09 - ETA: 1s - loss: 2.0793e-05 - accuracy: 0.09 - ETA: 1s - loss: 1.8905e-05 - accuracy: 0.09 - ETA: 0s - loss: 1.7331e-05 - accuracy: 0.09 - ETA: 0s - loss: 1.6005e-05 - accuracy: 0.09 - ETA: 0s - loss: 1.4877e-05 - accuracy: 0.09 - ETA: 0s - loss: 1.3876e-05 - accuracy: 0.09 - ETA: 0s - loss: 1.3002e-05 - accuracy: 0.09 - ETA: 0s - loss: 1.2229e-05 - accuracy: 0.09 - ETA: 0s - loss: 1.1555e-05 - accuracy: 0.09 - ETA: 0s - loss: 1.0950e-05 - accuracy: 0.09 - ETA: 0s - loss: 1.0998e-05 - accuracy: 0.09 - ETA: 0s - loss: 1.0480e-05 - accuracy: 0.09 - ETA: 0s - loss: 1.0013e-05 - accuracy: 0.09 - ETA: 0s - loss: 1.2431e-05 - accuracy: 0.10 - ETA: 0s - loss: 1.6651e-05 - accuracy: 0.10 - ETA: 0s - loss: 1.5987e-05 - accuracy: 0.10 - ETA: 0s - loss: 1.5381e-05 - accuracy: 0.10 - ETA: 0s - loss: 1.4820e-05 - accuracy: 0.10 - ETA: 0s - loss: 1.4290e-05 - accuracy: 0.10 - ETA: 0s - loss: 1.3790e-05 - accuracy: 0.10 - ETA: 0s - loss: 1.3353e-05 - accuracy: 0.10 - ETA: 0s - loss: 1.2922e-05 - accuracy: 0.10 - 2s 725us/step - loss: 1.2630e-05 - accuracy: 0.1001\n",
      "Epoch 5/5\n",
      "2188/2188 [==============================] - ETA: 0s - loss: 0.0000e+00 - accuracy: 0.18 - ETA: 1s - loss: 2.7370e-08 - accuracy: 0.10 - ETA: 1s - loss: 2.6949e-08 - accuracy: 0.09 - ETA: 1s - loss: 2.2993e-08 - accuracy: 0.09 - ETA: 1s - loss: 2.2579e-08 - accuracy: 0.09 - ETA: 1s - loss: 3.5833e-08 - accuracy: 0.09 - ETA: 1s - loss: 3.2836e-08 - accuracy: 0.09 - ETA: 1s - loss: 3.2643e-08 - accuracy: 0.10 - ETA: 1s - loss: 3.5558e-08 - accuracy: 0.09 - ETA: 1s - loss: 9.9675e-06 - accuracy: 0.10 - ETA: 1s - loss: 9.0310e-06 - accuracy: 0.09 - ETA: 1s - loss: 8.2213e-06 - accuracy: 0.09 - ETA: 1s - loss: 7.5346e-06 - accuracy: 0.10 - ETA: 1s - loss: 7.1208e-06 - accuracy: 0.10 - ETA: 0s - loss: 6.5983e-06 - accuracy: 0.10 - ETA: 0s - loss: 6.1410e-06 - accuracy: 0.10 - ETA: 0s - loss: 5.7746e-06 - accuracy: 0.10 - ETA: 0s - loss: 5.4372e-06 - accuracy: 0.10 - ETA: 0s - loss: 5.8615e-06 - accuracy: 0.10 - ETA: 0s - loss: 5.5331e-06 - accuracy: 0.10 - ETA: 0s - loss: 5.2564e-06 - accuracy: 0.10 - ETA: 0s - loss: 5.0163e-06 - accuracy: 0.10 - ETA: 0s - loss: 6.7884e-06 - accuracy: 0.10 - ETA: 0s - loss: 6.4912e-06 - accuracy: 0.10 - ETA: 0s - loss: 6.2151e-06 - accuracy: 0.10 - ETA: 0s - loss: 5.9506e-06 - accuracy: 0.10 - ETA: 0s - loss: 5.7160e-06 - accuracy: 0.10 - ETA: 0s - loss: 5.4978e-06 - accuracy: 0.10 - ETA: 0s - loss: 5.2898e-06 - accuracy: 0.10 - ETA: 0s - loss: 5.1051e-06 - accuracy: 0.09 - ETA: 0s - loss: 4.9278e-06 - accuracy: 0.09 - ETA: 0s - loss: 4.7670e-06 - accuracy: 0.09 - ETA: 0s - loss: 4.6378e-06 - accuracy: 0.09 - 2s 753us/step - loss: 4.4970e-06 - accuracy: 0.1001\n",
      "938/938 [==============================] - ETA: 0s - loss: 0.0000e+00 - accuracy: 0.12 - ETA: 0s - loss: 2.6107e-07 - accuracy: 0.09 - ETA: 0s - loss: 1.2725e-07 - accuracy: 0.09 - ETA: 0s - loss: 8.4747e-08 - accuracy: 0.09 - ETA: 0s - loss: 6.3619e-08 - accuracy: 0.09 - ETA: 0s - loss: 8.6633e-08 - accuracy: 0.09 - ETA: 0s - loss: 7.4507e-08 - accuracy: 0.09 - ETA: 0s - loss: 1.6665e-05 - accuracy: 0.09 - ETA: 0s - loss: 2.0811e-05 - accuracy: 0.10 - ETA: 0s - loss: 1.8485e-05 - accuracy: 0.09 - 0s 510us/step - loss: 1.7470e-05 - accuracy: 0.0997\n",
      "--- Starting trial: run-6\n",
      "{'num_units': 32, 'learning_rate': 0.01, 'optimizer': 'Adagrad'}\n",
      "Epoch 1/5\n",
      "   1/2188 [..............................] - ETA: 0s - loss: 2.3086 - accuracy: 0.0000e+00WARNING:tensorflow:Callbacks method `on_train_batch_begin` is slow compared to the batch time (batch time: 0.0000s vs `on_train_batch_begin` time: 0.0010s). Check your callbacks.\n",
      "WARNING:tensorflow:Callbacks method `on_train_batch_end` is slow compared to the batch time (batch time: 0.0000s vs `on_train_batch_end` time: 0.0010s). Check your callbacks.\n",
      "2188/2188 [==============================] - ETA: 1s - loss: 0.2398 - accuracy: 0.0985   - ETA: 1s - loss: 0.1271 - accuracy: 0.09 - ETA: 1s - loss: 0.0868 - accuracy: 0.09 - ETA: 1s - loss: 0.0662 - accuracy: 0.10 - ETA: 1s - loss: 0.0538 - accuracy: 0.10 - ETA: 1s - loss: 0.0453 - accuracy: 0.10 - ETA: 1s - loss: 0.0395 - accuracy: 0.10 - ETA: 1s - loss: 0.0350 - accuracy: 0.10 - ETA: 0s - loss: 0.0314 - accuracy: 0.10 - ETA: 0s - loss: 0.0286 - accuracy: 0.10 - ETA: 0s - loss: 0.0261 - accuracy: 0.10 - ETA: 0s - loss: 0.0241 - accuracy: 0.10 - ETA: 0s - loss: 0.0224 - accuracy: 0.10 - ETA: 0s - loss: 0.0209 - accuracy: 0.10 - ETA: 0s - loss: 0.0196 - accuracy: 0.09 - ETA: 0s - loss: 0.0184 - accuracy: 0.10 - ETA: 0s - loss: 0.0174 - accuracy: 0.09 - ETA: 0s - loss: 0.0166 - accuracy: 0.09 - ETA: 0s - loss: 0.0158 - accuracy: 0.09 - ETA: 0s - loss: 0.0151 - accuracy: 0.09 - ETA: 0s - loss: 0.0144 - accuracy: 0.09 - ETA: 0s - loss: 0.0138 - accuracy: 0.09 - ETA: 0s - loss: 0.0132 - accuracy: 0.10 - ETA: 0s - loss: 0.0128 - accuracy: 0.10 - ETA: 0s - loss: 0.0123 - accuracy: 0.09 - ETA: 0s - loss: 0.0119 - accuracy: 0.10 - ETA: 0s - loss: 0.0115 - accuracy: 0.09 - ETA: 0s - loss: 0.0111 - accuracy: 0.09 - 1s 657us/step - loss: 0.0108 - accuracy: 0.1000\n",
      "Epoch 2/5\n",
      "2188/2188 [==============================] - ETA: 0s - loss: 4.3413e-04 - accuracy: 0.09 - ETA: 1s - loss: 0.0015 - accuracy: 0.0921   - ETA: 1s - loss: 0.0011 - accuracy: 0.09 - ETA: 1s - loss: 0.0012 - accuracy: 0.09 - ETA: 1s - loss: 0.0011 - accuracy: 0.09 - ETA: 1s - loss: 9.7078e-04 - accuracy: 0.09 - ETA: 1s - loss: 9.1334e-04 - accuracy: 0.10 - ETA: 1s - loss: 8.4661e-04 - accuracy: 0.10 - ETA: 1s - loss: 8.0401e-04 - accuracy: 0.09 - ETA: 1s - loss: 7.8852e-04 - accuracy: 0.09 - ETA: 0s - loss: 7.7128e-04 - accuracy: 0.09 - ETA: 0s - loss: 8.1006e-04 - accuracy: 0.09 - ETA: 0s - loss: 7.8442e-04 - accuracy: 0.09 - ETA: 0s - loss: 7.8668e-04 - accuracy: 0.10 - ETA: 0s - loss: 7.7213e-04 - accuracy: 0.10 - ETA: 0s - loss: 7.5337e-04 - accuracy: 0.10 - ETA: 0s - loss: 7.3345e-04 - accuracy: 0.10 - ETA: 0s - loss: 7.1920e-04 - accuracy: 0.10 - ETA: 0s - loss: 7.0645e-04 - accuracy: 0.09 - ETA: 0s - loss: 7.0202e-04 - accuracy: 0.09 - ETA: 0s - loss: 6.8468e-04 - accuracy: 0.10 - ETA: 0s - loss: 6.6890e-04 - accuracy: 0.09 - ETA: 0s - loss: 6.5758e-04 - accuracy: 0.09 - ETA: 0s - loss: 6.4930e-04 - accuracy: 0.09 - ETA: 0s - loss: 6.4622e-04 - accuracy: 0.10 - ETA: 0s - loss: 6.3674e-04 - accuracy: 0.09 - ETA: 0s - loss: 6.2509e-04 - accuracy: 0.09 - ETA: 0s - loss: 6.1920e-04 - accuracy: 0.09 - ETA: 0s - loss: 6.2618e-04 - accuracy: 0.10 - ETA: 0s - loss: 6.3704e-04 - accuracy: 0.10 - 1s 668us/step - loss: 6.3640e-04 - accuracy: 0.1001\n",
      "Epoch 3/5\n",
      "2188/2188 [==============================] - ETA: 0s - loss: 1.7097e-04 - accuracy: 0.21 - ETA: 1s - loss: 4.2761e-04 - accuracy: 0.10 - ETA: 1s - loss: 3.7459e-04 - accuracy: 0.10 - ETA: 1s - loss: 5.0560e-04 - accuracy: 0.10 - ETA: 1s - loss: 4.4756e-04 - accuracy: 0.10 - ETA: 1s - loss: 4.1787e-04 - accuracy: 0.10 - ETA: 1s - loss: 4.7447e-04 - accuracy: 0.10 - ETA: 1s - loss: 4.6529e-04 - accuracy: 0.10 - ETA: 1s - loss: 5.3564e-04 - accuracy: 0.10 - ETA: 1s - loss: 5.2429e-04 - accuracy: 0.10 - ETA: 0s - loss: 4.9704e-04 - accuracy: 0.10 - ETA: 0s - loss: 5.4707e-04 - accuracy: 0.10 - ETA: 0s - loss: 5.4853e-04 - accuracy: 0.09 - ETA: 0s - loss: 5.3098e-04 - accuracy: 0.09 - ETA: 0s - loss: 5.1253e-04 - accuracy: 0.10 - ETA: 0s - loss: 4.9353e-04 - accuracy: 0.10 - ETA: 0s - loss: 4.7852e-04 - accuracy: 0.10 - ETA: 0s - loss: 4.6264e-04 - accuracy: 0.09 - ETA: 0s - loss: 4.5017e-04 - accuracy: 0.09 - ETA: 0s - loss: 4.4433e-04 - accuracy: 0.09 - ETA: 0s - loss: 4.3088e-04 - accuracy: 0.09 - ETA: 0s - loss: 4.3081e-04 - accuracy: 0.09 - ETA: 0s - loss: 4.2023e-04 - accuracy: 0.09 - ETA: 0s - loss: 4.1238e-04 - accuracy: 0.09 - ETA: 0s - loss: 4.0655e-04 - accuracy: 0.09 - ETA: 0s - loss: 4.0281e-04 - accuracy: 0.09 - ETA: 0s - loss: 3.9851e-04 - accuracy: 0.09 - ETA: 0s - loss: 3.9528e-04 - accuracy: 0.10 - ETA: 0s - loss: 3.9294e-04 - accuracy: 0.10 - ETA: 0s - loss: 4.0600e-04 - accuracy: 0.10 - 1s 667us/step - loss: 4.0500e-04 - accuracy: 0.1001\n",
      "Epoch 4/5\n",
      "2188/2188 [==============================] - ETA: 0s - loss: 8.1624e-05 - accuracy: 0.09 - ETA: 1s - loss: 8.9624e-04 - accuracy: 0.08 - ETA: 1s - loss: 5.4120e-04 - accuracy: 0.09 - ETA: 1s - loss: 4.6057e-04 - accuracy: 0.09 - ETA: 1s - loss: 3.8770e-04 - accuracy: 0.09 - ETA: 1s - loss: 3.6699e-04 - accuracy: 0.09 - ETA: 1s - loss: 3.6457e-04 - accuracy: 0.09 - ETA: 1s - loss: 3.5530e-04 - accuracy: 0.09 - ETA: 1s - loss: 3.3736e-04 - accuracy: 0.09 - ETA: 1s - loss: 3.2089e-04 - accuracy: 0.10 - ETA: 1s - loss: 3.1472e-04 - accuracy: 0.09 - ETA: 1s - loss: 3.0257e-04 - accuracy: 0.09 - ETA: 0s - loss: 3.2906e-04 - accuracy: 0.09 - ETA: 0s - loss: 3.1538e-04 - accuracy: 0.10 - ETA: 0s - loss: 3.0660e-04 - accuracy: 0.10 - ETA: 0s - loss: 2.9555e-04 - accuracy: 0.10 - ETA: 0s - loss: 2.9541e-04 - accuracy: 0.10 - ETA: 0s - loss: 2.9277e-04 - accuracy: 0.10 - ETA: 0s - loss: 2.8573e-04 - accuracy: 0.10 - ETA: 0s - loss: 2.7938e-04 - accuracy: 0.10 - ETA: 0s - loss: 2.7586e-04 - accuracy: 0.10 - ETA: 0s - loss: 2.7398e-04 - accuracy: 0.10 - ETA: 0s - loss: 3.0651e-04 - accuracy: 0.10 - ETA: 0s - loss: 3.0403e-04 - accuracy: 0.10 - ETA: 0s - loss: 2.9872e-04 - accuracy: 0.10 - ETA: 0s - loss: 2.9340e-04 - accuracy: 0.10 - ETA: 0s - loss: 2.9479e-04 - accuracy: 0.10 - ETA: 0s - loss: 2.9088e-04 - accuracy: 0.10 - ETA: 0s - loss: 3.0763e-04 - accuracy: 0.10 - ETA: 0s - loss: 3.0804e-04 - accuracy: 0.10 - ETA: 0s - loss: 3.0846e-04 - accuracy: 0.10 - 2s 687us/step - loss: 3.0846e-04 - accuracy: 0.1001\n",
      "Epoch 5/5\n",
      "2188/2188 [==============================] - ETA: 0s - loss: 2.4552e-04 - accuracy: 0.03 - ETA: 1s - loss: 6.8783e-04 - accuracy: 0.09 - ETA: 1s - loss: 4.3496e-04 - accuracy: 0.10 - ETA: 1s - loss: 3.4881e-04 - accuracy: 0.10 - ETA: 1s - loss: 2.9095e-04 - accuracy: 0.10 - ETA: 1s - loss: 2.8784e-04 - accuracy: 0.10 - ETA: 1s - loss: 2.8236e-04 - accuracy: 0.10 - ETA: 1s - loss: 2.8109e-04 - accuracy: 0.10 - ETA: 1s - loss: 2.6957e-04 - accuracy: 0.10 - ETA: 0s - loss: 2.6492e-04 - accuracy: 0.10 - ETA: 0s - loss: 2.5859e-04 - accuracy: 0.10 - ETA: 0s - loss: 3.2834e-04 - accuracy: 0.09 - ETA: 0s - loss: 3.1415e-04 - accuracy: 0.09 - ETA: 0s - loss: 3.0664e-04 - accuracy: 0.09 - ETA: 0s - loss: 2.9730e-04 - accuracy: 0.10 - ETA: 0s - loss: 2.8603e-04 - accuracy: 0.10 - ETA: 0s - loss: 2.8178e-04 - accuracy: 0.10 - ETA: 0s - loss: 2.7371e-04 - accuracy: 0.09 - ETA: 0s - loss: 2.6544e-04 - accuracy: 0.09 - ETA: 0s - loss: 2.5565e-04 - accuracy: 0.10 - ETA: 0s - loss: 2.4957e-04 - accuracy: 0.10 - ETA: 0s - loss: 2.4569e-04 - accuracy: 0.10 - ETA: 0s - loss: 2.4054e-04 - accuracy: 0.10 - ETA: 0s - loss: 2.3767e-04 - accuracy: 0.10 - ETA: 0s - loss: 2.3447e-04 - accuracy: 0.10 - ETA: 0s - loss: 2.2966e-04 - accuracy: 0.10 - ETA: 0s - loss: 2.3507e-04 - accuracy: 0.09 - ETA: 0s - loss: 2.6202e-04 - accuracy: 0.09 - ETA: 0s - loss: 2.5905e-04 - accuracy: 0.10 - ETA: 0s - loss: 2.5443e-04 - accuracy: 0.10 - 1s 665us/step - loss: 2.5442e-04 - accuracy: 0.1001\n",
      "938/938 [==============================] - ETA: 0s - loss: 1.8726e-05 - accuracy: 0.12 - ETA: 0s - loss: 3.8459e-04 - accuracy: 0.09 - ETA: 0s - loss: 2.6426e-04 - accuracy: 0.10 - ETA: 0s - loss: 2.3248e-04 - accuracy: 0.09 - ETA: 0s - loss: 2.0476e-04 - accuracy: 0.09 - ETA: 0s - loss: 2.0756e-04 - accuracy: 0.09 - ETA: 0s - loss: 2.0506e-04 - accuracy: 0.09 - ETA: 0s - loss: 2.6608e-04 - accuracy: 0.09 - ETA: 0s - loss: 3.0290e-04 - accuracy: 0.10 - ETA: 0s - loss: 2.8636e-04 - accuracy: 0.09 - 0s 514us/step - loss: 2.7524e-04 - accuracy: 0.0997\n",
      "--- Starting trial: run-7\n",
      "{'num_units': 32, 'learning_rate': 0.01, 'optimizer': 'adam'}\n",
      "Epoch 1/5\n",
      "2188/2188 [==============================] - ETA: 0s - loss: 2.3108 - accuracy: 0.0000e+ - ETA: 1s - loss: 0.0379 - accuracy: 0.0947   - ETA: 1s - loss: 0.0204 - accuracy: 0.09 - ETA: 1s - loss: 0.0155 - accuracy: 0.09 - ETA: 1s - loss: 0.0115 - accuracy: 0.09 - ETA: 1s - loss: 0.0090 - accuracy: 0.09 - ETA: 1s - loss: 0.0074 - accuracy: 0.09 - ETA: 1s - loss: 0.0063 - accuracy: 0.09 - ETA: 1s - loss: 0.0054 - accuracy: 0.09 - ETA: 1s - loss: 0.0049 - accuracy: 0.09 - ETA: 1s - loss: 0.0044 - accuracy: 0.09 - ETA: 1s - loss: 0.0039 - accuracy: 0.09 - ETA: 1s - loss: 0.0035 - accuracy: 0.10 - ETA: 1s - loss: 0.0033 - accuracy: 0.10 - ETA: 1s - loss: 0.0030 - accuracy: 0.10 - ETA: 1s - loss: 0.0028 - accuracy: 0.10 - ETA: 1s - loss: 0.0027 - accuracy: 0.10 - ETA: 0s - loss: 0.0025 - accuracy: 0.10 - ETA: 0s - loss: 0.0024 - accuracy: 0.10 - ETA: 0s - loss: 0.0023 - accuracy: 0.10 - ETA: 0s - loss: 0.0022 - accuracy: 0.10 - ETA: 0s - loss: 0.0021 - accuracy: 0.10 - ETA: 0s - loss: 0.0020 - accuracy: 0.09 - ETA: 0s - loss: 0.0019 - accuracy: 0.09 - ETA: 0s - loss: 0.0018 - accuracy: 0.09 - ETA: 0s - loss: 0.0017 - accuracy: 0.09 - ETA: 0s - loss: 0.0016 - accuracy: 0.09 - ETA: 0s - loss: 0.0016 - accuracy: 0.09 - ETA: 0s - loss: 0.0015 - accuracy: 0.09 - ETA: 0s - loss: 0.0015 - accuracy: 0.09 - ETA: 0s - loss: 0.0014 - accuracy: 0.09 - ETA: 0s - loss: 0.0014 - accuracy: 0.09 - ETA: 0s - loss: 0.0013 - accuracy: 0.09 - ETA: 0s - loss: 0.0013 - accuracy: 0.09 - ETA: 0s - loss: 0.0013 - accuracy: 0.09 - ETA: 0s - loss: 0.0012 - accuracy: 0.09 - 2s 818us/step - loss: 0.0012 - accuracy: 0.1001\n",
      "Epoch 2/5\n",
      "2188/2188 [==============================] - ETA: 0s - loss: 0.0000e+00 - accuracy: 0.09 - ETA: 1s - loss: 0.0000e+00 - accuracy: 0.08 - ETA: 1s - loss: 0.0000e+00 - accuracy: 0.09 - ETA: 1s - loss: 6.3835e-09 - accuracy: 0.09 - ETA: 1s - loss: 4.8346e-09 - accuracy: 0.09 - ETA: 1s - loss: 4.6262e-07 - accuracy: 0.09 - ETA: 1s - loss: 4.2822e-07 - accuracy: 0.09 - ETA: 1s - loss: 4.3135e-07 - accuracy: 0.10 - ETA: 1s - loss: 3.7743e-07 - accuracy: 0.10 - ETA: 1s - loss: 3.3495e-07 - accuracy: 0.10 - ETA: 1s - loss: 3.0150e-07 - accuracy: 0.10 - ETA: 1s - loss: 2.7304e-07 - accuracy: 0.10 - ETA: 1s - loss: 2.5040e-07 - accuracy: 0.10 - ETA: 0s - loss: 2.3122e-07 - accuracy: 0.10 - ETA: 0s - loss: 2.1477e-07 - accuracy: 0.10 - ETA: 0s - loss: 1.9993e-07 - accuracy: 0.10 - ETA: 0s - loss: 1.8785e-07 - accuracy: 0.10 - ETA: 0s - loss: 1.7685e-07 - accuracy: 0.10 - ETA: 0s - loss: 1.6720e-07 - accuracy: 0.10 - ETA: 0s - loss: 1.5856e-07 - accuracy: 0.10 - ETA: 0s - loss: 1.5065e-07 - accuracy: 0.10 - ETA: 0s - loss: 1.4341e-07 - accuracy: 0.09 - ETA: 0s - loss: 1.3691e-07 - accuracy: 0.09 - ETA: 0s - loss: 1.3098e-07 - accuracy: 0.10 - ETA: 0s - loss: 1.3243e-07 - accuracy: 0.10 - ETA: 0s - loss: 1.2722e-07 - accuracy: 0.10 - ETA: 0s - loss: 1.2249e-07 - accuracy: 0.10 - ETA: 0s - loss: 1.1841e-07 - accuracy: 0.10 - ETA: 0s - loss: 1.1448e-07 - accuracy: 0.10 - ETA: 0s - loss: 1.1057e-07 - accuracy: 0.10 - ETA: 0s - loss: 1.0692e-07 - accuracy: 0.10 - ETA: 0s - loss: 1.0351e-07 - accuracy: 0.10 - ETA: 0s - loss: 1.0584e-07 - accuracy: 0.10 - 2s 740us/step - loss: 1.0480e-07 - accuracy: 0.1001\n",
      "Epoch 3/5\n",
      "2188/2188 [==============================] - ETA: 0s - loss: 0.0000e+00 - accuracy: 0.21 - ETA: 1s - loss: 0.0000e+00 - accuracy: 0.10 - ETA: 1s - loss: 2.7192e-11 - accuracy: 0.09 - ETA: 1s - loss: 5.3347e-09 - accuracy: 0.10 - ETA: 1s - loss: 3.9817e-09 - accuracy: 0.09 - ETA: 1s - loss: 3.1761e-09 - accuracy: 0.09 - ETA: 1s - loss: 2.6481e-09 - accuracy: 0.09 - ETA: 1s - loss: 2.2735e-09 - accuracy: 0.09 - ETA: 1s - loss: 2.7246e-08 - accuracy: 0.09 - ETA: 1s - loss: 2.4156e-08 - accuracy: 0.09 - ETA: 1s - loss: 1.9465e-07 - accuracy: 0.09 - ETA: 1s - loss: 1.7728e-07 - accuracy: 0.09 - ETA: 0s - loss: 1.6394e-07 - accuracy: 0.09 - ETA: 0s - loss: 1.5178e-07 - accuracy: 0.09 - ETA: 0s - loss: 1.4130e-07 - accuracy: 0.09 - ETA: 0s - loss: 1.3141e-07 - accuracy: 0.09 - ETA: 0s - loss: 1.3293e-07 - accuracy: 0.09 - ETA: 0s - loss: 1.2508e-07 - accuracy: 0.09 - ETA: 0s - loss: 1.1820e-07 - accuracy: 0.09 - ETA: 0s - loss: 1.1195e-07 - accuracy: 0.09 - ETA: 0s - loss: 1.0617e-07 - accuracy: 0.09 - ETA: 0s - loss: 1.0674e-07 - accuracy: 0.09 - ETA: 0s - loss: 1.0181e-07 - accuracy: 0.09 - ETA: 0s - loss: 9.7376e-08 - accuracy: 0.09 - ETA: 0s - loss: 9.6838e-08 - accuracy: 0.09 - ETA: 0s - loss: 9.3059e-08 - accuracy: 0.09 - ETA: 0s - loss: 8.9766e-08 - accuracy: 0.09 - ETA: 0s - loss: 8.6556e-08 - accuracy: 0.09 - ETA: 0s - loss: 8.3520e-08 - accuracy: 0.10 - ETA: 0s - loss: 8.0695e-08 - accuracy: 0.10 - ETA: 0s - loss: 7.8017e-08 - accuracy: 0.10 - ETA: 0s - loss: 7.5476e-08 - accuracy: 0.10 - ETA: 0s - loss: 7.3128e-08 - accuracy: 0.10 - 2s 733us/step - loss: 7.3078e-08 - accuracy: 0.1001\n",
      "Epoch 4/5\n",
      "2188/2188 [==============================] - ETA: 0s - loss: 0.0000e+00 - accuracy: 0.18 - ETA: 1s - loss: 0.0000e+00 - accuracy: 0.09 - ETA: 1s - loss: 0.0000e+00 - accuracy: 0.10 - ETA: 1s - loss: 0.0000e+00 - accuracy: 0.10 - ETA: 1s - loss: 0.0000e+00 - accuracy: 0.09 - ETA: 1s - loss: 1.9675e-07 - accuracy: 0.10 - ETA: 1s - loss: 1.6316e-07 - accuracy: 0.10 - ETA: 1s - loss: 1.3907e-07 - accuracy: 0.09 - ETA: 1s - loss: 1.2185e-07 - accuracy: 0.10 - ETA: 1s - loss: 1.1198e-07 - accuracy: 0.09 - ETA: 1s - loss: 1.0090e-07 - accuracy: 0.09 - ETA: 1s - loss: 9.1930e-08 - accuracy: 0.09 - ETA: 0s - loss: 8.3917e-08 - accuracy: 0.09 - ETA: 0s - loss: 7.7275e-08 - accuracy: 0.09 - ETA: 0s - loss: 7.1755e-08 - accuracy: 0.09 - ETA: 0s - loss: 6.6907e-08 - accuracy: 0.09 - ETA: 0s - loss: 6.7739e-08 - accuracy: 0.09 - ETA: 0s - loss: 6.3754e-08 - accuracy: 0.09 - ETA: 0s - loss: 6.0212e-08 - accuracy: 0.09 - ETA: 0s - loss: 5.8779e-08 - accuracy: 0.10 - ETA: 0s - loss: 5.5800e-08 - accuracy: 0.10 - ETA: 0s - loss: 5.3181e-08 - accuracy: 0.10 - ETA: 0s - loss: 5.0731e-08 - accuracy: 0.10 - ETA: 0s - loss: 4.8557e-08 - accuracy: 0.10 - ETA: 0s - loss: 4.6534e-08 - accuracy: 0.10 - ETA: 0s - loss: 4.4621e-08 - accuracy: 0.10 - ETA: 0s - loss: 4.2930e-08 - accuracy: 0.10 - ETA: 0s - loss: 4.1297e-08 - accuracy: 0.10 - ETA: 0s - loss: 3.9785e-08 - accuracy: 0.10 - ETA: 0s - loss: 3.8417e-08 - accuracy: 0.09 - ETA: 0s - loss: 3.9475e-08 - accuracy: 0.09 - ETA: 0s - loss: 3.8200e-08 - accuracy: 0.10 - 2s 723us/step - loss: 3.7475e-08 - accuracy: 0.1001\n",
      "Epoch 5/5\n",
      "2188/2188 [==============================] - ETA: 0s - loss: 0.0000e+00 - accuracy: 0.09 - ETA: 1s - loss: 0.0000e+00 - accuracy: 0.09 - ETA: 1s - loss: 0.0000e+00 - accuracy: 0.10 - ETA: 1s - loss: 0.0000e+00 - accuracy: 0.09 - ETA: 1s - loss: 0.0000e+00 - accuracy: 0.09 - ETA: 1s - loss: 0.0000e+00 - accuracy: 0.09 - ETA: 1s - loss: 0.0000e+00 - accuracy: 0.09 - ETA: 1s - loss: 0.0000e+00 - accuracy: 0.09 - ETA: 1s - loss: 5.3077e-08 - accuracy: 0.09 - ETA: 1s - loss: 4.7221e-08 - accuracy: 0.09 - ETA: 1s - loss: 4.2614e-08 - accuracy: 0.09 - ETA: 1s - loss: 3.8425e-08 - accuracy: 0.09 - ETA: 1s - loss: 3.4986e-08 - accuracy: 0.09 - ETA: 1s - loss: 3.2151e-08 - accuracy: 0.09 - ETA: 0s - loss: 2.9707e-08 - accuracy: 0.09 - ETA: 0s - loss: 2.7666e-08 - accuracy: 0.09 - ETA: 0s - loss: 2.6506e-08 - accuracy: 0.09 - ETA: 0s - loss: 2.4904e-08 - accuracy: 0.09 - ETA: 0s - loss: 2.3446e-08 - accuracy: 0.09 - ETA: 0s - loss: 2.2184e-08 - accuracy: 0.09 - ETA: 0s - loss: 2.1019e-08 - accuracy: 0.09 - ETA: 0s - loss: 1.9999e-08 - accuracy: 0.09 - ETA: 0s - loss: 1.9087e-08 - accuracy: 0.09 - ETA: 0s - loss: 1.8464e-08 - accuracy: 0.09 - ETA: 0s - loss: 1.7683e-08 - accuracy: 0.09 - ETA: 0s - loss: 1.8049e-08 - accuracy: 0.09 - ETA: 0s - loss: 1.7429e-08 - accuracy: 0.09 - ETA: 0s - loss: 1.6767e-08 - accuracy: 0.09 - ETA: 0s - loss: 1.6127e-08 - accuracy: 0.09 - ETA: 0s - loss: 1.6785e-08 - accuracy: 0.09 - ETA: 0s - loss: 1.6221e-08 - accuracy: 0.09 - ETA: 0s - loss: 1.5671e-08 - accuracy: 0.09 - ETA: 0s - loss: 1.5157e-08 - accuracy: 0.09 - 2s 750us/step - loss: 1.4794e-08 - accuracy: 0.1001\n",
      "938/938 [==============================] - ETA: 0s - loss: 0.0000e+00 - accuracy: 0.12 - ETA: 0s - loss: 0.0000e+00 - accuracy: 0.09 - ETA: 0s - loss: 0.0000e+00 - accuracy: 0.10 - ETA: 0s - loss: 0.0000e+00 - accuracy: 0.09 - ETA: 0s - loss: 0.0000e+00 - accuracy: 0.09 - ETA: 0s - loss: 5.9666e-10 - accuracy: 0.09 - ETA: 0s - loss: 5.0012e-10 - accuracy: 0.09 - ETA: 0s - loss: 1.1705e-06 - accuracy: 0.09 - ETA: 0s - loss: 1.2758e-06 - accuracy: 0.10 - ETA: 0s - loss: 1.1426e-06 - accuracy: 0.09 - 0s 524us/step - loss: 1.0506e-06 - accuracy: 0.0997\n"
     ]
    }
   ],
   "source": [
    "session_num = 0\n",
    "\n",
    "# Basically a grid search\n",
    "for num_units in HP_NUM_UNITS.domain.values:\n",
    "  for learning_rate in (HP_LEARNING_RATE.domain.min_value,\n",
    "                        HP_LEARNING_RATE.domain.max_value):\n",
    "    for optimizer in HP_OPTIMIZER.domain.values:\n",
    "      hparams = {\n",
    "          HP_NUM_UNITS: num_units,\n",
    "          HP_LEARNING_RATE: learning_rate,\n",
    "          HP_OPTIMIZER: optimizer\n",
    "      }\n",
    "\n",
    "      run_name = f'run-{session_num}'\n",
    "      print(f'--- Starting trial: {run_name}')\n",
    "      print({param.name: hparams[param] for param in hparams})\n",
    "      run('logs/hparams_tuning/' + run_name, hparams)\n",
    "      session_num += 1"
   ]
  },
  {
   "cell_type": "markdown",
   "metadata": {},
   "source": [
    "### 3. Visualize the Result"
   ]
  },
  {
   "cell_type": "code",
   "execution_count": 70,
   "metadata": {},
   "outputs": [
    {
     "data": {
      "text/plain": [
       "Reusing TensorBoard on port 6006 (pid 13036), started 0:21:51 ago. (Use '!kill 13036' to kill it.)"
      ]
     },
     "metadata": {},
     "output_type": "display_data"
    },
    {
     "data": {
      "text/html": [
       "\n",
       "      <iframe id=\"tensorboard-frame-86bf5fb91538151e\" width=\"100%\" height=\"800\" frameborder=\"0\">\n",
       "      </iframe>\n",
       "      <script>\n",
       "        (function() {\n",
       "          const frame = document.getElementById(\"tensorboard-frame-86bf5fb91538151e\");\n",
       "          const url = new URL(\"/\", window.location);\n",
       "          const port = 6006;\n",
       "          if (port) {\n",
       "            url.port = port;\n",
       "          }\n",
       "          frame.src = url;\n",
       "        })();\n",
       "      </script>\n",
       "    "
      ],
      "text/plain": [
       "<IPython.core.display.HTML object>"
      ]
     },
     "metadata": {},
     "output_type": "display_data"
    }
   ],
   "source": [
    "%tensorboard --logdir logs/hparams_tuning"
   ]
  },
  {
   "cell_type": "markdown",
   "metadata": {},
   "source": [
    "### 4. Hyperparameters with RandomSearchCV (Learn)"
   ]
  },
  {
   "cell_type": "code",
   "execution_count": 49,
   "metadata": {},
   "outputs": [],
   "source": [
    "from tensorflow import keras\n",
    "from tensorflow.keras import layers\n",
    "from kerastuner.tuners import RandomSearch\n",
    "\n",
    "\"\"\"\n",
    "This model Tunes:\n",
    "- Number of Neurons in the Hidden Layer\n",
    "- Learning Rate in Adam\n",
    "\n",
    "\"\"\"\n",
    "def build_model(hp):\n",
    "    model = keras.Sequential()\n",
    "    model.add(layers.Dense(units=hp.Int('units',\n",
    "                                        min_value=32,\n",
    "                                        max_value=64,\n",
    "                                        step=32),\n",
    "                           activation='softsign'))\n",
    "    model.add(layers.Dense(32, activation='sigmoid'))\n",
    "    model.compile(\n",
    "        optimizer=keras.optimizers.Adamax(\n",
    "            hp.Choice('learning_rate',\n",
    "                      values=[0.001])),\n",
    "        loss='sparse_categorical_crossentropy',\n",
    "        metrics=['accuracy'])\n",
    "    \n",
    "    return model\n",
    "def final_model(neurons=64):\n",
    "    # create model\n",
    "    model = Sequential()\n",
    "    model.add(Dense(neurons, input_dim=784, kernel_initializer='glorot_uniform', activation='softsign', kernel_constraint=maxnorm(4)))\n",
    "    model.add(Dropout(0.0))\n",
    "    model.add(Dense(32, kernel_initializer='glorot_uniform', activation='sigmoid'))\n",
    "    # Compile model\n",
    "    optimizer = Adamax(lr=0.001, beta_1=0.2, beta_2=0.2, epsilon=1e-07)\n",
    "    model.compile(loss='sparse_categorical_crossentropy', optimizer=optimizer, metrics=['accuracy'])\n",
    "    return model"
   ]
  },
  {
   "cell_type": "code",
   "execution_count": 51,
   "metadata": {},
   "outputs": [],
   "source": [
    "tuner = RandomSearch(\n",
    "    build_model,\n",
    "    objective='val_accuracy',\n",
    "    max_trials=5,\n",
    "    executions_per_trial=3,\n",
    "    directory='keras-tuner-trial6',\n",
    "    project_name='helloworld')"
   ]
  },
  {
   "cell_type": "code",
   "execution_count": 52,
   "metadata": {},
   "outputs": [
    {
     "data": {
      "text/html": [
       "<span style=\"color:#4527A0\"><h1 style=\"font-size:18px\">Search space summary</h1></span>"
      ],
      "text/plain": [
       "<IPython.core.display.HTML object>"
      ]
     },
     "metadata": {},
     "output_type": "display_data"
    },
    {
     "data": {
      "text/html": [
       "<span style=\"color:cyan\"> |-Default search space size: 2</span>"
      ],
      "text/plain": [
       "<IPython.core.display.HTML object>"
      ]
     },
     "metadata": {},
     "output_type": "display_data"
    },
    {
     "data": {
      "text/html": [
       "<span style=\"color:#7E57C2\"><h2 style=\"font-size:16px\">units (Int)</h2></span>"
      ],
      "text/plain": [
       "<IPython.core.display.HTML object>"
      ]
     },
     "metadata": {},
     "output_type": "display_data"
    },
    {
     "data": {
      "text/html": [
       "<span style=\"color:cyan\"> |-default: None</span>"
      ],
      "text/plain": [
       "<IPython.core.display.HTML object>"
      ]
     },
     "metadata": {},
     "output_type": "display_data"
    },
    {
     "data": {
      "text/html": [
       "<span style=\"color:blue\"> |-max_value: 64</span>"
      ],
      "text/plain": [
       "<IPython.core.display.HTML object>"
      ]
     },
     "metadata": {},
     "output_type": "display_data"
    },
    {
     "data": {
      "text/html": [
       "<span style=\"color:cyan\"> |-min_value: 32</span>"
      ],
      "text/plain": [
       "<IPython.core.display.HTML object>"
      ]
     },
     "metadata": {},
     "output_type": "display_data"
    },
    {
     "data": {
      "text/html": [
       "<span style=\"color:blue\"> |-sampling: None</span>"
      ],
      "text/plain": [
       "<IPython.core.display.HTML object>"
      ]
     },
     "metadata": {},
     "output_type": "display_data"
    },
    {
     "data": {
      "text/html": [
       "<span style=\"color:cyan\"> |-step: 32</span>"
      ],
      "text/plain": [
       "<IPython.core.display.HTML object>"
      ]
     },
     "metadata": {},
     "output_type": "display_data"
    },
    {
     "data": {
      "text/html": [
       "<span style=\"color:#7E57C2\"><h2 style=\"font-size:16px\">learning_rate (Choice)</h2></span>"
      ],
      "text/plain": [
       "<IPython.core.display.HTML object>"
      ]
     },
     "metadata": {},
     "output_type": "display_data"
    },
    {
     "data": {
      "text/html": [
       "<span style=\"color:cyan\"> |-default: 0.001</span>"
      ],
      "text/plain": [
       "<IPython.core.display.HTML object>"
      ]
     },
     "metadata": {},
     "output_type": "display_data"
    },
    {
     "data": {
      "text/html": [
       "<span style=\"color:blue\"> |-ordered: True</span>"
      ],
      "text/plain": [
       "<IPython.core.display.HTML object>"
      ]
     },
     "metadata": {},
     "output_type": "display_data"
    },
    {
     "data": {
      "text/html": [
       "<span style=\"color:cyan\"> |-values: [0.001]</span>"
      ],
      "text/plain": [
       "<IPython.core.display.HTML object>"
      ]
     },
     "metadata": {},
     "output_type": "display_data"
    }
   ],
   "source": [
    "tuner.search_space_summary()"
   ]
  },
  {
   "cell_type": "code",
   "execution_count": 54,
   "metadata": {
    "collapsed": true,
    "jupyter": {
     "outputs_hidden": true
    }
   },
   "outputs": [
    {
     "name": "stdout",
     "output_type": "stream",
     "text": [
      "Epoch 1/32\n",
      "2500/2500 [==============================] - ETA: 0s - loss: 3.4981 - accuracy: 0.03 - ETA: 1s - loss: 3.1542 - accuracy: 0.10 - ETA: 1s - loss: 2.9331 - accuracy: 0.14 - ETA: 1s - loss: 2.7595 - accuracy: 0.16 - ETA: 1s - loss: 2.6407 - accuracy: 0.18 - ETA: 1s - loss: 2.5562 - accuracy: 0.20 - ETA: 1s - loss: 2.4894 - accuracy: 0.22 - ETA: 1s - loss: 2.4353 - accuracy: 0.24 - ETA: 1s - loss: 2.3881 - accuracy: 0.25 - ETA: 1s - loss: 2.3486 - accuracy: 0.26 - ETA: 1s - loss: 2.3047 - accuracy: 0.27 - ETA: 1s - loss: 2.2633 - accuracy: 0.29 - ETA: 1s - loss: 2.2244 - accuracy: 0.30 - ETA: 1s - loss: 2.1882 - accuracy: 0.31 - ETA: 1s - loss: 2.1540 - accuracy: 0.32 - ETA: 1s - loss: 2.1219 - accuracy: 0.33 - ETA: 1s - loss: 2.0930 - accuracy: 0.34 - ETA: 1s - loss: 2.0643 - accuracy: 0.35 - ETA: 1s - loss: 2.0374 - accuracy: 0.36 - ETA: 1s - loss: 2.0128 - accuracy: 0.36 - ETA: 0s - loss: 1.9879 - accuracy: 0.37 - ETA: 0s - loss: 1.9644 - accuracy: 0.38 - ETA: 0s - loss: 1.9432 - accuracy: 0.38 - ETA: 0s - loss: 1.9224 - accuracy: 0.39 - ETA: 0s - loss: 1.9026 - accuracy: 0.39 - ETA: 0s - loss: 1.8835 - accuracy: 0.40 - ETA: 0s - loss: 1.8649 - accuracy: 0.41 - ETA: 0s - loss: 1.8486 - accuracy: 0.41 - ETA: 0s - loss: 1.8322 - accuracy: 0.42 - ETA: 0s - loss: 1.8154 - accuracy: 0.42 - ETA: 0s - loss: 1.7998 - accuracy: 0.43 - ETA: 0s - loss: 1.7844 - accuracy: 0.43 - ETA: 0s - loss: 1.7708 - accuracy: 0.43 - ETA: 0s - loss: 1.7577 - accuracy: 0.44 - ETA: 0s - loss: 1.7443 - accuracy: 0.44 - ETA: 0s - loss: 1.7319 - accuracy: 0.45 - ETA: 0s - loss: 1.7203 - accuracy: 0.45 - ETA: 0s - loss: 1.7084 - accuracy: 0.45 - ETA: 0s - loss: 1.6977 - accuracy: 0.46 - 2s 886us/step - loss: 1.6892 - accuracy: 0.4626 - val_loss: 1.2772 - val_accuracy: 0.5889\n",
      "Epoch 2/32\n",
      "2500/2500 [==============================] - ETA: 0s - loss: 1.2066 - accuracy: 0.68 - ETA: 1s - loss: 1.2498 - accuracy: 0.59 - ETA: 1s - loss: 1.2715 - accuracy: 0.58 - ETA: 1s - loss: 1.2632 - accuracy: 0.59 - ETA: 1s - loss: 1.2560 - accuracy: 0.59 - ETA: 1s - loss: 1.2550 - accuracy: 0.59 - ETA: 1s - loss: 1.2540 - accuracy: 0.59 - ETA: 1s - loss: 1.2530 - accuracy: 0.59 - ETA: 1s - loss: 1.2471 - accuracy: 0.59 - ETA: 1s - loss: 1.2433 - accuracy: 0.59 - ETA: 1s - loss: 1.2386 - accuracy: 0.59 - ETA: 1s - loss: 1.2340 - accuracy: 0.60 - ETA: 1s - loss: 1.2319 - accuracy: 0.59 - ETA: 1s - loss: 1.2314 - accuracy: 0.60 - ETA: 1s - loss: 1.2257 - accuracy: 0.60 - ETA: 1s - loss: 1.2235 - accuracy: 0.60 - ETA: 1s - loss: 1.2215 - accuracy: 0.60 - ETA: 1s - loss: 1.2174 - accuracy: 0.60 - ETA: 1s - loss: 1.2153 - accuracy: 0.60 - ETA: 0s - loss: 1.2125 - accuracy: 0.60 - ETA: 0s - loss: 1.2083 - accuracy: 0.60 - ETA: 0s - loss: 1.2058 - accuracy: 0.60 - ETA: 0s - loss: 1.2045 - accuracy: 0.61 - ETA: 0s - loss: 1.2030 - accuracy: 0.61 - ETA: 0s - loss: 1.2004 - accuracy: 0.61 - ETA: 0s - loss: 1.1973 - accuracy: 0.61 - ETA: 0s - loss: 1.1946 - accuracy: 0.61 - ETA: 0s - loss: 1.1915 - accuracy: 0.61 - ETA: 0s - loss: 1.1898 - accuracy: 0.61 - ETA: 0s - loss: 1.1864 - accuracy: 0.61 - ETA: 0s - loss: 1.1841 - accuracy: 0.61 - ETA: 0s - loss: 1.1816 - accuracy: 0.61 - ETA: 0s - loss: 1.1795 - accuracy: 0.61 - ETA: 0s - loss: 1.1757 - accuracy: 0.62 - ETA: 0s - loss: 1.1736 - accuracy: 0.62 - ETA: 0s - loss: 1.1721 - accuracy: 0.62 - ETA: 0s - loss: 1.1705 - accuracy: 0.62 - ETA: 0s - loss: 1.1688 - accuracy: 0.62 - ETA: 0s - loss: 1.1659 - accuracy: 0.62 - 2s 854us/step - loss: 1.1638 - accuracy: 0.6245 - val_loss: 1.0780 - val_accuracy: 0.6558\n",
      "Epoch 3/32\n",
      "2500/2500 [==============================] - ETA: 2s - loss: 1.0320 - accuracy: 0.71 - ETA: 1s - loss: 1.0758 - accuracy: 0.66 - ETA: 1s - loss: 1.0630 - accuracy: 0.66 - ETA: 1s - loss: 1.0731 - accuracy: 0.66 - ETA: 1s - loss: 1.0699 - accuracy: 0.66 - ETA: 1s - loss: 1.0677 - accuracy: 0.66 - ETA: 1s - loss: 1.0696 - accuracy: 0.66 - ETA: 1s - loss: 1.0621 - accuracy: 0.66 - ETA: 1s - loss: 1.0651 - accuracy: 0.66 - ETA: 1s - loss: 1.0664 - accuracy: 0.66 - ETA: 1s - loss: 1.0634 - accuracy: 0.66 - ETA: 1s - loss: 1.0601 - accuracy: 0.66 - ETA: 1s - loss: 1.0575 - accuracy: 0.66 - ETA: 1s - loss: 1.0531 - accuracy: 0.66 - ETA: 1s - loss: 1.0560 - accuracy: 0.66 - ETA: 1s - loss: 1.0557 - accuracy: 0.66 - ETA: 1s - loss: 1.0541 - accuracy: 0.66 - ETA: 1s - loss: 1.0523 - accuracy: 0.66 - ETA: 1s - loss: 1.0508 - accuracy: 0.66 - ETA: 0s - loss: 1.0478 - accuracy: 0.67 - ETA: 0s - loss: 1.0465 - accuracy: 0.67 - ETA: 0s - loss: 1.0470 - accuracy: 0.67 - ETA: 0s - loss: 1.0465 - accuracy: 0.67 - ETA: 0s - loss: 1.0470 - accuracy: 0.67 - ETA: 0s - loss: 1.0446 - accuracy: 0.67 - ETA: 0s - loss: 1.0443 - accuracy: 0.67 - ETA: 0s - loss: 1.0431 - accuracy: 0.67 - ETA: 0s - loss: 1.0421 - accuracy: 0.67 - ETA: 0s - loss: 1.0394 - accuracy: 0.67 - ETA: 0s - loss: 1.0378 - accuracy: 0.67 - ETA: 0s - loss: 1.0381 - accuracy: 0.67 - ETA: 0s - loss: 1.0361 - accuracy: 0.67 - ETA: 0s - loss: 1.0364 - accuracy: 0.67 - ETA: 0s - loss: 1.0351 - accuracy: 0.67 - ETA: 0s - loss: 1.0338 - accuracy: 0.67 - ETA: 0s - loss: 1.0332 - accuracy: 0.67 - ETA: 0s - loss: 1.0319 - accuracy: 0.67 - ETA: 0s - loss: 1.0311 - accuracy: 0.67 - ETA: 0s - loss: 1.0295 - accuracy: 0.67 - ETA: 0s - loss: 1.0272 - accuracy: 0.67 - 2s 874us/step - loss: 1.0267 - accuracy: 0.6766 - val_loss: 0.9892 - val_accuracy: 0.6890\n",
      "Epoch 4/32\n",
      "2500/2500 [==============================] - ETA: 0s - loss: 1.1070 - accuracy: 0.53 - ETA: 1s - loss: 0.9537 - accuracy: 0.71 - ETA: 1s - loss: 0.9799 - accuracy: 0.70 - ETA: 1s - loss: 0.9871 - accuracy: 0.69 - ETA: 1s - loss: 0.9867 - accuracy: 0.69 - ETA: 1s - loss: 0.9762 - accuracy: 0.69 - ETA: 1s - loss: 0.9812 - accuracy: 0.69 - ETA: 1s - loss: 0.9784 - accuracy: 0.69 - ETA: 1s - loss: 0.9784 - accuracy: 0.69 - ETA: 1s - loss: 0.9826 - accuracy: 0.69 - ETA: 1s - loss: 0.9822 - accuracy: 0.69 - ETA: 1s - loss: 0.9814 - accuracy: 0.69 - ETA: 1s - loss: 0.9810 - accuracy: 0.69 - ETA: 1s - loss: 0.9798 - accuracy: 0.69 - ETA: 1s - loss: 0.9773 - accuracy: 0.69 - ETA: 1s - loss: 0.9745 - accuracy: 0.69 - ETA: 1s - loss: 0.9747 - accuracy: 0.69 - ETA: 1s - loss: 0.9759 - accuracy: 0.69 - ETA: 1s - loss: 0.9736 - accuracy: 0.69 - ETA: 1s - loss: 0.9736 - accuracy: 0.69 - ETA: 0s - loss: 0.9712 - accuracy: 0.69 - ETA: 0s - loss: 0.9720 - accuracy: 0.69 - ETA: 0s - loss: 0.9710 - accuracy: 0.69 - ETA: 0s - loss: 0.9703 - accuracy: 0.69 - ETA: 0s - loss: 0.9689 - accuracy: 0.69 - ETA: 0s - loss: 0.9676 - accuracy: 0.69 - ETA: 0s - loss: 0.9678 - accuracy: 0.69 - ETA: 0s - loss: 0.9661 - accuracy: 0.69 - ETA: 0s - loss: 0.9659 - accuracy: 0.69 - ETA: 0s - loss: 0.9649 - accuracy: 0.69 - ETA: 0s - loss: 0.9639 - accuracy: 0.69 - ETA: 0s - loss: 0.9638 - accuracy: 0.69 - ETA: 0s - loss: 0.9623 - accuracy: 0.69 - ETA: 0s - loss: 0.9615 - accuracy: 0.69 - ETA: 0s - loss: 0.9597 - accuracy: 0.70 - ETA: 0s - loss: 0.9593 - accuracy: 0.70 - ETA: 0s - loss: 0.9589 - accuracy: 0.70 - ETA: 0s - loss: 0.9580 - accuracy: 0.70 - ETA: 0s - loss: 0.9567 - accuracy: 0.70 - ETA: 0s - loss: 0.9559 - accuracy: 0.70 - 2s 870us/step - loss: 0.9550 - accuracy: 0.7021 - val_loss: 0.9348 - val_accuracy: 0.7081\n",
      "Epoch 5/32\n",
      "2500/2500 [==============================] - ETA: 0s - loss: 1.3847 - accuracy: 0.71 - ETA: 2s - loss: 0.9112 - accuracy: 0.72 - ETA: 1s - loss: 0.9136 - accuracy: 0.72 - ETA: 1s - loss: 0.8992 - accuracy: 0.72 - ETA: 1s - loss: 0.9089 - accuracy: 0.71 - ETA: 1s - loss: 0.9146 - accuracy: 0.71 - ETA: 1s - loss: 0.9163 - accuracy: 0.71 - ETA: 1s - loss: 0.9145 - accuracy: 0.71 - ETA: 1s - loss: 0.9145 - accuracy: 0.71 - ETA: 1s - loss: 0.9123 - accuracy: 0.71 - ETA: 1s - loss: 0.9131 - accuracy: 0.71 - ETA: 1s - loss: 0.9156 - accuracy: 0.71 - ETA: 1s - loss: 0.9149 - accuracy: 0.71 - ETA: 1s - loss: 0.9132 - accuracy: 0.71 - ETA: 1s - loss: 0.9155 - accuracy: 0.71 - ETA: 1s - loss: 0.9148 - accuracy: 0.71 - ETA: 1s - loss: 0.9147 - accuracy: 0.71 - ETA: 1s - loss: 0.9128 - accuracy: 0.71 - ETA: 1s - loss: 0.9120 - accuracy: 0.71 - ETA: 0s - loss: 0.9124 - accuracy: 0.71 - ETA: 0s - loss: 0.9149 - accuracy: 0.71 - ETA: 0s - loss: 0.9137 - accuracy: 0.71 - ETA: 0s - loss: 0.9119 - accuracy: 0.71 - ETA: 0s - loss: 0.9118 - accuracy: 0.71 - ETA: 0s - loss: 0.9126 - accuracy: 0.71 - ETA: 0s - loss: 0.9105 - accuracy: 0.71 - ETA: 0s - loss: 0.9104 - accuracy: 0.71 - ETA: 0s - loss: 0.9086 - accuracy: 0.71 - ETA: 0s - loss: 0.9089 - accuracy: 0.71 - ETA: 0s - loss: 0.9088 - accuracy: 0.71 - ETA: 0s - loss: 0.9082 - accuracy: 0.71 - ETA: 0s - loss: 0.9081 - accuracy: 0.71 - ETA: 0s - loss: 0.9067 - accuracy: 0.71 - ETA: 0s - loss: 0.9070 - accuracy: 0.71 - ETA: 0s - loss: 0.9070 - accuracy: 0.71 - ETA: 0s - loss: 0.9079 - accuracy: 0.71 - ETA: 0s - loss: 0.9096 - accuracy: 0.71 - ETA: 0s - loss: 0.9094 - accuracy: 0.71 - ETA: 0s - loss: 0.9093 - accuracy: 0.71 - 2s 840us/step - loss: 0.9084 - accuracy: 0.7181 - val_loss: 0.9080 - val_accuracy: 0.7175\n",
      "Epoch 6/32\n",
      "2500/2500 [==============================] - ETA: 0s - loss: 1.1331 - accuracy: 0.65 - ETA: 1s - loss: 0.8367 - accuracy: 0.73 - ETA: 1s - loss: 0.8802 - accuracy: 0.72 - ETA: 1s - loss: 0.8795 - accuracy: 0.72 - ETA: 1s - loss: 0.8830 - accuracy: 0.72 - ETA: 1s - loss: 0.8765 - accuracy: 0.72 - ETA: 1s - loss: 0.8878 - accuracy: 0.72 - ETA: 1s - loss: 0.8892 - accuracy: 0.72 - ETA: 1s - loss: 0.8889 - accuracy: 0.72 - ETA: 1s - loss: 0.8852 - accuracy: 0.72 - ETA: 1s - loss: 0.8855 - accuracy: 0.72 - ETA: 1s - loss: 0.8890 - accuracy: 0.72 - ETA: 1s - loss: 0.8865 - accuracy: 0.72 - ETA: 1s - loss: 0.8891 - accuracy: 0.72 - ETA: 1s - loss: 0.8884 - accuracy: 0.72 - ETA: 1s - loss: 0.8870 - accuracy: 0.72 - ETA: 1s - loss: 0.8874 - accuracy: 0.72 - ETA: 1s - loss: 0.8867 - accuracy: 0.72 - ETA: 1s - loss: 0.8855 - accuracy: 0.72 - ETA: 0s - loss: 0.8854 - accuracy: 0.72 - ETA: 0s - loss: 0.8840 - accuracy: 0.72 - ETA: 0s - loss: 0.8828 - accuracy: 0.72 - ETA: 0s - loss: 0.8835 - accuracy: 0.72 - ETA: 0s - loss: 0.8819 - accuracy: 0.72 - ETA: 0s - loss: 0.8808 - accuracy: 0.72 - ETA: 0s - loss: 0.8812 - accuracy: 0.72 - ETA: 0s - loss: 0.8814 - accuracy: 0.72 - ETA: 0s - loss: 0.8812 - accuracy: 0.72 - ETA: 0s - loss: 0.8804 - accuracy: 0.72 - ETA: 0s - loss: 0.8797 - accuracy: 0.72 - ETA: 0s - loss: 0.8797 - accuracy: 0.72 - ETA: 0s - loss: 0.8795 - accuracy: 0.72 - ETA: 0s - loss: 0.8806 - accuracy: 0.72 - ETA: 0s - loss: 0.8801 - accuracy: 0.72 - ETA: 0s - loss: 0.8803 - accuracy: 0.72 - ETA: 0s - loss: 0.8795 - accuracy: 0.72 - ETA: 0s - loss: 0.8796 - accuracy: 0.72 - ETA: 0s - loss: 0.8787 - accuracy: 0.72 - ETA: 0s - loss: 0.8799 - accuracy: 0.72 - 2s 838us/step - loss: 0.8797 - accuracy: 0.7287 - val_loss: 0.8807 - val_accuracy: 0.7292\n",
      "Epoch 7/32\n",
      "2500/2500 [==============================] - ETA: 0s - loss: 0.7325 - accuracy: 0.84 - ETA: 1s - loss: 0.8831 - accuracy: 0.72 - ETA: 1s - loss: 0.8679 - accuracy: 0.73 - ETA: 1s - loss: 0.8582 - accuracy: 0.73 - ETA: 1s - loss: 0.8562 - accuracy: 0.73 - ETA: 1s - loss: 0.8534 - accuracy: 0.73 - ETA: 1s - loss: 0.8551 - accuracy: 0.73 - ETA: 1s - loss: 0.8585 - accuracy: 0.73 - ETA: 1s - loss: 0.8597 - accuracy: 0.73 - ETA: 1s - loss: 0.8598 - accuracy: 0.73 - ETA: 1s - loss: 0.8561 - accuracy: 0.73 - ETA: 1s - loss: 0.8575 - accuracy: 0.73 - ETA: 1s - loss: 0.8571 - accuracy: 0.73 - ETA: 1s - loss: 0.8574 - accuracy: 0.73 - ETA: 1s - loss: 0.8573 - accuracy: 0.73 - ETA: 1s - loss: 0.8609 - accuracy: 0.73 - ETA: 1s - loss: 0.8597 - accuracy: 0.73 - ETA: 1s - loss: 0.8596 - accuracy: 0.73 - ETA: 1s - loss: 0.8559 - accuracy: 0.73 - ETA: 0s - loss: 0.8576 - accuracy: 0.73 - ETA: 0s - loss: 0.8558 - accuracy: 0.73 - ETA: 0s - loss: 0.8549 - accuracy: 0.73 - ETA: 0s - loss: 0.8552 - accuracy: 0.73 - ETA: 0s - loss: 0.8549 - accuracy: 0.73 - ETA: 0s - loss: 0.8548 - accuracy: 0.73 - ETA: 0s - loss: 0.8578 - accuracy: 0.73 - ETA: 0s - loss: 0.8592 - accuracy: 0.73 - ETA: 0s - loss: 0.8589 - accuracy: 0.73 - ETA: 0s - loss: 0.8591 - accuracy: 0.73 - ETA: 0s - loss: 0.8605 - accuracy: 0.73 - ETA: 0s - loss: 0.8601 - accuracy: 0.73 - ETA: 0s - loss: 0.8616 - accuracy: 0.73 - ETA: 0s - loss: 0.8612 - accuracy: 0.73 - ETA: 0s - loss: 0.8616 - accuracy: 0.73 - ETA: 0s - loss: 0.8614 - accuracy: 0.73 - ETA: 0s - loss: 0.8601 - accuracy: 0.73 - ETA: 0s - loss: 0.8598 - accuracy: 0.73 - ETA: 0s - loss: 0.8591 - accuracy: 0.73 - ETA: 0s - loss: 0.8579 - accuracy: 0.73 - 2s 847us/step - loss: 0.8571 - accuracy: 0.7368 - val_loss: 0.8565 - val_accuracy: 0.7363\n",
      "Epoch 8/32\n",
      "2500/2500 [==============================] - ETA: 0s - loss: 0.7810 - accuracy: 0.81 - ETA: 1s - loss: 0.8116 - accuracy: 0.75 - ETA: 1s - loss: 0.8194 - accuracy: 0.75 - ETA: 1s - loss: 0.8336 - accuracy: 0.75 - ETA: 1s - loss: 0.8339 - accuracy: 0.74 - ETA: 1s - loss: 0.8435 - accuracy: 0.74 - ETA: 1s - loss: 0.8427 - accuracy: 0.74 - ETA: 1s - loss: 0.8386 - accuracy: 0.74 - ETA: 1s - loss: 0.8340 - accuracy: 0.74 - ETA: 1s - loss: 0.8319 - accuracy: 0.74 - ETA: 1s - loss: 0.8375 - accuracy: 0.74 - ETA: 1s - loss: 0.8365 - accuracy: 0.74 - ETA: 1s - loss: 0.8353 - accuracy: 0.74 - ETA: 1s - loss: 0.8324 - accuracy: 0.74 - ETA: 1s - loss: 0.8325 - accuracy: 0.74 - ETA: 1s - loss: 0.8371 - accuracy: 0.74 - ETA: 1s - loss: 0.8386 - accuracy: 0.74 - ETA: 1s - loss: 0.8354 - accuracy: 0.74 - ETA: 1s - loss: 0.8339 - accuracy: 0.74 - ETA: 0s - loss: 0.8369 - accuracy: 0.74 - ETA: 0s - loss: 0.8386 - accuracy: 0.74 - ETA: 0s - loss: 0.8385 - accuracy: 0.74 - ETA: 0s - loss: 0.8409 - accuracy: 0.74 - ETA: 0s - loss: 0.8398 - accuracy: 0.74 - ETA: 0s - loss: 0.8409 - accuracy: 0.74 - ETA: 0s - loss: 0.8406 - accuracy: 0.74 - ETA: 0s - loss: 0.8404 - accuracy: 0.74 - ETA: 0s - loss: 0.8395 - accuracy: 0.74 - ETA: 0s - loss: 0.8379 - accuracy: 0.74 - ETA: 0s - loss: 0.8382 - accuracy: 0.74 - ETA: 0s - loss: 0.8391 - accuracy: 0.74 - ETA: 0s - loss: 0.8386 - accuracy: 0.74 - ETA: 0s - loss: 0.8395 - accuracy: 0.74 - ETA: 0s - loss: 0.8385 - accuracy: 0.74 - ETA: 0s - loss: 0.8393 - accuracy: 0.74 - ETA: 0s - loss: 0.8388 - accuracy: 0.74 - ETA: 0s - loss: 0.8382 - accuracy: 0.74 - ETA: 0s - loss: 0.8386 - accuracy: 0.74 - ETA: 0s - loss: 0.8383 - accuracy: 0.74 - 2s 847us/step - loss: 0.8389 - accuracy: 0.7429 - val_loss: 0.8494 - val_accuracy: 0.7367\n",
      "Epoch 9/32\n",
      "2500/2500 [==============================] - ETA: 0s - loss: 0.7366 - accuracy: 0.68 - ETA: 1s - loss: 0.8693 - accuracy: 0.73 - ETA: 1s - loss: 0.8630 - accuracy: 0.74 - ETA: 1s - loss: 0.8364 - accuracy: 0.74 - ETA: 1s - loss: 0.8307 - accuracy: 0.74 - ETA: 1s - loss: 0.8250 - accuracy: 0.74 - ETA: 1s - loss: 0.8239 - accuracy: 0.74 - ETA: 1s - loss: 0.8285 - accuracy: 0.74 - ETA: 1s - loss: 0.8252 - accuracy: 0.74 - ETA: 1s - loss: 0.8241 - accuracy: 0.74 - ETA: 1s - loss: 0.8236 - accuracy: 0.74 - ETA: 1s - loss: 0.8227 - accuracy: 0.74 - ETA: 1s - loss: 0.8253 - accuracy: 0.74 - ETA: 1s - loss: 0.8219 - accuracy: 0.74 - ETA: 1s - loss: 0.8207 - accuracy: 0.74 - ETA: 1s - loss: 0.8218 - accuracy: 0.74 - ETA: 1s - loss: 0.8206 - accuracy: 0.74 - ETA: 1s - loss: 0.8224 - accuracy: 0.74 - ETA: 1s - loss: 0.8204 - accuracy: 0.75 - ETA: 1s - loss: 0.8203 - accuracy: 0.75 - ETA: 0s - loss: 0.8204 - accuracy: 0.75 - ETA: 0s - loss: 0.8207 - accuracy: 0.74 - ETA: 0s - loss: 0.8216 - accuracy: 0.74 - ETA: 0s - loss: 0.8220 - accuracy: 0.74 - ETA: 0s - loss: 0.8222 - accuracy: 0.74 - ETA: 0s - loss: 0.8207 - accuracy: 0.74 - ETA: 0s - loss: 0.8212 - accuracy: 0.74 - ETA: 0s - loss: 0.8201 - accuracy: 0.74 - ETA: 0s - loss: 0.8216 - accuracy: 0.74 - ETA: 0s - loss: 0.8228 - accuracy: 0.74 - ETA: 0s - loss: 0.8232 - accuracy: 0.74 - ETA: 0s - loss: 0.8221 - accuracy: 0.75 - ETA: 0s - loss: 0.8228 - accuracy: 0.74 - ETA: 0s - loss: 0.8214 - accuracy: 0.75 - ETA: 0s - loss: 0.8206 - accuracy: 0.75 - ETA: 0s - loss: 0.8201 - accuracy: 0.75 - ETA: 0s - loss: 0.8206 - accuracy: 0.74 - ETA: 0s - loss: 0.8201 - accuracy: 0.75 - ETA: 0s - loss: 0.8212 - accuracy: 0.74 - ETA: 0s - loss: 0.8212 - accuracy: 0.74 - 2s 854us/step - loss: 0.8209 - accuracy: 0.7497 - val_loss: 0.8352 - val_accuracy: 0.7439\n",
      "Epoch 10/32\n",
      "2500/2500 [==============================] - ETA: 0s - loss: 0.6460 - accuracy: 0.81 - ETA: 1s - loss: 0.8159 - accuracy: 0.75 - ETA: 1s - loss: 0.7987 - accuracy: 0.75 - ETA: 1s - loss: 0.8049 - accuracy: 0.76 - ETA: 1s - loss: 0.8047 - accuracy: 0.75 - ETA: 1s - loss: 0.8016 - accuracy: 0.75 - ETA: 1s - loss: 0.8112 - accuracy: 0.75 - ETA: 1s - loss: 0.8178 - accuracy: 0.75 - ETA: 1s - loss: 0.8169 - accuracy: 0.75 - ETA: 1s - loss: 0.8169 - accuracy: 0.75 - ETA: 1s - loss: 0.8157 - accuracy: 0.75 - ETA: 1s - loss: 0.8137 - accuracy: 0.75 - ETA: 1s - loss: 0.8138 - accuracy: 0.75 - ETA: 1s - loss: 0.8124 - accuracy: 0.75 - ETA: 1s - loss: 0.8097 - accuracy: 0.75 - ETA: 1s - loss: 0.8087 - accuracy: 0.75 - ETA: 1s - loss: 0.8079 - accuracy: 0.75 - ETA: 1s - loss: 0.8062 - accuracy: 0.75 - ETA: 1s - loss: 0.8090 - accuracy: 0.75 - ETA: 0s - loss: 0.8083 - accuracy: 0.75 - ETA: 0s - loss: 0.8080 - accuracy: 0.75 - ETA: 0s - loss: 0.8085 - accuracy: 0.75 - ETA: 0s - loss: 0.8091 - accuracy: 0.75 - ETA: 0s - loss: 0.8080 - accuracy: 0.75 - ETA: 0s - loss: 0.8073 - accuracy: 0.75 - ETA: 0s - loss: 0.8068 - accuracy: 0.75 - ETA: 0s - loss: 0.8073 - accuracy: 0.75 - ETA: 0s - loss: 0.8069 - accuracy: 0.75 - ETA: 0s - loss: 0.8069 - accuracy: 0.75 - ETA: 0s - loss: 0.8076 - accuracy: 0.75 - ETA: 0s - loss: 0.8077 - accuracy: 0.75 - ETA: 0s - loss: 0.8063 - accuracy: 0.75 - ETA: 0s - loss: 0.8064 - accuracy: 0.75 - ETA: 0s - loss: 0.8070 - accuracy: 0.75 - ETA: 0s - loss: 0.8080 - accuracy: 0.75 - ETA: 0s - loss: 0.8082 - accuracy: 0.75 - ETA: 0s - loss: 0.8078 - accuracy: 0.75 - ETA: 0s - loss: 0.8079 - accuracy: 0.75 - ETA: 0s - loss: 0.8074 - accuracy: 0.75 - 2s 846us/step - loss: 0.8069 - accuracy: 0.7529 - val_loss: 0.8214 - val_accuracy: 0.7526\n",
      "Epoch 11/32\n",
      "2500/2500 [==============================] - ETA: 0s - loss: 0.7000 - accuracy: 0.75 - ETA: 1s - loss: 0.7653 - accuracy: 0.76 - ETA: 1s - loss: 0.7771 - accuracy: 0.75 - ETA: 1s - loss: 0.7843 - accuracy: 0.75 - ETA: 1s - loss: 0.7811 - accuracy: 0.75 - ETA: 1s - loss: 0.7861 - accuracy: 0.75 - ETA: 1s - loss: 0.7905 - accuracy: 0.75 - ETA: 1s - loss: 0.7938 - accuracy: 0.75 - ETA: 1s - loss: 0.7947 - accuracy: 0.75 - ETA: 1s - loss: 0.7951 - accuracy: 0.75 - ETA: 1s - loss: 0.7954 - accuracy: 0.75 - ETA: 1s - loss: 0.7969 - accuracy: 0.75 - ETA: 1s - loss: 0.7973 - accuracy: 0.75 - ETA: 1s - loss: 0.7976 - accuracy: 0.75 - ETA: 1s - loss: 0.7941 - accuracy: 0.75 - ETA: 1s - loss: 0.7969 - accuracy: 0.75 - ETA: 1s - loss: 0.7965 - accuracy: 0.75 - ETA: 1s - loss: 0.7961 - accuracy: 0.75 - ETA: 1s - loss: 0.7959 - accuracy: 0.75 - ETA: 0s - loss: 0.7956 - accuracy: 0.75 - ETA: 0s - loss: 0.7956 - accuracy: 0.75 - ETA: 0s - loss: 0.7956 - accuracy: 0.75 - ETA: 0s - loss: 0.7965 - accuracy: 0.75 - ETA: 0s - loss: 0.7981 - accuracy: 0.75 - ETA: 0s - loss: 0.7964 - accuracy: 0.75 - ETA: 0s - loss: 0.7963 - accuracy: 0.75 - ETA: 0s - loss: 0.7959 - accuracy: 0.75 - ETA: 0s - loss: 0.7949 - accuracy: 0.75 - ETA: 0s - loss: 0.7947 - accuracy: 0.75 - ETA: 0s - loss: 0.7934 - accuracy: 0.75 - ETA: 0s - loss: 0.7933 - accuracy: 0.75 - ETA: 0s - loss: 0.7951 - accuracy: 0.75 - ETA: 0s - loss: 0.7955 - accuracy: 0.75 - ETA: 0s - loss: 0.7948 - accuracy: 0.75 - ETA: 0s - loss: 0.7942 - accuracy: 0.75 - ETA: 0s - loss: 0.7952 - accuracy: 0.75 - ETA: 0s - loss: 0.7957 - accuracy: 0.75 - ETA: 0s - loss: 0.7955 - accuracy: 0.75 - ETA: 0s - loss: 0.7948 - accuracy: 0.75 - ETA: 0s - loss: 0.7944 - accuracy: 0.75 - 2s 849us/step - loss: 0.7946 - accuracy: 0.7580 - val_loss: 0.8192 - val_accuracy: 0.7519\n",
      "Epoch 12/32\n",
      "2500/2500 [==============================] - ETA: 0s - loss: 0.7668 - accuracy: 0.75 - ETA: 1s - loss: 0.8248 - accuracy: 0.74 - ETA: 1s - loss: 0.8049 - accuracy: 0.75 - ETA: 1s - loss: 0.8009 - accuracy: 0.76 - ETA: 1s - loss: 0.8024 - accuracy: 0.76 - ETA: 1s - loss: 0.7922 - accuracy: 0.76 - ETA: 1s - loss: 0.7871 - accuracy: 0.76 - ETA: 1s - loss: 0.7843 - accuracy: 0.76 - ETA: 1s - loss: 0.7871 - accuracy: 0.76 - ETA: 1s - loss: 0.7905 - accuracy: 0.76 - ETA: 1s - loss: 0.7900 - accuracy: 0.76 - ETA: 1s - loss: 0.7924 - accuracy: 0.76 - ETA: 1s - loss: 0.7897 - accuracy: 0.76 - ETA: 1s - loss: 0.7924 - accuracy: 0.76 - ETA: 1s - loss: 0.7912 - accuracy: 0.76 - ETA: 1s - loss: 0.7905 - accuracy: 0.76 - ETA: 1s - loss: 0.7860 - accuracy: 0.76 - ETA: 1s - loss: 0.7862 - accuracy: 0.76 - ETA: 1s - loss: 0.7865 - accuracy: 0.76 - ETA: 0s - loss: 0.7840 - accuracy: 0.76 - ETA: 0s - loss: 0.7823 - accuracy: 0.76 - ETA: 0s - loss: 0.7834 - accuracy: 0.76 - ETA: 0s - loss: 0.7834 - accuracy: 0.76 - ETA: 0s - loss: 0.7844 - accuracy: 0.76 - ETA: 0s - loss: 0.7837 - accuracy: 0.76 - ETA: 0s - loss: 0.7848 - accuracy: 0.76 - ETA: 0s - loss: 0.7843 - accuracy: 0.76 - ETA: 0s - loss: 0.7837 - accuracy: 0.76 - ETA: 0s - loss: 0.7844 - accuracy: 0.76 - ETA: 0s - loss: 0.7834 - accuracy: 0.76 - ETA: 0s - loss: 0.7844 - accuracy: 0.76 - ETA: 0s - loss: 0.7835 - accuracy: 0.76 - ETA: 0s - loss: 0.7833 - accuracy: 0.76 - ETA: 0s - loss: 0.7848 - accuracy: 0.76 - ETA: 0s - loss: 0.7842 - accuracy: 0.76 - ETA: 0s - loss: 0.7840 - accuracy: 0.76 - ETA: 0s - loss: 0.7842 - accuracy: 0.76 - ETA: 0s - loss: 0.7850 - accuracy: 0.76 - ETA: 0s - loss: 0.7850 - accuracy: 0.76 - 2s 845us/step - loss: 0.7857 - accuracy: 0.7614 - val_loss: 0.8043 - val_accuracy: 0.7568\n",
      "Epoch 13/32\n",
      "2500/2500 [==============================] - ETA: 0s - loss: 0.9917 - accuracy: 0.75 - ETA: 1s - loss: 0.7668 - accuracy: 0.76 - ETA: 1s - loss: 0.7754 - accuracy: 0.76 - ETA: 1s - loss: 0.7846 - accuracy: 0.76 - ETA: 1s - loss: 0.7849 - accuracy: 0.76 - ETA: 1s - loss: 0.7776 - accuracy: 0.76 - ETA: 1s - loss: 0.7822 - accuracy: 0.76 - ETA: 1s - loss: 0.7845 - accuracy: 0.76 - ETA: 1s - loss: 0.7820 - accuracy: 0.76 - ETA: 1s - loss: 0.7886 - accuracy: 0.76 - ETA: 1s - loss: 0.7881 - accuracy: 0.76 - ETA: 1s - loss: 0.7875 - accuracy: 0.76 - ETA: 1s - loss: 0.7867 - accuracy: 0.76 - ETA: 1s - loss: 0.7884 - accuracy: 0.76 - ETA: 1s - loss: 0.7880 - accuracy: 0.76 - ETA: 1s - loss: 0.7883 - accuracy: 0.76 - ETA: 1s - loss: 0.7884 - accuracy: 0.76 - ETA: 1s - loss: 0.7868 - accuracy: 0.76 - ETA: 1s - loss: 0.7862 - accuracy: 0.76 - ETA: 0s - loss: 0.7841 - accuracy: 0.76 - ETA: 0s - loss: 0.7841 - accuracy: 0.76 - ETA: 0s - loss: 0.7831 - accuracy: 0.76 - ETA: 0s - loss: 0.7853 - accuracy: 0.76 - ETA: 0s - loss: 0.7823 - accuracy: 0.76 - ETA: 0s - loss: 0.7827 - accuracy: 0.76 - ETA: 0s - loss: 0.7809 - accuracy: 0.76 - ETA: 0s - loss: 0.7797 - accuracy: 0.76 - ETA: 0s - loss: 0.7798 - accuracy: 0.76 - ETA: 0s - loss: 0.7800 - accuracy: 0.76 - ETA: 0s - loss: 0.7785 - accuracy: 0.76 - ETA: 0s - loss: 0.7790 - accuracy: 0.76 - ETA: 0s - loss: 0.7779 - accuracy: 0.76 - ETA: 0s - loss: 0.7773 - accuracy: 0.76 - ETA: 0s - loss: 0.7790 - accuracy: 0.76 - ETA: 0s - loss: 0.7784 - accuracy: 0.76 - ETA: 0s - loss: 0.7777 - accuracy: 0.76 - ETA: 0s - loss: 0.7777 - accuracy: 0.76 - ETA: 0s - loss: 0.7773 - accuracy: 0.76 - ETA: 0s - loss: 0.7777 - accuracy: 0.76 - 2s 847us/step - loss: 0.7775 - accuracy: 0.7653 - val_loss: 0.7955 - val_accuracy: 0.7603\n",
      "Epoch 14/32\n",
      "2500/2500 [==============================] - ETA: 0s - loss: 0.2608 - accuracy: 0.96 - ETA: 1s - loss: 0.7933 - accuracy: 0.75 - ETA: 1s - loss: 0.7880 - accuracy: 0.76 - ETA: 1s - loss: 0.8045 - accuracy: 0.75 - ETA: 1s - loss: 0.7940 - accuracy: 0.75 - ETA: 1s - loss: 0.7847 - accuracy: 0.76 - ETA: 1s - loss: 0.7792 - accuracy: 0.76 - ETA: 1s - loss: 0.7791 - accuracy: 0.76 - ETA: 1s - loss: 0.7743 - accuracy: 0.76 - ETA: 1s - loss: 0.7673 - accuracy: 0.76 - ETA: 1s - loss: 0.7669 - accuracy: 0.76 - ETA: 1s - loss: 0.7667 - accuracy: 0.76 - ETA: 1s - loss: 0.7639 - accuracy: 0.77 - ETA: 1s - loss: 0.7648 - accuracy: 0.77 - ETA: 1s - loss: 0.7657 - accuracy: 0.77 - ETA: 1s - loss: 0.7666 - accuracy: 0.77 - ETA: 1s - loss: 0.7661 - accuracy: 0.77 - ETA: 1s - loss: 0.7658 - accuracy: 0.77 - ETA: 1s - loss: 0.7664 - accuracy: 0.77 - ETA: 1s - loss: 0.7680 - accuracy: 0.76 - ETA: 0s - loss: 0.7671 - accuracy: 0.76 - ETA: 0s - loss: 0.7674 - accuracy: 0.76 - ETA: 0s - loss: 0.7665 - accuracy: 0.76 - ETA: 0s - loss: 0.7638 - accuracy: 0.77 - ETA: 0s - loss: 0.7635 - accuracy: 0.77 - ETA: 0s - loss: 0.7654 - accuracy: 0.76 - ETA: 0s - loss: 0.7657 - accuracy: 0.76 - ETA: 0s - loss: 0.7653 - accuracy: 0.76 - ETA: 0s - loss: 0.7664 - accuracy: 0.76 - ETA: 0s - loss: 0.7665 - accuracy: 0.76 - ETA: 0s - loss: 0.7659 - accuracy: 0.76 - ETA: 0s - loss: 0.7672 - accuracy: 0.76 - ETA: 0s - loss: 0.7656 - accuracy: 0.76 - ETA: 0s - loss: 0.7654 - accuracy: 0.76 - ETA: 0s - loss: 0.7656 - accuracy: 0.76 - ETA: 0s - loss: 0.7664 - accuracy: 0.76 - ETA: 0s - loss: 0.7667 - accuracy: 0.76 - ETA: 0s - loss: 0.7673 - accuracy: 0.76 - ETA: 0s - loss: 0.7679 - accuracy: 0.76 - 2s 847us/step - loss: 0.7677 - accuracy: 0.7686 - val_loss: 0.7912 - val_accuracy: 0.7609\n",
      "Epoch 15/32\n",
      "2500/2500 [==============================] - ETA: 0s - loss: 1.0493 - accuracy: 0.65 - ETA: 1s - loss: 0.7800 - accuracy: 0.76 - ETA: 1s - loss: 0.7766 - accuracy: 0.77 - ETA: 1s - loss: 0.7610 - accuracy: 0.77 - ETA: 1s - loss: 0.7653 - accuracy: 0.77 - ETA: 1s - loss: 0.7667 - accuracy: 0.77 - ETA: 1s - loss: 0.7746 - accuracy: 0.76 - ETA: 1s - loss: 0.7777 - accuracy: 0.76 - ETA: 1s - loss: 0.7773 - accuracy: 0.76 - ETA: 1s - loss: 0.7759 - accuracy: 0.76 - ETA: 1s - loss: 0.7730 - accuracy: 0.77 - ETA: 1s - loss: 0.7733 - accuracy: 0.76 - ETA: 1s - loss: 0.7731 - accuracy: 0.76 - ETA: 1s - loss: 0.7748 - accuracy: 0.76 - ETA: 1s - loss: 0.7714 - accuracy: 0.77 - ETA: 1s - loss: 0.7695 - accuracy: 0.77 - ETA: 1s - loss: 0.7702 - accuracy: 0.77 - ETA: 1s - loss: 0.7682 - accuracy: 0.77 - ETA: 1s - loss: 0.7672 - accuracy: 0.77 - ETA: 0s - loss: 0.7668 - accuracy: 0.77 - ETA: 0s - loss: 0.7651 - accuracy: 0.77 - ETA: 0s - loss: 0.7648 - accuracy: 0.77 - ETA: 0s - loss: 0.7642 - accuracy: 0.77 - ETA: 0s - loss: 0.7627 - accuracy: 0.77 - ETA: 0s - loss: 0.7630 - accuracy: 0.77 - ETA: 0s - loss: 0.7629 - accuracy: 0.77 - ETA: 0s - loss: 0.7617 - accuracy: 0.77 - ETA: 0s - loss: 0.7615 - accuracy: 0.77 - ETA: 0s - loss: 0.7606 - accuracy: 0.77 - ETA: 0s - loss: 0.7600 - accuracy: 0.77 - ETA: 0s - loss: 0.7615 - accuracy: 0.77 - ETA: 0s - loss: 0.7617 - accuracy: 0.77 - ETA: 0s - loss: 0.7619 - accuracy: 0.77 - ETA: 0s - loss: 0.7606 - accuracy: 0.77 - ETA: 0s - loss: 0.7609 - accuracy: 0.77 - ETA: 0s - loss: 0.7618 - accuracy: 0.77 - ETA: 0s - loss: 0.7621 - accuracy: 0.77 - ETA: 0s - loss: 0.7615 - accuracy: 0.77 - ETA: 0s - loss: 0.7609 - accuracy: 0.77 - ETA: 0s - loss: 0.7621 - accuracy: 0.77 - 2s 852us/step - loss: 0.7621 - accuracy: 0.7710 - val_loss: 0.7884 - val_accuracy: 0.7682\n",
      "Epoch 16/32\n",
      "2500/2500 [==============================] - ETA: 0s - loss: 0.5612 - accuracy: 0.84 - ETA: 1s - loss: 0.7453 - accuracy: 0.77 - ETA: 1s - loss: 0.7278 - accuracy: 0.78 - ETA: 1s - loss: 0.7372 - accuracy: 0.77 - ETA: 1s - loss: 0.7414 - accuracy: 0.77 - ETA: 1s - loss: 0.7353 - accuracy: 0.77 - ETA: 1s - loss: 0.7394 - accuracy: 0.77 - ETA: 1s - loss: 0.7438 - accuracy: 0.77 - ETA: 1s - loss: 0.7383 - accuracy: 0.77 - ETA: 1s - loss: 0.7446 - accuracy: 0.77 - ETA: 1s - loss: 0.7433 - accuracy: 0.77 - ETA: 1s - loss: 0.7468 - accuracy: 0.77 - ETA: 1s - loss: 0.7487 - accuracy: 0.77 - ETA: 1s - loss: 0.7472 - accuracy: 0.77 - ETA: 1s - loss: 0.7456 - accuracy: 0.77 - ETA: 1s - loss: 0.7494 - accuracy: 0.77 - ETA: 1s - loss: 0.7495 - accuracy: 0.77 - ETA: 1s - loss: 0.7508 - accuracy: 0.77 - ETA: 1s - loss: 0.7493 - accuracy: 0.77 - ETA: 0s - loss: 0.7470 - accuracy: 0.77 - ETA: 0s - loss: 0.7461 - accuracy: 0.77 - ETA: 0s - loss: 0.7440 - accuracy: 0.77 - ETA: 0s - loss: 0.7440 - accuracy: 0.77 - ETA: 0s - loss: 0.7428 - accuracy: 0.77 - ETA: 0s - loss: 0.7442 - accuracy: 0.77 - ETA: 0s - loss: 0.7447 - accuracy: 0.77 - ETA: 0s - loss: 0.7454 - accuracy: 0.77 - ETA: 0s - loss: 0.7461 - accuracy: 0.77 - ETA: 0s - loss: 0.7468 - accuracy: 0.77 - ETA: 0s - loss: 0.7474 - accuracy: 0.77 - ETA: 0s - loss: 0.7480 - accuracy: 0.77 - ETA: 0s - loss: 0.7483 - accuracy: 0.77 - ETA: 0s - loss: 0.7491 - accuracy: 0.77 - ETA: 0s - loss: 0.7492 - accuracy: 0.77 - ETA: 0s - loss: 0.7488 - accuracy: 0.77 - ETA: 0s - loss: 0.7488 - accuracy: 0.77 - ETA: 0s - loss: 0.7489 - accuracy: 0.77 - ETA: 0s - loss: 0.7501 - accuracy: 0.77 - ETA: 0s - loss: 0.7500 - accuracy: 0.77 - 2s 837us/step - loss: 0.7504 - accuracy: 0.7746 - val_loss: 0.7847 - val_accuracy: 0.7659\n",
      "Epoch 17/32\n",
      "2500/2500 [==============================] - ETA: 0s - loss: 0.4276 - accuracy: 0.90 - ETA: 1s - loss: 0.7663 - accuracy: 0.76 - ETA: 1s - loss: 0.7539 - accuracy: 0.77 - ETA: 1s - loss: 0.7547 - accuracy: 0.77 - ETA: 1s - loss: 0.7544 - accuracy: 0.77 - ETA: 1s - loss: 0.7546 - accuracy: 0.77 - ETA: 1s - loss: 0.7505 - accuracy: 0.77 - ETA: 1s - loss: 0.7505 - accuracy: 0.77 - ETA: 1s - loss: 0.7521 - accuracy: 0.77 - ETA: 1s - loss: 0.7542 - accuracy: 0.77 - ETA: 1s - loss: 0.7492 - accuracy: 0.77 - ETA: 1s - loss: 0.7496 - accuracy: 0.77 - ETA: 1s - loss: 0.7470 - accuracy: 0.77 - ETA: 1s - loss: 0.7469 - accuracy: 0.77 - ETA: 1s - loss: 0.7432 - accuracy: 0.77 - ETA: 1s - loss: 0.7444 - accuracy: 0.77 - ETA: 1s - loss: 0.7433 - accuracy: 0.77 - ETA: 1s - loss: 0.7407 - accuracy: 0.77 - ETA: 1s - loss: 0.7434 - accuracy: 0.77 - ETA: 0s - loss: 0.7429 - accuracy: 0.77 - ETA: 0s - loss: 0.7434 - accuracy: 0.77 - ETA: 0s - loss: 0.7430 - accuracy: 0.77 - ETA: 0s - loss: 0.7456 - accuracy: 0.77 - ETA: 0s - loss: 0.7449 - accuracy: 0.77 - ETA: 0s - loss: 0.7431 - accuracy: 0.77 - ETA: 0s - loss: 0.7432 - accuracy: 0.77 - ETA: 0s - loss: 0.7432 - accuracy: 0.77 - ETA: 0s - loss: 0.7428 - accuracy: 0.77 - ETA: 0s - loss: 0.7421 - accuracy: 0.77 - ETA: 0s - loss: 0.7412 - accuracy: 0.77 - ETA: 0s - loss: 0.7414 - accuracy: 0.77 - ETA: 0s - loss: 0.7428 - accuracy: 0.77 - ETA: 0s - loss: 0.7427 - accuracy: 0.77 - ETA: 0s - loss: 0.7433 - accuracy: 0.77 - ETA: 0s - loss: 0.7436 - accuracy: 0.77 - ETA: 0s - loss: 0.7446 - accuracy: 0.77 - ETA: 0s - loss: 0.7464 - accuracy: 0.77 - ETA: 0s - loss: 0.7475 - accuracy: 0.77 - ETA: 0s - loss: 0.7464 - accuracy: 0.77 - 2s 847us/step - loss: 0.7455 - accuracy: 0.7757 - val_loss: 0.7773 - val_accuracy: 0.7702\n",
      "Epoch 18/32\n",
      "2500/2500 [==============================] - ETA: 0s - loss: 0.7307 - accuracy: 0.75 - ETA: 1s - loss: 0.7798 - accuracy: 0.77 - ETA: 1s - loss: 0.7848 - accuracy: 0.76 - ETA: 1s - loss: 0.7727 - accuracy: 0.77 - ETA: 1s - loss: 0.7493 - accuracy: 0.77 - ETA: 1s - loss: 0.7438 - accuracy: 0.77 - ETA: 1s - loss: 0.7437 - accuracy: 0.77 - ETA: 1s - loss: 0.7343 - accuracy: 0.78 - ETA: 1s - loss: 0.7311 - accuracy: 0.78 - ETA: 1s - loss: 0.7337 - accuracy: 0.78 - ETA: 1s - loss: 0.7337 - accuracy: 0.78 - ETA: 1s - loss: 0.7353 - accuracy: 0.78 - ETA: 1s - loss: 0.7331 - accuracy: 0.78 - ETA: 1s - loss: 0.7340 - accuracy: 0.78 - ETA: 1s - loss: 0.7340 - accuracy: 0.78 - ETA: 1s - loss: 0.7301 - accuracy: 0.78 - ETA: 1s - loss: 0.7282 - accuracy: 0.78 - ETA: 1s - loss: 0.7298 - accuracy: 0.78 - ETA: 1s - loss: 0.7300 - accuracy: 0.78 - ETA: 0s - loss: 0.7327 - accuracy: 0.78 - ETA: 0s - loss: 0.7358 - accuracy: 0.78 - ETA: 0s - loss: 0.7363 - accuracy: 0.78 - ETA: 0s - loss: 0.7347 - accuracy: 0.78 - ETA: 0s - loss: 0.7353 - accuracy: 0.78 - ETA: 0s - loss: 0.7363 - accuracy: 0.78 - ETA: 0s - loss: 0.7368 - accuracy: 0.78 - ETA: 0s - loss: 0.7370 - accuracy: 0.78 - ETA: 0s - loss: 0.7377 - accuracy: 0.77 - ETA: 0s - loss: 0.7385 - accuracy: 0.77 - ETA: 0s - loss: 0.7376 - accuracy: 0.77 - ETA: 0s - loss: 0.7379 - accuracy: 0.77 - ETA: 0s - loss: 0.7402 - accuracy: 0.77 - ETA: 0s - loss: 0.7396 - accuracy: 0.77 - ETA: 0s - loss: 0.7390 - accuracy: 0.77 - ETA: 0s - loss: 0.7402 - accuracy: 0.77 - ETA: 0s - loss: 0.7395 - accuracy: 0.77 - ETA: 0s - loss: 0.7391 - accuracy: 0.77 - ETA: 0s - loss: 0.7396 - accuracy: 0.77 - ETA: 0s - loss: 0.7406 - accuracy: 0.77 - 2s 836us/step - loss: 0.7403 - accuracy: 0.7785 - val_loss: 0.7752 - val_accuracy: 0.7699\n",
      "Epoch 19/32\n",
      "2500/2500 [==============================] - ETA: 0s - loss: 0.7835 - accuracy: 0.68 - ETA: 1s - loss: 0.7655 - accuracy: 0.77 - ETA: 1s - loss: 0.7371 - accuracy: 0.78 - ETA: 1s - loss: 0.7476 - accuracy: 0.77 - ETA: 1s - loss: 0.7470 - accuracy: 0.77 - ETA: 1s - loss: 0.7396 - accuracy: 0.77 - ETA: 1s - loss: 0.7359 - accuracy: 0.78 - ETA: 1s - loss: 0.7364 - accuracy: 0.78 - ETA: 1s - loss: 0.7381 - accuracy: 0.78 - ETA: 1s - loss: 0.7386 - accuracy: 0.78 - ETA: 1s - loss: 0.7367 - accuracy: 0.78 - ETA: 1s - loss: 0.7312 - accuracy: 0.78 - ETA: 1s - loss: 0.7340 - accuracy: 0.78 - ETA: 1s - loss: 0.7341 - accuracy: 0.78 - ETA: 1s - loss: 0.7339 - accuracy: 0.78 - ETA: 1s - loss: 0.7345 - accuracy: 0.78 - ETA: 1s - loss: 0.7331 - accuracy: 0.78 - ETA: 1s - loss: 0.7333 - accuracy: 0.78 - ETA: 1s - loss: 0.7342 - accuracy: 0.77 - ETA: 0s - loss: 0.7368 - accuracy: 0.77 - ETA: 0s - loss: 0.7359 - accuracy: 0.77 - ETA: 0s - loss: 0.7339 - accuracy: 0.78 - ETA: 0s - loss: 0.7341 - accuracy: 0.77 - ETA: 0s - loss: 0.7336 - accuracy: 0.78 - ETA: 0s - loss: 0.7328 - accuracy: 0.78 - ETA: 0s - loss: 0.7322 - accuracy: 0.78 - ETA: 0s - loss: 0.7330 - accuracy: 0.78 - ETA: 0s - loss: 0.7342 - accuracy: 0.77 - ETA: 0s - loss: 0.7342 - accuracy: 0.77 - ETA: 0s - loss: 0.7332 - accuracy: 0.77 - ETA: 0s - loss: 0.7328 - accuracy: 0.77 - ETA: 0s - loss: 0.7334 - accuracy: 0.77 - ETA: 0s - loss: 0.7328 - accuracy: 0.78 - ETA: 0s - loss: 0.7334 - accuracy: 0.78 - ETA: 0s - loss: 0.7345 - accuracy: 0.77 - ETA: 0s - loss: 0.7353 - accuracy: 0.77 - ETA: 0s - loss: 0.7358 - accuracy: 0.77 - ETA: 0s - loss: 0.7355 - accuracy: 0.77 - ETA: 0s - loss: 0.7347 - accuracy: 0.77 - 2s 849us/step - loss: 0.7348 - accuracy: 0.7795 - val_loss: 0.7689 - val_accuracy: 0.7703\n",
      "Epoch 20/32\n",
      "2500/2500 [==============================] - ETA: 0s - loss: 0.4836 - accuracy: 0.81 - ETA: 1s - loss: 0.7248 - accuracy: 0.77 - ETA: 1s - loss: 0.7379 - accuracy: 0.77 - ETA: 1s - loss: 0.7172 - accuracy: 0.78 - ETA: 1s - loss: 0.7096 - accuracy: 0.78 - ETA: 1s - loss: 0.7138 - accuracy: 0.78 - ETA: 1s - loss: 0.7237 - accuracy: 0.78 - ETA: 1s - loss: 0.7194 - accuracy: 0.78 - ETA: 1s - loss: 0.7250 - accuracy: 0.78 - ETA: 1s - loss: 0.7226 - accuracy: 0.78 - ETA: 1s - loss: 0.7253 - accuracy: 0.78 - ETA: 1s - loss: 0.7231 - accuracy: 0.78 - ETA: 1s - loss: 0.7250 - accuracy: 0.78 - ETA: 1s - loss: 0.7298 - accuracy: 0.78 - ETA: 1s - loss: 0.7337 - accuracy: 0.78 - ETA: 1s - loss: 0.7355 - accuracy: 0.78 - ETA: 1s - loss: 0.7328 - accuracy: 0.78 - ETA: 1s - loss: 0.7308 - accuracy: 0.78 - ETA: 1s - loss: 0.7297 - accuracy: 0.78 - ETA: 1s - loss: 0.7303 - accuracy: 0.78 - ETA: 0s - loss: 0.7298 - accuracy: 0.78 - ETA: 0s - loss: 0.7283 - accuracy: 0.78 - ETA: 0s - loss: 0.7290 - accuracy: 0.78 - ETA: 0s - loss: 0.7299 - accuracy: 0.78 - ETA: 0s - loss: 0.7303 - accuracy: 0.78 - ETA: 0s - loss: 0.7304 - accuracy: 0.78 - ETA: 0s - loss: 0.7315 - accuracy: 0.78 - ETA: 0s - loss: 0.7320 - accuracy: 0.78 - ETA: 0s - loss: 0.7319 - accuracy: 0.78 - ETA: 0s - loss: 0.7321 - accuracy: 0.78 - ETA: 0s - loss: 0.7319 - accuracy: 0.78 - ETA: 0s - loss: 0.7317 - accuracy: 0.78 - ETA: 0s - loss: 0.7305 - accuracy: 0.78 - ETA: 0s - loss: 0.7299 - accuracy: 0.78 - ETA: 0s - loss: 0.7297 - accuracy: 0.78 - ETA: 0s - loss: 0.7297 - accuracy: 0.78 - ETA: 0s - loss: 0.7289 - accuracy: 0.78 - ETA: 0s - loss: 0.7289 - accuracy: 0.78 - ETA: 0s - loss: 0.7292 - accuracy: 0.78 - ETA: 0s - loss: 0.7296 - accuracy: 0.78 - 2s 864us/step - loss: 0.7298 - accuracy: 0.7821 - val_loss: 0.7619 - val_accuracy: 0.7718\n",
      "Epoch 21/32\n",
      "2500/2500 [==============================] - ETA: 0s - loss: 0.6680 - accuracy: 0.75 - ETA: 1s - loss: 0.7109 - accuracy: 0.78 - ETA: 1s - loss: 0.7151 - accuracy: 0.78 - ETA: 1s - loss: 0.7177 - accuracy: 0.78 - ETA: 1s - loss: 0.7100 - accuracy: 0.78 - ETA: 1s - loss: 0.7175 - accuracy: 0.78 - ETA: 1s - loss: 0.7196 - accuracy: 0.78 - ETA: 1s - loss: 0.7209 - accuracy: 0.78 - ETA: 1s - loss: 0.7257 - accuracy: 0.78 - ETA: 1s - loss: 0.7283 - accuracy: 0.78 - ETA: 1s - loss: 0.7302 - accuracy: 0.78 - ETA: 1s - loss: 0.7272 - accuracy: 0.78 - ETA: 1s - loss: 0.7260 - accuracy: 0.78 - ETA: 1s - loss: 0.7249 - accuracy: 0.78 - ETA: 1s - loss: 0.7251 - accuracy: 0.78 - ETA: 1s - loss: 0.7272 - accuracy: 0.78 - ETA: 1s - loss: 0.7267 - accuracy: 0.78 - ETA: 1s - loss: 0.7265 - accuracy: 0.78 - ETA: 1s - loss: 0.7252 - accuracy: 0.78 - ETA: 0s - loss: 0.7266 - accuracy: 0.78 - ETA: 0s - loss: 0.7267 - accuracy: 0.78 - ETA: 0s - loss: 0.7282 - accuracy: 0.78 - ETA: 0s - loss: 0.7275 - accuracy: 0.78 - ETA: 0s - loss: 0.7249 - accuracy: 0.78 - ETA: 0s - loss: 0.7260 - accuracy: 0.78 - ETA: 0s - loss: 0.7259 - accuracy: 0.78 - ETA: 0s - loss: 0.7250 - accuracy: 0.78 - ETA: 0s - loss: 0.7249 - accuracy: 0.78 - ETA: 0s - loss: 0.7248 - accuracy: 0.78 - ETA: 0s - loss: 0.7251 - accuracy: 0.78 - ETA: 0s - loss: 0.7259 - accuracy: 0.78 - ETA: 0s - loss: 0.7263 - accuracy: 0.78 - ETA: 0s - loss: 0.7263 - accuracy: 0.78 - ETA: 0s - loss: 0.7266 - accuracy: 0.78 - ETA: 0s - loss: 0.7258 - accuracy: 0.78 - ETA: 0s - loss: 0.7259 - accuracy: 0.78 - ETA: 0s - loss: 0.7249 - accuracy: 0.78 - ETA: 0s - loss: 0.7240 - accuracy: 0.78 - ETA: 0s - loss: 0.7234 - accuracy: 0.78 - 2s 844us/step - loss: 0.7248 - accuracy: 0.7829 - val_loss: 0.7663 - val_accuracy: 0.7735\n",
      "Epoch 22/32\n",
      "2500/2500 [==============================] - ETA: 0s - loss: 0.9484 - accuracy: 0.68 - ETA: 1s - loss: 0.7263 - accuracy: 0.78 - ETA: 1s - loss: 0.7008 - accuracy: 0.79 - ETA: 1s - loss: 0.7176 - accuracy: 0.78 - ETA: 1s - loss: 0.7310 - accuracy: 0.78 - ETA: 1s - loss: 0.7244 - accuracy: 0.78 - ETA: 1s - loss: 0.7238 - accuracy: 0.78 - ETA: 1s - loss: 0.7276 - accuracy: 0.78 - ETA: 1s - loss: 0.7243 - accuracy: 0.78 - ETA: 1s - loss: 0.7195 - accuracy: 0.78 - ETA: 1s - loss: 0.7190 - accuracy: 0.78 - ETA: 1s - loss: 0.7177 - accuracy: 0.78 - ETA: 1s - loss: 0.7167 - accuracy: 0.78 - ETA: 1s - loss: 0.7156 - accuracy: 0.78 - ETA: 1s - loss: 0.7162 - accuracy: 0.78 - ETA: 1s - loss: 0.7185 - accuracy: 0.78 - ETA: 1s - loss: 0.7176 - accuracy: 0.78 - ETA: 1s - loss: 0.7191 - accuracy: 0.78 - ETA: 1s - loss: 0.7197 - accuracy: 0.78 - ETA: 0s - loss: 0.7186 - accuracy: 0.78 - ETA: 0s - loss: 0.7188 - accuracy: 0.78 - ETA: 0s - loss: 0.7195 - accuracy: 0.78 - ETA: 0s - loss: 0.7201 - accuracy: 0.78 - ETA: 0s - loss: 0.7213 - accuracy: 0.78 - ETA: 0s - loss: 0.7208 - accuracy: 0.78 - ETA: 0s - loss: 0.7190 - accuracy: 0.78 - ETA: 0s - loss: 0.7182 - accuracy: 0.78 - ETA: 0s - loss: 0.7184 - accuracy: 0.78 - ETA: 0s - loss: 0.7178 - accuracy: 0.78 - ETA: 0s - loss: 0.7187 - accuracy: 0.78 - ETA: 0s - loss: 0.7184 - accuracy: 0.78 - ETA: 0s - loss: 0.7192 - accuracy: 0.78 - ETA: 0s - loss: 0.7192 - accuracy: 0.78 - ETA: 0s - loss: 0.7199 - accuracy: 0.78 - ETA: 0s - loss: 0.7192 - accuracy: 0.78 - ETA: 0s - loss: 0.7193 - accuracy: 0.78 - ETA: 0s - loss: 0.7196 - accuracy: 0.78 - ETA: 0s - loss: 0.7201 - accuracy: 0.78 - ETA: 0s - loss: 0.7197 - accuracy: 0.78 - 2s 840us/step - loss: 0.7201 - accuracy: 0.7836 - val_loss: 0.7599 - val_accuracy: 0.7699\n",
      "Epoch 23/32\n",
      "2500/2500 [==============================] - ETA: 0s - loss: 0.7608 - accuracy: 0.75 - ETA: 1s - loss: 0.7080 - accuracy: 0.78 - ETA: 1s - loss: 0.7022 - accuracy: 0.79 - ETA: 1s - loss: 0.7107 - accuracy: 0.78 - ETA: 1s - loss: 0.7169 - accuracy: 0.78 - ETA: 1s - loss: 0.7057 - accuracy: 0.78 - ETA: 1s - loss: 0.7037 - accuracy: 0.79 - ETA: 1s - loss: 0.7065 - accuracy: 0.78 - ETA: 1s - loss: 0.7078 - accuracy: 0.78 - ETA: 1s - loss: 0.7093 - accuracy: 0.78 - ETA: 1s - loss: 0.7100 - accuracy: 0.78 - ETA: 1s - loss: 0.7105 - accuracy: 0.78 - ETA: 1s - loss: 0.7134 - accuracy: 0.78 - ETA: 1s - loss: 0.7137 - accuracy: 0.78 - ETA: 1s - loss: 0.7124 - accuracy: 0.78 - ETA: 1s - loss: 0.7162 - accuracy: 0.78 - ETA: 1s - loss: 0.7133 - accuracy: 0.78 - ETA: 1s - loss: 0.7132 - accuracy: 0.78 - ETA: 0s - loss: 0.7140 - accuracy: 0.78 - ETA: 0s - loss: 0.7141 - accuracy: 0.78 - ETA: 0s - loss: 0.7134 - accuracy: 0.78 - ETA: 0s - loss: 0.7133 - accuracy: 0.78 - ETA: 0s - loss: 0.7132 - accuracy: 0.78 - ETA: 0s - loss: 0.7125 - accuracy: 0.78 - ETA: 0s - loss: 0.7122 - accuracy: 0.78 - ETA: 0s - loss: 0.7114 - accuracy: 0.78 - ETA: 0s - loss: 0.7114 - accuracy: 0.78 - ETA: 0s - loss: 0.7128 - accuracy: 0.78 - ETA: 0s - loss: 0.7127 - accuracy: 0.78 - ETA: 0s - loss: 0.7132 - accuracy: 0.78 - ETA: 0s - loss: 0.7133 - accuracy: 0.78 - ETA: 0s - loss: 0.7130 - accuracy: 0.78 - ETA: 0s - loss: 0.7120 - accuracy: 0.78 - ETA: 0s - loss: 0.7124 - accuracy: 0.78 - ETA: 0s - loss: 0.7127 - accuracy: 0.78 - ETA: 0s - loss: 0.7138 - accuracy: 0.78 - ETA: 0s - loss: 0.7135 - accuracy: 0.78 - ETA: 0s - loss: 0.7131 - accuracy: 0.78 - ETA: 0s - loss: 0.7128 - accuracy: 0.78 - 2s 831us/step - loss: 0.7136 - accuracy: 0.7867 - val_loss: 0.7608 - val_accuracy: 0.7714\n",
      "Epoch 24/32\n",
      "2500/2500 [==============================] - ETA: 0s - loss: 0.3132 - accuracy: 0.93 - ETA: 1s - loss: 0.7215 - accuracy: 0.79 - ETA: 1s - loss: 0.6930 - accuracy: 0.79 - ETA: 1s - loss: 0.7022 - accuracy: 0.78 - ETA: 1s - loss: 0.6947 - accuracy: 0.79 - ETA: 1s - loss: 0.6989 - accuracy: 0.78 - ETA: 1s - loss: 0.7022 - accuracy: 0.78 - ETA: 1s - loss: 0.7033 - accuracy: 0.78 - ETA: 1s - loss: 0.7081 - accuracy: 0.78 - ETA: 1s - loss: 0.7086 - accuracy: 0.78 - ETA: 1s - loss: 0.7105 - accuracy: 0.78 - ETA: 1s - loss: 0.7102 - accuracy: 0.78 - ETA: 1s - loss: 0.7083 - accuracy: 0.78 - ETA: 1s - loss: 0.7089 - accuracy: 0.78 - ETA: 1s - loss: 0.7068 - accuracy: 0.78 - ETA: 1s - loss: 0.7033 - accuracy: 0.79 - ETA: 1s - loss: 0.7020 - accuracy: 0.79 - ETA: 1s - loss: 0.7019 - accuracy: 0.79 - ETA: 0s - loss: 0.7027 - accuracy: 0.79 - ETA: 0s - loss: 0.7039 - accuracy: 0.78 - ETA: 0s - loss: 0.7059 - accuracy: 0.78 - ETA: 0s - loss: 0.7076 - accuracy: 0.78 - ETA: 0s - loss: 0.7089 - accuracy: 0.78 - ETA: 0s - loss: 0.7110 - accuracy: 0.78 - ETA: 0s - loss: 0.7107 - accuracy: 0.78 - ETA: 0s - loss: 0.7114 - accuracy: 0.78 - ETA: 0s - loss: 0.7112 - accuracy: 0.78 - ETA: 0s - loss: 0.7124 - accuracy: 0.78 - ETA: 0s - loss: 0.7130 - accuracy: 0.78 - ETA: 0s - loss: 0.7119 - accuracy: 0.78 - ETA: 0s - loss: 0.7125 - accuracy: 0.78 - ETA: 0s - loss: 0.7115 - accuracy: 0.78 - ETA: 0s - loss: 0.7116 - accuracy: 0.78 - ETA: 0s - loss: 0.7097 - accuracy: 0.78 - ETA: 0s - loss: 0.7098 - accuracy: 0.78 - ETA: 0s - loss: 0.7098 - accuracy: 0.78 - ETA: 0s - loss: 0.7110 - accuracy: 0.78 - ETA: 0s - loss: 0.7097 - accuracy: 0.78 - ETA: 0s - loss: 0.7095 - accuracy: 0.78 - 2s 827us/step - loss: 0.7098 - accuracy: 0.7873 - val_loss: 0.7604 - val_accuracy: 0.7709\n",
      "Epoch 25/32\n",
      "2500/2500 [==============================] - ETA: 0s - loss: 0.6243 - accuracy: 0.78 - ETA: 1s - loss: 0.6866 - accuracy: 0.79 - ETA: 1s - loss: 0.7126 - accuracy: 0.78 - ETA: 1s - loss: 0.7064 - accuracy: 0.78 - ETA: 1s - loss: 0.7010 - accuracy: 0.79 - ETA: 1s - loss: 0.7035 - accuracy: 0.78 - ETA: 1s - loss: 0.7083 - accuracy: 0.78 - ETA: 1s - loss: 0.7113 - accuracy: 0.78 - ETA: 1s - loss: 0.7091 - accuracy: 0.78 - ETA: 1s - loss: 0.7065 - accuracy: 0.78 - ETA: 1s - loss: 0.7093 - accuracy: 0.78 - ETA: 1s - loss: 0.7048 - accuracy: 0.78 - ETA: 1s - loss: 0.7081 - accuracy: 0.78 - ETA: 1s - loss: 0.7073 - accuracy: 0.78 - ETA: 1s - loss: 0.7060 - accuracy: 0.78 - ETA: 1s - loss: 0.7042 - accuracy: 0.78 - ETA: 1s - loss: 0.7033 - accuracy: 0.78 - ETA: 1s - loss: 0.7018 - accuracy: 0.78 - ETA: 1s - loss: 0.7005 - accuracy: 0.78 - ETA: 0s - loss: 0.7025 - accuracy: 0.78 - ETA: 0s - loss: 0.7019 - accuracy: 0.78 - ETA: 0s - loss: 0.7017 - accuracy: 0.78 - ETA: 0s - loss: 0.7021 - accuracy: 0.78 - ETA: 0s - loss: 0.7019 - accuracy: 0.78 - ETA: 0s - loss: 0.7010 - accuracy: 0.78 - ETA: 0s - loss: 0.7012 - accuracy: 0.78 - ETA: 0s - loss: 0.7028 - accuracy: 0.78 - ETA: 0s - loss: 0.7027 - accuracy: 0.78 - ETA: 0s - loss: 0.7040 - accuracy: 0.78 - ETA: 0s - loss: 0.7044 - accuracy: 0.78 - ETA: 0s - loss: 0.7053 - accuracy: 0.78 - ETA: 0s - loss: 0.7061 - accuracy: 0.78 - ETA: 0s - loss: 0.7046 - accuracy: 0.78 - ETA: 0s - loss: 0.7051 - accuracy: 0.78 - ETA: 0s - loss: 0.7052 - accuracy: 0.78 - ETA: 0s - loss: 0.7049 - accuracy: 0.78 - ETA: 0s - loss: 0.7048 - accuracy: 0.78 - ETA: 0s - loss: 0.7056 - accuracy: 0.78 - ETA: 0s - loss: 0.7062 - accuracy: 0.78 - 2s 844us/step - loss: 0.7069 - accuracy: 0.7879 - val_loss: 0.7522 - val_accuracy: 0.7743\n",
      "Epoch 26/32\n",
      "2500/2500 [==============================] - ETA: 0s - loss: 0.6540 - accuracy: 0.78 - ETA: 1s - loss: 0.6979 - accuracy: 0.78 - ETA: 1s - loss: 0.6882 - accuracy: 0.78 - ETA: 1s - loss: 0.6877 - accuracy: 0.79 - ETA: 1s - loss: 0.7040 - accuracy: 0.78 - ETA: 1s - loss: 0.7032 - accuracy: 0.78 - ETA: 1s - loss: 0.7014 - accuracy: 0.78 - ETA: 1s - loss: 0.6976 - accuracy: 0.78 - ETA: 1s - loss: 0.6959 - accuracy: 0.78 - ETA: 1s - loss: 0.6992 - accuracy: 0.78 - ETA: 1s - loss: 0.6993 - accuracy: 0.78 - ETA: 1s - loss: 0.6981 - accuracy: 0.78 - ETA: 1s - loss: 0.7022 - accuracy: 0.78 - ETA: 1s - loss: 0.7024 - accuracy: 0.78 - ETA: 1s - loss: 0.6997 - accuracy: 0.78 - ETA: 1s - loss: 0.7002 - accuracy: 0.78 - ETA: 1s - loss: 0.6990 - accuracy: 0.78 - ETA: 1s - loss: 0.6988 - accuracy: 0.78 - ETA: 1s - loss: 0.6992 - accuracy: 0.78 - ETA: 0s - loss: 0.6977 - accuracy: 0.78 - ETA: 0s - loss: 0.6969 - accuracy: 0.79 - ETA: 0s - loss: 0.7007 - accuracy: 0.78 - ETA: 0s - loss: 0.6989 - accuracy: 0.79 - ETA: 0s - loss: 0.6973 - accuracy: 0.79 - ETA: 0s - loss: 0.6981 - accuracy: 0.79 - ETA: 0s - loss: 0.6983 - accuracy: 0.79 - ETA: 0s - loss: 0.6983 - accuracy: 0.79 - ETA: 0s - loss: 0.6980 - accuracy: 0.79 - ETA: 0s - loss: 0.6992 - accuracy: 0.79 - ETA: 0s - loss: 0.6996 - accuracy: 0.78 - ETA: 0s - loss: 0.6993 - accuracy: 0.79 - ETA: 0s - loss: 0.7013 - accuracy: 0.78 - ETA: 0s - loss: 0.7030 - accuracy: 0.78 - ETA: 0s - loss: 0.7036 - accuracy: 0.78 - ETA: 0s - loss: 0.7038 - accuracy: 0.78 - ETA: 0s - loss: 0.7038 - accuracy: 0.78 - ETA: 0s - loss: 0.7022 - accuracy: 0.78 - ETA: 0s - loss: 0.7017 - accuracy: 0.78 - ETA: 0s - loss: 0.7015 - accuracy: 0.78 - 2s 842us/step - loss: 0.7017 - accuracy: 0.7894 - val_loss: 0.7447 - val_accuracy: 0.7760\n",
      "Epoch 27/32\n",
      "2500/2500 [==============================] - ETA: 0s - loss: 0.5311 - accuracy: 0.84 - ETA: 1s - loss: 0.7182 - accuracy: 0.77 - ETA: 1s - loss: 0.6972 - accuracy: 0.78 - ETA: 1s - loss: 0.6901 - accuracy: 0.79 - ETA: 1s - loss: 0.6920 - accuracy: 0.79 - ETA: 1s - loss: 0.6815 - accuracy: 0.79 - ETA: 1s - loss: 0.6893 - accuracy: 0.79 - ETA: 1s - loss: 0.6894 - accuracy: 0.79 - ETA: 1s - loss: 0.6886 - accuracy: 0.79 - ETA: 1s - loss: 0.6901 - accuracy: 0.79 - ETA: 1s - loss: 0.6935 - accuracy: 0.79 - ETA: 1s - loss: 0.6905 - accuracy: 0.79 - ETA: 1s - loss: 0.6915 - accuracy: 0.79 - ETA: 1s - loss: 0.6944 - accuracy: 0.79 - ETA: 1s - loss: 0.6954 - accuracy: 0.79 - ETA: 1s - loss: 0.6924 - accuracy: 0.79 - ETA: 1s - loss: 0.6927 - accuracy: 0.79 - ETA: 1s - loss: 0.6931 - accuracy: 0.79 - ETA: 1s - loss: 0.6923 - accuracy: 0.79 - ETA: 0s - loss: 0.6925 - accuracy: 0.79 - ETA: 0s - loss: 0.6907 - accuracy: 0.79 - ETA: 0s - loss: 0.6893 - accuracy: 0.79 - ETA: 0s - loss: 0.6903 - accuracy: 0.79 - ETA: 0s - loss: 0.6906 - accuracy: 0.79 - ETA: 0s - loss: 0.6944 - accuracy: 0.79 - ETA: 0s - loss: 0.6936 - accuracy: 0.79 - ETA: 0s - loss: 0.6951 - accuracy: 0.79 - ETA: 0s - loss: 0.6950 - accuracy: 0.79 - ETA: 0s - loss: 0.6953 - accuracy: 0.79 - ETA: 0s - loss: 0.6942 - accuracy: 0.79 - ETA: 0s - loss: 0.6943 - accuracy: 0.79 - ETA: 0s - loss: 0.6941 - accuracy: 0.79 - ETA: 0s - loss: 0.6944 - accuracy: 0.79 - ETA: 0s - loss: 0.6944 - accuracy: 0.79 - ETA: 0s - loss: 0.6942 - accuracy: 0.79 - ETA: 0s - loss: 0.6947 - accuracy: 0.79 - ETA: 0s - loss: 0.6952 - accuracy: 0.79 - ETA: 0s - loss: 0.6961 - accuracy: 0.79 - ETA: 0s - loss: 0.6967 - accuracy: 0.79 - 2s 825us/step - loss: 0.6964 - accuracy: 0.7901 - val_loss: 0.7490 - val_accuracy: 0.7722\n",
      "Epoch 28/32\n",
      "2500/2500 [==============================] - ETA: 0s - loss: 0.7930 - accuracy: 0.71 - ETA: 1s - loss: 0.6610 - accuracy: 0.80 - ETA: 1s - loss: 0.6534 - accuracy: 0.80 - ETA: 1s - loss: 0.6470 - accuracy: 0.81 - ETA: 1s - loss: 0.6573 - accuracy: 0.80 - ETA: 1s - loss: 0.6695 - accuracy: 0.80 - ETA: 1s - loss: 0.6785 - accuracy: 0.79 - ETA: 1s - loss: 0.6758 - accuracy: 0.79 - ETA: 1s - loss: 0.6808 - accuracy: 0.79 - ETA: 1s - loss: 0.6810 - accuracy: 0.79 - ETA: 1s - loss: 0.6836 - accuracy: 0.79 - ETA: 1s - loss: 0.6871 - accuracy: 0.79 - ETA: 1s - loss: 0.6872 - accuracy: 0.79 - ETA: 1s - loss: 0.6881 - accuracy: 0.79 - ETA: 1s - loss: 0.6876 - accuracy: 0.79 - ETA: 1s - loss: 0.6882 - accuracy: 0.79 - ETA: 1s - loss: 0.6877 - accuracy: 0.79 - ETA: 1s - loss: 0.6900 - accuracy: 0.79 - ETA: 1s - loss: 0.6909 - accuracy: 0.79 - ETA: 0s - loss: 0.6912 - accuracy: 0.79 - ETA: 0s - loss: 0.6889 - accuracy: 0.79 - ETA: 0s - loss: 0.6920 - accuracy: 0.79 - ETA: 0s - loss: 0.6908 - accuracy: 0.79 - ETA: 0s - loss: 0.6926 - accuracy: 0.79 - ETA: 0s - loss: 0.6920 - accuracy: 0.79 - ETA: 0s - loss: 0.6924 - accuracy: 0.79 - ETA: 0s - loss: 0.6923 - accuracy: 0.79 - ETA: 0s - loss: 0.6926 - accuracy: 0.79 - ETA: 0s - loss: 0.6930 - accuracy: 0.79 - ETA: 0s - loss: 0.6927 - accuracy: 0.79 - ETA: 0s - loss: 0.6930 - accuracy: 0.79 - ETA: 0s - loss: 0.6928 - accuracy: 0.79 - ETA: 0s - loss: 0.6938 - accuracy: 0.79 - ETA: 0s - loss: 0.6931 - accuracy: 0.79 - ETA: 0s - loss: 0.6922 - accuracy: 0.79 - ETA: 0s - loss: 0.6925 - accuracy: 0.79 - ETA: 0s - loss: 0.6921 - accuracy: 0.79 - ETA: 0s - loss: 0.6919 - accuracy: 0.79 - ETA: 0s - loss: 0.6922 - accuracy: 0.79 - 2s 842us/step - loss: 0.6924 - accuracy: 0.7928 - val_loss: 0.7422 - val_accuracy: 0.7762\n",
      "Epoch 29/32\n",
      "2500/2500 [==============================] - ETA: 0s - loss: 0.6131 - accuracy: 0.81 - ETA: 1s - loss: 0.7038 - accuracy: 0.78 - ETA: 1s - loss: 0.6955 - accuracy: 0.79 - ETA: 1s - loss: 0.6970 - accuracy: 0.79 - ETA: 1s - loss: 0.7032 - accuracy: 0.78 - ETA: 1s - loss: 0.7059 - accuracy: 0.78 - ETA: 1s - loss: 0.7040 - accuracy: 0.78 - ETA: 1s - loss: 0.7030 - accuracy: 0.78 - ETA: 1s - loss: 0.6958 - accuracy: 0.79 - ETA: 1s - loss: 0.6995 - accuracy: 0.78 - ETA: 1s - loss: 0.6981 - accuracy: 0.79 - ETA: 1s - loss: 0.6919 - accuracy: 0.79 - ETA: 1s - loss: 0.6926 - accuracy: 0.79 - ETA: 1s - loss: 0.6936 - accuracy: 0.79 - ETA: 1s - loss: 0.6929 - accuracy: 0.79 - ETA: 1s - loss: 0.6908 - accuracy: 0.79 - ETA: 1s - loss: 0.6895 - accuracy: 0.79 - ETA: 1s - loss: 0.6891 - accuracy: 0.79 - ETA: 1s - loss: 0.6896 - accuracy: 0.79 - ETA: 0s - loss: 0.6875 - accuracy: 0.79 - ETA: 0s - loss: 0.6900 - accuracy: 0.79 - ETA: 0s - loss: 0.6900 - accuracy: 0.79 - ETA: 0s - loss: 0.6917 - accuracy: 0.79 - ETA: 0s - loss: 0.6932 - accuracy: 0.79 - ETA: 0s - loss: 0.6923 - accuracy: 0.79 - ETA: 0s - loss: 0.6923 - accuracy: 0.79 - ETA: 0s - loss: 0.6913 - accuracy: 0.79 - ETA: 0s - loss: 0.6923 - accuracy: 0.79 - ETA: 0s - loss: 0.6923 - accuracy: 0.79 - ETA: 0s - loss: 0.6914 - accuracy: 0.79 - ETA: 0s - loss: 0.6911 - accuracy: 0.79 - ETA: 0s - loss: 0.6899 - accuracy: 0.79 - ETA: 0s - loss: 0.6897 - accuracy: 0.79 - ETA: 0s - loss: 0.6886 - accuracy: 0.79 - ETA: 0s - loss: 0.6890 - accuracy: 0.79 - ETA: 0s - loss: 0.6887 - accuracy: 0.79 - ETA: 0s - loss: 0.6894 - accuracy: 0.79 - ETA: 0s - loss: 0.6898 - accuracy: 0.79 - ETA: 0s - loss: 0.6907 - accuracy: 0.79 - 2s 848us/step - loss: 0.6912 - accuracy: 0.7935 - val_loss: 0.7400 - val_accuracy: 0.7767\n",
      "Epoch 30/32\n",
      "2500/2500 [==============================] - ETA: 0s - loss: 0.6820 - accuracy: 0.81 - ETA: 1s - loss: 0.6381 - accuracy: 0.80 - ETA: 1s - loss: 0.6672 - accuracy: 0.79 - ETA: 1s - loss: 0.6600 - accuracy: 0.79 - ETA: 1s - loss: 0.6640 - accuracy: 0.79 - ETA: 1s - loss: 0.6758 - accuracy: 0.79 - ETA: 1s - loss: 0.6816 - accuracy: 0.79 - ETA: 1s - loss: 0.6777 - accuracy: 0.79 - ETA: 1s - loss: 0.6778 - accuracy: 0.79 - ETA: 1s - loss: 0.6778 - accuracy: 0.79 - ETA: 1s - loss: 0.6832 - accuracy: 0.79 - ETA: 1s - loss: 0.6861 - accuracy: 0.79 - ETA: 1s - loss: 0.6849 - accuracy: 0.79 - ETA: 1s - loss: 0.6850 - accuracy: 0.79 - ETA: 1s - loss: 0.6842 - accuracy: 0.79 - ETA: 1s - loss: 0.6838 - accuracy: 0.79 - ETA: 1s - loss: 0.6863 - accuracy: 0.79 - ETA: 1s - loss: 0.6849 - accuracy: 0.79 - ETA: 0s - loss: 0.6881 - accuracy: 0.79 - ETA: 0s - loss: 0.6882 - accuracy: 0.79 - ETA: 0s - loss: 0.6889 - accuracy: 0.79 - ETA: 0s - loss: 0.6901 - accuracy: 0.79 - ETA: 0s - loss: 0.6886 - accuracy: 0.79 - ETA: 0s - loss: 0.6888 - accuracy: 0.79 - ETA: 0s - loss: 0.6868 - accuracy: 0.79 - ETA: 0s - loss: 0.6861 - accuracy: 0.79 - ETA: 0s - loss: 0.6877 - accuracy: 0.79 - ETA: 0s - loss: 0.6869 - accuracy: 0.79 - ETA: 0s - loss: 0.6865 - accuracy: 0.79 - ETA: 0s - loss: 0.6867 - accuracy: 0.79 - ETA: 0s - loss: 0.6875 - accuracy: 0.79 - ETA: 0s - loss: 0.6879 - accuracy: 0.79 - ETA: 0s - loss: 0.6887 - accuracy: 0.79 - ETA: 0s - loss: 0.6883 - accuracy: 0.79 - ETA: 0s - loss: 0.6883 - accuracy: 0.79 - ETA: 0s - loss: 0.6877 - accuracy: 0.79 - ETA: 0s - loss: 0.6883 - accuracy: 0.79 - ETA: 0s - loss: 0.6888 - accuracy: 0.79 - ETA: 0s - loss: 0.6881 - accuracy: 0.79 - 2s 834us/step - loss: 0.6881 - accuracy: 0.7945 - val_loss: 0.7378 - val_accuracy: 0.7796\n",
      "Epoch 31/32\n",
      "2500/2500 [==============================] - ETA: 0s - loss: 0.7889 - accuracy: 0.75 - ETA: 1s - loss: 0.6527 - accuracy: 0.80 - ETA: 1s - loss: 0.6600 - accuracy: 0.80 - ETA: 1s - loss: 0.6642 - accuracy: 0.80 - ETA: 1s - loss: 0.6760 - accuracy: 0.79 - ETA: 1s - loss: 0.6848 - accuracy: 0.79 - ETA: 1s - loss: 0.6955 - accuracy: 0.79 - ETA: 1s - loss: 0.6900 - accuracy: 0.79 - ETA: 1s - loss: 0.6882 - accuracy: 0.79 - ETA: 1s - loss: 0.6871 - accuracy: 0.79 - ETA: 1s - loss: 0.6839 - accuracy: 0.79 - ETA: 1s - loss: 0.6783 - accuracy: 0.79 - ETA: 1s - loss: 0.6774 - accuracy: 0.79 - ETA: 1s - loss: 0.6766 - accuracy: 0.79 - ETA: 1s - loss: 0.6767 - accuracy: 0.79 - ETA: 1s - loss: 0.6756 - accuracy: 0.79 - ETA: 1s - loss: 0.6742 - accuracy: 0.79 - ETA: 1s - loss: 0.6754 - accuracy: 0.79 - ETA: 0s - loss: 0.6794 - accuracy: 0.79 - ETA: 0s - loss: 0.6790 - accuracy: 0.79 - ETA: 0s - loss: 0.6779 - accuracy: 0.79 - ETA: 0s - loss: 0.6771 - accuracy: 0.79 - ETA: 0s - loss: 0.6784 - accuracy: 0.79 - ETA: 0s - loss: 0.6791 - accuracy: 0.79 - ETA: 0s - loss: 0.6805 - accuracy: 0.79 - ETA: 0s - loss: 0.6800 - accuracy: 0.79 - ETA: 0s - loss: 0.6798 - accuracy: 0.79 - ETA: 0s - loss: 0.6805 - accuracy: 0.79 - ETA: 0s - loss: 0.6826 - accuracy: 0.79 - ETA: 0s - loss: 0.6841 - accuracy: 0.79 - ETA: 0s - loss: 0.6840 - accuracy: 0.79 - ETA: 0s - loss: 0.6841 - accuracy: 0.79 - ETA: 0s - loss: 0.6845 - accuracy: 0.79 - ETA: 0s - loss: 0.6852 - accuracy: 0.79 - ETA: 0s - loss: 0.6852 - accuracy: 0.79 - ETA: 0s - loss: 0.6859 - accuracy: 0.79 - ETA: 0s - loss: 0.6862 - accuracy: 0.79 - ETA: 0s - loss: 0.6845 - accuracy: 0.79 - ETA: 0s - loss: 0.6843 - accuracy: 0.79 - 2s 826us/step - loss: 0.6843 - accuracy: 0.7954 - val_loss: 0.7411 - val_accuracy: 0.7767\n",
      "Epoch 32/32\n",
      "2500/2500 [==============================] - ETA: 0s - loss: 0.8603 - accuracy: 0.78 - ETA: 1s - loss: 0.7211 - accuracy: 0.77 - ETA: 1s - loss: 0.7109 - accuracy: 0.78 - ETA: 1s - loss: 0.6937 - accuracy: 0.79 - ETA: 1s - loss: 0.6891 - accuracy: 0.79 - ETA: 1s - loss: 0.6875 - accuracy: 0.79 - ETA: 1s - loss: 0.6857 - accuracy: 0.79 - ETA: 1s - loss: 0.6874 - accuracy: 0.79 - ETA: 1s - loss: 0.6863 - accuracy: 0.79 - ETA: 1s - loss: 0.6793 - accuracy: 0.79 - ETA: 1s - loss: 0.6793 - accuracy: 0.79 - ETA: 1s - loss: 0.6795 - accuracy: 0.79 - ETA: 1s - loss: 0.6806 - accuracy: 0.79 - ETA: 1s - loss: 0.6838 - accuracy: 0.79 - ETA: 1s - loss: 0.6820 - accuracy: 0.79 - ETA: 1s - loss: 0.6794 - accuracy: 0.79 - ETA: 1s - loss: 0.6781 - accuracy: 0.79 - ETA: 1s - loss: 0.6792 - accuracy: 0.79 - ETA: 1s - loss: 0.6824 - accuracy: 0.79 - ETA: 0s - loss: 0.6839 - accuracy: 0.79 - ETA: 0s - loss: 0.6820 - accuracy: 0.79 - ETA: 0s - loss: 0.6826 - accuracy: 0.79 - ETA: 0s - loss: 0.6822 - accuracy: 0.79 - ETA: 0s - loss: 0.6805 - accuracy: 0.79 - ETA: 0s - loss: 0.6811 - accuracy: 0.79 - ETA: 0s - loss: 0.6819 - accuracy: 0.79 - ETA: 0s - loss: 0.6831 - accuracy: 0.79 - ETA: 0s - loss: 0.6821 - accuracy: 0.79 - ETA: 0s - loss: 0.6812 - accuracy: 0.79 - ETA: 0s - loss: 0.6802 - accuracy: 0.79 - ETA: 0s - loss: 0.6806 - accuracy: 0.79 - ETA: 0s - loss: 0.6799 - accuracy: 0.79 - ETA: 0s - loss: 0.6792 - accuracy: 0.79 - ETA: 0s - loss: 0.6798 - accuracy: 0.79 - ETA: 0s - loss: 0.6803 - accuracy: 0.79 - ETA: 0s - loss: 0.6806 - accuracy: 0.79 - ETA: 0s - loss: 0.6825 - accuracy: 0.79 - ETA: 0s - loss: 0.6835 - accuracy: 0.79 - ETA: 0s - loss: 0.6819 - accuracy: 0.79 - 2s 833us/step - loss: 0.6819 - accuracy: 0.7963 - val_loss: 0.7408 - val_accuracy: 0.7791\n",
      "Epoch 1/32\n",
      "2500/2500 [==============================] - ETA: 0s - loss: 3.8045 - accuracy: 0.0000e+ - ETA: 1s - loss: 3.1036 - accuracy: 0.1250   - ETA: 1s - loss: 2.8658 - accuracy: 0.17 - ETA: 1s - loss: 2.7079 - accuracy: 0.19 - ETA: 1s - loss: 2.5951 - accuracy: 0.21 - ETA: 1s - loss: 2.5076 - accuracy: 0.23 - ETA: 1s - loss: 2.4408 - accuracy: 0.24 - ETA: 1s - loss: 2.3832 - accuracy: 0.25 - ETA: 1s - loss: 2.3334 - accuracy: 0.26 - ETA: 1s - loss: 2.2898 - accuracy: 0.27 - ETA: 1s - loss: 2.2486 - accuracy: 0.29 - ETA: 1s - loss: 2.2119 - accuracy: 0.30 - ETA: 1s - loss: 2.1735 - accuracy: 0.31 - ETA: 1s - loss: 2.1380 - accuracy: 0.32 - ETA: 1s - loss: 2.1061 - accuracy: 0.32 - ETA: 1s - loss: 2.0760 - accuracy: 0.33 - ETA: 1s - loss: 2.0485 - accuracy: 0.34 - ETA: 1s - loss: 2.0245 - accuracy: 0.35 - ETA: 0s - loss: 2.0000 - accuracy: 0.35 - ETA: 0s - loss: 1.9766 - accuracy: 0.36 - ETA: 0s - loss: 1.9535 - accuracy: 0.37 - ETA: 0s - loss: 1.9307 - accuracy: 0.38 - ETA: 0s - loss: 1.9106 - accuracy: 0.38 - ETA: 0s - loss: 1.8928 - accuracy: 0.39 - ETA: 0s - loss: 1.8734 - accuracy: 0.39 - ETA: 0s - loss: 1.8555 - accuracy: 0.40 - ETA: 0s - loss: 1.8401 - accuracy: 0.40 - ETA: 0s - loss: 1.8224 - accuracy: 0.41 - ETA: 0s - loss: 1.8072 - accuracy: 0.41 - ETA: 0s - loss: 1.7923 - accuracy: 0.42 - ETA: 0s - loss: 1.7775 - accuracy: 0.42 - ETA: 0s - loss: 1.7649 - accuracy: 0.43 - ETA: 0s - loss: 1.7517 - accuracy: 0.43 - ETA: 0s - loss: 1.7398 - accuracy: 0.43 - ETA: 0s - loss: 1.7271 - accuracy: 0.44 - ETA: 0s - loss: 1.7144 - accuracy: 0.44 - ETA: 0s - loss: 1.7030 - accuracy: 0.45 - ETA: 0s - loss: 1.6923 - accuracy: 0.45 - 2s 852us/step - loss: 1.6845 - accuracy: 0.4575 - val_loss: 1.2636 - val_accuracy: 0.5869\n",
      "Epoch 2/32\n",
      "2500/2500 [==============================] - ETA: 0s - loss: 1.0755 - accuracy: 0.68 - ETA: 1s - loss: 1.2406 - accuracy: 0.59 - ETA: 1s - loss: 1.2355 - accuracy: 0.59 - ETA: 1s - loss: 1.2358 - accuracy: 0.59 - ETA: 1s - loss: 1.2353 - accuracy: 0.59 - ETA: 1s - loss: 1.2359 - accuracy: 0.59 - ETA: 1s - loss: 1.2334 - accuracy: 0.59 - ETA: 1s - loss: 1.2285 - accuracy: 0.59 - ETA: 1s - loss: 1.2269 - accuracy: 0.60 - ETA: 1s - loss: 1.2254 - accuracy: 0.60 - ETA: 1s - loss: 1.2268 - accuracy: 0.60 - ETA: 1s - loss: 1.2235 - accuracy: 0.60 - ETA: 1s - loss: 1.2211 - accuracy: 0.60 - ETA: 1s - loss: 1.2179 - accuracy: 0.60 - ETA: 1s - loss: 1.2164 - accuracy: 0.60 - ETA: 1s - loss: 1.2151 - accuracy: 0.60 - ETA: 1s - loss: 1.2135 - accuracy: 0.60 - ETA: 1s - loss: 1.2095 - accuracy: 0.60 - ETA: 0s - loss: 1.2074 - accuracy: 0.60 - ETA: 0s - loss: 1.2042 - accuracy: 0.60 - ETA: 0s - loss: 1.2006 - accuracy: 0.61 - ETA: 0s - loss: 1.1988 - accuracy: 0.61 - ETA: 0s - loss: 1.1938 - accuracy: 0.61 - ETA: 0s - loss: 1.1893 - accuracy: 0.61 - ETA: 0s - loss: 1.1864 - accuracy: 0.61 - ETA: 0s - loss: 1.1845 - accuracy: 0.61 - ETA: 0s - loss: 1.1809 - accuracy: 0.61 - ETA: 0s - loss: 1.1782 - accuracy: 0.61 - ETA: 0s - loss: 1.1754 - accuracy: 0.61 - ETA: 0s - loss: 1.1735 - accuracy: 0.61 - ETA: 0s - loss: 1.1721 - accuracy: 0.62 - ETA: 0s - loss: 1.1694 - accuracy: 0.62 - ETA: 0s - loss: 1.1662 - accuracy: 0.62 - ETA: 0s - loss: 1.1646 - accuracy: 0.62 - ETA: 0s - loss: 1.1632 - accuracy: 0.62 - ETA: 0s - loss: 1.1605 - accuracy: 0.62 - ETA: 0s - loss: 1.1571 - accuracy: 0.62 - ETA: 0s - loss: 1.1558 - accuracy: 0.62 - 2s 814us/step - loss: 1.1557 - accuracy: 0.6268 - val_loss: 1.0698 - val_accuracy: 0.6618\n",
      "Epoch 3/32\n",
      "2500/2500 [==============================] - ETA: 0s - loss: 1.3137 - accuracy: 0.59 - ETA: 1s - loss: 1.1012 - accuracy: 0.64 - ETA: 1s - loss: 1.0907 - accuracy: 0.65 - ETA: 1s - loss: 1.0797 - accuracy: 0.65 - ETA: 1s - loss: 1.0872 - accuracy: 0.65 - ETA: 1s - loss: 1.0851 - accuracy: 0.65 - ETA: 1s - loss: 1.0830 - accuracy: 0.65 - ETA: 1s - loss: 1.0721 - accuracy: 0.65 - ETA: 1s - loss: 1.0651 - accuracy: 0.66 - ETA: 1s - loss: 1.0623 - accuracy: 0.66 - ETA: 1s - loss: 1.0583 - accuracy: 0.66 - ETA: 1s - loss: 1.0580 - accuracy: 0.66 - ETA: 1s - loss: 1.0547 - accuracy: 0.66 - ETA: 1s - loss: 1.0550 - accuracy: 0.66 - ETA: 1s - loss: 1.0524 - accuracy: 0.66 - ETA: 1s - loss: 1.0508 - accuracy: 0.66 - ETA: 1s - loss: 1.0525 - accuracy: 0.66 - ETA: 1s - loss: 1.0513 - accuracy: 0.66 - ETA: 0s - loss: 1.0510 - accuracy: 0.66 - ETA: 0s - loss: 1.0523 - accuracy: 0.66 - ETA: 0s - loss: 1.0499 - accuracy: 0.66 - ETA: 0s - loss: 1.0507 - accuracy: 0.66 - ETA: 0s - loss: 1.0498 - accuracy: 0.66 - ETA: 0s - loss: 1.0488 - accuracy: 0.66 - ETA: 0s - loss: 1.0469 - accuracy: 0.66 - ETA: 0s - loss: 1.0455 - accuracy: 0.66 - ETA: 0s - loss: 1.0446 - accuracy: 0.66 - ETA: 0s - loss: 1.0430 - accuracy: 0.66 - ETA: 0s - loss: 1.0408 - accuracy: 0.67 - ETA: 0s - loss: 1.0381 - accuracy: 0.67 - ETA: 0s - loss: 1.0382 - accuracy: 0.67 - ETA: 0s - loss: 1.0374 - accuracy: 0.67 - ETA: 0s - loss: 1.0364 - accuracy: 0.67 - ETA: 0s - loss: 1.0357 - accuracy: 0.67 - ETA: 0s - loss: 1.0347 - accuracy: 0.67 - ETA: 0s - loss: 1.0326 - accuracy: 0.67 - ETA: 0s - loss: 1.0304 - accuracy: 0.67 - ETA: 0s - loss: 1.0286 - accuracy: 0.67 - 2s 813us/step - loss: 1.0271 - accuracy: 0.6750 - val_loss: 0.9865 - val_accuracy: 0.6891\n",
      "Epoch 4/32\n",
      "2500/2500 [==============================] - ETA: 0s - loss: 1.1186 - accuracy: 0.65 - ETA: 1s - loss: 0.9646 - accuracy: 0.70 - ETA: 1s - loss: 0.9696 - accuracy: 0.69 - ETA: 1s - loss: 0.9724 - accuracy: 0.69 - ETA: 1s - loss: 0.9826 - accuracy: 0.69 - ETA: 1s - loss: 0.9827 - accuracy: 0.69 - ETA: 1s - loss: 0.9826 - accuracy: 0.69 - ETA: 1s - loss: 0.9784 - accuracy: 0.69 - ETA: 1s - loss: 0.9773 - accuracy: 0.69 - ETA: 1s - loss: 0.9734 - accuracy: 0.69 - ETA: 1s - loss: 0.9772 - accuracy: 0.69 - ETA: 1s - loss: 0.9752 - accuracy: 0.69 - ETA: 1s - loss: 0.9765 - accuracy: 0.69 - ETA: 1s - loss: 0.9764 - accuracy: 0.69 - ETA: 1s - loss: 0.9751 - accuracy: 0.69 - ETA: 1s - loss: 0.9733 - accuracy: 0.69 - ETA: 1s - loss: 0.9723 - accuracy: 0.69 - ETA: 1s - loss: 0.9709 - accuracy: 0.69 - ETA: 1s - loss: 0.9687 - accuracy: 0.69 - ETA: 0s - loss: 0.9669 - accuracy: 0.69 - ETA: 0s - loss: 0.9678 - accuracy: 0.69 - ETA: 0s - loss: 0.9662 - accuracy: 0.69 - ETA: 0s - loss: 0.9650 - accuracy: 0.69 - ETA: 0s - loss: 0.9647 - accuracy: 0.69 - ETA: 0s - loss: 0.9649 - accuracy: 0.69 - ETA: 0s - loss: 0.9642 - accuracy: 0.69 - ETA: 0s - loss: 0.9638 - accuracy: 0.69 - ETA: 0s - loss: 0.9630 - accuracy: 0.69 - ETA: 0s - loss: 0.9632 - accuracy: 0.69 - ETA: 0s - loss: 0.9629 - accuracy: 0.69 - ETA: 0s - loss: 0.9619 - accuracy: 0.69 - ETA: 0s - loss: 0.9618 - accuracy: 0.69 - ETA: 0s - loss: 0.9624 - accuracy: 0.69 - ETA: 0s - loss: 0.9620 - accuracy: 0.69 - ETA: 0s - loss: 0.9612 - accuracy: 0.69 - ETA: 0s - loss: 0.9593 - accuracy: 0.69 - ETA: 0s - loss: 0.9586 - accuracy: 0.69 - ETA: 0s - loss: 0.9578 - accuracy: 0.69 - 2s 818us/step - loss: 0.9579 - accuracy: 0.6965 - val_loss: 0.9327 - val_accuracy: 0.7110\n",
      "Epoch 5/32\n",
      "2500/2500 [==============================] - ETA: 0s - loss: 1.0416 - accuracy: 0.71 - ETA: 1s - loss: 0.9628 - accuracy: 0.68 - ETA: 1s - loss: 0.9431 - accuracy: 0.69 - ETA: 1s - loss: 0.9363 - accuracy: 0.69 - ETA: 1s - loss: 0.9351 - accuracy: 0.70 - ETA: 1s - loss: 0.9330 - accuracy: 0.70 - ETA: 1s - loss: 0.9357 - accuracy: 0.70 - ETA: 1s - loss: 0.9363 - accuracy: 0.70 - ETA: 1s - loss: 0.9347 - accuracy: 0.70 - ETA: 1s - loss: 0.9357 - accuracy: 0.70 - ETA: 1s - loss: 0.9316 - accuracy: 0.70 - ETA: 1s - loss: 0.9269 - accuracy: 0.70 - ETA: 1s - loss: 0.9295 - accuracy: 0.70 - ETA: 1s - loss: 0.9312 - accuracy: 0.70 - ETA: 1s - loss: 0.9313 - accuracy: 0.70 - ETA: 1s - loss: 0.9294 - accuracy: 0.71 - ETA: 1s - loss: 0.9283 - accuracy: 0.71 - ETA: 0s - loss: 0.9269 - accuracy: 0.71 - ETA: 0s - loss: 0.9251 - accuracy: 0.71 - ETA: 0s - loss: 0.9257 - accuracy: 0.71 - ETA: 0s - loss: 0.9246 - accuracy: 0.71 - ETA: 0s - loss: 0.9246 - accuracy: 0.71 - ETA: 0s - loss: 0.9235 - accuracy: 0.71 - ETA: 0s - loss: 0.9237 - accuracy: 0.71 - ETA: 0s - loss: 0.9217 - accuracy: 0.71 - ETA: 0s - loss: 0.9205 - accuracy: 0.71 - ETA: 0s - loss: 0.9207 - accuracy: 0.71 - ETA: 0s - loss: 0.9192 - accuracy: 0.71 - ETA: 0s - loss: 0.9171 - accuracy: 0.71 - ETA: 0s - loss: 0.9163 - accuracy: 0.71 - ETA: 0s - loss: 0.9165 - accuracy: 0.71 - ETA: 0s - loss: 0.9162 - accuracy: 0.71 - ETA: 0s - loss: 0.9154 - accuracy: 0.71 - ETA: 0s - loss: 0.9147 - accuracy: 0.71 - ETA: 0s - loss: 0.9145 - accuracy: 0.71 - ETA: 0s - loss: 0.9136 - accuracy: 0.71 - ETA: 0s - loss: 0.9125 - accuracy: 0.71 - ETA: 0s - loss: 0.9108 - accuracy: 0.71 - 2s 811us/step - loss: 0.9106 - accuracy: 0.7163 - val_loss: 0.9011 - val_accuracy: 0.7236\n",
      "Epoch 6/32\n",
      "2500/2500 [==============================] - ETA: 0s - loss: 0.5435 - accuracy: 0.81 - ETA: 1s - loss: 0.8793 - accuracy: 0.71 - ETA: 1s - loss: 0.8939 - accuracy: 0.71 - ETA: 1s - loss: 0.9032 - accuracy: 0.71 - ETA: 1s - loss: 0.8897 - accuracy: 0.71 - ETA: 1s - loss: 0.8889 - accuracy: 0.71 - ETA: 1s - loss: 0.8815 - accuracy: 0.72 - ETA: 1s - loss: 0.8854 - accuracy: 0.72 - ETA: 1s - loss: 0.8853 - accuracy: 0.72 - ETA: 1s - loss: 0.8856 - accuracy: 0.72 - ETA: 1s - loss: 0.8890 - accuracy: 0.72 - ETA: 1s - loss: 0.8890 - accuracy: 0.72 - ETA: 1s - loss: 0.8871 - accuracy: 0.72 - ETA: 1s - loss: 0.8875 - accuracy: 0.72 - ETA: 1s - loss: 0.8838 - accuracy: 0.72 - ETA: 1s - loss: 0.8825 - accuracy: 0.72 - ETA: 1s - loss: 0.8825 - accuracy: 0.72 - ETA: 0s - loss: 0.8806 - accuracy: 0.72 - ETA: 0s - loss: 0.8794 - accuracy: 0.72 - ETA: 0s - loss: 0.8773 - accuracy: 0.72 - ETA: 0s - loss: 0.8792 - accuracy: 0.72 - ETA: 0s - loss: 0.8812 - accuracy: 0.72 - ETA: 0s - loss: 0.8800 - accuracy: 0.72 - ETA: 0s - loss: 0.8820 - accuracy: 0.72 - ETA: 0s - loss: 0.8810 - accuracy: 0.72 - ETA: 0s - loss: 0.8796 - accuracy: 0.72 - ETA: 0s - loss: 0.8798 - accuracy: 0.72 - ETA: 0s - loss: 0.8788 - accuracy: 0.72 - ETA: 0s - loss: 0.8798 - accuracy: 0.72 - ETA: 0s - loss: 0.8785 - accuracy: 0.72 - ETA: 0s - loss: 0.8787 - accuracy: 0.72 - ETA: 0s - loss: 0.8790 - accuracy: 0.72 - ETA: 0s - loss: 0.8792 - accuracy: 0.72 - ETA: 0s - loss: 0.8794 - accuracy: 0.72 - ETA: 0s - loss: 0.8795 - accuracy: 0.72 - ETA: 0s - loss: 0.8800 - accuracy: 0.72 - ETA: 0s - loss: 0.8785 - accuracy: 0.72 - ETA: 0s - loss: 0.8767 - accuracy: 0.72 - 2s 807us/step - loss: 0.8767 - accuracy: 0.7280 - val_loss: 0.8843 - val_accuracy: 0.7289\n",
      "Epoch 7/32\n",
      "2500/2500 [==============================] - ETA: 0s - loss: 0.6833 - accuracy: 0.78 - ETA: 1s - loss: 0.8749 - accuracy: 0.73 - ETA: 1s - loss: 0.8598 - accuracy: 0.73 - ETA: 1s - loss: 0.8671 - accuracy: 0.73 - ETA: 1s - loss: 0.8670 - accuracy: 0.73 - ETA: 1s - loss: 0.8589 - accuracy: 0.73 - ETA: 1s - loss: 0.8625 - accuracy: 0.73 - ETA: 1s - loss: 0.8617 - accuracy: 0.73 - ETA: 1s - loss: 0.8626 - accuracy: 0.73 - ETA: 1s - loss: 0.8613 - accuracy: 0.73 - ETA: 1s - loss: 0.8614 - accuracy: 0.73 - ETA: 1s - loss: 0.8629 - accuracy: 0.73 - ETA: 1s - loss: 0.8615 - accuracy: 0.73 - ETA: 1s - loss: 0.8616 - accuracy: 0.73 - ETA: 1s - loss: 0.8593 - accuracy: 0.73 - ETA: 1s - loss: 0.8603 - accuracy: 0.73 - ETA: 1s - loss: 0.8628 - accuracy: 0.73 - ETA: 1s - loss: 0.8641 - accuracy: 0.73 - ETA: 0s - loss: 0.8638 - accuracy: 0.73 - ETA: 0s - loss: 0.8647 - accuracy: 0.73 - ETA: 0s - loss: 0.8642 - accuracy: 0.73 - ETA: 0s - loss: 0.8621 - accuracy: 0.73 - ETA: 0s - loss: 0.8604 - accuracy: 0.73 - ETA: 0s - loss: 0.8602 - accuracy: 0.73 - ETA: 0s - loss: 0.8609 - accuracy: 0.73 - ETA: 0s - loss: 0.8599 - accuracy: 0.73 - ETA: 0s - loss: 0.8592 - accuracy: 0.73 - ETA: 0s - loss: 0.8598 - accuracy: 0.73 - ETA: 0s - loss: 0.8593 - accuracy: 0.73 - ETA: 0s - loss: 0.8571 - accuracy: 0.73 - ETA: 0s - loss: 0.8562 - accuracy: 0.73 - ETA: 0s - loss: 0.8559 - accuracy: 0.73 - ETA: 0s - loss: 0.8559 - accuracy: 0.73 - ETA: 0s - loss: 0.8548 - accuracy: 0.73 - ETA: 0s - loss: 0.8555 - accuracy: 0.73 - ETA: 0s - loss: 0.8559 - accuracy: 0.73 - ETA: 0s - loss: 0.8549 - accuracy: 0.73 - ETA: 0s - loss: 0.8539 - accuracy: 0.73 - 2s 816us/step - loss: 0.8538 - accuracy: 0.7366 - val_loss: 0.8618 - val_accuracy: 0.7334\n",
      "Epoch 8/32\n",
      "2500/2500 [==============================] - ETA: 0s - loss: 0.9516 - accuracy: 0.65 - ETA: 1s - loss: 0.8546 - accuracy: 0.73 - ETA: 1s - loss: 0.8712 - accuracy: 0.73 - ETA: 1s - loss: 0.8433 - accuracy: 0.74 - ETA: 1s - loss: 0.8384 - accuracy: 0.74 - ETA: 1s - loss: 0.8405 - accuracy: 0.74 - ETA: 1s - loss: 0.8414 - accuracy: 0.73 - ETA: 1s - loss: 0.8396 - accuracy: 0.73 - ETA: 1s - loss: 0.8477 - accuracy: 0.73 - ETA: 1s - loss: 0.8477 - accuracy: 0.73 - ETA: 1s - loss: 0.8400 - accuracy: 0.73 - ETA: 1s - loss: 0.8383 - accuracy: 0.73 - ETA: 1s - loss: 0.8370 - accuracy: 0.74 - ETA: 1s - loss: 0.8381 - accuracy: 0.74 - ETA: 1s - loss: 0.8408 - accuracy: 0.73 - ETA: 1s - loss: 0.8420 - accuracy: 0.73 - ETA: 1s - loss: 0.8436 - accuracy: 0.73 - ETA: 1s - loss: 0.8406 - accuracy: 0.74 - ETA: 0s - loss: 0.8382 - accuracy: 0.74 - ETA: 0s - loss: 0.8397 - accuracy: 0.74 - ETA: 0s - loss: 0.8395 - accuracy: 0.74 - ETA: 0s - loss: 0.8392 - accuracy: 0.74 - ETA: 0s - loss: 0.8398 - accuracy: 0.74 - ETA: 0s - loss: 0.8375 - accuracy: 0.74 - ETA: 0s - loss: 0.8369 - accuracy: 0.74 - ETA: 0s - loss: 0.8359 - accuracy: 0.74 - ETA: 0s - loss: 0.8343 - accuracy: 0.74 - ETA: 0s - loss: 0.8350 - accuracy: 0.74 - ETA: 0s - loss: 0.8357 - accuracy: 0.74 - ETA: 0s - loss: 0.8358 - accuracy: 0.74 - ETA: 0s - loss: 0.8363 - accuracy: 0.74 - ETA: 0s - loss: 0.8361 - accuracy: 0.74 - ETA: 0s - loss: 0.8363 - accuracy: 0.74 - ETA: 0s - loss: 0.8364 - accuracy: 0.74 - ETA: 0s - loss: 0.8368 - accuracy: 0.74 - ETA: 0s - loss: 0.8368 - accuracy: 0.74 - ETA: 0s - loss: 0.8366 - accuracy: 0.74 - ETA: 0s - loss: 0.8366 - accuracy: 0.74 - 2s 808us/step - loss: 0.8361 - accuracy: 0.7425 - val_loss: 0.8564 - val_accuracy: 0.7384\n",
      "Epoch 9/32\n",
      "2500/2500 [==============================] - ETA: 0s - loss: 0.6243 - accuracy: 0.78 - ETA: 1s - loss: 0.8479 - accuracy: 0.73 - ETA: 1s - loss: 0.8526 - accuracy: 0.73 - ETA: 1s - loss: 0.8535 - accuracy: 0.73 - ETA: 1s - loss: 0.8501 - accuracy: 0.73 - ETA: 1s - loss: 0.8416 - accuracy: 0.74 - ETA: 1s - loss: 0.8418 - accuracy: 0.74 - ETA: 1s - loss: 0.8326 - accuracy: 0.74 - ETA: 1s - loss: 0.8302 - accuracy: 0.74 - ETA: 1s - loss: 0.8281 - accuracy: 0.74 - ETA: 1s - loss: 0.8292 - accuracy: 0.74 - ETA: 1s - loss: 0.8281 - accuracy: 0.74 - ETA: 1s - loss: 0.8256 - accuracy: 0.74 - ETA: 1s - loss: 0.8263 - accuracy: 0.74 - ETA: 1s - loss: 0.8258 - accuracy: 0.74 - ETA: 1s - loss: 0.8258 - accuracy: 0.74 - ETA: 1s - loss: 0.8233 - accuracy: 0.74 - ETA: 1s - loss: 0.8237 - accuracy: 0.74 - ETA: 0s - loss: 0.8222 - accuracy: 0.74 - ETA: 0s - loss: 0.8196 - accuracy: 0.74 - ETA: 0s - loss: 0.8195 - accuracy: 0.74 - ETA: 0s - loss: 0.8166 - accuracy: 0.74 - ETA: 0s - loss: 0.8160 - accuracy: 0.74 - ETA: 0s - loss: 0.8158 - accuracy: 0.75 - ETA: 0s - loss: 0.8150 - accuracy: 0.75 - ETA: 0s - loss: 0.8161 - accuracy: 0.74 - ETA: 0s - loss: 0.8180 - accuracy: 0.74 - ETA: 0s - loss: 0.8180 - accuracy: 0.74 - ETA: 0s - loss: 0.8187 - accuracy: 0.74 - ETA: 0s - loss: 0.8179 - accuracy: 0.74 - ETA: 0s - loss: 0.8178 - accuracy: 0.74 - ETA: 0s - loss: 0.8184 - accuracy: 0.74 - ETA: 0s - loss: 0.8160 - accuracy: 0.75 - ETA: 0s - loss: 0.8163 - accuracy: 0.75 - ETA: 0s - loss: 0.8158 - accuracy: 0.75 - ETA: 0s - loss: 0.8164 - accuracy: 0.75 - ETA: 0s - loss: 0.8159 - accuracy: 0.75 - ETA: 0s - loss: 0.8166 - accuracy: 0.75 - ETA: 0s - loss: 0.8167 - accuracy: 0.75 - 2s 824us/step - loss: 0.8167 - accuracy: 0.7504 - val_loss: 0.8380 - val_accuracy: 0.7437\n",
      "Epoch 10/32\n",
      "2500/2500 [==============================] - ETA: 0s - loss: 0.9513 - accuracy: 0.78 - ETA: 1s - loss: 0.8496 - accuracy: 0.74 - ETA: 1s - loss: 0.8287 - accuracy: 0.74 - ETA: 1s - loss: 0.8271 - accuracy: 0.74 - ETA: 1s - loss: 0.8146 - accuracy: 0.74 - ETA: 1s - loss: 0.8141 - accuracy: 0.74 - ETA: 1s - loss: 0.8145 - accuracy: 0.74 - ETA: 1s - loss: 0.8082 - accuracy: 0.75 - ETA: 1s - loss: 0.8023 - accuracy: 0.75 - ETA: 1s - loss: 0.8010 - accuracy: 0.75 - ETA: 1s - loss: 0.8009 - accuracy: 0.75 - ETA: 1s - loss: 0.7993 - accuracy: 0.75 - ETA: 1s - loss: 0.8026 - accuracy: 0.75 - ETA: 1s - loss: 0.8007 - accuracy: 0.75 - ETA: 1s - loss: 0.8051 - accuracy: 0.75 - ETA: 1s - loss: 0.8054 - accuracy: 0.75 - ETA: 1s - loss: 0.8060 - accuracy: 0.75 - ETA: 1s - loss: 0.8059 - accuracy: 0.75 - ETA: 0s - loss: 0.8055 - accuracy: 0.75 - ETA: 0s - loss: 0.8038 - accuracy: 0.75 - ETA: 0s - loss: 0.8051 - accuracy: 0.75 - ETA: 0s - loss: 0.8042 - accuracy: 0.75 - ETA: 0s - loss: 0.8051 - accuracy: 0.75 - ETA: 0s - loss: 0.8053 - accuracy: 0.75 - ETA: 0s - loss: 0.8061 - accuracy: 0.75 - ETA: 0s - loss: 0.8049 - accuracy: 0.75 - ETA: 0s - loss: 0.8049 - accuracy: 0.75 - ETA: 0s - loss: 0.8065 - accuracy: 0.75 - ETA: 0s - loss: 0.8047 - accuracy: 0.75 - ETA: 0s - loss: 0.8040 - accuracy: 0.75 - ETA: 0s - loss: 0.8040 - accuracy: 0.75 - ETA: 0s - loss: 0.8046 - accuracy: 0.75 - ETA: 0s - loss: 0.8049 - accuracy: 0.75 - ETA: 0s - loss: 0.8058 - accuracy: 0.75 - ETA: 0s - loss: 0.8045 - accuracy: 0.75 - ETA: 0s - loss: 0.8053 - accuracy: 0.75 - ETA: 0s - loss: 0.8049 - accuracy: 0.75 - ETA: 0s - loss: 0.8045 - accuracy: 0.75 - 2s 821us/step - loss: 0.8038 - accuracy: 0.7548 - val_loss: 0.8317 - val_accuracy: 0.7510\n",
      "Epoch 11/32\n",
      "2500/2500 [==============================] - ETA: 0s - loss: 1.1818 - accuracy: 0.68 - ETA: 1s - loss: 0.7923 - accuracy: 0.76 - ETA: 1s - loss: 0.8145 - accuracy: 0.75 - ETA: 1s - loss: 0.8090 - accuracy: 0.75 - ETA: 1s - loss: 0.7953 - accuracy: 0.75 - ETA: 1s - loss: 0.7988 - accuracy: 0.75 - ETA: 1s - loss: 0.7957 - accuracy: 0.75 - ETA: 1s - loss: 0.8004 - accuracy: 0.75 - ETA: 1s - loss: 0.8010 - accuracy: 0.75 - ETA: 1s - loss: 0.8011 - accuracy: 0.75 - ETA: 1s - loss: 0.8030 - accuracy: 0.75 - ETA: 1s - loss: 0.7979 - accuracy: 0.75 - ETA: 1s - loss: 0.7944 - accuracy: 0.75 - ETA: 1s - loss: 0.7918 - accuracy: 0.76 - ETA: 1s - loss: 0.7923 - accuracy: 0.76 - ETA: 1s - loss: 0.7944 - accuracy: 0.75 - ETA: 1s - loss: 0.7941 - accuracy: 0.75 - ETA: 1s - loss: 0.7931 - accuracy: 0.75 - ETA: 1s - loss: 0.7925 - accuracy: 0.75 - ETA: 0s - loss: 0.7906 - accuracy: 0.75 - ETA: 0s - loss: 0.7915 - accuracy: 0.75 - ETA: 0s - loss: 0.7907 - accuracy: 0.75 - ETA: 0s - loss: 0.7907 - accuracy: 0.75 - ETA: 0s - loss: 0.7912 - accuracy: 0.75 - ETA: 0s - loss: 0.7909 - accuracy: 0.75 - ETA: 0s - loss: 0.7903 - accuracy: 0.75 - ETA: 0s - loss: 0.7896 - accuracy: 0.75 - ETA: 0s - loss: 0.7891 - accuracy: 0.75 - ETA: 0s - loss: 0.7906 - accuracy: 0.75 - ETA: 0s - loss: 0.7900 - accuracy: 0.75 - ETA: 0s - loss: 0.7895 - accuracy: 0.76 - ETA: 0s - loss: 0.7894 - accuracy: 0.76 - ETA: 0s - loss: 0.7904 - accuracy: 0.75 - ETA: 0s - loss: 0.7898 - accuracy: 0.76 - ETA: 0s - loss: 0.7891 - accuracy: 0.76 - ETA: 0s - loss: 0.7904 - accuracy: 0.76 - ETA: 0s - loss: 0.7901 - accuracy: 0.76 - ETA: 0s - loss: 0.7906 - accuracy: 0.76 - 2s 817us/step - loss: 0.7898 - accuracy: 0.7609 - val_loss: 0.8167 - val_accuracy: 0.7510\n",
      "Epoch 12/32\n",
      "2500/2500 [==============================] - ETA: 0s - loss: 0.9270 - accuracy: 0.68 - ETA: 1s - loss: 0.8020 - accuracy: 0.75 - ETA: 1s - loss: 0.8070 - accuracy: 0.75 - ETA: 1s - loss: 0.7931 - accuracy: 0.75 - ETA: 1s - loss: 0.8051 - accuracy: 0.75 - ETA: 1s - loss: 0.7999 - accuracy: 0.75 - ETA: 1s - loss: 0.7939 - accuracy: 0.75 - ETA: 1s - loss: 0.7948 - accuracy: 0.75 - ETA: 1s - loss: 0.7927 - accuracy: 0.75 - ETA: 1s - loss: 0.7870 - accuracy: 0.76 - ETA: 1s - loss: 0.7860 - accuracy: 0.76 - ETA: 1s - loss: 0.7874 - accuracy: 0.76 - ETA: 1s - loss: 0.7848 - accuracy: 0.76 - ETA: 1s - loss: 0.7844 - accuracy: 0.76 - ETA: 1s - loss: 0.7856 - accuracy: 0.76 - ETA: 1s - loss: 0.7853 - accuracy: 0.76 - ETA: 1s - loss: 0.7822 - accuracy: 0.76 - ETA: 1s - loss: 0.7803 - accuracy: 0.76 - ETA: 0s - loss: 0.7793 - accuracy: 0.76 - ETA: 0s - loss: 0.7791 - accuracy: 0.76 - ETA: 0s - loss: 0.7798 - accuracy: 0.76 - ETA: 0s - loss: 0.7809 - accuracy: 0.76 - ETA: 0s - loss: 0.7829 - accuracy: 0.76 - ETA: 0s - loss: 0.7851 - accuracy: 0.76 - ETA: 0s - loss: 0.7846 - accuracy: 0.76 - ETA: 0s - loss: 0.7835 - accuracy: 0.76 - ETA: 0s - loss: 0.7842 - accuracy: 0.76 - ETA: 0s - loss: 0.7845 - accuracy: 0.76 - ETA: 0s - loss: 0.7845 - accuracy: 0.76 - ETA: 0s - loss: 0.7842 - accuracy: 0.76 - ETA: 0s - loss: 0.7851 - accuracy: 0.76 - ETA: 0s - loss: 0.7852 - accuracy: 0.76 - ETA: 0s - loss: 0.7846 - accuracy: 0.76 - ETA: 0s - loss: 0.7834 - accuracy: 0.76 - ETA: 0s - loss: 0.7841 - accuracy: 0.76 - ETA: 0s - loss: 0.7829 - accuracy: 0.76 - ETA: 0s - loss: 0.7825 - accuracy: 0.76 - ETA: 0s - loss: 0.7825 - accuracy: 0.76 - 2s 817us/step - loss: 0.7823 - accuracy: 0.7633 - val_loss: 0.8123 - val_accuracy: 0.7552\n",
      "Epoch 13/32\n",
      "2500/2500 [==============================] - ETA: 0s - loss: 0.5371 - accuracy: 0.78 - ETA: 1s - loss: 0.7802 - accuracy: 0.76 - ETA: 1s - loss: 0.7906 - accuracy: 0.76 - ETA: 1s - loss: 0.7838 - accuracy: 0.76 - ETA: 1s - loss: 0.7727 - accuracy: 0.76 - ETA: 1s - loss: 0.7753 - accuracy: 0.76 - ETA: 1s - loss: 0.7764 - accuracy: 0.76 - ETA: 1s - loss: 0.7759 - accuracy: 0.76 - ETA: 1s - loss: 0.7722 - accuracy: 0.76 - ETA: 1s - loss: 0.7731 - accuracy: 0.76 - ETA: 1s - loss: 0.7726 - accuracy: 0.76 - ETA: 1s - loss: 0.7752 - accuracy: 0.76 - ETA: 1s - loss: 0.7750 - accuracy: 0.76 - ETA: 1s - loss: 0.7763 - accuracy: 0.76 - ETA: 1s - loss: 0.7747 - accuracy: 0.76 - ETA: 1s - loss: 0.7744 - accuracy: 0.76 - ETA: 0s - loss: 0.7731 - accuracy: 0.76 - ETA: 0s - loss: 0.7725 - accuracy: 0.76 - ETA: 0s - loss: 0.7719 - accuracy: 0.76 - ETA: 0s - loss: 0.7723 - accuracy: 0.76 - ETA: 0s - loss: 0.7738 - accuracy: 0.76 - ETA: 0s - loss: 0.7732 - accuracy: 0.76 - ETA: 0s - loss: 0.7745 - accuracy: 0.76 - ETA: 0s - loss: 0.7751 - accuracy: 0.76 - ETA: 0s - loss: 0.7756 - accuracy: 0.76 - ETA: 0s - loss: 0.7770 - accuracy: 0.76 - ETA: 0s - loss: 0.7778 - accuracy: 0.76 - ETA: 0s - loss: 0.7756 - accuracy: 0.76 - ETA: 0s - loss: 0.7741 - accuracy: 0.76 - ETA: 0s - loss: 0.7735 - accuracy: 0.76 - ETA: 0s - loss: 0.7727 - accuracy: 0.76 - ETA: 0s - loss: 0.7727 - accuracy: 0.76 - ETA: 0s - loss: 0.7719 - accuracy: 0.76 - ETA: 0s - loss: 0.7727 - accuracy: 0.76 - ETA: 0s - loss: 0.7721 - accuracy: 0.76 - ETA: 0s - loss: 0.7722 - accuracy: 0.76 - ETA: 0s - loss: 0.7731 - accuracy: 0.76 - 2s 793us/step - loss: 0.7730 - accuracy: 0.7663 - val_loss: 0.8009 - val_accuracy: 0.7593\n",
      "Epoch 14/32\n",
      "2500/2500 [==============================] - ETA: 0s - loss: 0.8346 - accuracy: 0.75 - ETA: 1s - loss: 0.7262 - accuracy: 0.77 - ETA: 1s - loss: 0.7354 - accuracy: 0.77 - ETA: 1s - loss: 0.7571 - accuracy: 0.77 - ETA: 1s - loss: 0.7612 - accuracy: 0.76 - ETA: 1s - loss: 0.7527 - accuracy: 0.77 - ETA: 1s - loss: 0.7575 - accuracy: 0.77 - ETA: 1s - loss: 0.7627 - accuracy: 0.76 - ETA: 1s - loss: 0.7655 - accuracy: 0.76 - ETA: 1s - loss: 0.7644 - accuracy: 0.76 - ETA: 1s - loss: 0.7651 - accuracy: 0.76 - ETA: 1s - loss: 0.7665 - accuracy: 0.76 - ETA: 1s - loss: 0.7651 - accuracy: 0.76 - ETA: 1s - loss: 0.7631 - accuracy: 0.76 - ETA: 1s - loss: 0.7621 - accuracy: 0.76 - ETA: 1s - loss: 0.7613 - accuracy: 0.76 - ETA: 1s - loss: 0.7596 - accuracy: 0.76 - ETA: 0s - loss: 0.7625 - accuracy: 0.76 - ETA: 0s - loss: 0.7641 - accuracy: 0.76 - ETA: 0s - loss: 0.7647 - accuracy: 0.76 - ETA: 0s - loss: 0.7657 - accuracy: 0.76 - ETA: 0s - loss: 0.7647 - accuracy: 0.76 - ETA: 0s - loss: 0.7642 - accuracy: 0.76 - ETA: 0s - loss: 0.7640 - accuracy: 0.76 - ETA: 0s - loss: 0.7653 - accuracy: 0.76 - ETA: 0s - loss: 0.7666 - accuracy: 0.76 - ETA: 0s - loss: 0.7670 - accuracy: 0.76 - ETA: 0s - loss: 0.7655 - accuracy: 0.76 - ETA: 0s - loss: 0.7657 - accuracy: 0.76 - ETA: 0s - loss: 0.7669 - accuracy: 0.76 - ETA: 0s - loss: 0.7664 - accuracy: 0.76 - ETA: 0s - loss: 0.7664 - accuracy: 0.76 - ETA: 0s - loss: 0.7662 - accuracy: 0.76 - ETA: 0s - loss: 0.7666 - accuracy: 0.76 - ETA: 0s - loss: 0.7672 - accuracy: 0.76 - ETA: 0s - loss: 0.7654 - accuracy: 0.76 - ETA: 0s - loss: 0.7655 - accuracy: 0.76 - ETA: 0s - loss: 0.7649 - accuracy: 0.76 - 2s 813us/step - loss: 0.7654 - accuracy: 0.7685 - val_loss: 0.7964 - val_accuracy: 0.7609\n",
      "Epoch 15/32\n",
      "2500/2500 [==============================] - ETA: 0s - loss: 0.7599 - accuracy: 0.78 - ETA: 1s - loss: 0.7553 - accuracy: 0.76 - ETA: 1s - loss: 0.7473 - accuracy: 0.77 - ETA: 1s - loss: 0.7593 - accuracy: 0.77 - ETA: 1s - loss: 0.7544 - accuracy: 0.77 - ETA: 1s - loss: 0.7620 - accuracy: 0.76 - ETA: 1s - loss: 0.7623 - accuracy: 0.76 - ETA: 1s - loss: 0.7630 - accuracy: 0.76 - ETA: 1s - loss: 0.7609 - accuracy: 0.76 - ETA: 1s - loss: 0.7615 - accuracy: 0.76 - ETA: 1s - loss: 0.7626 - accuracy: 0.76 - ETA: 1s - loss: 0.7618 - accuracy: 0.76 - ETA: 1s - loss: 0.7601 - accuracy: 0.76 - ETA: 1s - loss: 0.7574 - accuracy: 0.77 - ETA: 1s - loss: 0.7561 - accuracy: 0.77 - ETA: 1s - loss: 0.7582 - accuracy: 0.77 - ETA: 1s - loss: 0.7592 - accuracy: 0.77 - ETA: 1s - loss: 0.7574 - accuracy: 0.77 - ETA: 0s - loss: 0.7568 - accuracy: 0.77 - ETA: 0s - loss: 0.7591 - accuracy: 0.77 - ETA: 0s - loss: 0.7609 - accuracy: 0.77 - ETA: 0s - loss: 0.7605 - accuracy: 0.77 - ETA: 0s - loss: 0.7595 - accuracy: 0.77 - ETA: 0s - loss: 0.7603 - accuracy: 0.77 - ETA: 0s - loss: 0.7593 - accuracy: 0.77 - ETA: 0s - loss: 0.7568 - accuracy: 0.77 - ETA: 0s - loss: 0.7572 - accuracy: 0.77 - ETA: 0s - loss: 0.7560 - accuracy: 0.77 - ETA: 0s - loss: 0.7545 - accuracy: 0.77 - ETA: 0s - loss: 0.7540 - accuracy: 0.77 - ETA: 0s - loss: 0.7542 - accuracy: 0.77 - ETA: 0s - loss: 0.7546 - accuracy: 0.77 - ETA: 0s - loss: 0.7543 - accuracy: 0.77 - ETA: 0s - loss: 0.7551 - accuracy: 0.77 - ETA: 0s - loss: 0.7552 - accuracy: 0.77 - ETA: 0s - loss: 0.7544 - accuracy: 0.77 - ETA: 0s - loss: 0.7535 - accuracy: 0.77 - ETA: 0s - loss: 0.7538 - accuracy: 0.77 - 2s 814us/step - loss: 0.7534 - accuracy: 0.7735 - val_loss: 0.7869 - val_accuracy: 0.7637\n",
      "Epoch 16/32\n",
      "2500/2500 [==============================] - ETA: 0s - loss: 0.7561 - accuracy: 0.78 - ETA: 1s - loss: 0.7280 - accuracy: 0.78 - ETA: 1s - loss: 0.7347 - accuracy: 0.77 - ETA: 1s - loss: 0.7421 - accuracy: 0.77 - ETA: 1s - loss: 0.7327 - accuracy: 0.77 - ETA: 1s - loss: 0.7308 - accuracy: 0.77 - ETA: 1s - loss: 0.7331 - accuracy: 0.77 - ETA: 1s - loss: 0.7352 - accuracy: 0.77 - ETA: 1s - loss: 0.7344 - accuracy: 0.77 - ETA: 1s - loss: 0.7370 - accuracy: 0.77 - ETA: 1s - loss: 0.7379 - accuracy: 0.77 - ETA: 1s - loss: 0.7409 - accuracy: 0.77 - ETA: 1s - loss: 0.7385 - accuracy: 0.77 - ETA: 1s - loss: 0.7382 - accuracy: 0.77 - ETA: 1s - loss: 0.7369 - accuracy: 0.77 - ETA: 1s - loss: 0.7369 - accuracy: 0.77 - ETA: 1s - loss: 0.7353 - accuracy: 0.77 - ETA: 0s - loss: 0.7361 - accuracy: 0.77 - ETA: 0s - loss: 0.7371 - accuracy: 0.77 - ETA: 0s - loss: 0.7396 - accuracy: 0.77 - ETA: 0s - loss: 0.7390 - accuracy: 0.77 - ETA: 0s - loss: 0.7410 - accuracy: 0.77 - ETA: 0s - loss: 0.7408 - accuracy: 0.77 - ETA: 0s - loss: 0.7410 - accuracy: 0.77 - ETA: 0s - loss: 0.7418 - accuracy: 0.77 - ETA: 0s - loss: 0.7418 - accuracy: 0.77 - ETA: 0s - loss: 0.7423 - accuracy: 0.77 - ETA: 0s - loss: 0.7426 - accuracy: 0.77 - ETA: 0s - loss: 0.7422 - accuracy: 0.77 - ETA: 0s - loss: 0.7438 - accuracy: 0.77 - ETA: 0s - loss: 0.7442 - accuracy: 0.77 - ETA: 0s - loss: 0.7443 - accuracy: 0.77 - ETA: 0s - loss: 0.7440 - accuracy: 0.77 - ETA: 0s - loss: 0.7433 - accuracy: 0.77 - ETA: 0s - loss: 0.7431 - accuracy: 0.77 - ETA: 0s - loss: 0.7431 - accuracy: 0.77 - ETA: 0s - loss: 0.7440 - accuracy: 0.77 - 2s 801us/step - loss: 0.7443 - accuracy: 0.7765 - val_loss: 0.7790 - val_accuracy: 0.7636\n",
      "Epoch 17/32\n",
      "2500/2500 [==============================] - ETA: 0s - loss: 0.5623 - accuracy: 0.87 - ETA: 1s - loss: 0.7681 - accuracy: 0.76 - ETA: 1s - loss: 0.7473 - accuracy: 0.77 - ETA: 1s - loss: 0.7412 - accuracy: 0.77 - ETA: 1s - loss: 0.7342 - accuracy: 0.78 - ETA: 1s - loss: 0.7276 - accuracy: 0.78 - ETA: 1s - loss: 0.7214 - accuracy: 0.78 - ETA: 1s - loss: 0.7240 - accuracy: 0.78 - ETA: 1s - loss: 0.7270 - accuracy: 0.78 - ETA: 1s - loss: 0.7310 - accuracy: 0.78 - ETA: 1s - loss: 0.7329 - accuracy: 0.78 - ETA: 1s - loss: 0.7344 - accuracy: 0.77 - ETA: 1s - loss: 0.7349 - accuracy: 0.77 - ETA: 1s - loss: 0.7371 - accuracy: 0.77 - ETA: 1s - loss: 0.7371 - accuracy: 0.77 - ETA: 1s - loss: 0.7360 - accuracy: 0.77 - ETA: 1s - loss: 0.7356 - accuracy: 0.77 - ETA: 1s - loss: 0.7362 - accuracy: 0.77 - ETA: 0s - loss: 0.7360 - accuracy: 0.77 - ETA: 0s - loss: 0.7370 - accuracy: 0.77 - ETA: 0s - loss: 0.7369 - accuracy: 0.77 - ETA: 0s - loss: 0.7350 - accuracy: 0.78 - ETA: 0s - loss: 0.7352 - accuracy: 0.78 - ETA: 0s - loss: 0.7360 - accuracy: 0.77 - ETA: 0s - loss: 0.7378 - accuracy: 0.77 - ETA: 0s - loss: 0.7381 - accuracy: 0.77 - ETA: 0s - loss: 0.7383 - accuracy: 0.77 - ETA: 0s - loss: 0.7390 - accuracy: 0.77 - ETA: 0s - loss: 0.7378 - accuracy: 0.77 - ETA: 0s - loss: 0.7381 - accuracy: 0.77 - ETA: 0s - loss: 0.7377 - accuracy: 0.77 - ETA: 0s - loss: 0.7375 - accuracy: 0.77 - ETA: 0s - loss: 0.7378 - accuracy: 0.77 - ETA: 0s - loss: 0.7368 - accuracy: 0.77 - ETA: 0s - loss: 0.7369 - accuracy: 0.77 - ETA: 0s - loss: 0.7373 - accuracy: 0.77 - ETA: 0s - loss: 0.7374 - accuracy: 0.77 - ETA: 0s - loss: 0.7370 - accuracy: 0.77 - 2s 807us/step - loss: 0.7369 - accuracy: 0.7797 - val_loss: 0.7737 - val_accuracy: 0.7657\n",
      "Epoch 18/32\n",
      "2500/2500 [==============================] - ETA: 0s - loss: 0.5229 - accuracy: 0.84 - ETA: 1s - loss: 0.7242 - accuracy: 0.79 - ETA: 1s - loss: 0.7323 - accuracy: 0.78 - ETA: 1s - loss: 0.7296 - accuracy: 0.78 - ETA: 1s - loss: 0.7284 - accuracy: 0.78 - ETA: 1s - loss: 0.7284 - accuracy: 0.78 - ETA: 1s - loss: 0.7288 - accuracy: 0.78 - ETA: 1s - loss: 0.7278 - accuracy: 0.78 - ETA: 1s - loss: 0.7212 - accuracy: 0.78 - ETA: 1s - loss: 0.7265 - accuracy: 0.78 - ETA: 1s - loss: 0.7209 - accuracy: 0.78 - ETA: 1s - loss: 0.7199 - accuracy: 0.78 - ETA: 1s - loss: 0.7211 - accuracy: 0.78 - ETA: 1s - loss: 0.7243 - accuracy: 0.78 - ETA: 1s - loss: 0.7256 - accuracy: 0.78 - ETA: 1s - loss: 0.7278 - accuracy: 0.78 - ETA: 1s - loss: 0.7288 - accuracy: 0.78 - ETA: 0s - loss: 0.7279 - accuracy: 0.78 - ETA: 0s - loss: 0.7288 - accuracy: 0.78 - ETA: 0s - loss: 0.7312 - accuracy: 0.78 - ETA: 0s - loss: 0.7338 - accuracy: 0.78 - ETA: 0s - loss: 0.7326 - accuracy: 0.78 - ETA: 0s - loss: 0.7314 - accuracy: 0.78 - ETA: 0s - loss: 0.7297 - accuracy: 0.78 - ETA: 0s - loss: 0.7293 - accuracy: 0.78 - ETA: 0s - loss: 0.7312 - accuracy: 0.78 - ETA: 0s - loss: 0.7306 - accuracy: 0.78 - ETA: 0s - loss: 0.7297 - accuracy: 0.78 - ETA: 0s - loss: 0.7309 - accuracy: 0.78 - ETA: 0s - loss: 0.7303 - accuracy: 0.78 - ETA: 0s - loss: 0.7297 - accuracy: 0.78 - ETA: 0s - loss: 0.7300 - accuracy: 0.78 - ETA: 0s - loss: 0.7301 - accuracy: 0.78 - ETA: 0s - loss: 0.7290 - accuracy: 0.78 - ETA: 0s - loss: 0.7290 - accuracy: 0.78 - ETA: 0s - loss: 0.7285 - accuracy: 0.78 - ETA: 0s - loss: 0.7285 - accuracy: 0.78 - ETA: 0s - loss: 0.7298 - accuracy: 0.78 - 2s 807us/step - loss: 0.7302 - accuracy: 0.7813 - val_loss: 0.7749 - val_accuracy: 0.7679\n",
      "Epoch 19/32\n",
      "2500/2500 [==============================] - ETA: 0s - loss: 0.9546 - accuracy: 0.71 - ETA: 1s - loss: 0.7166 - accuracy: 0.78 - ETA: 1s - loss: 0.7243 - accuracy: 0.78 - ETA: 1s - loss: 0.7353 - accuracy: 0.78 - ETA: 1s - loss: 0.7312 - accuracy: 0.78 - ETA: 1s - loss: 0.7237 - accuracy: 0.78 - ETA: 1s - loss: 0.7287 - accuracy: 0.78 - ETA: 1s - loss: 0.7321 - accuracy: 0.78 - ETA: 1s - loss: 0.7337 - accuracy: 0.78 - ETA: 1s - loss: 0.7317 - accuracy: 0.78 - ETA: 1s - loss: 0.7265 - accuracy: 0.78 - ETA: 1s - loss: 0.7282 - accuracy: 0.78 - ETA: 1s - loss: 0.7243 - accuracy: 0.78 - ETA: 1s - loss: 0.7239 - accuracy: 0.78 - ETA: 1s - loss: 0.7219 - accuracy: 0.78 - ETA: 1s - loss: 0.7227 - accuracy: 0.78 - ETA: 1s - loss: 0.7231 - accuracy: 0.78 - ETA: 0s - loss: 0.7221 - accuracy: 0.78 - ETA: 0s - loss: 0.7240 - accuracy: 0.78 - ETA: 0s - loss: 0.7245 - accuracy: 0.78 - ETA: 0s - loss: 0.7256 - accuracy: 0.78 - ETA: 0s - loss: 0.7258 - accuracy: 0.78 - ETA: 0s - loss: 0.7256 - accuracy: 0.78 - ETA: 0s - loss: 0.7268 - accuracy: 0.78 - ETA: 0s - loss: 0.7268 - accuracy: 0.78 - ETA: 0s - loss: 0.7278 - accuracy: 0.78 - ETA: 0s - loss: 0.7282 - accuracy: 0.78 - ETA: 0s - loss: 0.7275 - accuracy: 0.78 - ETA: 0s - loss: 0.7270 - accuracy: 0.78 - ETA: 0s - loss: 0.7276 - accuracy: 0.78 - ETA: 0s - loss: 0.7267 - accuracy: 0.78 - ETA: 0s - loss: 0.7257 - accuracy: 0.78 - ETA: 0s - loss: 0.7268 - accuracy: 0.78 - ETA: 0s - loss: 0.7258 - accuracy: 0.78 - ETA: 0s - loss: 0.7270 - accuracy: 0.78 - ETA: 0s - loss: 0.7259 - accuracy: 0.78 - ETA: 0s - loss: 0.7257 - accuracy: 0.78 - 2s 800us/step - loss: 0.7248 - accuracy: 0.7830 - val_loss: 0.7659 - val_accuracy: 0.7704\n",
      "Epoch 20/32\n",
      "2500/2500 [==============================] - ETA: 0s - loss: 1.0268 - accuracy: 0.68 - ETA: 1s - loss: 0.7635 - accuracy: 0.76 - ETA: 1s - loss: 0.7436 - accuracy: 0.77 - ETA: 1s - loss: 0.7543 - accuracy: 0.77 - ETA: 1s - loss: 0.7443 - accuracy: 0.77 - ETA: 1s - loss: 0.7435 - accuracy: 0.77 - ETA: 1s - loss: 0.7412 - accuracy: 0.77 - ETA: 1s - loss: 0.7448 - accuracy: 0.77 - ETA: 1s - loss: 0.7380 - accuracy: 0.77 - ETA: 1s - loss: 0.7336 - accuracy: 0.78 - ETA: 1s - loss: 0.7314 - accuracy: 0.77 - ETA: 1s - loss: 0.7334 - accuracy: 0.77 - ETA: 1s - loss: 0.7346 - accuracy: 0.77 - ETA: 1s - loss: 0.7337 - accuracy: 0.77 - ETA: 1s - loss: 0.7315 - accuracy: 0.78 - ETA: 1s - loss: 0.7326 - accuracy: 0.78 - ETA: 1s - loss: 0.7327 - accuracy: 0.78 - ETA: 0s - loss: 0.7315 - accuracy: 0.78 - ETA: 0s - loss: 0.7291 - accuracy: 0.78 - ETA: 0s - loss: 0.7261 - accuracy: 0.78 - ETA: 0s - loss: 0.7242 - accuracy: 0.78 - ETA: 0s - loss: 0.7239 - accuracy: 0.78 - ETA: 0s - loss: 0.7227 - accuracy: 0.78 - ETA: 0s - loss: 0.7214 - accuracy: 0.78 - ETA: 0s - loss: 0.7214 - accuracy: 0.78 - ETA: 0s - loss: 0.7223 - accuracy: 0.78 - ETA: 0s - loss: 0.7235 - accuracy: 0.78 - ETA: 0s - loss: 0.7234 - accuracy: 0.78 - ETA: 0s - loss: 0.7222 - accuracy: 0.78 - ETA: 0s - loss: 0.7222 - accuracy: 0.78 - ETA: 0s - loss: 0.7229 - accuracy: 0.78 - ETA: 0s - loss: 0.7222 - accuracy: 0.78 - ETA: 0s - loss: 0.7232 - accuracy: 0.78 - ETA: 0s - loss: 0.7228 - accuracy: 0.78 - ETA: 0s - loss: 0.7221 - accuracy: 0.78 - ETA: 0s - loss: 0.7218 - accuracy: 0.78 - ETA: 0s - loss: 0.7217 - accuracy: 0.78 - ETA: 0s - loss: 0.7216 - accuracy: 0.78 - 2s 805us/step - loss: 0.7215 - accuracy: 0.7838 - val_loss: 0.7628 - val_accuracy: 0.7733\n",
      "Epoch 21/32\n",
      "2500/2500 [==============================] - ETA: 0s - loss: 0.6741 - accuracy: 0.81 - ETA: 1s - loss: 0.7237 - accuracy: 0.78 - ETA: 1s - loss: 0.7297 - accuracy: 0.78 - ETA: 1s - loss: 0.7364 - accuracy: 0.77 - ETA: 1s - loss: 0.7293 - accuracy: 0.78 - ETA: 1s - loss: 0.7286 - accuracy: 0.78 - ETA: 1s - loss: 0.7203 - accuracy: 0.78 - ETA: 1s - loss: 0.7168 - accuracy: 0.78 - ETA: 1s - loss: 0.7138 - accuracy: 0.78 - ETA: 1s - loss: 0.7137 - accuracy: 0.78 - ETA: 1s - loss: 0.7110 - accuracy: 0.78 - ETA: 1s - loss: 0.7172 - accuracy: 0.78 - ETA: 1s - loss: 0.7159 - accuracy: 0.78 - ETA: 1s - loss: 0.7146 - accuracy: 0.78 - ETA: 1s - loss: 0.7173 - accuracy: 0.78 - ETA: 1s - loss: 0.7177 - accuracy: 0.78 - ETA: 1s - loss: 0.7153 - accuracy: 0.78 - ETA: 1s - loss: 0.7146 - accuracy: 0.78 - ETA: 0s - loss: 0.7145 - accuracy: 0.78 - ETA: 0s - loss: 0.7153 - accuracy: 0.78 - ETA: 0s - loss: 0.7152 - accuracy: 0.78 - ETA: 0s - loss: 0.7156 - accuracy: 0.78 - ETA: 0s - loss: 0.7145 - accuracy: 0.78 - ETA: 0s - loss: 0.7159 - accuracy: 0.78 - ETA: 0s - loss: 0.7160 - accuracy: 0.78 - ETA: 0s - loss: 0.7163 - accuracy: 0.78 - ETA: 0s - loss: 0.7154 - accuracy: 0.78 - ETA: 0s - loss: 0.7135 - accuracy: 0.78 - ETA: 0s - loss: 0.7141 - accuracy: 0.78 - ETA: 0s - loss: 0.7149 - accuracy: 0.78 - ETA: 0s - loss: 0.7145 - accuracy: 0.78 - ETA: 0s - loss: 0.7155 - accuracy: 0.78 - ETA: 0s - loss: 0.7143 - accuracy: 0.78 - ETA: 0s - loss: 0.7137 - accuracy: 0.78 - ETA: 0s - loss: 0.7149 - accuracy: 0.78 - ETA: 0s - loss: 0.7149 - accuracy: 0.78 - ETA: 0s - loss: 0.7149 - accuracy: 0.78 - ETA: 0s - loss: 0.7143 - accuracy: 0.78 - 2s 814us/step - loss: 0.7137 - accuracy: 0.7877 - val_loss: 0.7609 - val_accuracy: 0.7702\n",
      "Epoch 22/32\n",
      "2500/2500 [==============================] - ETA: 2s - loss: 0.5896 - accuracy: 0.75 - ETA: 1s - loss: 0.6997 - accuracy: 0.78 - ETA: 1s - loss: 0.7198 - accuracy: 0.78 - ETA: 1s - loss: 0.7148 - accuracy: 0.78 - ETA: 1s - loss: 0.7157 - accuracy: 0.78 - ETA: 1s - loss: 0.7114 - accuracy: 0.78 - ETA: 1s - loss: 0.7160 - accuracy: 0.78 - ETA: 1s - loss: 0.7155 - accuracy: 0.78 - ETA: 1s - loss: 0.7177 - accuracy: 0.78 - ETA: 1s - loss: 0.7138 - accuracy: 0.78 - ETA: 1s - loss: 0.7138 - accuracy: 0.78 - ETA: 1s - loss: 0.7157 - accuracy: 0.78 - ETA: 1s - loss: 0.7138 - accuracy: 0.78 - ETA: 1s - loss: 0.7131 - accuracy: 0.78 - ETA: 1s - loss: 0.7102 - accuracy: 0.78 - ETA: 1s - loss: 0.7106 - accuracy: 0.78 - ETA: 1s - loss: 0.7108 - accuracy: 0.78 - ETA: 1s - loss: 0.7088 - accuracy: 0.78 - ETA: 0s - loss: 0.7092 - accuracy: 0.78 - ETA: 0s - loss: 0.7082 - accuracy: 0.78 - ETA: 0s - loss: 0.7066 - accuracy: 0.78 - ETA: 0s - loss: 0.7064 - accuracy: 0.78 - ETA: 0s - loss: 0.7051 - accuracy: 0.79 - ETA: 0s - loss: 0.7070 - accuracy: 0.78 - ETA: 0s - loss: 0.7063 - accuracy: 0.78 - ETA: 0s - loss: 0.7066 - accuracy: 0.78 - ETA: 0s - loss: 0.7061 - accuracy: 0.78 - ETA: 0s - loss: 0.7067 - accuracy: 0.78 - ETA: 0s - loss: 0.7072 - accuracy: 0.78 - ETA: 0s - loss: 0.7078 - accuracy: 0.78 - ETA: 0s - loss: 0.7058 - accuracy: 0.78 - ETA: 0s - loss: 0.7079 - accuracy: 0.78 - ETA: 0s - loss: 0.7076 - accuracy: 0.78 - ETA: 0s - loss: 0.7088 - accuracy: 0.78 - ETA: 0s - loss: 0.7091 - accuracy: 0.78 - ETA: 0s - loss: 0.7095 - accuracy: 0.78 - ETA: 0s - loss: 0.7097 - accuracy: 0.78 - ETA: 0s - loss: 0.7087 - accuracy: 0.78 - 2s 812us/step - loss: 0.7095 - accuracy: 0.7886 - val_loss: 0.7564 - val_accuracy: 0.7710\n",
      "Epoch 23/32\n",
      "2500/2500 [==============================] - ETA: 0s - loss: 0.8074 - accuracy: 0.71 - ETA: 1s - loss: 0.7213 - accuracy: 0.78 - ETA: 1s - loss: 0.7080 - accuracy: 0.78 - ETA: 1s - loss: 0.7119 - accuracy: 0.78 - ETA: 1s - loss: 0.7122 - accuracy: 0.78 - ETA: 1s - loss: 0.7125 - accuracy: 0.78 - ETA: 1s - loss: 0.7092 - accuracy: 0.78 - ETA: 1s - loss: 0.7182 - accuracy: 0.78 - ETA: 1s - loss: 0.7170 - accuracy: 0.78 - ETA: 1s - loss: 0.7160 - accuracy: 0.78 - ETA: 1s - loss: 0.7116 - accuracy: 0.78 - ETA: 1s - loss: 0.7127 - accuracy: 0.78 - ETA: 1s - loss: 0.7109 - accuracy: 0.78 - ETA: 1s - loss: 0.7125 - accuracy: 0.78 - ETA: 1s - loss: 0.7123 - accuracy: 0.78 - ETA: 1s - loss: 0.7141 - accuracy: 0.78 - ETA: 1s - loss: 0.7102 - accuracy: 0.78 - ETA: 0s - loss: 0.7093 - accuracy: 0.78 - ETA: 0s - loss: 0.7080 - accuracy: 0.78 - ETA: 0s - loss: 0.7078 - accuracy: 0.78 - ETA: 0s - loss: 0.7078 - accuracy: 0.78 - ETA: 0s - loss: 0.7052 - accuracy: 0.78 - ETA: 0s - loss: 0.7046 - accuracy: 0.78 - ETA: 0s - loss: 0.7056 - accuracy: 0.78 - ETA: 0s - loss: 0.7061 - accuracy: 0.78 - ETA: 0s - loss: 0.7048 - accuracy: 0.78 - ETA: 0s - loss: 0.7059 - accuracy: 0.78 - ETA: 0s - loss: 0.7051 - accuracy: 0.78 - ETA: 0s - loss: 0.7050 - accuracy: 0.78 - ETA: 0s - loss: 0.7054 - accuracy: 0.78 - ETA: 0s - loss: 0.7072 - accuracy: 0.78 - ETA: 0s - loss: 0.7071 - accuracy: 0.78 - ETA: 0s - loss: 0.7070 - accuracy: 0.78 - ETA: 0s - loss: 0.7059 - accuracy: 0.78 - ETA: 0s - loss: 0.7055 - accuracy: 0.78 - ETA: 0s - loss: 0.7058 - accuracy: 0.78 - ETA: 0s - loss: 0.7067 - accuracy: 0.78 - 2s 800us/step - loss: 0.7044 - accuracy: 0.7892 - val_loss: 0.7562 - val_accuracy: 0.7764\n",
      "Epoch 24/32\n",
      "2500/2500 [==============================] - ETA: 0s - loss: 0.8249 - accuracy: 0.78 - ETA: 1s - loss: 0.7093 - accuracy: 0.78 - ETA: 1s - loss: 0.7004 - accuracy: 0.79 - ETA: 1s - loss: 0.6998 - accuracy: 0.79 - ETA: 1s - loss: 0.6948 - accuracy: 0.79 - ETA: 1s - loss: 0.7004 - accuracy: 0.79 - ETA: 1s - loss: 0.6902 - accuracy: 0.79 - ETA: 1s - loss: 0.6939 - accuracy: 0.79 - ETA: 1s - loss: 0.6929 - accuracy: 0.79 - ETA: 1s - loss: 0.6911 - accuracy: 0.79 - ETA: 1s - loss: 0.6926 - accuracy: 0.79 - ETA: 1s - loss: 0.6930 - accuracy: 0.79 - ETA: 1s - loss: 0.6946 - accuracy: 0.79 - ETA: 1s - loss: 0.6967 - accuracy: 0.79 - ETA: 1s - loss: 0.6990 - accuracy: 0.79 - ETA: 1s - loss: 0.6989 - accuracy: 0.79 - ETA: 1s - loss: 0.6977 - accuracy: 0.79 - ETA: 0s - loss: 0.6986 - accuracy: 0.79 - ETA: 0s - loss: 0.6985 - accuracy: 0.79 - ETA: 0s - loss: 0.6983 - accuracy: 0.79 - ETA: 0s - loss: 0.6999 - accuracy: 0.79 - ETA: 0s - loss: 0.6974 - accuracy: 0.79 - ETA: 0s - loss: 0.6985 - accuracy: 0.79 - ETA: 0s - loss: 0.6990 - accuracy: 0.79 - ETA: 0s - loss: 0.6997 - accuracy: 0.79 - ETA: 0s - loss: 0.6984 - accuracy: 0.79 - ETA: 0s - loss: 0.7002 - accuracy: 0.79 - ETA: 0s - loss: 0.7000 - accuracy: 0.79 - ETA: 0s - loss: 0.6979 - accuracy: 0.79 - ETA: 0s - loss: 0.6976 - accuracy: 0.79 - ETA: 0s - loss: 0.6977 - accuracy: 0.79 - ETA: 0s - loss: 0.6977 - accuracy: 0.79 - ETA: 0s - loss: 0.6981 - accuracy: 0.79 - ETA: 0s - loss: 0.6973 - accuracy: 0.79 - ETA: 0s - loss: 0.6978 - accuracy: 0.79 - ETA: 0s - loss: 0.6990 - accuracy: 0.79 - ETA: 0s - loss: 0.6991 - accuracy: 0.79 - ETA: 0s - loss: 0.7001 - accuracy: 0.79 - 2s 810us/step - loss: 0.6995 - accuracy: 0.7923 - val_loss: 0.7517 - val_accuracy: 0.7746\n",
      "Epoch 25/32\n",
      "2500/2500 [==============================] - ETA: 0s - loss: 0.4027 - accuracy: 0.87 - ETA: 1s - loss: 0.6936 - accuracy: 0.79 - ETA: 1s - loss: 0.6919 - accuracy: 0.79 - ETA: 1s - loss: 0.6840 - accuracy: 0.79 - ETA: 1s - loss: 0.6842 - accuracy: 0.79 - ETA: 1s - loss: 0.6835 - accuracy: 0.79 - ETA: 1s - loss: 0.6861 - accuracy: 0.79 - ETA: 1s - loss: 0.6840 - accuracy: 0.79 - ETA: 1s - loss: 0.6862 - accuracy: 0.79 - ETA: 1s - loss: 0.6912 - accuracy: 0.79 - ETA: 1s - loss: 0.6910 - accuracy: 0.79 - ETA: 1s - loss: 0.6938 - accuracy: 0.79 - ETA: 1s - loss: 0.6968 - accuracy: 0.79 - ETA: 1s - loss: 0.6920 - accuracy: 0.79 - ETA: 1s - loss: 0.6906 - accuracy: 0.79 - ETA: 1s - loss: 0.6924 - accuracy: 0.79 - ETA: 1s - loss: 0.6939 - accuracy: 0.79 - ETA: 0s - loss: 0.6944 - accuracy: 0.79 - ETA: 0s - loss: 0.6956 - accuracy: 0.79 - ETA: 0s - loss: 0.6934 - accuracy: 0.79 - ETA: 0s - loss: 0.6942 - accuracy: 0.79 - ETA: 0s - loss: 0.6942 - accuracy: 0.79 - ETA: 0s - loss: 0.6932 - accuracy: 0.79 - ETA: 0s - loss: 0.6926 - accuracy: 0.79 - ETA: 0s - loss: 0.6950 - accuracy: 0.79 - ETA: 0s - loss: 0.6938 - accuracy: 0.79 - ETA: 0s - loss: 0.6945 - accuracy: 0.79 - ETA: 0s - loss: 0.6960 - accuracy: 0.79 - ETA: 0s - loss: 0.6951 - accuracy: 0.79 - ETA: 0s - loss: 0.6959 - accuracy: 0.79 - ETA: 0s - loss: 0.6954 - accuracy: 0.79 - ETA: 0s - loss: 0.6951 - accuracy: 0.79 - ETA: 0s - loss: 0.6944 - accuracy: 0.79 - ETA: 0s - loss: 0.6939 - accuracy: 0.79 - ETA: 0s - loss: 0.6943 - accuracy: 0.79 - ETA: 0s - loss: 0.6951 - accuracy: 0.79 - ETA: 0s - loss: 0.6960 - accuracy: 0.79 - ETA: 0s - loss: 0.6950 - accuracy: 0.79 - 2s 807us/step - loss: 0.6954 - accuracy: 0.7933 - val_loss: 0.7482 - val_accuracy: 0.7780\n",
      "Epoch 26/32\n",
      "2500/2500 [==============================] - ETA: 0s - loss: 0.6871 - accuracy: 0.71 - ETA: 1s - loss: 0.6622 - accuracy: 0.79 - ETA: 1s - loss: 0.6672 - accuracy: 0.80 - ETA: 1s - loss: 0.6787 - accuracy: 0.79 - ETA: 1s - loss: 0.6705 - accuracy: 0.80 - ETA: 1s - loss: 0.6720 - accuracy: 0.79 - ETA: 1s - loss: 0.6702 - accuracy: 0.79 - ETA: 1s - loss: 0.6711 - accuracy: 0.79 - ETA: 1s - loss: 0.6734 - accuracy: 0.79 - ETA: 1s - loss: 0.6753 - accuracy: 0.79 - ETA: 1s - loss: 0.6841 - accuracy: 0.79 - ETA: 1s - loss: 0.6815 - accuracy: 0.79 - ETA: 1s - loss: 0.6808 - accuracy: 0.79 - ETA: 1s - loss: 0.6832 - accuracy: 0.79 - ETA: 1s - loss: 0.6867 - accuracy: 0.79 - ETA: 1s - loss: 0.6870 - accuracy: 0.79 - ETA: 1s - loss: 0.6884 - accuracy: 0.79 - ETA: 1s - loss: 0.6863 - accuracy: 0.79 - ETA: 0s - loss: 0.6873 - accuracy: 0.79 - ETA: 0s - loss: 0.6878 - accuracy: 0.79 - ETA: 0s - loss: 0.6908 - accuracy: 0.79 - ETA: 0s - loss: 0.6917 - accuracy: 0.79 - ETA: 0s - loss: 0.6938 - accuracy: 0.79 - ETA: 0s - loss: 0.6937 - accuracy: 0.79 - ETA: 0s - loss: 0.6948 - accuracy: 0.79 - ETA: 0s - loss: 0.6948 - accuracy: 0.79 - ETA: 0s - loss: 0.6945 - accuracy: 0.79 - ETA: 0s - loss: 0.6950 - accuracy: 0.79 - ETA: 0s - loss: 0.6953 - accuracy: 0.79 - ETA: 0s - loss: 0.6937 - accuracy: 0.79 - ETA: 0s - loss: 0.6931 - accuracy: 0.79 - ETA: 0s - loss: 0.6920 - accuracy: 0.79 - ETA: 0s - loss: 0.6928 - accuracy: 0.79 - ETA: 0s - loss: 0.6910 - accuracy: 0.79 - ETA: 0s - loss: 0.6908 - accuracy: 0.79 - ETA: 0s - loss: 0.6910 - accuracy: 0.79 - ETA: 0s - loss: 0.6908 - accuracy: 0.79 - ETA: 0s - loss: 0.6912 - accuracy: 0.79 - 2s 816us/step - loss: 0.6913 - accuracy: 0.7945 - val_loss: 0.7489 - val_accuracy: 0.7799\n",
      "Epoch 27/32\n",
      "2500/2500 [==============================] - ETA: 0s - loss: 0.7304 - accuracy: 0.75 - ETA: 1s - loss: 0.6679 - accuracy: 0.80 - ETA: 1s - loss: 0.6771 - accuracy: 0.79 - ETA: 1s - loss: 0.6810 - accuracy: 0.79 - ETA: 1s - loss: 0.6974 - accuracy: 0.79 - ETA: 1s - loss: 0.7021 - accuracy: 0.79 - ETA: 1s - loss: 0.7004 - accuracy: 0.79 - ETA: 1s - loss: 0.7035 - accuracy: 0.78 - ETA: 1s - loss: 0.7018 - accuracy: 0.79 - ETA: 1s - loss: 0.7014 - accuracy: 0.79 - ETA: 1s - loss: 0.6995 - accuracy: 0.79 - ETA: 1s - loss: 0.7001 - accuracy: 0.79 - ETA: 1s - loss: 0.6969 - accuracy: 0.79 - ETA: 1s - loss: 0.6943 - accuracy: 0.79 - ETA: 1s - loss: 0.6946 - accuracy: 0.79 - ETA: 1s - loss: 0.6950 - accuracy: 0.79 - ETA: 1s - loss: 0.6954 - accuracy: 0.79 - ETA: 0s - loss: 0.6945 - accuracy: 0.79 - ETA: 0s - loss: 0.6942 - accuracy: 0.79 - ETA: 0s - loss: 0.6929 - accuracy: 0.79 - ETA: 0s - loss: 0.6931 - accuracy: 0.79 - ETA: 0s - loss: 0.6939 - accuracy: 0.79 - ETA: 0s - loss: 0.6926 - accuracy: 0.79 - ETA: 0s - loss: 0.6914 - accuracy: 0.79 - ETA: 0s - loss: 0.6898 - accuracy: 0.79 - ETA: 0s - loss: 0.6890 - accuracy: 0.79 - ETA: 0s - loss: 0.6881 - accuracy: 0.79 - ETA: 0s - loss: 0.6884 - accuracy: 0.79 - ETA: 0s - loss: 0.6872 - accuracy: 0.79 - ETA: 0s - loss: 0.6861 - accuracy: 0.79 - ETA: 0s - loss: 0.6873 - accuracy: 0.79 - ETA: 0s - loss: 0.6871 - accuracy: 0.79 - ETA: 0s - loss: 0.6878 - accuracy: 0.79 - ETA: 0s - loss: 0.6873 - accuracy: 0.79 - ETA: 0s - loss: 0.6879 - accuracy: 0.79 - ETA: 0s - loss: 0.6880 - accuracy: 0.79 - ETA: 0s - loss: 0.6874 - accuracy: 0.79 - ETA: 0s - loss: 0.6880 - accuracy: 0.79 - 2s 822us/step - loss: 0.6883 - accuracy: 0.7949 - val_loss: 0.7417 - val_accuracy: 0.7822\n",
      "Epoch 28/32\n",
      "2500/2500 [==============================] - ETA: 0s - loss: 0.4813 - accuracy: 0.87 - ETA: 1s - loss: 0.6591 - accuracy: 0.79 - ETA: 1s - loss: 0.6773 - accuracy: 0.79 - ETA: 1s - loss: 0.6804 - accuracy: 0.79 - ETA: 1s - loss: 0.6804 - accuracy: 0.79 - ETA: 1s - loss: 0.6782 - accuracy: 0.79 - ETA: 1s - loss: 0.6761 - accuracy: 0.79 - ETA: 1s - loss: 0.6808 - accuracy: 0.79 - ETA: 1s - loss: 0.6816 - accuracy: 0.79 - ETA: 1s - loss: 0.6778 - accuracy: 0.79 - ETA: 1s - loss: 0.6729 - accuracy: 0.80 - ETA: 1s - loss: 0.6746 - accuracy: 0.79 - ETA: 1s - loss: 0.6732 - accuracy: 0.80 - ETA: 1s - loss: 0.6759 - accuracy: 0.80 - ETA: 1s - loss: 0.6745 - accuracy: 0.80 - ETA: 1s - loss: 0.6755 - accuracy: 0.80 - ETA: 1s - loss: 0.6766 - accuracy: 0.80 - ETA: 1s - loss: 0.6800 - accuracy: 0.79 - ETA: 0s - loss: 0.6786 - accuracy: 0.79 - ETA: 0s - loss: 0.6781 - accuracy: 0.79 - ETA: 0s - loss: 0.6791 - accuracy: 0.79 - ETA: 0s - loss: 0.6793 - accuracy: 0.79 - ETA: 0s - loss: 0.6804 - accuracy: 0.79 - ETA: 0s - loss: 0.6815 - accuracy: 0.79 - ETA: 0s - loss: 0.6819 - accuracy: 0.79 - ETA: 0s - loss: 0.6807 - accuracy: 0.79 - ETA: 0s - loss: 0.6817 - accuracy: 0.79 - ETA: 0s - loss: 0.6831 - accuracy: 0.79 - ETA: 0s - loss: 0.6837 - accuracy: 0.79 - ETA: 0s - loss: 0.6831 - accuracy: 0.79 - ETA: 0s - loss: 0.6828 - accuracy: 0.79 - ETA: 0s - loss: 0.6837 - accuracy: 0.79 - ETA: 0s - loss: 0.6851 - accuracy: 0.79 - ETA: 0s - loss: 0.6858 - accuracy: 0.79 - ETA: 0s - loss: 0.6856 - accuracy: 0.79 - ETA: 0s - loss: 0.6849 - accuracy: 0.79 - ETA: 0s - loss: 0.6857 - accuracy: 0.79 - ETA: 0s - loss: 0.6858 - accuracy: 0.79 - 2s 825us/step - loss: 0.6856 - accuracy: 0.7969 - val_loss: 0.7324 - val_accuracy: 0.7853\n",
      "Epoch 29/32\n",
      "2500/2500 [==============================] - ETA: 0s - loss: 0.5641 - accuracy: 0.87 - ETA: 1s - loss: 0.6672 - accuracy: 0.80 - ETA: 1s - loss: 0.6477 - accuracy: 0.80 - ETA: 1s - loss: 0.6600 - accuracy: 0.80 - ETA: 1s - loss: 0.6669 - accuracy: 0.79 - ETA: 1s - loss: 0.6663 - accuracy: 0.79 - ETA: 1s - loss: 0.6623 - accuracy: 0.80 - ETA: 1s - loss: 0.6653 - accuracy: 0.80 - ETA: 1s - loss: 0.6624 - accuracy: 0.80 - ETA: 1s - loss: 0.6655 - accuracy: 0.80 - ETA: 1s - loss: 0.6657 - accuracy: 0.80 - ETA: 1s - loss: 0.6713 - accuracy: 0.80 - ETA: 1s - loss: 0.6741 - accuracy: 0.79 - ETA: 1s - loss: 0.6763 - accuracy: 0.79 - ETA: 1s - loss: 0.6769 - accuracy: 0.79 - ETA: 1s - loss: 0.6779 - accuracy: 0.79 - ETA: 1s - loss: 0.6775 - accuracy: 0.79 - ETA: 0s - loss: 0.6779 - accuracy: 0.79 - ETA: 0s - loss: 0.6792 - accuracy: 0.79 - ETA: 0s - loss: 0.6801 - accuracy: 0.79 - ETA: 0s - loss: 0.6786 - accuracy: 0.79 - ETA: 0s - loss: 0.6772 - accuracy: 0.79 - ETA: 0s - loss: 0.6762 - accuracy: 0.79 - ETA: 0s - loss: 0.6774 - accuracy: 0.79 - ETA: 0s - loss: 0.6789 - accuracy: 0.79 - ETA: 0s - loss: 0.6792 - accuracy: 0.79 - ETA: 0s - loss: 0.6802 - accuracy: 0.79 - ETA: 0s - loss: 0.6815 - accuracy: 0.79 - ETA: 0s - loss: 0.6806 - accuracy: 0.79 - ETA: 0s - loss: 0.6814 - accuracy: 0.79 - ETA: 0s - loss: 0.6814 - accuracy: 0.79 - ETA: 0s - loss: 0.6817 - accuracy: 0.79 - ETA: 0s - loss: 0.6817 - accuracy: 0.79 - ETA: 0s - loss: 0.6822 - accuracy: 0.79 - ETA: 0s - loss: 0.6825 - accuracy: 0.79 - ETA: 0s - loss: 0.6818 - accuracy: 0.79 - ETA: 0s - loss: 0.6820 - accuracy: 0.79 - ETA: 0s - loss: 0.6828 - accuracy: 0.79 - 2s 806us/step - loss: 0.6829 - accuracy: 0.7967 - val_loss: 0.7326 - val_accuracy: 0.7838\n",
      "Epoch 30/32\n",
      "2500/2500 [==============================] - ETA: 0s - loss: 0.7704 - accuracy: 0.71 - ETA: 1s - loss: 0.6374 - accuracy: 0.81 - ETA: 1s - loss: 0.6506 - accuracy: 0.81 - ETA: 1s - loss: 0.6534 - accuracy: 0.81 - ETA: 1s - loss: 0.6653 - accuracy: 0.80 - ETA: 1s - loss: 0.6740 - accuracy: 0.80 - ETA: 1s - loss: 0.6774 - accuracy: 0.80 - ETA: 1s - loss: 0.6795 - accuracy: 0.80 - ETA: 1s - loss: 0.6786 - accuracy: 0.80 - ETA: 1s - loss: 0.6771 - accuracy: 0.80 - ETA: 1s - loss: 0.6789 - accuracy: 0.80 - ETA: 1s - loss: 0.6794 - accuracy: 0.80 - ETA: 1s - loss: 0.6794 - accuracy: 0.80 - ETA: 1s - loss: 0.6776 - accuracy: 0.80 - ETA: 1s - loss: 0.6781 - accuracy: 0.80 - ETA: 1s - loss: 0.6827 - accuracy: 0.79 - ETA: 1s - loss: 0.6838 - accuracy: 0.79 - ETA: 0s - loss: 0.6831 - accuracy: 0.79 - ETA: 0s - loss: 0.6827 - accuracy: 0.79 - ETA: 0s - loss: 0.6823 - accuracy: 0.79 - ETA: 0s - loss: 0.6831 - accuracy: 0.79 - ETA: 0s - loss: 0.6835 - accuracy: 0.79 - ETA: 0s - loss: 0.6827 - accuracy: 0.79 - ETA: 0s - loss: 0.6836 - accuracy: 0.79 - ETA: 0s - loss: 0.6824 - accuracy: 0.79 - ETA: 0s - loss: 0.6803 - accuracy: 0.79 - ETA: 0s - loss: 0.6798 - accuracy: 0.79 - ETA: 0s - loss: 0.6798 - accuracy: 0.79 - ETA: 0s - loss: 0.6794 - accuracy: 0.79 - ETA: 0s - loss: 0.6798 - accuracy: 0.79 - ETA: 0s - loss: 0.6798 - accuracy: 0.79 - ETA: 0s - loss: 0.6790 - accuracy: 0.79 - ETA: 0s - loss: 0.6802 - accuracy: 0.79 - ETA: 0s - loss: 0.6807 - accuracy: 0.79 - ETA: 0s - loss: 0.6802 - accuracy: 0.79 - ETA: 0s - loss: 0.6804 - accuracy: 0.79 - ETA: 0s - loss: 0.6787 - accuracy: 0.79 - 2s 798us/step - loss: 0.6798 - accuracy: 0.7989 - val_loss: 0.7349 - val_accuracy: 0.7824\n",
      "Epoch 31/32\n",
      "2500/2500 [==============================] - ETA: 0s - loss: 0.4159 - accuracy: 0.87 - ETA: 1s - loss: 0.6810 - accuracy: 0.79 - ETA: 1s - loss: 0.6733 - accuracy: 0.80 - ETA: 1s - loss: 0.6759 - accuracy: 0.79 - ETA: 1s - loss: 0.6724 - accuracy: 0.79 - ETA: 1s - loss: 0.6765 - accuracy: 0.79 - ETA: 1s - loss: 0.6722 - accuracy: 0.80 - ETA: 1s - loss: 0.6752 - accuracy: 0.79 - ETA: 1s - loss: 0.6765 - accuracy: 0.79 - ETA: 1s - loss: 0.6707 - accuracy: 0.79 - ETA: 1s - loss: 0.6741 - accuracy: 0.79 - ETA: 1s - loss: 0.6703 - accuracy: 0.80 - ETA: 1s - loss: 0.6717 - accuracy: 0.80 - ETA: 1s - loss: 0.6689 - accuracy: 0.80 - ETA: 1s - loss: 0.6678 - accuracy: 0.80 - ETA: 1s - loss: 0.6652 - accuracy: 0.80 - ETA: 1s - loss: 0.6674 - accuracy: 0.80 - ETA: 0s - loss: 0.6659 - accuracy: 0.80 - ETA: 0s - loss: 0.6701 - accuracy: 0.80 - ETA: 0s - loss: 0.6704 - accuracy: 0.80 - ETA: 0s - loss: 0.6720 - accuracy: 0.80 - ETA: 0s - loss: 0.6744 - accuracy: 0.80 - ETA: 0s - loss: 0.6753 - accuracy: 0.80 - ETA: 0s - loss: 0.6749 - accuracy: 0.80 - ETA: 0s - loss: 0.6752 - accuracy: 0.80 - ETA: 0s - loss: 0.6768 - accuracy: 0.79 - ETA: 0s - loss: 0.6785 - accuracy: 0.79 - ETA: 0s - loss: 0.6796 - accuracy: 0.79 - ETA: 0s - loss: 0.6805 - accuracy: 0.79 - ETA: 0s - loss: 0.6795 - accuracy: 0.79 - ETA: 0s - loss: 0.6790 - accuracy: 0.79 - ETA: 0s - loss: 0.6788 - accuracy: 0.79 - ETA: 0s - loss: 0.6786 - accuracy: 0.79 - ETA: 0s - loss: 0.6785 - accuracy: 0.79 - ETA: 0s - loss: 0.6772 - accuracy: 0.79 - ETA: 0s - loss: 0.6773 - accuracy: 0.79 - ETA: 0s - loss: 0.6773 - accuracy: 0.79 - 2s 797us/step - loss: 0.6770 - accuracy: 0.7991 - val_loss: 0.7308 - val_accuracy: 0.7853\n",
      "Epoch 32/32\n",
      "2500/2500 [==============================] - ETA: 0s - loss: 0.3349 - accuracy: 0.90 - ETA: 1s - loss: 0.6948 - accuracy: 0.79 - ETA: 1s - loss: 0.6801 - accuracy: 0.80 - ETA: 1s - loss: 0.6737 - accuracy: 0.80 - ETA: 1s - loss: 0.6734 - accuracy: 0.80 - ETA: 1s - loss: 0.6697 - accuracy: 0.80 - ETA: 1s - loss: 0.6689 - accuracy: 0.80 - ETA: 1s - loss: 0.6663 - accuracy: 0.80 - ETA: 1s - loss: 0.6627 - accuracy: 0.80 - ETA: 1s - loss: 0.6649 - accuracy: 0.80 - ETA: 1s - loss: 0.6645 - accuracy: 0.80 - ETA: 1s - loss: 0.6662 - accuracy: 0.80 - ETA: 1s - loss: 0.6666 - accuracy: 0.80 - ETA: 1s - loss: 0.6672 - accuracy: 0.80 - ETA: 1s - loss: 0.6687 - accuracy: 0.80 - ETA: 1s - loss: 0.6693 - accuracy: 0.80 - ETA: 1s - loss: 0.6707 - accuracy: 0.80 - ETA: 1s - loss: 0.6689 - accuracy: 0.80 - ETA: 0s - loss: 0.6679 - accuracy: 0.80 - ETA: 0s - loss: 0.6680 - accuracy: 0.80 - ETA: 0s - loss: 0.6677 - accuracy: 0.80 - ETA: 0s - loss: 0.6676 - accuracy: 0.80 - ETA: 0s - loss: 0.6670 - accuracy: 0.80 - ETA: 0s - loss: 0.6657 - accuracy: 0.80 - ETA: 0s - loss: 0.6678 - accuracy: 0.80 - ETA: 0s - loss: 0.6688 - accuracy: 0.80 - ETA: 0s - loss: 0.6685 - accuracy: 0.80 - ETA: 0s - loss: 0.6688 - accuracy: 0.80 - ETA: 0s - loss: 0.6704 - accuracy: 0.80 - ETA: 0s - loss: 0.6700 - accuracy: 0.80 - ETA: 0s - loss: 0.6698 - accuracy: 0.80 - ETA: 0s - loss: 0.6700 - accuracy: 0.80 - ETA: 0s - loss: 0.6706 - accuracy: 0.80 - ETA: 0s - loss: 0.6718 - accuracy: 0.80 - ETA: 0s - loss: 0.6713 - accuracy: 0.80 - ETA: 0s - loss: 0.6713 - accuracy: 0.80 - ETA: 0s - loss: 0.6719 - accuracy: 0.80 - ETA: 0s - loss: 0.6721 - accuracy: 0.80 - 2s 815us/step - loss: 0.6727 - accuracy: 0.8009 - val_loss: 0.7312 - val_accuracy: 0.7834\n",
      "Epoch 1/32\n",
      "2500/2500 [==============================] - ETA: 0s - loss: 3.4529 - accuracy: 0.0000e+ - ETA: 1s - loss: 3.0813 - accuracy: 0.1378   - ETA: 1s - loss: 2.8775 - accuracy: 0.15 - ETA: 1s - loss: 2.7250 - accuracy: 0.17 - ETA: 1s - loss: 2.6192 - accuracy: 0.18 - ETA: 1s - loss: 2.5482 - accuracy: 0.18 - ETA: 1s - loss: 2.4934 - accuracy: 0.19 - ETA: 1s - loss: 2.4496 - accuracy: 0.20 - ETA: 1s - loss: 2.4117 - accuracy: 0.20 - ETA: 1s - loss: 2.3743 - accuracy: 0.22 - ETA: 1s - loss: 2.3398 - accuracy: 0.23 - ETA: 1s - loss: 2.3070 - accuracy: 0.24 - ETA: 1s - loss: 2.2757 - accuracy: 0.26 - ETA: 1s - loss: 2.2446 - accuracy: 0.27 - ETA: 1s - loss: 2.2122 - accuracy: 0.28 - ETA: 1s - loss: 2.1838 - accuracy: 0.30 - ETA: 1s - loss: 2.1571 - accuracy: 0.30 - ETA: 1s - loss: 2.1307 - accuracy: 0.31 - ETA: 0s - loss: 2.1049 - accuracy: 0.32 - ETA: 0s - loss: 2.0786 - accuracy: 0.33 - ETA: 0s - loss: 2.0519 - accuracy: 0.34 - ETA: 0s - loss: 2.0283 - accuracy: 0.35 - ETA: 0s - loss: 2.0055 - accuracy: 0.35 - ETA: 0s - loss: 1.9832 - accuracy: 0.36 - ETA: 0s - loss: 1.9626 - accuracy: 0.37 - ETA: 0s - loss: 1.9424 - accuracy: 0.37 - ETA: 0s - loss: 1.9226 - accuracy: 0.38 - ETA: 0s - loss: 1.9056 - accuracy: 0.39 - ETA: 0s - loss: 1.8881 - accuracy: 0.39 - ETA: 0s - loss: 1.8721 - accuracy: 0.40 - ETA: 0s - loss: 1.8574 - accuracy: 0.40 - ETA: 0s - loss: 1.8422 - accuracy: 0.41 - ETA: 0s - loss: 1.8272 - accuracy: 0.41 - ETA: 0s - loss: 1.8128 - accuracy: 0.42 - ETA: 0s - loss: 1.7984 - accuracy: 0.42 - ETA: 0s - loss: 1.7858 - accuracy: 0.42 - ETA: 0s - loss: 1.7731 - accuracy: 0.43 - ETA: 0s - loss: 1.7615 - accuracy: 0.43 - 2s 846us/step - loss: 1.7567 - accuracy: 0.4386 - val_loss: 1.2991 - val_accuracy: 0.5792\n",
      "Epoch 2/32\n",
      "2500/2500 [==============================] - ETA: 0s - loss: 1.0280 - accuracy: 0.62 - ETA: 1s - loss: 1.2869 - accuracy: 0.58 - ETA: 1s - loss: 1.2812 - accuracy: 0.58 - ETA: 1s - loss: 1.2718 - accuracy: 0.59 - ETA: 1s - loss: 1.2701 - accuracy: 0.59 - ETA: 1s - loss: 1.2673 - accuracy: 0.59 - ETA: 1s - loss: 1.2588 - accuracy: 0.59 - ETA: 1s - loss: 1.2577 - accuracy: 0.59 - ETA: 1s - loss: 1.2535 - accuracy: 0.59 - ETA: 1s - loss: 1.2455 - accuracy: 0.59 - ETA: 1s - loss: 1.2412 - accuracy: 0.60 - ETA: 1s - loss: 1.2398 - accuracy: 0.60 - ETA: 1s - loss: 1.2402 - accuracy: 0.60 - ETA: 1s - loss: 1.2361 - accuracy: 0.60 - ETA: 1s - loss: 1.2333 - accuracy: 0.60 - ETA: 1s - loss: 1.2324 - accuracy: 0.60 - ETA: 1s - loss: 1.2282 - accuracy: 0.60 - ETA: 0s - loss: 1.2225 - accuracy: 0.60 - ETA: 0s - loss: 1.2184 - accuracy: 0.60 - ETA: 0s - loss: 1.2175 - accuracy: 0.60 - ETA: 0s - loss: 1.2145 - accuracy: 0.61 - ETA: 0s - loss: 1.2122 - accuracy: 0.61 - ETA: 0s - loss: 1.2085 - accuracy: 0.61 - ETA: 0s - loss: 1.2066 - accuracy: 0.61 - ETA: 0s - loss: 1.2048 - accuracy: 0.61 - ETA: 0s - loss: 1.2017 - accuracy: 0.61 - ETA: 0s - loss: 1.1990 - accuracy: 0.61 - ETA: 0s - loss: 1.1953 - accuracy: 0.61 - ETA: 0s - loss: 1.1924 - accuracy: 0.61 - ETA: 0s - loss: 1.1900 - accuracy: 0.61 - ETA: 0s - loss: 1.1873 - accuracy: 0.61 - ETA: 0s - loss: 1.1853 - accuracy: 0.62 - ETA: 0s - loss: 1.1836 - accuracy: 0.62 - ETA: 0s - loss: 1.1804 - accuracy: 0.62 - ETA: 0s - loss: 1.1774 - accuracy: 0.62 - ETA: 0s - loss: 1.1751 - accuracy: 0.62 - ETA: 0s - loss: 1.1724 - accuracy: 0.62 - 2s 797us/step - loss: 1.1705 - accuracy: 0.6240 - val_loss: 1.0922 - val_accuracy: 0.6527\n",
      "Epoch 3/32\n",
      "2500/2500 [==============================] - ETA: 0s - loss: 0.9884 - accuracy: 0.71 - ETA: 1s - loss: 1.0561 - accuracy: 0.66 - ETA: 1s - loss: 1.0677 - accuracy: 0.66 - ETA: 1s - loss: 1.0640 - accuracy: 0.65 - ETA: 1s - loss: 1.0581 - accuracy: 0.65 - ETA: 1s - loss: 1.0570 - accuracy: 0.65 - ETA: 1s - loss: 1.0669 - accuracy: 0.65 - ETA: 1s - loss: 1.0714 - accuracy: 0.65 - ETA: 1s - loss: 1.0727 - accuracy: 0.65 - ETA: 1s - loss: 1.0679 - accuracy: 0.65 - ETA: 1s - loss: 1.0633 - accuracy: 0.65 - ETA: 1s - loss: 1.0629 - accuracy: 0.65 - ETA: 1s - loss: 1.0637 - accuracy: 0.65 - ETA: 1s - loss: 1.0611 - accuracy: 0.66 - ETA: 1s - loss: 1.0638 - accuracy: 0.65 - ETA: 1s - loss: 1.0598 - accuracy: 0.66 - ETA: 1s - loss: 1.0582 - accuracy: 0.66 - ETA: 0s - loss: 1.0560 - accuracy: 0.66 - ETA: 0s - loss: 1.0531 - accuracy: 0.66 - ETA: 0s - loss: 1.0529 - accuracy: 0.66 - ETA: 0s - loss: 1.0533 - accuracy: 0.66 - ETA: 0s - loss: 1.0503 - accuracy: 0.66 - ETA: 0s - loss: 1.0483 - accuracy: 0.66 - ETA: 0s - loss: 1.0486 - accuracy: 0.66 - ETA: 0s - loss: 1.0483 - accuracy: 0.66 - ETA: 0s - loss: 1.0451 - accuracy: 0.66 - ETA: 0s - loss: 1.0446 - accuracy: 0.66 - ETA: 0s - loss: 1.0442 - accuracy: 0.66 - ETA: 0s - loss: 1.0418 - accuracy: 0.66 - ETA: 0s - loss: 1.0415 - accuracy: 0.66 - ETA: 0s - loss: 1.0405 - accuracy: 0.66 - ETA: 0s - loss: 1.0397 - accuracy: 0.66 - ETA: 0s - loss: 1.0378 - accuracy: 0.66 - ETA: 0s - loss: 1.0383 - accuracy: 0.66 - ETA: 0s - loss: 1.0373 - accuracy: 0.67 - ETA: 0s - loss: 1.0348 - accuracy: 0.67 - ETA: 0s - loss: 1.0339 - accuracy: 0.67 - ETA: 0s - loss: 1.0323 - accuracy: 0.67 - 2s 804us/step - loss: 1.0323 - accuracy: 0.6721 - val_loss: 0.9948 - val_accuracy: 0.6888\n",
      "Epoch 4/32\n",
      "2500/2500 [==============================] - ETA: 0s - loss: 0.9885 - accuracy: 0.71 - ETA: 1s - loss: 0.9858 - accuracy: 0.69 - ETA: 1s - loss: 0.9751 - accuracy: 0.69 - ETA: 1s - loss: 0.9910 - accuracy: 0.68 - ETA: 1s - loss: 0.9958 - accuracy: 0.68 - ETA: 1s - loss: 0.9963 - accuracy: 0.68 - ETA: 1s - loss: 0.9955 - accuracy: 0.68 - ETA: 1s - loss: 0.9925 - accuracy: 0.69 - ETA: 1s - loss: 0.9899 - accuracy: 0.69 - ETA: 1s - loss: 0.9856 - accuracy: 0.69 - ETA: 1s - loss: 0.9846 - accuracy: 0.69 - ETA: 1s - loss: 0.9872 - accuracy: 0.69 - ETA: 1s - loss: 0.9842 - accuracy: 0.69 - ETA: 1s - loss: 0.9824 - accuracy: 0.69 - ETA: 1s - loss: 0.9776 - accuracy: 0.69 - ETA: 1s - loss: 0.9778 - accuracy: 0.69 - ETA: 1s - loss: 0.9778 - accuracy: 0.69 - ETA: 0s - loss: 0.9774 - accuracy: 0.69 - ETA: 0s - loss: 0.9749 - accuracy: 0.69 - ETA: 0s - loss: 0.9758 - accuracy: 0.69 - ETA: 0s - loss: 0.9742 - accuracy: 0.69 - ETA: 0s - loss: 0.9705 - accuracy: 0.69 - ETA: 0s - loss: 0.9688 - accuracy: 0.69 - ETA: 0s - loss: 0.9687 - accuracy: 0.69 - ETA: 0s - loss: 0.9677 - accuracy: 0.69 - ETA: 0s - loss: 0.9657 - accuracy: 0.69 - ETA: 0s - loss: 0.9641 - accuracy: 0.69 - ETA: 0s - loss: 0.9619 - accuracy: 0.69 - ETA: 0s - loss: 0.9617 - accuracy: 0.69 - ETA: 0s - loss: 0.9612 - accuracy: 0.70 - ETA: 0s - loss: 0.9609 - accuracy: 0.70 - ETA: 0s - loss: 0.9610 - accuracy: 0.70 - ETA: 0s - loss: 0.9621 - accuracy: 0.70 - ETA: 0s - loss: 0.9618 - accuracy: 0.70 - ETA: 0s - loss: 0.9607 - accuracy: 0.70 - ETA: 0s - loss: 0.9598 - accuracy: 0.70 - ETA: 0s - loss: 0.9591 - accuracy: 0.70 - 2s 800us/step - loss: 0.9577 - accuracy: 0.7009 - val_loss: 0.9423 - val_accuracy: 0.7112\n",
      "Epoch 5/32\n",
      "2500/2500 [==============================] - ETA: 0s - loss: 1.1098 - accuracy: 0.68 - ETA: 1s - loss: 0.9328 - accuracy: 0.71 - ETA: 1s - loss: 0.9425 - accuracy: 0.71 - ETA: 1s - loss: 0.9464 - accuracy: 0.71 - ETA: 1s - loss: 0.9434 - accuracy: 0.71 - ETA: 1s - loss: 0.9308 - accuracy: 0.71 - ETA: 1s - loss: 0.9266 - accuracy: 0.71 - ETA: 1s - loss: 0.9214 - accuracy: 0.71 - ETA: 1s - loss: 0.9220 - accuracy: 0.71 - ETA: 1s - loss: 0.9243 - accuracy: 0.71 - ETA: 1s - loss: 0.9240 - accuracy: 0.71 - ETA: 1s - loss: 0.9251 - accuracy: 0.71 - ETA: 1s - loss: 0.9298 - accuracy: 0.70 - ETA: 1s - loss: 0.9282 - accuracy: 0.71 - ETA: 1s - loss: 0.9260 - accuracy: 0.71 - ETA: 1s - loss: 0.9235 - accuracy: 0.71 - ETA: 1s - loss: 0.9213 - accuracy: 0.71 - ETA: 0s - loss: 0.9226 - accuracy: 0.71 - ETA: 0s - loss: 0.9233 - accuracy: 0.71 - ETA: 0s - loss: 0.9237 - accuracy: 0.71 - ETA: 0s - loss: 0.9232 - accuracy: 0.71 - ETA: 0s - loss: 0.9222 - accuracy: 0.71 - ETA: 0s - loss: 0.9204 - accuracy: 0.71 - ETA: 0s - loss: 0.9205 - accuracy: 0.71 - ETA: 0s - loss: 0.9187 - accuracy: 0.71 - ETA: 0s - loss: 0.9184 - accuracy: 0.71 - ETA: 0s - loss: 0.9187 - accuracy: 0.71 - ETA: 0s - loss: 0.9188 - accuracy: 0.71 - ETA: 0s - loss: 0.9188 - accuracy: 0.71 - ETA: 0s - loss: 0.9181 - accuracy: 0.71 - ETA: 0s - loss: 0.9170 - accuracy: 0.71 - ETA: 0s - loss: 0.9170 - accuracy: 0.71 - ETA: 0s - loss: 0.9165 - accuracy: 0.71 - ETA: 0s - loss: 0.9155 - accuracy: 0.71 - ETA: 0s - loss: 0.9156 - accuracy: 0.71 - ETA: 0s - loss: 0.9150 - accuracy: 0.71 - ETA: 0s - loss: 0.9139 - accuracy: 0.71 - 2s 797us/step - loss: 0.9125 - accuracy: 0.7162 - val_loss: 0.9145 - val_accuracy: 0.7185\n",
      "Epoch 6/32\n",
      "2500/2500 [==============================] - ETA: 0s - loss: 1.0592 - accuracy: 0.65 - ETA: 1s - loss: 0.8757 - accuracy: 0.72 - ETA: 1s - loss: 0.8860 - accuracy: 0.72 - ETA: 1s - loss: 0.8858 - accuracy: 0.72 - ETA: 1s - loss: 0.8866 - accuracy: 0.72 - ETA: 1s - loss: 0.8846 - accuracy: 0.72 - ETA: 1s - loss: 0.8812 - accuracy: 0.72 - ETA: 1s - loss: 0.8803 - accuracy: 0.72 - ETA: 1s - loss: 0.8823 - accuracy: 0.72 - ETA: 1s - loss: 0.8840 - accuracy: 0.72 - ETA: 1s - loss: 0.8880 - accuracy: 0.72 - ETA: 1s - loss: 0.8881 - accuracy: 0.72 - ETA: 1s - loss: 0.8864 - accuracy: 0.72 - ETA: 1s - loss: 0.8892 - accuracy: 0.72 - ETA: 1s - loss: 0.8886 - accuracy: 0.72 - ETA: 1s - loss: 0.8883 - accuracy: 0.72 - ETA: 1s - loss: 0.8876 - accuracy: 0.72 - ETA: 0s - loss: 0.8852 - accuracy: 0.72 - ETA: 0s - loss: 0.8858 - accuracy: 0.72 - ETA: 0s - loss: 0.8867 - accuracy: 0.72 - ETA: 0s - loss: 0.8851 - accuracy: 0.72 - ETA: 0s - loss: 0.8842 - accuracy: 0.72 - ETA: 0s - loss: 0.8833 - accuracy: 0.72 - ETA: 0s - loss: 0.8822 - accuracy: 0.72 - ETA: 0s - loss: 0.8820 - accuracy: 0.72 - ETA: 0s - loss: 0.8825 - accuracy: 0.72 - ETA: 0s - loss: 0.8824 - accuracy: 0.72 - ETA: 0s - loss: 0.8823 - accuracy: 0.72 - ETA: 0s - loss: 0.8830 - accuracy: 0.72 - ETA: 0s - loss: 0.8815 - accuracy: 0.72 - ETA: 0s - loss: 0.8819 - accuracy: 0.72 - ETA: 0s - loss: 0.8819 - accuracy: 0.72 - ETA: 0s - loss: 0.8814 - accuracy: 0.72 - ETA: 0s - loss: 0.8812 - accuracy: 0.72 - ETA: 0s - loss: 0.8823 - accuracy: 0.72 - ETA: 0s - loss: 0.8831 - accuracy: 0.72 - ETA: 0s - loss: 0.8823 - accuracy: 0.72 - 2s 790us/step - loss: 0.8821 - accuracy: 0.7279 - val_loss: 0.8864 - val_accuracy: 0.7303\n",
      "Epoch 7/32\n",
      "2500/2500 [==============================] - ETA: 0s - loss: 1.4862 - accuracy: 0.53 - ETA: 1s - loss: 0.8857 - accuracy: 0.73 - ETA: 1s - loss: 0.8954 - accuracy: 0.72 - ETA: 1s - loss: 0.8850 - accuracy: 0.73 - ETA: 1s - loss: 0.8858 - accuracy: 0.73 - ETA: 1s - loss: 0.8817 - accuracy: 0.73 - ETA: 1s - loss: 0.8739 - accuracy: 0.73 - ETA: 1s - loss: 0.8684 - accuracy: 0.73 - ETA: 1s - loss: 0.8676 - accuracy: 0.73 - ETA: 1s - loss: 0.8715 - accuracy: 0.73 - ETA: 1s - loss: 0.8688 - accuracy: 0.73 - ETA: 1s - loss: 0.8703 - accuracy: 0.73 - ETA: 1s - loss: 0.8692 - accuracy: 0.73 - ETA: 1s - loss: 0.8695 - accuracy: 0.73 - ETA: 1s - loss: 0.8687 - accuracy: 0.73 - ETA: 1s - loss: 0.8661 - accuracy: 0.73 - ETA: 1s - loss: 0.8636 - accuracy: 0.73 - ETA: 0s - loss: 0.8630 - accuracy: 0.73 - ETA: 0s - loss: 0.8647 - accuracy: 0.73 - ETA: 0s - loss: 0.8651 - accuracy: 0.73 - ETA: 0s - loss: 0.8669 - accuracy: 0.73 - ETA: 0s - loss: 0.8644 - accuracy: 0.73 - ETA: 0s - loss: 0.8639 - accuracy: 0.73 - ETA: 0s - loss: 0.8624 - accuracy: 0.73 - ETA: 0s - loss: 0.8638 - accuracy: 0.73 - ETA: 0s - loss: 0.8635 - accuracy: 0.73 - ETA: 0s - loss: 0.8639 - accuracy: 0.73 - ETA: 0s - loss: 0.8638 - accuracy: 0.73 - ETA: 0s - loss: 0.8635 - accuracy: 0.73 - ETA: 0s - loss: 0.8630 - accuracy: 0.73 - ETA: 0s - loss: 0.8610 - accuracy: 0.73 - ETA: 0s - loss: 0.8594 - accuracy: 0.73 - ETA: 0s - loss: 0.8605 - accuracy: 0.73 - ETA: 0s - loss: 0.8588 - accuracy: 0.73 - ETA: 0s - loss: 0.8589 - accuracy: 0.73 - ETA: 0s - loss: 0.8574 - accuracy: 0.73 - ETA: 0s - loss: 0.8572 - accuracy: 0.73 - ETA: 0s - loss: 0.8557 - accuracy: 0.73 - 2s 811us/step - loss: 0.8556 - accuracy: 0.7362 - val_loss: 0.8599 - val_accuracy: 0.7365\n",
      "Epoch 8/32\n",
      "2500/2500 [==============================] - ETA: 0s - loss: 0.6116 - accuracy: 0.87 - ETA: 1s - loss: 0.8836 - accuracy: 0.72 - ETA: 1s - loss: 0.8536 - accuracy: 0.73 - ETA: 1s - loss: 0.8482 - accuracy: 0.73 - ETA: 1s - loss: 0.8421 - accuracy: 0.74 - ETA: 1s - loss: 0.8368 - accuracy: 0.74 - ETA: 1s - loss: 0.8336 - accuracy: 0.74 - ETA: 1s - loss: 0.8340 - accuracy: 0.73 - ETA: 1s - loss: 0.8333 - accuracy: 0.73 - ETA: 1s - loss: 0.8314 - accuracy: 0.73 - ETA: 1s - loss: 0.8266 - accuracy: 0.74 - ETA: 1s - loss: 0.8278 - accuracy: 0.74 - ETA: 1s - loss: 0.8293 - accuracy: 0.74 - ETA: 1s - loss: 0.8354 - accuracy: 0.73 - ETA: 1s - loss: 0.8365 - accuracy: 0.73 - ETA: 1s - loss: 0.8347 - accuracy: 0.74 - ETA: 1s - loss: 0.8371 - accuracy: 0.74 - ETA: 1s - loss: 0.8387 - accuracy: 0.74 - ETA: 1s - loss: 0.8390 - accuracy: 0.74 - ETA: 1s - loss: 0.8394 - accuracy: 0.73 - ETA: 0s - loss: 0.8408 - accuracy: 0.73 - ETA: 0s - loss: 0.8381 - accuracy: 0.74 - ETA: 0s - loss: 0.8375 - accuracy: 0.74 - ETA: 0s - loss: 0.8368 - accuracy: 0.74 - ETA: 0s - loss: 0.8380 - accuracy: 0.74 - ETA: 0s - loss: 0.8374 - accuracy: 0.74 - ETA: 0s - loss: 0.8373 - accuracy: 0.74 - ETA: 0s - loss: 0.8360 - accuracy: 0.74 - ETA: 0s - loss: 0.8361 - accuracy: 0.74 - ETA: 0s - loss: 0.8337 - accuracy: 0.74 - ETA: 0s - loss: 0.8328 - accuracy: 0.74 - ETA: 0s - loss: 0.8334 - accuracy: 0.74 - ETA: 0s - loss: 0.8339 - accuracy: 0.74 - ETA: 0s - loss: 0.8336 - accuracy: 0.74 - ETA: 0s - loss: 0.8334 - accuracy: 0.74 - ETA: 0s - loss: 0.8323 - accuracy: 0.74 - ETA: 0s - loss: 0.8319 - accuracy: 0.74 - ETA: 0s - loss: 0.8314 - accuracy: 0.74 - ETA: 0s - loss: 0.8319 - accuracy: 0.74 - ETA: 0s - loss: 0.8330 - accuracy: 0.74 - 2s 853us/step - loss: 0.8333 - accuracy: 0.7430 - val_loss: 0.8473 - val_accuracy: 0.7402\n",
      "Epoch 9/32\n",
      "2500/2500 [==============================] - ETA: 0s - loss: 1.0222 - accuracy: 0.68 - ETA: 1s - loss: 0.8062 - accuracy: 0.75 - ETA: 1s - loss: 0.8117 - accuracy: 0.75 - ETA: 1s - loss: 0.8231 - accuracy: 0.75 - ETA: 1s - loss: 0.8261 - accuracy: 0.75 - ETA: 1s - loss: 0.8227 - accuracy: 0.74 - ETA: 1s - loss: 0.8144 - accuracy: 0.75 - ETA: 1s - loss: 0.8175 - accuracy: 0.75 - ETA: 1s - loss: 0.8170 - accuracy: 0.75 - ETA: 1s - loss: 0.8149 - accuracy: 0.75 - ETA: 1s - loss: 0.8172 - accuracy: 0.75 - ETA: 1s - loss: 0.8206 - accuracy: 0.75 - ETA: 1s - loss: 0.8178 - accuracy: 0.75 - ETA: 1s - loss: 0.8213 - accuracy: 0.75 - ETA: 1s - loss: 0.8210 - accuracy: 0.75 - ETA: 1s - loss: 0.8200 - accuracy: 0.75 - ETA: 1s - loss: 0.8160 - accuracy: 0.75 - ETA: 0s - loss: 0.8154 - accuracy: 0.75 - ETA: 0s - loss: 0.8169 - accuracy: 0.75 - ETA: 0s - loss: 0.8196 - accuracy: 0.75 - ETA: 0s - loss: 0.8206 - accuracy: 0.75 - ETA: 0s - loss: 0.8219 - accuracy: 0.75 - ETA: 0s - loss: 0.8220 - accuracy: 0.75 - ETA: 0s - loss: 0.8197 - accuracy: 0.75 - ETA: 0s - loss: 0.8201 - accuracy: 0.75 - ETA: 0s - loss: 0.8192 - accuracy: 0.75 - ETA: 0s - loss: 0.8185 - accuracy: 0.75 - ETA: 0s - loss: 0.8176 - accuracy: 0.75 - ETA: 0s - loss: 0.8182 - accuracy: 0.75 - ETA: 0s - loss: 0.8185 - accuracy: 0.75 - ETA: 0s - loss: 0.8186 - accuracy: 0.75 - ETA: 0s - loss: 0.8191 - accuracy: 0.75 - ETA: 0s - loss: 0.8184 - accuracy: 0.75 - ETA: 0s - loss: 0.8193 - accuracy: 0.75 - ETA: 0s - loss: 0.8185 - accuracy: 0.75 - ETA: 0s - loss: 0.8185 - accuracy: 0.75 - ETA: 0s - loss: 0.8182 - accuracy: 0.75 - 2s 797us/step - loss: 0.8184 - accuracy: 0.7514 - val_loss: 0.8342 - val_accuracy: 0.7495\n",
      "Epoch 10/32\n",
      "2500/2500 [==============================] - ETA: 0s - loss: 0.9297 - accuracy: 0.78 - ETA: 1s - loss: 0.8099 - accuracy: 0.75 - ETA: 1s - loss: 0.8075 - accuracy: 0.75 - ETA: 1s - loss: 0.8079 - accuracy: 0.75 - ETA: 1s - loss: 0.8058 - accuracy: 0.75 - ETA: 1s - loss: 0.8104 - accuracy: 0.75 - ETA: 1s - loss: 0.8106 - accuracy: 0.75 - ETA: 1s - loss: 0.8141 - accuracy: 0.75 - ETA: 1s - loss: 0.8123 - accuracy: 0.75 - ETA: 1s - loss: 0.8140 - accuracy: 0.75 - ETA: 1s - loss: 0.8096 - accuracy: 0.75 - ETA: 1s - loss: 0.8060 - accuracy: 0.75 - ETA: 1s - loss: 0.8064 - accuracy: 0.75 - ETA: 1s - loss: 0.8083 - accuracy: 0.75 - ETA: 1s - loss: 0.8054 - accuracy: 0.75 - ETA: 1s - loss: 0.8053 - accuracy: 0.75 - ETA: 1s - loss: 0.8027 - accuracy: 0.75 - ETA: 0s - loss: 0.8055 - accuracy: 0.75 - ETA: 0s - loss: 0.8058 - accuracy: 0.75 - ETA: 0s - loss: 0.8058 - accuracy: 0.75 - ETA: 0s - loss: 0.8081 - accuracy: 0.75 - ETA: 0s - loss: 0.8087 - accuracy: 0.75 - ETA: 0s - loss: 0.8082 - accuracy: 0.75 - ETA: 0s - loss: 0.8094 - accuracy: 0.75 - ETA: 0s - loss: 0.8096 - accuracy: 0.75 - ETA: 0s - loss: 0.8087 - accuracy: 0.75 - ETA: 0s - loss: 0.8062 - accuracy: 0.75 - ETA: 0s - loss: 0.8066 - accuracy: 0.75 - ETA: 0s - loss: 0.8066 - accuracy: 0.75 - ETA: 0s - loss: 0.8075 - accuracy: 0.75 - ETA: 0s - loss: 0.8068 - accuracy: 0.75 - ETA: 0s - loss: 0.8053 - accuracy: 0.75 - ETA: 0s - loss: 0.8051 - accuracy: 0.75 - ETA: 0s - loss: 0.8043 - accuracy: 0.75 - ETA: 0s - loss: 0.8035 - accuracy: 0.75 - ETA: 0s - loss: 0.8041 - accuracy: 0.75 - ETA: 0s - loss: 0.8038 - accuracy: 0.75 - 2s 798us/step - loss: 0.8038 - accuracy: 0.7548 - val_loss: 0.8296 - val_accuracy: 0.7506\n",
      "Epoch 11/32\n",
      "2500/2500 [==============================] - ETA: 0s - loss: 0.6949 - accuracy: 0.84 - ETA: 1s - loss: 0.8176 - accuracy: 0.75 - ETA: 1s - loss: 0.8110 - accuracy: 0.75 - ETA: 1s - loss: 0.8017 - accuracy: 0.75 - ETA: 1s - loss: 0.8015 - accuracy: 0.75 - ETA: 1s - loss: 0.8048 - accuracy: 0.75 - ETA: 1s - loss: 0.8036 - accuracy: 0.75 - ETA: 1s - loss: 0.8035 - accuracy: 0.75 - ETA: 1s - loss: 0.7985 - accuracy: 0.75 - ETA: 1s - loss: 0.7967 - accuracy: 0.75 - ETA: 1s - loss: 0.7959 - accuracy: 0.75 - ETA: 1s - loss: 0.7969 - accuracy: 0.75 - ETA: 1s - loss: 0.7973 - accuracy: 0.75 - ETA: 1s - loss: 0.7988 - accuracy: 0.75 - ETA: 1s - loss: 0.7988 - accuracy: 0.75 - ETA: 1s - loss: 0.8010 - accuracy: 0.75 - ETA: 1s - loss: 0.8028 - accuracy: 0.75 - ETA: 1s - loss: 0.8054 - accuracy: 0.75 - ETA: 0s - loss: 0.8019 - accuracy: 0.75 - ETA: 0s - loss: 0.8027 - accuracy: 0.75 - ETA: 0s - loss: 0.8039 - accuracy: 0.75 - ETA: 0s - loss: 0.8037 - accuracy: 0.75 - ETA: 0s - loss: 0.8029 - accuracy: 0.75 - ETA: 0s - loss: 0.8026 - accuracy: 0.75 - ETA: 0s - loss: 0.8028 - accuracy: 0.75 - ETA: 0s - loss: 0.8014 - accuracy: 0.75 - ETA: 0s - loss: 0.8020 - accuracy: 0.75 - ETA: 0s - loss: 0.8019 - accuracy: 0.75 - ETA: 0s - loss: 0.8022 - accuracy: 0.75 - ETA: 0s - loss: 0.8022 - accuracy: 0.75 - ETA: 0s - loss: 0.8003 - accuracy: 0.75 - ETA: 0s - loss: 0.7982 - accuracy: 0.75 - ETA: 0s - loss: 0.7975 - accuracy: 0.75 - ETA: 0s - loss: 0.7971 - accuracy: 0.75 - ETA: 0s - loss: 0.7974 - accuracy: 0.75 - ETA: 0s - loss: 0.7965 - accuracy: 0.75 - ETA: 0s - loss: 0.7953 - accuracy: 0.75 - ETA: 0s - loss: 0.7951 - accuracy: 0.75 - 2s 805us/step - loss: 0.7952 - accuracy: 0.7588 - val_loss: 0.8203 - val_accuracy: 0.7544\n",
      "Epoch 12/32\n",
      "2500/2500 [==============================] - ETA: 2s - loss: 0.8295 - accuracy: 0.75 - ETA: 1s - loss: 0.7948 - accuracy: 0.75 - ETA: 1s - loss: 0.7804 - accuracy: 0.76 - ETA: 1s - loss: 0.7687 - accuracy: 0.76 - ETA: 1s - loss: 0.7648 - accuracy: 0.76 - ETA: 1s - loss: 0.7756 - accuracy: 0.76 - ETA: 1s - loss: 0.7794 - accuracy: 0.76 - ETA: 1s - loss: 0.7820 - accuracy: 0.76 - ETA: 1s - loss: 0.7834 - accuracy: 0.76 - ETA: 1s - loss: 0.7877 - accuracy: 0.76 - ETA: 1s - loss: 0.7888 - accuracy: 0.76 - ETA: 1s - loss: 0.7897 - accuracy: 0.76 - ETA: 1s - loss: 0.7882 - accuracy: 0.76 - ETA: 1s - loss: 0.7876 - accuracy: 0.76 - ETA: 1s - loss: 0.7878 - accuracy: 0.76 - ETA: 1s - loss: 0.7879 - accuracy: 0.76 - ETA: 1s - loss: 0.7887 - accuracy: 0.76 - ETA: 1s - loss: 0.7911 - accuracy: 0.76 - ETA: 0s - loss: 0.7905 - accuracy: 0.76 - ETA: 0s - loss: 0.7880 - accuracy: 0.76 - ETA: 0s - loss: 0.7869 - accuracy: 0.76 - ETA: 0s - loss: 0.7864 - accuracy: 0.76 - ETA: 0s - loss: 0.7869 - accuracy: 0.76 - ETA: 0s - loss: 0.7875 - accuracy: 0.76 - ETA: 0s - loss: 0.7868 - accuracy: 0.76 - ETA: 0s - loss: 0.7853 - accuracy: 0.76 - ETA: 0s - loss: 0.7839 - accuracy: 0.76 - ETA: 0s - loss: 0.7834 - accuracy: 0.76 - ETA: 0s - loss: 0.7817 - accuracy: 0.76 - ETA: 0s - loss: 0.7815 - accuracy: 0.76 - ETA: 0s - loss: 0.7821 - accuracy: 0.76 - ETA: 0s - loss: 0.7818 - accuracy: 0.76 - ETA: 0s - loss: 0.7818 - accuracy: 0.76 - ETA: 0s - loss: 0.7824 - accuracy: 0.76 - ETA: 0s - loss: 0.7823 - accuracy: 0.76 - ETA: 0s - loss: 0.7824 - accuracy: 0.76 - ETA: 0s - loss: 0.7832 - accuracy: 0.76 - ETA: 0s - loss: 0.7836 - accuracy: 0.76 - 2s 812us/step - loss: 0.7839 - accuracy: 0.7624 - val_loss: 0.8084 - val_accuracy: 0.7566\n",
      "Epoch 13/32\n",
      "2500/2500 [==============================] - ETA: 0s - loss: 0.5099 - accuracy: 0.87 - ETA: 1s - loss: 0.7679 - accuracy: 0.76 - ETA: 1s - loss: 0.7617 - accuracy: 0.77 - ETA: 1s - loss: 0.7731 - accuracy: 0.77 - ETA: 1s - loss: 0.7765 - accuracy: 0.76 - ETA: 1s - loss: 0.7670 - accuracy: 0.77 - ETA: 1s - loss: 0.7675 - accuracy: 0.77 - ETA: 1s - loss: 0.7675 - accuracy: 0.77 - ETA: 1s - loss: 0.7609 - accuracy: 0.77 - ETA: 1s - loss: 0.7643 - accuracy: 0.77 - ETA: 1s - loss: 0.7657 - accuracy: 0.77 - ETA: 1s - loss: 0.7633 - accuracy: 0.77 - ETA: 1s - loss: 0.7615 - accuracy: 0.77 - ETA: 1s - loss: 0.7625 - accuracy: 0.77 - ETA: 1s - loss: 0.7627 - accuracy: 0.77 - ETA: 1s - loss: 0.7642 - accuracy: 0.77 - ETA: 1s - loss: 0.7625 - accuracy: 0.77 - ETA: 1s - loss: 0.7617 - accuracy: 0.77 - ETA: 0s - loss: 0.7645 - accuracy: 0.77 - ETA: 0s - loss: 0.7643 - accuracy: 0.77 - ETA: 0s - loss: 0.7638 - accuracy: 0.77 - ETA: 0s - loss: 0.7630 - accuracy: 0.77 - ETA: 0s - loss: 0.7629 - accuracy: 0.77 - ETA: 0s - loss: 0.7619 - accuracy: 0.77 - ETA: 0s - loss: 0.7631 - accuracy: 0.77 - ETA: 0s - loss: 0.7640 - accuracy: 0.77 - ETA: 0s - loss: 0.7645 - accuracy: 0.77 - ETA: 0s - loss: 0.7663 - accuracy: 0.76 - ETA: 0s - loss: 0.7670 - accuracy: 0.76 - ETA: 0s - loss: 0.7679 - accuracy: 0.76 - ETA: 0s - loss: 0.7680 - accuracy: 0.76 - ETA: 0s - loss: 0.7689 - accuracy: 0.76 - ETA: 0s - loss: 0.7690 - accuracy: 0.76 - ETA: 0s - loss: 0.7693 - accuracy: 0.76 - ETA: 0s - loss: 0.7703 - accuracy: 0.76 - ETA: 0s - loss: 0.7717 - accuracy: 0.76 - ETA: 0s - loss: 0.7726 - accuracy: 0.76 - 2s 796us/step - loss: 0.7734 - accuracy: 0.7668 - val_loss: 0.8074 - val_accuracy: 0.7535\n",
      "Epoch 14/32\n",
      "2500/2500 [==============================] - ETA: 0s - loss: 0.9349 - accuracy: 0.68 - ETA: 1s - loss: 0.7874 - accuracy: 0.77 - ETA: 1s - loss: 0.7616 - accuracy: 0.77 - ETA: 1s - loss: 0.7626 - accuracy: 0.77 - ETA: 1s - loss: 0.7739 - accuracy: 0.76 - ETA: 1s - loss: 0.7731 - accuracy: 0.76 - ETA: 1s - loss: 0.7686 - accuracy: 0.76 - ETA: 1s - loss: 0.7646 - accuracy: 0.76 - ETA: 1s - loss: 0.7616 - accuracy: 0.77 - ETA: 1s - loss: 0.7578 - accuracy: 0.77 - ETA: 1s - loss: 0.7587 - accuracy: 0.76 - ETA: 1s - loss: 0.7589 - accuracy: 0.76 - ETA: 1s - loss: 0.7582 - accuracy: 0.76 - ETA: 1s - loss: 0.7601 - accuracy: 0.76 - ETA: 1s - loss: 0.7586 - accuracy: 0.76 - ETA: 1s - loss: 0.7575 - accuracy: 0.76 - ETA: 1s - loss: 0.7575 - accuracy: 0.76 - ETA: 0s - loss: 0.7572 - accuracy: 0.76 - ETA: 0s - loss: 0.7560 - accuracy: 0.77 - ETA: 0s - loss: 0.7538 - accuracy: 0.77 - ETA: 0s - loss: 0.7551 - accuracy: 0.77 - ETA: 0s - loss: 0.7581 - accuracy: 0.77 - ETA: 0s - loss: 0.7585 - accuracy: 0.77 - ETA: 0s - loss: 0.7593 - accuracy: 0.77 - ETA: 0s - loss: 0.7618 - accuracy: 0.76 - ETA: 0s - loss: 0.7625 - accuracy: 0.77 - ETA: 0s - loss: 0.7633 - accuracy: 0.77 - ETA: 0s - loss: 0.7643 - accuracy: 0.77 - ETA: 0s - loss: 0.7649 - accuracy: 0.76 - ETA: 0s - loss: 0.7655 - accuracy: 0.76 - ETA: 0s - loss: 0.7656 - accuracy: 0.76 - ETA: 0s - loss: 0.7651 - accuracy: 0.76 - ETA: 0s - loss: 0.7658 - accuracy: 0.76 - ETA: 0s - loss: 0.7647 - accuracy: 0.76 - ETA: 0s - loss: 0.7651 - accuracy: 0.76 - ETA: 0s - loss: 0.7652 - accuracy: 0.76 - ETA: 0s - loss: 0.7667 - accuracy: 0.76 - ETA: 0s - loss: 0.7668 - accuracy: 0.76 - 2s 808us/step - loss: 0.7667 - accuracy: 0.7684 - val_loss: 0.7989 - val_accuracy: 0.7616\n",
      "Epoch 15/32\n",
      "2500/2500 [==============================] - ETA: 2s - loss: 0.6390 - accuracy: 0.81 - ETA: 1s - loss: 0.7568 - accuracy: 0.76 - ETA: 1s - loss: 0.7895 - accuracy: 0.75 - ETA: 1s - loss: 0.7718 - accuracy: 0.76 - ETA: 1s - loss: 0.7638 - accuracy: 0.76 - ETA: 1s - loss: 0.7615 - accuracy: 0.77 - ETA: 1s - loss: 0.7558 - accuracy: 0.77 - ETA: 1s - loss: 0.7562 - accuracy: 0.77 - ETA: 1s - loss: 0.7506 - accuracy: 0.77 - ETA: 1s - loss: 0.7518 - accuracy: 0.77 - ETA: 1s - loss: 0.7545 - accuracy: 0.77 - ETA: 1s - loss: 0.7565 - accuracy: 0.77 - ETA: 1s - loss: 0.7623 - accuracy: 0.77 - ETA: 1s - loss: 0.7623 - accuracy: 0.77 - ETA: 1s - loss: 0.7630 - accuracy: 0.77 - ETA: 1s - loss: 0.7605 - accuracy: 0.77 - ETA: 1s - loss: 0.7604 - accuracy: 0.77 - ETA: 1s - loss: 0.7593 - accuracy: 0.77 - ETA: 0s - loss: 0.7584 - accuracy: 0.77 - ETA: 0s - loss: 0.7590 - accuracy: 0.77 - ETA: 0s - loss: 0.7612 - accuracy: 0.77 - ETA: 0s - loss: 0.7598 - accuracy: 0.77 - ETA: 0s - loss: 0.7599 - accuracy: 0.77 - ETA: 0s - loss: 0.7594 - accuracy: 0.77 - ETA: 0s - loss: 0.7576 - accuracy: 0.77 - ETA: 0s - loss: 0.7563 - accuracy: 0.77 - ETA: 0s - loss: 0.7561 - accuracy: 0.77 - ETA: 0s - loss: 0.7566 - accuracy: 0.77 - ETA: 0s - loss: 0.7581 - accuracy: 0.77 - ETA: 0s - loss: 0.7572 - accuracy: 0.77 - ETA: 0s - loss: 0.7581 - accuracy: 0.77 - ETA: 0s - loss: 0.7569 - accuracy: 0.77 - ETA: 0s - loss: 0.7571 - accuracy: 0.77 - ETA: 0s - loss: 0.7587 - accuracy: 0.77 - ETA: 0s - loss: 0.7591 - accuracy: 0.77 - ETA: 0s - loss: 0.7581 - accuracy: 0.77 - ETA: 0s - loss: 0.7592 - accuracy: 0.77 - 2s 801us/step - loss: 0.7582 - accuracy: 0.7716 - val_loss: 0.7902 - val_accuracy: 0.7613\n",
      "Epoch 16/32\n",
      "2500/2500 [==============================] - ETA: 0s - loss: 0.5603 - accuracy: 0.87 - ETA: 1s - loss: 0.7080 - accuracy: 0.78 - ETA: 1s - loss: 0.7362 - accuracy: 0.77 - ETA: 1s - loss: 0.7500 - accuracy: 0.77 - ETA: 1s - loss: 0.7547 - accuracy: 0.77 - ETA: 1s - loss: 0.7490 - accuracy: 0.77 - ETA: 1s - loss: 0.7525 - accuracy: 0.77 - ETA: 1s - loss: 0.7467 - accuracy: 0.77 - ETA: 1s - loss: 0.7458 - accuracy: 0.77 - ETA: 1s - loss: 0.7469 - accuracy: 0.77 - ETA: 1s - loss: 0.7462 - accuracy: 0.77 - ETA: 1s - loss: 0.7449 - accuracy: 0.77 - ETA: 1s - loss: 0.7406 - accuracy: 0.77 - ETA: 1s - loss: 0.7415 - accuracy: 0.77 - ETA: 1s - loss: 0.7420 - accuracy: 0.77 - ETA: 1s - loss: 0.7416 - accuracy: 0.77 - ETA: 1s - loss: 0.7415 - accuracy: 0.77 - ETA: 0s - loss: 0.7408 - accuracy: 0.77 - ETA: 0s - loss: 0.7409 - accuracy: 0.77 - ETA: 0s - loss: 0.7419 - accuracy: 0.77 - ETA: 0s - loss: 0.7415 - accuracy: 0.77 - ETA: 0s - loss: 0.7420 - accuracy: 0.77 - ETA: 0s - loss: 0.7443 - accuracy: 0.77 - ETA: 0s - loss: 0.7463 - accuracy: 0.77 - ETA: 0s - loss: 0.7459 - accuracy: 0.77 - ETA: 0s - loss: 0.7467 - accuracy: 0.77 - ETA: 0s - loss: 0.7467 - accuracy: 0.77 - ETA: 0s - loss: 0.7473 - accuracy: 0.77 - ETA: 0s - loss: 0.7471 - accuracy: 0.77 - ETA: 0s - loss: 0.7490 - accuracy: 0.77 - ETA: 0s - loss: 0.7491 - accuracy: 0.77 - ETA: 0s - loss: 0.7483 - accuracy: 0.77 - ETA: 0s - loss: 0.7490 - accuracy: 0.77 - ETA: 0s - loss: 0.7491 - accuracy: 0.77 - ETA: 0s - loss: 0.7507 - accuracy: 0.77 - ETA: 0s - loss: 0.7500 - accuracy: 0.77 - ETA: 0s - loss: 0.7506 - accuracy: 0.77 - 2s 808us/step - loss: 0.7502 - accuracy: 0.7727 - val_loss: 0.7813 - val_accuracy: 0.7615\n",
      "Epoch 17/32\n",
      "2500/2500 [==============================] - ETA: 0s - loss: 0.5952 - accuracy: 0.71 - ETA: 1s - loss: 0.7482 - accuracy: 0.78 - ETA: 1s - loss: 0.7265 - accuracy: 0.78 - ETA: 1s - loss: 0.7220 - accuracy: 0.78 - ETA: 1s - loss: 0.7312 - accuracy: 0.78 - ETA: 1s - loss: 0.7336 - accuracy: 0.78 - ETA: 1s - loss: 0.7423 - accuracy: 0.77 - ETA: 1s - loss: 0.7532 - accuracy: 0.77 - ETA: 1s - loss: 0.7481 - accuracy: 0.77 - ETA: 1s - loss: 0.7493 - accuracy: 0.77 - ETA: 1s - loss: 0.7495 - accuracy: 0.77 - ETA: 1s - loss: 0.7488 - accuracy: 0.77 - ETA: 1s - loss: 0.7527 - accuracy: 0.77 - ETA: 1s - loss: 0.7533 - accuracy: 0.77 - ETA: 1s - loss: 0.7504 - accuracy: 0.77 - ETA: 1s - loss: 0.7481 - accuracy: 0.77 - ETA: 1s - loss: 0.7491 - accuracy: 0.77 - ETA: 0s - loss: 0.7513 - accuracy: 0.77 - ETA: 0s - loss: 0.7510 - accuracy: 0.77 - ETA: 0s - loss: 0.7490 - accuracy: 0.77 - ETA: 0s - loss: 0.7495 - accuracy: 0.77 - ETA: 0s - loss: 0.7489 - accuracy: 0.77 - ETA: 0s - loss: 0.7474 - accuracy: 0.77 - ETA: 0s - loss: 0.7477 - accuracy: 0.77 - ETA: 0s - loss: 0.7488 - accuracy: 0.77 - ETA: 0s - loss: 0.7476 - accuracy: 0.77 - ETA: 0s - loss: 0.7470 - accuracy: 0.77 - ETA: 0s - loss: 0.7454 - accuracy: 0.77 - ETA: 0s - loss: 0.7440 - accuracy: 0.77 - ETA: 0s - loss: 0.7448 - accuracy: 0.77 - ETA: 0s - loss: 0.7432 - accuracy: 0.77 - ETA: 0s - loss: 0.7444 - accuracy: 0.77 - ETA: 0s - loss: 0.7440 - accuracy: 0.77 - ETA: 0s - loss: 0.7432 - accuracy: 0.77 - ETA: 0s - loss: 0.7420 - accuracy: 0.77 - ETA: 0s - loss: 0.7419 - accuracy: 0.77 - ETA: 0s - loss: 0.7425 - accuracy: 0.77 - 2s 791us/step - loss: 0.7425 - accuracy: 0.7769 - val_loss: 0.7824 - val_accuracy: 0.7623\n",
      "Epoch 18/32\n",
      "2500/2500 [==============================] - ETA: 0s - loss: 0.8397 - accuracy: 0.78 - ETA: 1s - loss: 0.7433 - accuracy: 0.76 - ETA: 1s - loss: 0.7611 - accuracy: 0.76 - ETA: 1s - loss: 0.7556 - accuracy: 0.76 - ETA: 1s - loss: 0.7525 - accuracy: 0.76 - ETA: 1s - loss: 0.7517 - accuracy: 0.76 - ETA: 1s - loss: 0.7516 - accuracy: 0.76 - ETA: 1s - loss: 0.7494 - accuracy: 0.76 - ETA: 1s - loss: 0.7457 - accuracy: 0.77 - ETA: 1s - loss: 0.7438 - accuracy: 0.77 - ETA: 1s - loss: 0.7382 - accuracy: 0.77 - ETA: 1s - loss: 0.7359 - accuracy: 0.77 - ETA: 1s - loss: 0.7379 - accuracy: 0.77 - ETA: 1s - loss: 0.7384 - accuracy: 0.77 - ETA: 1s - loss: 0.7398 - accuracy: 0.77 - ETA: 1s - loss: 0.7395 - accuracy: 0.77 - ETA: 1s - loss: 0.7400 - accuracy: 0.77 - ETA: 0s - loss: 0.7393 - accuracy: 0.77 - ETA: 0s - loss: 0.7416 - accuracy: 0.77 - ETA: 0s - loss: 0.7413 - accuracy: 0.77 - ETA: 0s - loss: 0.7427 - accuracy: 0.77 - ETA: 0s - loss: 0.7399 - accuracy: 0.77 - ETA: 0s - loss: 0.7399 - accuracy: 0.77 - ETA: 0s - loss: 0.7411 - accuracy: 0.77 - ETA: 0s - loss: 0.7427 - accuracy: 0.77 - ETA: 0s - loss: 0.7428 - accuracy: 0.77 - ETA: 0s - loss: 0.7431 - accuracy: 0.77 - ETA: 0s - loss: 0.7449 - accuracy: 0.77 - ETA: 0s - loss: 0.7442 - accuracy: 0.77 - ETA: 0s - loss: 0.7433 - accuracy: 0.77 - ETA: 0s - loss: 0.7439 - accuracy: 0.77 - ETA: 0s - loss: 0.7435 - accuracy: 0.77 - ETA: 0s - loss: 0.7437 - accuracy: 0.77 - ETA: 0s - loss: 0.7426 - accuracy: 0.77 - ETA: 0s - loss: 0.7429 - accuracy: 0.77 - ETA: 0s - loss: 0.7415 - accuracy: 0.77 - ETA: 0s - loss: 0.7413 - accuracy: 0.77 - 2s 801us/step - loss: 0.7420 - accuracy: 0.7742 - val_loss: 0.7751 - val_accuracy: 0.7674\n",
      "Epoch 19/32\n",
      "2500/2500 [==============================] - ETA: 2s - loss: 0.5980 - accuracy: 0.84 - ETA: 1s - loss: 0.7311 - accuracy: 0.78 - ETA: 1s - loss: 0.7055 - accuracy: 0.79 - ETA: 1s - loss: 0.7199 - accuracy: 0.78 - ETA: 1s - loss: 0.7292 - accuracy: 0.78 - ETA: 1s - loss: 0.7271 - accuracy: 0.78 - ETA: 1s - loss: 0.7298 - accuracy: 0.77 - ETA: 1s - loss: 0.7279 - accuracy: 0.78 - ETA: 1s - loss: 0.7244 - accuracy: 0.78 - ETA: 1s - loss: 0.7270 - accuracy: 0.78 - ETA: 1s - loss: 0.7296 - accuracy: 0.77 - ETA: 1s - loss: 0.7319 - accuracy: 0.77 - ETA: 1s - loss: 0.7325 - accuracy: 0.77 - ETA: 1s - loss: 0.7322 - accuracy: 0.77 - ETA: 1s - loss: 0.7316 - accuracy: 0.77 - ETA: 1s - loss: 0.7330 - accuracy: 0.77 - ETA: 1s - loss: 0.7304 - accuracy: 0.77 - ETA: 1s - loss: 0.7301 - accuracy: 0.77 - ETA: 0s - loss: 0.7319 - accuracy: 0.77 - ETA: 0s - loss: 0.7345 - accuracy: 0.77 - ETA: 0s - loss: 0.7359 - accuracy: 0.77 - ETA: 0s - loss: 0.7366 - accuracy: 0.77 - ETA: 0s - loss: 0.7357 - accuracy: 0.77 - ETA: 0s - loss: 0.7349 - accuracy: 0.77 - ETA: 0s - loss: 0.7342 - accuracy: 0.77 - ETA: 0s - loss: 0.7344 - accuracy: 0.77 - ETA: 0s - loss: 0.7337 - accuracy: 0.77 - ETA: 0s - loss: 0.7352 - accuracy: 0.77 - ETA: 0s - loss: 0.7346 - accuracy: 0.77 - ETA: 0s - loss: 0.7347 - accuracy: 0.77 - ETA: 0s - loss: 0.7346 - accuracy: 0.77 - ETA: 0s - loss: 0.7338 - accuracy: 0.77 - ETA: 0s - loss: 0.7319 - accuracy: 0.77 - ETA: 0s - loss: 0.7315 - accuracy: 0.77 - ETA: 0s - loss: 0.7316 - accuracy: 0.77 - ETA: 0s - loss: 0.7323 - accuracy: 0.77 - ETA: 0s - loss: 0.7318 - accuracy: 0.77 - 2s 797us/step - loss: 0.7334 - accuracy: 0.7773 - val_loss: 0.7679 - val_accuracy: 0.7694\n",
      "Epoch 20/32\n",
      "2500/2500 [==============================] - ETA: 0s - loss: 0.6890 - accuracy: 0.71 - ETA: 1s - loss: 0.7226 - accuracy: 0.77 - ETA: 1s - loss: 0.7298 - accuracy: 0.78 - ETA: 1s - loss: 0.7175 - accuracy: 0.78 - ETA: 1s - loss: 0.7099 - accuracy: 0.78 - ETA: 1s - loss: 0.7115 - accuracy: 0.78 - ETA: 1s - loss: 0.7078 - accuracy: 0.78 - ETA: 1s - loss: 0.7083 - accuracy: 0.78 - ETA: 1s - loss: 0.7108 - accuracy: 0.78 - ETA: 1s - loss: 0.7130 - accuracy: 0.78 - ETA: 1s - loss: 0.7146 - accuracy: 0.78 - ETA: 1s - loss: 0.7177 - accuracy: 0.78 - ETA: 1s - loss: 0.7226 - accuracy: 0.78 - ETA: 1s - loss: 0.7237 - accuracy: 0.78 - ETA: 1s - loss: 0.7216 - accuracy: 0.78 - ETA: 1s - loss: 0.7200 - accuracy: 0.78 - ETA: 1s - loss: 0.7196 - accuracy: 0.78 - ETA: 0s - loss: 0.7212 - accuracy: 0.78 - ETA: 0s - loss: 0.7204 - accuracy: 0.78 - ETA: 0s - loss: 0.7237 - accuracy: 0.78 - ETA: 0s - loss: 0.7255 - accuracy: 0.78 - ETA: 0s - loss: 0.7246 - accuracy: 0.78 - ETA: 0s - loss: 0.7262 - accuracy: 0.78 - ETA: 0s - loss: 0.7247 - accuracy: 0.78 - ETA: 0s - loss: 0.7263 - accuracy: 0.78 - ETA: 0s - loss: 0.7264 - accuracy: 0.78 - ETA: 0s - loss: 0.7270 - accuracy: 0.78 - ETA: 0s - loss: 0.7257 - accuracy: 0.78 - ETA: 0s - loss: 0.7244 - accuracy: 0.78 - ETA: 0s - loss: 0.7251 - accuracy: 0.78 - ETA: 0s - loss: 0.7259 - accuracy: 0.78 - ETA: 0s - loss: 0.7258 - accuracy: 0.78 - ETA: 0s - loss: 0.7262 - accuracy: 0.78 - ETA: 0s - loss: 0.7256 - accuracy: 0.78 - ETA: 0s - loss: 0.7257 - accuracy: 0.78 - ETA: 0s - loss: 0.7253 - accuracy: 0.78 - ETA: 0s - loss: 0.7248 - accuracy: 0.78 - ETA: 0s - loss: 0.7252 - accuracy: 0.78 - 2s 814us/step - loss: 0.7251 - accuracy: 0.7807 - val_loss: 0.7641 - val_accuracy: 0.7685\n",
      "Epoch 21/32\n",
      "2500/2500 [==============================] - ETA: 0s - loss: 0.5332 - accuracy: 0.87 - ETA: 1s - loss: 0.7226 - accuracy: 0.78 - ETA: 1s - loss: 0.7288 - accuracy: 0.78 - ETA: 1s - loss: 0.7337 - accuracy: 0.77 - ETA: 1s - loss: 0.7330 - accuracy: 0.77 - ETA: 1s - loss: 0.7425 - accuracy: 0.77 - ETA: 1s - loss: 0.7370 - accuracy: 0.77 - ETA: 1s - loss: 0.7343 - accuracy: 0.77 - ETA: 1s - loss: 0.7288 - accuracy: 0.78 - ETA: 1s - loss: 0.7250 - accuracy: 0.78 - ETA: 1s - loss: 0.7197 - accuracy: 0.78 - ETA: 1s - loss: 0.7169 - accuracy: 0.78 - ETA: 1s - loss: 0.7131 - accuracy: 0.78 - ETA: 1s - loss: 0.7143 - accuracy: 0.78 - ETA: 1s - loss: 0.7136 - accuracy: 0.78 - ETA: 1s - loss: 0.7104 - accuracy: 0.78 - ETA: 1s - loss: 0.7117 - accuracy: 0.78 - ETA: 1s - loss: 0.7113 - accuracy: 0.78 - ETA: 0s - loss: 0.7100 - accuracy: 0.78 - ETA: 0s - loss: 0.7095 - accuracy: 0.78 - ETA: 0s - loss: 0.7100 - accuracy: 0.78 - ETA: 0s - loss: 0.7107 - accuracy: 0.78 - ETA: 0s - loss: 0.7118 - accuracy: 0.78 - ETA: 0s - loss: 0.7127 - accuracy: 0.78 - ETA: 0s - loss: 0.7139 - accuracy: 0.78 - ETA: 0s - loss: 0.7149 - accuracy: 0.78 - ETA: 0s - loss: 0.7165 - accuracy: 0.78 - ETA: 0s - loss: 0.7169 - accuracy: 0.78 - ETA: 0s - loss: 0.7187 - accuracy: 0.78 - ETA: 0s - loss: 0.7185 - accuracy: 0.78 - ETA: 0s - loss: 0.7196 - accuracy: 0.78 - ETA: 0s - loss: 0.7200 - accuracy: 0.78 - ETA: 0s - loss: 0.7196 - accuracy: 0.78 - ETA: 0s - loss: 0.7201 - accuracy: 0.78 - ETA: 0s - loss: 0.7215 - accuracy: 0.78 - ETA: 0s - loss: 0.7206 - accuracy: 0.78 - ETA: 0s - loss: 0.7210 - accuracy: 0.78 - ETA: 0s - loss: 0.7214 - accuracy: 0.78 - 2s 814us/step - loss: 0.7212 - accuracy: 0.7817 - val_loss: 0.7644 - val_accuracy: 0.7699\n",
      "Epoch 22/32\n",
      "2500/2500 [==============================] - ETA: 0s - loss: 0.9769 - accuracy: 0.65 - ETA: 1s - loss: 0.7195 - accuracy: 0.77 - ETA: 1s - loss: 0.7215 - accuracy: 0.77 - ETA: 1s - loss: 0.7102 - accuracy: 0.78 - ETA: 1s - loss: 0.7122 - accuracy: 0.78 - ETA: 1s - loss: 0.7133 - accuracy: 0.78 - ETA: 1s - loss: 0.7126 - accuracy: 0.78 - ETA: 1s - loss: 0.7126 - accuracy: 0.78 - ETA: 1s - loss: 0.7171 - accuracy: 0.78 - ETA: 1s - loss: 0.7187 - accuracy: 0.78 - ETA: 1s - loss: 0.7180 - accuracy: 0.78 - ETA: 1s - loss: 0.7206 - accuracy: 0.78 - ETA: 1s - loss: 0.7165 - accuracy: 0.78 - ETA: 1s - loss: 0.7139 - accuracy: 0.78 - ETA: 1s - loss: 0.7112 - accuracy: 0.78 - ETA: 1s - loss: 0.7105 - accuracy: 0.78 - ETA: 1s - loss: 0.7125 - accuracy: 0.78 - ETA: 0s - loss: 0.7097 - accuracy: 0.78 - ETA: 0s - loss: 0.7102 - accuracy: 0.78 - ETA: 0s - loss: 0.7111 - accuracy: 0.78 - ETA: 0s - loss: 0.7107 - accuracy: 0.78 - ETA: 0s - loss: 0.7097 - accuracy: 0.78 - ETA: 0s - loss: 0.7109 - accuracy: 0.78 - ETA: 0s - loss: 0.7120 - accuracy: 0.78 - ETA: 0s - loss: 0.7130 - accuracy: 0.78 - ETA: 0s - loss: 0.7139 - accuracy: 0.78 - ETA: 0s - loss: 0.7133 - accuracy: 0.78 - ETA: 0s - loss: 0.7140 - accuracy: 0.78 - ETA: 0s - loss: 0.7147 - accuracy: 0.78 - ETA: 0s - loss: 0.7157 - accuracy: 0.78 - ETA: 0s - loss: 0.7157 - accuracy: 0.78 - ETA: 0s - loss: 0.7154 - accuracy: 0.78 - ETA: 0s - loss: 0.7162 - accuracy: 0.78 - ETA: 0s - loss: 0.7172 - accuracy: 0.78 - ETA: 0s - loss: 0.7177 - accuracy: 0.78 - ETA: 0s - loss: 0.7186 - accuracy: 0.78 - ETA: 0s - loss: 0.7187 - accuracy: 0.78 - ETA: 0s - loss: 0.7181 - accuracy: 0.78 - 2s 810us/step - loss: 0.7177 - accuracy: 0.7828 - val_loss: 0.7575 - val_accuracy: 0.7711\n",
      "Epoch 23/32\n",
      "2500/2500 [==============================] - ETA: 0s - loss: 0.5421 - accuracy: 0.78 - ETA: 1s - loss: 0.7193 - accuracy: 0.77 - ETA: 1s - loss: 0.6940 - accuracy: 0.78 - ETA: 1s - loss: 0.7101 - accuracy: 0.78 - ETA: 1s - loss: 0.7167 - accuracy: 0.78 - ETA: 1s - loss: 0.7154 - accuracy: 0.78 - ETA: 1s - loss: 0.7118 - accuracy: 0.78 - ETA: 1s - loss: 0.7098 - accuracy: 0.78 - ETA: 1s - loss: 0.7127 - accuracy: 0.78 - ETA: 1s - loss: 0.7131 - accuracy: 0.78 - ETA: 1s - loss: 0.7099 - accuracy: 0.78 - ETA: 1s - loss: 0.7130 - accuracy: 0.78 - ETA: 1s - loss: 0.7112 - accuracy: 0.78 - ETA: 1s - loss: 0.7138 - accuracy: 0.78 - ETA: 1s - loss: 0.7170 - accuracy: 0.78 - ETA: 1s - loss: 0.7156 - accuracy: 0.78 - ETA: 1s - loss: 0.7137 - accuracy: 0.78 - ETA: 1s - loss: 0.7142 - accuracy: 0.78 - ETA: 0s - loss: 0.7151 - accuracy: 0.78 - ETA: 0s - loss: 0.7158 - accuracy: 0.78 - ETA: 0s - loss: 0.7157 - accuracy: 0.78 - ETA: 0s - loss: 0.7164 - accuracy: 0.78 - ETA: 0s - loss: 0.7148 - accuracy: 0.78 - ETA: 0s - loss: 0.7131 - accuracy: 0.78 - ETA: 0s - loss: 0.7132 - accuracy: 0.78 - ETA: 0s - loss: 0.7141 - accuracy: 0.78 - ETA: 0s - loss: 0.7142 - accuracy: 0.78 - ETA: 0s - loss: 0.7146 - accuracy: 0.78 - ETA: 0s - loss: 0.7142 - accuracy: 0.78 - ETA: 0s - loss: 0.7144 - accuracy: 0.78 - ETA: 0s - loss: 0.7142 - accuracy: 0.78 - ETA: 0s - loss: 0.7144 - accuracy: 0.78 - ETA: 0s - loss: 0.7143 - accuracy: 0.78 - ETA: 0s - loss: 0.7138 - accuracy: 0.78 - ETA: 0s - loss: 0.7138 - accuracy: 0.78 - ETA: 0s - loss: 0.7132 - accuracy: 0.78 - ETA: 0s - loss: 0.7131 - accuracy: 0.78 - ETA: 0s - loss: 0.7131 - accuracy: 0.78 - 2s 807us/step - loss: 0.7129 - accuracy: 0.7850 - val_loss: 0.7523 - val_accuracy: 0.7733\n",
      "Epoch 24/32\n",
      "2500/2500 [==============================] - ETA: 2s - loss: 0.4303 - accuracy: 0.84 - ETA: 1s - loss: 0.6763 - accuracy: 0.79 - ETA: 1s - loss: 0.6986 - accuracy: 0.79 - ETA: 1s - loss: 0.7027 - accuracy: 0.79 - ETA: 1s - loss: 0.7045 - accuracy: 0.79 - ETA: 1s - loss: 0.7014 - accuracy: 0.79 - ETA: 1s - loss: 0.7032 - accuracy: 0.78 - ETA: 1s - loss: 0.7019 - accuracy: 0.78 - ETA: 1s - loss: 0.7053 - accuracy: 0.78 - ETA: 1s - loss: 0.7059 - accuracy: 0.78 - ETA: 1s - loss: 0.7059 - accuracy: 0.78 - ETA: 1s - loss: 0.7042 - accuracy: 0.78 - ETA: 1s - loss: 0.7044 - accuracy: 0.78 - ETA: 1s - loss: 0.7083 - accuracy: 0.78 - ETA: 1s - loss: 0.7088 - accuracy: 0.78 - ETA: 1s - loss: 0.7087 - accuracy: 0.78 - ETA: 1s - loss: 0.7080 - accuracy: 0.78 - ETA: 0s - loss: 0.7067 - accuracy: 0.78 - ETA: 0s - loss: 0.7071 - accuracy: 0.78 - ETA: 0s - loss: 0.7069 - accuracy: 0.78 - ETA: 0s - loss: 0.7083 - accuracy: 0.78 - ETA: 0s - loss: 0.7086 - accuracy: 0.78 - ETA: 0s - loss: 0.7081 - accuracy: 0.78 - ETA: 0s - loss: 0.7094 - accuracy: 0.78 - ETA: 0s - loss: 0.7092 - accuracy: 0.78 - ETA: 0s - loss: 0.7091 - accuracy: 0.78 - ETA: 0s - loss: 0.7102 - accuracy: 0.78 - ETA: 0s - loss: 0.7104 - accuracy: 0.78 - ETA: 0s - loss: 0.7091 - accuracy: 0.78 - ETA: 0s - loss: 0.7092 - accuracy: 0.78 - ETA: 0s - loss: 0.7087 - accuracy: 0.78 - ETA: 0s - loss: 0.7086 - accuracy: 0.78 - ETA: 0s - loss: 0.7095 - accuracy: 0.78 - ETA: 0s - loss: 0.7085 - accuracy: 0.78 - ETA: 0s - loss: 0.7088 - accuracy: 0.78 - ETA: 0s - loss: 0.7088 - accuracy: 0.78 - ETA: 0s - loss: 0.7099 - accuracy: 0.78 - 2s 800us/step - loss: 0.7098 - accuracy: 0.7852 - val_loss: 0.7494 - val_accuracy: 0.7726\n",
      "Epoch 25/32\n",
      "2500/2500 [==============================] - ETA: 0s - loss: 0.6835 - accuracy: 0.84 - ETA: 1s - loss: 0.6979 - accuracy: 0.79 - ETA: 1s - loss: 0.6854 - accuracy: 0.79 - ETA: 1s - loss: 0.7015 - accuracy: 0.78 - ETA: 1s - loss: 0.6946 - accuracy: 0.78 - ETA: 1s - loss: 0.7016 - accuracy: 0.78 - ETA: 1s - loss: 0.7025 - accuracy: 0.78 - ETA: 1s - loss: 0.7050 - accuracy: 0.78 - ETA: 1s - loss: 0.7025 - accuracy: 0.78 - ETA: 1s - loss: 0.6993 - accuracy: 0.78 - ETA: 1s - loss: 0.7025 - accuracy: 0.78 - ETA: 1s - loss: 0.7001 - accuracy: 0.78 - ETA: 1s - loss: 0.7022 - accuracy: 0.78 - ETA: 1s - loss: 0.7021 - accuracy: 0.78 - ETA: 1s - loss: 0.7048 - accuracy: 0.78 - ETA: 1s - loss: 0.7024 - accuracy: 0.78 - ETA: 1s - loss: 0.7077 - accuracy: 0.78 - ETA: 0s - loss: 0.7077 - accuracy: 0.78 - ETA: 0s - loss: 0.7097 - accuracy: 0.78 - ETA: 0s - loss: 0.7079 - accuracy: 0.78 - ETA: 0s - loss: 0.7076 - accuracy: 0.78 - ETA: 0s - loss: 0.7070 - accuracy: 0.78 - ETA: 0s - loss: 0.7072 - accuracy: 0.78 - ETA: 0s - loss: 0.7055 - accuracy: 0.78 - ETA: 0s - loss: 0.7052 - accuracy: 0.78 - ETA: 0s - loss: 0.7038 - accuracy: 0.78 - ETA: 0s - loss: 0.7040 - accuracy: 0.78 - ETA: 0s - loss: 0.7031 - accuracy: 0.78 - ETA: 0s - loss: 0.7022 - accuracy: 0.78 - ETA: 0s - loss: 0.7028 - accuracy: 0.78 - ETA: 0s - loss: 0.7019 - accuracy: 0.78 - ETA: 0s - loss: 0.7020 - accuracy: 0.78 - ETA: 0s - loss: 0.7010 - accuracy: 0.78 - ETA: 0s - loss: 0.7011 - accuracy: 0.78 - ETA: 0s - loss: 0.7028 - accuracy: 0.78 - ETA: 0s - loss: 0.7028 - accuracy: 0.78 - ETA: 0s - loss: 0.7025 - accuracy: 0.78 - 2s 798us/step - loss: 0.7027 - accuracy: 0.7885 - val_loss: 0.7472 - val_accuracy: 0.7770\n",
      "Epoch 26/32\n",
      "2500/2500 [==============================] - ETA: 0s - loss: 0.4936 - accuracy: 0.90 - ETA: 1s - loss: 0.7187 - accuracy: 0.78 - ETA: 1s - loss: 0.7028 - accuracy: 0.79 - ETA: 1s - loss: 0.7168 - accuracy: 0.78 - ETA: 1s - loss: 0.7211 - accuracy: 0.78 - ETA: 1s - loss: 0.7064 - accuracy: 0.78 - ETA: 1s - loss: 0.7077 - accuracy: 0.78 - ETA: 1s - loss: 0.7032 - accuracy: 0.79 - ETA: 1s - loss: 0.7013 - accuracy: 0.78 - ETA: 1s - loss: 0.7029 - accuracy: 0.78 - ETA: 1s - loss: 0.6984 - accuracy: 0.78 - ETA: 1s - loss: 0.7003 - accuracy: 0.78 - ETA: 1s - loss: 0.7012 - accuracy: 0.78 - ETA: 1s - loss: 0.7022 - accuracy: 0.78 - ETA: 1s - loss: 0.7023 - accuracy: 0.78 - ETA: 1s - loss: 0.7007 - accuracy: 0.78 - ETA: 1s - loss: 0.7011 - accuracy: 0.78 - ETA: 1s - loss: 0.6989 - accuracy: 0.79 - ETA: 0s - loss: 0.6996 - accuracy: 0.79 - ETA: 0s - loss: 0.6990 - accuracy: 0.79 - ETA: 0s - loss: 0.6980 - accuracy: 0.78 - ETA: 0s - loss: 0.6984 - accuracy: 0.78 - ETA: 0s - loss: 0.6997 - accuracy: 0.78 - ETA: 0s - loss: 0.7009 - accuracy: 0.78 - ETA: 0s - loss: 0.7018 - accuracy: 0.78 - ETA: 0s - loss: 0.7016 - accuracy: 0.78 - ETA: 0s - loss: 0.7010 - accuracy: 0.78 - ETA: 0s - loss: 0.6996 - accuracy: 0.78 - ETA: 0s - loss: 0.6990 - accuracy: 0.78 - ETA: 0s - loss: 0.7000 - accuracy: 0.78 - ETA: 0s - loss: 0.7007 - accuracy: 0.78 - ETA: 0s - loss: 0.7022 - accuracy: 0.78 - ETA: 0s - loss: 0.7006 - accuracy: 0.78 - ETA: 0s - loss: 0.7003 - accuracy: 0.78 - ETA: 0s - loss: 0.6998 - accuracy: 0.78 - ETA: 0s - loss: 0.6996 - accuracy: 0.78 - ETA: 0s - loss: 0.6985 - accuracy: 0.78 - ETA: 0s - loss: 0.6981 - accuracy: 0.78 - 2s 809us/step - loss: 0.6981 - accuracy: 0.7896 - val_loss: 0.7429 - val_accuracy: 0.7758\n",
      "Epoch 27/32\n",
      "2500/2500 [==============================] - ETA: 0s - loss: 0.7443 - accuracy: 0.81 - ETA: 1s - loss: 0.6811 - accuracy: 0.78 - ETA: 1s - loss: 0.6925 - accuracy: 0.78 - ETA: 1s - loss: 0.6968 - accuracy: 0.78 - ETA: 1s - loss: 0.7002 - accuracy: 0.78 - ETA: 1s - loss: 0.6985 - accuracy: 0.78 - ETA: 1s - loss: 0.6974 - accuracy: 0.78 - ETA: 1s - loss: 0.6885 - accuracy: 0.78 - ETA: 1s - loss: 0.6909 - accuracy: 0.78 - ETA: 1s - loss: 0.6903 - accuracy: 0.78 - ETA: 1s - loss: 0.6914 - accuracy: 0.78 - ETA: 1s - loss: 0.6898 - accuracy: 0.78 - ETA: 1s - loss: 0.6871 - accuracy: 0.79 - ETA: 1s - loss: 0.6883 - accuracy: 0.79 - ETA: 1s - loss: 0.6897 - accuracy: 0.79 - ETA: 1s - loss: 0.6895 - accuracy: 0.79 - ETA: 1s - loss: 0.6873 - accuracy: 0.79 - ETA: 0s - loss: 0.6885 - accuracy: 0.79 - ETA: 0s - loss: 0.6890 - accuracy: 0.79 - ETA: 0s - loss: 0.6894 - accuracy: 0.79 - ETA: 0s - loss: 0.6913 - accuracy: 0.79 - ETA: 0s - loss: 0.6945 - accuracy: 0.78 - ETA: 0s - loss: 0.6953 - accuracy: 0.78 - ETA: 0s - loss: 0.6957 - accuracy: 0.78 - ETA: 0s - loss: 0.6951 - accuracy: 0.78 - ETA: 0s - loss: 0.6942 - accuracy: 0.79 - ETA: 0s - loss: 0.6918 - accuracy: 0.79 - ETA: 0s - loss: 0.6922 - accuracy: 0.79 - ETA: 0s - loss: 0.6919 - accuracy: 0.79 - ETA: 0s - loss: 0.6935 - accuracy: 0.79 - ETA: 0s - loss: 0.6933 - accuracy: 0.79 - ETA: 0s - loss: 0.6925 - accuracy: 0.79 - ETA: 0s - loss: 0.6920 - accuracy: 0.79 - ETA: 0s - loss: 0.6914 - accuracy: 0.79 - ETA: 0s - loss: 0.6922 - accuracy: 0.79 - ETA: 0s - loss: 0.6928 - accuracy: 0.79 - ETA: 0s - loss: 0.6945 - accuracy: 0.79 - 2s 789us/step - loss: 0.6944 - accuracy: 0.7901 - val_loss: 0.7434 - val_accuracy: 0.7768\n",
      "Epoch 28/32\n",
      "2500/2500 [==============================] - ETA: 0s - loss: 0.6959 - accuracy: 0.84 - ETA: 1s - loss: 0.7175 - accuracy: 0.79 - ETA: 1s - loss: 0.6932 - accuracy: 0.79 - ETA: 1s - loss: 0.6878 - accuracy: 0.79 - ETA: 1s - loss: 0.6793 - accuracy: 0.79 - ETA: 1s - loss: 0.6752 - accuracy: 0.79 - ETA: 1s - loss: 0.6742 - accuracy: 0.79 - ETA: 1s - loss: 0.6809 - accuracy: 0.79 - ETA: 1s - loss: 0.6793 - accuracy: 0.79 - ETA: 1s - loss: 0.6810 - accuracy: 0.79 - ETA: 1s - loss: 0.6848 - accuracy: 0.79 - ETA: 1s - loss: 0.6822 - accuracy: 0.79 - ETA: 1s - loss: 0.6837 - accuracy: 0.79 - ETA: 1s - loss: 0.6840 - accuracy: 0.79 - ETA: 1s - loss: 0.6852 - accuracy: 0.79 - ETA: 1s - loss: 0.6859 - accuracy: 0.79 - ETA: 1s - loss: 0.6849 - accuracy: 0.79 - ETA: 0s - loss: 0.6848 - accuracy: 0.79 - ETA: 0s - loss: 0.6857 - accuracy: 0.79 - ETA: 0s - loss: 0.6857 - accuracy: 0.79 - ETA: 0s - loss: 0.6851 - accuracy: 0.79 - ETA: 0s - loss: 0.6849 - accuracy: 0.79 - ETA: 0s - loss: 0.6856 - accuracy: 0.79 - ETA: 0s - loss: 0.6864 - accuracy: 0.79 - ETA: 0s - loss: 0.6868 - accuracy: 0.79 - ETA: 0s - loss: 0.6869 - accuracy: 0.79 - ETA: 0s - loss: 0.6885 - accuracy: 0.79 - ETA: 0s - loss: 0.6894 - accuracy: 0.79 - ETA: 0s - loss: 0.6901 - accuracy: 0.79 - ETA: 0s - loss: 0.6904 - accuracy: 0.79 - ETA: 0s - loss: 0.6908 - accuracy: 0.79 - ETA: 0s - loss: 0.6915 - accuracy: 0.79 - ETA: 0s - loss: 0.6920 - accuracy: 0.79 - ETA: 0s - loss: 0.6916 - accuracy: 0.79 - ETA: 0s - loss: 0.6910 - accuracy: 0.79 - ETA: 0s - loss: 0.6912 - accuracy: 0.79 - ETA: 0s - loss: 0.6905 - accuracy: 0.79 - ETA: 0s - loss: 0.6910 - accuracy: 0.79 - 2s 807us/step - loss: 0.6912 - accuracy: 0.7921 - val_loss: 0.7378 - val_accuracy: 0.7759\n",
      "Epoch 29/32\n",
      "2500/2500 [==============================] - ETA: 0s - loss: 0.7785 - accuracy: 0.78 - ETA: 1s - loss: 0.6687 - accuracy: 0.79 - ETA: 1s - loss: 0.6813 - accuracy: 0.79 - ETA: 1s - loss: 0.6900 - accuracy: 0.79 - ETA: 1s - loss: 0.7037 - accuracy: 0.78 - ETA: 1s - loss: 0.7010 - accuracy: 0.78 - ETA: 1s - loss: 0.6985 - accuracy: 0.78 - ETA: 1s - loss: 0.7014 - accuracy: 0.78 - ETA: 1s - loss: 0.7006 - accuracy: 0.78 - ETA: 1s - loss: 0.6982 - accuracy: 0.78 - ETA: 1s - loss: 0.7000 - accuracy: 0.78 - ETA: 1s - loss: 0.6932 - accuracy: 0.78 - ETA: 1s - loss: 0.6925 - accuracy: 0.79 - ETA: 1s - loss: 0.6934 - accuracy: 0.79 - ETA: 1s - loss: 0.6912 - accuracy: 0.78 - ETA: 1s - loss: 0.6904 - accuracy: 0.79 - ETA: 1s - loss: 0.6880 - accuracy: 0.79 - ETA: 0s - loss: 0.6869 - accuracy: 0.79 - ETA: 0s - loss: 0.6866 - accuracy: 0.79 - ETA: 0s - loss: 0.6867 - accuracy: 0.79 - ETA: 0s - loss: 0.6863 - accuracy: 0.79 - ETA: 0s - loss: 0.6849 - accuracy: 0.79 - ETA: 0s - loss: 0.6842 - accuracy: 0.79 - ETA: 0s - loss: 0.6849 - accuracy: 0.79 - ETA: 0s - loss: 0.6852 - accuracy: 0.79 - ETA: 0s - loss: 0.6855 - accuracy: 0.79 - ETA: 0s - loss: 0.6858 - accuracy: 0.79 - ETA: 0s - loss: 0.6851 - accuracy: 0.79 - ETA: 0s - loss: 0.6857 - accuracy: 0.79 - ETA: 0s - loss: 0.6873 - accuracy: 0.79 - ETA: 0s - loss: 0.6861 - accuracy: 0.79 - ETA: 0s - loss: 0.6866 - accuracy: 0.79 - ETA: 0s - loss: 0.6865 - accuracy: 0.79 - ETA: 0s - loss: 0.6870 - accuracy: 0.79 - ETA: 0s - loss: 0.6867 - accuracy: 0.79 - ETA: 0s - loss: 0.6877 - accuracy: 0.79 - ETA: 0s - loss: 0.6868 - accuracy: 0.79 - 2s 798us/step - loss: 0.6867 - accuracy: 0.7914 - val_loss: 0.7385 - val_accuracy: 0.7758\n",
      "Epoch 30/32\n",
      "2500/2500 [==============================] - ETA: 0s - loss: 0.8967 - accuracy: 0.68 - ETA: 1s - loss: 0.6874 - accuracy: 0.79 - ETA: 1s - loss: 0.7005 - accuracy: 0.79 - ETA: 1s - loss: 0.6958 - accuracy: 0.79 - ETA: 1s - loss: 0.7008 - accuracy: 0.79 - ETA: 1s - loss: 0.6992 - accuracy: 0.79 - ETA: 1s - loss: 0.6861 - accuracy: 0.79 - ETA: 1s - loss: 0.6871 - accuracy: 0.79 - ETA: 1s - loss: 0.6841 - accuracy: 0.79 - ETA: 1s - loss: 0.6846 - accuracy: 0.79 - ETA: 1s - loss: 0.6837 - accuracy: 0.79 - ETA: 1s - loss: 0.6856 - accuracy: 0.79 - ETA: 1s - loss: 0.6866 - accuracy: 0.79 - ETA: 1s - loss: 0.6831 - accuracy: 0.79 - ETA: 1s - loss: 0.6786 - accuracy: 0.79 - ETA: 1s - loss: 0.6787 - accuracy: 0.79 - ETA: 1s - loss: 0.6771 - accuracy: 0.79 - ETA: 0s - loss: 0.6773 - accuracy: 0.79 - ETA: 0s - loss: 0.6789 - accuracy: 0.79 - ETA: 0s - loss: 0.6814 - accuracy: 0.79 - ETA: 0s - loss: 0.6818 - accuracy: 0.79 - ETA: 0s - loss: 0.6816 - accuracy: 0.79 - ETA: 0s - loss: 0.6809 - accuracy: 0.79 - ETA: 0s - loss: 0.6805 - accuracy: 0.79 - ETA: 0s - loss: 0.6778 - accuracy: 0.79 - ETA: 0s - loss: 0.6791 - accuracy: 0.79 - ETA: 0s - loss: 0.6785 - accuracy: 0.79 - ETA: 0s - loss: 0.6785 - accuracy: 0.79 - ETA: 0s - loss: 0.6794 - accuracy: 0.79 - ETA: 0s - loss: 0.6796 - accuracy: 0.79 - ETA: 0s - loss: 0.6801 - accuracy: 0.79 - ETA: 0s - loss: 0.6797 - accuracy: 0.79 - ETA: 0s - loss: 0.6808 - accuracy: 0.79 - ETA: 0s - loss: 0.6800 - accuracy: 0.79 - ETA: 0s - loss: 0.6811 - accuracy: 0.79 - ETA: 0s - loss: 0.6815 - accuracy: 0.79 - ETA: 0s - loss: 0.6815 - accuracy: 0.79 - ETA: 0s - loss: 0.6824 - accuracy: 0.79 - 2s 849us/step - loss: 0.6827 - accuracy: 0.7930 - val_loss: 0.7378 - val_accuracy: 0.7724\n",
      "Epoch 31/32\n",
      "2500/2500 [==============================] - ETA: 0s - loss: 0.5616 - accuracy: 0.87 - ETA: 1s - loss: 0.6955 - accuracy: 0.78 - ETA: 1s - loss: 0.6900 - accuracy: 0.78 - ETA: 1s - loss: 0.6730 - accuracy: 0.79 - ETA: 1s - loss: 0.6844 - accuracy: 0.79 - ETA: 1s - loss: 0.6851 - accuracy: 0.79 - ETA: 1s - loss: 0.6803 - accuracy: 0.79 - ETA: 1s - loss: 0.6817 - accuracy: 0.79 - ETA: 1s - loss: 0.6864 - accuracy: 0.79 - ETA: 1s - loss: 0.6875 - accuracy: 0.79 - ETA: 1s - loss: 0.6852 - accuracy: 0.79 - ETA: 1s - loss: 0.6825 - accuracy: 0.79 - ETA: 1s - loss: 0.6848 - accuracy: 0.79 - ETA: 1s - loss: 0.6855 - accuracy: 0.79 - ETA: 1s - loss: 0.6839 - accuracy: 0.79 - ETA: 1s - loss: 0.6828 - accuracy: 0.79 - ETA: 1s - loss: 0.6795 - accuracy: 0.79 - ETA: 1s - loss: 0.6792 - accuracy: 0.79 - ETA: 0s - loss: 0.6775 - accuracy: 0.79 - ETA: 0s - loss: 0.6785 - accuracy: 0.79 - ETA: 0s - loss: 0.6795 - accuracy: 0.79 - ETA: 0s - loss: 0.6801 - accuracy: 0.79 - ETA: 0s - loss: 0.6804 - accuracy: 0.79 - ETA: 0s - loss: 0.6785 - accuracy: 0.79 - ETA: 0s - loss: 0.6776 - accuracy: 0.79 - ETA: 0s - loss: 0.6774 - accuracy: 0.79 - ETA: 0s - loss: 0.6777 - accuracy: 0.79 - ETA: 0s - loss: 0.6782 - accuracy: 0.79 - ETA: 0s - loss: 0.6793 - accuracy: 0.79 - ETA: 0s - loss: 0.6793 - accuracy: 0.79 - ETA: 0s - loss: 0.6796 - accuracy: 0.79 - ETA: 0s - loss: 0.6792 - accuracy: 0.79 - ETA: 0s - loss: 0.6791 - accuracy: 0.79 - ETA: 0s - loss: 0.6780 - accuracy: 0.79 - ETA: 0s - loss: 0.6776 - accuracy: 0.79 - ETA: 0s - loss: 0.6778 - accuracy: 0.79 - ETA: 0s - loss: 0.6789 - accuracy: 0.79 - ETA: 0s - loss: 0.6788 - accuracy: 0.79 - 2s 809us/step - loss: 0.6785 - accuracy: 0.7958 - val_loss: 0.7303 - val_accuracy: 0.7749\n",
      "Epoch 32/32\n",
      "2500/2500 [==============================] - ETA: 0s - loss: 0.5628 - accuracy: 0.84 - ETA: 1s - loss: 0.6547 - accuracy: 0.79 - ETA: 1s - loss: 0.6721 - accuracy: 0.79 - ETA: 1s - loss: 0.6821 - accuracy: 0.79 - ETA: 1s - loss: 0.6908 - accuracy: 0.78 - ETA: 1s - loss: 0.6883 - accuracy: 0.79 - ETA: 1s - loss: 0.6863 - accuracy: 0.79 - ETA: 1s - loss: 0.6861 - accuracy: 0.79 - ETA: 1s - loss: 0.6902 - accuracy: 0.79 - ETA: 1s - loss: 0.6890 - accuracy: 0.79 - ETA: 1s - loss: 0.6884 - accuracy: 0.79 - ETA: 1s - loss: 0.6871 - accuracy: 0.79 - ETA: 1s - loss: 0.6859 - accuracy: 0.79 - ETA: 1s - loss: 0.6872 - accuracy: 0.79 - ETA: 1s - loss: 0.6851 - accuracy: 0.79 - ETA: 1s - loss: 0.6846 - accuracy: 0.79 - ETA: 1s - loss: 0.6820 - accuracy: 0.79 - ETA: 0s - loss: 0.6792 - accuracy: 0.79 - ETA: 0s - loss: 0.6793 - accuracy: 0.79 - ETA: 0s - loss: 0.6793 - accuracy: 0.79 - ETA: 0s - loss: 0.6764 - accuracy: 0.79 - ETA: 0s - loss: 0.6764 - accuracy: 0.79 - ETA: 0s - loss: 0.6762 - accuracy: 0.79 - ETA: 0s - loss: 0.6755 - accuracy: 0.79 - ETA: 0s - loss: 0.6769 - accuracy: 0.79 - ETA: 0s - loss: 0.6777 - accuracy: 0.79 - ETA: 0s - loss: 0.6770 - accuracy: 0.79 - ETA: 0s - loss: 0.6779 - accuracy: 0.79 - ETA: 0s - loss: 0.6786 - accuracy: 0.79 - ETA: 0s - loss: 0.6791 - accuracy: 0.79 - ETA: 0s - loss: 0.6785 - accuracy: 0.79 - ETA: 0s - loss: 0.6782 - accuracy: 0.79 - ETA: 0s - loss: 0.6782 - accuracy: 0.79 - ETA: 0s - loss: 0.6782 - accuracy: 0.79 - ETA: 0s - loss: 0.6778 - accuracy: 0.79 - ETA: 0s - loss: 0.6784 - accuracy: 0.79 - ETA: 0s - loss: 0.6785 - accuracy: 0.79 - 2s 801us/step - loss: 0.6789 - accuracy: 0.7945 - val_loss: 0.7299 - val_accuracy: 0.7819\n"
     ]
    },
    {
     "data": {
      "text/html": [
       "<span style=\"color:#4527A0\"><h1 style=\"font-size:18px\">Trial complete</h1></span>"
      ],
      "text/plain": [
       "<IPython.core.display.HTML object>"
      ]
     },
     "metadata": {},
     "output_type": "display_data"
    },
    {
     "data": {
      "text/html": [
       "<span style=\"color:#4527A0\"><h1 style=\"font-size:18px\">Trial summary</h1></span>"
      ],
      "text/plain": [
       "<IPython.core.display.HTML object>"
      ]
     },
     "metadata": {},
     "output_type": "display_data"
    },
    {
     "data": {
      "text/html": [
       "<span style=\"color:cyan\"> |-Trial ID: 9f55c8f4a811d5526de4e0694707937f</span>"
      ],
      "text/plain": [
       "<IPython.core.display.HTML object>"
      ]
     },
     "metadata": {},
     "output_type": "display_data"
    },
    {
     "data": {
      "text/html": [
       "<span style=\"color:cyan\"> |-Score: 0.7822666764259338</span>"
      ],
      "text/plain": [
       "<IPython.core.display.HTML object>"
      ]
     },
     "metadata": {},
     "output_type": "display_data"
    },
    {
     "data": {
      "text/html": [
       "<span style=\"color:cyan\"> |-Best step: 0</span>"
      ],
      "text/plain": [
       "<IPython.core.display.HTML object>"
      ]
     },
     "metadata": {},
     "output_type": "display_data"
    },
    {
     "data": {
      "text/html": [
       "<span style=\"color:#7E57C2\"><h2 style=\"font-size:16px\">Hyperparameters:</h2></span>"
      ],
      "text/plain": [
       "<IPython.core.display.HTML object>"
      ]
     },
     "metadata": {},
     "output_type": "display_data"
    },
    {
     "data": {
      "text/html": [
       "<span style=\"color:cyan\"> |-learning_rate: 0.001</span>"
      ],
      "text/plain": [
       "<IPython.core.display.HTML object>"
      ]
     },
     "metadata": {},
     "output_type": "display_data"
    },
    {
     "data": {
      "text/html": [
       "<span style=\"color:blue\"> |-units: 32</span>"
      ],
      "text/plain": [
       "<IPython.core.display.HTML object>"
      ]
     },
     "metadata": {},
     "output_type": "display_data"
    },
    {
     "name": "stdout",
     "output_type": "stream",
     "text": [
      "Epoch 1/32\n",
      "2500/2500 [==============================] - ETA: 0s - loss: 3.4476 - accuracy: 0.03 - ETA: 2s - loss: 2.9214 - accuracy: 0.17 - ETA: 2s - loss: 2.6822 - accuracy: 0.22 - ETA: 2s - loss: 2.5404 - accuracy: 0.24 - ETA: 2s - loss: 2.4432 - accuracy: 0.25 - ETA: 2s - loss: 2.3642 - accuracy: 0.27 - ETA: 1s - loss: 2.2880 - accuracy: 0.29 - ETA: 1s - loss: 2.2230 - accuracy: 0.31 - ETA: 1s - loss: 2.1639 - accuracy: 0.32 - ETA: 1s - loss: 2.1140 - accuracy: 0.33 - ETA: 1s - loss: 2.0701 - accuracy: 0.34 - ETA: 1s - loss: 2.0311 - accuracy: 0.35 - ETA: 1s - loss: 1.9900 - accuracy: 0.36 - ETA: 1s - loss: 1.9535 - accuracy: 0.37 - ETA: 1s - loss: 1.9183 - accuracy: 0.38 - ETA: 1s - loss: 1.8877 - accuracy: 0.39 - ETA: 1s - loss: 1.8590 - accuracy: 0.40 - ETA: 1s - loss: 1.8328 - accuracy: 0.41 - ETA: 1s - loss: 1.8067 - accuracy: 0.42 - ETA: 1s - loss: 1.7824 - accuracy: 0.43 - ETA: 1s - loss: 1.7602 - accuracy: 0.44 - ETA: 1s - loss: 1.7398 - accuracy: 0.44 - ETA: 1s - loss: 1.7184 - accuracy: 0.45 - ETA: 1s - loss: 1.6988 - accuracy: 0.45 - ETA: 1s - loss: 1.6812 - accuracy: 0.46 - ETA: 1s - loss: 1.6634 - accuracy: 0.47 - ETA: 0s - loss: 1.6475 - accuracy: 0.47 - ETA: 0s - loss: 1.6317 - accuracy: 0.48 - ETA: 0s - loss: 1.6161 - accuracy: 0.48 - ETA: 0s - loss: 1.6006 - accuracy: 0.49 - ETA: 0s - loss: 1.5869 - accuracy: 0.49 - ETA: 0s - loss: 1.5741 - accuracy: 0.50 - ETA: 0s - loss: 1.5616 - accuracy: 0.50 - ETA: 0s - loss: 1.5497 - accuracy: 0.50 - ETA: 0s - loss: 1.5373 - accuracy: 0.51 - ETA: 0s - loss: 1.5264 - accuracy: 0.51 - ETA: 0s - loss: 1.5168 - accuracy: 0.51 - ETA: 0s - loss: 1.5062 - accuracy: 0.52 - ETA: 0s - loss: 1.4961 - accuracy: 0.52 - ETA: 0s - loss: 1.4857 - accuracy: 0.52 - ETA: 0s - loss: 1.4780 - accuracy: 0.53 - ETA: 0s - loss: 1.4689 - accuracy: 0.53 - ETA: 0s - loss: 1.4605 - accuracy: 0.53 - ETA: 0s - loss: 1.4519 - accuracy: 0.53 - ETA: 0s - loss: 1.4436 - accuracy: 0.54 - ETA: 0s - loss: 1.4354 - accuracy: 0.54 - 3s 1ms/step - loss: 1.4302 - accuracy: 0.5467 - val_loss: 1.0699 - val_accuracy: 0.6625\n",
      "Epoch 2/32\n",
      "2500/2500 [==============================] - ETA: 0s - loss: 0.8864 - accuracy: 0.75 - ETA: 2s - loss: 1.0444 - accuracy: 0.67 - ETA: 2s - loss: 1.0719 - accuracy: 0.67 - ETA: 2s - loss: 1.0693 - accuracy: 0.67 - ETA: 2s - loss: 1.0702 - accuracy: 0.67 - ETA: 2s - loss: 1.0644 - accuracy: 0.67 - ETA: 1s - loss: 1.0558 - accuracy: 0.67 - ETA: 1s - loss: 1.0585 - accuracy: 0.67 - ETA: 1s - loss: 1.0537 - accuracy: 0.67 - ETA: 1s - loss: 1.0476 - accuracy: 0.67 - ETA: 1s - loss: 1.0410 - accuracy: 0.67 - ETA: 1s - loss: 1.0373 - accuracy: 0.67 - ETA: 1s - loss: 1.0332 - accuracy: 0.67 - ETA: 1s - loss: 1.0280 - accuracy: 0.67 - ETA: 1s - loss: 1.0261 - accuracy: 0.67 - ETA: 1s - loss: 1.0264 - accuracy: 0.67 - ETA: 1s - loss: 1.0242 - accuracy: 0.67 - ETA: 1s - loss: 1.0216 - accuracy: 0.67 - ETA: 1s - loss: 1.0191 - accuracy: 0.68 - ETA: 1s - loss: 1.0183 - accuracy: 0.68 - ETA: 1s - loss: 1.0170 - accuracy: 0.68 - ETA: 1s - loss: 1.0147 - accuracy: 0.68 - ETA: 1s - loss: 1.0142 - accuracy: 0.68 - ETA: 1s - loss: 1.0140 - accuracy: 0.68 - ETA: 1s - loss: 1.0130 - accuracy: 0.68 - ETA: 1s - loss: 1.0112 - accuracy: 0.68 - ETA: 0s - loss: 1.0072 - accuracy: 0.68 - ETA: 0s - loss: 1.0053 - accuracy: 0.68 - ETA: 0s - loss: 1.0056 - accuracy: 0.68 - ETA: 0s - loss: 1.0048 - accuracy: 0.68 - ETA: 0s - loss: 1.0024 - accuracy: 0.68 - ETA: 0s - loss: 1.0005 - accuracy: 0.68 - ETA: 0s - loss: 0.9978 - accuracy: 0.68 - ETA: 0s - loss: 0.9960 - accuracy: 0.68 - ETA: 0s - loss: 0.9940 - accuracy: 0.68 - ETA: 0s - loss: 0.9926 - accuracy: 0.68 - ETA: 0s - loss: 0.9916 - accuracy: 0.69 - ETA: 0s - loss: 0.9897 - accuracy: 0.69 - ETA: 0s - loss: 0.9884 - accuracy: 0.69 - ETA: 0s - loss: 0.9870 - accuracy: 0.69 - ETA: 0s - loss: 0.9856 - accuracy: 0.69 - ETA: 0s - loss: 0.9856 - accuracy: 0.69 - ETA: 0s - loss: 0.9841 - accuracy: 0.69 - ETA: 0s - loss: 0.9825 - accuracy: 0.69 - ETA: 0s - loss: 0.9815 - accuracy: 0.69 - ETA: 0s - loss: 0.9802 - accuracy: 0.69 - 2s 995us/step - loss: 0.9789 - accuracy: 0.6956 - val_loss: 0.9293 - val_accuracy: 0.7180\n",
      "Epoch 3/32\n",
      "2500/2500 [==============================] - ETA: 0s - loss: 1.0322 - accuracy: 0.65 - ETA: 2s - loss: 0.8985 - accuracy: 0.71 - ETA: 2s - loss: 0.9115 - accuracy: 0.71 - ETA: 2s - loss: 0.9022 - accuracy: 0.72 - ETA: 2s - loss: 0.8975 - accuracy: 0.72 - ETA: 2s - loss: 0.8815 - accuracy: 0.73 - ETA: 2s - loss: 0.8872 - accuracy: 0.72 - ETA: 1s - loss: 0.8866 - accuracy: 0.72 - ETA: 1s - loss: 0.8822 - accuracy: 0.73 - ETA: 1s - loss: 0.8830 - accuracy: 0.72 - ETA: 1s - loss: 0.8812 - accuracy: 0.72 - ETA: 1s - loss: 0.8790 - accuracy: 0.73 - ETA: 1s - loss: 0.8808 - accuracy: 0.73 - ETA: 1s - loss: 0.8795 - accuracy: 0.73 - ETA: 1s - loss: 0.8841 - accuracy: 0.72 - ETA: 1s - loss: 0.8841 - accuracy: 0.72 - ETA: 1s - loss: 0.8834 - accuracy: 0.72 - ETA: 1s - loss: 0.8815 - accuracy: 0.72 - ETA: 1s - loss: 0.8813 - accuracy: 0.72 - ETA: 1s - loss: 0.8820 - accuracy: 0.72 - ETA: 1s - loss: 0.8818 - accuracy: 0.72 - ETA: 1s - loss: 0.8816 - accuracy: 0.72 - ETA: 1s - loss: 0.8819 - accuracy: 0.72 - ETA: 1s - loss: 0.8834 - accuracy: 0.72 - ETA: 1s - loss: 0.8835 - accuracy: 0.72 - ETA: 1s - loss: 0.8836 - accuracy: 0.72 - ETA: 1s - loss: 0.8819 - accuracy: 0.72 - ETA: 1s - loss: 0.8807 - accuracy: 0.72 - ETA: 1s - loss: 0.8798 - accuracy: 0.72 - ETA: 0s - loss: 0.8789 - accuracy: 0.72 - ETA: 0s - loss: 0.8776 - accuracy: 0.73 - ETA: 0s - loss: 0.8764 - accuracy: 0.73 - ETA: 0s - loss: 0.8782 - accuracy: 0.73 - ETA: 0s - loss: 0.8787 - accuracy: 0.73 - ETA: 0s - loss: 0.8772 - accuracy: 0.73 - ETA: 0s - loss: 0.8779 - accuracy: 0.73 - ETA: 0s - loss: 0.8772 - accuracy: 0.73 - ETA: 0s - loss: 0.8773 - accuracy: 0.73 - ETA: 0s - loss: 0.8772 - accuracy: 0.73 - ETA: 0s - loss: 0.8785 - accuracy: 0.72 - ETA: 0s - loss: 0.8788 - accuracy: 0.72 - ETA: 0s - loss: 0.8784 - accuracy: 0.72 - ETA: 0s - loss: 0.8798 - accuracy: 0.72 - ETA: 0s - loss: 0.8783 - accuracy: 0.72 - ETA: 0s - loss: 0.8771 - accuracy: 0.73 - ETA: 0s - loss: 0.8749 - accuracy: 0.73 - ETA: 0s - loss: 0.8743 - accuracy: 0.73 - ETA: 0s - loss: 0.8735 - accuracy: 0.73 - 3s 1ms/step - loss: 0.8735 - accuracy: 0.7313 - val_loss: 0.8571 - val_accuracy: 0.7398\n",
      "Epoch 4/32\n",
      "2500/2500 [==============================] - ETA: 0s - loss: 0.7075 - accuracy: 0.78 - ETA: 2s - loss: 0.8652 - accuracy: 0.74 - ETA: 2s - loss: 0.8462 - accuracy: 0.74 - ETA: 2s - loss: 0.8418 - accuracy: 0.74 - ETA: 2s - loss: 0.8439 - accuracy: 0.74 - ETA: 2s - loss: 0.8325 - accuracy: 0.75 - ETA: 2s - loss: 0.8313 - accuracy: 0.74 - ETA: 1s - loss: 0.8299 - accuracy: 0.75 - ETA: 1s - loss: 0.8334 - accuracy: 0.74 - ETA: 1s - loss: 0.8294 - accuracy: 0.74 - ETA: 1s - loss: 0.8310 - accuracy: 0.74 - ETA: 1s - loss: 0.8277 - accuracy: 0.74 - ETA: 1s - loss: 0.8285 - accuracy: 0.74 - ETA: 1s - loss: 0.8299 - accuracy: 0.74 - ETA: 1s - loss: 0.8300 - accuracy: 0.74 - ETA: 1s - loss: 0.8286 - accuracy: 0.74 - ETA: 1s - loss: 0.8264 - accuracy: 0.74 - ETA: 1s - loss: 0.8279 - accuracy: 0.74 - ETA: 1s - loss: 0.8288 - accuracy: 0.74 - ETA: 1s - loss: 0.8268 - accuracy: 0.74 - ETA: 1s - loss: 0.8251 - accuracy: 0.74 - ETA: 1s - loss: 0.8261 - accuracy: 0.74 - ETA: 1s - loss: 0.8256 - accuracy: 0.74 - ETA: 1s - loss: 0.8246 - accuracy: 0.74 - ETA: 1s - loss: 0.8255 - accuracy: 0.74 - ETA: 1s - loss: 0.8261 - accuracy: 0.74 - ETA: 1s - loss: 0.8250 - accuracy: 0.74 - ETA: 0s - loss: 0.8257 - accuracy: 0.74 - ETA: 0s - loss: 0.8235 - accuracy: 0.74 - ETA: 0s - loss: 0.8226 - accuracy: 0.74 - ETA: 0s - loss: 0.8228 - accuracy: 0.74 - ETA: 0s - loss: 0.8219 - accuracy: 0.74 - ETA: 0s - loss: 0.8204 - accuracy: 0.74 - ETA: 0s - loss: 0.8212 - accuracy: 0.74 - ETA: 0s - loss: 0.8216 - accuracy: 0.74 - ETA: 0s - loss: 0.8204 - accuracy: 0.74 - ETA: 0s - loss: 0.8194 - accuracy: 0.74 - ETA: 0s - loss: 0.8189 - accuracy: 0.75 - ETA: 0s - loss: 0.8186 - accuracy: 0.75 - ETA: 0s - loss: 0.8185 - accuracy: 0.75 - ETA: 0s - loss: 0.8186 - accuracy: 0.75 - ETA: 0s - loss: 0.8186 - accuracy: 0.74 - ETA: 0s - loss: 0.8193 - accuracy: 0.74 - ETA: 0s - loss: 0.8193 - accuracy: 0.74 - ETA: 0s - loss: 0.8187 - accuracy: 0.74 - ETA: 0s - loss: 0.8188 - accuracy: 0.74 - 2s 997us/step - loss: 0.8185 - accuracy: 0.7500 - val_loss: 0.8151 - val_accuracy: 0.7488\n",
      "Epoch 5/32\n",
      "2500/2500 [==============================] - ETA: 0s - loss: 0.5798 - accuracy: 0.81 - ETA: 2s - loss: 0.8160 - accuracy: 0.74 - ETA: 2s - loss: 0.7961 - accuracy: 0.74 - ETA: 2s - loss: 0.7999 - accuracy: 0.75 - ETA: 2s - loss: 0.7957 - accuracy: 0.75 - ETA: 2s - loss: 0.8031 - accuracy: 0.75 - ETA: 2s - loss: 0.7973 - accuracy: 0.75 - ETA: 1s - loss: 0.7980 - accuracy: 0.75 - ETA: 1s - loss: 0.7991 - accuracy: 0.75 - ETA: 1s - loss: 0.7995 - accuracy: 0.75 - ETA: 1s - loss: 0.8005 - accuracy: 0.75 - ETA: 1s - loss: 0.7944 - accuracy: 0.75 - ETA: 1s - loss: 0.7937 - accuracy: 0.75 - ETA: 1s - loss: 0.7940 - accuracy: 0.75 - ETA: 1s - loss: 0.7947 - accuracy: 0.75 - ETA: 1s - loss: 0.7930 - accuracy: 0.75 - ETA: 1s - loss: 0.7917 - accuracy: 0.75 - ETA: 1s - loss: 0.7928 - accuracy: 0.75 - ETA: 1s - loss: 0.7918 - accuracy: 0.75 - ETA: 1s - loss: 0.7930 - accuracy: 0.75 - ETA: 1s - loss: 0.7917 - accuracy: 0.75 - ETA: 1s - loss: 0.7912 - accuracy: 0.75 - ETA: 1s - loss: 0.7909 - accuracy: 0.75 - ETA: 1s - loss: 0.7884 - accuracy: 0.75 - ETA: 1s - loss: 0.7867 - accuracy: 0.75 - ETA: 1s - loss: 0.7875 - accuracy: 0.75 - ETA: 1s - loss: 0.7888 - accuracy: 0.75 - ETA: 0s - loss: 0.7871 - accuracy: 0.75 - ETA: 0s - loss: 0.7853 - accuracy: 0.76 - ETA: 0s - loss: 0.7845 - accuracy: 0.76 - ETA: 0s - loss: 0.7831 - accuracy: 0.76 - ETA: 0s - loss: 0.7813 - accuracy: 0.76 - ETA: 0s - loss: 0.7807 - accuracy: 0.76 - ETA: 0s - loss: 0.7806 - accuracy: 0.76 - ETA: 0s - loss: 0.7810 - accuracy: 0.76 - ETA: 0s - loss: 0.7812 - accuracy: 0.76 - ETA: 0s - loss: 0.7810 - accuracy: 0.76 - ETA: 0s - loss: 0.7801 - accuracy: 0.76 - ETA: 0s - loss: 0.7793 - accuracy: 0.76 - ETA: 0s - loss: 0.7793 - accuracy: 0.76 - ETA: 0s - loss: 0.7792 - accuracy: 0.76 - ETA: 0s - loss: 0.7792 - accuracy: 0.76 - ETA: 0s - loss: 0.7796 - accuracy: 0.76 - ETA: 0s - loss: 0.7799 - accuracy: 0.76 - ETA: 0s - loss: 0.7797 - accuracy: 0.76 - ETA: 0s - loss: 0.7796 - accuracy: 0.76 - ETA: 0s - loss: 0.7797 - accuracy: 0.76 - 3s 1ms/step - loss: 0.7798 - accuracy: 0.7618 - val_loss: 0.7826 - val_accuracy: 0.7607\n",
      "Epoch 6/32\n",
      "2500/2500 [==============================] - ETA: 0s - loss: 0.6684 - accuracy: 0.84 - ETA: 2s - loss: 0.7359 - accuracy: 0.77 - ETA: 2s - loss: 0.7645 - accuracy: 0.76 - ETA: 2s - loss: 0.7657 - accuracy: 0.76 - ETA: 2s - loss: 0.7796 - accuracy: 0.76 - ETA: 2s - loss: 0.7744 - accuracy: 0.76 - ETA: 2s - loss: 0.7705 - accuracy: 0.76 - ETA: 1s - loss: 0.7664 - accuracy: 0.76 - ETA: 1s - loss: 0.7645 - accuracy: 0.76 - ETA: 1s - loss: 0.7676 - accuracy: 0.76 - ETA: 1s - loss: 0.7632 - accuracy: 0.76 - ETA: 1s - loss: 0.7648 - accuracy: 0.76 - ETA: 1s - loss: 0.7633 - accuracy: 0.76 - ETA: 1s - loss: 0.7617 - accuracy: 0.76 - ETA: 1s - loss: 0.7608 - accuracy: 0.76 - ETA: 1s - loss: 0.7606 - accuracy: 0.76 - ETA: 1s - loss: 0.7582 - accuracy: 0.76 - ETA: 1s - loss: 0.7541 - accuracy: 0.76 - ETA: 1s - loss: 0.7545 - accuracy: 0.76 - ETA: 1s - loss: 0.7550 - accuracy: 0.76 - ETA: 1s - loss: 0.7552 - accuracy: 0.76 - ETA: 1s - loss: 0.7560 - accuracy: 0.76 - ETA: 1s - loss: 0.7569 - accuracy: 0.76 - ETA: 1s - loss: 0.7560 - accuracy: 0.76 - ETA: 1s - loss: 0.7549 - accuracy: 0.76 - ETA: 1s - loss: 0.7542 - accuracy: 0.76 - ETA: 1s - loss: 0.7539 - accuracy: 0.76 - ETA: 0s - loss: 0.7531 - accuracy: 0.76 - ETA: 0s - loss: 0.7526 - accuracy: 0.76 - ETA: 0s - loss: 0.7520 - accuracy: 0.77 - ETA: 0s - loss: 0.7528 - accuracy: 0.77 - ETA: 0s - loss: 0.7525 - accuracy: 0.77 - ETA: 0s - loss: 0.7522 - accuracy: 0.76 - ETA: 0s - loss: 0.7529 - accuracy: 0.76 - ETA: 0s - loss: 0.7519 - accuracy: 0.76 - ETA: 0s - loss: 0.7536 - accuracy: 0.76 - ETA: 0s - loss: 0.7527 - accuracy: 0.76 - ETA: 0s - loss: 0.7532 - accuracy: 0.76 - ETA: 0s - loss: 0.7530 - accuracy: 0.76 - ETA: 0s - loss: 0.7520 - accuracy: 0.77 - ETA: 0s - loss: 0.7538 - accuracy: 0.76 - ETA: 0s - loss: 0.7513 - accuracy: 0.77 - ETA: 0s - loss: 0.7519 - accuracy: 0.77 - ETA: 0s - loss: 0.7514 - accuracy: 0.77 - ETA: 0s - loss: 0.7501 - accuracy: 0.77 - ETA: 0s - loss: 0.7505 - accuracy: 0.77 - ETA: 0s - loss: 0.7500 - accuracy: 0.77 - 3s 1ms/step - loss: 0.7498 - accuracy: 0.7712 - val_loss: 0.7593 - val_accuracy: 0.7632\n",
      "Epoch 7/32\n",
      "2500/2500 [==============================] - ETA: 0s - loss: 0.6571 - accuracy: 0.71 - ETA: 2s - loss: 0.6965 - accuracy: 0.78 - ETA: 2s - loss: 0.7169 - accuracy: 0.78 - ETA: 2s - loss: 0.7263 - accuracy: 0.77 - ETA: 2s - loss: 0.7179 - accuracy: 0.78 - ETA: 2s - loss: 0.7197 - accuracy: 0.78 - ETA: 2s - loss: 0.7239 - accuracy: 0.77 - ETA: 1s - loss: 0.7204 - accuracy: 0.77 - ETA: 1s - loss: 0.7220 - accuracy: 0.77 - ETA: 1s - loss: 0.7269 - accuracy: 0.77 - ETA: 1s - loss: 0.7299 - accuracy: 0.77 - ETA: 1s - loss: 0.7323 - accuracy: 0.77 - ETA: 1s - loss: 0.7298 - accuracy: 0.77 - ETA: 1s - loss: 0.7304 - accuracy: 0.77 - ETA: 1s - loss: 0.7330 - accuracy: 0.77 - ETA: 1s - loss: 0.7335 - accuracy: 0.77 - ETA: 1s - loss: 0.7330 - accuracy: 0.77 - ETA: 1s - loss: 0.7373 - accuracy: 0.77 - ETA: 1s - loss: 0.7368 - accuracy: 0.77 - ETA: 1s - loss: 0.7368 - accuracy: 0.77 - ETA: 1s - loss: 0.7372 - accuracy: 0.77 - ETA: 1s - loss: 0.7360 - accuracy: 0.77 - ETA: 1s - loss: 0.7355 - accuracy: 0.77 - ETA: 1s - loss: 0.7350 - accuracy: 0.77 - ETA: 1s - loss: 0.7336 - accuracy: 0.77 - ETA: 1s - loss: 0.7354 - accuracy: 0.77 - ETA: 1s - loss: 0.7332 - accuracy: 0.77 - ETA: 0s - loss: 0.7345 - accuracy: 0.77 - ETA: 0s - loss: 0.7332 - accuracy: 0.77 - ETA: 0s - loss: 0.7332 - accuracy: 0.77 - ETA: 0s - loss: 0.7323 - accuracy: 0.77 - ETA: 0s - loss: 0.7320 - accuracy: 0.77 - ETA: 0s - loss: 0.7316 - accuracy: 0.77 - ETA: 0s - loss: 0.7313 - accuracy: 0.77 - ETA: 0s - loss: 0.7326 - accuracy: 0.77 - ETA: 0s - loss: 0.7326 - accuracy: 0.77 - ETA: 0s - loss: 0.7313 - accuracy: 0.77 - ETA: 0s - loss: 0.7305 - accuracy: 0.77 - ETA: 0s - loss: 0.7309 - accuracy: 0.77 - ETA: 0s - loss: 0.7314 - accuracy: 0.77 - ETA: 0s - loss: 0.7312 - accuracy: 0.77 - ETA: 0s - loss: 0.7300 - accuracy: 0.77 - ETA: 0s - loss: 0.7300 - accuracy: 0.77 - ETA: 0s - loss: 0.7295 - accuracy: 0.77 - ETA: 0s - loss: 0.7291 - accuracy: 0.77 - ETA: 0s - loss: 0.7292 - accuracy: 0.77 - ETA: 0s - loss: 0.7291 - accuracy: 0.77 - 3s 1ms/step - loss: 0.7289 - accuracy: 0.7782 - val_loss: 0.7445 - val_accuracy: 0.7715\n",
      "Epoch 8/32\n",
      "2500/2500 [==============================] - ETA: 0s - loss: 0.4223 - accuracy: 0.90 - ETA: 2s - loss: 0.6909 - accuracy: 0.78 - ETA: 2s - loss: 0.7055 - accuracy: 0.78 - ETA: 2s - loss: 0.7097 - accuracy: 0.78 - ETA: 2s - loss: 0.7128 - accuracy: 0.78 - ETA: 2s - loss: 0.7168 - accuracy: 0.78 - ETA: 1s - loss: 0.7193 - accuracy: 0.78 - ETA: 1s - loss: 0.7190 - accuracy: 0.77 - ETA: 1s - loss: 0.7218 - accuracy: 0.77 - ETA: 1s - loss: 0.7261 - accuracy: 0.77 - ETA: 1s - loss: 0.7274 - accuracy: 0.77 - ETA: 1s - loss: 0.7279 - accuracy: 0.77 - ETA: 1s - loss: 0.7288 - accuracy: 0.77 - ETA: 1s - loss: 0.7259 - accuracy: 0.77 - ETA: 1s - loss: 0.7229 - accuracy: 0.77 - ETA: 1s - loss: 0.7219 - accuracy: 0.77 - ETA: 1s - loss: 0.7196 - accuracy: 0.77 - ETA: 1s - loss: 0.7180 - accuracy: 0.78 - ETA: 1s - loss: 0.7159 - accuracy: 0.78 - ETA: 1s - loss: 0.7156 - accuracy: 0.78 - ETA: 1s - loss: 0.7192 - accuracy: 0.78 - ETA: 1s - loss: 0.7189 - accuracy: 0.78 - ETA: 1s - loss: 0.7195 - accuracy: 0.78 - ETA: 1s - loss: 0.7173 - accuracy: 0.78 - ETA: 1s - loss: 0.7177 - accuracy: 0.78 - ETA: 1s - loss: 0.7174 - accuracy: 0.78 - ETA: 1s - loss: 0.7176 - accuracy: 0.78 - ETA: 0s - loss: 0.7168 - accuracy: 0.78 - ETA: 0s - loss: 0.7175 - accuracy: 0.78 - ETA: 0s - loss: 0.7168 - accuracy: 0.78 - ETA: 0s - loss: 0.7174 - accuracy: 0.78 - ETA: 0s - loss: 0.7168 - accuracy: 0.78 - ETA: 0s - loss: 0.7179 - accuracy: 0.78 - ETA: 0s - loss: 0.7169 - accuracy: 0.78 - ETA: 0s - loss: 0.7152 - accuracy: 0.78 - ETA: 0s - loss: 0.7153 - accuracy: 0.78 - ETA: 0s - loss: 0.7144 - accuracy: 0.78 - ETA: 0s - loss: 0.7133 - accuracy: 0.78 - ETA: 0s - loss: 0.7131 - accuracy: 0.78 - ETA: 0s - loss: 0.7130 - accuracy: 0.78 - ETA: 0s - loss: 0.7140 - accuracy: 0.78 - ETA: 0s - loss: 0.7146 - accuracy: 0.78 - ETA: 0s - loss: 0.7140 - accuracy: 0.78 - ETA: 0s - loss: 0.7136 - accuracy: 0.78 - ETA: 0s - loss: 0.7132 - accuracy: 0.78 - ETA: 0s - loss: 0.7123 - accuracy: 0.78 - ETA: 0s - loss: 0.7123 - accuracy: 0.78 - 3s 1ms/step - loss: 0.7124 - accuracy: 0.7827 - val_loss: 0.7291 - val_accuracy: 0.7770\n",
      "Epoch 9/32\n",
      "2500/2500 [==============================] - ETA: 0s - loss: 0.7768 - accuracy: 0.84 - ETA: 2s - loss: 0.6987 - accuracy: 0.78 - ETA: 2s - loss: 0.7048 - accuracy: 0.78 - ETA: 2s - loss: 0.7196 - accuracy: 0.77 - ETA: 2s - loss: 0.7190 - accuracy: 0.78 - ETA: 1s - loss: 0.7190 - accuracy: 0.78 - ETA: 1s - loss: 0.7115 - accuracy: 0.78 - ETA: 1s - loss: 0.7083 - accuracy: 0.78 - ETA: 1s - loss: 0.6974 - accuracy: 0.79 - ETA: 1s - loss: 0.6972 - accuracy: 0.79 - ETA: 1s - loss: 0.6951 - accuracy: 0.79 - ETA: 1s - loss: 0.6954 - accuracy: 0.79 - ETA: 1s - loss: 0.6972 - accuracy: 0.78 - ETA: 1s - loss: 0.6964 - accuracy: 0.78 - ETA: 1s - loss: 0.6938 - accuracy: 0.79 - ETA: 1s - loss: 0.6952 - accuracy: 0.78 - ETA: 1s - loss: 0.6947 - accuracy: 0.78 - ETA: 1s - loss: 0.6960 - accuracy: 0.78 - ETA: 1s - loss: 0.6984 - accuracy: 0.78 - ETA: 1s - loss: 0.6980 - accuracy: 0.78 - ETA: 1s - loss: 0.6979 - accuracy: 0.78 - ETA: 1s - loss: 0.6985 - accuracy: 0.78 - ETA: 1s - loss: 0.6979 - accuracy: 0.78 - ETA: 1s - loss: 0.6958 - accuracy: 0.78 - ETA: 1s - loss: 0.6955 - accuracy: 0.78 - ETA: 1s - loss: 0.6936 - accuracy: 0.78 - ETA: 1s - loss: 0.6946 - accuracy: 0.78 - ETA: 0s - loss: 0.6941 - accuracy: 0.78 - ETA: 0s - loss: 0.6922 - accuracy: 0.78 - ETA: 0s - loss: 0.6907 - accuracy: 0.78 - ETA: 0s - loss: 0.6904 - accuracy: 0.78 - ETA: 0s - loss: 0.6902 - accuracy: 0.79 - ETA: 0s - loss: 0.6908 - accuracy: 0.78 - ETA: 0s - loss: 0.6897 - accuracy: 0.79 - ETA: 0s - loss: 0.6914 - accuracy: 0.78 - ETA: 0s - loss: 0.6917 - accuracy: 0.78 - ETA: 0s - loss: 0.6914 - accuracy: 0.78 - ETA: 0s - loss: 0.6912 - accuracy: 0.78 - ETA: 0s - loss: 0.6921 - accuracy: 0.78 - ETA: 0s - loss: 0.6924 - accuracy: 0.78 - ETA: 0s - loss: 0.6908 - accuracy: 0.78 - ETA: 0s - loss: 0.6912 - accuracy: 0.78 - ETA: 0s - loss: 0.6912 - accuracy: 0.78 - ETA: 0s - loss: 0.6923 - accuracy: 0.78 - ETA: 0s - loss: 0.6922 - accuracy: 0.78 - ETA: 0s - loss: 0.6931 - accuracy: 0.78 - ETA: 0s - loss: 0.6931 - accuracy: 0.78 - 3s 1ms/step - loss: 0.6936 - accuracy: 0.7890 - val_loss: 0.7226 - val_accuracy: 0.7789\n",
      "Epoch 10/32\n",
      "2500/2500 [==============================] - ETA: 0s - loss: 0.9382 - accuracy: 0.62 - ETA: 2s - loss: 0.6699 - accuracy: 0.80 - ETA: 2s - loss: 0.7095 - accuracy: 0.78 - ETA: 2s - loss: 0.7044 - accuracy: 0.78 - ETA: 2s - loss: 0.7054 - accuracy: 0.78 - ETA: 2s - loss: 0.6939 - accuracy: 0.79 - ETA: 2s - loss: 0.6923 - accuracy: 0.79 - ETA: 1s - loss: 0.6929 - accuracy: 0.79 - ETA: 1s - loss: 0.6894 - accuracy: 0.79 - ETA: 1s - loss: 0.6888 - accuracy: 0.79 - ETA: 1s - loss: 0.6888 - accuracy: 0.79 - ETA: 1s - loss: 0.6874 - accuracy: 0.79 - ETA: 1s - loss: 0.6872 - accuracy: 0.79 - ETA: 1s - loss: 0.6858 - accuracy: 0.79 - ETA: 1s - loss: 0.6865 - accuracy: 0.79 - ETA: 1s - loss: 0.6837 - accuracy: 0.79 - ETA: 1s - loss: 0.6862 - accuracy: 0.79 - ETA: 1s - loss: 0.6885 - accuracy: 0.79 - ETA: 1s - loss: 0.6859 - accuracy: 0.79 - ETA: 1s - loss: 0.6870 - accuracy: 0.79 - ETA: 1s - loss: 0.6881 - accuracy: 0.79 - ETA: 1s - loss: 0.6866 - accuracy: 0.79 - ETA: 1s - loss: 0.6849 - accuracy: 0.79 - ETA: 1s - loss: 0.6833 - accuracy: 0.79 - ETA: 1s - loss: 0.6826 - accuracy: 0.79 - ETA: 1s - loss: 0.6820 - accuracy: 0.79 - ETA: 0s - loss: 0.6827 - accuracy: 0.79 - ETA: 0s - loss: 0.6849 - accuracy: 0.79 - ETA: 0s - loss: 0.6850 - accuracy: 0.79 - ETA: 0s - loss: 0.6848 - accuracy: 0.79 - ETA: 0s - loss: 0.6840 - accuracy: 0.79 - ETA: 0s - loss: 0.6829 - accuracy: 0.79 - ETA: 0s - loss: 0.6830 - accuracy: 0.79 - ETA: 0s - loss: 0.6821 - accuracy: 0.79 - ETA: 0s - loss: 0.6809 - accuracy: 0.79 - ETA: 0s - loss: 0.6805 - accuracy: 0.79 - ETA: 0s - loss: 0.6807 - accuracy: 0.79 - ETA: 0s - loss: 0.6800 - accuracy: 0.79 - ETA: 0s - loss: 0.6801 - accuracy: 0.79 - ETA: 0s - loss: 0.6809 - accuracy: 0.79 - ETA: 0s - loss: 0.6802 - accuracy: 0.79 - ETA: 0s - loss: 0.6796 - accuracy: 0.79 - ETA: 0s - loss: 0.6803 - accuracy: 0.79 - ETA: 0s - loss: 0.6806 - accuracy: 0.79 - ETA: 0s - loss: 0.6802 - accuracy: 0.79 - ETA: 0s - loss: 0.6806 - accuracy: 0.79 - ETA: 0s - loss: 0.6796 - accuracy: 0.79 - 3s 1ms/step - loss: 0.6799 - accuracy: 0.7939 - val_loss: 0.7034 - val_accuracy: 0.7855\n",
      "Epoch 11/32\n",
      "2500/2500 [==============================] - ETA: 0s - loss: 0.7236 - accuracy: 0.71 - ETA: 2s - loss: 0.6565 - accuracy: 0.79 - ETA: 2s - loss: 0.6501 - accuracy: 0.79 - ETA: 2s - loss: 0.6628 - accuracy: 0.79 - ETA: 2s - loss: 0.6689 - accuracy: 0.79 - ETA: 2s - loss: 0.6718 - accuracy: 0.79 - ETA: 2s - loss: 0.6721 - accuracy: 0.79 - ETA: 1s - loss: 0.6692 - accuracy: 0.79 - ETA: 1s - loss: 0.6658 - accuracy: 0.79 - ETA: 1s - loss: 0.6643 - accuracy: 0.79 - ETA: 1s - loss: 0.6651 - accuracy: 0.79 - ETA: 1s - loss: 0.6652 - accuracy: 0.79 - ETA: 1s - loss: 0.6662 - accuracy: 0.79 - ETA: 1s - loss: 0.6667 - accuracy: 0.79 - ETA: 1s - loss: 0.6659 - accuracy: 0.79 - ETA: 1s - loss: 0.6660 - accuracy: 0.79 - ETA: 1s - loss: 0.6649 - accuracy: 0.79 - ETA: 1s - loss: 0.6694 - accuracy: 0.79 - ETA: 1s - loss: 0.6686 - accuracy: 0.79 - ETA: 1s - loss: 0.6686 - accuracy: 0.79 - ETA: 1s - loss: 0.6700 - accuracy: 0.79 - ETA: 1s - loss: 0.6696 - accuracy: 0.79 - ETA: 1s - loss: 0.6703 - accuracy: 0.79 - ETA: 1s - loss: 0.6698 - accuracy: 0.79 - ETA: 1s - loss: 0.6707 - accuracy: 0.79 - ETA: 1s - loss: 0.6698 - accuracy: 0.79 - ETA: 1s - loss: 0.6699 - accuracy: 0.79 - ETA: 0s - loss: 0.6692 - accuracy: 0.79 - ETA: 0s - loss: 0.6700 - accuracy: 0.79 - ETA: 0s - loss: 0.6699 - accuracy: 0.79 - ETA: 0s - loss: 0.6709 - accuracy: 0.79 - ETA: 0s - loss: 0.6703 - accuracy: 0.79 - ETA: 0s - loss: 0.6699 - accuracy: 0.79 - ETA: 0s - loss: 0.6707 - accuracy: 0.79 - ETA: 0s - loss: 0.6699 - accuracy: 0.79 - ETA: 0s - loss: 0.6704 - accuracy: 0.79 - ETA: 0s - loss: 0.6706 - accuracy: 0.79 - ETA: 0s - loss: 0.6696 - accuracy: 0.79 - ETA: 0s - loss: 0.6690 - accuracy: 0.79 - ETA: 0s - loss: 0.6690 - accuracy: 0.79 - ETA: 0s - loss: 0.6681 - accuracy: 0.79 - ETA: 0s - loss: 0.6678 - accuracy: 0.79 - ETA: 0s - loss: 0.6677 - accuracy: 0.79 - ETA: 0s - loss: 0.6665 - accuracy: 0.79 - ETA: 0s - loss: 0.6669 - accuracy: 0.79 - ETA: 0s - loss: 0.6674 - accuracy: 0.79 - ETA: 0s - loss: 0.6677 - accuracy: 0.79 - 2s 996us/step - loss: 0.6675 - accuracy: 0.7964 - val_loss: 0.6975 - val_accuracy: 0.7834\n",
      "Epoch 12/32\n",
      "2500/2500 [==============================] - ETA: 0s - loss: 0.5328 - accuracy: 0.84 - ETA: 2s - loss: 0.6349 - accuracy: 0.79 - ETA: 2s - loss: 0.6442 - accuracy: 0.79 - ETA: 2s - loss: 0.6508 - accuracy: 0.79 - ETA: 2s - loss: 0.6514 - accuracy: 0.79 - ETA: 2s - loss: 0.6509 - accuracy: 0.79 - ETA: 2s - loss: 0.6523 - accuracy: 0.79 - ETA: 1s - loss: 0.6512 - accuracy: 0.80 - ETA: 1s - loss: 0.6502 - accuracy: 0.80 - ETA: 1s - loss: 0.6514 - accuracy: 0.80 - ETA: 1s - loss: 0.6489 - accuracy: 0.80 - ETA: 1s - loss: 0.6481 - accuracy: 0.80 - ETA: 1s - loss: 0.6520 - accuracy: 0.80 - ETA: 1s - loss: 0.6497 - accuracy: 0.80 - ETA: 1s - loss: 0.6528 - accuracy: 0.80 - ETA: 1s - loss: 0.6546 - accuracy: 0.80 - ETA: 1s - loss: 0.6550 - accuracy: 0.80 - ETA: 1s - loss: 0.6565 - accuracy: 0.80 - ETA: 1s - loss: 0.6553 - accuracy: 0.80 - ETA: 1s - loss: 0.6558 - accuracy: 0.80 - ETA: 1s - loss: 0.6560 - accuracy: 0.80 - ETA: 1s - loss: 0.6565 - accuracy: 0.80 - ETA: 1s - loss: 0.6574 - accuracy: 0.80 - ETA: 1s - loss: 0.6555 - accuracy: 0.80 - ETA: 1s - loss: 0.6556 - accuracy: 0.80 - ETA: 1s - loss: 0.6555 - accuracy: 0.80 - ETA: 1s - loss: 0.6536 - accuracy: 0.80 - ETA: 0s - loss: 0.6537 - accuracy: 0.80 - ETA: 0s - loss: 0.6545 - accuracy: 0.80 - ETA: 0s - loss: 0.6556 - accuracy: 0.80 - ETA: 0s - loss: 0.6548 - accuracy: 0.80 - ETA: 0s - loss: 0.6548 - accuracy: 0.80 - ETA: 0s - loss: 0.6543 - accuracy: 0.80 - ETA: 0s - loss: 0.6536 - accuracy: 0.80 - ETA: 0s - loss: 0.6535 - accuracy: 0.80 - ETA: 0s - loss: 0.6549 - accuracy: 0.80 - ETA: 0s - loss: 0.6552 - accuracy: 0.80 - ETA: 0s - loss: 0.6554 - accuracy: 0.80 - ETA: 0s - loss: 0.6553 - accuracy: 0.80 - ETA: 0s - loss: 0.6569 - accuracy: 0.80 - ETA: 0s - loss: 0.6585 - accuracy: 0.79 - ETA: 0s - loss: 0.6591 - accuracy: 0.79 - ETA: 0s - loss: 0.6593 - accuracy: 0.79 - ETA: 0s - loss: 0.6592 - accuracy: 0.79 - ETA: 0s - loss: 0.6596 - accuracy: 0.79 - ETA: 0s - loss: 0.6591 - accuracy: 0.79 - ETA: 0s - loss: 0.6592 - accuracy: 0.79 - 3s 1ms/step - loss: 0.6585 - accuracy: 0.7994 - val_loss: 0.6957 - val_accuracy: 0.7858\n",
      "Epoch 13/32\n",
      "2500/2500 [==============================] - ETA: 0s - loss: 0.4817 - accuracy: 0.93 - ETA: 2s - loss: 0.6714 - accuracy: 0.79 - ETA: 2s - loss: 0.6962 - accuracy: 0.78 - ETA: 2s - loss: 0.6870 - accuracy: 0.79 - ETA: 2s - loss: 0.6775 - accuracy: 0.79 - ETA: 2s - loss: 0.6740 - accuracy: 0.79 - ETA: 2s - loss: 0.6792 - accuracy: 0.79 - ETA: 2s - loss: 0.6906 - accuracy: 0.79 - ETA: 1s - loss: 0.6800 - accuracy: 0.79 - ETA: 1s - loss: 0.6778 - accuracy: 0.79 - ETA: 1s - loss: 0.6695 - accuracy: 0.79 - ETA: 1s - loss: 0.6714 - accuracy: 0.79 - ETA: 1s - loss: 0.6657 - accuracy: 0.79 - ETA: 1s - loss: 0.6617 - accuracy: 0.80 - ETA: 1s - loss: 0.6628 - accuracy: 0.79 - ETA: 1s - loss: 0.6636 - accuracy: 0.79 - ETA: 1s - loss: 0.6652 - accuracy: 0.79 - ETA: 1s - loss: 0.6640 - accuracy: 0.79 - ETA: 1s - loss: 0.6640 - accuracy: 0.79 - ETA: 1s - loss: 0.6621 - accuracy: 0.79 - ETA: 1s - loss: 0.6606 - accuracy: 0.80 - ETA: 1s - loss: 0.6601 - accuracy: 0.80 - ETA: 1s - loss: 0.6608 - accuracy: 0.80 - ETA: 1s - loss: 0.6594 - accuracy: 0.79 - ETA: 1s - loss: 0.6576 - accuracy: 0.80 - ETA: 1s - loss: 0.6563 - accuracy: 0.80 - ETA: 1s - loss: 0.6557 - accuracy: 0.80 - ETA: 0s - loss: 0.6545 - accuracy: 0.80 - ETA: 0s - loss: 0.6536 - accuracy: 0.80 - ETA: 0s - loss: 0.6528 - accuracy: 0.80 - ETA: 0s - loss: 0.6508 - accuracy: 0.80 - ETA: 0s - loss: 0.6499 - accuracy: 0.80 - ETA: 0s - loss: 0.6502 - accuracy: 0.80 - ETA: 0s - loss: 0.6497 - accuracy: 0.80 - ETA: 0s - loss: 0.6489 - accuracy: 0.80 - ETA: 0s - loss: 0.6482 - accuracy: 0.80 - ETA: 0s - loss: 0.6479 - accuracy: 0.80 - ETA: 0s - loss: 0.6480 - accuracy: 0.80 - ETA: 0s - loss: 0.6483 - accuracy: 0.80 - ETA: 0s - loss: 0.6481 - accuracy: 0.80 - ETA: 0s - loss: 0.6476 - accuracy: 0.80 - ETA: 0s - loss: 0.6473 - accuracy: 0.80 - ETA: 0s - loss: 0.6486 - accuracy: 0.80 - ETA: 0s - loss: 0.6491 - accuracy: 0.80 - ETA: 0s - loss: 0.6492 - accuracy: 0.80 - ETA: 0s - loss: 0.6497 - accuracy: 0.80 - ETA: 0s - loss: 0.6494 - accuracy: 0.80 - 3s 1ms/step - loss: 0.6495 - accuracy: 0.8035 - val_loss: 0.6860 - val_accuracy: 0.7925\n",
      "Epoch 14/32\n",
      "2500/2500 [==============================] - ETA: 0s - loss: 0.3474 - accuracy: 0.90 - ETA: 2s - loss: 0.6071 - accuracy: 0.81 - ETA: 2s - loss: 0.6348 - accuracy: 0.80 - ETA: 2s - loss: 0.6326 - accuracy: 0.80 - ETA: 2s - loss: 0.6451 - accuracy: 0.80 - ETA: 2s - loss: 0.6465 - accuracy: 0.80 - ETA: 1s - loss: 0.6466 - accuracy: 0.80 - ETA: 1s - loss: 0.6454 - accuracy: 0.80 - ETA: 1s - loss: 0.6428 - accuracy: 0.80 - ETA: 1s - loss: 0.6398 - accuracy: 0.80 - ETA: 1s - loss: 0.6367 - accuracy: 0.80 - ETA: 1s - loss: 0.6351 - accuracy: 0.80 - ETA: 1s - loss: 0.6370 - accuracy: 0.80 - ETA: 1s - loss: 0.6407 - accuracy: 0.80 - ETA: 1s - loss: 0.6405 - accuracy: 0.80 - ETA: 1s - loss: 0.6395 - accuracy: 0.80 - ETA: 1s - loss: 0.6410 - accuracy: 0.80 - ETA: 1s - loss: 0.6416 - accuracy: 0.80 - ETA: 1s - loss: 0.6404 - accuracy: 0.80 - ETA: 1s - loss: 0.6402 - accuracy: 0.80 - ETA: 1s - loss: 0.6398 - accuracy: 0.80 - ETA: 1s - loss: 0.6403 - accuracy: 0.80 - ETA: 1s - loss: 0.6392 - accuracy: 0.80 - ETA: 1s - loss: 0.6399 - accuracy: 0.80 - ETA: 1s - loss: 0.6396 - accuracy: 0.80 - ETA: 1s - loss: 0.6386 - accuracy: 0.80 - ETA: 1s - loss: 0.6381 - accuracy: 0.80 - ETA: 0s - loss: 0.6368 - accuracy: 0.80 - ETA: 0s - loss: 0.6361 - accuracy: 0.80 - ETA: 0s - loss: 0.6352 - accuracy: 0.80 - ETA: 0s - loss: 0.6368 - accuracy: 0.80 - ETA: 0s - loss: 0.6373 - accuracy: 0.80 - ETA: 0s - loss: 0.6373 - accuracy: 0.80 - ETA: 0s - loss: 0.6375 - accuracy: 0.80 - ETA: 0s - loss: 0.6377 - accuracy: 0.80 - ETA: 0s - loss: 0.6379 - accuracy: 0.80 - ETA: 0s - loss: 0.6396 - accuracy: 0.80 - ETA: 0s - loss: 0.6394 - accuracy: 0.80 - ETA: 0s - loss: 0.6385 - accuracy: 0.80 - ETA: 0s - loss: 0.6384 - accuracy: 0.80 - ETA: 0s - loss: 0.6381 - accuracy: 0.80 - ETA: 0s - loss: 0.6376 - accuracy: 0.80 - ETA: 0s - loss: 0.6380 - accuracy: 0.80 - ETA: 0s - loss: 0.6383 - accuracy: 0.80 - ETA: 0s - loss: 0.6390 - accuracy: 0.80 - ETA: 0s - loss: 0.6395 - accuracy: 0.80 - ETA: 0s - loss: 0.6391 - accuracy: 0.80 - 3s 1ms/step - loss: 0.6389 - accuracy: 0.8072 - val_loss: 0.6822 - val_accuracy: 0.7927\n",
      "Epoch 15/32\n",
      "2500/2500 [==============================] - ETA: 0s - loss: 0.6175 - accuracy: 0.84 - ETA: 2s - loss: 0.6500 - accuracy: 0.80 - ETA: 2s - loss: 0.6467 - accuracy: 0.80 - ETA: 2s - loss: 0.6314 - accuracy: 0.81 - ETA: 2s - loss: 0.6240 - accuracy: 0.81 - ETA: 2s - loss: 0.6249 - accuracy: 0.81 - ETA: 2s - loss: 0.6287 - accuracy: 0.80 - ETA: 1s - loss: 0.6292 - accuracy: 0.80 - ETA: 1s - loss: 0.6292 - accuracy: 0.81 - ETA: 1s - loss: 0.6308 - accuracy: 0.80 - ETA: 1s - loss: 0.6314 - accuracy: 0.80 - ETA: 1s - loss: 0.6325 - accuracy: 0.80 - ETA: 1s - loss: 0.6307 - accuracy: 0.80 - ETA: 1s - loss: 0.6323 - accuracy: 0.80 - ETA: 1s - loss: 0.6303 - accuracy: 0.80 - ETA: 1s - loss: 0.6277 - accuracy: 0.80 - ETA: 1s - loss: 0.6274 - accuracy: 0.80 - ETA: 1s - loss: 0.6281 - accuracy: 0.80 - ETA: 1s - loss: 0.6286 - accuracy: 0.80 - ETA: 1s - loss: 0.6293 - accuracy: 0.81 - ETA: 1s - loss: 0.6296 - accuracy: 0.80 - ETA: 1s - loss: 0.6283 - accuracy: 0.81 - ETA: 1s - loss: 0.6287 - accuracy: 0.80 - ETA: 1s - loss: 0.6321 - accuracy: 0.80 - ETA: 1s - loss: 0.6325 - accuracy: 0.80 - ETA: 1s - loss: 0.6330 - accuracy: 0.80 - ETA: 0s - loss: 0.6321 - accuracy: 0.80 - ETA: 0s - loss: 0.6326 - accuracy: 0.80 - ETA: 0s - loss: 0.6322 - accuracy: 0.80 - ETA: 0s - loss: 0.6324 - accuracy: 0.80 - ETA: 0s - loss: 0.6320 - accuracy: 0.80 - ETA: 0s - loss: 0.6327 - accuracy: 0.80 - ETA: 0s - loss: 0.6321 - accuracy: 0.80 - ETA: 0s - loss: 0.6314 - accuracy: 0.80 - ETA: 0s - loss: 0.6311 - accuracy: 0.80 - ETA: 0s - loss: 0.6320 - accuracy: 0.80 - ETA: 0s - loss: 0.6314 - accuracy: 0.80 - ETA: 0s - loss: 0.6316 - accuracy: 0.80 - ETA: 0s - loss: 0.6316 - accuracy: 0.80 - ETA: 0s - loss: 0.6319 - accuracy: 0.80 - ETA: 0s - loss: 0.6315 - accuracy: 0.80 - ETA: 0s - loss: 0.6307 - accuracy: 0.80 - ETA: 0s - loss: 0.6315 - accuracy: 0.80 - ETA: 0s - loss: 0.6320 - accuracy: 0.80 - ETA: 0s - loss: 0.6323 - accuracy: 0.80 - ETA: 0s - loss: 0.6331 - accuracy: 0.80 - ETA: 0s - loss: 0.6322 - accuracy: 0.80 - 3s 1ms/step - loss: 0.6318 - accuracy: 0.8094 - val_loss: 0.6765 - val_accuracy: 0.7943\n",
      "Epoch 16/32\n",
      "2500/2500 [==============================] - ETA: 0s - loss: 1.1197 - accuracy: 0.78 - ETA: 2s - loss: 0.5618 - accuracy: 0.83 - ETA: 2s - loss: 0.5880 - accuracy: 0.82 - ETA: 2s - loss: 0.5922 - accuracy: 0.82 - ETA: 2s - loss: 0.5987 - accuracy: 0.82 - ETA: 2s - loss: 0.6044 - accuracy: 0.81 - ETA: 1s - loss: 0.6075 - accuracy: 0.81 - ETA: 1s - loss: 0.6167 - accuracy: 0.81 - ETA: 1s - loss: 0.6142 - accuracy: 0.81 - ETA: 1s - loss: 0.6169 - accuracy: 0.81 - ETA: 1s - loss: 0.6155 - accuracy: 0.81 - ETA: 1s - loss: 0.6176 - accuracy: 0.81 - ETA: 1s - loss: 0.6199 - accuracy: 0.81 - ETA: 1s - loss: 0.6231 - accuracy: 0.81 - ETA: 1s - loss: 0.6190 - accuracy: 0.81 - ETA: 1s - loss: 0.6215 - accuracy: 0.81 - ETA: 1s - loss: 0.6229 - accuracy: 0.81 - ETA: 1s - loss: 0.6231 - accuracy: 0.81 - ETA: 1s - loss: 0.6224 - accuracy: 0.81 - ETA: 1s - loss: 0.6214 - accuracy: 0.81 - ETA: 1s - loss: 0.6228 - accuracy: 0.81 - ETA: 1s - loss: 0.6220 - accuracy: 0.81 - ETA: 1s - loss: 0.6215 - accuracy: 0.81 - ETA: 1s - loss: 0.6199 - accuracy: 0.81 - ETA: 1s - loss: 0.6208 - accuracy: 0.81 - ETA: 1s - loss: 0.6208 - accuracy: 0.81 - ETA: 0s - loss: 0.6211 - accuracy: 0.81 - ETA: 0s - loss: 0.6211 - accuracy: 0.81 - ETA: 0s - loss: 0.6212 - accuracy: 0.81 - ETA: 0s - loss: 0.6204 - accuracy: 0.81 - ETA: 0s - loss: 0.6189 - accuracy: 0.81 - ETA: 0s - loss: 0.6190 - accuracy: 0.81 - ETA: 0s - loss: 0.6197 - accuracy: 0.81 - ETA: 0s - loss: 0.6198 - accuracy: 0.81 - ETA: 0s - loss: 0.6197 - accuracy: 0.81 - ETA: 0s - loss: 0.6194 - accuracy: 0.81 - ETA: 0s - loss: 0.6204 - accuracy: 0.81 - ETA: 0s - loss: 0.6203 - accuracy: 0.81 - ETA: 0s - loss: 0.6204 - accuracy: 0.81 - ETA: 0s - loss: 0.6221 - accuracy: 0.81 - ETA: 0s - loss: 0.6224 - accuracy: 0.81 - ETA: 0s - loss: 0.6221 - accuracy: 0.81 - ETA: 0s - loss: 0.6224 - accuracy: 0.81 - ETA: 0s - loss: 0.6228 - accuracy: 0.81 - ETA: 0s - loss: 0.6229 - accuracy: 0.81 - ETA: 0s - loss: 0.6226 - accuracy: 0.81 - ETA: 0s - loss: 0.6220 - accuracy: 0.81 - 3s 1ms/step - loss: 0.6220 - accuracy: 0.8116 - val_loss: 0.6668 - val_accuracy: 0.7985\n",
      "Epoch 17/32\n",
      "2500/2500 [==============================] - ETA: 0s - loss: 0.8276 - accuracy: 0.68 - ETA: 2s - loss: 0.6045 - accuracy: 0.81 - ETA: 2s - loss: 0.6186 - accuracy: 0.81 - ETA: 2s - loss: 0.6077 - accuracy: 0.81 - ETA: 2s - loss: 0.6070 - accuracy: 0.81 - ETA: 2s - loss: 0.6171 - accuracy: 0.81 - ETA: 1s - loss: 0.6104 - accuracy: 0.81 - ETA: 1s - loss: 0.6083 - accuracy: 0.81 - ETA: 1s - loss: 0.6062 - accuracy: 0.81 - ETA: 1s - loss: 0.6111 - accuracy: 0.81 - ETA: 1s - loss: 0.6088 - accuracy: 0.81 - ETA: 1s - loss: 0.6113 - accuracy: 0.81 - ETA: 1s - loss: 0.6097 - accuracy: 0.81 - ETA: 1s - loss: 0.6087 - accuracy: 0.81 - ETA: 1s - loss: 0.6092 - accuracy: 0.81 - ETA: 1s - loss: 0.6123 - accuracy: 0.81 - ETA: 1s - loss: 0.6136 - accuracy: 0.81 - ETA: 1s - loss: 0.6125 - accuracy: 0.81 - ETA: 1s - loss: 0.6131 - accuracy: 0.81 - ETA: 1s - loss: 0.6142 - accuracy: 0.81 - ETA: 1s - loss: 0.6160 - accuracy: 0.81 - ETA: 1s - loss: 0.6169 - accuracy: 0.81 - ETA: 1s - loss: 0.6161 - accuracy: 0.81 - ETA: 1s - loss: 0.6166 - accuracy: 0.81 - ETA: 1s - loss: 0.6160 - accuracy: 0.81 - ETA: 1s - loss: 0.6174 - accuracy: 0.81 - ETA: 1s - loss: 0.6176 - accuracy: 0.81 - ETA: 0s - loss: 0.6177 - accuracy: 0.81 - ETA: 0s - loss: 0.6168 - accuracy: 0.81 - ETA: 0s - loss: 0.6164 - accuracy: 0.81 - ETA: 0s - loss: 0.6153 - accuracy: 0.81 - ETA: 0s - loss: 0.6155 - accuracy: 0.81 - ETA: 0s - loss: 0.6144 - accuracy: 0.81 - ETA: 0s - loss: 0.6151 - accuracy: 0.81 - ETA: 0s - loss: 0.6148 - accuracy: 0.81 - ETA: 0s - loss: 0.6149 - accuracy: 0.81 - ETA: 0s - loss: 0.6148 - accuracy: 0.81 - ETA: 0s - loss: 0.6152 - accuracy: 0.81 - ETA: 0s - loss: 0.6162 - accuracy: 0.81 - ETA: 0s - loss: 0.6168 - accuracy: 0.81 - ETA: 0s - loss: 0.6166 - accuracy: 0.81 - ETA: 0s - loss: 0.6166 - accuracy: 0.81 - ETA: 0s - loss: 0.6154 - accuracy: 0.81 - ETA: 0s - loss: 0.6161 - accuracy: 0.81 - ETA: 0s - loss: 0.6169 - accuracy: 0.81 - ETA: 0s - loss: 0.6163 - accuracy: 0.81 - ETA: 0s - loss: 0.6157 - accuracy: 0.81 - 2s 997us/step - loss: 0.6150 - accuracy: 0.8138 - val_loss: 0.6694 - val_accuracy: 0.7977\n",
      "Epoch 18/32\n",
      "2500/2500 [==============================] - ETA: 0s - loss: 0.4075 - accuracy: 0.90 - ETA: 2s - loss: 0.5808 - accuracy: 0.82 - ETA: 2s - loss: 0.5931 - accuracy: 0.81 - ETA: 2s - loss: 0.6113 - accuracy: 0.81 - ETA: 2s - loss: 0.6093 - accuracy: 0.81 - ETA: 2s - loss: 0.6030 - accuracy: 0.81 - ETA: 2s - loss: 0.6046 - accuracy: 0.81 - ETA: 1s - loss: 0.6036 - accuracy: 0.81 - ETA: 1s - loss: 0.6107 - accuracy: 0.81 - ETA: 1s - loss: 0.6063 - accuracy: 0.81 - ETA: 1s - loss: 0.6091 - accuracy: 0.81 - ETA: 1s - loss: 0.6108 - accuracy: 0.81 - ETA: 1s - loss: 0.6088 - accuracy: 0.81 - ETA: 1s - loss: 0.6099 - accuracy: 0.81 - ETA: 1s - loss: 0.6092 - accuracy: 0.81 - ETA: 1s - loss: 0.6071 - accuracy: 0.81 - ETA: 1s - loss: 0.6069 - accuracy: 0.81 - ETA: 1s - loss: 0.6048 - accuracy: 0.81 - ETA: 1s - loss: 0.6064 - accuracy: 0.81 - ETA: 1s - loss: 0.6065 - accuracy: 0.81 - ETA: 1s - loss: 0.6076 - accuracy: 0.81 - ETA: 1s - loss: 0.6095 - accuracy: 0.81 - ETA: 1s - loss: 0.6101 - accuracy: 0.81 - ETA: 1s - loss: 0.6097 - accuracy: 0.81 - ETA: 1s - loss: 0.6097 - accuracy: 0.81 - ETA: 1s - loss: 0.6102 - accuracy: 0.81 - ETA: 1s - loss: 0.6110 - accuracy: 0.81 - ETA: 0s - loss: 0.6092 - accuracy: 0.81 - ETA: 0s - loss: 0.6075 - accuracy: 0.81 - ETA: 0s - loss: 0.6067 - accuracy: 0.81 - ETA: 0s - loss: 0.6083 - accuracy: 0.81 - ETA: 0s - loss: 0.6091 - accuracy: 0.81 - ETA: 0s - loss: 0.6071 - accuracy: 0.81 - ETA: 0s - loss: 0.6079 - accuracy: 0.81 - ETA: 0s - loss: 0.6068 - accuracy: 0.81 - ETA: 0s - loss: 0.6072 - accuracy: 0.81 - ETA: 0s - loss: 0.6074 - accuracy: 0.81 - ETA: 0s - loss: 0.6073 - accuracy: 0.81 - ETA: 0s - loss: 0.6080 - accuracy: 0.81 - ETA: 0s - loss: 0.6085 - accuracy: 0.81 - ETA: 0s - loss: 0.6088 - accuracy: 0.81 - ETA: 0s - loss: 0.6090 - accuracy: 0.81 - ETA: 0s - loss: 0.6079 - accuracy: 0.81 - ETA: 0s - loss: 0.6086 - accuracy: 0.81 - ETA: 0s - loss: 0.6082 - accuracy: 0.81 - ETA: 0s - loss: 0.6086 - accuracy: 0.81 - ETA: 0s - loss: 0.6080 - accuracy: 0.81 - 3s 1ms/step - loss: 0.6082 - accuracy: 0.8154 - val_loss: 0.6582 - val_accuracy: 0.7994\n",
      "Epoch 19/32\n",
      "2500/2500 [==============================] - ETA: 0s - loss: 0.5764 - accuracy: 0.81 - ETA: 2s - loss: 0.5909 - accuracy: 0.82 - ETA: 2s - loss: 0.5825 - accuracy: 0.82 - ETA: 2s - loss: 0.5860 - accuracy: 0.82 - ETA: 2s - loss: 0.5900 - accuracy: 0.82 - ETA: 2s - loss: 0.6005 - accuracy: 0.81 - ETA: 1s - loss: 0.5926 - accuracy: 0.82 - ETA: 1s - loss: 0.5903 - accuracy: 0.82 - ETA: 1s - loss: 0.5901 - accuracy: 0.82 - ETA: 1s - loss: 0.5904 - accuracy: 0.82 - ETA: 1s - loss: 0.5926 - accuracy: 0.82 - ETA: 1s - loss: 0.5903 - accuracy: 0.82 - ETA: 1s - loss: 0.5951 - accuracy: 0.82 - ETA: 1s - loss: 0.5941 - accuracy: 0.82 - ETA: 1s - loss: 0.5929 - accuracy: 0.82 - ETA: 1s - loss: 0.5970 - accuracy: 0.81 - ETA: 1s - loss: 0.5977 - accuracy: 0.81 - ETA: 1s - loss: 0.5993 - accuracy: 0.81 - ETA: 1s - loss: 0.5991 - accuracy: 0.81 - ETA: 1s - loss: 0.5966 - accuracy: 0.81 - ETA: 1s - loss: 0.5972 - accuracy: 0.81 - ETA: 1s - loss: 0.5963 - accuracy: 0.81 - ETA: 1s - loss: 0.5969 - accuracy: 0.81 - ETA: 1s - loss: 0.5976 - accuracy: 0.81 - ETA: 1s - loss: 0.5970 - accuracy: 0.81 - ETA: 1s - loss: 0.5981 - accuracy: 0.81 - ETA: 1s - loss: 0.5986 - accuracy: 0.81 - ETA: 0s - loss: 0.5993 - accuracy: 0.81 - ETA: 0s - loss: 0.5993 - accuracy: 0.81 - ETA: 0s - loss: 0.5990 - accuracy: 0.81 - ETA: 0s - loss: 0.5974 - accuracy: 0.81 - ETA: 0s - loss: 0.5980 - accuracy: 0.81 - ETA: 0s - loss: 0.5981 - accuracy: 0.81 - ETA: 0s - loss: 0.5999 - accuracy: 0.81 - ETA: 0s - loss: 0.5995 - accuracy: 0.81 - ETA: 0s - loss: 0.6001 - accuracy: 0.81 - ETA: 0s - loss: 0.5996 - accuracy: 0.81 - ETA: 0s - loss: 0.5991 - accuracy: 0.81 - ETA: 0s - loss: 0.5991 - accuracy: 0.81 - ETA: 0s - loss: 0.5987 - accuracy: 0.81 - ETA: 0s - loss: 0.5991 - accuracy: 0.81 - ETA: 0s - loss: 0.5996 - accuracy: 0.81 - ETA: 0s - loss: 0.6001 - accuracy: 0.81 - ETA: 0s - loss: 0.5999 - accuracy: 0.81 - ETA: 0s - loss: 0.6001 - accuracy: 0.81 - ETA: 0s - loss: 0.6012 - accuracy: 0.81 - ETA: 0s - loss: 0.6019 - accuracy: 0.81 - 3s 1ms/step - loss: 0.6021 - accuracy: 0.8184 - val_loss: 0.6624 - val_accuracy: 0.8006\n",
      "Epoch 20/32\n",
      "2500/2500 [==============================] - ETA: 0s - loss: 0.3651 - accuracy: 0.93 - ETA: 2s - loss: 0.6208 - accuracy: 0.81 - ETA: 2s - loss: 0.6280 - accuracy: 0.81 - ETA: 2s - loss: 0.6087 - accuracy: 0.81 - ETA: 2s - loss: 0.6073 - accuracy: 0.82 - ETA: 2s - loss: 0.5990 - accuracy: 0.82 - ETA: 2s - loss: 0.6049 - accuracy: 0.81 - ETA: 1s - loss: 0.5968 - accuracy: 0.82 - ETA: 1s - loss: 0.5932 - accuracy: 0.82 - ETA: 1s - loss: 0.5931 - accuracy: 0.82 - ETA: 1s - loss: 0.5960 - accuracy: 0.82 - ETA: 1s - loss: 0.5989 - accuracy: 0.81 - ETA: 1s - loss: 0.6011 - accuracy: 0.81 - ETA: 1s - loss: 0.6012 - accuracy: 0.81 - ETA: 1s - loss: 0.6001 - accuracy: 0.81 - ETA: 1s - loss: 0.5973 - accuracy: 0.81 - ETA: 1s - loss: 0.5958 - accuracy: 0.81 - ETA: 1s - loss: 0.5971 - accuracy: 0.81 - ETA: 1s - loss: 0.5992 - accuracy: 0.81 - ETA: 1s - loss: 0.6002 - accuracy: 0.81 - ETA: 1s - loss: 0.5978 - accuracy: 0.81 - ETA: 1s - loss: 0.5990 - accuracy: 0.81 - ETA: 1s - loss: 0.5997 - accuracy: 0.81 - ETA: 1s - loss: 0.5974 - accuracy: 0.81 - ETA: 1s - loss: 0.5974 - accuracy: 0.81 - ETA: 1s - loss: 0.5972 - accuracy: 0.81 - ETA: 1s - loss: 0.5980 - accuracy: 0.81 - ETA: 0s - loss: 0.5995 - accuracy: 0.81 - ETA: 0s - loss: 0.5995 - accuracy: 0.81 - ETA: 0s - loss: 0.5990 - accuracy: 0.81 - ETA: 0s - loss: 0.5983 - accuracy: 0.81 - ETA: 0s - loss: 0.5980 - accuracy: 0.81 - ETA: 0s - loss: 0.5980 - accuracy: 0.81 - ETA: 0s - loss: 0.5981 - accuracy: 0.81 - ETA: 0s - loss: 0.5973 - accuracy: 0.81 - ETA: 0s - loss: 0.5977 - accuracy: 0.81 - ETA: 0s - loss: 0.5979 - accuracy: 0.81 - ETA: 0s - loss: 0.5973 - accuracy: 0.81 - ETA: 0s - loss: 0.5976 - accuracy: 0.81 - ETA: 0s - loss: 0.5961 - accuracy: 0.81 - ETA: 0s - loss: 0.5950 - accuracy: 0.81 - ETA: 0s - loss: 0.5955 - accuracy: 0.81 - ETA: 0s - loss: 0.5943 - accuracy: 0.82 - ETA: 0s - loss: 0.5941 - accuracy: 0.81 - ETA: 0s - loss: 0.5937 - accuracy: 0.82 - ETA: 0s - loss: 0.5945 - accuracy: 0.81 - ETA: 0s - loss: 0.5958 - accuracy: 0.81 - 3s 1ms/step - loss: 0.5960 - accuracy: 0.8195 - val_loss: 0.6546 - val_accuracy: 0.8012\n",
      "Epoch 21/32\n",
      "2500/2500 [==============================] - ETA: 0s - loss: 0.6059 - accuracy: 0.78 - ETA: 2s - loss: 0.6384 - accuracy: 0.79 - ETA: 2s - loss: 0.6084 - accuracy: 0.81 - ETA: 2s - loss: 0.6048 - accuracy: 0.81 - ETA: 2s - loss: 0.5945 - accuracy: 0.81 - ETA: 2s - loss: 0.5893 - accuracy: 0.82 - ETA: 2s - loss: 0.5946 - accuracy: 0.82 - ETA: 1s - loss: 0.5936 - accuracy: 0.82 - ETA: 1s - loss: 0.5916 - accuracy: 0.82 - ETA: 1s - loss: 0.5891 - accuracy: 0.82 - ETA: 1s - loss: 0.5861 - accuracy: 0.82 - ETA: 1s - loss: 0.5810 - accuracy: 0.82 - ETA: 1s - loss: 0.5800 - accuracy: 0.82 - ETA: 1s - loss: 0.5804 - accuracy: 0.82 - ETA: 1s - loss: 0.5821 - accuracy: 0.82 - ETA: 1s - loss: 0.5804 - accuracy: 0.82 - ETA: 1s - loss: 0.5812 - accuracy: 0.82 - ETA: 1s - loss: 0.5795 - accuracy: 0.82 - ETA: 1s - loss: 0.5794 - accuracy: 0.82 - ETA: 1s - loss: 0.5802 - accuracy: 0.82 - ETA: 1s - loss: 0.5800 - accuracy: 0.82 - ETA: 1s - loss: 0.5803 - accuracy: 0.82 - ETA: 1s - loss: 0.5791 - accuracy: 0.82 - ETA: 1s - loss: 0.5785 - accuracy: 0.82 - ETA: 1s - loss: 0.5807 - accuracy: 0.82 - ETA: 1s - loss: 0.5814 - accuracy: 0.82 - ETA: 1s - loss: 0.5829 - accuracy: 0.82 - ETA: 1s - loss: 0.5841 - accuracy: 0.82 - ETA: 1s - loss: 0.5831 - accuracy: 0.82 - ETA: 1s - loss: 0.5860 - accuracy: 0.82 - ETA: 1s - loss: 0.5857 - accuracy: 0.82 - ETA: 1s - loss: 0.5868 - accuracy: 0.82 - ETA: 1s - loss: 0.5869 - accuracy: 0.82 - ETA: 0s - loss: 0.5875 - accuracy: 0.82 - ETA: 0s - loss: 0.5893 - accuracy: 0.82 - ETA: 0s - loss: 0.5891 - accuracy: 0.82 - ETA: 0s - loss: 0.5891 - accuracy: 0.82 - ETA: 0s - loss: 0.5894 - accuracy: 0.82 - ETA: 0s - loss: 0.5891 - accuracy: 0.82 - ETA: 0s - loss: 0.5889 - accuracy: 0.82 - ETA: 0s - loss: 0.5884 - accuracy: 0.82 - ETA: 0s - loss: 0.5881 - accuracy: 0.82 - ETA: 0s - loss: 0.5880 - accuracy: 0.82 - ETA: 0s - loss: 0.5889 - accuracy: 0.82 - ETA: 0s - loss: 0.5889 - accuracy: 0.82 - ETA: 0s - loss: 0.5888 - accuracy: 0.82 - ETA: 0s - loss: 0.5882 - accuracy: 0.82 - ETA: 0s - loss: 0.5879 - accuracy: 0.82 - ETA: 0s - loss: 0.5887 - accuracy: 0.82 - ETA: 0s - loss: 0.5885 - accuracy: 0.82 - ETA: 0s - loss: 0.5893 - accuracy: 0.82 - 3s 1ms/step - loss: 0.5893 - accuracy: 0.8223 - val_loss: 0.6534 - val_accuracy: 0.8066\n",
      "Epoch 22/32\n",
      "2500/2500 [==============================] - ETA: 0s - loss: 0.6263 - accuracy: 0.81 - ETA: 3s - loss: 0.5565 - accuracy: 0.82 - ETA: 2s - loss: 0.5830 - accuracy: 0.82 - ETA: 2s - loss: 0.6018 - accuracy: 0.82 - ETA: 2s - loss: 0.6044 - accuracy: 0.81 - ETA: 2s - loss: 0.6027 - accuracy: 0.81 - ETA: 2s - loss: 0.5974 - accuracy: 0.82 - ETA: 2s - loss: 0.5899 - accuracy: 0.82 - ETA: 2s - loss: 0.5967 - accuracy: 0.82 - ETA: 2s - loss: 0.5946 - accuracy: 0.82 - ETA: 2s - loss: 0.5922 - accuracy: 0.82 - ETA: 2s - loss: 0.5899 - accuracy: 0.82 - ETA: 2s - loss: 0.5905 - accuracy: 0.82 - ETA: 1s - loss: 0.5917 - accuracy: 0.82 - ETA: 1s - loss: 0.5923 - accuracy: 0.82 - ETA: 1s - loss: 0.5922 - accuracy: 0.82 - ETA: 1s - loss: 0.5909 - accuracy: 0.82 - ETA: 1s - loss: 0.5902 - accuracy: 0.82 - ETA: 1s - loss: 0.5893 - accuracy: 0.82 - ETA: 1s - loss: 0.5869 - accuracy: 0.82 - ETA: 1s - loss: 0.5864 - accuracy: 0.82 - ETA: 1s - loss: 0.5870 - accuracy: 0.82 - ETA: 1s - loss: 0.5860 - accuracy: 0.82 - ETA: 1s - loss: 0.5861 - accuracy: 0.82 - ETA: 1s - loss: 0.5838 - accuracy: 0.82 - ETA: 1s - loss: 0.5843 - accuracy: 0.82 - ETA: 1s - loss: 0.5834 - accuracy: 0.82 - ETA: 1s - loss: 0.5836 - accuracy: 0.82 - ETA: 1s - loss: 0.5853 - accuracy: 0.82 - ETA: 1s - loss: 0.5862 - accuracy: 0.82 - ETA: 0s - loss: 0.5871 - accuracy: 0.82 - ETA: 0s - loss: 0.5860 - accuracy: 0.82 - ETA: 0s - loss: 0.5856 - accuracy: 0.82 - ETA: 0s - loss: 0.5850 - accuracy: 0.82 - ETA: 0s - loss: 0.5850 - accuracy: 0.82 - ETA: 0s - loss: 0.5848 - accuracy: 0.82 - ETA: 0s - loss: 0.5855 - accuracy: 0.82 - ETA: 0s - loss: 0.5850 - accuracy: 0.82 - ETA: 0s - loss: 0.5839 - accuracy: 0.82 - ETA: 0s - loss: 0.5839 - accuracy: 0.82 - ETA: 0s - loss: 0.5848 - accuracy: 0.82 - ETA: 0s - loss: 0.5832 - accuracy: 0.82 - ETA: 0s - loss: 0.5831 - accuracy: 0.82 - ETA: 0s - loss: 0.5832 - accuracy: 0.82 - ETA: 0s - loss: 0.5833 - accuracy: 0.82 - ETA: 0s - loss: 0.5830 - accuracy: 0.82 - ETA: 0s - loss: 0.5836 - accuracy: 0.82 - ETA: 0s - loss: 0.5844 - accuracy: 0.82 - ETA: 0s - loss: 0.5851 - accuracy: 0.82 - 3s 1ms/step - loss: 0.5848 - accuracy: 0.8233 - val_loss: 0.6531 - val_accuracy: 0.8046\n",
      "Epoch 23/32\n",
      "2500/2500 [==============================] - ETA: 0s - loss: 0.9790 - accuracy: 0.75 - ETA: 2s - loss: 0.5912 - accuracy: 0.82 - ETA: 2s - loss: 0.5893 - accuracy: 0.82 - ETA: 2s - loss: 0.5882 - accuracy: 0.82 - ETA: 2s - loss: 0.5888 - accuracy: 0.82 - ETA: 2s - loss: 0.5914 - accuracy: 0.82 - ETA: 2s - loss: 0.5922 - accuracy: 0.82 - ETA: 2s - loss: 0.5963 - accuracy: 0.82 - ETA: 2s - loss: 0.5962 - accuracy: 0.82 - ETA: 2s - loss: 0.5981 - accuracy: 0.82 - ETA: 2s - loss: 0.5916 - accuracy: 0.82 - ETA: 1s - loss: 0.5892 - accuracy: 0.82 - ETA: 1s - loss: 0.5916 - accuracy: 0.82 - ETA: 1s - loss: 0.5947 - accuracy: 0.82 - ETA: 1s - loss: 0.5957 - accuracy: 0.82 - ETA: 1s - loss: 0.5934 - accuracy: 0.82 - ETA: 1s - loss: 0.5911 - accuracy: 0.82 - ETA: 1s - loss: 0.5911 - accuracy: 0.82 - ETA: 1s - loss: 0.5904 - accuracy: 0.82 - ETA: 1s - loss: 0.5892 - accuracy: 0.82 - ETA: 1s - loss: 0.5874 - accuracy: 0.82 - ETA: 1s - loss: 0.5850 - accuracy: 0.82 - ETA: 1s - loss: 0.5846 - accuracy: 0.82 - ETA: 1s - loss: 0.5861 - accuracy: 0.82 - ETA: 1s - loss: 0.5844 - accuracy: 0.82 - ETA: 1s - loss: 0.5836 - accuracy: 0.82 - ETA: 1s - loss: 0.5827 - accuracy: 0.82 - ETA: 1s - loss: 0.5843 - accuracy: 0.82 - ETA: 1s - loss: 0.5827 - accuracy: 0.82 - ETA: 1s - loss: 0.5813 - accuracy: 0.82 - ETA: 0s - loss: 0.5807 - accuracy: 0.82 - ETA: 0s - loss: 0.5824 - accuracy: 0.82 - ETA: 0s - loss: 0.5827 - accuracy: 0.82 - ETA: 0s - loss: 0.5818 - accuracy: 0.82 - ETA: 0s - loss: 0.5822 - accuracy: 0.82 - ETA: 0s - loss: 0.5817 - accuracy: 0.82 - ETA: 0s - loss: 0.5827 - accuracy: 0.82 - ETA: 0s - loss: 0.5824 - accuracy: 0.82 - ETA: 0s - loss: 0.5826 - accuracy: 0.82 - ETA: 0s - loss: 0.5826 - accuracy: 0.82 - ETA: 0s - loss: 0.5823 - accuracy: 0.82 - ETA: 0s - loss: 0.5826 - accuracy: 0.82 - ETA: 0s - loss: 0.5832 - accuracy: 0.82 - ETA: 0s - loss: 0.5836 - accuracy: 0.82 - ETA: 0s - loss: 0.5838 - accuracy: 0.82 - ETA: 0s - loss: 0.5835 - accuracy: 0.82 - ETA: 0s - loss: 0.5841 - accuracy: 0.82 - ETA: 0s - loss: 0.5838 - accuracy: 0.82 - ETA: 0s - loss: 0.5825 - accuracy: 0.82 - 3s 1ms/step - loss: 0.5829 - accuracy: 0.8249 - val_loss: 0.6495 - val_accuracy: 0.8056\n",
      "Epoch 24/32\n",
      "2500/2500 [==============================] - ETA: 0s - loss: 0.4696 - accuracy: 0.90 - ETA: 2s - loss: 0.5600 - accuracy: 0.83 - ETA: 2s - loss: 0.5669 - accuracy: 0.82 - ETA: 2s - loss: 0.5833 - accuracy: 0.82 - ETA: 2s - loss: 0.5874 - accuracy: 0.82 - ETA: 2s - loss: 0.5796 - accuracy: 0.82 - ETA: 1s - loss: 0.5767 - accuracy: 0.82 - ETA: 1s - loss: 0.5760 - accuracy: 0.82 - ETA: 1s - loss: 0.5730 - accuracy: 0.82 - ETA: 1s - loss: 0.5718 - accuracy: 0.82 - ETA: 1s - loss: 0.5700 - accuracy: 0.82 - ETA: 1s - loss: 0.5683 - accuracy: 0.82 - ETA: 1s - loss: 0.5713 - accuracy: 0.82 - ETA: 1s - loss: 0.5729 - accuracy: 0.82 - ETA: 1s - loss: 0.5703 - accuracy: 0.82 - ETA: 1s - loss: 0.5674 - accuracy: 0.82 - ETA: 1s - loss: 0.5696 - accuracy: 0.82 - ETA: 1s - loss: 0.5692 - accuracy: 0.82 - ETA: 1s - loss: 0.5705 - accuracy: 0.82 - ETA: 1s - loss: 0.5706 - accuracy: 0.82 - ETA: 1s - loss: 0.5689 - accuracy: 0.82 - ETA: 1s - loss: 0.5715 - accuracy: 0.82 - ETA: 1s - loss: 0.5739 - accuracy: 0.82 - ETA: 1s - loss: 0.5729 - accuracy: 0.82 - ETA: 1s - loss: 0.5725 - accuracy: 0.82 - ETA: 1s - loss: 0.5710 - accuracy: 0.82 - ETA: 1s - loss: 0.5706 - accuracy: 0.82 - ETA: 0s - loss: 0.5714 - accuracy: 0.82 - ETA: 0s - loss: 0.5712 - accuracy: 0.82 - ETA: 0s - loss: 0.5713 - accuracy: 0.82 - ETA: 0s - loss: 0.5724 - accuracy: 0.82 - ETA: 0s - loss: 0.5730 - accuracy: 0.82 - ETA: 0s - loss: 0.5730 - accuracy: 0.82 - ETA: 0s - loss: 0.5733 - accuracy: 0.82 - ETA: 0s - loss: 0.5741 - accuracy: 0.82 - ETA: 0s - loss: 0.5748 - accuracy: 0.82 - ETA: 0s - loss: 0.5742 - accuracy: 0.82 - ETA: 0s - loss: 0.5744 - accuracy: 0.82 - ETA: 0s - loss: 0.5736 - accuracy: 0.82 - ETA: 0s - loss: 0.5734 - accuracy: 0.82 - ETA: 0s - loss: 0.5740 - accuracy: 0.82 - ETA: 0s - loss: 0.5743 - accuracy: 0.82 - ETA: 0s - loss: 0.5734 - accuracy: 0.82 - ETA: 0s - loss: 0.5740 - accuracy: 0.82 - ETA: 0s - loss: 0.5739 - accuracy: 0.82 - ETA: 0s - loss: 0.5746 - accuracy: 0.82 - ETA: 0s - loss: 0.5753 - accuracy: 0.82 - 2s 991us/step - loss: 0.5755 - accuracy: 0.8262 - val_loss: 0.6494 - val_accuracy: 0.8030\n",
      "Epoch 25/32\n",
      "2500/2500 [==============================] - ETA: 0s - loss: 0.3786 - accuracy: 0.87 - ETA: 2s - loss: 0.5565 - accuracy: 0.82 - ETA: 2s - loss: 0.5669 - accuracy: 0.82 - ETA: 2s - loss: 0.5672 - accuracy: 0.82 - ETA: 2s - loss: 0.5535 - accuracy: 0.82 - ETA: 2s - loss: 0.5579 - accuracy: 0.82 - ETA: 1s - loss: 0.5597 - accuracy: 0.82 - ETA: 1s - loss: 0.5580 - accuracy: 0.82 - ETA: 1s - loss: 0.5570 - accuracy: 0.82 - ETA: 1s - loss: 0.5612 - accuracy: 0.82 - ETA: 1s - loss: 0.5635 - accuracy: 0.82 - ETA: 1s - loss: 0.5649 - accuracy: 0.82 - ETA: 1s - loss: 0.5660 - accuracy: 0.82 - ETA: 1s - loss: 0.5635 - accuracy: 0.82 - ETA: 1s - loss: 0.5638 - accuracy: 0.82 - ETA: 1s - loss: 0.5643 - accuracy: 0.82 - ETA: 1s - loss: 0.5622 - accuracy: 0.82 - ETA: 1s - loss: 0.5618 - accuracy: 0.82 - ETA: 1s - loss: 0.5627 - accuracy: 0.82 - ETA: 1s - loss: 0.5622 - accuracy: 0.82 - ETA: 1s - loss: 0.5621 - accuracy: 0.82 - ETA: 1s - loss: 0.5637 - accuracy: 0.82 - ETA: 1s - loss: 0.5653 - accuracy: 0.82 - ETA: 1s - loss: 0.5653 - accuracy: 0.82 - ETA: 1s - loss: 0.5681 - accuracy: 0.82 - ETA: 1s - loss: 0.5678 - accuracy: 0.82 - ETA: 1s - loss: 0.5678 - accuracy: 0.82 - ETA: 0s - loss: 0.5671 - accuracy: 0.82 - ETA: 0s - loss: 0.5669 - accuracy: 0.82 - ETA: 0s - loss: 0.5679 - accuracy: 0.82 - ETA: 0s - loss: 0.5678 - accuracy: 0.82 - ETA: 0s - loss: 0.5674 - accuracy: 0.82 - ETA: 0s - loss: 0.5673 - accuracy: 0.82 - ETA: 0s - loss: 0.5675 - accuracy: 0.82 - ETA: 0s - loss: 0.5678 - accuracy: 0.82 - ETA: 0s - loss: 0.5688 - accuracy: 0.82 - ETA: 0s - loss: 0.5679 - accuracy: 0.82 - ETA: 0s - loss: 0.5678 - accuracy: 0.82 - ETA: 0s - loss: 0.5680 - accuracy: 0.82 - ETA: 0s - loss: 0.5685 - accuracy: 0.82 - ETA: 0s - loss: 0.5684 - accuracy: 0.82 - ETA: 0s - loss: 0.5677 - accuracy: 0.82 - ETA: 0s - loss: 0.5687 - accuracy: 0.82 - ETA: 0s - loss: 0.5694 - accuracy: 0.82 - ETA: 0s - loss: 0.5705 - accuracy: 0.82 - ETA: 0s - loss: 0.5696 - accuracy: 0.82 - ETA: 0s - loss: 0.5693 - accuracy: 0.82 - 2s 991us/step - loss: 0.5694 - accuracy: 0.8277 - val_loss: 0.6446 - val_accuracy: 0.8062\n",
      "Epoch 26/32\n",
      "2500/2500 [==============================] - ETA: 0s - loss: 0.8997 - accuracy: 0.68 - ETA: 2s - loss: 0.5985 - accuracy: 0.81 - ETA: 2s - loss: 0.5751 - accuracy: 0.82 - ETA: 2s - loss: 0.5537 - accuracy: 0.83 - ETA: 2s - loss: 0.5596 - accuracy: 0.83 - ETA: 2s - loss: 0.5646 - accuracy: 0.83 - ETA: 2s - loss: 0.5667 - accuracy: 0.82 - ETA: 1s - loss: 0.5674 - accuracy: 0.83 - ETA: 1s - loss: 0.5627 - accuracy: 0.83 - ETA: 1s - loss: 0.5641 - accuracy: 0.83 - ETA: 1s - loss: 0.5655 - accuracy: 0.83 - ETA: 1s - loss: 0.5650 - accuracy: 0.83 - ETA: 1s - loss: 0.5640 - accuracy: 0.83 - ETA: 1s - loss: 0.5629 - accuracy: 0.83 - ETA: 1s - loss: 0.5615 - accuracy: 0.83 - ETA: 1s - loss: 0.5603 - accuracy: 0.83 - ETA: 1s - loss: 0.5592 - accuracy: 0.83 - ETA: 1s - loss: 0.5623 - accuracy: 0.83 - ETA: 1s - loss: 0.5641 - accuracy: 0.83 - ETA: 1s - loss: 0.5639 - accuracy: 0.83 - ETA: 1s - loss: 0.5661 - accuracy: 0.83 - ETA: 1s - loss: 0.5665 - accuracy: 0.83 - ETA: 1s - loss: 0.5657 - accuracy: 0.83 - ETA: 1s - loss: 0.5658 - accuracy: 0.83 - ETA: 1s - loss: 0.5670 - accuracy: 0.82 - ETA: 1s - loss: 0.5667 - accuracy: 0.82 - ETA: 0s - loss: 0.5667 - accuracy: 0.82 - ETA: 0s - loss: 0.5673 - accuracy: 0.82 - ETA: 0s - loss: 0.5668 - accuracy: 0.82 - ETA: 0s - loss: 0.5667 - accuracy: 0.82 - ETA: 0s - loss: 0.5665 - accuracy: 0.82 - ETA: 0s - loss: 0.5657 - accuracy: 0.83 - ETA: 0s - loss: 0.5652 - accuracy: 0.83 - ETA: 0s - loss: 0.5660 - accuracy: 0.82 - ETA: 0s - loss: 0.5659 - accuracy: 0.82 - ETA: 0s - loss: 0.5666 - accuracy: 0.82 - ETA: 0s - loss: 0.5670 - accuracy: 0.82 - ETA: 0s - loss: 0.5671 - accuracy: 0.82 - ETA: 0s - loss: 0.5677 - accuracy: 0.82 - ETA: 0s - loss: 0.5678 - accuracy: 0.82 - ETA: 0s - loss: 0.5680 - accuracy: 0.82 - ETA: 0s - loss: 0.5679 - accuracy: 0.82 - ETA: 0s - loss: 0.5676 - accuracy: 0.82 - ETA: 0s - loss: 0.5687 - accuracy: 0.82 - ETA: 0s - loss: 0.5689 - accuracy: 0.82 - ETA: 0s - loss: 0.5677 - accuracy: 0.82 - 2s 998us/step - loss: 0.5671 - accuracy: 0.8298 - val_loss: 0.6434 - val_accuracy: 0.8090\n",
      "Epoch 27/32\n",
      "2500/2500 [==============================] - ETA: 0s - loss: 0.4641 - accuracy: 0.90 - ETA: 2s - loss: 0.5094 - accuracy: 0.84 - ETA: 2s - loss: 0.5286 - accuracy: 0.83 - ETA: 2s - loss: 0.5364 - accuracy: 0.83 - ETA: 2s - loss: 0.5359 - accuracy: 0.83 - ETA: 2s - loss: 0.5468 - accuracy: 0.83 - ETA: 1s - loss: 0.5401 - accuracy: 0.83 - ETA: 1s - loss: 0.5425 - accuracy: 0.83 - ETA: 1s - loss: 0.5444 - accuracy: 0.83 - ETA: 1s - loss: 0.5469 - accuracy: 0.83 - ETA: 1s - loss: 0.5500 - accuracy: 0.83 - ETA: 1s - loss: 0.5529 - accuracy: 0.83 - ETA: 1s - loss: 0.5511 - accuracy: 0.83 - ETA: 1s - loss: 0.5488 - accuracy: 0.83 - ETA: 1s - loss: 0.5477 - accuracy: 0.83 - ETA: 1s - loss: 0.5480 - accuracy: 0.83 - ETA: 1s - loss: 0.5494 - accuracy: 0.83 - ETA: 1s - loss: 0.5523 - accuracy: 0.83 - ETA: 1s - loss: 0.5530 - accuracy: 0.83 - ETA: 1s - loss: 0.5535 - accuracy: 0.83 - ETA: 1s - loss: 0.5546 - accuracy: 0.83 - ETA: 1s - loss: 0.5566 - accuracy: 0.83 - ETA: 1s - loss: 0.5571 - accuracy: 0.83 - ETA: 1s - loss: 0.5592 - accuracy: 0.83 - ETA: 1s - loss: 0.5598 - accuracy: 0.83 - ETA: 1s - loss: 0.5593 - accuracy: 0.83 - ETA: 0s - loss: 0.5601 - accuracy: 0.83 - ETA: 0s - loss: 0.5612 - accuracy: 0.83 - ETA: 0s - loss: 0.5623 - accuracy: 0.82 - ETA: 0s - loss: 0.5614 - accuracy: 0.83 - ETA: 0s - loss: 0.5608 - accuracy: 0.83 - ETA: 0s - loss: 0.5597 - accuracy: 0.83 - ETA: 0s - loss: 0.5586 - accuracy: 0.83 - ETA: 0s - loss: 0.5591 - accuracy: 0.83 - ETA: 0s - loss: 0.5591 - accuracy: 0.83 - ETA: 0s - loss: 0.5588 - accuracy: 0.83 - ETA: 0s - loss: 0.5591 - accuracy: 0.83 - ETA: 0s - loss: 0.5603 - accuracy: 0.83 - ETA: 0s - loss: 0.5616 - accuracy: 0.83 - ETA: 0s - loss: 0.5624 - accuracy: 0.83 - ETA: 0s - loss: 0.5630 - accuracy: 0.83 - ETA: 0s - loss: 0.5642 - accuracy: 0.83 - ETA: 0s - loss: 0.5654 - accuracy: 0.82 - ETA: 0s - loss: 0.5651 - accuracy: 0.82 - ETA: 0s - loss: 0.5646 - accuracy: 0.82 - ETA: 0s - loss: 0.5644 - accuracy: 0.83 - 2s 981us/step - loss: 0.5642 - accuracy: 0.8302 - val_loss: 0.6401 - val_accuracy: 0.8077\n",
      "Epoch 28/32\n",
      "2500/2500 [==============================] - ETA: 0s - loss: 0.6024 - accuracy: 0.71 - ETA: 2s - loss: 0.5796 - accuracy: 0.82 - ETA: 2s - loss: 0.5808 - accuracy: 0.82 - ETA: 2s - loss: 0.5722 - accuracy: 0.82 - ETA: 2s - loss: 0.5639 - accuracy: 0.83 - ETA: 2s - loss: 0.5677 - accuracy: 0.83 - ETA: 1s - loss: 0.5695 - accuracy: 0.83 - ETA: 1s - loss: 0.5672 - accuracy: 0.83 - ETA: 1s - loss: 0.5645 - accuracy: 0.83 - ETA: 1s - loss: 0.5658 - accuracy: 0.83 - ETA: 1s - loss: 0.5633 - accuracy: 0.83 - ETA: 1s - loss: 0.5617 - accuracy: 0.83 - ETA: 1s - loss: 0.5570 - accuracy: 0.83 - ETA: 1s - loss: 0.5563 - accuracy: 0.83 - ETA: 1s - loss: 0.5537 - accuracy: 0.83 - ETA: 1s - loss: 0.5558 - accuracy: 0.83 - ETA: 1s - loss: 0.5516 - accuracy: 0.83 - ETA: 1s - loss: 0.5514 - accuracy: 0.83 - ETA: 1s - loss: 0.5545 - accuracy: 0.83 - ETA: 1s - loss: 0.5524 - accuracy: 0.83 - ETA: 1s - loss: 0.5521 - accuracy: 0.83 - ETA: 1s - loss: 0.5516 - accuracy: 0.83 - ETA: 1s - loss: 0.5519 - accuracy: 0.83 - ETA: 1s - loss: 0.5531 - accuracy: 0.83 - ETA: 1s - loss: 0.5534 - accuracy: 0.83 - ETA: 1s - loss: 0.5529 - accuracy: 0.83 - ETA: 0s - loss: 0.5542 - accuracy: 0.83 - ETA: 0s - loss: 0.5538 - accuracy: 0.83 - ETA: 0s - loss: 0.5547 - accuracy: 0.83 - ETA: 0s - loss: 0.5567 - accuracy: 0.83 - ETA: 0s - loss: 0.5576 - accuracy: 0.83 - ETA: 0s - loss: 0.5576 - accuracy: 0.83 - ETA: 0s - loss: 0.5567 - accuracy: 0.83 - ETA: 0s - loss: 0.5563 - accuracy: 0.83 - ETA: 0s - loss: 0.5561 - accuracy: 0.83 - ETA: 0s - loss: 0.5569 - accuracy: 0.83 - ETA: 0s - loss: 0.5561 - accuracy: 0.83 - ETA: 0s - loss: 0.5564 - accuracy: 0.83 - ETA: 0s - loss: 0.5568 - accuracy: 0.83 - ETA: 0s - loss: 0.5567 - accuracy: 0.83 - ETA: 0s - loss: 0.5571 - accuracy: 0.83 - ETA: 0s - loss: 0.5582 - accuracy: 0.83 - ETA: 0s - loss: 0.5584 - accuracy: 0.83 - ETA: 0s - loss: 0.5584 - accuracy: 0.83 - ETA: 0s - loss: 0.5588 - accuracy: 0.83 - ETA: 0s - loss: 0.5590 - accuracy: 0.83 - 2s 993us/step - loss: 0.5585 - accuracy: 0.8329 - val_loss: 0.6362 - val_accuracy: 0.8094\n",
      "Epoch 29/32\n",
      "2500/2500 [==============================] - ETA: 0s - loss: 0.5075 - accuracy: 0.78 - ETA: 2s - loss: 0.5794 - accuracy: 0.83 - ETA: 2s - loss: 0.6045 - accuracy: 0.82 - ETA: 2s - loss: 0.5849 - accuracy: 0.82 - ETA: 2s - loss: 0.5774 - accuracy: 0.83 - ETA: 2s - loss: 0.5780 - accuracy: 0.83 - ETA: 2s - loss: 0.5797 - accuracy: 0.82 - ETA: 1s - loss: 0.5773 - accuracy: 0.82 - ETA: 1s - loss: 0.5784 - accuracy: 0.82 - ETA: 1s - loss: 0.5740 - accuracy: 0.83 - ETA: 1s - loss: 0.5715 - accuracy: 0.83 - ETA: 1s - loss: 0.5681 - accuracy: 0.83 - ETA: 1s - loss: 0.5665 - accuracy: 0.83 - ETA: 1s - loss: 0.5653 - accuracy: 0.83 - ETA: 1s - loss: 0.5619 - accuracy: 0.83 - ETA: 1s - loss: 0.5647 - accuracy: 0.83 - ETA: 1s - loss: 0.5626 - accuracy: 0.83 - ETA: 1s - loss: 0.5611 - accuracy: 0.83 - ETA: 1s - loss: 0.5593 - accuracy: 0.83 - ETA: 1s - loss: 0.5593 - accuracy: 0.83 - ETA: 1s - loss: 0.5602 - accuracy: 0.83 - ETA: 1s - loss: 0.5590 - accuracy: 0.83 - ETA: 1s - loss: 0.5574 - accuracy: 0.83 - ETA: 1s - loss: 0.5597 - accuracy: 0.83 - ETA: 1s - loss: 0.5591 - accuracy: 0.83 - ETA: 1s - loss: 0.5580 - accuracy: 0.83 - ETA: 1s - loss: 0.5576 - accuracy: 0.83 - ETA: 1s - loss: 0.5572 - accuracy: 0.83 - ETA: 0s - loss: 0.5582 - accuracy: 0.83 - ETA: 0s - loss: 0.5590 - accuracy: 0.83 - ETA: 0s - loss: 0.5586 - accuracy: 0.83 - ETA: 0s - loss: 0.5572 - accuracy: 0.83 - ETA: 0s - loss: 0.5570 - accuracy: 0.83 - ETA: 0s - loss: 0.5567 - accuracy: 0.83 - ETA: 0s - loss: 0.5559 - accuracy: 0.83 - ETA: 0s - loss: 0.5558 - accuracy: 0.83 - ETA: 0s - loss: 0.5554 - accuracy: 0.83 - ETA: 0s - loss: 0.5550 - accuracy: 0.83 - ETA: 0s - loss: 0.5559 - accuracy: 0.83 - ETA: 0s - loss: 0.5562 - accuracy: 0.83 - ETA: 0s - loss: 0.5561 - accuracy: 0.83 - ETA: 0s - loss: 0.5553 - accuracy: 0.83 - ETA: 0s - loss: 0.5561 - accuracy: 0.83 - ETA: 0s - loss: 0.5562 - accuracy: 0.83 - ETA: 0s - loss: 0.5567 - accuracy: 0.83 - ETA: 0s - loss: 0.5571 - accuracy: 0.83 - ETA: 0s - loss: 0.5569 - accuracy: 0.83 - ETA: 0s - loss: 0.5562 - accuracy: 0.83 - ETA: 0s - loss: 0.5552 - accuracy: 0.83 - 3s 1ms/step - loss: 0.5555 - accuracy: 0.8328 - val_loss: 0.6369 - val_accuracy: 0.8104\n",
      "Epoch 30/32\n",
      "2500/2500 [==============================] - ETA: 0s - loss: 0.3651 - accuracy: 0.84 - ETA: 2s - loss: 0.4994 - accuracy: 0.84 - ETA: 2s - loss: 0.5185 - accuracy: 0.84 - ETA: 2s - loss: 0.5362 - accuracy: 0.83 - ETA: 2s - loss: 0.5372 - accuracy: 0.83 - ETA: 2s - loss: 0.5447 - accuracy: 0.83 - ETA: 1s - loss: 0.5444 - accuracy: 0.83 - ETA: 1s - loss: 0.5563 - accuracy: 0.83 - ETA: 1s - loss: 0.5592 - accuracy: 0.83 - ETA: 1s - loss: 0.5554 - accuracy: 0.83 - ETA: 1s - loss: 0.5571 - accuracy: 0.83 - ETA: 1s - loss: 0.5597 - accuracy: 0.83 - ETA: 1s - loss: 0.5605 - accuracy: 0.83 - ETA: 1s - loss: 0.5628 - accuracy: 0.83 - ETA: 1s - loss: 0.5604 - accuracy: 0.83 - ETA: 1s - loss: 0.5600 - accuracy: 0.83 - ETA: 1s - loss: 0.5584 - accuracy: 0.83 - ETA: 1s - loss: 0.5572 - accuracy: 0.83 - ETA: 1s - loss: 0.5596 - accuracy: 0.83 - ETA: 1s - loss: 0.5599 - accuracy: 0.83 - ETA: 1s - loss: 0.5573 - accuracy: 0.83 - ETA: 1s - loss: 0.5556 - accuracy: 0.83 - ETA: 1s - loss: 0.5543 - accuracy: 0.83 - ETA: 1s - loss: 0.5526 - accuracy: 0.83 - ETA: 1s - loss: 0.5530 - accuracy: 0.83 - ETA: 1s - loss: 0.5545 - accuracy: 0.83 - ETA: 1s - loss: 0.5533 - accuracy: 0.83 - ETA: 0s - loss: 0.5530 - accuracy: 0.83 - ETA: 0s - loss: 0.5513 - accuracy: 0.83 - ETA: 0s - loss: 0.5501 - accuracy: 0.83 - ETA: 0s - loss: 0.5512 - accuracy: 0.83 - ETA: 0s - loss: 0.5500 - accuracy: 0.83 - ETA: 0s - loss: 0.5498 - accuracy: 0.83 - ETA: 0s - loss: 0.5489 - accuracy: 0.83 - ETA: 0s - loss: 0.5483 - accuracy: 0.83 - ETA: 0s - loss: 0.5483 - accuracy: 0.83 - ETA: 0s - loss: 0.5486 - accuracy: 0.83 - ETA: 0s - loss: 0.5490 - accuracy: 0.83 - ETA: 0s - loss: 0.5497 - accuracy: 0.83 - ETA: 0s - loss: 0.5515 - accuracy: 0.83 - ETA: 0s - loss: 0.5518 - accuracy: 0.83 - ETA: 0s - loss: 0.5511 - accuracy: 0.83 - ETA: 0s - loss: 0.5517 - accuracy: 0.83 - ETA: 0s - loss: 0.5508 - accuracy: 0.83 - ETA: 0s - loss: 0.5509 - accuracy: 0.83 - ETA: 0s - loss: 0.5513 - accuracy: 0.83 - 2s 986us/step - loss: 0.5509 - accuracy: 0.8349 - val_loss: 0.6383 - val_accuracy: 0.8088\n",
      "Epoch 31/32\n",
      "2500/2500 [==============================] - ETA: 0s - loss: 1.0709 - accuracy: 0.68 - ETA: 2s - loss: 0.5588 - accuracy: 0.83 - ETA: 2s - loss: 0.5609 - accuracy: 0.83 - ETA: 2s - loss: 0.5601 - accuracy: 0.83 - ETA: 2s - loss: 0.5604 - accuracy: 0.83 - ETA: 2s - loss: 0.5528 - accuracy: 0.83 - ETA: 1s - loss: 0.5487 - accuracy: 0.83 - ETA: 1s - loss: 0.5485 - accuracy: 0.83 - ETA: 1s - loss: 0.5421 - accuracy: 0.83 - ETA: 1s - loss: 0.5455 - accuracy: 0.83 - ETA: 1s - loss: 0.5434 - accuracy: 0.83 - ETA: 1s - loss: 0.5427 - accuracy: 0.83 - ETA: 1s - loss: 0.5423 - accuracy: 0.83 - ETA: 1s - loss: 0.5441 - accuracy: 0.83 - ETA: 1s - loss: 0.5435 - accuracy: 0.83 - ETA: 1s - loss: 0.5438 - accuracy: 0.83 - ETA: 1s - loss: 0.5440 - accuracy: 0.83 - ETA: 1s - loss: 0.5437 - accuracy: 0.83 - ETA: 1s - loss: 0.5428 - accuracy: 0.83 - ETA: 1s - loss: 0.5418 - accuracy: 0.83 - ETA: 1s - loss: 0.5424 - accuracy: 0.83 - ETA: 1s - loss: 0.5425 - accuracy: 0.83 - ETA: 1s - loss: 0.5413 - accuracy: 0.83 - ETA: 1s - loss: 0.5423 - accuracy: 0.83 - ETA: 1s - loss: 0.5415 - accuracy: 0.83 - ETA: 1s - loss: 0.5410 - accuracy: 0.83 - ETA: 0s - loss: 0.5420 - accuracy: 0.83 - ETA: 0s - loss: 0.5435 - accuracy: 0.83 - ETA: 0s - loss: 0.5435 - accuracy: 0.83 - ETA: 0s - loss: 0.5440 - accuracy: 0.83 - ETA: 0s - loss: 0.5441 - accuracy: 0.83 - ETA: 0s - loss: 0.5430 - accuracy: 0.83 - ETA: 0s - loss: 0.5430 - accuracy: 0.83 - ETA: 0s - loss: 0.5436 - accuracy: 0.83 - ETA: 0s - loss: 0.5442 - accuracy: 0.83 - ETA: 0s - loss: 0.5451 - accuracy: 0.83 - ETA: 0s - loss: 0.5452 - accuracy: 0.83 - ETA: 0s - loss: 0.5462 - accuracy: 0.83 - ETA: 0s - loss: 0.5467 - accuracy: 0.83 - ETA: 0s - loss: 0.5466 - accuracy: 0.83 - ETA: 0s - loss: 0.5474 - accuracy: 0.83 - ETA: 0s - loss: 0.5480 - accuracy: 0.83 - ETA: 0s - loss: 0.5468 - accuracy: 0.83 - ETA: 0s - loss: 0.5462 - accuracy: 0.83 - ETA: 0s - loss: 0.5457 - accuracy: 0.83 - ETA: 0s - loss: 0.5465 - accuracy: 0.83 - 2s 995us/step - loss: 0.5471 - accuracy: 0.8361 - val_loss: 0.6300 - val_accuracy: 0.8122\n",
      "Epoch 32/32\n",
      "2500/2500 [==============================] - ETA: 0s - loss: 0.4814 - accuracy: 0.81 - ETA: 2s - loss: 0.4783 - accuracy: 0.85 - ETA: 2s - loss: 0.5151 - accuracy: 0.84 - ETA: 2s - loss: 0.5256 - accuracy: 0.84 - ETA: 2s - loss: 0.5413 - accuracy: 0.83 - ETA: 2s - loss: 0.5386 - accuracy: 0.84 - ETA: 1s - loss: 0.5407 - accuracy: 0.84 - ETA: 1s - loss: 0.5429 - accuracy: 0.83 - ETA: 1s - loss: 0.5431 - accuracy: 0.84 - ETA: 1s - loss: 0.5389 - accuracy: 0.84 - ETA: 1s - loss: 0.5389 - accuracy: 0.84 - ETA: 1s - loss: 0.5377 - accuracy: 0.84 - ETA: 1s - loss: 0.5410 - accuracy: 0.83 - ETA: 1s - loss: 0.5409 - accuracy: 0.83 - ETA: 1s - loss: 0.5412 - accuracy: 0.83 - ETA: 1s - loss: 0.5425 - accuracy: 0.83 - ETA: 1s - loss: 0.5402 - accuracy: 0.83 - ETA: 1s - loss: 0.5399 - accuracy: 0.83 - ETA: 1s - loss: 0.5398 - accuracy: 0.83 - ETA: 1s - loss: 0.5396 - accuracy: 0.83 - ETA: 1s - loss: 0.5415 - accuracy: 0.83 - ETA: 1s - loss: 0.5433 - accuracy: 0.83 - ETA: 1s - loss: 0.5446 - accuracy: 0.83 - ETA: 1s - loss: 0.5444 - accuracy: 0.83 - ETA: 1s - loss: 0.5457 - accuracy: 0.83 - ETA: 1s - loss: 0.5463 - accuracy: 0.83 - ETA: 0s - loss: 0.5446 - accuracy: 0.83 - ETA: 0s - loss: 0.5447 - accuracy: 0.83 - ETA: 0s - loss: 0.5440 - accuracy: 0.83 - ETA: 0s - loss: 0.5443 - accuracy: 0.83 - ETA: 0s - loss: 0.5437 - accuracy: 0.83 - ETA: 0s - loss: 0.5431 - accuracy: 0.83 - ETA: 0s - loss: 0.5425 - accuracy: 0.83 - ETA: 0s - loss: 0.5419 - accuracy: 0.83 - ETA: 0s - loss: 0.5418 - accuracy: 0.83 - ETA: 0s - loss: 0.5414 - accuracy: 0.83 - ETA: 0s - loss: 0.5413 - accuracy: 0.83 - ETA: 0s - loss: 0.5407 - accuracy: 0.83 - ETA: 0s - loss: 0.5409 - accuracy: 0.83 - ETA: 0s - loss: 0.5413 - accuracy: 0.83 - ETA: 0s - loss: 0.5417 - accuracy: 0.83 - ETA: 0s - loss: 0.5422 - accuracy: 0.83 - ETA: 0s - loss: 0.5416 - accuracy: 0.83 - ETA: 0s - loss: 0.5420 - accuracy: 0.83 - ETA: 0s - loss: 0.5421 - accuracy: 0.83 - ETA: 0s - loss: 0.5421 - accuracy: 0.83 - 2s 986us/step - loss: 0.5427 - accuracy: 0.8362 - val_loss: 0.6314 - val_accuracy: 0.8109\n",
      "Epoch 1/32\n",
      "2500/2500 [==============================] - ETA: 0s - loss: 3.7302 - accuracy: 0.0000e+ - ETA: 2s - loss: 2.9859 - accuracy: 0.1651   - ETA: 2s - loss: 2.7175 - accuracy: 0.20 - ETA: 2s - loss: 2.5593 - accuracy: 0.21 - ETA: 2s - loss: 2.4592 - accuracy: 0.24 - ETA: 1s - loss: 2.3837 - accuracy: 0.26 - ETA: 1s - loss: 2.3169 - accuracy: 0.28 - ETA: 1s - loss: 2.2621 - accuracy: 0.29 - ETA: 1s - loss: 2.2056 - accuracy: 0.31 - ETA: 1s - loss: 2.1514 - accuracy: 0.33 - ETA: 1s - loss: 2.0999 - accuracy: 0.34 - ETA: 1s - loss: 2.0562 - accuracy: 0.35 - ETA: 1s - loss: 2.0201 - accuracy: 0.37 - ETA: 1s - loss: 1.9846 - accuracy: 0.38 - ETA: 1s - loss: 1.9468 - accuracy: 0.39 - ETA: 1s - loss: 1.9108 - accuracy: 0.40 - ETA: 1s - loss: 1.8793 - accuracy: 0.41 - ETA: 1s - loss: 1.8517 - accuracy: 0.41 - ETA: 1s - loss: 1.8247 - accuracy: 0.42 - ETA: 1s - loss: 1.7989 - accuracy: 0.43 - ETA: 1s - loss: 1.7751 - accuracy: 0.44 - ETA: 1s - loss: 1.7515 - accuracy: 0.44 - ETA: 1s - loss: 1.7312 - accuracy: 0.45 - ETA: 1s - loss: 1.7127 - accuracy: 0.45 - ETA: 1s - loss: 1.6943 - accuracy: 0.46 - ETA: 0s - loss: 1.6767 - accuracy: 0.47 - ETA: 0s - loss: 1.6603 - accuracy: 0.47 - ETA: 0s - loss: 1.6455 - accuracy: 0.48 - ETA: 0s - loss: 1.6297 - accuracy: 0.48 - ETA: 0s - loss: 1.6135 - accuracy: 0.49 - ETA: 0s - loss: 1.5984 - accuracy: 0.49 - ETA: 0s - loss: 1.5844 - accuracy: 0.49 - ETA: 0s - loss: 1.5721 - accuracy: 0.50 - ETA: 0s - loss: 1.5590 - accuracy: 0.50 - ETA: 0s - loss: 1.5484 - accuracy: 0.51 - ETA: 0s - loss: 1.5384 - accuracy: 0.51 - ETA: 0s - loss: 1.5273 - accuracy: 0.51 - ETA: 0s - loss: 1.5171 - accuracy: 0.51 - ETA: 0s - loss: 1.5069 - accuracy: 0.52 - ETA: 0s - loss: 1.4977 - accuracy: 0.52 - ETA: 0s - loss: 1.4886 - accuracy: 0.52 - ETA: 0s - loss: 1.4799 - accuracy: 0.53 - ETA: 0s - loss: 1.4705 - accuracy: 0.53 - ETA: 0s - loss: 1.4609 - accuracy: 0.53 - ETA: 0s - loss: 1.4520 - accuracy: 0.53 - ETA: 0s - loss: 1.4426 - accuracy: 0.54 - 3s 1ms/step - loss: 1.4423 - accuracy: 0.5424 - val_loss: 1.0789 - val_accuracy: 0.6568\n",
      "Epoch 2/32\n",
      "2500/2500 [==============================] - ETA: 0s - loss: 1.0424 - accuracy: 0.68 - ETA: 2s - loss: 1.0652 - accuracy: 0.67 - ETA: 2s - loss: 1.0726 - accuracy: 0.66 - ETA: 2s - loss: 1.0798 - accuracy: 0.66 - ETA: 2s - loss: 1.0701 - accuracy: 0.66 - ETA: 2s - loss: 1.0689 - accuracy: 0.66 - ETA: 1s - loss: 1.0673 - accuracy: 0.66 - ETA: 1s - loss: 1.0615 - accuracy: 0.66 - ETA: 1s - loss: 1.0586 - accuracy: 0.66 - ETA: 1s - loss: 1.0600 - accuracy: 0.66 - ETA: 1s - loss: 1.0603 - accuracy: 0.66 - ETA: 1s - loss: 1.0579 - accuracy: 0.66 - ETA: 1s - loss: 1.0545 - accuracy: 0.66 - ETA: 1s - loss: 1.0536 - accuracy: 0.66 - ETA: 1s - loss: 1.0484 - accuracy: 0.67 - ETA: 1s - loss: 1.0475 - accuracy: 0.67 - ETA: 1s - loss: 1.0464 - accuracy: 0.67 - ETA: 1s - loss: 1.0426 - accuracy: 0.67 - ETA: 1s - loss: 1.0396 - accuracy: 0.67 - ETA: 1s - loss: 1.0358 - accuracy: 0.67 - ETA: 1s - loss: 1.0346 - accuracy: 0.67 - ETA: 1s - loss: 1.0335 - accuracy: 0.67 - ETA: 1s - loss: 1.0316 - accuracy: 0.67 - ETA: 1s - loss: 1.0293 - accuracy: 0.67 - ETA: 1s - loss: 1.0270 - accuracy: 0.67 - ETA: 1s - loss: 1.0236 - accuracy: 0.67 - ETA: 0s - loss: 1.0211 - accuracy: 0.68 - ETA: 0s - loss: 1.0195 - accuracy: 0.68 - ETA: 0s - loss: 1.0191 - accuracy: 0.68 - ETA: 0s - loss: 1.0182 - accuracy: 0.68 - ETA: 0s - loss: 1.0155 - accuracy: 0.68 - ETA: 0s - loss: 1.0139 - accuracy: 0.68 - ETA: 0s - loss: 1.0133 - accuracy: 0.68 - ETA: 0s - loss: 1.0104 - accuracy: 0.68 - ETA: 0s - loss: 1.0089 - accuracy: 0.68 - ETA: 0s - loss: 1.0079 - accuracy: 0.68 - ETA: 0s - loss: 1.0057 - accuracy: 0.68 - ETA: 0s - loss: 1.0029 - accuracy: 0.68 - ETA: 0s - loss: 1.0017 - accuracy: 0.68 - ETA: 0s - loss: 0.9995 - accuracy: 0.68 - ETA: 0s - loss: 0.9972 - accuracy: 0.68 - ETA: 0s - loss: 0.9957 - accuracy: 0.68 - ETA: 0s - loss: 0.9945 - accuracy: 0.68 - ETA: 0s - loss: 0.9923 - accuracy: 0.68 - ETA: 0s - loss: 0.9911 - accuracy: 0.68 - ETA: 0s - loss: 0.9900 - accuracy: 0.68 - 2s 974us/step - loss: 0.9894 - accuracy: 0.6898 - val_loss: 0.9276 - val_accuracy: 0.7134\n",
      "Epoch 3/32\n",
      "2500/2500 [==============================] - ETA: 2s - loss: 0.7807 - accuracy: 0.78 - ETA: 2s - loss: 0.9103 - accuracy: 0.71 - ETA: 2s - loss: 0.9194 - accuracy: 0.71 - ETA: 2s - loss: 0.9056 - accuracy: 0.71 - ETA: 2s - loss: 0.8987 - accuracy: 0.72 - ETA: 1s - loss: 0.9009 - accuracy: 0.72 - ETA: 1s - loss: 0.9063 - accuracy: 0.71 - ETA: 1s - loss: 0.9081 - accuracy: 0.71 - ETA: 1s - loss: 0.9078 - accuracy: 0.71 - ETA: 1s - loss: 0.9072 - accuracy: 0.71 - ETA: 1s - loss: 0.9058 - accuracy: 0.71 - ETA: 1s - loss: 0.9087 - accuracy: 0.71 - ETA: 1s - loss: 0.9061 - accuracy: 0.71 - ETA: 1s - loss: 0.9019 - accuracy: 0.72 - ETA: 1s - loss: 0.9046 - accuracy: 0.72 - ETA: 1s - loss: 0.9026 - accuracy: 0.72 - ETA: 1s - loss: 0.8997 - accuracy: 0.72 - ETA: 1s - loss: 0.9020 - accuracy: 0.72 - ETA: 1s - loss: 0.9029 - accuracy: 0.72 - ETA: 1s - loss: 0.9014 - accuracy: 0.72 - ETA: 1s - loss: 0.9000 - accuracy: 0.72 - ETA: 1s - loss: 0.8989 - accuracy: 0.72 - ETA: 1s - loss: 0.8971 - accuracy: 0.72 - ETA: 1s - loss: 0.8965 - accuracy: 0.72 - ETA: 1s - loss: 0.8964 - accuracy: 0.72 - ETA: 1s - loss: 0.8953 - accuracy: 0.72 - ETA: 0s - loss: 0.8941 - accuracy: 0.72 - ETA: 0s - loss: 0.8921 - accuracy: 0.72 - ETA: 0s - loss: 0.8911 - accuracy: 0.72 - ETA: 0s - loss: 0.8917 - accuracy: 0.72 - ETA: 0s - loss: 0.8917 - accuracy: 0.72 - ETA: 0s - loss: 0.8906 - accuracy: 0.72 - ETA: 0s - loss: 0.8896 - accuracy: 0.72 - ETA: 0s - loss: 0.8892 - accuracy: 0.72 - ETA: 0s - loss: 0.8876 - accuracy: 0.72 - ETA: 0s - loss: 0.8869 - accuracy: 0.72 - ETA: 0s - loss: 0.8881 - accuracy: 0.72 - ETA: 0s - loss: 0.8885 - accuracy: 0.72 - ETA: 0s - loss: 0.8869 - accuracy: 0.72 - ETA: 0s - loss: 0.8863 - accuracy: 0.72 - ETA: 0s - loss: 0.8860 - accuracy: 0.72 - ETA: 0s - loss: 0.8840 - accuracy: 0.72 - ETA: 0s - loss: 0.8836 - accuracy: 0.72 - ETA: 0s - loss: 0.8832 - accuracy: 0.72 - ETA: 0s - loss: 0.8818 - accuracy: 0.72 - ETA: 0s - loss: 0.8805 - accuracy: 0.72 - 2s 975us/step - loss: 0.8801 - accuracy: 0.7277 - val_loss: 0.8599 - val_accuracy: 0.7354\n",
      "Epoch 4/32\n",
      "2500/2500 [==============================] - ETA: 0s - loss: 1.1009 - accuracy: 0.68 - ETA: 2s - loss: 0.7994 - accuracy: 0.75 - ETA: 2s - loss: 0.8131 - accuracy: 0.74 - ETA: 2s - loss: 0.8208 - accuracy: 0.74 - ETA: 2s - loss: 0.8202 - accuracy: 0.74 - ETA: 1s - loss: 0.8209 - accuracy: 0.74 - ETA: 1s - loss: 0.8193 - accuracy: 0.74 - ETA: 1s - loss: 0.8202 - accuracy: 0.74 - ETA: 1s - loss: 0.8250 - accuracy: 0.74 - ETA: 1s - loss: 0.8259 - accuracy: 0.74 - ETA: 1s - loss: 0.8222 - accuracy: 0.74 - ETA: 1s - loss: 0.8221 - accuracy: 0.74 - ETA: 1s - loss: 0.8234 - accuracy: 0.74 - ETA: 1s - loss: 0.8234 - accuracy: 0.74 - ETA: 1s - loss: 0.8257 - accuracy: 0.74 - ETA: 1s - loss: 0.8236 - accuracy: 0.74 - ETA: 1s - loss: 0.8242 - accuracy: 0.74 - ETA: 1s - loss: 0.8242 - accuracy: 0.74 - ETA: 1s - loss: 0.8251 - accuracy: 0.74 - ETA: 1s - loss: 0.8246 - accuracy: 0.74 - ETA: 1s - loss: 0.8250 - accuracy: 0.74 - ETA: 1s - loss: 0.8236 - accuracy: 0.74 - ETA: 1s - loss: 0.8224 - accuracy: 0.74 - ETA: 1s - loss: 0.8237 - accuracy: 0.74 - ETA: 1s - loss: 0.8241 - accuracy: 0.74 - ETA: 0s - loss: 0.8243 - accuracy: 0.74 - ETA: 0s - loss: 0.8241 - accuracy: 0.74 - ETA: 0s - loss: 0.8250 - accuracy: 0.74 - ETA: 0s - loss: 0.8248 - accuracy: 0.74 - ETA: 0s - loss: 0.8264 - accuracy: 0.74 - ETA: 0s - loss: 0.8255 - accuracy: 0.74 - ETA: 0s - loss: 0.8258 - accuracy: 0.74 - ETA: 0s - loss: 0.8271 - accuracy: 0.74 - ETA: 0s - loss: 0.8270 - accuracy: 0.74 - ETA: 0s - loss: 0.8262 - accuracy: 0.74 - ETA: 0s - loss: 0.8272 - accuracy: 0.74 - ETA: 0s - loss: 0.8278 - accuracy: 0.74 - ETA: 0s - loss: 0.8278 - accuracy: 0.74 - ETA: 0s - loss: 0.8275 - accuracy: 0.74 - ETA: 0s - loss: 0.8286 - accuracy: 0.74 - ETA: 0s - loss: 0.8289 - accuracy: 0.74 - ETA: 0s - loss: 0.8280 - accuracy: 0.74 - ETA: 0s - loss: 0.8283 - accuracy: 0.74 - ETA: 0s - loss: 0.8271 - accuracy: 0.74 - ETA: 0s - loss: 0.8260 - accuracy: 0.74 - ETA: 0s - loss: 0.8253 - accuracy: 0.74 - 2s 969us/step - loss: 0.8251 - accuracy: 0.7444 - val_loss: 0.8163 - val_accuracy: 0.7494\n",
      "Epoch 5/32\n",
      "2500/2500 [==============================] - ETA: 0s - loss: 0.6810 - accuracy: 0.71 - ETA: 2s - loss: 0.7994 - accuracy: 0.74 - ETA: 2s - loss: 0.8096 - accuracy: 0.74 - ETA: 2s - loss: 0.8059 - accuracy: 0.74 - ETA: 2s - loss: 0.8107 - accuracy: 0.74 - ETA: 2s - loss: 0.8094 - accuracy: 0.74 - ETA: 1s - loss: 0.8058 - accuracy: 0.75 - ETA: 1s - loss: 0.8113 - accuracy: 0.74 - ETA: 1s - loss: 0.8083 - accuracy: 0.75 - ETA: 1s - loss: 0.8067 - accuracy: 0.75 - ETA: 1s - loss: 0.8059 - accuracy: 0.75 - ETA: 1s - loss: 0.8043 - accuracy: 0.75 - ETA: 1s - loss: 0.8058 - accuracy: 0.75 - ETA: 1s - loss: 0.8066 - accuracy: 0.75 - ETA: 1s - loss: 0.8039 - accuracy: 0.75 - ETA: 1s - loss: 0.7996 - accuracy: 0.75 - ETA: 1s - loss: 0.7982 - accuracy: 0.75 - ETA: 1s - loss: 0.8014 - accuracy: 0.75 - ETA: 1s - loss: 0.7988 - accuracy: 0.75 - ETA: 1s - loss: 0.7986 - accuracy: 0.75 - ETA: 1s - loss: 0.7983 - accuracy: 0.75 - ETA: 1s - loss: 0.7984 - accuracy: 0.75 - ETA: 1s - loss: 0.7972 - accuracy: 0.75 - ETA: 1s - loss: 0.7943 - accuracy: 0.75 - ETA: 1s - loss: 0.7947 - accuracy: 0.75 - ETA: 0s - loss: 0.7945 - accuracy: 0.75 - ETA: 0s - loss: 0.7936 - accuracy: 0.75 - ETA: 0s - loss: 0.7923 - accuracy: 0.75 - ETA: 0s - loss: 0.7921 - accuracy: 0.75 - ETA: 0s - loss: 0.7927 - accuracy: 0.75 - ETA: 0s - loss: 0.7931 - accuracy: 0.75 - ETA: 0s - loss: 0.7942 - accuracy: 0.75 - ETA: 0s - loss: 0.7922 - accuracy: 0.75 - ETA: 0s - loss: 0.7915 - accuracy: 0.75 - ETA: 0s - loss: 0.7913 - accuracy: 0.75 - ETA: 0s - loss: 0.7905 - accuracy: 0.75 - ETA: 0s - loss: 0.7906 - accuracy: 0.75 - ETA: 0s - loss: 0.7907 - accuracy: 0.75 - ETA: 0s - loss: 0.7894 - accuracy: 0.75 - ETA: 0s - loss: 0.7882 - accuracy: 0.75 - ETA: 0s - loss: 0.7883 - accuracy: 0.75 - ETA: 0s - loss: 0.7887 - accuracy: 0.75 - ETA: 0s - loss: 0.7883 - accuracy: 0.75 - ETA: 0s - loss: 0.7872 - accuracy: 0.75 - ETA: 0s - loss: 0.7879 - accuracy: 0.75 - ETA: 0s - loss: 0.7876 - accuracy: 0.75 - 2s 967us/step - loss: 0.7875 - accuracy: 0.7587 - val_loss: 0.7868 - val_accuracy: 0.7583\n",
      "Epoch 6/32\n",
      "2500/2500 [==============================] - ETA: 0s - loss: 0.8220 - accuracy: 0.68 - ETA: 2s - loss: 0.8143 - accuracy: 0.75 - ETA: 2s - loss: 0.7968 - accuracy: 0.75 - ETA: 2s - loss: 0.7783 - accuracy: 0.75 - ETA: 2s - loss: 0.7727 - accuracy: 0.75 - ETA: 1s - loss: 0.7701 - accuracy: 0.75 - ETA: 1s - loss: 0.7681 - accuracy: 0.76 - ETA: 1s - loss: 0.7640 - accuracy: 0.76 - ETA: 1s - loss: 0.7625 - accuracy: 0.76 - ETA: 1s - loss: 0.7619 - accuracy: 0.76 - ETA: 1s - loss: 0.7620 - accuracy: 0.76 - ETA: 1s - loss: 0.7592 - accuracy: 0.76 - ETA: 1s - loss: 0.7602 - accuracy: 0.76 - ETA: 1s - loss: 0.7608 - accuracy: 0.76 - ETA: 1s - loss: 0.7587 - accuracy: 0.76 - ETA: 1s - loss: 0.7606 - accuracy: 0.76 - ETA: 1s - loss: 0.7575 - accuracy: 0.76 - ETA: 1s - loss: 0.7597 - accuracy: 0.76 - ETA: 1s - loss: 0.7582 - accuracy: 0.76 - ETA: 1s - loss: 0.7568 - accuracy: 0.76 - ETA: 1s - loss: 0.7554 - accuracy: 0.76 - ETA: 1s - loss: 0.7567 - accuracy: 0.76 - ETA: 1s - loss: 0.7559 - accuracy: 0.76 - ETA: 1s - loss: 0.7550 - accuracy: 0.76 - ETA: 1s - loss: 0.7560 - accuracy: 0.76 - ETA: 1s - loss: 0.7548 - accuracy: 0.76 - ETA: 0s - loss: 0.7556 - accuracy: 0.76 - ETA: 0s - loss: 0.7570 - accuracy: 0.76 - ETA: 0s - loss: 0.7539 - accuracy: 0.76 - ETA: 0s - loss: 0.7542 - accuracy: 0.76 - ETA: 0s - loss: 0.7535 - accuracy: 0.76 - ETA: 0s - loss: 0.7533 - accuracy: 0.76 - ETA: 0s - loss: 0.7524 - accuracy: 0.76 - ETA: 0s - loss: 0.7534 - accuracy: 0.76 - ETA: 0s - loss: 0.7533 - accuracy: 0.76 - ETA: 0s - loss: 0.7535 - accuracy: 0.76 - ETA: 0s - loss: 0.7550 - accuracy: 0.76 - ETA: 0s - loss: 0.7541 - accuracy: 0.76 - ETA: 0s - loss: 0.7536 - accuracy: 0.76 - ETA: 0s - loss: 0.7545 - accuracy: 0.76 - ETA: 0s - loss: 0.7551 - accuracy: 0.76 - ETA: 0s - loss: 0.7542 - accuracy: 0.76 - ETA: 0s - loss: 0.7552 - accuracy: 0.76 - ETA: 0s - loss: 0.7555 - accuracy: 0.76 - ETA: 0s - loss: 0.7561 - accuracy: 0.76 - ETA: 0s - loss: 0.7564 - accuracy: 0.76 - 2s 971us/step - loss: 0.7563 - accuracy: 0.7683 - val_loss: 0.7598 - val_accuracy: 0.7673\n",
      "Epoch 7/32\n",
      "2500/2500 [==============================] - ETA: 0s - loss: 1.0483 - accuracy: 0.75 - ETA: 2s - loss: 0.7346 - accuracy: 0.78 - ETA: 2s - loss: 0.7589 - accuracy: 0.77 - ETA: 2s - loss: 0.7509 - accuracy: 0.77 - ETA: 2s - loss: 0.7607 - accuracy: 0.77 - ETA: 2s - loss: 0.7578 - accuracy: 0.77 - ETA: 1s - loss: 0.7508 - accuracy: 0.77 - ETA: 1s - loss: 0.7541 - accuracy: 0.77 - ETA: 1s - loss: 0.7472 - accuracy: 0.77 - ETA: 1s - loss: 0.7428 - accuracy: 0.77 - ETA: 1s - loss: 0.7470 - accuracy: 0.77 - ETA: 1s - loss: 0.7460 - accuracy: 0.77 - ETA: 1s - loss: 0.7458 - accuracy: 0.77 - ETA: 1s - loss: 0.7443 - accuracy: 0.77 - ETA: 1s - loss: 0.7415 - accuracy: 0.77 - ETA: 1s - loss: 0.7401 - accuracy: 0.77 - ETA: 1s - loss: 0.7393 - accuracy: 0.77 - ETA: 1s - loss: 0.7351 - accuracy: 0.77 - ETA: 1s - loss: 0.7324 - accuracy: 0.77 - ETA: 1s - loss: 0.7331 - accuracy: 0.77 - ETA: 1s - loss: 0.7346 - accuracy: 0.77 - ETA: 1s - loss: 0.7340 - accuracy: 0.77 - ETA: 1s - loss: 0.7347 - accuracy: 0.77 - ETA: 1s - loss: 0.7352 - accuracy: 0.77 - ETA: 1s - loss: 0.7334 - accuracy: 0.77 - ETA: 1s - loss: 0.7333 - accuracy: 0.77 - ETA: 0s - loss: 0.7333 - accuracy: 0.77 - ETA: 0s - loss: 0.7342 - accuracy: 0.77 - ETA: 0s - loss: 0.7333 - accuracy: 0.77 - ETA: 0s - loss: 0.7336 - accuracy: 0.77 - ETA: 0s - loss: 0.7330 - accuracy: 0.77 - ETA: 0s - loss: 0.7331 - accuracy: 0.77 - ETA: 0s - loss: 0.7328 - accuracy: 0.77 - ETA: 0s - loss: 0.7340 - accuracy: 0.77 - ETA: 0s - loss: 0.7348 - accuracy: 0.77 - ETA: 0s - loss: 0.7335 - accuracy: 0.77 - ETA: 0s - loss: 0.7323 - accuracy: 0.77 - ETA: 0s - loss: 0.7328 - accuracy: 0.77 - ETA: 0s - loss: 0.7321 - accuracy: 0.77 - ETA: 0s - loss: 0.7323 - accuracy: 0.77 - ETA: 0s - loss: 0.7323 - accuracy: 0.77 - ETA: 0s - loss: 0.7318 - accuracy: 0.77 - ETA: 0s - loss: 0.7316 - accuracy: 0.77 - ETA: 0s - loss: 0.7314 - accuracy: 0.77 - ETA: 0s - loss: 0.7317 - accuracy: 0.77 - ETA: 0s - loss: 0.7320 - accuracy: 0.77 - 2s 971us/step - loss: 0.7322 - accuracy: 0.7779 - val_loss: 0.7457 - val_accuracy: 0.7687\n",
      "Epoch 8/32\n",
      "2500/2500 [==============================] - ETA: 0s - loss: 0.8894 - accuracy: 0.71 - ETA: 2s - loss: 0.6832 - accuracy: 0.79 - ETA: 2s - loss: 0.6804 - accuracy: 0.80 - ETA: 2s - loss: 0.6871 - accuracy: 0.79 - ETA: 2s - loss: 0.6894 - accuracy: 0.79 - ETA: 1s - loss: 0.6976 - accuracy: 0.79 - ETA: 1s - loss: 0.6964 - accuracy: 0.79 - ETA: 1s - loss: 0.7033 - accuracy: 0.79 - ETA: 1s - loss: 0.7076 - accuracy: 0.78 - ETA: 1s - loss: 0.7140 - accuracy: 0.78 - ETA: 1s - loss: 0.7136 - accuracy: 0.78 - ETA: 1s - loss: 0.7107 - accuracy: 0.78 - ETA: 1s - loss: 0.7093 - accuracy: 0.78 - ETA: 1s - loss: 0.7091 - accuracy: 0.78 - ETA: 1s - loss: 0.7082 - accuracy: 0.78 - ETA: 1s - loss: 0.7073 - accuracy: 0.78 - ETA: 1s - loss: 0.7129 - accuracy: 0.78 - ETA: 1s - loss: 0.7118 - accuracy: 0.78 - ETA: 1s - loss: 0.7112 - accuracy: 0.78 - ETA: 1s - loss: 0.7102 - accuracy: 0.78 - ETA: 1s - loss: 0.7119 - accuracy: 0.78 - ETA: 1s - loss: 0.7112 - accuracy: 0.78 - ETA: 1s - loss: 0.7123 - accuracy: 0.78 - ETA: 1s - loss: 0.7133 - accuracy: 0.78 - ETA: 1s - loss: 0.7139 - accuracy: 0.78 - ETA: 0s - loss: 0.7145 - accuracy: 0.78 - ETA: 0s - loss: 0.7140 - accuracy: 0.78 - ETA: 0s - loss: 0.7153 - accuracy: 0.78 - ETA: 0s - loss: 0.7154 - accuracy: 0.78 - ETA: 0s - loss: 0.7167 - accuracy: 0.78 - ETA: 0s - loss: 0.7160 - accuracy: 0.78 - ETA: 0s - loss: 0.7163 - accuracy: 0.78 - ETA: 0s - loss: 0.7176 - accuracy: 0.78 - ETA: 0s - loss: 0.7185 - accuracy: 0.78 - ETA: 0s - loss: 0.7197 - accuracy: 0.78 - ETA: 0s - loss: 0.7187 - accuracy: 0.78 - ETA: 0s - loss: 0.7176 - accuracy: 0.78 - ETA: 0s - loss: 0.7167 - accuracy: 0.78 - ETA: 0s - loss: 0.7165 - accuracy: 0.78 - ETA: 0s - loss: 0.7161 - accuracy: 0.78 - ETA: 0s - loss: 0.7162 - accuracy: 0.78 - ETA: 0s - loss: 0.7161 - accuracy: 0.78 - ETA: 0s - loss: 0.7164 - accuracy: 0.78 - ETA: 0s - loss: 0.7157 - accuracy: 0.78 - ETA: 0s - loss: 0.7145 - accuracy: 0.78 - 2s 964us/step - loss: 0.7149 - accuracy: 0.7824 - val_loss: 0.7325 - val_accuracy: 0.7741\n",
      "Epoch 9/32\n",
      "2500/2500 [==============================] - ETA: 0s - loss: 1.1019 - accuracy: 0.68 - ETA: 2s - loss: 0.6895 - accuracy: 0.79 - ETA: 2s - loss: 0.6801 - accuracy: 0.79 - ETA: 2s - loss: 0.6915 - accuracy: 0.79 - ETA: 2s - loss: 0.6957 - accuracy: 0.78 - ETA: 2s - loss: 0.6869 - accuracy: 0.79 - ETA: 1s - loss: 0.6923 - accuracy: 0.78 - ETA: 1s - loss: 0.6985 - accuracy: 0.78 - ETA: 1s - loss: 0.7000 - accuracy: 0.78 - ETA: 1s - loss: 0.6986 - accuracy: 0.78 - ETA: 1s - loss: 0.6965 - accuracy: 0.78 - ETA: 1s - loss: 0.6972 - accuracy: 0.78 - ETA: 1s - loss: 0.6955 - accuracy: 0.78 - ETA: 1s - loss: 0.6907 - accuracy: 0.78 - ETA: 1s - loss: 0.6918 - accuracy: 0.78 - ETA: 1s - loss: 0.6908 - accuracy: 0.78 - ETA: 1s - loss: 0.6930 - accuracy: 0.78 - ETA: 1s - loss: 0.6933 - accuracy: 0.78 - ETA: 1s - loss: 0.6957 - accuracy: 0.78 - ETA: 1s - loss: 0.6957 - accuracy: 0.78 - ETA: 1s - loss: 0.6975 - accuracy: 0.78 - ETA: 1s - loss: 0.6980 - accuracy: 0.78 - ETA: 1s - loss: 0.6979 - accuracy: 0.78 - ETA: 1s - loss: 0.6983 - accuracy: 0.78 - ETA: 1s - loss: 0.6989 - accuracy: 0.78 - ETA: 1s - loss: 0.6976 - accuracy: 0.78 - ETA: 0s - loss: 0.6967 - accuracy: 0.78 - ETA: 0s - loss: 0.6974 - accuracy: 0.78 - ETA: 0s - loss: 0.6952 - accuracy: 0.78 - ETA: 0s - loss: 0.6948 - accuracy: 0.78 - ETA: 0s - loss: 0.6953 - accuracy: 0.78 - ETA: 0s - loss: 0.6956 - accuracy: 0.78 - ETA: 0s - loss: 0.6960 - accuracy: 0.78 - ETA: 0s - loss: 0.6966 - accuracy: 0.78 - ETA: 0s - loss: 0.6966 - accuracy: 0.78 - ETA: 0s - loss: 0.6970 - accuracy: 0.78 - ETA: 0s - loss: 0.6956 - accuracy: 0.78 - ETA: 0s - loss: 0.6947 - accuracy: 0.78 - ETA: 0s - loss: 0.6943 - accuracy: 0.78 - ETA: 0s - loss: 0.6933 - accuracy: 0.78 - ETA: 0s - loss: 0.6942 - accuracy: 0.78 - ETA: 0s - loss: 0.6948 - accuracy: 0.78 - ETA: 0s - loss: 0.6947 - accuracy: 0.78 - ETA: 0s - loss: 0.6954 - accuracy: 0.78 - ETA: 0s - loss: 0.6966 - accuracy: 0.78 - ETA: 0s - loss: 0.6965 - accuracy: 0.78 - 2s 978us/step - loss: 0.6967 - accuracy: 0.7886 - val_loss: 0.7171 - val_accuracy: 0.7797\n",
      "Epoch 10/32\n",
      "2500/2500 [==============================] - ETA: 0s - loss: 0.6498 - accuracy: 0.81 - ETA: 2s - loss: 0.6769 - accuracy: 0.78 - ETA: 2s - loss: 0.6818 - accuracy: 0.78 - ETA: 2s - loss: 0.6778 - accuracy: 0.79 - ETA: 2s - loss: 0.6743 - accuracy: 0.79 - ETA: 1s - loss: 0.6836 - accuracy: 0.79 - ETA: 1s - loss: 0.6864 - accuracy: 0.79 - ETA: 1s - loss: 0.6855 - accuracy: 0.79 - ETA: 1s - loss: 0.6847 - accuracy: 0.79 - ETA: 1s - loss: 0.6842 - accuracy: 0.79 - ETA: 1s - loss: 0.6840 - accuracy: 0.79 - ETA: 1s - loss: 0.6783 - accuracy: 0.79 - ETA: 1s - loss: 0.6797 - accuracy: 0.79 - ETA: 1s - loss: 0.6780 - accuracy: 0.79 - ETA: 1s - loss: 0.6778 - accuracy: 0.79 - ETA: 1s - loss: 0.6777 - accuracy: 0.79 - ETA: 1s - loss: 0.6780 - accuracy: 0.79 - ETA: 1s - loss: 0.6800 - accuracy: 0.79 - ETA: 1s - loss: 0.6815 - accuracy: 0.79 - ETA: 1s - loss: 0.6818 - accuracy: 0.79 - ETA: 1s - loss: 0.6827 - accuracy: 0.79 - ETA: 1s - loss: 0.6837 - accuracy: 0.79 - ETA: 1s - loss: 0.6834 - accuracy: 0.79 - ETA: 1s - loss: 0.6823 - accuracy: 0.79 - ETA: 1s - loss: 0.6825 - accuracy: 0.79 - ETA: 0s - loss: 0.6830 - accuracy: 0.79 - ETA: 0s - loss: 0.6831 - accuracy: 0.79 - ETA: 0s - loss: 0.6844 - accuracy: 0.79 - ETA: 0s - loss: 0.6856 - accuracy: 0.79 - ETA: 0s - loss: 0.6866 - accuracy: 0.79 - ETA: 0s - loss: 0.6875 - accuracy: 0.79 - ETA: 0s - loss: 0.6875 - accuracy: 0.79 - ETA: 0s - loss: 0.6876 - accuracy: 0.79 - ETA: 0s - loss: 0.6881 - accuracy: 0.79 - ETA: 0s - loss: 0.6880 - accuracy: 0.79 - ETA: 0s - loss: 0.6879 - accuracy: 0.79 - ETA: 0s - loss: 0.6895 - accuracy: 0.79 - ETA: 0s - loss: 0.6883 - accuracy: 0.79 - ETA: 0s - loss: 0.6887 - accuracy: 0.79 - ETA: 0s - loss: 0.6881 - accuracy: 0.79 - ETA: 0s - loss: 0.6884 - accuracy: 0.79 - ETA: 0s - loss: 0.6871 - accuracy: 0.79 - ETA: 0s - loss: 0.6872 - accuracy: 0.79 - ETA: 0s - loss: 0.6875 - accuracy: 0.79 - ETA: 0s - loss: 0.6862 - accuracy: 0.79 - ETA: 0s - loss: 0.6845 - accuracy: 0.79 - 2s 969us/step - loss: 0.6845 - accuracy: 0.7927 - val_loss: 0.7046 - val_accuracy: 0.7852\n",
      "Epoch 11/32\n",
      "2500/2500 [==============================] - ETA: 0s - loss: 0.6624 - accuracy: 0.78 - ETA: 2s - loss: 0.6416 - accuracy: 0.81 - ETA: 2s - loss: 0.6704 - accuracy: 0.79 - ETA: 2s - loss: 0.6634 - accuracy: 0.80 - ETA: 2s - loss: 0.6484 - accuracy: 0.80 - ETA: 1s - loss: 0.6604 - accuracy: 0.80 - ETA: 1s - loss: 0.6683 - accuracy: 0.80 - ETA: 1s - loss: 0.6678 - accuracy: 0.79 - ETA: 1s - loss: 0.6710 - accuracy: 0.79 - ETA: 1s - loss: 0.6702 - accuracy: 0.79 - ETA: 1s - loss: 0.6714 - accuracy: 0.79 - ETA: 1s - loss: 0.6729 - accuracy: 0.79 - ETA: 1s - loss: 0.6717 - accuracy: 0.79 - ETA: 1s - loss: 0.6692 - accuracy: 0.79 - ETA: 1s - loss: 0.6670 - accuracy: 0.79 - ETA: 1s - loss: 0.6679 - accuracy: 0.79 - ETA: 1s - loss: 0.6674 - accuracy: 0.79 - ETA: 1s - loss: 0.6670 - accuracy: 0.79 - ETA: 1s - loss: 0.6671 - accuracy: 0.79 - ETA: 1s - loss: 0.6671 - accuracy: 0.79 - ETA: 1s - loss: 0.6684 - accuracy: 0.79 - ETA: 1s - loss: 0.6701 - accuracy: 0.79 - ETA: 1s - loss: 0.6705 - accuracy: 0.79 - ETA: 1s - loss: 0.6724 - accuracy: 0.79 - ETA: 1s - loss: 0.6713 - accuracy: 0.79 - ETA: 0s - loss: 0.6710 - accuracy: 0.79 - ETA: 0s - loss: 0.6724 - accuracy: 0.79 - ETA: 0s - loss: 0.6730 - accuracy: 0.79 - ETA: 0s - loss: 0.6716 - accuracy: 0.79 - ETA: 0s - loss: 0.6710 - accuracy: 0.79 - ETA: 0s - loss: 0.6700 - accuracy: 0.79 - ETA: 0s - loss: 0.6696 - accuracy: 0.79 - ETA: 0s - loss: 0.6692 - accuracy: 0.79 - ETA: 0s - loss: 0.6696 - accuracy: 0.79 - ETA: 0s - loss: 0.6698 - accuracy: 0.79 - ETA: 0s - loss: 0.6716 - accuracy: 0.79 - ETA: 0s - loss: 0.6702 - accuracy: 0.79 - ETA: 0s - loss: 0.6710 - accuracy: 0.79 - ETA: 0s - loss: 0.6702 - accuracy: 0.79 - ETA: 0s - loss: 0.6695 - accuracy: 0.79 - ETA: 0s - loss: 0.6689 - accuracy: 0.79 - ETA: 0s - loss: 0.6687 - accuracy: 0.79 - ETA: 0s - loss: 0.6690 - accuracy: 0.79 - ETA: 0s - loss: 0.6691 - accuracy: 0.79 - ETA: 0s - loss: 0.6695 - accuracy: 0.79 - ETA: 0s - loss: 0.6705 - accuracy: 0.79 - 2s 970us/step - loss: 0.6703 - accuracy: 0.7983 - val_loss: 0.6985 - val_accuracy: 0.7878\n",
      "Epoch 12/32\n",
      "2500/2500 [==============================] - ETA: 0s - loss: 0.6865 - accuracy: 0.75 - ETA: 2s - loss: 0.6438 - accuracy: 0.80 - ETA: 2s - loss: 0.6515 - accuracy: 0.80 - ETA: 2s - loss: 0.6568 - accuracy: 0.80 - ETA: 2s - loss: 0.6574 - accuracy: 0.80 - ETA: 1s - loss: 0.6678 - accuracy: 0.80 - ETA: 1s - loss: 0.6661 - accuracy: 0.80 - ETA: 1s - loss: 0.6635 - accuracy: 0.80 - ETA: 1s - loss: 0.6685 - accuracy: 0.80 - ETA: 1s - loss: 0.6680 - accuracy: 0.80 - ETA: 1s - loss: 0.6669 - accuracy: 0.80 - ETA: 1s - loss: 0.6671 - accuracy: 0.79 - ETA: 1s - loss: 0.6642 - accuracy: 0.80 - ETA: 1s - loss: 0.6626 - accuracy: 0.80 - ETA: 1s - loss: 0.6648 - accuracy: 0.79 - ETA: 1s - loss: 0.6646 - accuracy: 0.79 - ETA: 1s - loss: 0.6665 - accuracy: 0.79 - ETA: 1s - loss: 0.6652 - accuracy: 0.79 - ETA: 1s - loss: 0.6646 - accuracy: 0.79 - ETA: 1s - loss: 0.6657 - accuracy: 0.79 - ETA: 1s - loss: 0.6657 - accuracy: 0.79 - ETA: 1s - loss: 0.6637 - accuracy: 0.79 - ETA: 1s - loss: 0.6650 - accuracy: 0.79 - ETA: 1s - loss: 0.6655 - accuracy: 0.79 - ETA: 1s - loss: 0.6689 - accuracy: 0.79 - ETA: 0s - loss: 0.6679 - accuracy: 0.79 - ETA: 0s - loss: 0.6681 - accuracy: 0.79 - ETA: 0s - loss: 0.6679 - accuracy: 0.79 - ETA: 0s - loss: 0.6692 - accuracy: 0.79 - ETA: 0s - loss: 0.6683 - accuracy: 0.79 - ETA: 0s - loss: 0.6675 - accuracy: 0.79 - ETA: 0s - loss: 0.6665 - accuracy: 0.79 - ETA: 0s - loss: 0.6686 - accuracy: 0.79 - ETA: 0s - loss: 0.6676 - accuracy: 0.79 - ETA: 0s - loss: 0.6673 - accuracy: 0.79 - ETA: 0s - loss: 0.6667 - accuracy: 0.79 - ETA: 0s - loss: 0.6669 - accuracy: 0.79 - ETA: 0s - loss: 0.6665 - accuracy: 0.79 - ETA: 0s - loss: 0.6649 - accuracy: 0.79 - ETA: 0s - loss: 0.6643 - accuracy: 0.80 - ETA: 0s - loss: 0.6632 - accuracy: 0.80 - ETA: 0s - loss: 0.6623 - accuracy: 0.80 - ETA: 0s - loss: 0.6616 - accuracy: 0.80 - ETA: 0s - loss: 0.6598 - accuracy: 0.80 - ETA: 0s - loss: 0.6616 - accuracy: 0.80 - 2s 964us/step - loss: 0.6612 - accuracy: 0.8004 - val_loss: 0.6915 - val_accuracy: 0.7895\n",
      "Epoch 13/32\n",
      "2500/2500 [==============================] - ETA: 0s - loss: 0.7787 - accuracy: 0.68 - ETA: 2s - loss: 0.6873 - accuracy: 0.78 - ETA: 2s - loss: 0.6631 - accuracy: 0.79 - ETA: 2s - loss: 0.6652 - accuracy: 0.80 - ETA: 2s - loss: 0.6655 - accuracy: 0.79 - ETA: 1s - loss: 0.6648 - accuracy: 0.80 - ETA: 1s - loss: 0.6615 - accuracy: 0.80 - ETA: 1s - loss: 0.6595 - accuracy: 0.80 - ETA: 1s - loss: 0.6616 - accuracy: 0.80 - ETA: 1s - loss: 0.6599 - accuracy: 0.80 - ETA: 1s - loss: 0.6635 - accuracy: 0.80 - ETA: 1s - loss: 0.6624 - accuracy: 0.80 - ETA: 1s - loss: 0.6579 - accuracy: 0.80 - ETA: 1s - loss: 0.6603 - accuracy: 0.80 - ETA: 1s - loss: 0.6598 - accuracy: 0.80 - ETA: 1s - loss: 0.6615 - accuracy: 0.80 - ETA: 1s - loss: 0.6629 - accuracy: 0.80 - ETA: 1s - loss: 0.6631 - accuracy: 0.80 - ETA: 1s - loss: 0.6629 - accuracy: 0.80 - ETA: 1s - loss: 0.6638 - accuracy: 0.80 - ETA: 1s - loss: 0.6648 - accuracy: 0.80 - ETA: 1s - loss: 0.6623 - accuracy: 0.80 - ETA: 1s - loss: 0.6602 - accuracy: 0.80 - ETA: 1s - loss: 0.6601 - accuracy: 0.80 - ETA: 1s - loss: 0.6600 - accuracy: 0.80 - ETA: 0s - loss: 0.6594 - accuracy: 0.80 - ETA: 0s - loss: 0.6593 - accuracy: 0.80 - ETA: 0s - loss: 0.6573 - accuracy: 0.80 - ETA: 0s - loss: 0.6561 - accuracy: 0.80 - ETA: 0s - loss: 0.6534 - accuracy: 0.80 - ETA: 0s - loss: 0.6543 - accuracy: 0.80 - ETA: 0s - loss: 0.6538 - accuracy: 0.80 - ETA: 0s - loss: 0.6536 - accuracy: 0.80 - ETA: 0s - loss: 0.6557 - accuracy: 0.80 - ETA: 0s - loss: 0.6556 - accuracy: 0.80 - ETA: 0s - loss: 0.6554 - accuracy: 0.80 - ETA: 0s - loss: 0.6552 - accuracy: 0.80 - ETA: 0s - loss: 0.6546 - accuracy: 0.80 - ETA: 0s - loss: 0.6548 - accuracy: 0.80 - ETA: 0s - loss: 0.6554 - accuracy: 0.80 - ETA: 0s - loss: 0.6554 - accuracy: 0.80 - ETA: 0s - loss: 0.6550 - accuracy: 0.80 - ETA: 0s - loss: 0.6545 - accuracy: 0.80 - ETA: 0s - loss: 0.6551 - accuracy: 0.80 - ETA: 0s - loss: 0.6536 - accuracy: 0.80 - 2s 964us/step - loss: 0.6530 - accuracy: 0.8032 - val_loss: 0.6828 - val_accuracy: 0.7958\n",
      "Epoch 14/32\n",
      "2500/2500 [==============================] - ETA: 0s - loss: 0.5600 - accuracy: 0.87 - ETA: 2s - loss: 0.5981 - accuracy: 0.82 - ETA: 2s - loss: 0.6070 - accuracy: 0.81 - ETA: 2s - loss: 0.6210 - accuracy: 0.81 - ETA: 2s - loss: 0.6339 - accuracy: 0.80 - ETA: 1s - loss: 0.6432 - accuracy: 0.80 - ETA: 1s - loss: 0.6367 - accuracy: 0.80 - ETA: 1s - loss: 0.6385 - accuracy: 0.80 - ETA: 1s - loss: 0.6384 - accuracy: 0.80 - ETA: 1s - loss: 0.6359 - accuracy: 0.80 - ETA: 1s - loss: 0.6304 - accuracy: 0.81 - ETA: 1s - loss: 0.6299 - accuracy: 0.81 - ETA: 1s - loss: 0.6306 - accuracy: 0.81 - ETA: 1s - loss: 0.6309 - accuracy: 0.81 - ETA: 1s - loss: 0.6327 - accuracy: 0.81 - ETA: 1s - loss: 0.6342 - accuracy: 0.80 - ETA: 1s - loss: 0.6329 - accuracy: 0.80 - ETA: 1s - loss: 0.6343 - accuracy: 0.80 - ETA: 1s - loss: 0.6351 - accuracy: 0.80 - ETA: 1s - loss: 0.6354 - accuracy: 0.80 - ETA: 1s - loss: 0.6360 - accuracy: 0.80 - ETA: 1s - loss: 0.6389 - accuracy: 0.80 - ETA: 1s - loss: 0.6391 - accuracy: 0.80 - ETA: 1s - loss: 0.6407 - accuracy: 0.80 - ETA: 1s - loss: 0.6411 - accuracy: 0.80 - ETA: 0s - loss: 0.6412 - accuracy: 0.80 - ETA: 0s - loss: 0.6403 - accuracy: 0.80 - ETA: 0s - loss: 0.6415 - accuracy: 0.80 - ETA: 0s - loss: 0.6394 - accuracy: 0.80 - ETA: 0s - loss: 0.6400 - accuracy: 0.80 - ETA: 0s - loss: 0.6407 - accuracy: 0.80 - ETA: 0s - loss: 0.6402 - accuracy: 0.80 - ETA: 0s - loss: 0.6415 - accuracy: 0.80 - ETA: 0s - loss: 0.6413 - accuracy: 0.80 - ETA: 0s - loss: 0.6412 - accuracy: 0.80 - ETA: 0s - loss: 0.6401 - accuracy: 0.80 - ETA: 0s - loss: 0.6403 - accuracy: 0.80 - ETA: 0s - loss: 0.6403 - accuracy: 0.80 - ETA: 0s - loss: 0.6412 - accuracy: 0.80 - ETA: 0s - loss: 0.6420 - accuracy: 0.80 - ETA: 0s - loss: 0.6429 - accuracy: 0.80 - ETA: 0s - loss: 0.6442 - accuracy: 0.80 - ETA: 0s - loss: 0.6437 - accuracy: 0.80 - ETA: 0s - loss: 0.6436 - accuracy: 0.80 - ETA: 0s - loss: 0.6433 - accuracy: 0.80 - ETA: 0s - loss: 0.6442 - accuracy: 0.80 - 2s 967us/step - loss: 0.6442 - accuracy: 0.8050 - val_loss: 0.6774 - val_accuracy: 0.7895\n",
      "Epoch 15/32\n",
      "2500/2500 [==============================] - ETA: 0s - loss: 0.8911 - accuracy: 0.71 - ETA: 2s - loss: 0.6300 - accuracy: 0.81 - ETA: 2s - loss: 0.6506 - accuracy: 0.80 - ETA: 2s - loss: 0.6289 - accuracy: 0.81 - ETA: 2s - loss: 0.6155 - accuracy: 0.81 - ETA: 1s - loss: 0.6219 - accuracy: 0.81 - ETA: 1s - loss: 0.6236 - accuracy: 0.81 - ETA: 1s - loss: 0.6285 - accuracy: 0.81 - ETA: 1s - loss: 0.6246 - accuracy: 0.81 - ETA: 1s - loss: 0.6299 - accuracy: 0.81 - ETA: 1s - loss: 0.6329 - accuracy: 0.80 - ETA: 1s - loss: 0.6325 - accuracy: 0.80 - ETA: 1s - loss: 0.6321 - accuracy: 0.80 - ETA: 1s - loss: 0.6339 - accuracy: 0.80 - ETA: 1s - loss: 0.6347 - accuracy: 0.80 - ETA: 1s - loss: 0.6328 - accuracy: 0.80 - ETA: 1s - loss: 0.6344 - accuracy: 0.80 - ETA: 1s - loss: 0.6340 - accuracy: 0.80 - ETA: 1s - loss: 0.6335 - accuracy: 0.80 - ETA: 1s - loss: 0.6340 - accuracy: 0.80 - ETA: 1s - loss: 0.6363 - accuracy: 0.80 - ETA: 1s - loss: 0.6361 - accuracy: 0.80 - ETA: 1s - loss: 0.6376 - accuracy: 0.80 - ETA: 1s - loss: 0.6372 - accuracy: 0.80 - ETA: 1s - loss: 0.6356 - accuracy: 0.80 - ETA: 1s - loss: 0.6348 - accuracy: 0.80 - ETA: 0s - loss: 0.6351 - accuracy: 0.80 - ETA: 0s - loss: 0.6357 - accuracy: 0.80 - ETA: 0s - loss: 0.6361 - accuracy: 0.80 - ETA: 0s - loss: 0.6361 - accuracy: 0.80 - ETA: 0s - loss: 0.6362 - accuracy: 0.80 - ETA: 0s - loss: 0.6364 - accuracy: 0.80 - ETA: 0s - loss: 0.6375 - accuracy: 0.80 - ETA: 0s - loss: 0.6379 - accuracy: 0.80 - ETA: 0s - loss: 0.6367 - accuracy: 0.80 - ETA: 0s - loss: 0.6353 - accuracy: 0.80 - ETA: 0s - loss: 0.6352 - accuracy: 0.80 - ETA: 0s - loss: 0.6338 - accuracy: 0.80 - ETA: 0s - loss: 0.6345 - accuracy: 0.80 - ETA: 0s - loss: 0.6349 - accuracy: 0.80 - ETA: 0s - loss: 0.6351 - accuracy: 0.80 - ETA: 0s - loss: 0.6346 - accuracy: 0.80 - ETA: 0s - loss: 0.6343 - accuracy: 0.80 - ETA: 0s - loss: 0.6350 - accuracy: 0.80 - ETA: 0s - loss: 0.6357 - accuracy: 0.80 - ETA: 0s - loss: 0.6359 - accuracy: 0.80 - 2s 975us/step - loss: 0.6361 - accuracy: 0.8083 - val_loss: 0.6755 - val_accuracy: 0.7978\n",
      "Epoch 16/32\n",
      "2500/2500 [==============================] - ETA: 0s - loss: 0.6193 - accuracy: 0.81 - ETA: 2s - loss: 0.5893 - accuracy: 0.81 - ETA: 2s - loss: 0.5986 - accuracy: 0.81 - ETA: 2s - loss: 0.5938 - accuracy: 0.81 - ETA: 2s - loss: 0.5903 - accuracy: 0.81 - ETA: 2s - loss: 0.6040 - accuracy: 0.81 - ETA: 1s - loss: 0.6084 - accuracy: 0.81 - ETA: 1s - loss: 0.6046 - accuracy: 0.81 - ETA: 1s - loss: 0.6056 - accuracy: 0.81 - ETA: 1s - loss: 0.6040 - accuracy: 0.81 - ETA: 1s - loss: 0.6069 - accuracy: 0.81 - ETA: 1s - loss: 0.6084 - accuracy: 0.81 - ETA: 1s - loss: 0.6090 - accuracy: 0.81 - ETA: 1s - loss: 0.6108 - accuracy: 0.81 - ETA: 1s - loss: 0.6156 - accuracy: 0.81 - ETA: 1s - loss: 0.6168 - accuracy: 0.81 - ETA: 1s - loss: 0.6185 - accuracy: 0.81 - ETA: 1s - loss: 0.6204 - accuracy: 0.81 - ETA: 1s - loss: 0.6206 - accuracy: 0.81 - ETA: 1s - loss: 0.6195 - accuracy: 0.81 - ETA: 1s - loss: 0.6201 - accuracy: 0.81 - ETA: 1s - loss: 0.6214 - accuracy: 0.81 - ETA: 1s - loss: 0.6226 - accuracy: 0.81 - ETA: 1s - loss: 0.6224 - accuracy: 0.81 - ETA: 1s - loss: 0.6218 - accuracy: 0.81 - ETA: 0s - loss: 0.6221 - accuracy: 0.81 - ETA: 0s - loss: 0.6206 - accuracy: 0.81 - ETA: 0s - loss: 0.6230 - accuracy: 0.81 - ETA: 0s - loss: 0.6224 - accuracy: 0.81 - ETA: 0s - loss: 0.6240 - accuracy: 0.81 - ETA: 0s - loss: 0.6241 - accuracy: 0.81 - ETA: 0s - loss: 0.6251 - accuracy: 0.81 - ETA: 0s - loss: 0.6246 - accuracy: 0.81 - ETA: 0s - loss: 0.6235 - accuracy: 0.81 - ETA: 0s - loss: 0.6232 - accuracy: 0.81 - ETA: 0s - loss: 0.6235 - accuracy: 0.81 - ETA: 0s - loss: 0.6227 - accuracy: 0.81 - ETA: 0s - loss: 0.6238 - accuracy: 0.81 - ETA: 0s - loss: 0.6247 - accuracy: 0.81 - ETA: 0s - loss: 0.6251 - accuracy: 0.81 - ETA: 0s - loss: 0.6250 - accuracy: 0.81 - ETA: 0s - loss: 0.6261 - accuracy: 0.81 - ETA: 0s - loss: 0.6266 - accuracy: 0.81 - ETA: 0s - loss: 0.6262 - accuracy: 0.81 - ETA: 0s - loss: 0.6268 - accuracy: 0.81 - 2s 964us/step - loss: 0.6273 - accuracy: 0.8118 - val_loss: 0.6709 - val_accuracy: 0.7986\n",
      "Epoch 17/32\n",
      "2500/2500 [==============================] - ETA: 0s - loss: 0.6952 - accuracy: 0.81 - ETA: 2s - loss: 0.6077 - accuracy: 0.81 - ETA: 2s - loss: 0.6146 - accuracy: 0.81 - ETA: 2s - loss: 0.6171 - accuracy: 0.81 - ETA: 2s - loss: 0.6231 - accuracy: 0.81 - ETA: 2s - loss: 0.6225 - accuracy: 0.81 - ETA: 1s - loss: 0.6159 - accuracy: 0.81 - ETA: 1s - loss: 0.6174 - accuracy: 0.81 - ETA: 1s - loss: 0.6186 - accuracy: 0.81 - ETA: 1s - loss: 0.6243 - accuracy: 0.81 - ETA: 1s - loss: 0.6256 - accuracy: 0.81 - ETA: 1s - loss: 0.6225 - accuracy: 0.81 - ETA: 1s - loss: 0.6209 - accuracy: 0.81 - ETA: 1s - loss: 0.6238 - accuracy: 0.81 - ETA: 1s - loss: 0.6247 - accuracy: 0.81 - ETA: 1s - loss: 0.6233 - accuracy: 0.81 - ETA: 1s - loss: 0.6236 - accuracy: 0.81 - ETA: 1s - loss: 0.6216 - accuracy: 0.81 - ETA: 1s - loss: 0.6211 - accuracy: 0.81 - ETA: 1s - loss: 0.6236 - accuracy: 0.81 - ETA: 1s - loss: 0.6217 - accuracy: 0.81 - ETA: 1s - loss: 0.6250 - accuracy: 0.81 - ETA: 1s - loss: 0.6255 - accuracy: 0.81 - ETA: 1s - loss: 0.6253 - accuracy: 0.81 - ETA: 1s - loss: 0.6250 - accuracy: 0.81 - ETA: 0s - loss: 0.6260 - accuracy: 0.81 - ETA: 0s - loss: 0.6273 - accuracy: 0.81 - ETA: 0s - loss: 0.6279 - accuracy: 0.81 - ETA: 0s - loss: 0.6266 - accuracy: 0.81 - ETA: 0s - loss: 0.6252 - accuracy: 0.81 - ETA: 0s - loss: 0.6239 - accuracy: 0.81 - ETA: 0s - loss: 0.6234 - accuracy: 0.81 - ETA: 0s - loss: 0.6241 - accuracy: 0.81 - ETA: 0s - loss: 0.6239 - accuracy: 0.81 - ETA: 0s - loss: 0.6234 - accuracy: 0.81 - ETA: 0s - loss: 0.6230 - accuracy: 0.81 - ETA: 0s - loss: 0.6221 - accuracy: 0.81 - ETA: 0s - loss: 0.6218 - accuracy: 0.81 - ETA: 0s - loss: 0.6218 - accuracy: 0.81 - ETA: 0s - loss: 0.6214 - accuracy: 0.81 - ETA: 0s - loss: 0.6209 - accuracy: 0.81 - ETA: 0s - loss: 0.6217 - accuracy: 0.81 - ETA: 0s - loss: 0.6216 - accuracy: 0.81 - ETA: 0s - loss: 0.6223 - accuracy: 0.81 - ETA: 0s - loss: 0.6234 - accuracy: 0.81 - 2s 965us/step - loss: 0.6236 - accuracy: 0.8126 - val_loss: 0.6679 - val_accuracy: 0.7981\n",
      "Epoch 18/32\n",
      "2500/2500 [==============================] - ETA: 2s - loss: 0.8179 - accuracy: 0.81 - ETA: 2s - loss: 0.6178 - accuracy: 0.81 - ETA: 2s - loss: 0.6308 - accuracy: 0.81 - ETA: 2s - loss: 0.6188 - accuracy: 0.81 - ETA: 2s - loss: 0.6194 - accuracy: 0.81 - ETA: 1s - loss: 0.6170 - accuracy: 0.81 - ETA: 1s - loss: 0.6264 - accuracy: 0.81 - ETA: 1s - loss: 0.6236 - accuracy: 0.81 - ETA: 1s - loss: 0.6228 - accuracy: 0.81 - ETA: 1s - loss: 0.6241 - accuracy: 0.81 - ETA: 1s - loss: 0.6204 - accuracy: 0.81 - ETA: 1s - loss: 0.6192 - accuracy: 0.81 - ETA: 1s - loss: 0.6181 - accuracy: 0.81 - ETA: 1s - loss: 0.6176 - accuracy: 0.81 - ETA: 1s - loss: 0.6173 - accuracy: 0.81 - ETA: 1s - loss: 0.6178 - accuracy: 0.81 - ETA: 1s - loss: 0.6149 - accuracy: 0.81 - ETA: 1s - loss: 0.6155 - accuracy: 0.81 - ETA: 1s - loss: 0.6138 - accuracy: 0.81 - ETA: 1s - loss: 0.6160 - accuracy: 0.81 - ETA: 1s - loss: 0.6165 - accuracy: 0.81 - ETA: 1s - loss: 0.6195 - accuracy: 0.81 - ETA: 1s - loss: 0.6165 - accuracy: 0.81 - ETA: 1s - loss: 0.6151 - accuracy: 0.81 - ETA: 1s - loss: 0.6156 - accuracy: 0.81 - ETA: 0s - loss: 0.6158 - accuracy: 0.81 - ETA: 0s - loss: 0.6157 - accuracy: 0.81 - ETA: 0s - loss: 0.6155 - accuracy: 0.81 - ETA: 0s - loss: 0.6158 - accuracy: 0.81 - ETA: 0s - loss: 0.6153 - accuracy: 0.81 - ETA: 0s - loss: 0.6151 - accuracy: 0.81 - ETA: 0s - loss: 0.6156 - accuracy: 0.81 - ETA: 0s - loss: 0.6149 - accuracy: 0.81 - ETA: 0s - loss: 0.6149 - accuracy: 0.81 - ETA: 0s - loss: 0.6142 - accuracy: 0.81 - ETA: 0s - loss: 0.6152 - accuracy: 0.81 - ETA: 0s - loss: 0.6153 - accuracy: 0.81 - ETA: 0s - loss: 0.6157 - accuracy: 0.81 - ETA: 0s - loss: 0.6166 - accuracy: 0.81 - ETA: 0s - loss: 0.6174 - accuracy: 0.81 - ETA: 0s - loss: 0.6174 - accuracy: 0.81 - ETA: 0s - loss: 0.6161 - accuracy: 0.81 - ETA: 0s - loss: 0.6162 - accuracy: 0.81 - ETA: 0s - loss: 0.6161 - accuracy: 0.81 - ETA: 0s - loss: 0.6161 - accuracy: 0.81 - 2s 965us/step - loss: 0.6160 - accuracy: 0.8154 - val_loss: 0.6627 - val_accuracy: 0.7997\n",
      "Epoch 19/32\n",
      "2500/2500 [==============================] - ETA: 0s - loss: 0.3892 - accuracy: 0.87 - ETA: 2s - loss: 0.6126 - accuracy: 0.82 - ETA: 2s - loss: 0.5972 - accuracy: 0.82 - ETA: 2s - loss: 0.5998 - accuracy: 0.82 - ETA: 2s - loss: 0.5983 - accuracy: 0.82 - ETA: 1s - loss: 0.5994 - accuracy: 0.82 - ETA: 1s - loss: 0.6003 - accuracy: 0.82 - ETA: 1s - loss: 0.6008 - accuracy: 0.82 - ETA: 1s - loss: 0.6000 - accuracy: 0.82 - ETA: 1s - loss: 0.5992 - accuracy: 0.82 - ETA: 1s - loss: 0.6007 - accuracy: 0.82 - ETA: 1s - loss: 0.6011 - accuracy: 0.82 - ETA: 1s - loss: 0.6036 - accuracy: 0.82 - ETA: 1s - loss: 0.6063 - accuracy: 0.81 - ETA: 1s - loss: 0.6053 - accuracy: 0.81 - ETA: 1s - loss: 0.6051 - accuracy: 0.81 - ETA: 1s - loss: 0.6057 - accuracy: 0.81 - ETA: 1s - loss: 0.6064 - accuracy: 0.81 - ETA: 1s - loss: 0.6035 - accuracy: 0.81 - ETA: 1s - loss: 0.6036 - accuracy: 0.81 - ETA: 1s - loss: 0.6045 - accuracy: 0.81 - ETA: 1s - loss: 0.6065 - accuracy: 0.81 - ETA: 1s - loss: 0.6061 - accuracy: 0.81 - ETA: 1s - loss: 0.6071 - accuracy: 0.81 - ETA: 1s - loss: 0.6084 - accuracy: 0.81 - ETA: 0s - loss: 0.6070 - accuracy: 0.81 - ETA: 0s - loss: 0.6058 - accuracy: 0.81 - ETA: 0s - loss: 0.6054 - accuracy: 0.81 - ETA: 0s - loss: 0.6057 - accuracy: 0.81 - ETA: 0s - loss: 0.6064 - accuracy: 0.81 - ETA: 0s - loss: 0.6072 - accuracy: 0.81 - ETA: 0s - loss: 0.6069 - accuracy: 0.81 - ETA: 0s - loss: 0.6061 - accuracy: 0.81 - ETA: 0s - loss: 0.6063 - accuracy: 0.81 - ETA: 0s - loss: 0.6074 - accuracy: 0.81 - ETA: 0s - loss: 0.6080 - accuracy: 0.81 - ETA: 0s - loss: 0.6081 - accuracy: 0.81 - ETA: 0s - loss: 0.6086 - accuracy: 0.81 - ETA: 0s - loss: 0.6084 - accuracy: 0.81 - ETA: 0s - loss: 0.6086 - accuracy: 0.81 - ETA: 0s - loss: 0.6101 - accuracy: 0.81 - ETA: 0s - loss: 0.6108 - accuracy: 0.81 - ETA: 0s - loss: 0.6112 - accuracy: 0.81 - ETA: 0s - loss: 0.6114 - accuracy: 0.81 - ETA: 0s - loss: 0.6108 - accuracy: 0.81 - ETA: 0s - loss: 0.6104 - accuracy: 0.81 - 2s 969us/step - loss: 0.6104 - accuracy: 0.8171 - val_loss: 0.6617 - val_accuracy: 0.8019\n",
      "Epoch 20/32\n",
      "2500/2500 [==============================] - ETA: 0s - loss: 0.4997 - accuracy: 0.84 - ETA: 2s - loss: 0.5731 - accuracy: 0.82 - ETA: 2s - loss: 0.5917 - accuracy: 0.81 - ETA: 2s - loss: 0.5973 - accuracy: 0.81 - ETA: 2s - loss: 0.6149 - accuracy: 0.81 - ETA: 1s - loss: 0.6134 - accuracy: 0.81 - ETA: 1s - loss: 0.6195 - accuracy: 0.81 - ETA: 1s - loss: 0.6163 - accuracy: 0.81 - ETA: 1s - loss: 0.6149 - accuracy: 0.81 - ETA: 1s - loss: 0.6153 - accuracy: 0.81 - ETA: 1s - loss: 0.6120 - accuracy: 0.81 - ETA: 1s - loss: 0.6139 - accuracy: 0.81 - ETA: 1s - loss: 0.6136 - accuracy: 0.81 - ETA: 1s - loss: 0.6122 - accuracy: 0.81 - ETA: 1s - loss: 0.6149 - accuracy: 0.81 - ETA: 1s - loss: 0.6151 - accuracy: 0.81 - ETA: 1s - loss: 0.6161 - accuracy: 0.81 - ETA: 1s - loss: 0.6172 - accuracy: 0.81 - ETA: 1s - loss: 0.6155 - accuracy: 0.81 - ETA: 1s - loss: 0.6152 - accuracy: 0.81 - ETA: 1s - loss: 0.6139 - accuracy: 0.81 - ETA: 1s - loss: 0.6132 - accuracy: 0.81 - ETA: 1s - loss: 0.6113 - accuracy: 0.81 - ETA: 1s - loss: 0.6120 - accuracy: 0.81 - ETA: 1s - loss: 0.6119 - accuracy: 0.81 - ETA: 0s - loss: 0.6121 - accuracy: 0.81 - ETA: 0s - loss: 0.6121 - accuracy: 0.81 - ETA: 0s - loss: 0.6118 - accuracy: 0.81 - ETA: 0s - loss: 0.6123 - accuracy: 0.81 - ETA: 0s - loss: 0.6122 - accuracy: 0.81 - ETA: 0s - loss: 0.6131 - accuracy: 0.81 - ETA: 0s - loss: 0.6132 - accuracy: 0.81 - ETA: 0s - loss: 0.6111 - accuracy: 0.81 - ETA: 0s - loss: 0.6103 - accuracy: 0.81 - ETA: 0s - loss: 0.6107 - accuracy: 0.81 - ETA: 0s - loss: 0.6108 - accuracy: 0.81 - ETA: 0s - loss: 0.6103 - accuracy: 0.81 - ETA: 0s - loss: 0.6100 - accuracy: 0.81 - ETA: 0s - loss: 0.6087 - accuracy: 0.81 - ETA: 0s - loss: 0.6082 - accuracy: 0.81 - ETA: 0s - loss: 0.6085 - accuracy: 0.81 - ETA: 0s - loss: 0.6068 - accuracy: 0.81 - ETA: 0s - loss: 0.6073 - accuracy: 0.81 - ETA: 0s - loss: 0.6069 - accuracy: 0.81 - ETA: 0s - loss: 0.6065 - accuracy: 0.81 - 2s 961us/step - loss: 0.6063 - accuracy: 0.8175 - val_loss: 0.6590 - val_accuracy: 0.7998\n",
      "Epoch 21/32\n",
      "2500/2500 [==============================] - ETA: 0s - loss: 0.2801 - accuracy: 0.90 - ETA: 2s - loss: 0.5846 - accuracy: 0.82 - ETA: 2s - loss: 0.5932 - accuracy: 0.82 - ETA: 2s - loss: 0.5894 - accuracy: 0.82 - ETA: 2s - loss: 0.6010 - accuracy: 0.82 - ETA: 2s - loss: 0.6012 - accuracy: 0.82 - ETA: 1s - loss: 0.5952 - accuracy: 0.82 - ETA: 1s - loss: 0.5921 - accuracy: 0.82 - ETA: 1s - loss: 0.5952 - accuracy: 0.82 - ETA: 1s - loss: 0.5935 - accuracy: 0.82 - ETA: 1s - loss: 0.5941 - accuracy: 0.82 - ETA: 1s - loss: 0.5961 - accuracy: 0.82 - ETA: 1s - loss: 0.5961 - accuracy: 0.82 - ETA: 1s - loss: 0.5941 - accuracy: 0.82 - ETA: 1s - loss: 0.5927 - accuracy: 0.82 - ETA: 1s - loss: 0.5924 - accuracy: 0.82 - ETA: 1s - loss: 0.5941 - accuracy: 0.82 - ETA: 1s - loss: 0.5949 - accuracy: 0.82 - ETA: 1s - loss: 0.5949 - accuracy: 0.82 - ETA: 1s - loss: 0.5968 - accuracy: 0.82 - ETA: 1s - loss: 0.5950 - accuracy: 0.82 - ETA: 1s - loss: 0.5970 - accuracy: 0.82 - ETA: 1s - loss: 0.5979 - accuracy: 0.82 - ETA: 1s - loss: 0.5991 - accuracy: 0.82 - ETA: 1s - loss: 0.5999 - accuracy: 0.82 - ETA: 1s - loss: 0.6001 - accuracy: 0.82 - ETA: 0s - loss: 0.6002 - accuracy: 0.82 - ETA: 0s - loss: 0.6006 - accuracy: 0.82 - ETA: 0s - loss: 0.6030 - accuracy: 0.81 - ETA: 0s - loss: 0.6023 - accuracy: 0.82 - ETA: 0s - loss: 0.6009 - accuracy: 0.82 - ETA: 0s - loss: 0.5999 - accuracy: 0.82 - ETA: 0s - loss: 0.6004 - accuracy: 0.82 - ETA: 0s - loss: 0.5999 - accuracy: 0.82 - ETA: 0s - loss: 0.5995 - accuracy: 0.82 - ETA: 0s - loss: 0.5999 - accuracy: 0.82 - ETA: 0s - loss: 0.6000 - accuracy: 0.82 - ETA: 0s - loss: 0.6006 - accuracy: 0.82 - ETA: 0s - loss: 0.6008 - accuracy: 0.82 - ETA: 0s - loss: 0.6013 - accuracy: 0.82 - ETA: 0s - loss: 0.5998 - accuracy: 0.82 - ETA: 0s - loss: 0.5994 - accuracy: 0.82 - ETA: 0s - loss: 0.5992 - accuracy: 0.82 - ETA: 0s - loss: 0.5983 - accuracy: 0.82 - ETA: 0s - loss: 0.5989 - accuracy: 0.82 - ETA: 0s - loss: 0.5988 - accuracy: 0.82 - 2s 977us/step - loss: 0.5990 - accuracy: 0.8206 - val_loss: 0.6572 - val_accuracy: 0.7995\n",
      "Epoch 22/32\n",
      "2500/2500 [==============================] - ETA: 0s - loss: 0.7247 - accuracy: 0.78 - ETA: 2s - loss: 0.5671 - accuracy: 0.82 - ETA: 2s - loss: 0.5913 - accuracy: 0.82 - ETA: 2s - loss: 0.5945 - accuracy: 0.82 - ETA: 2s - loss: 0.5893 - accuracy: 0.82 - ETA: 1s - loss: 0.5799 - accuracy: 0.82 - ETA: 1s - loss: 0.5762 - accuracy: 0.82 - ETA: 1s - loss: 0.5770 - accuracy: 0.82 - ETA: 1s - loss: 0.5782 - accuracy: 0.82 - ETA: 1s - loss: 0.5817 - accuracy: 0.82 - ETA: 1s - loss: 0.5871 - accuracy: 0.82 - ETA: 1s - loss: 0.5879 - accuracy: 0.82 - ETA: 1s - loss: 0.5869 - accuracy: 0.82 - ETA: 1s - loss: 0.5890 - accuracy: 0.82 - ETA: 1s - loss: 0.5866 - accuracy: 0.82 - ETA: 1s - loss: 0.5873 - accuracy: 0.82 - ETA: 1s - loss: 0.5887 - accuracy: 0.82 - ETA: 1s - loss: 0.5870 - accuracy: 0.82 - ETA: 1s - loss: 0.5873 - accuracy: 0.82 - ETA: 1s - loss: 0.5879 - accuracy: 0.82 - ETA: 1s - loss: 0.5869 - accuracy: 0.82 - ETA: 1s - loss: 0.5885 - accuracy: 0.82 - ETA: 1s - loss: 0.5899 - accuracy: 0.82 - ETA: 1s - loss: 0.5909 - accuracy: 0.82 - ETA: 1s - loss: 0.5899 - accuracy: 0.82 - ETA: 0s - loss: 0.5894 - accuracy: 0.82 - ETA: 0s - loss: 0.5894 - accuracy: 0.82 - ETA: 0s - loss: 0.5895 - accuracy: 0.82 - ETA: 0s - loss: 0.5906 - accuracy: 0.82 - ETA: 0s - loss: 0.5908 - accuracy: 0.82 - ETA: 0s - loss: 0.5905 - accuracy: 0.82 - ETA: 0s - loss: 0.5912 - accuracy: 0.82 - ETA: 0s - loss: 0.5921 - accuracy: 0.82 - ETA: 0s - loss: 0.5924 - accuracy: 0.82 - ETA: 0s - loss: 0.5930 - accuracy: 0.82 - ETA: 0s - loss: 0.5935 - accuracy: 0.82 - ETA: 0s - loss: 0.5946 - accuracy: 0.82 - ETA: 0s - loss: 0.5940 - accuracy: 0.82 - ETA: 0s - loss: 0.5949 - accuracy: 0.82 - ETA: 0s - loss: 0.5954 - accuracy: 0.82 - ETA: 0s - loss: 0.5960 - accuracy: 0.82 - ETA: 0s - loss: 0.5959 - accuracy: 0.82 - ETA: 0s - loss: 0.5955 - accuracy: 0.82 - ETA: 0s - loss: 0.5951 - accuracy: 0.82 - ETA: 0s - loss: 0.5958 - accuracy: 0.82 - ETA: 0s - loss: 0.5958 - accuracy: 0.82 - 2s 969us/step - loss: 0.5958 - accuracy: 0.8209 - val_loss: 0.6482 - val_accuracy: 0.8059\n",
      "Epoch 23/32\n",
      "2500/2500 [==============================] - ETA: 0s - loss: 0.5890 - accuracy: 0.90 - ETA: 2s - loss: 0.5937 - accuracy: 0.82 - ETA: 2s - loss: 0.5925 - accuracy: 0.82 - ETA: 2s - loss: 0.5923 - accuracy: 0.82 - ETA: 2s - loss: 0.5945 - accuracy: 0.82 - ETA: 2s - loss: 0.5822 - accuracy: 0.82 - ETA: 1s - loss: 0.5799 - accuracy: 0.82 - ETA: 1s - loss: 0.5749 - accuracy: 0.82 - ETA: 1s - loss: 0.5768 - accuracy: 0.82 - ETA: 1s - loss: 0.5788 - accuracy: 0.82 - ETA: 1s - loss: 0.5868 - accuracy: 0.82 - ETA: 1s - loss: 0.5853 - accuracy: 0.82 - ETA: 1s - loss: 0.5867 - accuracy: 0.82 - ETA: 1s - loss: 0.5859 - accuracy: 0.82 - ETA: 1s - loss: 0.5878 - accuracy: 0.82 - ETA: 1s - loss: 0.5877 - accuracy: 0.82 - ETA: 1s - loss: 0.5866 - accuracy: 0.82 - ETA: 1s - loss: 0.5862 - accuracy: 0.82 - ETA: 1s - loss: 0.5856 - accuracy: 0.82 - ETA: 1s - loss: 0.5828 - accuracy: 0.82 - ETA: 1s - loss: 0.5839 - accuracy: 0.82 - ETA: 1s - loss: 0.5840 - accuracy: 0.82 - ETA: 1s - loss: 0.5846 - accuracy: 0.82 - ETA: 1s - loss: 0.5830 - accuracy: 0.82 - ETA: 1s - loss: 0.5829 - accuracy: 0.82 - ETA: 1s - loss: 0.5842 - accuracy: 0.82 - ETA: 0s - loss: 0.5840 - accuracy: 0.82 - ETA: 0s - loss: 0.5851 - accuracy: 0.82 - ETA: 0s - loss: 0.5871 - accuracy: 0.82 - ETA: 0s - loss: 0.5880 - accuracy: 0.82 - ETA: 0s - loss: 0.5888 - accuracy: 0.82 - ETA: 0s - loss: 0.5894 - accuracy: 0.82 - ETA: 0s - loss: 0.5905 - accuracy: 0.82 - ETA: 0s - loss: 0.5910 - accuracy: 0.82 - ETA: 0s - loss: 0.5905 - accuracy: 0.82 - ETA: 0s - loss: 0.5917 - accuracy: 0.82 - ETA: 0s - loss: 0.5913 - accuracy: 0.82 - ETA: 0s - loss: 0.5924 - accuracy: 0.82 - ETA: 0s - loss: 0.5916 - accuracy: 0.82 - ETA: 0s - loss: 0.5915 - accuracy: 0.82 - ETA: 0s - loss: 0.5915 - accuracy: 0.82 - ETA: 0s - loss: 0.5906 - accuracy: 0.82 - ETA: 0s - loss: 0.5901 - accuracy: 0.82 - ETA: 0s - loss: 0.5902 - accuracy: 0.82 - ETA: 0s - loss: 0.5905 - accuracy: 0.82 - 2s 967us/step - loss: 0.5884 - accuracy: 0.8241 - val_loss: 0.6432 - val_accuracy: 0.8075\n",
      "Epoch 24/32\n",
      "2500/2500 [==============================] - ETA: 0s - loss: 0.6034 - accuracy: 0.78 - ETA: 2s - loss: 0.5488 - accuracy: 0.83 - ETA: 2s - loss: 0.5576 - accuracy: 0.83 - ETA: 2s - loss: 0.5683 - accuracy: 0.83 - ETA: 2s - loss: 0.5748 - accuracy: 0.82 - ETA: 2s - loss: 0.5827 - accuracy: 0.82 - ETA: 2s - loss: 0.5752 - accuracy: 0.82 - ETA: 2s - loss: 0.5756 - accuracy: 0.82 - ETA: 1s - loss: 0.5750 - accuracy: 0.82 - ETA: 1s - loss: 0.5740 - accuracy: 0.82 - ETA: 1s - loss: 0.5737 - accuracy: 0.82 - ETA: 1s - loss: 0.5763 - accuracy: 0.82 - ETA: 1s - loss: 0.5753 - accuracy: 0.82 - ETA: 1s - loss: 0.5761 - accuracy: 0.82 - ETA: 1s - loss: 0.5768 - accuracy: 0.82 - ETA: 1s - loss: 0.5793 - accuracy: 0.82 - ETA: 1s - loss: 0.5783 - accuracy: 0.82 - ETA: 1s - loss: 0.5769 - accuracy: 0.82 - ETA: 1s - loss: 0.5748 - accuracy: 0.82 - ETA: 1s - loss: 0.5754 - accuracy: 0.82 - ETA: 1s - loss: 0.5739 - accuracy: 0.82 - ETA: 1s - loss: 0.5743 - accuracy: 0.82 - ETA: 1s - loss: 0.5780 - accuracy: 0.82 - ETA: 1s - loss: 0.5793 - accuracy: 0.82 - ETA: 1s - loss: 0.5782 - accuracy: 0.82 - ETA: 1s - loss: 0.5776 - accuracy: 0.82 - ETA: 1s - loss: 0.5794 - accuracy: 0.82 - ETA: 1s - loss: 0.5807 - accuracy: 0.82 - ETA: 0s - loss: 0.5824 - accuracy: 0.82 - ETA: 0s - loss: 0.5805 - accuracy: 0.82 - ETA: 0s - loss: 0.5799 - accuracy: 0.82 - ETA: 0s - loss: 0.5817 - accuracy: 0.82 - ETA: 0s - loss: 0.5806 - accuracy: 0.82 - ETA: 0s - loss: 0.5813 - accuracy: 0.82 - ETA: 0s - loss: 0.5819 - accuracy: 0.82 - ETA: 0s - loss: 0.5803 - accuracy: 0.82 - ETA: 0s - loss: 0.5801 - accuracy: 0.82 - ETA: 0s - loss: 0.5799 - accuracy: 0.82 - ETA: 0s - loss: 0.5808 - accuracy: 0.82 - ETA: 0s - loss: 0.5818 - accuracy: 0.82 - ETA: 0s - loss: 0.5813 - accuracy: 0.82 - ETA: 0s - loss: 0.5817 - accuracy: 0.82 - ETA: 0s - loss: 0.5819 - accuracy: 0.82 - ETA: 0s - loss: 0.5819 - accuracy: 0.82 - ETA: 0s - loss: 0.5816 - accuracy: 0.82 - ETA: 0s - loss: 0.5831 - accuracy: 0.82 - ETA: 0s - loss: 0.5826 - accuracy: 0.82 - ETA: 0s - loss: 0.5829 - accuracy: 0.82 - 3s 1ms/step - loss: 0.5831 - accuracy: 0.8248 - val_loss: 0.6428 - val_accuracy: 0.8065\n",
      "Epoch 25/32\n",
      "2500/2500 [==============================] - ETA: 0s - loss: 0.5147 - accuracy: 0.81 - ETA: 2s - loss: 0.5605 - accuracy: 0.82 - ETA: 2s - loss: 0.5556 - accuracy: 0.83 - ETA: 2s - loss: 0.5542 - accuracy: 0.83 - ETA: 2s - loss: 0.5713 - accuracy: 0.83 - ETA: 1s - loss: 0.5733 - accuracy: 0.83 - ETA: 1s - loss: 0.5817 - accuracy: 0.82 - ETA: 1s - loss: 0.5826 - accuracy: 0.82 - ETA: 1s - loss: 0.5837 - accuracy: 0.82 - ETA: 1s - loss: 0.5829 - accuracy: 0.82 - ETA: 1s - loss: 0.5839 - accuracy: 0.82 - ETA: 1s - loss: 0.5859 - accuracy: 0.82 - ETA: 1s - loss: 0.5866 - accuracy: 0.82 - ETA: 1s - loss: 0.5818 - accuracy: 0.82 - ETA: 1s - loss: 0.5821 - accuracy: 0.82 - ETA: 1s - loss: 0.5811 - accuracy: 0.82 - ETA: 1s - loss: 0.5791 - accuracy: 0.82 - ETA: 1s - loss: 0.5778 - accuracy: 0.82 - ETA: 1s - loss: 0.5765 - accuracy: 0.82 - ETA: 1s - loss: 0.5788 - accuracy: 0.82 - ETA: 1s - loss: 0.5783 - accuracy: 0.82 - ETA: 1s - loss: 0.5791 - accuracy: 0.82 - ETA: 1s - loss: 0.5790 - accuracy: 0.82 - ETA: 1s - loss: 0.5802 - accuracy: 0.82 - ETA: 1s - loss: 0.5798 - accuracy: 0.82 - ETA: 0s - loss: 0.5798 - accuracy: 0.82 - ETA: 0s - loss: 0.5801 - accuracy: 0.82 - ETA: 0s - loss: 0.5804 - accuracy: 0.82 - ETA: 0s - loss: 0.5802 - accuracy: 0.82 - ETA: 0s - loss: 0.5796 - accuracy: 0.82 - ETA: 0s - loss: 0.5801 - accuracy: 0.82 - ETA: 0s - loss: 0.5795 - accuracy: 0.82 - ETA: 0s - loss: 0.5790 - accuracy: 0.82 - ETA: 0s - loss: 0.5794 - accuracy: 0.82 - ETA: 0s - loss: 0.5789 - accuracy: 0.82 - ETA: 0s - loss: 0.5790 - accuracy: 0.82 - ETA: 0s - loss: 0.5793 - accuracy: 0.82 - ETA: 0s - loss: 0.5789 - accuracy: 0.82 - ETA: 0s - loss: 0.5796 - accuracy: 0.82 - ETA: 0s - loss: 0.5805 - accuracy: 0.82 - ETA: 0s - loss: 0.5804 - accuracy: 0.82 - ETA: 0s - loss: 0.5806 - accuracy: 0.82 - ETA: 0s - loss: 0.5803 - accuracy: 0.82 - ETA: 0s - loss: 0.5802 - accuracy: 0.82 - ETA: 0s - loss: 0.5800 - accuracy: 0.82 - 2s 965us/step - loss: 0.5793 - accuracy: 0.8264 - val_loss: 0.6403 - val_accuracy: 0.8071\n",
      "Epoch 26/32\n",
      "2500/2500 [==============================] - ETA: 0s - loss: 0.5912 - accuracy: 0.81 - ETA: 2s - loss: 0.5487 - accuracy: 0.83 - ETA: 2s - loss: 0.5496 - accuracy: 0.83 - ETA: 2s - loss: 0.5673 - accuracy: 0.83 - ETA: 2s - loss: 0.5722 - accuracy: 0.82 - ETA: 1s - loss: 0.5713 - accuracy: 0.82 - ETA: 1s - loss: 0.5718 - accuracy: 0.82 - ETA: 1s - loss: 0.5717 - accuracy: 0.82 - ETA: 1s - loss: 0.5723 - accuracy: 0.82 - ETA: 1s - loss: 0.5716 - accuracy: 0.82 - ETA: 1s - loss: 0.5694 - accuracy: 0.82 - ETA: 1s - loss: 0.5686 - accuracy: 0.83 - ETA: 1s - loss: 0.5679 - accuracy: 0.83 - ETA: 1s - loss: 0.5714 - accuracy: 0.82 - ETA: 1s - loss: 0.5713 - accuracy: 0.82 - ETA: 1s - loss: 0.5714 - accuracy: 0.82 - ETA: 1s - loss: 0.5724 - accuracy: 0.82 - ETA: 1s - loss: 0.5742 - accuracy: 0.82 - ETA: 1s - loss: 0.5725 - accuracy: 0.82 - ETA: 1s - loss: 0.5724 - accuracy: 0.82 - ETA: 1s - loss: 0.5712 - accuracy: 0.82 - ETA: 1s - loss: 0.5706 - accuracy: 0.82 - ETA: 1s - loss: 0.5711 - accuracy: 0.82 - ETA: 1s - loss: 0.5720 - accuracy: 0.82 - ETA: 1s - loss: 0.5736 - accuracy: 0.82 - ETA: 0s - loss: 0.5750 - accuracy: 0.82 - ETA: 0s - loss: 0.5745 - accuracy: 0.82 - ETA: 0s - loss: 0.5742 - accuracy: 0.82 - ETA: 0s - loss: 0.5751 - accuracy: 0.82 - ETA: 0s - loss: 0.5750 - accuracy: 0.82 - ETA: 0s - loss: 0.5765 - accuracy: 0.82 - ETA: 0s - loss: 0.5761 - accuracy: 0.82 - ETA: 0s - loss: 0.5759 - accuracy: 0.82 - ETA: 0s - loss: 0.5760 - accuracy: 0.82 - ETA: 0s - loss: 0.5756 - accuracy: 0.82 - ETA: 0s - loss: 0.5753 - accuracy: 0.82 - ETA: 0s - loss: 0.5741 - accuracy: 0.82 - ETA: 0s - loss: 0.5742 - accuracy: 0.82 - ETA: 0s - loss: 0.5743 - accuracy: 0.82 - ETA: 0s - loss: 0.5750 - accuracy: 0.82 - ETA: 0s - loss: 0.5757 - accuracy: 0.82 - ETA: 0s - loss: 0.5749 - accuracy: 0.82 - ETA: 0s - loss: 0.5744 - accuracy: 0.82 - ETA: 0s - loss: 0.5748 - accuracy: 0.82 - ETA: 0s - loss: 0.5748 - accuracy: 0.82 - ETA: 0s - loss: 0.5758 - accuracy: 0.82 - 2s 973us/step - loss: 0.5762 - accuracy: 0.8270 - val_loss: 0.6390 - val_accuracy: 0.8098\n",
      "Epoch 27/32\n",
      "2500/2500 [==============================] - ETA: 0s - loss: 0.6239 - accuracy: 0.78 - ETA: 2s - loss: 0.5811 - accuracy: 0.82 - ETA: 2s - loss: 0.5827 - accuracy: 0.82 - ETA: 2s - loss: 0.5685 - accuracy: 0.82 - ETA: 2s - loss: 0.5578 - accuracy: 0.83 - ETA: 1s - loss: 0.5668 - accuracy: 0.82 - ETA: 1s - loss: 0.5703 - accuracy: 0.82 - ETA: 1s - loss: 0.5708 - accuracy: 0.82 - ETA: 1s - loss: 0.5652 - accuracy: 0.82 - ETA: 1s - loss: 0.5688 - accuracy: 0.82 - ETA: 1s - loss: 0.5690 - accuracy: 0.82 - ETA: 1s - loss: 0.5694 - accuracy: 0.82 - ETA: 1s - loss: 0.5666 - accuracy: 0.82 - ETA: 1s - loss: 0.5659 - accuracy: 0.82 - ETA: 1s - loss: 0.5661 - accuracy: 0.82 - ETA: 1s - loss: 0.5663 - accuracy: 0.82 - ETA: 1s - loss: 0.5653 - accuracy: 0.82 - ETA: 1s - loss: 0.5635 - accuracy: 0.82 - ETA: 1s - loss: 0.5648 - accuracy: 0.82 - ETA: 1s - loss: 0.5657 - accuracy: 0.82 - ETA: 1s - loss: 0.5651 - accuracy: 0.82 - ETA: 1s - loss: 0.5652 - accuracy: 0.82 - ETA: 1s - loss: 0.5664 - accuracy: 0.82 - ETA: 1s - loss: 0.5669 - accuracy: 0.82 - ETA: 1s - loss: 0.5674 - accuracy: 0.82 - ETA: 0s - loss: 0.5670 - accuracy: 0.82 - ETA: 0s - loss: 0.5661 - accuracy: 0.82 - ETA: 0s - loss: 0.5664 - accuracy: 0.82 - ETA: 0s - loss: 0.5653 - accuracy: 0.82 - ETA: 0s - loss: 0.5656 - accuracy: 0.82 - ETA: 0s - loss: 0.5657 - accuracy: 0.82 - ETA: 0s - loss: 0.5659 - accuracy: 0.82 - ETA: 0s - loss: 0.5657 - accuracy: 0.82 - ETA: 0s - loss: 0.5666 - accuracy: 0.82 - ETA: 0s - loss: 0.5674 - accuracy: 0.82 - ETA: 0s - loss: 0.5672 - accuracy: 0.82 - ETA: 0s - loss: 0.5662 - accuracy: 0.82 - ETA: 0s - loss: 0.5665 - accuracy: 0.82 - ETA: 0s - loss: 0.5669 - accuracy: 0.82 - ETA: 0s - loss: 0.5674 - accuracy: 0.82 - ETA: 0s - loss: 0.5682 - accuracy: 0.82 - ETA: 0s - loss: 0.5695 - accuracy: 0.82 - ETA: 0s - loss: 0.5693 - accuracy: 0.82 - ETA: 0s - loss: 0.5701 - accuracy: 0.82 - ETA: 0s - loss: 0.5703 - accuracy: 0.82 - ETA: 0s - loss: 0.5709 - accuracy: 0.82 - 2s 973us/step - loss: 0.5707 - accuracy: 0.8285 - val_loss: 0.6348 - val_accuracy: 0.8076\n",
      "Epoch 28/32\n",
      "2500/2500 [==============================] - ETA: 0s - loss: 0.2305 - accuracy: 0.96 - ETA: 2s - loss: 0.5400 - accuracy: 0.83 - ETA: 2s - loss: 0.5614 - accuracy: 0.83 - ETA: 2s - loss: 0.5696 - accuracy: 0.83 - ETA: 2s - loss: 0.5626 - accuracy: 0.83 - ETA: 1s - loss: 0.5721 - accuracy: 0.83 - ETA: 1s - loss: 0.5694 - accuracy: 0.83 - ETA: 1s - loss: 0.5625 - accuracy: 0.83 - ETA: 1s - loss: 0.5662 - accuracy: 0.83 - ETA: 1s - loss: 0.5633 - accuracy: 0.83 - ETA: 1s - loss: 0.5599 - accuracy: 0.83 - ETA: 1s - loss: 0.5598 - accuracy: 0.83 - ETA: 1s - loss: 0.5590 - accuracy: 0.83 - ETA: 1s - loss: 0.5577 - accuracy: 0.83 - ETA: 1s - loss: 0.5566 - accuracy: 0.83 - ETA: 1s - loss: 0.5578 - accuracy: 0.83 - ETA: 1s - loss: 0.5571 - accuracy: 0.83 - ETA: 1s - loss: 0.5583 - accuracy: 0.83 - ETA: 1s - loss: 0.5586 - accuracy: 0.83 - ETA: 1s - loss: 0.5609 - accuracy: 0.83 - ETA: 1s - loss: 0.5615 - accuracy: 0.83 - ETA: 1s - loss: 0.5606 - accuracy: 0.83 - ETA: 1s - loss: 0.5600 - accuracy: 0.83 - ETA: 1s - loss: 0.5593 - accuracy: 0.83 - ETA: 1s - loss: 0.5605 - accuracy: 0.83 - ETA: 0s - loss: 0.5606 - accuracy: 0.83 - ETA: 0s - loss: 0.5611 - accuracy: 0.83 - ETA: 0s - loss: 0.5627 - accuracy: 0.83 - ETA: 0s - loss: 0.5643 - accuracy: 0.83 - ETA: 0s - loss: 0.5652 - accuracy: 0.83 - ETA: 0s - loss: 0.5649 - accuracy: 0.83 - ETA: 0s - loss: 0.5638 - accuracy: 0.83 - ETA: 0s - loss: 0.5644 - accuracy: 0.83 - ETA: 0s - loss: 0.5635 - accuracy: 0.83 - ETA: 0s - loss: 0.5632 - accuracy: 0.83 - ETA: 0s - loss: 0.5645 - accuracy: 0.83 - ETA: 0s - loss: 0.5647 - accuracy: 0.83 - ETA: 0s - loss: 0.5656 - accuracy: 0.83 - ETA: 0s - loss: 0.5657 - accuracy: 0.83 - ETA: 0s - loss: 0.5656 - accuracy: 0.83 - ETA: 0s - loss: 0.5665 - accuracy: 0.83 - ETA: 0s - loss: 0.5672 - accuracy: 0.83 - ETA: 0s - loss: 0.5676 - accuracy: 0.83 - ETA: 0s - loss: 0.5676 - accuracy: 0.83 - ETA: 0s - loss: 0.5679 - accuracy: 0.82 - 2s 963us/step - loss: 0.5671 - accuracy: 0.8300 - val_loss: 0.6359 - val_accuracy: 0.8113\n",
      "Epoch 29/32\n",
      "2500/2500 [==============================] - ETA: 0s - loss: 0.7499 - accuracy: 0.75 - ETA: 2s - loss: 0.5785 - accuracy: 0.82 - ETA: 2s - loss: 0.5805 - accuracy: 0.83 - ETA: 2s - loss: 0.5659 - accuracy: 0.83 - ETA: 2s - loss: 0.5672 - accuracy: 0.83 - ETA: 1s - loss: 0.5610 - accuracy: 0.83 - ETA: 1s - loss: 0.5630 - accuracy: 0.83 - ETA: 1s - loss: 0.5637 - accuracy: 0.83 - ETA: 1s - loss: 0.5607 - accuracy: 0.83 - ETA: 1s - loss: 0.5626 - accuracy: 0.83 - ETA: 1s - loss: 0.5593 - accuracy: 0.83 - ETA: 1s - loss: 0.5584 - accuracy: 0.83 - ETA: 1s - loss: 0.5560 - accuracy: 0.83 - ETA: 1s - loss: 0.5560 - accuracy: 0.83 - ETA: 1s - loss: 0.5564 - accuracy: 0.83 - ETA: 1s - loss: 0.5573 - accuracy: 0.83 - ETA: 1s - loss: 0.5582 - accuracy: 0.83 - ETA: 1s - loss: 0.5606 - accuracy: 0.83 - ETA: 1s - loss: 0.5608 - accuracy: 0.83 - ETA: 1s - loss: 0.5602 - accuracy: 0.83 - ETA: 1s - loss: 0.5602 - accuracy: 0.83 - ETA: 1s - loss: 0.5620 - accuracy: 0.83 - ETA: 1s - loss: 0.5614 - accuracy: 0.83 - ETA: 1s - loss: 0.5617 - accuracy: 0.83 - ETA: 1s - loss: 0.5642 - accuracy: 0.83 - ETA: 0s - loss: 0.5649 - accuracy: 0.83 - ETA: 0s - loss: 0.5647 - accuracy: 0.83 - ETA: 0s - loss: 0.5659 - accuracy: 0.83 - ETA: 0s - loss: 0.5647 - accuracy: 0.83 - ETA: 0s - loss: 0.5638 - accuracy: 0.83 - ETA: 0s - loss: 0.5625 - accuracy: 0.83 - ETA: 0s - loss: 0.5621 - accuracy: 0.83 - ETA: 0s - loss: 0.5621 - accuracy: 0.83 - ETA: 0s - loss: 0.5625 - accuracy: 0.83 - ETA: 0s - loss: 0.5612 - accuracy: 0.83 - ETA: 0s - loss: 0.5613 - accuracy: 0.83 - ETA: 0s - loss: 0.5609 - accuracy: 0.83 - ETA: 0s - loss: 0.5612 - accuracy: 0.83 - ETA: 0s - loss: 0.5604 - accuracy: 0.83 - ETA: 0s - loss: 0.5610 - accuracy: 0.83 - ETA: 0s - loss: 0.5607 - accuracy: 0.83 - ETA: 0s - loss: 0.5620 - accuracy: 0.83 - ETA: 0s - loss: 0.5624 - accuracy: 0.83 - ETA: 0s - loss: 0.5626 - accuracy: 0.83 - ETA: 0s - loss: 0.5620 - accuracy: 0.83 - 2s 962us/step - loss: 0.5622 - accuracy: 0.8313 - val_loss: 0.6415 - val_accuracy: 0.8120\n",
      "Epoch 30/32\n",
      "2500/2500 [==============================] - ETA: 0s - loss: 0.4024 - accuracy: 0.90 - ETA: 2s - loss: 0.6025 - accuracy: 0.82 - ETA: 2s - loss: 0.5963 - accuracy: 0.82 - ETA: 2s - loss: 0.6004 - accuracy: 0.82 - ETA: 2s - loss: 0.6008 - accuracy: 0.82 - ETA: 1s - loss: 0.5859 - accuracy: 0.82 - ETA: 1s - loss: 0.5823 - accuracy: 0.82 - ETA: 1s - loss: 0.5818 - accuracy: 0.82 - ETA: 1s - loss: 0.5787 - accuracy: 0.82 - ETA: 1s - loss: 0.5828 - accuracy: 0.82 - ETA: 1s - loss: 0.5824 - accuracy: 0.82 - ETA: 1s - loss: 0.5795 - accuracy: 0.82 - ETA: 1s - loss: 0.5789 - accuracy: 0.82 - ETA: 1s - loss: 0.5760 - accuracy: 0.82 - ETA: 1s - loss: 0.5752 - accuracy: 0.82 - ETA: 1s - loss: 0.5745 - accuracy: 0.82 - ETA: 1s - loss: 0.5760 - accuracy: 0.82 - ETA: 1s - loss: 0.5718 - accuracy: 0.82 - ETA: 1s - loss: 0.5701 - accuracy: 0.83 - ETA: 1s - loss: 0.5679 - accuracy: 0.83 - ETA: 1s - loss: 0.5691 - accuracy: 0.83 - ETA: 1s - loss: 0.5677 - accuracy: 0.83 - ETA: 1s - loss: 0.5679 - accuracy: 0.83 - ETA: 1s - loss: 0.5678 - accuracy: 0.83 - ETA: 1s - loss: 0.5683 - accuracy: 0.82 - ETA: 0s - loss: 0.5679 - accuracy: 0.82 - ETA: 0s - loss: 0.5691 - accuracy: 0.82 - ETA: 0s - loss: 0.5682 - accuracy: 0.82 - ETA: 0s - loss: 0.5667 - accuracy: 0.82 - ETA: 0s - loss: 0.5668 - accuracy: 0.82 - ETA: 0s - loss: 0.5667 - accuracy: 0.82 - ETA: 0s - loss: 0.5662 - accuracy: 0.82 - ETA: 0s - loss: 0.5649 - accuracy: 0.83 - ETA: 0s - loss: 0.5643 - accuracy: 0.83 - ETA: 0s - loss: 0.5635 - accuracy: 0.83 - ETA: 0s - loss: 0.5634 - accuracy: 0.83 - ETA: 0s - loss: 0.5639 - accuracy: 0.83 - ETA: 0s - loss: 0.5630 - accuracy: 0.83 - ETA: 0s - loss: 0.5610 - accuracy: 0.83 - ETA: 0s - loss: 0.5615 - accuracy: 0.83 - ETA: 0s - loss: 0.5621 - accuracy: 0.83 - ETA: 0s - loss: 0.5622 - accuracy: 0.83 - ETA: 0s - loss: 0.5623 - accuracy: 0.83 - ETA: 0s - loss: 0.5627 - accuracy: 0.83 - ETA: 0s - loss: 0.5621 - accuracy: 0.83 - 2s 976us/step - loss: 0.5624 - accuracy: 0.8314 - val_loss: 0.6319 - val_accuracy: 0.8135\n",
      "Epoch 31/32\n",
      "2500/2500 [==============================] - ETA: 0s - loss: 0.6602 - accuracy: 0.81 - ETA: 2s - loss: 0.5262 - accuracy: 0.83 - ETA: 2s - loss: 0.5326 - accuracy: 0.83 - ETA: 2s - loss: 0.5570 - accuracy: 0.83 - ETA: 2s - loss: 0.5537 - accuracy: 0.83 - ETA: 2s - loss: 0.5519 - accuracy: 0.83 - ETA: 1s - loss: 0.5560 - accuracy: 0.83 - ETA: 1s - loss: 0.5559 - accuracy: 0.83 - ETA: 1s - loss: 0.5525 - accuracy: 0.83 - ETA: 1s - loss: 0.5524 - accuracy: 0.83 - ETA: 1s - loss: 0.5507 - accuracy: 0.83 - ETA: 1s - loss: 0.5524 - accuracy: 0.83 - ETA: 1s - loss: 0.5520 - accuracy: 0.83 - ETA: 1s - loss: 0.5532 - accuracy: 0.83 - ETA: 1s - loss: 0.5525 - accuracy: 0.83 - ETA: 1s - loss: 0.5542 - accuracy: 0.83 - ETA: 1s - loss: 0.5571 - accuracy: 0.83 - ETA: 1s - loss: 0.5584 - accuracy: 0.83 - ETA: 1s - loss: 0.5579 - accuracy: 0.83 - ETA: 1s - loss: 0.5584 - accuracy: 0.83 - ETA: 1s - loss: 0.5570 - accuracy: 0.83 - ETA: 1s - loss: 0.5576 - accuracy: 0.83 - ETA: 1s - loss: 0.5575 - accuracy: 0.83 - ETA: 1s - loss: 0.5574 - accuracy: 0.83 - ETA: 1s - loss: 0.5569 - accuracy: 0.83 - ETA: 0s - loss: 0.5566 - accuracy: 0.83 - ETA: 0s - loss: 0.5569 - accuracy: 0.83 - ETA: 0s - loss: 0.5568 - accuracy: 0.83 - ETA: 0s - loss: 0.5570 - accuracy: 0.83 - ETA: 0s - loss: 0.5563 - accuracy: 0.83 - ETA: 0s - loss: 0.5563 - accuracy: 0.83 - ETA: 0s - loss: 0.5577 - accuracy: 0.83 - ETA: 0s - loss: 0.5585 - accuracy: 0.83 - ETA: 0s - loss: 0.5583 - accuracy: 0.83 - ETA: 0s - loss: 0.5585 - accuracy: 0.83 - ETA: 0s - loss: 0.5578 - accuracy: 0.83 - ETA: 0s - loss: 0.5571 - accuracy: 0.83 - ETA: 0s - loss: 0.5570 - accuracy: 0.83 - ETA: 0s - loss: 0.5580 - accuracy: 0.83 - ETA: 0s - loss: 0.5579 - accuracy: 0.83 - ETA: 0s - loss: 0.5578 - accuracy: 0.83 - ETA: 0s - loss: 0.5578 - accuracy: 0.83 - ETA: 0s - loss: 0.5582 - accuracy: 0.83 - ETA: 0s - loss: 0.5590 - accuracy: 0.83 - ETA: 0s - loss: 0.5590 - accuracy: 0.83 - 2s 963us/step - loss: 0.5585 - accuracy: 0.8318 - val_loss: 0.6343 - val_accuracy: 0.8124\n",
      "Epoch 32/32\n",
      "2500/2500 [==============================] - ETA: 0s - loss: 0.3164 - accuracy: 0.87 - ETA: 2s - loss: 0.5445 - accuracy: 0.84 - ETA: 2s - loss: 0.5447 - accuracy: 0.84 - ETA: 2s - loss: 0.5378 - accuracy: 0.84 - ETA: 2s - loss: 0.5395 - accuracy: 0.84 - ETA: 1s - loss: 0.5441 - accuracy: 0.83 - ETA: 1s - loss: 0.5496 - accuracy: 0.83 - ETA: 1s - loss: 0.5468 - accuracy: 0.83 - ETA: 1s - loss: 0.5492 - accuracy: 0.83 - ETA: 1s - loss: 0.5518 - accuracy: 0.83 - ETA: 1s - loss: 0.5513 - accuracy: 0.83 - ETA: 1s - loss: 0.5503 - accuracy: 0.83 - ETA: 1s - loss: 0.5482 - accuracy: 0.83 - ETA: 1s - loss: 0.5485 - accuracy: 0.83 - ETA: 1s - loss: 0.5486 - accuracy: 0.83 - ETA: 1s - loss: 0.5491 - accuracy: 0.83 - ETA: 1s - loss: 0.5508 - accuracy: 0.83 - ETA: 1s - loss: 0.5505 - accuracy: 0.83 - ETA: 1s - loss: 0.5492 - accuracy: 0.83 - ETA: 1s - loss: 0.5517 - accuracy: 0.83 - ETA: 1s - loss: 0.5505 - accuracy: 0.83 - ETA: 1s - loss: 0.5501 - accuracy: 0.83 - ETA: 1s - loss: 0.5513 - accuracy: 0.83 - ETA: 1s - loss: 0.5519 - accuracy: 0.83 - ETA: 1s - loss: 0.5524 - accuracy: 0.83 - ETA: 1s - loss: 0.5511 - accuracy: 0.83 - ETA: 0s - loss: 0.5506 - accuracy: 0.83 - ETA: 0s - loss: 0.5517 - accuracy: 0.83 - ETA: 0s - loss: 0.5505 - accuracy: 0.83 - ETA: 0s - loss: 0.5511 - accuracy: 0.83 - ETA: 0s - loss: 0.5504 - accuracy: 0.83 - ETA: 0s - loss: 0.5508 - accuracy: 0.83 - ETA: 0s - loss: 0.5510 - accuracy: 0.83 - ETA: 0s - loss: 0.5512 - accuracy: 0.83 - ETA: 0s - loss: 0.5522 - accuracy: 0.83 - ETA: 0s - loss: 0.5525 - accuracy: 0.83 - ETA: 0s - loss: 0.5528 - accuracy: 0.83 - ETA: 0s - loss: 0.5521 - accuracy: 0.83 - ETA: 0s - loss: 0.5523 - accuracy: 0.83 - ETA: 0s - loss: 0.5525 - accuracy: 0.83 - ETA: 0s - loss: 0.5529 - accuracy: 0.83 - ETA: 0s - loss: 0.5523 - accuracy: 0.83 - ETA: 0s - loss: 0.5530 - accuracy: 0.83 - ETA: 0s - loss: 0.5520 - accuracy: 0.83 - ETA: 0s - loss: 0.5512 - accuracy: 0.83 - ETA: 0s - loss: 0.5511 - accuracy: 0.83 - 2s 980us/step - loss: 0.5510 - accuracy: 0.8350 - val_loss: 0.6376 - val_accuracy: 0.8116\n",
      "Epoch 1/32\n",
      "2500/2500 [==============================] - ETA: 0s - loss: 3.4216 - accuracy: 0.0000e+ - ETA: 2s - loss: 3.0299 - accuracy: 0.1528   - ETA: 2s - loss: 2.7724 - accuracy: 0.17 - ETA: 2s - loss: 2.6134 - accuracy: 0.17 - ETA: 2s - loss: 2.5088 - accuracy: 0.18 - ETA: 1s - loss: 2.4327 - accuracy: 0.19 - ETA: 1s - loss: 2.3687 - accuracy: 0.21 - ETA: 1s - loss: 2.3170 - accuracy: 0.22 - ETA: 1s - loss: 2.2658 - accuracy: 0.24 - ETA: 1s - loss: 2.2116 - accuracy: 0.26 - ETA: 1s - loss: 2.1597 - accuracy: 0.28 - ETA: 1s - loss: 2.1120 - accuracy: 0.30 - ETA: 1s - loss: 2.0677 - accuracy: 0.31 - ETA: 1s - loss: 2.0310 - accuracy: 0.32 - ETA: 1s - loss: 1.9939 - accuracy: 0.34 - ETA: 1s - loss: 1.9592 - accuracy: 0.35 - ETA: 1s - loss: 1.9270 - accuracy: 0.36 - ETA: 1s - loss: 1.8945 - accuracy: 0.37 - ETA: 1s - loss: 1.8633 - accuracy: 0.38 - ETA: 1s - loss: 1.8373 - accuracy: 0.39 - ETA: 1s - loss: 1.8137 - accuracy: 0.39 - ETA: 1s - loss: 1.7912 - accuracy: 0.40 - ETA: 1s - loss: 1.7681 - accuracy: 0.41 - ETA: 1s - loss: 1.7478 - accuracy: 0.42 - ETA: 1s - loss: 1.7282 - accuracy: 0.42 - ETA: 0s - loss: 1.7087 - accuracy: 0.43 - ETA: 0s - loss: 1.6911 - accuracy: 0.44 - ETA: 0s - loss: 1.6743 - accuracy: 0.44 - ETA: 0s - loss: 1.6574 - accuracy: 0.45 - ETA: 0s - loss: 1.6419 - accuracy: 0.45 - ETA: 0s - loss: 1.6267 - accuracy: 0.46 - ETA: 0s - loss: 1.6129 - accuracy: 0.46 - ETA: 0s - loss: 1.5991 - accuracy: 0.47 - ETA: 0s - loss: 1.5878 - accuracy: 0.47 - ETA: 0s - loss: 1.5756 - accuracy: 0.48 - ETA: 0s - loss: 1.5648 - accuracy: 0.48 - ETA: 0s - loss: 1.5526 - accuracy: 0.49 - ETA: 0s - loss: 1.5432 - accuracy: 0.49 - ETA: 0s - loss: 1.5331 - accuracy: 0.49 - ETA: 0s - loss: 1.5238 - accuracy: 0.50 - ETA: 0s - loss: 1.5132 - accuracy: 0.50 - ETA: 0s - loss: 1.5030 - accuracy: 0.50 - ETA: 0s - loss: 1.4950 - accuracy: 0.51 - ETA: 0s - loss: 1.4862 - accuracy: 0.51 - ETA: 0s - loss: 1.4770 - accuracy: 0.51 - ETA: 0s - loss: 1.4703 - accuracy: 0.51 - 3s 1ms/step - loss: 1.4700 - accuracy: 0.5184 - val_loss: 1.0820 - val_accuracy: 0.6504\n",
      "Epoch 2/32\n",
      "2500/2500 [==============================] - ETA: 0s - loss: 1.2471 - accuracy: 0.68 - ETA: 2s - loss: 1.0622 - accuracy: 0.65 - ETA: 2s - loss: 1.0777 - accuracy: 0.65 - ETA: 2s - loss: 1.0812 - accuracy: 0.65 - ETA: 2s - loss: 1.0772 - accuracy: 0.64 - ETA: 1s - loss: 1.0714 - accuracy: 0.65 - ETA: 1s - loss: 1.0679 - accuracy: 0.65 - ETA: 1s - loss: 1.0647 - accuracy: 0.65 - ETA: 1s - loss: 1.0610 - accuracy: 0.65 - ETA: 1s - loss: 1.0589 - accuracy: 0.66 - ETA: 1s - loss: 1.0545 - accuracy: 0.66 - ETA: 1s - loss: 1.0457 - accuracy: 0.66 - ETA: 1s - loss: 1.0421 - accuracy: 0.66 - ETA: 1s - loss: 1.0379 - accuracy: 0.66 - ETA: 1s - loss: 1.0357 - accuracy: 0.66 - ETA: 1s - loss: 1.0327 - accuracy: 0.66 - ETA: 1s - loss: 1.0305 - accuracy: 0.66 - ETA: 1s - loss: 1.0299 - accuracy: 0.66 - ETA: 1s - loss: 1.0288 - accuracy: 0.66 - ETA: 1s - loss: 1.0303 - accuracy: 0.66 - ETA: 1s - loss: 1.0304 - accuracy: 0.66 - ETA: 1s - loss: 1.0300 - accuracy: 0.66 - ETA: 1s - loss: 1.0273 - accuracy: 0.67 - ETA: 1s - loss: 1.0233 - accuracy: 0.67 - ETA: 1s - loss: 1.0223 - accuracy: 0.67 - ETA: 0s - loss: 1.0204 - accuracy: 0.67 - ETA: 0s - loss: 1.0183 - accuracy: 0.67 - ETA: 0s - loss: 1.0183 - accuracy: 0.67 - ETA: 0s - loss: 1.0166 - accuracy: 0.67 - ETA: 0s - loss: 1.0159 - accuracy: 0.67 - ETA: 0s - loss: 1.0149 - accuracy: 0.67 - ETA: 0s - loss: 1.0148 - accuracy: 0.67 - ETA: 0s - loss: 1.0127 - accuracy: 0.67 - ETA: 0s - loss: 1.0113 - accuracy: 0.67 - ETA: 0s - loss: 1.0098 - accuracy: 0.67 - ETA: 0s - loss: 1.0092 - accuracy: 0.67 - ETA: 0s - loss: 1.0070 - accuracy: 0.67 - ETA: 0s - loss: 1.0064 - accuracy: 0.67 - ETA: 0s - loss: 1.0047 - accuracy: 0.67 - ETA: 0s - loss: 1.0036 - accuracy: 0.67 - ETA: 0s - loss: 1.0023 - accuracy: 0.67 - ETA: 0s - loss: 1.0004 - accuracy: 0.68 - ETA: 0s - loss: 0.9979 - accuracy: 0.68 - ETA: 0s - loss: 0.9958 - accuracy: 0.68 - ETA: 0s - loss: 0.9954 - accuracy: 0.68 - 2s 963us/step - loss: 0.9953 - accuracy: 0.6823 - val_loss: 0.9332 - val_accuracy: 0.7023\n",
      "Epoch 3/32\n",
      "2500/2500 [==============================] - ETA: 0s - loss: 0.7221 - accuracy: 0.84 - ETA: 2s - loss: 0.8937 - accuracy: 0.72 - ETA: 2s - loss: 0.8941 - accuracy: 0.72 - ETA: 2s - loss: 0.8962 - accuracy: 0.72 - ETA: 1s - loss: 0.8991 - accuracy: 0.72 - ETA: 1s - loss: 0.9008 - accuracy: 0.71 - ETA: 1s - loss: 0.9085 - accuracy: 0.71 - ETA: 1s - loss: 0.9083 - accuracy: 0.71 - ETA: 1s - loss: 0.9095 - accuracy: 0.71 - ETA: 1s - loss: 0.9068 - accuracy: 0.71 - ETA: 1s - loss: 0.9041 - accuracy: 0.71 - ETA: 1s - loss: 0.9062 - accuracy: 0.71 - ETA: 1s - loss: 0.9036 - accuracy: 0.71 - ETA: 1s - loss: 0.9037 - accuracy: 0.71 - ETA: 1s - loss: 0.9010 - accuracy: 0.71 - ETA: 1s - loss: 0.9011 - accuracy: 0.71 - ETA: 1s - loss: 0.9007 - accuracy: 0.71 - ETA: 1s - loss: 0.9017 - accuracy: 0.71 - ETA: 1s - loss: 0.9029 - accuracy: 0.71 - ETA: 1s - loss: 0.9034 - accuracy: 0.71 - ETA: 1s - loss: 0.9026 - accuracy: 0.71 - ETA: 1s - loss: 0.8996 - accuracy: 0.71 - ETA: 1s - loss: 0.8992 - accuracy: 0.71 - ETA: 1s - loss: 0.8976 - accuracy: 0.71 - ETA: 1s - loss: 0.8975 - accuracy: 0.71 - ETA: 0s - loss: 0.8976 - accuracy: 0.71 - ETA: 0s - loss: 0.8970 - accuracy: 0.71 - ETA: 0s - loss: 0.8967 - accuracy: 0.71 - ETA: 0s - loss: 0.8961 - accuracy: 0.71 - ETA: 0s - loss: 0.8962 - accuracy: 0.71 - ETA: 0s - loss: 0.8966 - accuracy: 0.71 - ETA: 0s - loss: 0.8959 - accuracy: 0.71 - ETA: 0s - loss: 0.8952 - accuracy: 0.71 - ETA: 0s - loss: 0.8939 - accuracy: 0.71 - ETA: 0s - loss: 0.8932 - accuracy: 0.71 - ETA: 0s - loss: 0.8927 - accuracy: 0.71 - ETA: 0s - loss: 0.8923 - accuracy: 0.71 - ETA: 0s - loss: 0.8924 - accuracy: 0.71 - ETA: 0s - loss: 0.8910 - accuracy: 0.71 - ETA: 0s - loss: 0.8914 - accuracy: 0.71 - ETA: 0s - loss: 0.8913 - accuracy: 0.71 - ETA: 0s - loss: 0.8910 - accuracy: 0.71 - ETA: 0s - loss: 0.8896 - accuracy: 0.71 - ETA: 0s - loss: 0.8891 - accuracy: 0.71 - ETA: 0s - loss: 0.8886 - accuracy: 0.72 - ETA: 0s - loss: 0.8878 - accuracy: 0.72 - 2s 970us/step - loss: 0.8880 - accuracy: 0.7204 - val_loss: 0.8676 - val_accuracy: 0.7286\n",
      "Epoch 4/32\n",
      "2500/2500 [==============================] - ETA: 0s - loss: 0.8078 - accuracy: 0.81 - ETA: 2s - loss: 0.8667 - accuracy: 0.72 - ETA: 2s - loss: 0.8746 - accuracy: 0.73 - ETA: 2s - loss: 0.8596 - accuracy: 0.73 - ETA: 2s - loss: 0.8473 - accuracy: 0.74 - ETA: 1s - loss: 0.8484 - accuracy: 0.73 - ETA: 1s - loss: 0.8474 - accuracy: 0.73 - ETA: 1s - loss: 0.8455 - accuracy: 0.73 - ETA: 1s - loss: 0.8337 - accuracy: 0.74 - ETA: 1s - loss: 0.8346 - accuracy: 0.73 - ETA: 1s - loss: 0.8363 - accuracy: 0.73 - ETA: 1s - loss: 0.8351 - accuracy: 0.73 - ETA: 1s - loss: 0.8350 - accuracy: 0.73 - ETA: 1s - loss: 0.8360 - accuracy: 0.73 - ETA: 1s - loss: 0.8357 - accuracy: 0.73 - ETA: 1s - loss: 0.8369 - accuracy: 0.73 - ETA: 1s - loss: 0.8337 - accuracy: 0.73 - ETA: 1s - loss: 0.8354 - accuracy: 0.73 - ETA: 1s - loss: 0.8349 - accuracy: 0.73 - ETA: 1s - loss: 0.8339 - accuracy: 0.73 - ETA: 1s - loss: 0.8352 - accuracy: 0.73 - ETA: 1s - loss: 0.8383 - accuracy: 0.73 - ETA: 1s - loss: 0.8390 - accuracy: 0.73 - ETA: 1s - loss: 0.8370 - accuracy: 0.73 - ETA: 1s - loss: 0.8354 - accuracy: 0.73 - ETA: 0s - loss: 0.8337 - accuracy: 0.73 - ETA: 0s - loss: 0.8346 - accuracy: 0.73 - ETA: 0s - loss: 0.8340 - accuracy: 0.73 - ETA: 0s - loss: 0.8336 - accuracy: 0.73 - ETA: 0s - loss: 0.8325 - accuracy: 0.73 - ETA: 0s - loss: 0.8316 - accuracy: 0.73 - ETA: 0s - loss: 0.8316 - accuracy: 0.73 - ETA: 0s - loss: 0.8317 - accuracy: 0.73 - ETA: 0s - loss: 0.8316 - accuracy: 0.73 - ETA: 0s - loss: 0.8320 - accuracy: 0.73 - ETA: 0s - loss: 0.8323 - accuracy: 0.73 - ETA: 0s - loss: 0.8326 - accuracy: 0.73 - ETA: 0s - loss: 0.8322 - accuracy: 0.73 - ETA: 0s - loss: 0.8323 - accuracy: 0.73 - ETA: 0s - loss: 0.8330 - accuracy: 0.73 - ETA: 0s - loss: 0.8328 - accuracy: 0.73 - ETA: 0s - loss: 0.8319 - accuracy: 0.73 - ETA: 0s - loss: 0.8320 - accuracy: 0.73 - ETA: 0s - loss: 0.8312 - accuracy: 0.73 - ETA: 0s - loss: 0.8321 - accuracy: 0.73 - 2s 965us/step - loss: 0.8322 - accuracy: 0.7394 - val_loss: 0.8282 - val_accuracy: 0.7387\n",
      "Epoch 5/32\n",
      "2500/2500 [==============================] - ETA: 0s - loss: 0.9508 - accuracy: 0.68 - ETA: 2s - loss: 0.8038 - accuracy: 0.75 - ETA: 2s - loss: 0.8008 - accuracy: 0.74 - ETA: 2s - loss: 0.8006 - accuracy: 0.75 - ETA: 2s - loss: 0.8057 - accuracy: 0.75 - ETA: 1s - loss: 0.8060 - accuracy: 0.75 - ETA: 1s - loss: 0.8051 - accuracy: 0.75 - ETA: 1s - loss: 0.8044 - accuracy: 0.75 - ETA: 1s - loss: 0.8033 - accuracy: 0.75 - ETA: 1s - loss: 0.8057 - accuracy: 0.75 - ETA: 1s - loss: 0.8032 - accuracy: 0.75 - ETA: 1s - loss: 0.8009 - accuracy: 0.75 - ETA: 1s - loss: 0.8054 - accuracy: 0.75 - ETA: 1s - loss: 0.8046 - accuracy: 0.75 - ETA: 1s - loss: 0.8081 - accuracy: 0.74 - ETA: 1s - loss: 0.8058 - accuracy: 0.75 - ETA: 1s - loss: 0.8060 - accuracy: 0.75 - ETA: 1s - loss: 0.8033 - accuracy: 0.75 - ETA: 1s - loss: 0.8029 - accuracy: 0.75 - ETA: 1s - loss: 0.8033 - accuracy: 0.75 - ETA: 1s - loss: 0.7995 - accuracy: 0.75 - ETA: 1s - loss: 0.7995 - accuracy: 0.75 - ETA: 1s - loss: 0.7987 - accuracy: 0.75 - ETA: 1s - loss: 0.7964 - accuracy: 0.75 - ETA: 1s - loss: 0.7949 - accuracy: 0.75 - ETA: 1s - loss: 0.7947 - accuracy: 0.75 - ETA: 0s - loss: 0.7940 - accuracy: 0.75 - ETA: 0s - loss: 0.7944 - accuracy: 0.75 - ETA: 0s - loss: 0.7938 - accuracy: 0.75 - ETA: 0s - loss: 0.7942 - accuracy: 0.75 - ETA: 0s - loss: 0.7943 - accuracy: 0.75 - ETA: 0s - loss: 0.7950 - accuracy: 0.75 - ETA: 0s - loss: 0.7939 - accuracy: 0.75 - ETA: 0s - loss: 0.7936 - accuracy: 0.75 - ETA: 0s - loss: 0.7939 - accuracy: 0.75 - ETA: 0s - loss: 0.7937 - accuracy: 0.75 - ETA: 0s - loss: 0.7935 - accuracy: 0.75 - ETA: 0s - loss: 0.7948 - accuracy: 0.75 - ETA: 0s - loss: 0.7933 - accuracy: 0.75 - ETA: 0s - loss: 0.7933 - accuracy: 0.75 - ETA: 0s - loss: 0.7930 - accuracy: 0.75 - ETA: 0s - loss: 0.7923 - accuracy: 0.75 - ETA: 0s - loss: 0.7923 - accuracy: 0.75 - ETA: 0s - loss: 0.7918 - accuracy: 0.75 - ETA: 0s - loss: 0.7915 - accuracy: 0.75 - ETA: 0s - loss: 0.7912 - accuracy: 0.75 - 2s 976us/step - loss: 0.7909 - accuracy: 0.7538 - val_loss: 0.7926 - val_accuracy: 0.7563\n",
      "Epoch 6/32\n",
      "2500/2500 [==============================] - ETA: 0s - loss: 0.8367 - accuracy: 0.75 - ETA: 2s - loss: 0.8474 - accuracy: 0.73 - ETA: 2s - loss: 0.8193 - accuracy: 0.74 - ETA: 2s - loss: 0.8162 - accuracy: 0.74 - ETA: 2s - loss: 0.7986 - accuracy: 0.75 - ETA: 1s - loss: 0.7945 - accuracy: 0.75 - ETA: 1s - loss: 0.7870 - accuracy: 0.75 - ETA: 1s - loss: 0.7827 - accuracy: 0.75 - ETA: 1s - loss: 0.7791 - accuracy: 0.75 - ETA: 1s - loss: 0.7755 - accuracy: 0.76 - ETA: 1s - loss: 0.7733 - accuracy: 0.76 - ETA: 1s - loss: 0.7722 - accuracy: 0.76 - ETA: 1s - loss: 0.7730 - accuracy: 0.76 - ETA: 1s - loss: 0.7712 - accuracy: 0.76 - ETA: 1s - loss: 0.7722 - accuracy: 0.76 - ETA: 1s - loss: 0.7689 - accuracy: 0.76 - ETA: 1s - loss: 0.7689 - accuracy: 0.76 - ETA: 1s - loss: 0.7639 - accuracy: 0.76 - ETA: 1s - loss: 0.7615 - accuracy: 0.76 - ETA: 1s - loss: 0.7609 - accuracy: 0.76 - ETA: 1s - loss: 0.7602 - accuracy: 0.76 - ETA: 1s - loss: 0.7617 - accuracy: 0.76 - ETA: 1s - loss: 0.7612 - accuracy: 0.76 - ETA: 1s - loss: 0.7608 - accuracy: 0.76 - ETA: 1s - loss: 0.7606 - accuracy: 0.76 - ETA: 1s - loss: 0.7597 - accuracy: 0.76 - ETA: 0s - loss: 0.7582 - accuracy: 0.76 - ETA: 0s - loss: 0.7570 - accuracy: 0.76 - ETA: 0s - loss: 0.7563 - accuracy: 0.76 - ETA: 0s - loss: 0.7568 - accuracy: 0.76 - ETA: 0s - loss: 0.7566 - accuracy: 0.76 - ETA: 0s - loss: 0.7570 - accuracy: 0.76 - ETA: 0s - loss: 0.7579 - accuracy: 0.76 - ETA: 0s - loss: 0.7590 - accuracy: 0.76 - ETA: 0s - loss: 0.7590 - accuracy: 0.76 - ETA: 0s - loss: 0.7593 - accuracy: 0.76 - ETA: 0s - loss: 0.7587 - accuracy: 0.76 - ETA: 0s - loss: 0.7571 - accuracy: 0.76 - ETA: 0s - loss: 0.7572 - accuracy: 0.76 - ETA: 0s - loss: 0.7563 - accuracy: 0.76 - ETA: 0s - loss: 0.7566 - accuracy: 0.76 - ETA: 0s - loss: 0.7564 - accuracy: 0.76 - ETA: 0s - loss: 0.7570 - accuracy: 0.76 - ETA: 0s - loss: 0.7568 - accuracy: 0.76 - ETA: 0s - loss: 0.7575 - accuracy: 0.76 - ETA: 0s - loss: 0.7577 - accuracy: 0.76 - 2s 976us/step - loss: 0.7579 - accuracy: 0.7648 - val_loss: 0.7714 - val_accuracy: 0.7617\n",
      "Epoch 7/32\n",
      "2500/2500 [==============================] - ETA: 0s - loss: 1.3232 - accuracy: 0.56 - ETA: 2s - loss: 0.7995 - accuracy: 0.74 - ETA: 2s - loss: 0.7670 - accuracy: 0.76 - ETA: 2s - loss: 0.7676 - accuracy: 0.76 - ETA: 2s - loss: 0.7474 - accuracy: 0.76 - ETA: 1s - loss: 0.7453 - accuracy: 0.76 - ETA: 1s - loss: 0.7447 - accuracy: 0.76 - ETA: 1s - loss: 0.7448 - accuracy: 0.76 - ETA: 1s - loss: 0.7459 - accuracy: 0.76 - ETA: 1s - loss: 0.7497 - accuracy: 0.76 - ETA: 1s - loss: 0.7500 - accuracy: 0.76 - ETA: 1s - loss: 0.7471 - accuracy: 0.76 - ETA: 1s - loss: 0.7452 - accuracy: 0.76 - ETA: 1s - loss: 0.7448 - accuracy: 0.76 - ETA: 1s - loss: 0.7453 - accuracy: 0.76 - ETA: 1s - loss: 0.7429 - accuracy: 0.76 - ETA: 1s - loss: 0.7435 - accuracy: 0.76 - ETA: 1s - loss: 0.7428 - accuracy: 0.76 - ETA: 1s - loss: 0.7418 - accuracy: 0.76 - ETA: 1s - loss: 0.7410 - accuracy: 0.76 - ETA: 1s - loss: 0.7405 - accuracy: 0.76 - ETA: 1s - loss: 0.7410 - accuracy: 0.76 - ETA: 1s - loss: 0.7412 - accuracy: 0.76 - ETA: 1s - loss: 0.7398 - accuracy: 0.76 - ETA: 1s - loss: 0.7392 - accuracy: 0.76 - ETA: 1s - loss: 0.7382 - accuracy: 0.76 - ETA: 0s - loss: 0.7384 - accuracy: 0.76 - ETA: 0s - loss: 0.7381 - accuracy: 0.77 - ETA: 0s - loss: 0.7390 - accuracy: 0.76 - ETA: 0s - loss: 0.7388 - accuracy: 0.76 - ETA: 0s - loss: 0.7391 - accuracy: 0.77 - ETA: 0s - loss: 0.7378 - accuracy: 0.77 - ETA: 0s - loss: 0.7379 - accuracy: 0.77 - ETA: 0s - loss: 0.7360 - accuracy: 0.77 - ETA: 0s - loss: 0.7359 - accuracy: 0.77 - ETA: 0s - loss: 0.7368 - accuracy: 0.77 - ETA: 0s - loss: 0.7357 - accuracy: 0.77 - ETA: 0s - loss: 0.7366 - accuracy: 0.77 - ETA: 0s - loss: 0.7374 - accuracy: 0.77 - ETA: 0s - loss: 0.7383 - accuracy: 0.77 - ETA: 0s - loss: 0.7388 - accuracy: 0.77 - ETA: 0s - loss: 0.7373 - accuracy: 0.77 - ETA: 0s - loss: 0.7368 - accuracy: 0.77 - ETA: 0s - loss: 0.7364 - accuracy: 0.77 - ETA: 0s - loss: 0.7362 - accuracy: 0.77 - 2s 967us/step - loss: 0.7349 - accuracy: 0.7720 - val_loss: 0.7487 - val_accuracy: 0.7677\n",
      "Epoch 8/32\n",
      "2500/2500 [==============================] - ETA: 0s - loss: 0.6321 - accuracy: 0.81 - ETA: 2s - loss: 0.7194 - accuracy: 0.76 - ETA: 2s - loss: 0.7288 - accuracy: 0.76 - ETA: 2s - loss: 0.7428 - accuracy: 0.76 - ETA: 2s - loss: 0.7407 - accuracy: 0.77 - ETA: 1s - loss: 0.7344 - accuracy: 0.77 - ETA: 1s - loss: 0.7283 - accuracy: 0.77 - ETA: 1s - loss: 0.7256 - accuracy: 0.77 - ETA: 1s - loss: 0.7290 - accuracy: 0.77 - ETA: 1s - loss: 0.7260 - accuracy: 0.77 - ETA: 1s - loss: 0.7264 - accuracy: 0.77 - ETA: 1s - loss: 0.7283 - accuracy: 0.77 - ETA: 1s - loss: 0.7274 - accuracy: 0.77 - ETA: 1s - loss: 0.7255 - accuracy: 0.77 - ETA: 1s - loss: 0.7282 - accuracy: 0.77 - ETA: 1s - loss: 0.7256 - accuracy: 0.77 - ETA: 1s - loss: 0.7262 - accuracy: 0.77 - ETA: 1s - loss: 0.7234 - accuracy: 0.77 - ETA: 1s - loss: 0.7215 - accuracy: 0.77 - ETA: 1s - loss: 0.7201 - accuracy: 0.77 - ETA: 1s - loss: 0.7193 - accuracy: 0.77 - ETA: 1s - loss: 0.7175 - accuracy: 0.78 - ETA: 1s - loss: 0.7176 - accuracy: 0.78 - ETA: 1s - loss: 0.7193 - accuracy: 0.77 - ETA: 1s - loss: 0.7194 - accuracy: 0.77 - ETA: 0s - loss: 0.7196 - accuracy: 0.77 - ETA: 0s - loss: 0.7176 - accuracy: 0.78 - ETA: 0s - loss: 0.7185 - accuracy: 0.77 - ETA: 0s - loss: 0.7169 - accuracy: 0.78 - ETA: 0s - loss: 0.7173 - accuracy: 0.78 - ETA: 0s - loss: 0.7170 - accuracy: 0.78 - ETA: 0s - loss: 0.7166 - accuracy: 0.78 - ETA: 0s - loss: 0.7154 - accuracy: 0.78 - ETA: 0s - loss: 0.7151 - accuracy: 0.78 - ETA: 0s - loss: 0.7148 - accuracy: 0.78 - ETA: 0s - loss: 0.7152 - accuracy: 0.78 - ETA: 0s - loss: 0.7148 - accuracy: 0.78 - ETA: 0s - loss: 0.7142 - accuracy: 0.78 - ETA: 0s - loss: 0.7145 - accuracy: 0.78 - ETA: 0s - loss: 0.7150 - accuracy: 0.78 - ETA: 0s - loss: 0.7150 - accuracy: 0.77 - ETA: 0s - loss: 0.7153 - accuracy: 0.77 - ETA: 0s - loss: 0.7162 - accuracy: 0.77 - ETA: 0s - loss: 0.7160 - accuracy: 0.77 - ETA: 0s - loss: 0.7168 - accuracy: 0.77 - 2s 965us/step - loss: 0.7161 - accuracy: 0.7794 - val_loss: 0.7418 - val_accuracy: 0.7732\n",
      "Epoch 9/32\n",
      "2500/2500 [==============================] - ETA: 0s - loss: 0.6561 - accuracy: 0.84 - ETA: 2s - loss: 0.7222 - accuracy: 0.78 - ETA: 2s - loss: 0.7275 - accuracy: 0.78 - ETA: 2s - loss: 0.7216 - accuracy: 0.78 - ETA: 2s - loss: 0.7028 - accuracy: 0.78 - ETA: 1s - loss: 0.7022 - accuracy: 0.78 - ETA: 1s - loss: 0.7019 - accuracy: 0.78 - ETA: 1s - loss: 0.7020 - accuracy: 0.78 - ETA: 1s - loss: 0.7014 - accuracy: 0.78 - ETA: 1s - loss: 0.7009 - accuracy: 0.78 - ETA: 1s - loss: 0.6976 - accuracy: 0.78 - ETA: 1s - loss: 0.6988 - accuracy: 0.78 - ETA: 1s - loss: 0.6992 - accuracy: 0.78 - ETA: 1s - loss: 0.6975 - accuracy: 0.78 - ETA: 1s - loss: 0.7005 - accuracy: 0.78 - ETA: 1s - loss: 0.7041 - accuracy: 0.78 - ETA: 1s - loss: 0.7061 - accuracy: 0.78 - ETA: 1s - loss: 0.7074 - accuracy: 0.78 - ETA: 1s - loss: 0.7092 - accuracy: 0.78 - ETA: 1s - loss: 0.7087 - accuracy: 0.78 - ETA: 1s - loss: 0.7074 - accuracy: 0.78 - ETA: 1s - loss: 0.7066 - accuracy: 0.78 - ETA: 1s - loss: 0.7065 - accuracy: 0.78 - ETA: 1s - loss: 0.7060 - accuracy: 0.78 - ETA: 1s - loss: 0.7052 - accuracy: 0.78 - ETA: 0s - loss: 0.7043 - accuracy: 0.78 - ETA: 0s - loss: 0.7055 - accuracy: 0.78 - ETA: 0s - loss: 0.7049 - accuracy: 0.78 - ETA: 0s - loss: 0.7060 - accuracy: 0.78 - ETA: 0s - loss: 0.7047 - accuracy: 0.78 - ETA: 0s - loss: 0.7056 - accuracy: 0.78 - ETA: 0s - loss: 0.7065 - accuracy: 0.78 - ETA: 0s - loss: 0.7053 - accuracy: 0.78 - ETA: 0s - loss: 0.7040 - accuracy: 0.78 - ETA: 0s - loss: 0.7045 - accuracy: 0.78 - ETA: 0s - loss: 0.7032 - accuracy: 0.78 - ETA: 0s - loss: 0.7033 - accuracy: 0.78 - ETA: 0s - loss: 0.7024 - accuracy: 0.78 - ETA: 0s - loss: 0.7029 - accuracy: 0.78 - ETA: 0s - loss: 0.7019 - accuracy: 0.78 - ETA: 0s - loss: 0.7011 - accuracy: 0.78 - ETA: 0s - loss: 0.7006 - accuracy: 0.78 - ETA: 0s - loss: 0.6997 - accuracy: 0.78 - ETA: 0s - loss: 0.6997 - accuracy: 0.78 - ETA: 0s - loss: 0.7002 - accuracy: 0.78 - 2s 960us/step - loss: 0.6989 - accuracy: 0.7855 - val_loss: 0.7228 - val_accuracy: 0.7833\n",
      "Epoch 10/32\n",
      "2500/2500 [==============================] - ETA: 0s - loss: 0.8687 - accuracy: 0.75 - ETA: 2s - loss: 0.7078 - accuracy: 0.78 - ETA: 2s - loss: 0.7173 - accuracy: 0.78 - ETA: 2s - loss: 0.7198 - accuracy: 0.77 - ETA: 2s - loss: 0.7009 - accuracy: 0.78 - ETA: 1s - loss: 0.6843 - accuracy: 0.79 - ETA: 1s - loss: 0.6848 - accuracy: 0.79 - ETA: 1s - loss: 0.6840 - accuracy: 0.79 - ETA: 1s - loss: 0.6826 - accuracy: 0.79 - ETA: 1s - loss: 0.6794 - accuracy: 0.79 - ETA: 1s - loss: 0.6857 - accuracy: 0.78 - ETA: 1s - loss: 0.6847 - accuracy: 0.79 - ETA: 1s - loss: 0.6873 - accuracy: 0.78 - ETA: 1s - loss: 0.6894 - accuracy: 0.78 - ETA: 1s - loss: 0.6871 - accuracy: 0.78 - ETA: 1s - loss: 0.6885 - accuracy: 0.78 - ETA: 1s - loss: 0.6884 - accuracy: 0.78 - ETA: 1s - loss: 0.6847 - accuracy: 0.78 - ETA: 1s - loss: 0.6860 - accuracy: 0.78 - ETA: 1s - loss: 0.6875 - accuracy: 0.78 - ETA: 1s - loss: 0.6876 - accuracy: 0.78 - ETA: 1s - loss: 0.6881 - accuracy: 0.78 - ETA: 1s - loss: 0.6885 - accuracy: 0.78 - ETA: 1s - loss: 0.6859 - accuracy: 0.78 - ETA: 1s - loss: 0.6871 - accuracy: 0.78 - ETA: 1s - loss: 0.6847 - accuracy: 0.78 - ETA: 0s - loss: 0.6846 - accuracy: 0.79 - ETA: 0s - loss: 0.6810 - accuracy: 0.79 - ETA: 0s - loss: 0.6822 - accuracy: 0.79 - ETA: 0s - loss: 0.6830 - accuracy: 0.78 - ETA: 0s - loss: 0.6829 - accuracy: 0.79 - ETA: 0s - loss: 0.6841 - accuracy: 0.78 - ETA: 0s - loss: 0.6832 - accuracy: 0.78 - ETA: 0s - loss: 0.6836 - accuracy: 0.78 - ETA: 0s - loss: 0.6838 - accuracy: 0.78 - ETA: 0s - loss: 0.6817 - accuracy: 0.79 - ETA: 0s - loss: 0.6821 - accuracy: 0.79 - ETA: 0s - loss: 0.6821 - accuracy: 0.79 - ETA: 0s - loss: 0.6834 - accuracy: 0.78 - ETA: 0s - loss: 0.6836 - accuracy: 0.78 - ETA: 0s - loss: 0.6841 - accuracy: 0.78 - ETA: 0s - loss: 0.6844 - accuracy: 0.78 - ETA: 0s - loss: 0.6841 - accuracy: 0.78 - ETA: 0s - loss: 0.6844 - accuracy: 0.78 - ETA: 0s - loss: 0.6843 - accuracy: 0.78 - ETA: 0s - loss: 0.6849 - accuracy: 0.78 - 2s 969us/step - loss: 0.6849 - accuracy: 0.7891 - val_loss: 0.7160 - val_accuracy: 0.7854\n",
      "Epoch 11/32\n",
      "2500/2500 [==============================] - ETA: 0s - loss: 0.8139 - accuracy: 0.75 - ETA: 2s - loss: 0.6679 - accuracy: 0.78 - ETA: 2s - loss: 0.6653 - accuracy: 0.78 - ETA: 2s - loss: 0.6474 - accuracy: 0.79 - ETA: 1s - loss: 0.6529 - accuracy: 0.79 - ETA: 1s - loss: 0.6560 - accuracy: 0.79 - ETA: 1s - loss: 0.6550 - accuracy: 0.79 - ETA: 1s - loss: 0.6617 - accuracy: 0.79 - ETA: 1s - loss: 0.6585 - accuracy: 0.79 - ETA: 1s - loss: 0.6601 - accuracy: 0.79 - ETA: 1s - loss: 0.6595 - accuracy: 0.79 - ETA: 1s - loss: 0.6600 - accuracy: 0.79 - ETA: 1s - loss: 0.6620 - accuracy: 0.79 - ETA: 1s - loss: 0.6659 - accuracy: 0.79 - ETA: 1s - loss: 0.6676 - accuracy: 0.79 - ETA: 1s - loss: 0.6684 - accuracy: 0.79 - ETA: 1s - loss: 0.6700 - accuracy: 0.79 - ETA: 1s - loss: 0.6720 - accuracy: 0.79 - ETA: 1s - loss: 0.6727 - accuracy: 0.79 - ETA: 1s - loss: 0.6707 - accuracy: 0.79 - ETA: 1s - loss: 0.6714 - accuracy: 0.79 - ETA: 1s - loss: 0.6704 - accuracy: 0.79 - ETA: 1s - loss: 0.6718 - accuracy: 0.79 - ETA: 1s - loss: 0.6731 - accuracy: 0.79 - ETA: 1s - loss: 0.6738 - accuracy: 0.79 - ETA: 0s - loss: 0.6746 - accuracy: 0.79 - ETA: 0s - loss: 0.6737 - accuracy: 0.79 - ETA: 0s - loss: 0.6735 - accuracy: 0.79 - ETA: 0s - loss: 0.6740 - accuracy: 0.79 - ETA: 0s - loss: 0.6737 - accuracy: 0.79 - ETA: 0s - loss: 0.6732 - accuracy: 0.79 - ETA: 0s - loss: 0.6736 - accuracy: 0.79 - ETA: 0s - loss: 0.6745 - accuracy: 0.79 - ETA: 0s - loss: 0.6744 - accuracy: 0.79 - ETA: 0s - loss: 0.6733 - accuracy: 0.79 - ETA: 0s - loss: 0.6724 - accuracy: 0.79 - ETA: 0s - loss: 0.6732 - accuracy: 0.79 - ETA: 0s - loss: 0.6719 - accuracy: 0.79 - ETA: 0s - loss: 0.6717 - accuracy: 0.79 - ETA: 0s - loss: 0.6717 - accuracy: 0.79 - ETA: 0s - loss: 0.6723 - accuracy: 0.79 - ETA: 0s - loss: 0.6725 - accuracy: 0.79 - ETA: 0s - loss: 0.6727 - accuracy: 0.79 - ETA: 0s - loss: 0.6731 - accuracy: 0.79 - ETA: 0s - loss: 0.6734 - accuracy: 0.79 - 2s 960us/step - loss: 0.6735 - accuracy: 0.7936 - val_loss: 0.7057 - val_accuracy: 0.7882\n",
      "Epoch 12/32\n",
      "2500/2500 [==============================] - ETA: 0s - loss: 0.7404 - accuracy: 0.71 - ETA: 2s - loss: 0.6852 - accuracy: 0.78 - ETA: 2s - loss: 0.6856 - accuracy: 0.78 - ETA: 2s - loss: 0.6927 - accuracy: 0.78 - ETA: 2s - loss: 0.6940 - accuracy: 0.78 - ETA: 1s - loss: 0.6896 - accuracy: 0.78 - ETA: 1s - loss: 0.6782 - accuracy: 0.78 - ETA: 1s - loss: 0.6754 - accuracy: 0.78 - ETA: 1s - loss: 0.6686 - accuracy: 0.79 - ETA: 1s - loss: 0.6666 - accuracy: 0.79 - ETA: 1s - loss: 0.6684 - accuracy: 0.79 - ETA: 1s - loss: 0.6706 - accuracy: 0.79 - ETA: 1s - loss: 0.6702 - accuracy: 0.79 - ETA: 1s - loss: 0.6695 - accuracy: 0.79 - ETA: 1s - loss: 0.6696 - accuracy: 0.79 - ETA: 1s - loss: 0.6648 - accuracy: 0.79 - ETA: 1s - loss: 0.6644 - accuracy: 0.79 - ETA: 1s - loss: 0.6617 - accuracy: 0.79 - ETA: 1s - loss: 0.6595 - accuracy: 0.79 - ETA: 1s - loss: 0.6600 - accuracy: 0.79 - ETA: 1s - loss: 0.6601 - accuracy: 0.79 - ETA: 1s - loss: 0.6614 - accuracy: 0.79 - ETA: 1s - loss: 0.6622 - accuracy: 0.79 - ETA: 1s - loss: 0.6625 - accuracy: 0.79 - ETA: 1s - loss: 0.6620 - accuracy: 0.79 - ETA: 0s - loss: 0.6622 - accuracy: 0.79 - ETA: 0s - loss: 0.6617 - accuracy: 0.79 - ETA: 0s - loss: 0.6636 - accuracy: 0.79 - ETA: 0s - loss: 0.6658 - accuracy: 0.79 - ETA: 0s - loss: 0.6660 - accuracy: 0.79 - ETA: 0s - loss: 0.6652 - accuracy: 0.79 - ETA: 0s - loss: 0.6658 - accuracy: 0.79 - ETA: 0s - loss: 0.6656 - accuracy: 0.79 - ETA: 0s - loss: 0.6650 - accuracy: 0.79 - ETA: 0s - loss: 0.6654 - accuracy: 0.79 - ETA: 0s - loss: 0.6649 - accuracy: 0.79 - ETA: 0s - loss: 0.6647 - accuracy: 0.79 - ETA: 0s - loss: 0.6644 - accuracy: 0.79 - ETA: 0s - loss: 0.6646 - accuracy: 0.79 - ETA: 0s - loss: 0.6652 - accuracy: 0.79 - ETA: 0s - loss: 0.6644 - accuracy: 0.79 - ETA: 0s - loss: 0.6636 - accuracy: 0.79 - ETA: 0s - loss: 0.6635 - accuracy: 0.79 - ETA: 0s - loss: 0.6635 - accuracy: 0.79 - ETA: 0s - loss: 0.6629 - accuracy: 0.79 - 2s 963us/step - loss: 0.6615 - accuracy: 0.7974 - val_loss: 0.6949 - val_accuracy: 0.7910\n",
      "Epoch 13/32\n",
      "2500/2500 [==============================] - ETA: 0s - loss: 0.9063 - accuracy: 0.78 - ETA: 2s - loss: 0.6583 - accuracy: 0.79 - ETA: 2s - loss: 0.6533 - accuracy: 0.80 - ETA: 2s - loss: 0.6473 - accuracy: 0.80 - ETA: 2s - loss: 0.6568 - accuracy: 0.80 - ETA: 1s - loss: 0.6545 - accuracy: 0.80 - ETA: 1s - loss: 0.6569 - accuracy: 0.80 - ETA: 1s - loss: 0.6540 - accuracy: 0.80 - ETA: 1s - loss: 0.6517 - accuracy: 0.80 - ETA: 1s - loss: 0.6544 - accuracy: 0.80 - ETA: 1s - loss: 0.6496 - accuracy: 0.80 - ETA: 1s - loss: 0.6463 - accuracy: 0.80 - ETA: 1s - loss: 0.6463 - accuracy: 0.80 - ETA: 1s - loss: 0.6451 - accuracy: 0.80 - ETA: 1s - loss: 0.6447 - accuracy: 0.80 - ETA: 1s - loss: 0.6437 - accuracy: 0.80 - ETA: 1s - loss: 0.6447 - accuracy: 0.80 - ETA: 1s - loss: 0.6464 - accuracy: 0.80 - ETA: 1s - loss: 0.6452 - accuracy: 0.80 - ETA: 1s - loss: 0.6455 - accuracy: 0.80 - ETA: 1s - loss: 0.6472 - accuracy: 0.80 - ETA: 1s - loss: 0.6471 - accuracy: 0.80 - ETA: 1s - loss: 0.6466 - accuracy: 0.80 - ETA: 1s - loss: 0.6467 - accuracy: 0.80 - ETA: 1s - loss: 0.6497 - accuracy: 0.80 - ETA: 0s - loss: 0.6502 - accuracy: 0.80 - ETA: 0s - loss: 0.6506 - accuracy: 0.80 - ETA: 0s - loss: 0.6525 - accuracy: 0.80 - ETA: 0s - loss: 0.6538 - accuracy: 0.80 - ETA: 0s - loss: 0.6538 - accuracy: 0.80 - ETA: 0s - loss: 0.6542 - accuracy: 0.80 - ETA: 0s - loss: 0.6551 - accuracy: 0.80 - ETA: 0s - loss: 0.6540 - accuracy: 0.80 - ETA: 0s - loss: 0.6534 - accuracy: 0.80 - ETA: 0s - loss: 0.6521 - accuracy: 0.80 - ETA: 0s - loss: 0.6533 - accuracy: 0.80 - ETA: 0s - loss: 0.6532 - accuracy: 0.80 - ETA: 0s - loss: 0.6533 - accuracy: 0.80 - ETA: 0s - loss: 0.6531 - accuracy: 0.80 - ETA: 0s - loss: 0.6531 - accuracy: 0.80 - ETA: 0s - loss: 0.6521 - accuracy: 0.80 - ETA: 0s - loss: 0.6523 - accuracy: 0.80 - ETA: 0s - loss: 0.6534 - accuracy: 0.80 - ETA: 0s - loss: 0.6528 - accuracy: 0.80 - ETA: 0s - loss: 0.6531 - accuracy: 0.80 - 2s 963us/step - loss: 0.6532 - accuracy: 0.8009 - val_loss: 0.6934 - val_accuracy: 0.7888\n",
      "Epoch 14/32\n",
      "2500/2500 [==============================] - ETA: 0s - loss: 0.3730 - accuracy: 0.87 - ETA: 2s - loss: 0.6936 - accuracy: 0.78 - ETA: 2s - loss: 0.6650 - accuracy: 0.79 - ETA: 2s - loss: 0.6586 - accuracy: 0.79 - ETA: 2s - loss: 0.6458 - accuracy: 0.80 - ETA: 1s - loss: 0.6496 - accuracy: 0.79 - ETA: 1s - loss: 0.6397 - accuracy: 0.80 - ETA: 1s - loss: 0.6383 - accuracy: 0.80 - ETA: 1s - loss: 0.6362 - accuracy: 0.80 - ETA: 1s - loss: 0.6350 - accuracy: 0.80 - ETA: 1s - loss: 0.6399 - accuracy: 0.80 - ETA: 1s - loss: 0.6396 - accuracy: 0.80 - ETA: 1s - loss: 0.6386 - accuracy: 0.80 - ETA: 1s - loss: 0.6380 - accuracy: 0.80 - ETA: 1s - loss: 0.6382 - accuracy: 0.80 - ETA: 1s - loss: 0.6389 - accuracy: 0.80 - ETA: 1s - loss: 0.6375 - accuracy: 0.80 - ETA: 1s - loss: 0.6408 - accuracy: 0.80 - ETA: 1s - loss: 0.6424 - accuracy: 0.80 - ETA: 1s - loss: 0.6413 - accuracy: 0.80 - ETA: 1s - loss: 0.6424 - accuracy: 0.80 - ETA: 1s - loss: 0.6432 - accuracy: 0.80 - ETA: 1s - loss: 0.6442 - accuracy: 0.80 - ETA: 1s - loss: 0.6454 - accuracy: 0.80 - ETA: 1s - loss: 0.6453 - accuracy: 0.80 - ETA: 0s - loss: 0.6463 - accuracy: 0.80 - ETA: 0s - loss: 0.6448 - accuracy: 0.80 - ETA: 0s - loss: 0.6455 - accuracy: 0.80 - ETA: 0s - loss: 0.6455 - accuracy: 0.80 - ETA: 0s - loss: 0.6470 - accuracy: 0.80 - ETA: 0s - loss: 0.6471 - accuracy: 0.80 - ETA: 0s - loss: 0.6474 - accuracy: 0.80 - ETA: 0s - loss: 0.6471 - accuracy: 0.80 - ETA: 0s - loss: 0.6466 - accuracy: 0.80 - ETA: 0s - loss: 0.6465 - accuracy: 0.80 - ETA: 0s - loss: 0.6472 - accuracy: 0.80 - ETA: 0s - loss: 0.6465 - accuracy: 0.80 - ETA: 0s - loss: 0.6457 - accuracy: 0.80 - ETA: 0s - loss: 0.6449 - accuracy: 0.80 - ETA: 0s - loss: 0.6453 - accuracy: 0.80 - ETA: 0s - loss: 0.6454 - accuracy: 0.80 - ETA: 0s - loss: 0.6454 - accuracy: 0.80 - ETA: 0s - loss: 0.6449 - accuracy: 0.80 - ETA: 0s - loss: 0.6452 - accuracy: 0.80 - ETA: 0s - loss: 0.6451 - accuracy: 0.80 - 2s 967us/step - loss: 0.6448 - accuracy: 0.8026 - val_loss: 0.6864 - val_accuracy: 0.7885\n",
      "Epoch 15/32\n",
      "2500/2500 [==============================] - ETA: 0s - loss: 0.7806 - accuracy: 0.78 - ETA: 2s - loss: 0.6128 - accuracy: 0.81 - ETA: 2s - loss: 0.6176 - accuracy: 0.81 - ETA: 2s - loss: 0.6218 - accuracy: 0.81 - ETA: 2s - loss: 0.6289 - accuracy: 0.81 - ETA: 1s - loss: 0.6320 - accuracy: 0.81 - ETA: 1s - loss: 0.6314 - accuracy: 0.81 - ETA: 1s - loss: 0.6302 - accuracy: 0.81 - ETA: 1s - loss: 0.6298 - accuracy: 0.81 - ETA: 1s - loss: 0.6303 - accuracy: 0.80 - ETA: 1s - loss: 0.6312 - accuracy: 0.80 - ETA: 1s - loss: 0.6273 - accuracy: 0.80 - ETA: 1s - loss: 0.6256 - accuracy: 0.80 - ETA: 1s - loss: 0.6299 - accuracy: 0.80 - ETA: 1s - loss: 0.6293 - accuracy: 0.80 - ETA: 1s - loss: 0.6305 - accuracy: 0.80 - ETA: 1s - loss: 0.6318 - accuracy: 0.80 - ETA: 1s - loss: 0.6309 - accuracy: 0.80 - ETA: 1s - loss: 0.6337 - accuracy: 0.80 - ETA: 1s - loss: 0.6320 - accuracy: 0.80 - ETA: 1s - loss: 0.6325 - accuracy: 0.80 - ETA: 1s - loss: 0.6319 - accuracy: 0.80 - ETA: 1s - loss: 0.6316 - accuracy: 0.80 - ETA: 1s - loss: 0.6347 - accuracy: 0.80 - ETA: 1s - loss: 0.6344 - accuracy: 0.80 - ETA: 0s - loss: 0.6347 - accuracy: 0.80 - ETA: 0s - loss: 0.6356 - accuracy: 0.80 - ETA: 0s - loss: 0.6362 - accuracy: 0.80 - ETA: 0s - loss: 0.6351 - accuracy: 0.80 - ETA: 0s - loss: 0.6355 - accuracy: 0.80 - ETA: 0s - loss: 0.6350 - accuracy: 0.80 - ETA: 0s - loss: 0.6351 - accuracy: 0.80 - ETA: 0s - loss: 0.6348 - accuracy: 0.80 - ETA: 0s - loss: 0.6347 - accuracy: 0.80 - ETA: 0s - loss: 0.6342 - accuracy: 0.80 - ETA: 0s - loss: 0.6339 - accuracy: 0.80 - ETA: 0s - loss: 0.6344 - accuracy: 0.80 - ETA: 0s - loss: 0.6352 - accuracy: 0.80 - ETA: 0s - loss: 0.6352 - accuracy: 0.80 - ETA: 0s - loss: 0.6354 - accuracy: 0.80 - ETA: 0s - loss: 0.6351 - accuracy: 0.80 - ETA: 0s - loss: 0.6348 - accuracy: 0.80 - ETA: 0s - loss: 0.6356 - accuracy: 0.80 - ETA: 0s - loss: 0.6362 - accuracy: 0.80 - ETA: 0s - loss: 0.6357 - accuracy: 0.80 - 2s 958us/step - loss: 0.6350 - accuracy: 0.8069 - val_loss: 0.6775 - val_accuracy: 0.7923\n",
      "Epoch 16/32\n",
      "2500/2500 [==============================] - ETA: 0s - loss: 0.4627 - accuracy: 0.81 - ETA: 2s - loss: 0.6099 - accuracy: 0.80 - ETA: 2s - loss: 0.6308 - accuracy: 0.80 - ETA: 2s - loss: 0.6143 - accuracy: 0.81 - ETA: 2s - loss: 0.6219 - accuracy: 0.81 - ETA: 1s - loss: 0.6255 - accuracy: 0.81 - ETA: 1s - loss: 0.6227 - accuracy: 0.81 - ETA: 1s - loss: 0.6237 - accuracy: 0.81 - ETA: 1s - loss: 0.6239 - accuracy: 0.81 - ETA: 1s - loss: 0.6228 - accuracy: 0.81 - ETA: 1s - loss: 0.6254 - accuracy: 0.81 - ETA: 1s - loss: 0.6237 - accuracy: 0.81 - ETA: 1s - loss: 0.6248 - accuracy: 0.81 - ETA: 1s - loss: 0.6279 - accuracy: 0.80 - ETA: 1s - loss: 0.6274 - accuracy: 0.80 - ETA: 1s - loss: 0.6254 - accuracy: 0.80 - ETA: 1s - loss: 0.6253 - accuracy: 0.80 - ETA: 1s - loss: 0.6247 - accuracy: 0.80 - ETA: 1s - loss: 0.6260 - accuracy: 0.80 - ETA: 1s - loss: 0.6271 - accuracy: 0.80 - ETA: 1s - loss: 0.6300 - accuracy: 0.80 - ETA: 1s - loss: 0.6311 - accuracy: 0.80 - ETA: 1s - loss: 0.6290 - accuracy: 0.80 - ETA: 1s - loss: 0.6286 - accuracy: 0.80 - ETA: 1s - loss: 0.6292 - accuracy: 0.80 - ETA: 0s - loss: 0.6291 - accuracy: 0.80 - ETA: 0s - loss: 0.6297 - accuracy: 0.80 - ETA: 0s - loss: 0.6296 - accuracy: 0.80 - ETA: 0s - loss: 0.6297 - accuracy: 0.80 - ETA: 0s - loss: 0.6294 - accuracy: 0.80 - ETA: 0s - loss: 0.6305 - accuracy: 0.80 - ETA: 0s - loss: 0.6307 - accuracy: 0.80 - ETA: 0s - loss: 0.6298 - accuracy: 0.80 - ETA: 0s - loss: 0.6295 - accuracy: 0.80 - ETA: 0s - loss: 0.6298 - accuracy: 0.80 - ETA: 0s - loss: 0.6280 - accuracy: 0.80 - ETA: 0s - loss: 0.6286 - accuracy: 0.80 - ETA: 0s - loss: 0.6284 - accuracy: 0.80 - ETA: 0s - loss: 0.6270 - accuracy: 0.80 - ETA: 0s - loss: 0.6272 - accuracy: 0.80 - ETA: 0s - loss: 0.6280 - accuracy: 0.80 - ETA: 0s - loss: 0.6289 - accuracy: 0.80 - ETA: 0s - loss: 0.6288 - accuracy: 0.80 - ETA: 0s - loss: 0.6291 - accuracy: 0.80 - ETA: 0s - loss: 0.6290 - accuracy: 0.80 - 2s 963us/step - loss: 0.6294 - accuracy: 0.8081 - val_loss: 0.6756 - val_accuracy: 0.7940\n",
      "Epoch 17/32\n",
      "2500/2500 [==============================] - ETA: 0s - loss: 0.9432 - accuracy: 0.62 - ETA: 2s - loss: 0.6886 - accuracy: 0.78 - ETA: 2s - loss: 0.6835 - accuracy: 0.79 - ETA: 2s - loss: 0.6565 - accuracy: 0.79 - ETA: 2s - loss: 0.6544 - accuracy: 0.79 - ETA: 1s - loss: 0.6480 - accuracy: 0.79 - ETA: 1s - loss: 0.6514 - accuracy: 0.79 - ETA: 1s - loss: 0.6457 - accuracy: 0.79 - ETA: 1s - loss: 0.6398 - accuracy: 0.80 - ETA: 1s - loss: 0.6402 - accuracy: 0.80 - ETA: 1s - loss: 0.6376 - accuracy: 0.80 - ETA: 1s - loss: 0.6335 - accuracy: 0.80 - ETA: 1s - loss: 0.6329 - accuracy: 0.80 - ETA: 1s - loss: 0.6366 - accuracy: 0.80 - ETA: 1s - loss: 0.6364 - accuracy: 0.80 - ETA: 1s - loss: 0.6362 - accuracy: 0.80 - ETA: 1s - loss: 0.6360 - accuracy: 0.80 - ETA: 1s - loss: 0.6347 - accuracy: 0.80 - ETA: 1s - loss: 0.6328 - accuracy: 0.80 - ETA: 1s - loss: 0.6291 - accuracy: 0.80 - ETA: 1s - loss: 0.6258 - accuracy: 0.80 - ETA: 1s - loss: 0.6274 - accuracy: 0.80 - ETA: 1s - loss: 0.6286 - accuracy: 0.80 - ETA: 1s - loss: 0.6273 - accuracy: 0.80 - ETA: 1s - loss: 0.6256 - accuracy: 0.80 - ETA: 0s - loss: 0.6261 - accuracy: 0.80 - ETA: 0s - loss: 0.6261 - accuracy: 0.80 - ETA: 0s - loss: 0.6265 - accuracy: 0.80 - ETA: 0s - loss: 0.6265 - accuracy: 0.80 - ETA: 0s - loss: 0.6279 - accuracy: 0.80 - ETA: 0s - loss: 0.6272 - accuracy: 0.80 - ETA: 0s - loss: 0.6258 - accuracy: 0.80 - ETA: 0s - loss: 0.6250 - accuracy: 0.80 - ETA: 0s - loss: 0.6247 - accuracy: 0.80 - ETA: 0s - loss: 0.6239 - accuracy: 0.80 - ETA: 0s - loss: 0.6237 - accuracy: 0.80 - ETA: 0s - loss: 0.6235 - accuracy: 0.80 - ETA: 0s - loss: 0.6237 - accuracy: 0.80 - ETA: 0s - loss: 0.6236 - accuracy: 0.80 - ETA: 0s - loss: 0.6220 - accuracy: 0.80 - ETA: 0s - loss: 0.6218 - accuracy: 0.80 - ETA: 0s - loss: 0.6221 - accuracy: 0.80 - ETA: 0s - loss: 0.6211 - accuracy: 0.81 - ETA: 0s - loss: 0.6220 - accuracy: 0.81 - ETA: 0s - loss: 0.6217 - accuracy: 0.81 - 2s 959us/step - loss: 0.6212 - accuracy: 0.8104 - val_loss: 0.6735 - val_accuracy: 0.7953\n",
      "Epoch 18/32\n",
      "2500/2500 [==============================] - ETA: 0s - loss: 0.8115 - accuracy: 0.78 - ETA: 2s - loss: 0.6599 - accuracy: 0.78 - ETA: 2s - loss: 0.6471 - accuracy: 0.80 - ETA: 2s - loss: 0.6359 - accuracy: 0.80 - ETA: 2s - loss: 0.6158 - accuracy: 0.81 - ETA: 1s - loss: 0.6144 - accuracy: 0.81 - ETA: 1s - loss: 0.6200 - accuracy: 0.81 - ETA: 1s - loss: 0.6126 - accuracy: 0.81 - ETA: 1s - loss: 0.6162 - accuracy: 0.81 - ETA: 1s - loss: 0.6102 - accuracy: 0.81 - ETA: 1s - loss: 0.6088 - accuracy: 0.81 - ETA: 1s - loss: 0.6119 - accuracy: 0.81 - ETA: 1s - loss: 0.6111 - accuracy: 0.81 - ETA: 1s - loss: 0.6104 - accuracy: 0.81 - ETA: 1s - loss: 0.6087 - accuracy: 0.81 - ETA: 1s - loss: 0.6100 - accuracy: 0.81 - ETA: 1s - loss: 0.6085 - accuracy: 0.81 - ETA: 1s - loss: 0.6087 - accuracy: 0.81 - ETA: 1s - loss: 0.6109 - accuracy: 0.81 - ETA: 1s - loss: 0.6117 - accuracy: 0.81 - ETA: 1s - loss: 0.6133 - accuracy: 0.81 - ETA: 1s - loss: 0.6131 - accuracy: 0.81 - ETA: 1s - loss: 0.6134 - accuracy: 0.81 - ETA: 1s - loss: 0.6130 - accuracy: 0.81 - ETA: 1s - loss: 0.6136 - accuracy: 0.81 - ETA: 1s - loss: 0.6137 - accuracy: 0.81 - ETA: 0s - loss: 0.6133 - accuracy: 0.81 - ETA: 0s - loss: 0.6123 - accuracy: 0.81 - ETA: 0s - loss: 0.6110 - accuracy: 0.81 - ETA: 0s - loss: 0.6111 - accuracy: 0.81 - ETA: 0s - loss: 0.6110 - accuracy: 0.81 - ETA: 0s - loss: 0.6110 - accuracy: 0.81 - ETA: 0s - loss: 0.6109 - accuracy: 0.81 - ETA: 0s - loss: 0.6100 - accuracy: 0.81 - ETA: 0s - loss: 0.6097 - accuracy: 0.81 - ETA: 0s - loss: 0.6105 - accuracy: 0.81 - ETA: 0s - loss: 0.6104 - accuracy: 0.81 - ETA: 0s - loss: 0.6110 - accuracy: 0.81 - ETA: 0s - loss: 0.6120 - accuracy: 0.81 - ETA: 0s - loss: 0.6124 - accuracy: 0.81 - ETA: 0s - loss: 0.6119 - accuracy: 0.81 - ETA: 0s - loss: 0.6123 - accuracy: 0.81 - ETA: 0s - loss: 0.6130 - accuracy: 0.81 - ETA: 0s - loss: 0.6133 - accuracy: 0.81 - ETA: 0s - loss: 0.6136 - accuracy: 0.81 - ETA: 0s - loss: 0.6133 - accuracy: 0.81 - 2s 969us/step - loss: 0.6134 - accuracy: 0.8125 - val_loss: 0.6669 - val_accuracy: 0.7986\n",
      "Epoch 19/32\n",
      "2500/2500 [==============================] - ETA: 0s - loss: 0.3209 - accuracy: 0.81 - ETA: 2s - loss: 0.5807 - accuracy: 0.82 - ETA: 2s - loss: 0.5942 - accuracy: 0.82 - ETA: 2s - loss: 0.5920 - accuracy: 0.81 - ETA: 1s - loss: 0.6069 - accuracy: 0.81 - ETA: 1s - loss: 0.6136 - accuracy: 0.81 - ETA: 1s - loss: 0.6100 - accuracy: 0.81 - ETA: 1s - loss: 0.6157 - accuracy: 0.81 - ETA: 1s - loss: 0.6154 - accuracy: 0.81 - ETA: 1s - loss: 0.6110 - accuracy: 0.81 - ETA: 1s - loss: 0.6071 - accuracy: 0.81 - ETA: 1s - loss: 0.6060 - accuracy: 0.81 - ETA: 1s - loss: 0.6062 - accuracy: 0.81 - ETA: 1s - loss: 0.6086 - accuracy: 0.81 - ETA: 1s - loss: 0.6053 - accuracy: 0.81 - ETA: 1s - loss: 0.6066 - accuracy: 0.81 - ETA: 1s - loss: 0.6090 - accuracy: 0.81 - ETA: 1s - loss: 0.6101 - accuracy: 0.81 - ETA: 1s - loss: 0.6095 - accuracy: 0.81 - ETA: 1s - loss: 0.6079 - accuracy: 0.81 - ETA: 1s - loss: 0.6075 - accuracy: 0.81 - ETA: 1s - loss: 0.6087 - accuracy: 0.81 - ETA: 1s - loss: 0.6082 - accuracy: 0.81 - ETA: 1s - loss: 0.6073 - accuracy: 0.81 - ETA: 1s - loss: 0.6083 - accuracy: 0.81 - ETA: 0s - loss: 0.6082 - accuracy: 0.81 - ETA: 0s - loss: 0.6083 - accuracy: 0.81 - ETA: 0s - loss: 0.6089 - accuracy: 0.81 - ETA: 0s - loss: 0.6081 - accuracy: 0.81 - ETA: 0s - loss: 0.6073 - accuracy: 0.81 - ETA: 0s - loss: 0.6073 - accuracy: 0.81 - ETA: 0s - loss: 0.6077 - accuracy: 0.81 - ETA: 0s - loss: 0.6078 - accuracy: 0.81 - ETA: 0s - loss: 0.6075 - accuracy: 0.81 - ETA: 0s - loss: 0.6082 - accuracy: 0.81 - ETA: 0s - loss: 0.6092 - accuracy: 0.81 - ETA: 0s - loss: 0.6093 - accuracy: 0.81 - ETA: 0s - loss: 0.6096 - accuracy: 0.81 - ETA: 0s - loss: 0.6108 - accuracy: 0.81 - ETA: 0s - loss: 0.6111 - accuracy: 0.81 - ETA: 0s - loss: 0.6104 - accuracy: 0.81 - ETA: 0s - loss: 0.6108 - accuracy: 0.81 - ETA: 0s - loss: 0.6107 - accuracy: 0.81 - ETA: 0s - loss: 0.6112 - accuracy: 0.81 - ETA: 0s - loss: 0.6104 - accuracy: 0.81 - 2s 967us/step - loss: 0.6111 - accuracy: 0.8147 - val_loss: 0.6696 - val_accuracy: 0.7976\n",
      "Epoch 20/32\n",
      "2500/2500 [==============================] - ETA: 0s - loss: 0.4372 - accuracy: 0.84 - ETA: 2s - loss: 0.6021 - accuracy: 0.81 - ETA: 2s - loss: 0.5810 - accuracy: 0.82 - ETA: 2s - loss: 0.6106 - accuracy: 0.81 - ETA: 2s - loss: 0.6205 - accuracy: 0.80 - ETA: 1s - loss: 0.6141 - accuracy: 0.81 - ETA: 1s - loss: 0.6154 - accuracy: 0.81 - ETA: 1s - loss: 0.6143 - accuracy: 0.81 - ETA: 1s - loss: 0.6161 - accuracy: 0.81 - ETA: 1s - loss: 0.6138 - accuracy: 0.81 - ETA: 1s - loss: 0.6128 - accuracy: 0.81 - ETA: 1s - loss: 0.6089 - accuracy: 0.81 - ETA: 1s - loss: 0.6068 - accuracy: 0.81 - ETA: 1s - loss: 0.6033 - accuracy: 0.81 - ETA: 1s - loss: 0.6024 - accuracy: 0.81 - ETA: 1s - loss: 0.6036 - accuracy: 0.81 - ETA: 1s - loss: 0.6041 - accuracy: 0.81 - ETA: 1s - loss: 0.6036 - accuracy: 0.81 - ETA: 1s - loss: 0.6019 - accuracy: 0.81 - ETA: 1s - loss: 0.6037 - accuracy: 0.81 - ETA: 1s - loss: 0.6030 - accuracy: 0.81 - ETA: 1s - loss: 0.6029 - accuracy: 0.81 - ETA: 1s - loss: 0.6031 - accuracy: 0.81 - ETA: 1s - loss: 0.6040 - accuracy: 0.81 - ETA: 1s - loss: 0.6045 - accuracy: 0.81 - ETA: 0s - loss: 0.6044 - accuracy: 0.81 - ETA: 0s - loss: 0.6041 - accuracy: 0.81 - ETA: 0s - loss: 0.6035 - accuracy: 0.81 - ETA: 0s - loss: 0.6039 - accuracy: 0.81 - ETA: 0s - loss: 0.6045 - accuracy: 0.81 - ETA: 0s - loss: 0.6043 - accuracy: 0.81 - ETA: 0s - loss: 0.6034 - accuracy: 0.81 - ETA: 0s - loss: 0.6034 - accuracy: 0.81 - ETA: 0s - loss: 0.6025 - accuracy: 0.81 - ETA: 0s - loss: 0.6035 - accuracy: 0.81 - ETA: 0s - loss: 0.6035 - accuracy: 0.81 - ETA: 0s - loss: 0.6037 - accuracy: 0.81 - ETA: 0s - loss: 0.6042 - accuracy: 0.81 - ETA: 0s - loss: 0.6042 - accuracy: 0.81 - ETA: 0s - loss: 0.6038 - accuracy: 0.81 - ETA: 0s - loss: 0.6038 - accuracy: 0.81 - ETA: 0s - loss: 0.6033 - accuracy: 0.81 - ETA: 0s - loss: 0.6030 - accuracy: 0.81 - ETA: 0s - loss: 0.6041 - accuracy: 0.81 - ETA: 0s - loss: 0.6035 - accuracy: 0.81 - 2s 956us/step - loss: 0.6032 - accuracy: 0.8160 - val_loss: 0.6610 - val_accuracy: 0.8009\n",
      "Epoch 21/32\n",
      "2500/2500 [==============================] - ETA: 0s - loss: 0.7708 - accuracy: 0.68 - ETA: 2s - loss: 0.6115 - accuracy: 0.81 - ETA: 2s - loss: 0.5951 - accuracy: 0.81 - ETA: 2s - loss: 0.5922 - accuracy: 0.81 - ETA: 2s - loss: 0.5907 - accuracy: 0.82 - ETA: 1s - loss: 0.5949 - accuracy: 0.81 - ETA: 1s - loss: 0.5954 - accuracy: 0.81 - ETA: 1s - loss: 0.5909 - accuracy: 0.82 - ETA: 1s - loss: 0.5922 - accuracy: 0.82 - ETA: 1s - loss: 0.5905 - accuracy: 0.82 - ETA: 1s - loss: 0.5892 - accuracy: 0.82 - ETA: 1s - loss: 0.5924 - accuracy: 0.82 - ETA: 1s - loss: 0.5880 - accuracy: 0.82 - ETA: 1s - loss: 0.5889 - accuracy: 0.82 - ETA: 1s - loss: 0.5898 - accuracy: 0.82 - ETA: 1s - loss: 0.5911 - accuracy: 0.82 - ETA: 1s - loss: 0.5888 - accuracy: 0.82 - ETA: 1s - loss: 0.5913 - accuracy: 0.82 - ETA: 1s - loss: 0.5925 - accuracy: 0.82 - ETA: 1s - loss: 0.5931 - accuracy: 0.82 - ETA: 1s - loss: 0.5944 - accuracy: 0.82 - ETA: 1s - loss: 0.5973 - accuracy: 0.81 - ETA: 1s - loss: 0.5961 - accuracy: 0.81 - ETA: 1s - loss: 0.5970 - accuracy: 0.81 - ETA: 1s - loss: 0.5964 - accuracy: 0.81 - ETA: 0s - loss: 0.5963 - accuracy: 0.81 - ETA: 0s - loss: 0.5974 - accuracy: 0.81 - ETA: 0s - loss: 0.5978 - accuracy: 0.81 - ETA: 0s - loss: 0.5972 - accuracy: 0.81 - ETA: 0s - loss: 0.5979 - accuracy: 0.81 - ETA: 0s - loss: 0.5978 - accuracy: 0.81 - ETA: 0s - loss: 0.5974 - accuracy: 0.81 - ETA: 0s - loss: 0.5978 - accuracy: 0.81 - ETA: 0s - loss: 0.5979 - accuracy: 0.81 - ETA: 0s - loss: 0.5996 - accuracy: 0.81 - ETA: 0s - loss: 0.5995 - accuracy: 0.81 - ETA: 0s - loss: 0.5987 - accuracy: 0.81 - ETA: 0s - loss: 0.5992 - accuracy: 0.81 - ETA: 0s - loss: 0.5982 - accuracy: 0.81 - ETA: 0s - loss: 0.5981 - accuracy: 0.81 - ETA: 0s - loss: 0.5984 - accuracy: 0.81 - ETA: 0s - loss: 0.5988 - accuracy: 0.81 - ETA: 0s - loss: 0.6006 - accuracy: 0.81 - ETA: 0s - loss: 0.5998 - accuracy: 0.81 - ETA: 0s - loss: 0.5992 - accuracy: 0.81 - 2s 963us/step - loss: 0.5997 - accuracy: 0.8184 - val_loss: 0.6680 - val_accuracy: 0.8014\n",
      "Epoch 22/32\n",
      "2500/2500 [==============================] - ETA: 0s - loss: 0.3893 - accuracy: 0.90 - ETA: 2s - loss: 0.5724 - accuracy: 0.82 - ETA: 2s - loss: 0.5928 - accuracy: 0.81 - ETA: 2s - loss: 0.5827 - accuracy: 0.81 - ETA: 1s - loss: 0.5883 - accuracy: 0.81 - ETA: 1s - loss: 0.5929 - accuracy: 0.81 - ETA: 1s - loss: 0.5970 - accuracy: 0.81 - ETA: 1s - loss: 0.5930 - accuracy: 0.81 - ETA: 1s - loss: 0.5924 - accuracy: 0.81 - ETA: 1s - loss: 0.5936 - accuracy: 0.81 - ETA: 1s - loss: 0.5928 - accuracy: 0.81 - ETA: 1s - loss: 0.5912 - accuracy: 0.81 - ETA: 1s - loss: 0.5899 - accuracy: 0.81 - ETA: 1s - loss: 0.5896 - accuracy: 0.81 - ETA: 1s - loss: 0.5897 - accuracy: 0.81 - ETA: 1s - loss: 0.5889 - accuracy: 0.82 - ETA: 1s - loss: 0.5889 - accuracy: 0.82 - ETA: 1s - loss: 0.5888 - accuracy: 0.82 - ETA: 1s - loss: 0.5857 - accuracy: 0.82 - ETA: 1s - loss: 0.5879 - accuracy: 0.82 - ETA: 1s - loss: 0.5870 - accuracy: 0.82 - ETA: 1s - loss: 0.5884 - accuracy: 0.82 - ETA: 1s - loss: 0.5893 - accuracy: 0.82 - ETA: 1s - loss: 0.5895 - accuracy: 0.81 - ETA: 1s - loss: 0.5895 - accuracy: 0.82 - ETA: 0s - loss: 0.5895 - accuracy: 0.81 - ETA: 0s - loss: 0.5890 - accuracy: 0.81 - ETA: 0s - loss: 0.5890 - accuracy: 0.81 - ETA: 0s - loss: 0.5880 - accuracy: 0.82 - ETA: 0s - loss: 0.5880 - accuracy: 0.82 - ETA: 0s - loss: 0.5890 - accuracy: 0.81 - ETA: 0s - loss: 0.5877 - accuracy: 0.81 - ETA: 0s - loss: 0.5879 - accuracy: 0.81 - ETA: 0s - loss: 0.5900 - accuracy: 0.81 - ETA: 0s - loss: 0.5923 - accuracy: 0.81 - ETA: 0s - loss: 0.5918 - accuracy: 0.81 - ETA: 0s - loss: 0.5924 - accuracy: 0.81 - ETA: 0s - loss: 0.5925 - accuracy: 0.81 - ETA: 0s - loss: 0.5927 - accuracy: 0.81 - ETA: 0s - loss: 0.5929 - accuracy: 0.81 - ETA: 0s - loss: 0.5934 - accuracy: 0.81 - ETA: 0s - loss: 0.5938 - accuracy: 0.81 - ETA: 0s - loss: 0.5936 - accuracy: 0.81 - ETA: 0s - loss: 0.5939 - accuracy: 0.81 - ETA: 0s - loss: 0.5940 - accuracy: 0.81 - 2s 955us/step - loss: 0.5947 - accuracy: 0.8181 - val_loss: 0.6640 - val_accuracy: 0.7992\n",
      "Epoch 23/32\n",
      "2500/2500 [==============================] - ETA: 0s - loss: 0.3796 - accuracy: 0.90 - ETA: 2s - loss: 0.5793 - accuracy: 0.82 - ETA: 2s - loss: 0.5848 - accuracy: 0.82 - ETA: 2s - loss: 0.5897 - accuracy: 0.82 - ETA: 2s - loss: 0.5830 - accuracy: 0.82 - ETA: 1s - loss: 0.5843 - accuracy: 0.82 - ETA: 1s - loss: 0.5835 - accuracy: 0.82 - ETA: 1s - loss: 0.5846 - accuracy: 0.82 - ETA: 1s - loss: 0.5876 - accuracy: 0.82 - ETA: 1s - loss: 0.5847 - accuracy: 0.82 - ETA: 1s - loss: 0.5860 - accuracy: 0.82 - ETA: 1s - loss: 0.5883 - accuracy: 0.81 - ETA: 1s - loss: 0.5882 - accuracy: 0.81 - ETA: 1s - loss: 0.5886 - accuracy: 0.81 - ETA: 1s - loss: 0.5924 - accuracy: 0.81 - ETA: 1s - loss: 0.5938 - accuracy: 0.81 - ETA: 1s - loss: 0.5954 - accuracy: 0.81 - ETA: 1s - loss: 0.5927 - accuracy: 0.81 - ETA: 1s - loss: 0.5936 - accuracy: 0.81 - ETA: 1s - loss: 0.5933 - accuracy: 0.81 - ETA: 1s - loss: 0.5914 - accuracy: 0.81 - ETA: 1s - loss: 0.5917 - accuracy: 0.81 - ETA: 1s - loss: 0.5901 - accuracy: 0.82 - ETA: 1s - loss: 0.5903 - accuracy: 0.82 - ETA: 1s - loss: 0.5906 - accuracy: 0.82 - ETA: 1s - loss: 0.5911 - accuracy: 0.81 - ETA: 0s - loss: 0.5919 - accuracy: 0.81 - ETA: 0s - loss: 0.5923 - accuracy: 0.81 - ETA: 0s - loss: 0.5943 - accuracy: 0.81 - ETA: 0s - loss: 0.5937 - accuracy: 0.81 - ETA: 0s - loss: 0.5934 - accuracy: 0.81 - ETA: 0s - loss: 0.5938 - accuracy: 0.81 - ETA: 0s - loss: 0.5931 - accuracy: 0.81 - ETA: 0s - loss: 0.5933 - accuracy: 0.81 - ETA: 0s - loss: 0.5928 - accuracy: 0.81 - ETA: 0s - loss: 0.5932 - accuracy: 0.81 - ETA: 0s - loss: 0.5929 - accuracy: 0.81 - ETA: 0s - loss: 0.5921 - accuracy: 0.81 - ETA: 0s - loss: 0.5921 - accuracy: 0.81 - ETA: 0s - loss: 0.5905 - accuracy: 0.81 - ETA: 0s - loss: 0.5897 - accuracy: 0.82 - ETA: 0s - loss: 0.5892 - accuracy: 0.82 - ETA: 0s - loss: 0.5879 - accuracy: 0.82 - ETA: 0s - loss: 0.5878 - accuracy: 0.82 - ETA: 0s - loss: 0.5879 - accuracy: 0.82 - ETA: 0s - loss: 0.5882 - accuracy: 0.82 - 2s 969us/step - loss: 0.5883 - accuracy: 0.8209 - val_loss: 0.6579 - val_accuracy: 0.8041\n",
      "Epoch 24/32\n",
      "2500/2500 [==============================] - ETA: 0s - loss: 0.4806 - accuracy: 0.87 - ETA: 2s - loss: 0.5498 - accuracy: 0.83 - ETA: 2s - loss: 0.5864 - accuracy: 0.82 - ETA: 2s - loss: 0.5891 - accuracy: 0.82 - ETA: 2s - loss: 0.5862 - accuracy: 0.82 - ETA: 1s - loss: 0.5931 - accuracy: 0.82 - ETA: 1s - loss: 0.5959 - accuracy: 0.82 - ETA: 1s - loss: 0.5966 - accuracy: 0.82 - ETA: 1s - loss: 0.5934 - accuracy: 0.82 - ETA: 1s - loss: 0.5908 - accuracy: 0.82 - ETA: 1s - loss: 0.5901 - accuracy: 0.82 - ETA: 1s - loss: 0.5856 - accuracy: 0.82 - ETA: 1s - loss: 0.5812 - accuracy: 0.82 - ETA: 1s - loss: 0.5867 - accuracy: 0.82 - ETA: 1s - loss: 0.5869 - accuracy: 0.82 - ETA: 1s - loss: 0.5846 - accuracy: 0.82 - ETA: 1s - loss: 0.5819 - accuracy: 0.82 - ETA: 1s - loss: 0.5808 - accuracy: 0.82 - ETA: 1s - loss: 0.5797 - accuracy: 0.82 - ETA: 1s - loss: 0.5816 - accuracy: 0.82 - ETA: 1s - loss: 0.5808 - accuracy: 0.82 - ETA: 1s - loss: 0.5801 - accuracy: 0.82 - ETA: 1s - loss: 0.5789 - accuracy: 0.82 - ETA: 1s - loss: 0.5779 - accuracy: 0.82 - ETA: 1s - loss: 0.5783 - accuracy: 0.82 - ETA: 0s - loss: 0.5796 - accuracy: 0.82 - ETA: 0s - loss: 0.5795 - accuracy: 0.82 - ETA: 0s - loss: 0.5810 - accuracy: 0.82 - ETA: 0s - loss: 0.5813 - accuracy: 0.82 - ETA: 0s - loss: 0.5807 - accuracy: 0.82 - ETA: 0s - loss: 0.5807 - accuracy: 0.82 - ETA: 0s - loss: 0.5791 - accuracy: 0.82 - ETA: 0s - loss: 0.5808 - accuracy: 0.82 - ETA: 0s - loss: 0.5800 - accuracy: 0.82 - ETA: 0s - loss: 0.5804 - accuracy: 0.82 - ETA: 0s - loss: 0.5796 - accuracy: 0.82 - ETA: 0s - loss: 0.5800 - accuracy: 0.82 - ETA: 0s - loss: 0.5806 - accuracy: 0.82 - ETA: 0s - loss: 0.5804 - accuracy: 0.82 - ETA: 0s - loss: 0.5818 - accuracy: 0.82 - ETA: 0s - loss: 0.5809 - accuracy: 0.82 - ETA: 0s - loss: 0.5798 - accuracy: 0.82 - ETA: 0s - loss: 0.5812 - accuracy: 0.82 - ETA: 0s - loss: 0.5820 - accuracy: 0.82 - ETA: 0s - loss: 0.5826 - accuracy: 0.82 - ETA: 0s - loss: 0.5826 - accuracy: 0.82 - 2s 969us/step - loss: 0.5824 - accuracy: 0.8231 - val_loss: 0.6554 - val_accuracy: 0.8032\n",
      "Epoch 25/32\n",
      "2500/2500 [==============================] - ETA: 0s - loss: 0.6394 - accuracy: 0.81 - ETA: 2s - loss: 0.5985 - accuracy: 0.82 - ETA: 2s - loss: 0.5833 - accuracy: 0.82 - ETA: 2s - loss: 0.5844 - accuracy: 0.82 - ETA: 1s - loss: 0.5743 - accuracy: 0.82 - ETA: 1s - loss: 0.5766 - accuracy: 0.82 - ETA: 1s - loss: 0.5810 - accuracy: 0.82 - ETA: 1s - loss: 0.5850 - accuracy: 0.82 - ETA: 1s - loss: 0.5836 - accuracy: 0.82 - ETA: 1s - loss: 0.5853 - accuracy: 0.82 - ETA: 1s - loss: 0.5846 - accuracy: 0.82 - ETA: 1s - loss: 0.5856 - accuracy: 0.82 - ETA: 1s - loss: 0.5865 - accuracy: 0.82 - ETA: 1s - loss: 0.5901 - accuracy: 0.82 - ETA: 1s - loss: 0.5904 - accuracy: 0.82 - ETA: 1s - loss: 0.5912 - accuracy: 0.82 - ETA: 1s - loss: 0.5913 - accuracy: 0.82 - ETA: 1s - loss: 0.5867 - accuracy: 0.82 - ETA: 1s - loss: 0.5855 - accuracy: 0.82 - ETA: 1s - loss: 0.5861 - accuracy: 0.82 - ETA: 1s - loss: 0.5850 - accuracy: 0.82 - ETA: 1s - loss: 0.5839 - accuracy: 0.82 - ETA: 1s - loss: 0.5854 - accuracy: 0.82 - ETA: 1s - loss: 0.5846 - accuracy: 0.82 - ETA: 1s - loss: 0.5829 - accuracy: 0.82 - ETA: 0s - loss: 0.5816 - accuracy: 0.82 - ETA: 0s - loss: 0.5809 - accuracy: 0.82 - ETA: 0s - loss: 0.5791 - accuracy: 0.82 - ETA: 0s - loss: 0.5801 - accuracy: 0.82 - ETA: 0s - loss: 0.5807 - accuracy: 0.82 - ETA: 0s - loss: 0.5796 - accuracy: 0.82 - ETA: 0s - loss: 0.5795 - accuracy: 0.82 - ETA: 0s - loss: 0.5783 - accuracy: 0.82 - ETA: 0s - loss: 0.5792 - accuracy: 0.82 - ETA: 0s - loss: 0.5788 - accuracy: 0.82 - ETA: 0s - loss: 0.5785 - accuracy: 0.82 - ETA: 0s - loss: 0.5784 - accuracy: 0.82 - ETA: 0s - loss: 0.5787 - accuracy: 0.82 - ETA: 0s - loss: 0.5792 - accuracy: 0.82 - ETA: 0s - loss: 0.5785 - accuracy: 0.82 - ETA: 0s - loss: 0.5797 - accuracy: 0.82 - ETA: 0s - loss: 0.5798 - accuracy: 0.82 - ETA: 0s - loss: 0.5798 - accuracy: 0.82 - ETA: 0s - loss: 0.5802 - accuracy: 0.82 - ETA: 0s - loss: 0.5807 - accuracy: 0.82 - 2s 958us/step - loss: 0.5807 - accuracy: 0.8231 - val_loss: 0.6549 - val_accuracy: 0.8042\n",
      "Epoch 26/32\n",
      "2500/2500 [==============================] - ETA: 0s - loss: 0.3753 - accuracy: 0.93 - ETA: 2s - loss: 0.5924 - accuracy: 0.81 - ETA: 2s - loss: 0.6032 - accuracy: 0.81 - ETA: 2s - loss: 0.5862 - accuracy: 0.82 - ETA: 2s - loss: 0.5900 - accuracy: 0.82 - ETA: 1s - loss: 0.5921 - accuracy: 0.82 - ETA: 1s - loss: 0.5881 - accuracy: 0.82 - ETA: 1s - loss: 0.5813 - accuracy: 0.82 - ETA: 1s - loss: 0.5777 - accuracy: 0.82 - ETA: 1s - loss: 0.5779 - accuracy: 0.82 - ETA: 1s - loss: 0.5801 - accuracy: 0.82 - ETA: 1s - loss: 0.5836 - accuracy: 0.82 - ETA: 1s - loss: 0.5859 - accuracy: 0.82 - ETA: 1s - loss: 0.5819 - accuracy: 0.82 - ETA: 1s - loss: 0.5789 - accuracy: 0.82 - ETA: 1s - loss: 0.5787 - accuracy: 0.82 - ETA: 1s - loss: 0.5809 - accuracy: 0.82 - ETA: 1s - loss: 0.5795 - accuracy: 0.82 - ETA: 1s - loss: 0.5777 - accuracy: 0.82 - ETA: 1s - loss: 0.5760 - accuracy: 0.82 - ETA: 1s - loss: 0.5764 - accuracy: 0.82 - ETA: 1s - loss: 0.5775 - accuracy: 0.82 - ETA: 1s - loss: 0.5761 - accuracy: 0.82 - ETA: 1s - loss: 0.5772 - accuracy: 0.82 - ETA: 1s - loss: 0.5761 - accuracy: 0.82 - ETA: 0s - loss: 0.5761 - accuracy: 0.82 - ETA: 0s - loss: 0.5765 - accuracy: 0.82 - ETA: 0s - loss: 0.5761 - accuracy: 0.82 - ETA: 0s - loss: 0.5760 - accuracy: 0.82 - ETA: 0s - loss: 0.5749 - accuracy: 0.82 - ETA: 0s - loss: 0.5747 - accuracy: 0.82 - ETA: 0s - loss: 0.5750 - accuracy: 0.82 - ETA: 0s - loss: 0.5763 - accuracy: 0.82 - ETA: 0s - loss: 0.5763 - accuracy: 0.82 - ETA: 0s - loss: 0.5758 - accuracy: 0.82 - ETA: 0s - loss: 0.5761 - accuracy: 0.82 - ETA: 0s - loss: 0.5756 - accuracy: 0.82 - ETA: 0s - loss: 0.5740 - accuracy: 0.82 - ETA: 0s - loss: 0.5739 - accuracy: 0.82 - ETA: 0s - loss: 0.5743 - accuracy: 0.82 - ETA: 0s - loss: 0.5752 - accuracy: 0.82 - ETA: 0s - loss: 0.5742 - accuracy: 0.82 - ETA: 0s - loss: 0.5733 - accuracy: 0.82 - ETA: 0s - loss: 0.5727 - accuracy: 0.82 - ETA: 0s - loss: 0.5729 - accuracy: 0.82 - ETA: 0s - loss: 0.5730 - accuracy: 0.82 - 2s 971us/step - loss: 0.5731 - accuracy: 0.8251 - val_loss: 0.6512 - val_accuracy: 0.8060\n",
      "Epoch 27/32\n",
      "2500/2500 [==============================] - ETA: 0s - loss: 0.5151 - accuracy: 0.81 - ETA: 2s - loss: 0.5772 - accuracy: 0.82 - ETA: 2s - loss: 0.5723 - accuracy: 0.82 - ETA: 2s - loss: 0.5775 - accuracy: 0.82 - ETA: 2s - loss: 0.5680 - accuracy: 0.82 - ETA: 1s - loss: 0.5657 - accuracy: 0.82 - ETA: 1s - loss: 0.5647 - accuracy: 0.82 - ETA: 1s - loss: 0.5630 - accuracy: 0.83 - ETA: 1s - loss: 0.5668 - accuracy: 0.82 - ETA: 1s - loss: 0.5665 - accuracy: 0.83 - ETA: 1s - loss: 0.5623 - accuracy: 0.83 - ETA: 1s - loss: 0.5636 - accuracy: 0.83 - ETA: 1s - loss: 0.5634 - accuracy: 0.82 - ETA: 1s - loss: 0.5625 - accuracy: 0.82 - ETA: 1s - loss: 0.5632 - accuracy: 0.82 - ETA: 1s - loss: 0.5631 - accuracy: 0.82 - ETA: 1s - loss: 0.5653 - accuracy: 0.82 - ETA: 1s - loss: 0.5667 - accuracy: 0.82 - ETA: 1s - loss: 0.5653 - accuracy: 0.82 - ETA: 1s - loss: 0.5662 - accuracy: 0.82 - ETA: 1s - loss: 0.5629 - accuracy: 0.82 - ETA: 1s - loss: 0.5631 - accuracy: 0.82 - ETA: 1s - loss: 0.5650 - accuracy: 0.82 - ETA: 1s - loss: 0.5657 - accuracy: 0.82 - ETA: 1s - loss: 0.5649 - accuracy: 0.82 - ETA: 0s - loss: 0.5659 - accuracy: 0.82 - ETA: 0s - loss: 0.5659 - accuracy: 0.82 - ETA: 0s - loss: 0.5661 - accuracy: 0.82 - ETA: 0s - loss: 0.5664 - accuracy: 0.82 - ETA: 0s - loss: 0.5640 - accuracy: 0.82 - ETA: 0s - loss: 0.5656 - accuracy: 0.82 - ETA: 0s - loss: 0.5661 - accuracy: 0.82 - ETA: 0s - loss: 0.5652 - accuracy: 0.82 - ETA: 0s - loss: 0.5655 - accuracy: 0.82 - ETA: 0s - loss: 0.5654 - accuracy: 0.82 - ETA: 0s - loss: 0.5654 - accuracy: 0.82 - ETA: 0s - loss: 0.5656 - accuracy: 0.82 - ETA: 0s - loss: 0.5652 - accuracy: 0.82 - ETA: 0s - loss: 0.5659 - accuracy: 0.82 - ETA: 0s - loss: 0.5668 - accuracy: 0.82 - ETA: 0s - loss: 0.5665 - accuracy: 0.82 - ETA: 0s - loss: 0.5672 - accuracy: 0.82 - ETA: 0s - loss: 0.5673 - accuracy: 0.82 - ETA: 0s - loss: 0.5681 - accuracy: 0.82 - ETA: 0s - loss: 0.5689 - accuracy: 0.82 - 2s 966us/step - loss: 0.5694 - accuracy: 0.8265 - val_loss: 0.6499 - val_accuracy: 0.8076\n",
      "Epoch 28/32\n",
      "2500/2500 [==============================] - ETA: 0s - loss: 0.3334 - accuracy: 0.90 - ETA: 2s - loss: 0.5591 - accuracy: 0.82 - ETA: 2s - loss: 0.5448 - accuracy: 0.83 - ETA: 2s - loss: 0.5533 - accuracy: 0.82 - ETA: 2s - loss: 0.5584 - accuracy: 0.83 - ETA: 1s - loss: 0.5573 - accuracy: 0.83 - ETA: 1s - loss: 0.5550 - accuracy: 0.83 - ETA: 1s - loss: 0.5561 - accuracy: 0.83 - ETA: 1s - loss: 0.5575 - accuracy: 0.83 - ETA: 1s - loss: 0.5550 - accuracy: 0.83 - ETA: 1s - loss: 0.5614 - accuracy: 0.82 - ETA: 1s - loss: 0.5622 - accuracy: 0.82 - ETA: 1s - loss: 0.5591 - accuracy: 0.82 - ETA: 1s - loss: 0.5585 - accuracy: 0.82 - ETA: 1s - loss: 0.5592 - accuracy: 0.82 - ETA: 1s - loss: 0.5588 - accuracy: 0.82 - ETA: 1s - loss: 0.5625 - accuracy: 0.82 - ETA: 1s - loss: 0.5639 - accuracy: 0.82 - ETA: 1s - loss: 0.5619 - accuracy: 0.82 - ETA: 1s - loss: 0.5630 - accuracy: 0.82 - ETA: 1s - loss: 0.5631 - accuracy: 0.82 - ETA: 1s - loss: 0.5621 - accuracy: 0.82 - ETA: 1s - loss: 0.5618 - accuracy: 0.82 - ETA: 1s - loss: 0.5639 - accuracy: 0.82 - ETA: 1s - loss: 0.5650 - accuracy: 0.82 - ETA: 0s - loss: 0.5656 - accuracy: 0.82 - ETA: 0s - loss: 0.5674 - accuracy: 0.82 - ETA: 0s - loss: 0.5672 - accuracy: 0.82 - ETA: 0s - loss: 0.5699 - accuracy: 0.82 - ETA: 0s - loss: 0.5693 - accuracy: 0.82 - ETA: 0s - loss: 0.5689 - accuracy: 0.82 - ETA: 0s - loss: 0.5670 - accuracy: 0.82 - ETA: 0s - loss: 0.5672 - accuracy: 0.82 - ETA: 0s - loss: 0.5667 - accuracy: 0.82 - ETA: 0s - loss: 0.5667 - accuracy: 0.82 - ETA: 0s - loss: 0.5656 - accuracy: 0.82 - ETA: 0s - loss: 0.5657 - accuracy: 0.82 - ETA: 0s - loss: 0.5647 - accuracy: 0.82 - ETA: 0s - loss: 0.5648 - accuracy: 0.82 - ETA: 0s - loss: 0.5647 - accuracy: 0.82 - ETA: 0s - loss: 0.5655 - accuracy: 0.82 - ETA: 0s - loss: 0.5643 - accuracy: 0.82 - ETA: 0s - loss: 0.5634 - accuracy: 0.82 - ETA: 0s - loss: 0.5643 - accuracy: 0.82 - ETA: 0s - loss: 0.5648 - accuracy: 0.82 - 2s 957us/step - loss: 0.5654 - accuracy: 0.8279 - val_loss: 0.6520 - val_accuracy: 0.8054\n",
      "Epoch 29/32\n",
      "2500/2500 [==============================] - ETA: 0s - loss: 0.4816 - accuracy: 0.81 - ETA: 2s - loss: 0.5695 - accuracy: 0.82 - ETA: 2s - loss: 0.5551 - accuracy: 0.83 - ETA: 2s - loss: 0.5450 - accuracy: 0.83 - ETA: 1s - loss: 0.5423 - accuracy: 0.83 - ETA: 1s - loss: 0.5505 - accuracy: 0.83 - ETA: 1s - loss: 0.5522 - accuracy: 0.83 - ETA: 1s - loss: 0.5528 - accuracy: 0.83 - ETA: 1s - loss: 0.5521 - accuracy: 0.83 - ETA: 1s - loss: 0.5517 - accuracy: 0.83 - ETA: 1s - loss: 0.5521 - accuracy: 0.83 - ETA: 1s - loss: 0.5566 - accuracy: 0.83 - ETA: 1s - loss: 0.5576 - accuracy: 0.83 - ETA: 1s - loss: 0.5593 - accuracy: 0.82 - ETA: 1s - loss: 0.5608 - accuracy: 0.82 - ETA: 1s - loss: 0.5639 - accuracy: 0.82 - ETA: 1s - loss: 0.5652 - accuracy: 0.82 - ETA: 1s - loss: 0.5655 - accuracy: 0.82 - ETA: 1s - loss: 0.5664 - accuracy: 0.82 - ETA: 1s - loss: 0.5651 - accuracy: 0.82 - ETA: 1s - loss: 0.5660 - accuracy: 0.82 - ETA: 1s - loss: 0.5667 - accuracy: 0.82 - ETA: 1s - loss: 0.5655 - accuracy: 0.82 - ETA: 1s - loss: 0.5640 - accuracy: 0.82 - ETA: 1s - loss: 0.5659 - accuracy: 0.82 - ETA: 0s - loss: 0.5663 - accuracy: 0.82 - ETA: 0s - loss: 0.5675 - accuracy: 0.82 - ETA: 0s - loss: 0.5654 - accuracy: 0.82 - ETA: 0s - loss: 0.5645 - accuracy: 0.82 - ETA: 0s - loss: 0.5650 - accuracy: 0.82 - ETA: 0s - loss: 0.5653 - accuracy: 0.82 - ETA: 0s - loss: 0.5652 - accuracy: 0.82 - ETA: 0s - loss: 0.5650 - accuracy: 0.82 - ETA: 0s - loss: 0.5656 - accuracy: 0.82 - ETA: 0s - loss: 0.5654 - accuracy: 0.82 - ETA: 0s - loss: 0.5650 - accuracy: 0.82 - ETA: 0s - loss: 0.5662 - accuracy: 0.82 - ETA: 0s - loss: 0.5659 - accuracy: 0.82 - ETA: 0s - loss: 0.5657 - accuracy: 0.82 - ETA: 0s - loss: 0.5661 - accuracy: 0.82 - ETA: 0s - loss: 0.5658 - accuracy: 0.82 - ETA: 0s - loss: 0.5650 - accuracy: 0.82 - ETA: 0s - loss: 0.5648 - accuracy: 0.82 - ETA: 0s - loss: 0.5649 - accuracy: 0.82 - ETA: 0s - loss: 0.5640 - accuracy: 0.82 - 2s 963us/step - loss: 0.5638 - accuracy: 0.8282 - val_loss: 0.6516 - val_accuracy: 0.8039\n",
      "Epoch 30/32\n",
      "2500/2500 [==============================] - ETA: 0s - loss: 0.4210 - accuracy: 0.90 - ETA: 2s - loss: 0.5577 - accuracy: 0.82 - ETA: 2s - loss: 0.5454 - accuracy: 0.83 - ETA: 2s - loss: 0.5361 - accuracy: 0.83 - ETA: 2s - loss: 0.5372 - accuracy: 0.83 - ETA: 1s - loss: 0.5489 - accuracy: 0.83 - ETA: 1s - loss: 0.5494 - accuracy: 0.83 - ETA: 1s - loss: 0.5483 - accuracy: 0.83 - ETA: 1s - loss: 0.5542 - accuracy: 0.83 - ETA: 1s - loss: 0.5522 - accuracy: 0.83 - ETA: 1s - loss: 0.5529 - accuracy: 0.83 - ETA: 1s - loss: 0.5523 - accuracy: 0.83 - ETA: 1s - loss: 0.5486 - accuracy: 0.83 - ETA: 1s - loss: 0.5502 - accuracy: 0.83 - ETA: 1s - loss: 0.5489 - accuracy: 0.83 - ETA: 1s - loss: 0.5506 - accuracy: 0.83 - ETA: 1s - loss: 0.5518 - accuracy: 0.83 - ETA: 1s - loss: 0.5522 - accuracy: 0.83 - ETA: 1s - loss: 0.5529 - accuracy: 0.83 - ETA: 1s - loss: 0.5530 - accuracy: 0.83 - ETA: 1s - loss: 0.5497 - accuracy: 0.83 - ETA: 1s - loss: 0.5505 - accuracy: 0.83 - ETA: 1s - loss: 0.5510 - accuracy: 0.83 - ETA: 1s - loss: 0.5499 - accuracy: 0.83 - ETA: 1s - loss: 0.5509 - accuracy: 0.83 - ETA: 0s - loss: 0.5496 - accuracy: 0.83 - ETA: 0s - loss: 0.5501 - accuracy: 0.83 - ETA: 0s - loss: 0.5501 - accuracy: 0.83 - ETA: 0s - loss: 0.5514 - accuracy: 0.83 - ETA: 0s - loss: 0.5512 - accuracy: 0.83 - ETA: 0s - loss: 0.5519 - accuracy: 0.83 - ETA: 0s - loss: 0.5529 - accuracy: 0.83 - ETA: 0s - loss: 0.5535 - accuracy: 0.83 - ETA: 0s - loss: 0.5547 - accuracy: 0.83 - ETA: 0s - loss: 0.5547 - accuracy: 0.83 - ETA: 0s - loss: 0.5556 - accuracy: 0.83 - ETA: 0s - loss: 0.5557 - accuracy: 0.83 - ETA: 0s - loss: 0.5564 - accuracy: 0.83 - ETA: 0s - loss: 0.5560 - accuracy: 0.83 - ETA: 0s - loss: 0.5556 - accuracy: 0.83 - ETA: 0s - loss: 0.5556 - accuracy: 0.83 - ETA: 0s - loss: 0.5553 - accuracy: 0.83 - ETA: 0s - loss: 0.5563 - accuracy: 0.83 - ETA: 0s - loss: 0.5557 - accuracy: 0.83 - ETA: 0s - loss: 0.5567 - accuracy: 0.83 - 2s 958us/step - loss: 0.5577 - accuracy: 0.8309 - val_loss: 0.6422 - val_accuracy: 0.8073\n",
      "Epoch 31/32\n",
      "2500/2500 [==============================] - ETA: 0s - loss: 0.8558 - accuracy: 0.71 - ETA: 2s - loss: 0.5678 - accuracy: 0.83 - ETA: 2s - loss: 0.5529 - accuracy: 0.83 - ETA: 2s - loss: 0.5486 - accuracy: 0.83 - ETA: 1s - loss: 0.5525 - accuracy: 0.83 - ETA: 1s - loss: 0.5637 - accuracy: 0.82 - ETA: 1s - loss: 0.5601 - accuracy: 0.83 - ETA: 1s - loss: 0.5615 - accuracy: 0.82 - ETA: 1s - loss: 0.5632 - accuracy: 0.82 - ETA: 1s - loss: 0.5640 - accuracy: 0.82 - ETA: 1s - loss: 0.5646 - accuracy: 0.82 - ETA: 1s - loss: 0.5574 - accuracy: 0.82 - ETA: 1s - loss: 0.5555 - accuracy: 0.83 - ETA: 1s - loss: 0.5577 - accuracy: 0.82 - ETA: 1s - loss: 0.5597 - accuracy: 0.82 - ETA: 1s - loss: 0.5593 - accuracy: 0.82 - ETA: 1s - loss: 0.5589 - accuracy: 0.82 - ETA: 1s - loss: 0.5590 - accuracy: 0.82 - ETA: 1s - loss: 0.5581 - accuracy: 0.83 - ETA: 1s - loss: 0.5566 - accuracy: 0.83 - ETA: 1s - loss: 0.5529 - accuracy: 0.83 - ETA: 1s - loss: 0.5513 - accuracy: 0.83 - ETA: 1s - loss: 0.5519 - accuracy: 0.83 - ETA: 1s - loss: 0.5540 - accuracy: 0.83 - ETA: 1s - loss: 0.5528 - accuracy: 0.83 - ETA: 1s - loss: 0.5526 - accuracy: 0.83 - ETA: 0s - loss: 0.5546 - accuracy: 0.83 - ETA: 0s - loss: 0.5538 - accuracy: 0.83 - ETA: 0s - loss: 0.5525 - accuracy: 0.83 - ETA: 0s - loss: 0.5534 - accuracy: 0.83 - ETA: 0s - loss: 0.5532 - accuracy: 0.83 - ETA: 0s - loss: 0.5528 - accuracy: 0.83 - ETA: 0s - loss: 0.5524 - accuracy: 0.83 - ETA: 0s - loss: 0.5519 - accuracy: 0.83 - ETA: 0s - loss: 0.5517 - accuracy: 0.83 - ETA: 0s - loss: 0.5524 - accuracy: 0.83 - ETA: 0s - loss: 0.5527 - accuracy: 0.83 - ETA: 0s - loss: 0.5529 - accuracy: 0.83 - ETA: 0s - loss: 0.5538 - accuracy: 0.83 - ETA: 0s - loss: 0.5541 - accuracy: 0.83 - ETA: 0s - loss: 0.5541 - accuracy: 0.83 - ETA: 0s - loss: 0.5541 - accuracy: 0.83 - ETA: 0s - loss: 0.5548 - accuracy: 0.83 - ETA: 0s - loss: 0.5551 - accuracy: 0.83 - ETA: 0s - loss: 0.5550 - accuracy: 0.83 - 2s 967us/step - loss: 0.5550 - accuracy: 0.8313 - val_loss: 0.6422 - val_accuracy: 0.8094\n",
      "Epoch 32/32\n",
      "2500/2500 [==============================] - ETA: 0s - loss: 0.3789 - accuracy: 0.90 - ETA: 2s - loss: 0.5222 - accuracy: 0.84 - ETA: 2s - loss: 0.5296 - accuracy: 0.84 - ETA: 2s - loss: 0.5412 - accuracy: 0.84 - ETA: 1s - loss: 0.5506 - accuracy: 0.83 - ETA: 1s - loss: 0.5484 - accuracy: 0.83 - ETA: 1s - loss: 0.5455 - accuracy: 0.83 - ETA: 1s - loss: 0.5485 - accuracy: 0.83 - ETA: 1s - loss: 0.5477 - accuracy: 0.83 - ETA: 1s - loss: 0.5412 - accuracy: 0.83 - ETA: 1s - loss: 0.5414 - accuracy: 0.83 - ETA: 1s - loss: 0.5425 - accuracy: 0.83 - ETA: 1s - loss: 0.5470 - accuracy: 0.83 - ETA: 1s - loss: 0.5458 - accuracy: 0.83 - ETA: 1s - loss: 0.5492 - accuracy: 0.83 - ETA: 1s - loss: 0.5493 - accuracy: 0.83 - ETA: 1s - loss: 0.5490 - accuracy: 0.83 - ETA: 1s - loss: 0.5487 - accuracy: 0.83 - ETA: 1s - loss: 0.5496 - accuracy: 0.83 - ETA: 1s - loss: 0.5487 - accuracy: 0.83 - ETA: 1s - loss: 0.5481 - accuracy: 0.83 - ETA: 1s - loss: 0.5512 - accuracy: 0.83 - ETA: 1s - loss: 0.5506 - accuracy: 0.83 - ETA: 1s - loss: 0.5501 - accuracy: 0.83 - ETA: 1s - loss: 0.5499 - accuracy: 0.83 - ETA: 0s - loss: 0.5500 - accuracy: 0.83 - ETA: 0s - loss: 0.5495 - accuracy: 0.83 - ETA: 0s - loss: 0.5500 - accuracy: 0.83 - ETA: 0s - loss: 0.5479 - accuracy: 0.83 - ETA: 0s - loss: 0.5481 - accuracy: 0.83 - ETA: 0s - loss: 0.5482 - accuracy: 0.83 - ETA: 0s - loss: 0.5477 - accuracy: 0.83 - ETA: 0s - loss: 0.5481 - accuracy: 0.83 - ETA: 0s - loss: 0.5478 - accuracy: 0.83 - ETA: 0s - loss: 0.5472 - accuracy: 0.83 - ETA: 0s - loss: 0.5482 - accuracy: 0.83 - ETA: 0s - loss: 0.5480 - accuracy: 0.83 - ETA: 0s - loss: 0.5485 - accuracy: 0.83 - ETA: 0s - loss: 0.5487 - accuracy: 0.83 - ETA: 0s - loss: 0.5489 - accuracy: 0.83 - ETA: 0s - loss: 0.5487 - accuracy: 0.83 - ETA: 0s - loss: 0.5504 - accuracy: 0.83 - ETA: 0s - loss: 0.5505 - accuracy: 0.83 - ETA: 0s - loss: 0.5505 - accuracy: 0.83 - ETA: 0s - loss: 0.5514 - accuracy: 0.83 - 2s 965us/step - loss: 0.5510 - accuracy: 0.8319 - val_loss: 0.6428 - val_accuracy: 0.8105\n"
     ]
    },
    {
     "data": {
      "text/html": [
       "<span style=\"color:#4527A0\"><h1 style=\"font-size:18px\">Trial complete</h1></span>"
      ],
      "text/plain": [
       "<IPython.core.display.HTML object>"
      ]
     },
     "metadata": {},
     "output_type": "display_data"
    },
    {
     "data": {
      "text/html": [
       "<span style=\"color:#4527A0\"><h1 style=\"font-size:18px\">Trial summary</h1></span>"
      ],
      "text/plain": [
       "<IPython.core.display.HTML object>"
      ]
     },
     "metadata": {},
     "output_type": "display_data"
    },
    {
     "data": {
      "text/html": [
       "<span style=\"color:cyan\"> |-Trial ID: 3af112b7a803bf8f7d9dd2685bf029ac</span>"
      ],
      "text/plain": [
       "<IPython.core.display.HTML object>"
      ]
     },
     "metadata": {},
     "output_type": "display_data"
    },
    {
     "data": {
      "text/html": [
       "<span style=\"color:cyan\"> |-Score: 0.8120666742324829</span>"
      ],
      "text/plain": [
       "<IPython.core.display.HTML object>"
      ]
     },
     "metadata": {},
     "output_type": "display_data"
    },
    {
     "data": {
      "text/html": [
       "<span style=\"color:cyan\"> |-Best step: 0</span>"
      ],
      "text/plain": [
       "<IPython.core.display.HTML object>"
      ]
     },
     "metadata": {},
     "output_type": "display_data"
    },
    {
     "data": {
      "text/html": [
       "<span style=\"color:#7E57C2\"><h2 style=\"font-size:16px\">Hyperparameters:</h2></span>"
      ],
      "text/plain": [
       "<IPython.core.display.HTML object>"
      ]
     },
     "metadata": {},
     "output_type": "display_data"
    },
    {
     "data": {
      "text/html": [
       "<span style=\"color:cyan\"> |-learning_rate: 0.001</span>"
      ],
      "text/plain": [
       "<IPython.core.display.HTML object>"
      ]
     },
     "metadata": {},
     "output_type": "display_data"
    },
    {
     "data": {
      "text/html": [
       "<span style=\"color:blue\"> |-units: 64</span>"
      ],
      "text/plain": [
       "<IPython.core.display.HTML object>"
      ]
     },
     "metadata": {},
     "output_type": "display_data"
    },
    {
     "name": "stdout",
     "output_type": "stream",
     "text": [
      "INFO:tensorflow:Oracle triggered exit\n"
     ]
    }
   ],
   "source": [
    "tuner.search(X_train, y_train,\n",
    "             epochs=32,batch_size=32,\n",
    "             validation_data=(X_test, y_test))"
   ]
  },
  {
   "cell_type": "code",
   "execution_count": 55,
   "metadata": {},
   "outputs": [
    {
     "data": {
      "text/html": [
       "<span style=\"color:#4527A0\"><h1 style=\"font-size:18px\">Results summary</h1></span>"
      ],
      "text/plain": [
       "<IPython.core.display.HTML object>"
      ]
     },
     "metadata": {},
     "output_type": "display_data"
    },
    {
     "data": {
      "text/html": [
       "<span style=\"color:cyan\"> |-Results in keras-tuner-trial6\\helloworld</span>"
      ],
      "text/plain": [
       "<IPython.core.display.HTML object>"
      ]
     },
     "metadata": {},
     "output_type": "display_data"
    },
    {
     "data": {
      "text/html": [
       "<span style=\"color:cyan\"> |-Showing 10 best trials</span>"
      ],
      "text/plain": [
       "<IPython.core.display.HTML object>"
      ]
     },
     "metadata": {},
     "output_type": "display_data"
    },
    {
     "data": {
      "text/html": [
       "<span style=\"color:cyan\"> |-Objective(name='val_accuracy', direction='max')</span>"
      ],
      "text/plain": [
       "<IPython.core.display.HTML object>"
      ]
     },
     "metadata": {},
     "output_type": "display_data"
    },
    {
     "data": {
      "text/html": [
       "<span style=\"color:#4527A0\"><h1 style=\"font-size:18px\">Trial summary</h1></span>"
      ],
      "text/plain": [
       "<IPython.core.display.HTML object>"
      ]
     },
     "metadata": {},
     "output_type": "display_data"
    },
    {
     "data": {
      "text/html": [
       "<span style=\"color:cyan\"> |-Trial ID: 3af112b7a803bf8f7d9dd2685bf029ac</span>"
      ],
      "text/plain": [
       "<IPython.core.display.HTML object>"
      ]
     },
     "metadata": {},
     "output_type": "display_data"
    },
    {
     "data": {
      "text/html": [
       "<span style=\"color:cyan\"> |-Score: 0.8120666742324829</span>"
      ],
      "text/plain": [
       "<IPython.core.display.HTML object>"
      ]
     },
     "metadata": {},
     "output_type": "display_data"
    },
    {
     "data": {
      "text/html": [
       "<span style=\"color:cyan\"> |-Best step: 0</span>"
      ],
      "text/plain": [
       "<IPython.core.display.HTML object>"
      ]
     },
     "metadata": {},
     "output_type": "display_data"
    },
    {
     "data": {
      "text/html": [
       "<span style=\"color:#7E57C2\"><h2 style=\"font-size:16px\">Hyperparameters:</h2></span>"
      ],
      "text/plain": [
       "<IPython.core.display.HTML object>"
      ]
     },
     "metadata": {},
     "output_type": "display_data"
    },
    {
     "data": {
      "text/html": [
       "<span style=\"color:cyan\"> |-learning_rate: 0.001</span>"
      ],
      "text/plain": [
       "<IPython.core.display.HTML object>"
      ]
     },
     "metadata": {},
     "output_type": "display_data"
    },
    {
     "data": {
      "text/html": [
       "<span style=\"color:blue\"> |-units: 64</span>"
      ],
      "text/plain": [
       "<IPython.core.display.HTML object>"
      ]
     },
     "metadata": {},
     "output_type": "display_data"
    },
    {
     "data": {
      "text/html": [
       "<span style=\"color:#4527A0\"><h1 style=\"font-size:18px\">Trial summary</h1></span>"
      ],
      "text/plain": [
       "<IPython.core.display.HTML object>"
      ]
     },
     "metadata": {},
     "output_type": "display_data"
    },
    {
     "data": {
      "text/html": [
       "<span style=\"color:cyan\"> |-Trial ID: 9f55c8f4a811d5526de4e0694707937f</span>"
      ],
      "text/plain": [
       "<IPython.core.display.HTML object>"
      ]
     },
     "metadata": {},
     "output_type": "display_data"
    },
    {
     "data": {
      "text/html": [
       "<span style=\"color:cyan\"> |-Score: 0.7822666764259338</span>"
      ],
      "text/plain": [
       "<IPython.core.display.HTML object>"
      ]
     },
     "metadata": {},
     "output_type": "display_data"
    },
    {
     "data": {
      "text/html": [
       "<span style=\"color:cyan\"> |-Best step: 0</span>"
      ],
      "text/plain": [
       "<IPython.core.display.HTML object>"
      ]
     },
     "metadata": {},
     "output_type": "display_data"
    },
    {
     "data": {
      "text/html": [
       "<span style=\"color:#7E57C2\"><h2 style=\"font-size:16px\">Hyperparameters:</h2></span>"
      ],
      "text/plain": [
       "<IPython.core.display.HTML object>"
      ]
     },
     "metadata": {},
     "output_type": "display_data"
    },
    {
     "data": {
      "text/html": [
       "<span style=\"color:cyan\"> |-learning_rate: 0.001</span>"
      ],
      "text/plain": [
       "<IPython.core.display.HTML object>"
      ]
     },
     "metadata": {},
     "output_type": "display_data"
    },
    {
     "data": {
      "text/html": [
       "<span style=\"color:blue\"> |-units: 32</span>"
      ],
      "text/plain": [
       "<IPython.core.display.HTML object>"
      ]
     },
     "metadata": {},
     "output_type": "display_data"
    }
   ],
   "source": [
    "tuner.results_summary()"
   ]
  },
  {
   "cell_type": "markdown",
   "metadata": {
    "colab_type": "text",
    "id": "LKbr1gRg9BXs"
   },
   "source": [
    "### Stretch Goals\n",
    "- Implement Bayesian Hyper-parameter Optimization\n",
    "- Select a new dataset and apply a neural network to it.\n",
    "- Use a cloud base experiment tracking framework such as weights and biases\n",
    "- Research potential architecture ideas for this problem. Try Lenet-10 for example. "
   ]
  }
 ],
 "metadata": {
  "colab": {
   "collapsed_sections": [],
   "name": "LS_DS_433_Tune_Assignment.ipynb",
   "provenance": []
  },
  "kernelspec": {
   "display_name": "U4-S1-NLP (Python3)",
   "language": "python",
   "name": "u4-s1-nlp"
  },
  "language_info": {
   "codemirror_mode": {
    "name": "ipython",
    "version": 3
   },
   "file_extension": ".py",
   "mimetype": "text/x-python",
   "name": "python",
   "nbconvert_exporter": "python",
   "pygments_lexer": "ipython3",
   "version": "3.7.0"
  },
  "nteract": {
   "version": "0.22.4"
  }
 },
 "nbformat": 4,
 "nbformat_minor": 4
}
